{
 "cells": [
  {
   "cell_type": "code",
   "execution_count": 1,
   "metadata": {},
   "outputs": [],
   "source": [
    "import numpy as np\n",
    "import pandas as pd\n",
    "import datetime\n",
    "from sqlalchemy import create_engine\n",
    "import plotly.express as px\n",
    "from database_utils import add_new_unl, add_new_dot, clean_unleashed, clean_dot, get_level_2"
   ]
  },
  {
   "cell_type": "code",
   "execution_count": 2,
   "metadata": {},
   "outputs": [],
   "source": [
    "# database connection\n",
    "\n",
    "db_password = \"UnitCircle42!\"\n",
    "db_user = \"postgres\"\n",
    "db_name = \"dot\"\n",
    "endpoint = \"awakedb.cre3f7yk1unp.us-west-1.rds.amazonaws.com\"\n",
    "\n",
    "connection_string = f\"postgresql://{db_user}:{db_password}@{endpoint}:5432/{db_name}\"\n",
    "engine = create_engine(connection_string)"
   ]
  },
  {
   "cell_type": "code",
   "execution_count": 20,
   "metadata": {},
   "outputs": [],
   "source": [
    "## PASTE 2 FILES BELOW AND UPDATE ALL TABLES\n",
    "\n",
    "unl_download = r\"C:\\Users\\mikej\\Downloads\\SalesEnquiryList - 2024-03-21T065414.584.xlsx\" ### file download from unleashed\n",
    "dot_download = r\"C:\\Users\\mikej\\Downloads\\SHOP Supplier Reporting - Invoice Details Excel - 2024-03-21T065444.531.xlsx\"  ### file download from dot\n",
    "\n",
    "# add_new_unl(unl_download)  ## adds new direct purchases to raw database\n",
    "add_new_dot(dot_download)  ## adds new indirect purchases to raw database\n",
    "\n",
    "# clean_unleashed()          ## clean raw direct purchases and add to clean directdb\n",
    "clean_dot()                ## clean raw indirect purchases and add to clean indirect db\n",
    "get_level_2()              ## combine clean direct/indirect and populate level_2 db  --  dot invisible"
   ]
  },
  {
   "cell_type": "code",
   "execution_count": 21,
   "metadata": {},
   "outputs": [],
   "source": [
    "# create level_1.csv for internal use\n",
    "\n",
    "level_1 = pd.read_sql(\"SELECT * FROM unleashed_raw WHERE completed_date > '2022-12-31';\", con = engine)\n",
    "level_1.to_csv(r\"C:/Users/mikej/Desktop/cpg-sales/data/l1.csv\", index=False)"
   ]
  },
  {
   "cell_type": "code",
   "execution_count": 22,
   "metadata": {},
   "outputs": [],
   "source": [
    "### updating all_sales_data.csv in \"data\" directory\n",
    "\n",
    "level_2 = pd.read_sql(\"SELECT * FROM level_2 WHERE date > '2020-12-31';\", con = engine)\n",
    "level_2 = level_2[level_2.market_segment != 'Samples']\n",
    "level_2.to_csv(r\"C:/Users/mikej/Desktop/cpg-sales/data/all_sales_data.csv\", index=False)"
   ]
  },
  {
   "cell_type": "code",
   "execution_count": 23,
   "metadata": {},
   "outputs": [
    {
     "data": {
      "text/html": [
       "<div>\n",
       "<style scoped>\n",
       "    .dataframe tbody tr th:only-of-type {\n",
       "        vertical-align: middle;\n",
       "    }\n",
       "\n",
       "    .dataframe tbody tr th {\n",
       "        vertical-align: top;\n",
       "    }\n",
       "\n",
       "    .dataframe thead th {\n",
       "        text-align: right;\n",
       "    }\n",
       "</style>\n",
       "<table border=\"1\" class=\"dataframe\">\n",
       "  <thead>\n",
       "    <tr style=\"text-align: right;\">\n",
       "      <th></th>\n",
       "      <th>date</th>\n",
       "      <th>sale_origin</th>\n",
       "      <th>market_segment</th>\n",
       "      <th>parent_customer</th>\n",
       "      <th>customer</th>\n",
       "      <th>item</th>\n",
       "      <th>qty</th>\n",
       "      <th>usd</th>\n",
       "      <th>cad</th>\n",
       "      <th>month</th>\n",
       "      <th>year</th>\n",
       "    </tr>\n",
       "  </thead>\n",
       "  <tbody>\n",
       "    <tr>\n",
       "      <th>0</th>\n",
       "      <td>2024-03-20</td>\n",
       "      <td>dot</td>\n",
       "      <td>Alternate Retail</td>\n",
       "      <td>Kelli's Gift Shop Supplies</td>\n",
       "      <td>KELLI'S GIFT SHOP SUPPLIE</td>\n",
       "      <td>CAFFEINATED CHOCOLATE BITES SINGLES</td>\n",
       "      <td>-14.0</td>\n",
       "      <td>-1579.20</td>\n",
       "      <td>-2100.34</td>\n",
       "      <td>March</td>\n",
       "      <td>2024</td>\n",
       "    </tr>\n",
       "    <tr>\n",
       "      <th>1</th>\n",
       "      <td>2024-03-20</td>\n",
       "      <td>dot</td>\n",
       "      <td>Broadline Distributor</td>\n",
       "      <td>US Foods</td>\n",
       "      <td>USF/CONNECTICUT-USF DIREC</td>\n",
       "      <td>AWAKE CHOCOLATE AWAKE CAFF MILK CHOC- 6X12PK M...</td>\n",
       "      <td>1.0</td>\n",
       "      <td>85.54</td>\n",
       "      <td>113.77</td>\n",
       "      <td>March</td>\n",
       "      <td>2024</td>\n",
       "    </tr>\n",
       "    <tr>\n",
       "      <th>2</th>\n",
       "      <td>2024-03-20</td>\n",
       "      <td>dot</td>\n",
       "      <td>Alternate Retail</td>\n",
       "      <td>Kelli's Gift Shop Supplies</td>\n",
       "      <td>KELLI'S GIFT SHOP SUPPLIE</td>\n",
       "      <td>AWAKE CHOCOLATE AWAKE CAFF DARK CHOC- 6X12PK M...</td>\n",
       "      <td>-4.0</td>\n",
       "      <td>-273.84</td>\n",
       "      <td>-364.21</td>\n",
       "      <td>March</td>\n",
       "      <td>2024</td>\n",
       "    </tr>\n",
       "    <tr>\n",
       "      <th>3</th>\n",
       "      <td>2024-03-20</td>\n",
       "      <td>dot</td>\n",
       "      <td>Alternate Retail</td>\n",
       "      <td>Kelli's Gift Shop Supplies</td>\n",
       "      <td>KELLI'S GIFT SHOP SUPPLIE</td>\n",
       "      <td>CAFFEINATED CHOCOLATE BITES SINGLES CARAMEL</td>\n",
       "      <td>-18.0</td>\n",
       "      <td>-2030.40</td>\n",
       "      <td>-2700.43</td>\n",
       "      <td>March</td>\n",
       "      <td>2024</td>\n",
       "    </tr>\n",
       "    <tr>\n",
       "      <th>4</th>\n",
       "      <td>2024-03-20</td>\n",
       "      <td>dot</td>\n",
       "      <td>Alternate Retail</td>\n",
       "      <td>Kelli's Gift Shop Supplies</td>\n",
       "      <td>KELLI'S GIFT SHOP SUPPLIE</td>\n",
       "      <td>CAFFEINATED CHOCOLATE BITES SINGLES DARK</td>\n",
       "      <td>-16.0</td>\n",
       "      <td>-1804.80</td>\n",
       "      <td>-2400.38</td>\n",
       "      <td>March</td>\n",
       "      <td>2024</td>\n",
       "    </tr>\n",
       "  </tbody>\n",
       "</table>\n",
       "</div>"
      ],
      "text/plain": [
       "         date sale_origin         market_segment             parent_customer  \\\n",
       "0  2024-03-20         dot       Alternate Retail  Kelli's Gift Shop Supplies   \n",
       "1  2024-03-20         dot  Broadline Distributor                    US Foods   \n",
       "2  2024-03-20         dot       Alternate Retail  Kelli's Gift Shop Supplies   \n",
       "3  2024-03-20         dot       Alternate Retail  Kelli's Gift Shop Supplies   \n",
       "4  2024-03-20         dot       Alternate Retail  Kelli's Gift Shop Supplies   \n",
       "\n",
       "                    customer  \\\n",
       "0  KELLI'S GIFT SHOP SUPPLIE   \n",
       "1  USF/CONNECTICUT-USF DIREC   \n",
       "2  KELLI'S GIFT SHOP SUPPLIE   \n",
       "3  KELLI'S GIFT SHOP SUPPLIE   \n",
       "4  KELLI'S GIFT SHOP SUPPLIE   \n",
       "\n",
       "                                                item   qty      usd      cad  \\\n",
       "0                CAFFEINATED CHOCOLATE BITES SINGLES -14.0 -1579.20 -2100.34   \n",
       "1  AWAKE CHOCOLATE AWAKE CAFF MILK CHOC- 6X12PK M...   1.0    85.54   113.77   \n",
       "2  AWAKE CHOCOLATE AWAKE CAFF DARK CHOC- 6X12PK M...  -4.0  -273.84  -364.21   \n",
       "3        CAFFEINATED CHOCOLATE BITES SINGLES CARAMEL -18.0 -2030.40 -2700.43   \n",
       "4           CAFFEINATED CHOCOLATE BITES SINGLES DARK -16.0 -1804.80 -2400.38   \n",
       "\n",
       "   month  year  \n",
       "0  March  2024  \n",
       "1  March  2024  \n",
       "2  March  2024  \n",
       "3  March  2024  \n",
       "4  March  2024  "
      ]
     },
     "execution_count": 23,
     "metadata": {},
     "output_type": "execute_result"
    }
   ],
   "source": [
    "level_2.head()"
   ]
  },
  {
   "cell_type": "code",
   "execution_count": 24,
   "metadata": {},
   "outputs": [
    {
     "data": {
      "text/html": [
       "<div>\n",
       "<style scoped>\n",
       "    .dataframe tbody tr th:only-of-type {\n",
       "        vertical-align: middle;\n",
       "    }\n",
       "\n",
       "    .dataframe tbody tr th {\n",
       "        vertical-align: top;\n",
       "    }\n",
       "\n",
       "    .dataframe thead th {\n",
       "        text-align: right;\n",
       "    }\n",
       "</style>\n",
       "<table border=\"1\" class=\"dataframe\">\n",
       "  <thead>\n",
       "    <tr style=\"text-align: right;\">\n",
       "      <th></th>\n",
       "      <th>order_num</th>\n",
       "      <th>order_date</th>\n",
       "      <th>req_date</th>\n",
       "      <th>completed_date</th>\n",
       "      <th>warehouse</th>\n",
       "      <th>customer_name</th>\n",
       "      <th>customer_type</th>\n",
       "      <th>product</th>\n",
       "      <th>product_group</th>\n",
       "      <th>status</th>\n",
       "      <th>quantity</th>\n",
       "      <th>sub_total</th>\n",
       "    </tr>\n",
       "  </thead>\n",
       "  <tbody>\n",
       "    <tr>\n",
       "      <th>0</th>\n",
       "      <td>SO-00140851</td>\n",
       "      <td>2023-12-21</td>\n",
       "      <td>2023-12-22</td>\n",
       "      <td>2023-12-22</td>\n",
       "      <td>Complemar - PA</td>\n",
       "      <td>Amazon SC</td>\n",
       "      <td>Amazon</td>\n",
       "      <td>50ct Pouch - PB Milk Choc Bites</td>\n",
       "      <td>Finished Goods</td>\n",
       "      <td>Completed</td>\n",
       "      <td>1.0</td>\n",
       "      <td>46.65</td>\n",
       "    </tr>\n",
       "    <tr>\n",
       "      <th>1</th>\n",
       "      <td>SO-00140850</td>\n",
       "      <td>2023-12-21</td>\n",
       "      <td>2023-12-22</td>\n",
       "      <td>2023-12-22</td>\n",
       "      <td>Complemar - Nevada</td>\n",
       "      <td>Amazon SC</td>\n",
       "      <td>Amazon</td>\n",
       "      <td>50ct Pouch - PB Milk Choc Bites</td>\n",
       "      <td>Finished Goods</td>\n",
       "      <td>Completed</td>\n",
       "      <td>1.0</td>\n",
       "      <td>46.65</td>\n",
       "    </tr>\n",
       "    <tr>\n",
       "      <th>2</th>\n",
       "      <td>SO-00140849</td>\n",
       "      <td>2023-12-21</td>\n",
       "      <td>2023-12-22</td>\n",
       "      <td>2023-12-22</td>\n",
       "      <td>Complemar - PA</td>\n",
       "      <td>Amazon SC</td>\n",
       "      <td>Amazon</td>\n",
       "      <td>50ct Pouch - PB Milk Choc Bites</td>\n",
       "      <td>Finished Goods</td>\n",
       "      <td>Completed</td>\n",
       "      <td>1.0</td>\n",
       "      <td>46.65</td>\n",
       "    </tr>\n",
       "    <tr>\n",
       "      <th>3</th>\n",
       "      <td>SO-00140848</td>\n",
       "      <td>2023-12-21</td>\n",
       "      <td>2023-12-22</td>\n",
       "      <td>2023-12-22</td>\n",
       "      <td>Complemar - PA</td>\n",
       "      <td>Amazon SC</td>\n",
       "      <td>Amazon</td>\n",
       "      <td>50ct Pouch - PB Milk Choc Bites</td>\n",
       "      <td>Finished Goods</td>\n",
       "      <td>Completed</td>\n",
       "      <td>1.0</td>\n",
       "      <td>46.65</td>\n",
       "    </tr>\n",
       "    <tr>\n",
       "      <th>4</th>\n",
       "      <td>SO-00140847</td>\n",
       "      <td>2023-12-21</td>\n",
       "      <td>2023-12-22</td>\n",
       "      <td>2023-12-22</td>\n",
       "      <td>Complemar - Nevada</td>\n",
       "      <td>Amazon SC</td>\n",
       "      <td>Amazon</td>\n",
       "      <td>50ct Pouch - PB Milk Choc Bites</td>\n",
       "      <td>Finished Goods</td>\n",
       "      <td>Completed</td>\n",
       "      <td>1.0</td>\n",
       "      <td>46.65</td>\n",
       "    </tr>\n",
       "  </tbody>\n",
       "</table>\n",
       "</div>"
      ],
      "text/plain": [
       "     order_num  order_date    req_date completed_date           warehouse  \\\n",
       "0  SO-00140851  2023-12-21  2023-12-22     2023-12-22      Complemar - PA   \n",
       "1  SO-00140850  2023-12-21  2023-12-22     2023-12-22  Complemar - Nevada   \n",
       "2  SO-00140849  2023-12-21  2023-12-22     2023-12-22      Complemar - PA   \n",
       "3  SO-00140848  2023-12-21  2023-12-22     2023-12-22      Complemar - PA   \n",
       "4  SO-00140847  2023-12-21  2023-12-22     2023-12-22  Complemar - Nevada   \n",
       "\n",
       "  customer_name customer_type                          product  \\\n",
       "0     Amazon SC        Amazon  50ct Pouch - PB Milk Choc Bites   \n",
       "1     Amazon SC        Amazon  50ct Pouch - PB Milk Choc Bites   \n",
       "2     Amazon SC        Amazon  50ct Pouch - PB Milk Choc Bites   \n",
       "3     Amazon SC        Amazon  50ct Pouch - PB Milk Choc Bites   \n",
       "4     Amazon SC        Amazon  50ct Pouch - PB Milk Choc Bites   \n",
       "\n",
       "    product_group     status  quantity  sub_total  \n",
       "0  Finished Goods  Completed       1.0      46.65  \n",
       "1  Finished Goods  Completed       1.0      46.65  \n",
       "2  Finished Goods  Completed       1.0      46.65  \n",
       "3  Finished Goods  Completed       1.0      46.65  \n",
       "4  Finished Goods  Completed       1.0      46.65  "
      ]
     },
     "execution_count": 24,
     "metadata": {},
     "output_type": "execute_result"
    }
   ],
   "source": [
    "level_1.head()"
   ]
  },
  {
   "cell_type": "code",
   "execution_count": 25,
   "metadata": {},
   "outputs": [
    {
     "data": {
      "application/vnd.plotly.v1+json": {
       "config": {
        "plotlyServerURL": "https://plot.ly"
       },
       "data": [
        {
         "alignmentgroup": "True",
         "hovertemplate": "=%{x}<br>$USD=%{marker.color}<extra></extra>",
         "legendgroup": "",
         "marker": {
          "color": [
           418863.5625,
           407110.335,
           432349.215,
           338534.36100000003,
           347295.645,
           326980.4414,
           277744.815,
           407131.8975,
           423635.4312,
           652223.09,
           694426.46,
           413428.56,
           379631.175,
           517002.53500000003,
           572661.43,
           747378.3475,
           582994.445,
           587405.2783,
           467074.3925,
           661200.7,
           845331.2075,
           825072.5555,
           697058.855,
           580807.175,
           652011.065,
           788654.4375,
           919820.9725,
           820291.2675,
           649759.3575,
           743914.7675,
           747608.14,
           805076.1325,
           906710.5875,
           1125154.96,
           859261.605,
           594080.5825,
           905663.725,
           897652.178,
           329958.495
          ],
          "coloraxis": "coloraxis",
          "pattern": {
           "shape": ""
          }
         },
         "name": "",
         "offsetgroup": "",
         "orientation": "v",
         "showlegend": false,
         "textposition": "outside",
         "texttemplate": "%{y:,.2s}",
         "type": "bar",
         "x": [
          "2021-01-31T00:00:00",
          "2021-02-28T00:00:00",
          "2021-03-31T00:00:00",
          "2021-04-30T00:00:00",
          "2021-05-31T00:00:00",
          "2021-06-30T00:00:00",
          "2021-07-31T00:00:00",
          "2021-08-31T00:00:00",
          "2021-09-30T00:00:00",
          "2021-10-31T00:00:00",
          "2021-11-30T00:00:00",
          "2021-12-31T00:00:00",
          "2022-01-31T00:00:00",
          "2022-02-28T00:00:00",
          "2022-03-31T00:00:00",
          "2022-04-30T00:00:00",
          "2022-05-31T00:00:00",
          "2022-06-30T00:00:00",
          "2022-07-31T00:00:00",
          "2022-08-31T00:00:00",
          "2022-09-30T00:00:00",
          "2022-10-31T00:00:00",
          "2022-11-30T00:00:00",
          "2022-12-31T00:00:00",
          "2023-01-31T00:00:00",
          "2023-02-28T00:00:00",
          "2023-03-31T00:00:00",
          "2023-04-30T00:00:00",
          "2023-05-31T00:00:00",
          "2023-06-30T00:00:00",
          "2023-07-31T00:00:00",
          "2023-08-31T00:00:00",
          "2023-09-30T00:00:00",
          "2023-10-31T00:00:00",
          "2023-11-30T00:00:00",
          "2023-12-31T00:00:00",
          "2024-01-31T00:00:00",
          "2024-02-29T00:00:00",
          "2024-03-31T00:00:00"
         ],
         "xaxis": "x",
         "y": [
          418863.5625,
          407110.335,
          432349.215,
          338534.36100000003,
          347295.645,
          326980.4414,
          277744.815,
          407131.8975,
          423635.4312,
          652223.09,
          694426.46,
          413428.56,
          379631.175,
          517002.53500000003,
          572661.43,
          747378.3475,
          582994.445,
          587405.2783,
          467074.3925,
          661200.7,
          845331.2075,
          825072.5555,
          697058.855,
          580807.175,
          652011.065,
          788654.4375,
          919820.9725,
          820291.2675,
          649759.3575,
          743914.7675,
          747608.14,
          805076.1325,
          906710.5875,
          1125154.96,
          859261.605,
          594080.5825,
          905663.725,
          897652.178,
          329958.495
         ],
         "yaxis": "y"
        }
       ],
       "layout": {
        "barmode": "relative",
        "coloraxis": {
         "colorbar": {
          "title": {
           "text": "$USD"
          }
         },
         "colorscale": [
          [
           0,
           "#0d0887"
          ],
          [
           0.1111111111111111,
           "#46039f"
          ],
          [
           0.2222222222222222,
           "#7201a8"
          ],
          [
           0.3333333333333333,
           "#9c179e"
          ],
          [
           0.4444444444444444,
           "#bd3786"
          ],
          [
           0.5555555555555556,
           "#d8576b"
          ],
          [
           0.6666666666666666,
           "#ed7953"
          ],
          [
           0.7777777777777778,
           "#fb9f3a"
          ],
          [
           0.8888888888888888,
           "#fdca26"
          ],
          [
           1,
           "#f0f921"
          ]
         ],
         "showscale": false
        },
        "height": 400,
        "legend": {
         "tracegroupgap": 0
        },
        "margin": {
         "t": 60
        },
        "template": {
         "data": {
          "bar": [
           {
            "error_x": {
             "color": "#2a3f5f"
            },
            "error_y": {
             "color": "#2a3f5f"
            },
            "marker": {
             "line": {
              "color": "white",
              "width": 0.5
             },
             "pattern": {
              "fillmode": "overlay",
              "size": 10,
              "solidity": 0.2
             }
            },
            "type": "bar"
           }
          ],
          "barpolar": [
           {
            "marker": {
             "line": {
              "color": "white",
              "width": 0.5
             },
             "pattern": {
              "fillmode": "overlay",
              "size": 10,
              "solidity": 0.2
             }
            },
            "type": "barpolar"
           }
          ],
          "carpet": [
           {
            "aaxis": {
             "endlinecolor": "#2a3f5f",
             "gridcolor": "#C8D4E3",
             "linecolor": "#C8D4E3",
             "minorgridcolor": "#C8D4E3",
             "startlinecolor": "#2a3f5f"
            },
            "baxis": {
             "endlinecolor": "#2a3f5f",
             "gridcolor": "#C8D4E3",
             "linecolor": "#C8D4E3",
             "minorgridcolor": "#C8D4E3",
             "startlinecolor": "#2a3f5f"
            },
            "type": "carpet"
           }
          ],
          "choropleth": [
           {
            "colorbar": {
             "outlinewidth": 0,
             "ticks": ""
            },
            "type": "choropleth"
           }
          ],
          "contour": [
           {
            "colorbar": {
             "outlinewidth": 0,
             "ticks": ""
            },
            "colorscale": [
             [
              0,
              "#0d0887"
             ],
             [
              0.1111111111111111,
              "#46039f"
             ],
             [
              0.2222222222222222,
              "#7201a8"
             ],
             [
              0.3333333333333333,
              "#9c179e"
             ],
             [
              0.4444444444444444,
              "#bd3786"
             ],
             [
              0.5555555555555556,
              "#d8576b"
             ],
             [
              0.6666666666666666,
              "#ed7953"
             ],
             [
              0.7777777777777778,
              "#fb9f3a"
             ],
             [
              0.8888888888888888,
              "#fdca26"
             ],
             [
              1,
              "#f0f921"
             ]
            ],
            "type": "contour"
           }
          ],
          "contourcarpet": [
           {
            "colorbar": {
             "outlinewidth": 0,
             "ticks": ""
            },
            "type": "contourcarpet"
           }
          ],
          "heatmap": [
           {
            "colorbar": {
             "outlinewidth": 0,
             "ticks": ""
            },
            "colorscale": [
             [
              0,
              "#0d0887"
             ],
             [
              0.1111111111111111,
              "#46039f"
             ],
             [
              0.2222222222222222,
              "#7201a8"
             ],
             [
              0.3333333333333333,
              "#9c179e"
             ],
             [
              0.4444444444444444,
              "#bd3786"
             ],
             [
              0.5555555555555556,
              "#d8576b"
             ],
             [
              0.6666666666666666,
              "#ed7953"
             ],
             [
              0.7777777777777778,
              "#fb9f3a"
             ],
             [
              0.8888888888888888,
              "#fdca26"
             ],
             [
              1,
              "#f0f921"
             ]
            ],
            "type": "heatmap"
           }
          ],
          "heatmapgl": [
           {
            "colorbar": {
             "outlinewidth": 0,
             "ticks": ""
            },
            "colorscale": [
             [
              0,
              "#0d0887"
             ],
             [
              0.1111111111111111,
              "#46039f"
             ],
             [
              0.2222222222222222,
              "#7201a8"
             ],
             [
              0.3333333333333333,
              "#9c179e"
             ],
             [
              0.4444444444444444,
              "#bd3786"
             ],
             [
              0.5555555555555556,
              "#d8576b"
             ],
             [
              0.6666666666666666,
              "#ed7953"
             ],
             [
              0.7777777777777778,
              "#fb9f3a"
             ],
             [
              0.8888888888888888,
              "#fdca26"
             ],
             [
              1,
              "#f0f921"
             ]
            ],
            "type": "heatmapgl"
           }
          ],
          "histogram": [
           {
            "marker": {
             "pattern": {
              "fillmode": "overlay",
              "size": 10,
              "solidity": 0.2
             }
            },
            "type": "histogram"
           }
          ],
          "histogram2d": [
           {
            "colorbar": {
             "outlinewidth": 0,
             "ticks": ""
            },
            "colorscale": [
             [
              0,
              "#0d0887"
             ],
             [
              0.1111111111111111,
              "#46039f"
             ],
             [
              0.2222222222222222,
              "#7201a8"
             ],
             [
              0.3333333333333333,
              "#9c179e"
             ],
             [
              0.4444444444444444,
              "#bd3786"
             ],
             [
              0.5555555555555556,
              "#d8576b"
             ],
             [
              0.6666666666666666,
              "#ed7953"
             ],
             [
              0.7777777777777778,
              "#fb9f3a"
             ],
             [
              0.8888888888888888,
              "#fdca26"
             ],
             [
              1,
              "#f0f921"
             ]
            ],
            "type": "histogram2d"
           }
          ],
          "histogram2dcontour": [
           {
            "colorbar": {
             "outlinewidth": 0,
             "ticks": ""
            },
            "colorscale": [
             [
              0,
              "#0d0887"
             ],
             [
              0.1111111111111111,
              "#46039f"
             ],
             [
              0.2222222222222222,
              "#7201a8"
             ],
             [
              0.3333333333333333,
              "#9c179e"
             ],
             [
              0.4444444444444444,
              "#bd3786"
             ],
             [
              0.5555555555555556,
              "#d8576b"
             ],
             [
              0.6666666666666666,
              "#ed7953"
             ],
             [
              0.7777777777777778,
              "#fb9f3a"
             ],
             [
              0.8888888888888888,
              "#fdca26"
             ],
             [
              1,
              "#f0f921"
             ]
            ],
            "type": "histogram2dcontour"
           }
          ],
          "mesh3d": [
           {
            "colorbar": {
             "outlinewidth": 0,
             "ticks": ""
            },
            "type": "mesh3d"
           }
          ],
          "parcoords": [
           {
            "line": {
             "colorbar": {
              "outlinewidth": 0,
              "ticks": ""
             }
            },
            "type": "parcoords"
           }
          ],
          "pie": [
           {
            "automargin": true,
            "type": "pie"
           }
          ],
          "scatter": [
           {
            "fillpattern": {
             "fillmode": "overlay",
             "size": 10,
             "solidity": 0.2
            },
            "type": "scatter"
           }
          ],
          "scatter3d": [
           {
            "line": {
             "colorbar": {
              "outlinewidth": 0,
              "ticks": ""
             }
            },
            "marker": {
             "colorbar": {
              "outlinewidth": 0,
              "ticks": ""
             }
            },
            "type": "scatter3d"
           }
          ],
          "scattercarpet": [
           {
            "marker": {
             "colorbar": {
              "outlinewidth": 0,
              "ticks": ""
             }
            },
            "type": "scattercarpet"
           }
          ],
          "scattergeo": [
           {
            "marker": {
             "colorbar": {
              "outlinewidth": 0,
              "ticks": ""
             }
            },
            "type": "scattergeo"
           }
          ],
          "scattergl": [
           {
            "marker": {
             "colorbar": {
              "outlinewidth": 0,
              "ticks": ""
             }
            },
            "type": "scattergl"
           }
          ],
          "scattermapbox": [
           {
            "marker": {
             "colorbar": {
              "outlinewidth": 0,
              "ticks": ""
             }
            },
            "type": "scattermapbox"
           }
          ],
          "scatterpolar": [
           {
            "marker": {
             "colorbar": {
              "outlinewidth": 0,
              "ticks": ""
             }
            },
            "type": "scatterpolar"
           }
          ],
          "scatterpolargl": [
           {
            "marker": {
             "colorbar": {
              "outlinewidth": 0,
              "ticks": ""
             }
            },
            "type": "scatterpolargl"
           }
          ],
          "scatterternary": [
           {
            "marker": {
             "colorbar": {
              "outlinewidth": 0,
              "ticks": ""
             }
            },
            "type": "scatterternary"
           }
          ],
          "surface": [
           {
            "colorbar": {
             "outlinewidth": 0,
             "ticks": ""
            },
            "colorscale": [
             [
              0,
              "#0d0887"
             ],
             [
              0.1111111111111111,
              "#46039f"
             ],
             [
              0.2222222222222222,
              "#7201a8"
             ],
             [
              0.3333333333333333,
              "#9c179e"
             ],
             [
              0.4444444444444444,
              "#bd3786"
             ],
             [
              0.5555555555555556,
              "#d8576b"
             ],
             [
              0.6666666666666666,
              "#ed7953"
             ],
             [
              0.7777777777777778,
              "#fb9f3a"
             ],
             [
              0.8888888888888888,
              "#fdca26"
             ],
             [
              1,
              "#f0f921"
             ]
            ],
            "type": "surface"
           }
          ],
          "table": [
           {
            "cells": {
             "fill": {
              "color": "#EBF0F8"
             },
             "line": {
              "color": "white"
             }
            },
            "header": {
             "fill": {
              "color": "#C8D4E3"
             },
             "line": {
              "color": "white"
             }
            },
            "type": "table"
           }
          ]
         },
         "layout": {
          "annotationdefaults": {
           "arrowcolor": "#2a3f5f",
           "arrowhead": 0,
           "arrowwidth": 1
          },
          "autotypenumbers": "strict",
          "coloraxis": {
           "colorbar": {
            "outlinewidth": 0,
            "ticks": ""
           }
          },
          "colorscale": {
           "diverging": [
            [
             0,
             "#8e0152"
            ],
            [
             0.1,
             "#c51b7d"
            ],
            [
             0.2,
             "#de77ae"
            ],
            [
             0.3,
             "#f1b6da"
            ],
            [
             0.4,
             "#fde0ef"
            ],
            [
             0.5,
             "#f7f7f7"
            ],
            [
             0.6,
             "#e6f5d0"
            ],
            [
             0.7,
             "#b8e186"
            ],
            [
             0.8,
             "#7fbc41"
            ],
            [
             0.9,
             "#4d9221"
            ],
            [
             1,
             "#276419"
            ]
           ],
           "sequential": [
            [
             0,
             "#0d0887"
            ],
            [
             0.1111111111111111,
             "#46039f"
            ],
            [
             0.2222222222222222,
             "#7201a8"
            ],
            [
             0.3333333333333333,
             "#9c179e"
            ],
            [
             0.4444444444444444,
             "#bd3786"
            ],
            [
             0.5555555555555556,
             "#d8576b"
            ],
            [
             0.6666666666666666,
             "#ed7953"
            ],
            [
             0.7777777777777778,
             "#fb9f3a"
            ],
            [
             0.8888888888888888,
             "#fdca26"
            ],
            [
             1,
             "#f0f921"
            ]
           ],
           "sequentialminus": [
            [
             0,
             "#0d0887"
            ],
            [
             0.1111111111111111,
             "#46039f"
            ],
            [
             0.2222222222222222,
             "#7201a8"
            ],
            [
             0.3333333333333333,
             "#9c179e"
            ],
            [
             0.4444444444444444,
             "#bd3786"
            ],
            [
             0.5555555555555556,
             "#d8576b"
            ],
            [
             0.6666666666666666,
             "#ed7953"
            ],
            [
             0.7777777777777778,
             "#fb9f3a"
            ],
            [
             0.8888888888888888,
             "#fdca26"
            ],
            [
             1,
             "#f0f921"
            ]
           ]
          },
          "colorway": [
           "#636efa",
           "#EF553B",
           "#00cc96",
           "#ab63fa",
           "#FFA15A",
           "#19d3f3",
           "#FF6692",
           "#B6E880",
           "#FF97FF",
           "#FECB52"
          ],
          "font": {
           "color": "#2a3f5f"
          },
          "geo": {
           "bgcolor": "white",
           "lakecolor": "white",
           "landcolor": "white",
           "showlakes": true,
           "showland": true,
           "subunitcolor": "#C8D4E3"
          },
          "hoverlabel": {
           "align": "left"
          },
          "hovermode": "closest",
          "mapbox": {
           "style": "light"
          },
          "paper_bgcolor": "white",
          "plot_bgcolor": "white",
          "polar": {
           "angularaxis": {
            "gridcolor": "#EBF0F8",
            "linecolor": "#EBF0F8",
            "ticks": ""
           },
           "bgcolor": "white",
           "radialaxis": {
            "gridcolor": "#EBF0F8",
            "linecolor": "#EBF0F8",
            "ticks": ""
           }
          },
          "scene": {
           "xaxis": {
            "backgroundcolor": "white",
            "gridcolor": "#DFE8F3",
            "gridwidth": 2,
            "linecolor": "#EBF0F8",
            "showbackground": true,
            "ticks": "",
            "zerolinecolor": "#EBF0F8"
           },
           "yaxis": {
            "backgroundcolor": "white",
            "gridcolor": "#DFE8F3",
            "gridwidth": 2,
            "linecolor": "#EBF0F8",
            "showbackground": true,
            "ticks": "",
            "zerolinecolor": "#EBF0F8"
           },
           "zaxis": {
            "backgroundcolor": "white",
            "gridcolor": "#DFE8F3",
            "gridwidth": 2,
            "linecolor": "#EBF0F8",
            "showbackground": true,
            "ticks": "",
            "zerolinecolor": "#EBF0F8"
           }
          },
          "shapedefaults": {
           "line": {
            "color": "#2a3f5f"
           }
          },
          "ternary": {
           "aaxis": {
            "gridcolor": "#DFE8F3",
            "linecolor": "#A2B1C6",
            "ticks": ""
           },
           "baxis": {
            "gridcolor": "#DFE8F3",
            "linecolor": "#A2B1C6",
            "ticks": ""
           },
           "bgcolor": "white",
           "caxis": {
            "gridcolor": "#DFE8F3",
            "linecolor": "#A2B1C6",
            "ticks": ""
           }
          },
          "title": {
           "x": 0.05
          },
          "xaxis": {
           "automargin": true,
           "gridcolor": "#EBF0F8",
           "linecolor": "#EBF0F8",
           "ticks": "",
           "title": {
            "standoff": 15
           },
           "zerolinecolor": "#EBF0F8",
           "zerolinewidth": 2
          },
          "yaxis": {
           "automargin": true,
           "gridcolor": "#EBF0F8",
           "linecolor": "#EBF0F8",
           "ticks": "",
           "title": {
            "standoff": 15
           },
           "zerolinecolor": "#EBF0F8",
           "zerolinewidth": 2
          }
         }
        },
        "width": 900,
        "xaxis": {
         "anchor": "y",
         "domain": [
          0,
          1
         ],
         "title": {
          "text": ""
         }
        },
        "yaxis": {
         "anchor": "x",
         "domain": [
          0,
          1
         ],
         "title": {
          "text": "$USD"
         }
        }
       }
      },
      "text/html": [
       "<div>                            <div id=\"432bd22a-f900-4495-a041-736c2d5d4d36\" class=\"plotly-graph-div\" style=\"height:400px; width:900px;\"></div>            <script type=\"text/javascript\">                require([\"plotly\"], function(Plotly) {                    window.PLOTLYENV=window.PLOTLYENV || {};                                    if (document.getElementById(\"432bd22a-f900-4495-a041-736c2d5d4d36\")) {                    Plotly.newPlot(                        \"432bd22a-f900-4495-a041-736c2d5d4d36\",                        [{\"alignmentgroup\":\"True\",\"hovertemplate\":\"=%{x}<br>$USD=%{marker.color}<extra></extra>\",\"legendgroup\":\"\",\"marker\":{\"color\":[418863.5625,407110.335,432349.215,338534.36100000003,347295.645,326980.4414,277744.815,407131.8975,423635.4312,652223.09,694426.46,413428.56,379631.175,517002.53500000003,572661.43,747378.3475,582994.445,587405.2783,467074.3925,661200.7,845331.2075,825072.5555,697058.855,580807.175,652011.065,788654.4375,919820.9725,820291.2675,649759.3575,743914.7675,747608.14,805076.1325,906710.5875,1125154.96,859261.605,594080.5825,905663.725,897652.178,329958.495],\"coloraxis\":\"coloraxis\",\"pattern\":{\"shape\":\"\"}},\"name\":\"\",\"offsetgroup\":\"\",\"orientation\":\"v\",\"showlegend\":false,\"textposition\":\"outside\",\"texttemplate\":\"%{y:,.2s}\",\"x\":[\"2021-01-31T00:00:00\",\"2021-02-28T00:00:00\",\"2021-03-31T00:00:00\",\"2021-04-30T00:00:00\",\"2021-05-31T00:00:00\",\"2021-06-30T00:00:00\",\"2021-07-31T00:00:00\",\"2021-08-31T00:00:00\",\"2021-09-30T00:00:00\",\"2021-10-31T00:00:00\",\"2021-11-30T00:00:00\",\"2021-12-31T00:00:00\",\"2022-01-31T00:00:00\",\"2022-02-28T00:00:00\",\"2022-03-31T00:00:00\",\"2022-04-30T00:00:00\",\"2022-05-31T00:00:00\",\"2022-06-30T00:00:00\",\"2022-07-31T00:00:00\",\"2022-08-31T00:00:00\",\"2022-09-30T00:00:00\",\"2022-10-31T00:00:00\",\"2022-11-30T00:00:00\",\"2022-12-31T00:00:00\",\"2023-01-31T00:00:00\",\"2023-02-28T00:00:00\",\"2023-03-31T00:00:00\",\"2023-04-30T00:00:00\",\"2023-05-31T00:00:00\",\"2023-06-30T00:00:00\",\"2023-07-31T00:00:00\",\"2023-08-31T00:00:00\",\"2023-09-30T00:00:00\",\"2023-10-31T00:00:00\",\"2023-11-30T00:00:00\",\"2023-12-31T00:00:00\",\"2024-01-31T00:00:00\",\"2024-02-29T00:00:00\",\"2024-03-31T00:00:00\"],\"xaxis\":\"x\",\"y\":[418863.5625,407110.335,432349.215,338534.36100000003,347295.645,326980.4414,277744.815,407131.8975,423635.4312,652223.09,694426.46,413428.56,379631.175,517002.53500000003,572661.43,747378.3475,582994.445,587405.2783,467074.3925,661200.7,845331.2075,825072.5555,697058.855,580807.175,652011.065,788654.4375,919820.9725,820291.2675,649759.3575,743914.7675,747608.14,805076.1325,906710.5875,1125154.96,859261.605,594080.5825,905663.725,897652.178,329958.495],\"yaxis\":\"y\",\"type\":\"bar\"}],                        {\"template\":{\"data\":{\"barpolar\":[{\"marker\":{\"line\":{\"color\":\"white\",\"width\":0.5},\"pattern\":{\"fillmode\":\"overlay\",\"size\":10,\"solidity\":0.2}},\"type\":\"barpolar\"}],\"bar\":[{\"error_x\":{\"color\":\"#2a3f5f\"},\"error_y\":{\"color\":\"#2a3f5f\"},\"marker\":{\"line\":{\"color\":\"white\",\"width\":0.5},\"pattern\":{\"fillmode\":\"overlay\",\"size\":10,\"solidity\":0.2}},\"type\":\"bar\"}],\"carpet\":[{\"aaxis\":{\"endlinecolor\":\"#2a3f5f\",\"gridcolor\":\"#C8D4E3\",\"linecolor\":\"#C8D4E3\",\"minorgridcolor\":\"#C8D4E3\",\"startlinecolor\":\"#2a3f5f\"},\"baxis\":{\"endlinecolor\":\"#2a3f5f\",\"gridcolor\":\"#C8D4E3\",\"linecolor\":\"#C8D4E3\",\"minorgridcolor\":\"#C8D4E3\",\"startlinecolor\":\"#2a3f5f\"},\"type\":\"carpet\"}],\"choropleth\":[{\"colorbar\":{\"outlinewidth\":0,\"ticks\":\"\"},\"type\":\"choropleth\"}],\"contourcarpet\":[{\"colorbar\":{\"outlinewidth\":0,\"ticks\":\"\"},\"type\":\"contourcarpet\"}],\"contour\":[{\"colorbar\":{\"outlinewidth\":0,\"ticks\":\"\"},\"colorscale\":[[0.0,\"#0d0887\"],[0.1111111111111111,\"#46039f\"],[0.2222222222222222,\"#7201a8\"],[0.3333333333333333,\"#9c179e\"],[0.4444444444444444,\"#bd3786\"],[0.5555555555555556,\"#d8576b\"],[0.6666666666666666,\"#ed7953\"],[0.7777777777777778,\"#fb9f3a\"],[0.8888888888888888,\"#fdca26\"],[1.0,\"#f0f921\"]],\"type\":\"contour\"}],\"heatmapgl\":[{\"colorbar\":{\"outlinewidth\":0,\"ticks\":\"\"},\"colorscale\":[[0.0,\"#0d0887\"],[0.1111111111111111,\"#46039f\"],[0.2222222222222222,\"#7201a8\"],[0.3333333333333333,\"#9c179e\"],[0.4444444444444444,\"#bd3786\"],[0.5555555555555556,\"#d8576b\"],[0.6666666666666666,\"#ed7953\"],[0.7777777777777778,\"#fb9f3a\"],[0.8888888888888888,\"#fdca26\"],[1.0,\"#f0f921\"]],\"type\":\"heatmapgl\"}],\"heatmap\":[{\"colorbar\":{\"outlinewidth\":0,\"ticks\":\"\"},\"colorscale\":[[0.0,\"#0d0887\"],[0.1111111111111111,\"#46039f\"],[0.2222222222222222,\"#7201a8\"],[0.3333333333333333,\"#9c179e\"],[0.4444444444444444,\"#bd3786\"],[0.5555555555555556,\"#d8576b\"],[0.6666666666666666,\"#ed7953\"],[0.7777777777777778,\"#fb9f3a\"],[0.8888888888888888,\"#fdca26\"],[1.0,\"#f0f921\"]],\"type\":\"heatmap\"}],\"histogram2dcontour\":[{\"colorbar\":{\"outlinewidth\":0,\"ticks\":\"\"},\"colorscale\":[[0.0,\"#0d0887\"],[0.1111111111111111,\"#46039f\"],[0.2222222222222222,\"#7201a8\"],[0.3333333333333333,\"#9c179e\"],[0.4444444444444444,\"#bd3786\"],[0.5555555555555556,\"#d8576b\"],[0.6666666666666666,\"#ed7953\"],[0.7777777777777778,\"#fb9f3a\"],[0.8888888888888888,\"#fdca26\"],[1.0,\"#f0f921\"]],\"type\":\"histogram2dcontour\"}],\"histogram2d\":[{\"colorbar\":{\"outlinewidth\":0,\"ticks\":\"\"},\"colorscale\":[[0.0,\"#0d0887\"],[0.1111111111111111,\"#46039f\"],[0.2222222222222222,\"#7201a8\"],[0.3333333333333333,\"#9c179e\"],[0.4444444444444444,\"#bd3786\"],[0.5555555555555556,\"#d8576b\"],[0.6666666666666666,\"#ed7953\"],[0.7777777777777778,\"#fb9f3a\"],[0.8888888888888888,\"#fdca26\"],[1.0,\"#f0f921\"]],\"type\":\"histogram2d\"}],\"histogram\":[{\"marker\":{\"pattern\":{\"fillmode\":\"overlay\",\"size\":10,\"solidity\":0.2}},\"type\":\"histogram\"}],\"mesh3d\":[{\"colorbar\":{\"outlinewidth\":0,\"ticks\":\"\"},\"type\":\"mesh3d\"}],\"parcoords\":[{\"line\":{\"colorbar\":{\"outlinewidth\":0,\"ticks\":\"\"}},\"type\":\"parcoords\"}],\"pie\":[{\"automargin\":true,\"type\":\"pie\"}],\"scatter3d\":[{\"line\":{\"colorbar\":{\"outlinewidth\":0,\"ticks\":\"\"}},\"marker\":{\"colorbar\":{\"outlinewidth\":0,\"ticks\":\"\"}},\"type\":\"scatter3d\"}],\"scattercarpet\":[{\"marker\":{\"colorbar\":{\"outlinewidth\":0,\"ticks\":\"\"}},\"type\":\"scattercarpet\"}],\"scattergeo\":[{\"marker\":{\"colorbar\":{\"outlinewidth\":0,\"ticks\":\"\"}},\"type\":\"scattergeo\"}],\"scattergl\":[{\"marker\":{\"colorbar\":{\"outlinewidth\":0,\"ticks\":\"\"}},\"type\":\"scattergl\"}],\"scattermapbox\":[{\"marker\":{\"colorbar\":{\"outlinewidth\":0,\"ticks\":\"\"}},\"type\":\"scattermapbox\"}],\"scatterpolargl\":[{\"marker\":{\"colorbar\":{\"outlinewidth\":0,\"ticks\":\"\"}},\"type\":\"scatterpolargl\"}],\"scatterpolar\":[{\"marker\":{\"colorbar\":{\"outlinewidth\":0,\"ticks\":\"\"}},\"type\":\"scatterpolar\"}],\"scatter\":[{\"fillpattern\":{\"fillmode\":\"overlay\",\"size\":10,\"solidity\":0.2},\"type\":\"scatter\"}],\"scatterternary\":[{\"marker\":{\"colorbar\":{\"outlinewidth\":0,\"ticks\":\"\"}},\"type\":\"scatterternary\"}],\"surface\":[{\"colorbar\":{\"outlinewidth\":0,\"ticks\":\"\"},\"colorscale\":[[0.0,\"#0d0887\"],[0.1111111111111111,\"#46039f\"],[0.2222222222222222,\"#7201a8\"],[0.3333333333333333,\"#9c179e\"],[0.4444444444444444,\"#bd3786\"],[0.5555555555555556,\"#d8576b\"],[0.6666666666666666,\"#ed7953\"],[0.7777777777777778,\"#fb9f3a\"],[0.8888888888888888,\"#fdca26\"],[1.0,\"#f0f921\"]],\"type\":\"surface\"}],\"table\":[{\"cells\":{\"fill\":{\"color\":\"#EBF0F8\"},\"line\":{\"color\":\"white\"}},\"header\":{\"fill\":{\"color\":\"#C8D4E3\"},\"line\":{\"color\":\"white\"}},\"type\":\"table\"}]},\"layout\":{\"annotationdefaults\":{\"arrowcolor\":\"#2a3f5f\",\"arrowhead\":0,\"arrowwidth\":1},\"autotypenumbers\":\"strict\",\"coloraxis\":{\"colorbar\":{\"outlinewidth\":0,\"ticks\":\"\"}},\"colorscale\":{\"diverging\":[[0,\"#8e0152\"],[0.1,\"#c51b7d\"],[0.2,\"#de77ae\"],[0.3,\"#f1b6da\"],[0.4,\"#fde0ef\"],[0.5,\"#f7f7f7\"],[0.6,\"#e6f5d0\"],[0.7,\"#b8e186\"],[0.8,\"#7fbc41\"],[0.9,\"#4d9221\"],[1,\"#276419\"]],\"sequential\":[[0.0,\"#0d0887\"],[0.1111111111111111,\"#46039f\"],[0.2222222222222222,\"#7201a8\"],[0.3333333333333333,\"#9c179e\"],[0.4444444444444444,\"#bd3786\"],[0.5555555555555556,\"#d8576b\"],[0.6666666666666666,\"#ed7953\"],[0.7777777777777778,\"#fb9f3a\"],[0.8888888888888888,\"#fdca26\"],[1.0,\"#f0f921\"]],\"sequentialminus\":[[0.0,\"#0d0887\"],[0.1111111111111111,\"#46039f\"],[0.2222222222222222,\"#7201a8\"],[0.3333333333333333,\"#9c179e\"],[0.4444444444444444,\"#bd3786\"],[0.5555555555555556,\"#d8576b\"],[0.6666666666666666,\"#ed7953\"],[0.7777777777777778,\"#fb9f3a\"],[0.8888888888888888,\"#fdca26\"],[1.0,\"#f0f921\"]]},\"colorway\":[\"#636efa\",\"#EF553B\",\"#00cc96\",\"#ab63fa\",\"#FFA15A\",\"#19d3f3\",\"#FF6692\",\"#B6E880\",\"#FF97FF\",\"#FECB52\"],\"font\":{\"color\":\"#2a3f5f\"},\"geo\":{\"bgcolor\":\"white\",\"lakecolor\":\"white\",\"landcolor\":\"white\",\"showlakes\":true,\"showland\":true,\"subunitcolor\":\"#C8D4E3\"},\"hoverlabel\":{\"align\":\"left\"},\"hovermode\":\"closest\",\"mapbox\":{\"style\":\"light\"},\"paper_bgcolor\":\"white\",\"plot_bgcolor\":\"white\",\"polar\":{\"angularaxis\":{\"gridcolor\":\"#EBF0F8\",\"linecolor\":\"#EBF0F8\",\"ticks\":\"\"},\"bgcolor\":\"white\",\"radialaxis\":{\"gridcolor\":\"#EBF0F8\",\"linecolor\":\"#EBF0F8\",\"ticks\":\"\"}},\"scene\":{\"xaxis\":{\"backgroundcolor\":\"white\",\"gridcolor\":\"#DFE8F3\",\"gridwidth\":2,\"linecolor\":\"#EBF0F8\",\"showbackground\":true,\"ticks\":\"\",\"zerolinecolor\":\"#EBF0F8\"},\"yaxis\":{\"backgroundcolor\":\"white\",\"gridcolor\":\"#DFE8F3\",\"gridwidth\":2,\"linecolor\":\"#EBF0F8\",\"showbackground\":true,\"ticks\":\"\",\"zerolinecolor\":\"#EBF0F8\"},\"zaxis\":{\"backgroundcolor\":\"white\",\"gridcolor\":\"#DFE8F3\",\"gridwidth\":2,\"linecolor\":\"#EBF0F8\",\"showbackground\":true,\"ticks\":\"\",\"zerolinecolor\":\"#EBF0F8\"}},\"shapedefaults\":{\"line\":{\"color\":\"#2a3f5f\"}},\"ternary\":{\"aaxis\":{\"gridcolor\":\"#DFE8F3\",\"linecolor\":\"#A2B1C6\",\"ticks\":\"\"},\"baxis\":{\"gridcolor\":\"#DFE8F3\",\"linecolor\":\"#A2B1C6\",\"ticks\":\"\"},\"bgcolor\":\"white\",\"caxis\":{\"gridcolor\":\"#DFE8F3\",\"linecolor\":\"#A2B1C6\",\"ticks\":\"\"}},\"title\":{\"x\":0.05},\"xaxis\":{\"automargin\":true,\"gridcolor\":\"#EBF0F8\",\"linecolor\":\"#EBF0F8\",\"ticks\":\"\",\"title\":{\"standoff\":15},\"zerolinecolor\":\"#EBF0F8\",\"zerolinewidth\":2},\"yaxis\":{\"automargin\":true,\"gridcolor\":\"#EBF0F8\",\"linecolor\":\"#EBF0F8\",\"ticks\":\"\",\"title\":{\"standoff\":15},\"zerolinecolor\":\"#EBF0F8\",\"zerolinewidth\":2}}},\"xaxis\":{\"anchor\":\"y\",\"domain\":[0.0,1.0],\"title\":{\"text\":\"\"}},\"yaxis\":{\"anchor\":\"x\",\"domain\":[0.0,1.0],\"title\":{\"text\":\"$USD\"}},\"coloraxis\":{\"colorbar\":{\"title\":{\"text\":\"$USD\"}},\"colorscale\":[[0.0,\"#0d0887\"],[0.1111111111111111,\"#46039f\"],[0.2222222222222222,\"#7201a8\"],[0.3333333333333333,\"#9c179e\"],[0.4444444444444444,\"#bd3786\"],[0.5555555555555556,\"#d8576b\"],[0.6666666666666666,\"#ed7953\"],[0.7777777777777778,\"#fb9f3a\"],[0.8888888888888888,\"#fdca26\"],[1.0,\"#f0f921\"]],\"showscale\":false},\"legend\":{\"tracegroupgap\":0},\"margin\":{\"t\":60},\"barmode\":\"relative\",\"height\":400,\"width\":900},                        {\"responsive\": true}                    ).then(function(){\n",
       "                            \n",
       "var gd = document.getElementById('432bd22a-f900-4495-a041-736c2d5d4d36');\n",
       "var x = new MutationObserver(function (mutations, observer) {{\n",
       "        var display = window.getComputedStyle(gd).display;\n",
       "        if (!display || display === 'none') {{\n",
       "            console.log([gd, 'removed!']);\n",
       "            Plotly.purge(gd);\n",
       "            observer.disconnect();\n",
       "        }}\n",
       "}});\n",
       "\n",
       "// Listen for the removal of the full notebook cells\n",
       "var notebookContainer = gd.closest('#notebook-container');\n",
       "if (notebookContainer) {{\n",
       "    x.observe(notebookContainer, {childList: true});\n",
       "}}\n",
       "\n",
       "// Listen for the clearing of the current output cell\n",
       "var outputEl = gd.closest('.output');\n",
       "if (outputEl) {{\n",
       "    x.observe(outputEl, {childList: true});\n",
       "}}\n",
       "\n",
       "                        })                };                });            </script>        </div>"
      ]
     },
     "metadata": {},
     "output_type": "display_data"
    }
   ],
   "source": [
    "### bar graph should populate if all is well\n",
    "\n",
    "# level_2 = pd.read_sql('SELECT * FROM level_2;', con = engine)\n",
    "level_2.date = pd.to_datetime(level_2.date)\n",
    "\n",
    "px.bar(level_2.set_index('date').groupby(pd.Grouper(freq='M'))['usd'].sum(),\n",
    "        y='usd',\n",
    "        template='plotly_white',\n",
    "        labels={'usd':'$USD',\n",
    "                'date':''},\n",
    "        color='usd',\n",
    "        width=900,\n",
    "        text_auto=\",.2s\",\n",
    "        height=400).update(layout_coloraxis_showscale=False).update_traces(textposition='outside')"
   ]
  },
  {
   "cell_type": "code",
   "execution_count": 83,
   "metadata": {},
   "outputs": [
    {
     "data": {
      "application/vnd.plotly.v1+json": {
       "config": {
        "plotlyServerURL": "https://plot.ly"
       },
       "data": [
        {
         "alignmentgroup": "True",
         "hovertemplate": "=%{x}<br>$USD=%{marker.color}<extra></extra>",
         "legendgroup": "",
         "marker": {
          "color": [
           37448.82,
           29200.6425,
           0,
           0,
           52701.0025,
           9077.69,
           20406.015,
           23011.86,
           16650.22,
           0,
           0,
           13366.275,
           85932.7,
           22162.962499999998,
           33446.815,
           87324.295,
           0,
           0,
           18486.04,
           38425.907999999996,
           5243.155,
           64866.1975,
           10086.92,
           0,
           0,
           18080.905,
           25725.0325,
           17016.47,
           269080.25,
           19134.98,
           0,
           0,
           14379.0325,
           43906.1725,
           4259.33,
           33070.335,
           14696.9,
           0,
           0,
           25818.8075,
           60583.409999999996,
           19934.72,
           34577.2525,
           10496.98,
           0,
           0,
           20507.392499999998,
           26006.6425,
           2586.54
          ],
          "coloraxis": "coloraxis",
          "pattern": {
           "shape": ""
          }
         },
         "name": "",
         "offsetgroup": "",
         "orientation": "v",
         "showlegend": false,
         "textposition": "outside",
         "texttemplate": "%{y:,.2s}",
         "type": "bar",
         "x": [
          "2024-02-01T00:00:00",
          "2024-02-02T00:00:00",
          "2024-02-03T00:00:00",
          "2024-02-04T00:00:00",
          "2024-02-05T00:00:00",
          "2024-02-06T00:00:00",
          "2024-02-07T00:00:00",
          "2024-02-08T00:00:00",
          "2024-02-09T00:00:00",
          "2024-02-10T00:00:00",
          "2024-02-11T00:00:00",
          "2024-02-12T00:00:00",
          "2024-02-13T00:00:00",
          "2024-02-14T00:00:00",
          "2024-02-15T00:00:00",
          "2024-02-16T00:00:00",
          "2024-02-17T00:00:00",
          "2024-02-18T00:00:00",
          "2024-02-19T00:00:00",
          "2024-02-20T00:00:00",
          "2024-02-21T00:00:00",
          "2024-02-22T00:00:00",
          "2024-02-23T00:00:00",
          "2024-02-24T00:00:00",
          "2024-02-25T00:00:00",
          "2024-02-26T00:00:00",
          "2024-02-27T00:00:00",
          "2024-02-28T00:00:00",
          "2024-02-29T00:00:00",
          "2024-03-01T00:00:00",
          "2024-03-02T00:00:00",
          "2024-03-03T00:00:00",
          "2024-03-04T00:00:00",
          "2024-03-05T00:00:00",
          "2024-03-06T00:00:00",
          "2024-03-07T00:00:00",
          "2024-03-08T00:00:00",
          "2024-03-09T00:00:00",
          "2024-03-10T00:00:00",
          "2024-03-11T00:00:00",
          "2024-03-12T00:00:00",
          "2024-03-13T00:00:00",
          "2024-03-14T00:00:00",
          "2024-03-15T00:00:00",
          "2024-03-16T00:00:00",
          "2024-03-17T00:00:00",
          "2024-03-18T00:00:00",
          "2024-03-19T00:00:00",
          "2024-03-20T00:00:00"
         ],
         "xaxis": "x",
         "y": [
          37448.82,
          29200.6425,
          0,
          0,
          52701.0025,
          9077.69,
          20406.015,
          23011.86,
          16650.22,
          0,
          0,
          13366.275,
          85932.7,
          22162.962499999998,
          33446.815,
          87324.295,
          0,
          0,
          18486.04,
          38425.907999999996,
          5243.155,
          64866.1975,
          10086.92,
          0,
          0,
          18080.905,
          25725.0325,
          17016.47,
          269080.25,
          19134.98,
          0,
          0,
          14379.0325,
          43906.1725,
          4259.33,
          33070.335,
          14696.9,
          0,
          0,
          25818.8075,
          60583.409999999996,
          19934.72,
          34577.2525,
          10496.98,
          0,
          0,
          20507.392499999998,
          26006.6425,
          2586.54
         ],
         "yaxis": "y"
        }
       ],
       "layout": {
        "barmode": "relative",
        "coloraxis": {
         "colorbar": {
          "title": {
           "text": "$USD"
          }
         },
         "colorscale": [
          [
           0,
           "rgb(255,245,235)"
          ],
          [
           0.125,
           "rgb(254,230,206)"
          ],
          [
           0.25,
           "rgb(253,208,162)"
          ],
          [
           0.375,
           "rgb(253,174,107)"
          ],
          [
           0.5,
           "rgb(253,141,60)"
          ],
          [
           0.625,
           "rgb(241,105,19)"
          ],
          [
           0.75,
           "rgb(217,72,1)"
          ],
          [
           0.875,
           "rgb(166,54,3)"
          ],
          [
           1,
           "rgb(127,39,4)"
          ]
         ],
         "showscale": false
        },
        "height": 400,
        "legend": {
         "tracegroupgap": 0
        },
        "margin": {
         "t": 60
        },
        "template": {
         "data": {
          "bar": [
           {
            "error_x": {
             "color": "#2a3f5f"
            },
            "error_y": {
             "color": "#2a3f5f"
            },
            "marker": {
             "line": {
              "color": "white",
              "width": 0.5
             },
             "pattern": {
              "fillmode": "overlay",
              "size": 10,
              "solidity": 0.2
             }
            },
            "type": "bar"
           }
          ],
          "barpolar": [
           {
            "marker": {
             "line": {
              "color": "white",
              "width": 0.5
             },
             "pattern": {
              "fillmode": "overlay",
              "size": 10,
              "solidity": 0.2
             }
            },
            "type": "barpolar"
           }
          ],
          "carpet": [
           {
            "aaxis": {
             "endlinecolor": "#2a3f5f",
             "gridcolor": "#C8D4E3",
             "linecolor": "#C8D4E3",
             "minorgridcolor": "#C8D4E3",
             "startlinecolor": "#2a3f5f"
            },
            "baxis": {
             "endlinecolor": "#2a3f5f",
             "gridcolor": "#C8D4E3",
             "linecolor": "#C8D4E3",
             "minorgridcolor": "#C8D4E3",
             "startlinecolor": "#2a3f5f"
            },
            "type": "carpet"
           }
          ],
          "choropleth": [
           {
            "colorbar": {
             "outlinewidth": 0,
             "ticks": ""
            },
            "type": "choropleth"
           }
          ],
          "contour": [
           {
            "colorbar": {
             "outlinewidth": 0,
             "ticks": ""
            },
            "colorscale": [
             [
              0,
              "#0d0887"
             ],
             [
              0.1111111111111111,
              "#46039f"
             ],
             [
              0.2222222222222222,
              "#7201a8"
             ],
             [
              0.3333333333333333,
              "#9c179e"
             ],
             [
              0.4444444444444444,
              "#bd3786"
             ],
             [
              0.5555555555555556,
              "#d8576b"
             ],
             [
              0.6666666666666666,
              "#ed7953"
             ],
             [
              0.7777777777777778,
              "#fb9f3a"
             ],
             [
              0.8888888888888888,
              "#fdca26"
             ],
             [
              1,
              "#f0f921"
             ]
            ],
            "type": "contour"
           }
          ],
          "contourcarpet": [
           {
            "colorbar": {
             "outlinewidth": 0,
             "ticks": ""
            },
            "type": "contourcarpet"
           }
          ],
          "heatmap": [
           {
            "colorbar": {
             "outlinewidth": 0,
             "ticks": ""
            },
            "colorscale": [
             [
              0,
              "#0d0887"
             ],
             [
              0.1111111111111111,
              "#46039f"
             ],
             [
              0.2222222222222222,
              "#7201a8"
             ],
             [
              0.3333333333333333,
              "#9c179e"
             ],
             [
              0.4444444444444444,
              "#bd3786"
             ],
             [
              0.5555555555555556,
              "#d8576b"
             ],
             [
              0.6666666666666666,
              "#ed7953"
             ],
             [
              0.7777777777777778,
              "#fb9f3a"
             ],
             [
              0.8888888888888888,
              "#fdca26"
             ],
             [
              1,
              "#f0f921"
             ]
            ],
            "type": "heatmap"
           }
          ],
          "heatmapgl": [
           {
            "colorbar": {
             "outlinewidth": 0,
             "ticks": ""
            },
            "colorscale": [
             [
              0,
              "#0d0887"
             ],
             [
              0.1111111111111111,
              "#46039f"
             ],
             [
              0.2222222222222222,
              "#7201a8"
             ],
             [
              0.3333333333333333,
              "#9c179e"
             ],
             [
              0.4444444444444444,
              "#bd3786"
             ],
             [
              0.5555555555555556,
              "#d8576b"
             ],
             [
              0.6666666666666666,
              "#ed7953"
             ],
             [
              0.7777777777777778,
              "#fb9f3a"
             ],
             [
              0.8888888888888888,
              "#fdca26"
             ],
             [
              1,
              "#f0f921"
             ]
            ],
            "type": "heatmapgl"
           }
          ],
          "histogram": [
           {
            "marker": {
             "pattern": {
              "fillmode": "overlay",
              "size": 10,
              "solidity": 0.2
             }
            },
            "type": "histogram"
           }
          ],
          "histogram2d": [
           {
            "colorbar": {
             "outlinewidth": 0,
             "ticks": ""
            },
            "colorscale": [
             [
              0,
              "#0d0887"
             ],
             [
              0.1111111111111111,
              "#46039f"
             ],
             [
              0.2222222222222222,
              "#7201a8"
             ],
             [
              0.3333333333333333,
              "#9c179e"
             ],
             [
              0.4444444444444444,
              "#bd3786"
             ],
             [
              0.5555555555555556,
              "#d8576b"
             ],
             [
              0.6666666666666666,
              "#ed7953"
             ],
             [
              0.7777777777777778,
              "#fb9f3a"
             ],
             [
              0.8888888888888888,
              "#fdca26"
             ],
             [
              1,
              "#f0f921"
             ]
            ],
            "type": "histogram2d"
           }
          ],
          "histogram2dcontour": [
           {
            "colorbar": {
             "outlinewidth": 0,
             "ticks": ""
            },
            "colorscale": [
             [
              0,
              "#0d0887"
             ],
             [
              0.1111111111111111,
              "#46039f"
             ],
             [
              0.2222222222222222,
              "#7201a8"
             ],
             [
              0.3333333333333333,
              "#9c179e"
             ],
             [
              0.4444444444444444,
              "#bd3786"
             ],
             [
              0.5555555555555556,
              "#d8576b"
             ],
             [
              0.6666666666666666,
              "#ed7953"
             ],
             [
              0.7777777777777778,
              "#fb9f3a"
             ],
             [
              0.8888888888888888,
              "#fdca26"
             ],
             [
              1,
              "#f0f921"
             ]
            ],
            "type": "histogram2dcontour"
           }
          ],
          "mesh3d": [
           {
            "colorbar": {
             "outlinewidth": 0,
             "ticks": ""
            },
            "type": "mesh3d"
           }
          ],
          "parcoords": [
           {
            "line": {
             "colorbar": {
              "outlinewidth": 0,
              "ticks": ""
             }
            },
            "type": "parcoords"
           }
          ],
          "pie": [
           {
            "automargin": true,
            "type": "pie"
           }
          ],
          "scatter": [
           {
            "fillpattern": {
             "fillmode": "overlay",
             "size": 10,
             "solidity": 0.2
            },
            "type": "scatter"
           }
          ],
          "scatter3d": [
           {
            "line": {
             "colorbar": {
              "outlinewidth": 0,
              "ticks": ""
             }
            },
            "marker": {
             "colorbar": {
              "outlinewidth": 0,
              "ticks": ""
             }
            },
            "type": "scatter3d"
           }
          ],
          "scattercarpet": [
           {
            "marker": {
             "colorbar": {
              "outlinewidth": 0,
              "ticks": ""
             }
            },
            "type": "scattercarpet"
           }
          ],
          "scattergeo": [
           {
            "marker": {
             "colorbar": {
              "outlinewidth": 0,
              "ticks": ""
             }
            },
            "type": "scattergeo"
           }
          ],
          "scattergl": [
           {
            "marker": {
             "colorbar": {
              "outlinewidth": 0,
              "ticks": ""
             }
            },
            "type": "scattergl"
           }
          ],
          "scattermapbox": [
           {
            "marker": {
             "colorbar": {
              "outlinewidth": 0,
              "ticks": ""
             }
            },
            "type": "scattermapbox"
           }
          ],
          "scatterpolar": [
           {
            "marker": {
             "colorbar": {
              "outlinewidth": 0,
              "ticks": ""
             }
            },
            "type": "scatterpolar"
           }
          ],
          "scatterpolargl": [
           {
            "marker": {
             "colorbar": {
              "outlinewidth": 0,
              "ticks": ""
             }
            },
            "type": "scatterpolargl"
           }
          ],
          "scatterternary": [
           {
            "marker": {
             "colorbar": {
              "outlinewidth": 0,
              "ticks": ""
             }
            },
            "type": "scatterternary"
           }
          ],
          "surface": [
           {
            "colorbar": {
             "outlinewidth": 0,
             "ticks": ""
            },
            "colorscale": [
             [
              0,
              "#0d0887"
             ],
             [
              0.1111111111111111,
              "#46039f"
             ],
             [
              0.2222222222222222,
              "#7201a8"
             ],
             [
              0.3333333333333333,
              "#9c179e"
             ],
             [
              0.4444444444444444,
              "#bd3786"
             ],
             [
              0.5555555555555556,
              "#d8576b"
             ],
             [
              0.6666666666666666,
              "#ed7953"
             ],
             [
              0.7777777777777778,
              "#fb9f3a"
             ],
             [
              0.8888888888888888,
              "#fdca26"
             ],
             [
              1,
              "#f0f921"
             ]
            ],
            "type": "surface"
           }
          ],
          "table": [
           {
            "cells": {
             "fill": {
              "color": "#EBF0F8"
             },
             "line": {
              "color": "white"
             }
            },
            "header": {
             "fill": {
              "color": "#C8D4E3"
             },
             "line": {
              "color": "white"
             }
            },
            "type": "table"
           }
          ]
         },
         "layout": {
          "annotationdefaults": {
           "arrowcolor": "#2a3f5f",
           "arrowhead": 0,
           "arrowwidth": 1
          },
          "autotypenumbers": "strict",
          "coloraxis": {
           "colorbar": {
            "outlinewidth": 0,
            "ticks": ""
           }
          },
          "colorscale": {
           "diverging": [
            [
             0,
             "#8e0152"
            ],
            [
             0.1,
             "#c51b7d"
            ],
            [
             0.2,
             "#de77ae"
            ],
            [
             0.3,
             "#f1b6da"
            ],
            [
             0.4,
             "#fde0ef"
            ],
            [
             0.5,
             "#f7f7f7"
            ],
            [
             0.6,
             "#e6f5d0"
            ],
            [
             0.7,
             "#b8e186"
            ],
            [
             0.8,
             "#7fbc41"
            ],
            [
             0.9,
             "#4d9221"
            ],
            [
             1,
             "#276419"
            ]
           ],
           "sequential": [
            [
             0,
             "#0d0887"
            ],
            [
             0.1111111111111111,
             "#46039f"
            ],
            [
             0.2222222222222222,
             "#7201a8"
            ],
            [
             0.3333333333333333,
             "#9c179e"
            ],
            [
             0.4444444444444444,
             "#bd3786"
            ],
            [
             0.5555555555555556,
             "#d8576b"
            ],
            [
             0.6666666666666666,
             "#ed7953"
            ],
            [
             0.7777777777777778,
             "#fb9f3a"
            ],
            [
             0.8888888888888888,
             "#fdca26"
            ],
            [
             1,
             "#f0f921"
            ]
           ],
           "sequentialminus": [
            [
             0,
             "#0d0887"
            ],
            [
             0.1111111111111111,
             "#46039f"
            ],
            [
             0.2222222222222222,
             "#7201a8"
            ],
            [
             0.3333333333333333,
             "#9c179e"
            ],
            [
             0.4444444444444444,
             "#bd3786"
            ],
            [
             0.5555555555555556,
             "#d8576b"
            ],
            [
             0.6666666666666666,
             "#ed7953"
            ],
            [
             0.7777777777777778,
             "#fb9f3a"
            ],
            [
             0.8888888888888888,
             "#fdca26"
            ],
            [
             1,
             "#f0f921"
            ]
           ]
          },
          "colorway": [
           "#636efa",
           "#EF553B",
           "#00cc96",
           "#ab63fa",
           "#FFA15A",
           "#19d3f3",
           "#FF6692",
           "#B6E880",
           "#FF97FF",
           "#FECB52"
          ],
          "font": {
           "color": "#2a3f5f"
          },
          "geo": {
           "bgcolor": "white",
           "lakecolor": "white",
           "landcolor": "white",
           "showlakes": true,
           "showland": true,
           "subunitcolor": "#C8D4E3"
          },
          "hoverlabel": {
           "align": "left"
          },
          "hovermode": "closest",
          "mapbox": {
           "style": "light"
          },
          "paper_bgcolor": "white",
          "plot_bgcolor": "white",
          "polar": {
           "angularaxis": {
            "gridcolor": "#EBF0F8",
            "linecolor": "#EBF0F8",
            "ticks": ""
           },
           "bgcolor": "white",
           "radialaxis": {
            "gridcolor": "#EBF0F8",
            "linecolor": "#EBF0F8",
            "ticks": ""
           }
          },
          "scene": {
           "xaxis": {
            "backgroundcolor": "white",
            "gridcolor": "#DFE8F3",
            "gridwidth": 2,
            "linecolor": "#EBF0F8",
            "showbackground": true,
            "ticks": "",
            "zerolinecolor": "#EBF0F8"
           },
           "yaxis": {
            "backgroundcolor": "white",
            "gridcolor": "#DFE8F3",
            "gridwidth": 2,
            "linecolor": "#EBF0F8",
            "showbackground": true,
            "ticks": "",
            "zerolinecolor": "#EBF0F8"
           },
           "zaxis": {
            "backgroundcolor": "white",
            "gridcolor": "#DFE8F3",
            "gridwidth": 2,
            "linecolor": "#EBF0F8",
            "showbackground": true,
            "ticks": "",
            "zerolinecolor": "#EBF0F8"
           }
          },
          "shapedefaults": {
           "line": {
            "color": "#2a3f5f"
           }
          },
          "ternary": {
           "aaxis": {
            "gridcolor": "#DFE8F3",
            "linecolor": "#A2B1C6",
            "ticks": ""
           },
           "baxis": {
            "gridcolor": "#DFE8F3",
            "linecolor": "#A2B1C6",
            "ticks": ""
           },
           "bgcolor": "white",
           "caxis": {
            "gridcolor": "#DFE8F3",
            "linecolor": "#A2B1C6",
            "ticks": ""
           }
          },
          "title": {
           "x": 0.05
          },
          "xaxis": {
           "automargin": true,
           "gridcolor": "#EBF0F8",
           "linecolor": "#EBF0F8",
           "ticks": "",
           "title": {
            "standoff": 15
           },
           "zerolinecolor": "#EBF0F8",
           "zerolinewidth": 2
          },
          "yaxis": {
           "automargin": true,
           "gridcolor": "#EBF0F8",
           "linecolor": "#EBF0F8",
           "ticks": "",
           "title": {
            "standoff": 15
           },
           "zerolinecolor": "#EBF0F8",
           "zerolinewidth": 2
          }
         }
        },
        "width": 900,
        "xaxis": {
         "anchor": "y",
         "domain": [
          0,
          1
         ],
         "title": {
          "text": ""
         }
        },
        "yaxis": {
         "anchor": "x",
         "domain": [
          0,
          1
         ],
         "title": {
          "text": "$USD"
         }
        }
       }
      },
      "text/html": [
       "<div>                            <div id=\"602f74dc-34b7-421f-a9ea-cfe7d90aed46\" class=\"plotly-graph-div\" style=\"height:400px; width:900px;\"></div>            <script type=\"text/javascript\">                require([\"plotly\"], function(Plotly) {                    window.PLOTLYENV=window.PLOTLYENV || {};                                    if (document.getElementById(\"602f74dc-34b7-421f-a9ea-cfe7d90aed46\")) {                    Plotly.newPlot(                        \"602f74dc-34b7-421f-a9ea-cfe7d90aed46\",                        [{\"alignmentgroup\":\"True\",\"hovertemplate\":\"=%{x}<br>$USD=%{marker.color}<extra></extra>\",\"legendgroup\":\"\",\"marker\":{\"color\":[37448.82,29200.6425,0.0,0.0,52701.0025,9077.69,20406.015,23011.86,16650.22,0.0,0.0,13366.275,85932.7,22162.962499999998,33446.815,87324.295,0.0,0.0,18486.04,38425.907999999996,5243.155,64866.1975,10086.92,0.0,0.0,18080.905,25725.0325,17016.47,269080.25,19134.98,0.0,0.0,14379.0325,43906.1725,4259.33,33070.335,14696.9,0.0,0.0,25818.8075,60583.409999999996,19934.72,34577.2525,10496.98,0.0,0.0,20507.392499999998,26006.6425,2586.54],\"coloraxis\":\"coloraxis\",\"pattern\":{\"shape\":\"\"}},\"name\":\"\",\"offsetgroup\":\"\",\"orientation\":\"v\",\"showlegend\":false,\"textposition\":\"outside\",\"texttemplate\":\"%{y:,.2s}\",\"x\":[\"2024-02-01T00:00:00\",\"2024-02-02T00:00:00\",\"2024-02-03T00:00:00\",\"2024-02-04T00:00:00\",\"2024-02-05T00:00:00\",\"2024-02-06T00:00:00\",\"2024-02-07T00:00:00\",\"2024-02-08T00:00:00\",\"2024-02-09T00:00:00\",\"2024-02-10T00:00:00\",\"2024-02-11T00:00:00\",\"2024-02-12T00:00:00\",\"2024-02-13T00:00:00\",\"2024-02-14T00:00:00\",\"2024-02-15T00:00:00\",\"2024-02-16T00:00:00\",\"2024-02-17T00:00:00\",\"2024-02-18T00:00:00\",\"2024-02-19T00:00:00\",\"2024-02-20T00:00:00\",\"2024-02-21T00:00:00\",\"2024-02-22T00:00:00\",\"2024-02-23T00:00:00\",\"2024-02-24T00:00:00\",\"2024-02-25T00:00:00\",\"2024-02-26T00:00:00\",\"2024-02-27T00:00:00\",\"2024-02-28T00:00:00\",\"2024-02-29T00:00:00\",\"2024-03-01T00:00:00\",\"2024-03-02T00:00:00\",\"2024-03-03T00:00:00\",\"2024-03-04T00:00:00\",\"2024-03-05T00:00:00\",\"2024-03-06T00:00:00\",\"2024-03-07T00:00:00\",\"2024-03-08T00:00:00\",\"2024-03-09T00:00:00\",\"2024-03-10T00:00:00\",\"2024-03-11T00:00:00\",\"2024-03-12T00:00:00\",\"2024-03-13T00:00:00\",\"2024-03-14T00:00:00\",\"2024-03-15T00:00:00\",\"2024-03-16T00:00:00\",\"2024-03-17T00:00:00\",\"2024-03-18T00:00:00\",\"2024-03-19T00:00:00\",\"2024-03-20T00:00:00\"],\"xaxis\":\"x\",\"y\":[37448.82,29200.6425,0.0,0.0,52701.0025,9077.69,20406.015,23011.86,16650.22,0.0,0.0,13366.275,85932.7,22162.962499999998,33446.815,87324.295,0.0,0.0,18486.04,38425.907999999996,5243.155,64866.1975,10086.92,0.0,0.0,18080.905,25725.0325,17016.47,269080.25,19134.98,0.0,0.0,14379.0325,43906.1725,4259.33,33070.335,14696.9,0.0,0.0,25818.8075,60583.409999999996,19934.72,34577.2525,10496.98,0.0,0.0,20507.392499999998,26006.6425,2586.54],\"yaxis\":\"y\",\"type\":\"bar\"}],                        {\"template\":{\"data\":{\"barpolar\":[{\"marker\":{\"line\":{\"color\":\"white\",\"width\":0.5},\"pattern\":{\"fillmode\":\"overlay\",\"size\":10,\"solidity\":0.2}},\"type\":\"barpolar\"}],\"bar\":[{\"error_x\":{\"color\":\"#2a3f5f\"},\"error_y\":{\"color\":\"#2a3f5f\"},\"marker\":{\"line\":{\"color\":\"white\",\"width\":0.5},\"pattern\":{\"fillmode\":\"overlay\",\"size\":10,\"solidity\":0.2}},\"type\":\"bar\"}],\"carpet\":[{\"aaxis\":{\"endlinecolor\":\"#2a3f5f\",\"gridcolor\":\"#C8D4E3\",\"linecolor\":\"#C8D4E3\",\"minorgridcolor\":\"#C8D4E3\",\"startlinecolor\":\"#2a3f5f\"},\"baxis\":{\"endlinecolor\":\"#2a3f5f\",\"gridcolor\":\"#C8D4E3\",\"linecolor\":\"#C8D4E3\",\"minorgridcolor\":\"#C8D4E3\",\"startlinecolor\":\"#2a3f5f\"},\"type\":\"carpet\"}],\"choropleth\":[{\"colorbar\":{\"outlinewidth\":0,\"ticks\":\"\"},\"type\":\"choropleth\"}],\"contourcarpet\":[{\"colorbar\":{\"outlinewidth\":0,\"ticks\":\"\"},\"type\":\"contourcarpet\"}],\"contour\":[{\"colorbar\":{\"outlinewidth\":0,\"ticks\":\"\"},\"colorscale\":[[0.0,\"#0d0887\"],[0.1111111111111111,\"#46039f\"],[0.2222222222222222,\"#7201a8\"],[0.3333333333333333,\"#9c179e\"],[0.4444444444444444,\"#bd3786\"],[0.5555555555555556,\"#d8576b\"],[0.6666666666666666,\"#ed7953\"],[0.7777777777777778,\"#fb9f3a\"],[0.8888888888888888,\"#fdca26\"],[1.0,\"#f0f921\"]],\"type\":\"contour\"}],\"heatmapgl\":[{\"colorbar\":{\"outlinewidth\":0,\"ticks\":\"\"},\"colorscale\":[[0.0,\"#0d0887\"],[0.1111111111111111,\"#46039f\"],[0.2222222222222222,\"#7201a8\"],[0.3333333333333333,\"#9c179e\"],[0.4444444444444444,\"#bd3786\"],[0.5555555555555556,\"#d8576b\"],[0.6666666666666666,\"#ed7953\"],[0.7777777777777778,\"#fb9f3a\"],[0.8888888888888888,\"#fdca26\"],[1.0,\"#f0f921\"]],\"type\":\"heatmapgl\"}],\"heatmap\":[{\"colorbar\":{\"outlinewidth\":0,\"ticks\":\"\"},\"colorscale\":[[0.0,\"#0d0887\"],[0.1111111111111111,\"#46039f\"],[0.2222222222222222,\"#7201a8\"],[0.3333333333333333,\"#9c179e\"],[0.4444444444444444,\"#bd3786\"],[0.5555555555555556,\"#d8576b\"],[0.6666666666666666,\"#ed7953\"],[0.7777777777777778,\"#fb9f3a\"],[0.8888888888888888,\"#fdca26\"],[1.0,\"#f0f921\"]],\"type\":\"heatmap\"}],\"histogram2dcontour\":[{\"colorbar\":{\"outlinewidth\":0,\"ticks\":\"\"},\"colorscale\":[[0.0,\"#0d0887\"],[0.1111111111111111,\"#46039f\"],[0.2222222222222222,\"#7201a8\"],[0.3333333333333333,\"#9c179e\"],[0.4444444444444444,\"#bd3786\"],[0.5555555555555556,\"#d8576b\"],[0.6666666666666666,\"#ed7953\"],[0.7777777777777778,\"#fb9f3a\"],[0.8888888888888888,\"#fdca26\"],[1.0,\"#f0f921\"]],\"type\":\"histogram2dcontour\"}],\"histogram2d\":[{\"colorbar\":{\"outlinewidth\":0,\"ticks\":\"\"},\"colorscale\":[[0.0,\"#0d0887\"],[0.1111111111111111,\"#46039f\"],[0.2222222222222222,\"#7201a8\"],[0.3333333333333333,\"#9c179e\"],[0.4444444444444444,\"#bd3786\"],[0.5555555555555556,\"#d8576b\"],[0.6666666666666666,\"#ed7953\"],[0.7777777777777778,\"#fb9f3a\"],[0.8888888888888888,\"#fdca26\"],[1.0,\"#f0f921\"]],\"type\":\"histogram2d\"}],\"histogram\":[{\"marker\":{\"pattern\":{\"fillmode\":\"overlay\",\"size\":10,\"solidity\":0.2}},\"type\":\"histogram\"}],\"mesh3d\":[{\"colorbar\":{\"outlinewidth\":0,\"ticks\":\"\"},\"type\":\"mesh3d\"}],\"parcoords\":[{\"line\":{\"colorbar\":{\"outlinewidth\":0,\"ticks\":\"\"}},\"type\":\"parcoords\"}],\"pie\":[{\"automargin\":true,\"type\":\"pie\"}],\"scatter3d\":[{\"line\":{\"colorbar\":{\"outlinewidth\":0,\"ticks\":\"\"}},\"marker\":{\"colorbar\":{\"outlinewidth\":0,\"ticks\":\"\"}},\"type\":\"scatter3d\"}],\"scattercarpet\":[{\"marker\":{\"colorbar\":{\"outlinewidth\":0,\"ticks\":\"\"}},\"type\":\"scattercarpet\"}],\"scattergeo\":[{\"marker\":{\"colorbar\":{\"outlinewidth\":0,\"ticks\":\"\"}},\"type\":\"scattergeo\"}],\"scattergl\":[{\"marker\":{\"colorbar\":{\"outlinewidth\":0,\"ticks\":\"\"}},\"type\":\"scattergl\"}],\"scattermapbox\":[{\"marker\":{\"colorbar\":{\"outlinewidth\":0,\"ticks\":\"\"}},\"type\":\"scattermapbox\"}],\"scatterpolargl\":[{\"marker\":{\"colorbar\":{\"outlinewidth\":0,\"ticks\":\"\"}},\"type\":\"scatterpolargl\"}],\"scatterpolar\":[{\"marker\":{\"colorbar\":{\"outlinewidth\":0,\"ticks\":\"\"}},\"type\":\"scatterpolar\"}],\"scatter\":[{\"fillpattern\":{\"fillmode\":\"overlay\",\"size\":10,\"solidity\":0.2},\"type\":\"scatter\"}],\"scatterternary\":[{\"marker\":{\"colorbar\":{\"outlinewidth\":0,\"ticks\":\"\"}},\"type\":\"scatterternary\"}],\"surface\":[{\"colorbar\":{\"outlinewidth\":0,\"ticks\":\"\"},\"colorscale\":[[0.0,\"#0d0887\"],[0.1111111111111111,\"#46039f\"],[0.2222222222222222,\"#7201a8\"],[0.3333333333333333,\"#9c179e\"],[0.4444444444444444,\"#bd3786\"],[0.5555555555555556,\"#d8576b\"],[0.6666666666666666,\"#ed7953\"],[0.7777777777777778,\"#fb9f3a\"],[0.8888888888888888,\"#fdca26\"],[1.0,\"#f0f921\"]],\"type\":\"surface\"}],\"table\":[{\"cells\":{\"fill\":{\"color\":\"#EBF0F8\"},\"line\":{\"color\":\"white\"}},\"header\":{\"fill\":{\"color\":\"#C8D4E3\"},\"line\":{\"color\":\"white\"}},\"type\":\"table\"}]},\"layout\":{\"annotationdefaults\":{\"arrowcolor\":\"#2a3f5f\",\"arrowhead\":0,\"arrowwidth\":1},\"autotypenumbers\":\"strict\",\"coloraxis\":{\"colorbar\":{\"outlinewidth\":0,\"ticks\":\"\"}},\"colorscale\":{\"diverging\":[[0,\"#8e0152\"],[0.1,\"#c51b7d\"],[0.2,\"#de77ae\"],[0.3,\"#f1b6da\"],[0.4,\"#fde0ef\"],[0.5,\"#f7f7f7\"],[0.6,\"#e6f5d0\"],[0.7,\"#b8e186\"],[0.8,\"#7fbc41\"],[0.9,\"#4d9221\"],[1,\"#276419\"]],\"sequential\":[[0.0,\"#0d0887\"],[0.1111111111111111,\"#46039f\"],[0.2222222222222222,\"#7201a8\"],[0.3333333333333333,\"#9c179e\"],[0.4444444444444444,\"#bd3786\"],[0.5555555555555556,\"#d8576b\"],[0.6666666666666666,\"#ed7953\"],[0.7777777777777778,\"#fb9f3a\"],[0.8888888888888888,\"#fdca26\"],[1.0,\"#f0f921\"]],\"sequentialminus\":[[0.0,\"#0d0887\"],[0.1111111111111111,\"#46039f\"],[0.2222222222222222,\"#7201a8\"],[0.3333333333333333,\"#9c179e\"],[0.4444444444444444,\"#bd3786\"],[0.5555555555555556,\"#d8576b\"],[0.6666666666666666,\"#ed7953\"],[0.7777777777777778,\"#fb9f3a\"],[0.8888888888888888,\"#fdca26\"],[1.0,\"#f0f921\"]]},\"colorway\":[\"#636efa\",\"#EF553B\",\"#00cc96\",\"#ab63fa\",\"#FFA15A\",\"#19d3f3\",\"#FF6692\",\"#B6E880\",\"#FF97FF\",\"#FECB52\"],\"font\":{\"color\":\"#2a3f5f\"},\"geo\":{\"bgcolor\":\"white\",\"lakecolor\":\"white\",\"landcolor\":\"white\",\"showlakes\":true,\"showland\":true,\"subunitcolor\":\"#C8D4E3\"},\"hoverlabel\":{\"align\":\"left\"},\"hovermode\":\"closest\",\"mapbox\":{\"style\":\"light\"},\"paper_bgcolor\":\"white\",\"plot_bgcolor\":\"white\",\"polar\":{\"angularaxis\":{\"gridcolor\":\"#EBF0F8\",\"linecolor\":\"#EBF0F8\",\"ticks\":\"\"},\"bgcolor\":\"white\",\"radialaxis\":{\"gridcolor\":\"#EBF0F8\",\"linecolor\":\"#EBF0F8\",\"ticks\":\"\"}},\"scene\":{\"xaxis\":{\"backgroundcolor\":\"white\",\"gridcolor\":\"#DFE8F3\",\"gridwidth\":2,\"linecolor\":\"#EBF0F8\",\"showbackground\":true,\"ticks\":\"\",\"zerolinecolor\":\"#EBF0F8\"},\"yaxis\":{\"backgroundcolor\":\"white\",\"gridcolor\":\"#DFE8F3\",\"gridwidth\":2,\"linecolor\":\"#EBF0F8\",\"showbackground\":true,\"ticks\":\"\",\"zerolinecolor\":\"#EBF0F8\"},\"zaxis\":{\"backgroundcolor\":\"white\",\"gridcolor\":\"#DFE8F3\",\"gridwidth\":2,\"linecolor\":\"#EBF0F8\",\"showbackground\":true,\"ticks\":\"\",\"zerolinecolor\":\"#EBF0F8\"}},\"shapedefaults\":{\"line\":{\"color\":\"#2a3f5f\"}},\"ternary\":{\"aaxis\":{\"gridcolor\":\"#DFE8F3\",\"linecolor\":\"#A2B1C6\",\"ticks\":\"\"},\"baxis\":{\"gridcolor\":\"#DFE8F3\",\"linecolor\":\"#A2B1C6\",\"ticks\":\"\"},\"bgcolor\":\"white\",\"caxis\":{\"gridcolor\":\"#DFE8F3\",\"linecolor\":\"#A2B1C6\",\"ticks\":\"\"}},\"title\":{\"x\":0.05},\"xaxis\":{\"automargin\":true,\"gridcolor\":\"#EBF0F8\",\"linecolor\":\"#EBF0F8\",\"ticks\":\"\",\"title\":{\"standoff\":15},\"zerolinecolor\":\"#EBF0F8\",\"zerolinewidth\":2},\"yaxis\":{\"automargin\":true,\"gridcolor\":\"#EBF0F8\",\"linecolor\":\"#EBF0F8\",\"ticks\":\"\",\"title\":{\"standoff\":15},\"zerolinecolor\":\"#EBF0F8\",\"zerolinewidth\":2}}},\"xaxis\":{\"anchor\":\"y\",\"domain\":[0.0,1.0],\"title\":{\"text\":\"\"}},\"yaxis\":{\"anchor\":\"x\",\"domain\":[0.0,1.0],\"title\":{\"text\":\"$USD\"}},\"coloraxis\":{\"colorbar\":{\"title\":{\"text\":\"$USD\"}},\"colorscale\":[[0.0,\"rgb(255,245,235)\"],[0.125,\"rgb(254,230,206)\"],[0.25,\"rgb(253,208,162)\"],[0.375,\"rgb(253,174,107)\"],[0.5,\"rgb(253,141,60)\"],[0.625,\"rgb(241,105,19)\"],[0.75,\"rgb(217,72,1)\"],[0.875,\"rgb(166,54,3)\"],[1.0,\"rgb(127,39,4)\"]],\"showscale\":false},\"legend\":{\"tracegroupgap\":0},\"margin\":{\"t\":60},\"barmode\":\"relative\",\"height\":400,\"width\":900},                        {\"responsive\": true}                    ).then(function(){\n",
       "                            \n",
       "var gd = document.getElementById('602f74dc-34b7-421f-a9ea-cfe7d90aed46');\n",
       "var x = new MutationObserver(function (mutations, observer) {{\n",
       "        var display = window.getComputedStyle(gd).display;\n",
       "        if (!display || display === 'none') {{\n",
       "            console.log([gd, 'removed!']);\n",
       "            Plotly.purge(gd);\n",
       "            observer.disconnect();\n",
       "        }}\n",
       "}});\n",
       "\n",
       "// Listen for the removal of the full notebook cells\n",
       "var notebookContainer = gd.closest('#notebook-container');\n",
       "if (notebookContainer) {{\n",
       "    x.observe(notebookContainer, {childList: true});\n",
       "}}\n",
       "\n",
       "// Listen for the clearing of the current output cell\n",
       "var outputEl = gd.closest('.output');\n",
       "if (outputEl) {{\n",
       "    x.observe(outputEl, {childList: true});\n",
       "}}\n",
       "\n",
       "                        })                };                });            </script>        </div>"
      ]
     },
     "metadata": {},
     "output_type": "display_data"
    }
   ],
   "source": [
    "### bar graph should populate if all is well\n",
    "# DAILY MTD\n",
    "\n",
    "# level_2 = pd.read_sql('SELECT * FROM level_2;', con = engine)\n",
    "level_2.date = pd.to_datetime(level_2.date)\n",
    "\n",
    "px.bar(level_2[level_2.date>'2024-01-31'].set_index('date').groupby(pd.Grouper(freq='d'))['usd'].sum(),\n",
    "        y='usd',\n",
    "        template='plotly_white',\n",
    "        labels={'usd':'$USD',\n",
    "                'date':''},\n",
    "        color='usd',\n",
    "        width=900,\n",
    "        color_continuous_scale='Oranges',\n",
    "        text_auto=\",.2s\",\n",
    "        height=400).update(layout_coloraxis_showscale=False).update_traces(textposition='outside')"
   ]
  },
  {
   "cell_type": "code",
   "execution_count": 27,
   "metadata": {},
   "outputs": [
    {
     "data": {
      "text/plain": [
       "datetime.date(2024, 3, 20)"
      ]
     },
     "execution_count": 27,
     "metadata": {},
     "output_type": "execute_result"
    }
   ],
   "source": [
    "level_1.completed_date.max()"
   ]
  },
  {
   "cell_type": "code",
   "execution_count": 28,
   "metadata": {},
   "outputs": [
    {
     "data": {
      "text/plain": [
       "Timestamp('2024-03-20 00:00:00')"
      ]
     },
     "execution_count": 28,
     "metadata": {},
     "output_type": "execute_result"
    }
   ],
   "source": [
    "level_2.date.max()"
   ]
  },
  {
   "cell_type": "code",
   "execution_count": 29,
   "metadata": {},
   "outputs": [],
   "source": [
    "# MAKE LEVEL_2 INTO TABLEU PREP OUTPUT"
   ]
  },
  {
   "cell_type": "code",
   "execution_count": 30,
   "metadata": {},
   "outputs": [],
   "source": [
    "# load in level_2 and check columns\n",
    "\n",
    "level_2 = pd.read_sql(\"SELECT * FROM level_2 WHERE date > '2020-12-31';\", con = engine)\n",
    "\n",
    "tab = level_2.copy().drop(columns=['qty','cad','month','year'])\n",
    "tab.columns\n",
    "\n",
    "# fix columns to mimic tableau download data output\n",
    "\n",
    "tab.columns = ['Invoice Date', 'Sale Origin', 'Market Segment', 'Parent Customer', 'Customer', 'Item Full Description', 'Dollars', ]\n",
    "\n",
    "# add vistar retail y/n column\n",
    "\n",
    "tab['Vistar Retail'] = np.where(tab['Parent Customer'] == 'Vistar Retail', str('Yes'), str('No'))\n",
    "\n",
    "tab.to_csv(r\"C:\\Users\\mikej\\Desktop\\cpg-sales\\data\\all_sales_data_tableau.csv\", index=False)"
   ]
  },
  {
   "cell_type": "code",
   "execution_count": 31,
   "metadata": {},
   "outputs": [],
   "source": [
    "# make unleashed raw tableau-ready (level_1)\n",
    "# load in level_1 and check columns\n",
    "\n",
    "level_1 = pd.read_sql(\"SELECT * FROM unleashed_clean WHERE completed_date > '2020-12-31';\", con = engine)\n",
    "\n",
    "\n",
    "# load in level_1 and check columns\n",
    "\n",
    "tab = level_1.copy().drop(columns=['month','year'])\n",
    "\n",
    "# fix columns to mimic tableau download data output\n",
    "\n",
    "tab.columns = ['Customer Name', 'Invoice Date','Item Full Description', 'Quantity','Sub Total', 'Dollars', 'Table','Market Segment', 'Parent Customer']\n",
    "\n",
    "tab['Table'] = 'Unleashed'\n",
    "\n",
    "tab.to_csv(r\"C:\\Users\\mikej\\Desktop\\cpg-sales\\data\\level_1_tableau.csv\", index=False)"
   ]
  },
  {
   "cell_type": "code",
   "execution_count": 32,
   "metadata": {},
   "outputs": [
    {
     "data": {
      "application/vnd.plotly.v1+json": {
       "config": {
        "plotlyServerURL": "https://plot.ly"
       },
       "data": [
        {
         "hovertemplate": "variable=sub_total<br>completed_date=%{x}<br>value=%{y}<extra></extra>",
         "legendgroup": "sub_total",
         "marker": {
          "color": "#000001",
          "symbol": "circle"
         },
         "mode": "markers",
         "name": "sub_total",
         "orientation": "v",
         "showlegend": true,
         "type": "scatter",
         "x": [
          "2023-01-30",
          "2023-01-30",
          "2023-01-30",
          "2023-01-30",
          "2023-01-30",
          "2023-01-30",
          "2023-01-31",
          "2023-01-31",
          "2023-02-28",
          "2023-02-28",
          "2023-02-28",
          "2023-02-28",
          "2023-02-28",
          "2023-02-28",
          "2023-02-28",
          "2023-02-28",
          "2023-02-28",
          "2023-02-28",
          "2023-02-28",
          "2023-02-28",
          "2023-02-28",
          "2023-02-28",
          "2023-02-28",
          "2023-02-28",
          "2023-03-21",
          "2023-03-21",
          "2023-03-21",
          "2023-03-21",
          "2023-03-21",
          "2023-03-21",
          "2023-03-30",
          "2023-03-30",
          "2023-03-30",
          "2023-03-30",
          "2023-03-30",
          "2023-03-30",
          "2023-03-31",
          "2023-03-31",
          "2023-03-31",
          "2023-03-31",
          "2023-03-31",
          "2023-04-25",
          "2023-04-25",
          "2023-04-25",
          "2023-04-27",
          "2023-04-27",
          "2023-04-27",
          "2023-04-27",
          "2023-04-27",
          "2023-04-27",
          "2023-04-29",
          "2023-04-29",
          "2023-04-29",
          "2023-05-23",
          "2023-05-23",
          "2023-05-23",
          "2023-05-23",
          "2023-05-23",
          "2023-05-29",
          "2023-05-29",
          "2023-05-29",
          "2023-05-29",
          "2023-05-29",
          "2023-05-31",
          "2023-05-31",
          "2023-05-31",
          "2023-05-31",
          "2023-05-31",
          "2023-05-31",
          "2023-06-23",
          "2023-06-23",
          "2023-06-23",
          "2023-06-23",
          "2023-06-28",
          "2023-06-28",
          "2023-06-28",
          "2023-06-28",
          "2023-06-28",
          "2023-06-28",
          "2023-06-30",
          "2023-07-18",
          "2023-07-18",
          "2023-07-18",
          "2023-07-18",
          "2023-07-18",
          "2023-07-19",
          "2023-07-31",
          "2023-07-31",
          "2023-07-31",
          "2023-07-31",
          "2023-07-31",
          "2023-07-31",
          "2023-07-31",
          "2023-08-22",
          "2023-08-28",
          "2023-08-28",
          "2023-08-28",
          "2023-08-28",
          "2023-08-28",
          "2023-08-28",
          "2023-08-28",
          "2023-08-28",
          "2023-08-31",
          "2023-08-31",
          "2023-08-31",
          "2023-08-31",
          "2023-08-31",
          "2023-08-31",
          "2023-08-31",
          "2023-08-31",
          "2023-09-18",
          "2023-09-18",
          "2023-09-18",
          "2023-09-18",
          "2023-09-18",
          "2023-09-18",
          "2023-09-18",
          "2023-09-18",
          "2023-09-28",
          "2023-09-28",
          "2023-09-28",
          "2023-09-28",
          "2023-09-28",
          "2023-09-28",
          "2023-09-28",
          "2023-09-28",
          "2023-09-28",
          "2023-09-29",
          "2023-09-29",
          "2023-09-29",
          "2023-09-29",
          "2023-09-29",
          "2023-10-26",
          "2023-10-26",
          "2023-10-26",
          "2023-10-26",
          "2023-10-26",
          "2023-10-26",
          "2023-10-26",
          "2023-10-26",
          "2023-10-26",
          "2023-10-26",
          "2023-10-31",
          "2023-10-31",
          "2023-10-31",
          "2023-10-31",
          "2023-10-31",
          "2023-10-31",
          "2023-10-31",
          "2023-11-24",
          "2023-11-24",
          "2023-11-24",
          "2023-11-24",
          "2023-11-24",
          "2023-11-24",
          "2023-11-24",
          "2023-11-24",
          "2023-11-24",
          "2023-11-29",
          "2023-11-29",
          "2023-11-29",
          "2023-11-29",
          "2023-11-29",
          "2023-11-29",
          "2023-11-29",
          "2023-11-29",
          "2023-11-29",
          "2023-11-29",
          "2023-11-29",
          "2023-11-30",
          "2023-11-30",
          "2023-11-30",
          "2023-11-30",
          "2023-11-30",
          "2023-11-30",
          "2023-11-30",
          "2023-11-30",
          "2023-12-19",
          "2023-12-19",
          "2023-12-19",
          "2023-12-19",
          "2023-12-19",
          "2023-12-19",
          "2023-12-19",
          "2023-12-28",
          "2023-12-29",
          "2023-12-29",
          "2023-12-29",
          "2023-12-29",
          "2023-12-29",
          "2023-12-29",
          "2023-12-29",
          "2023-12-29",
          "2023-12-29",
          "2023-12-29",
          "2024-01-31",
          "2024-01-31",
          "2024-01-31",
          "2024-01-31",
          "2024-01-31",
          "2024-01-31",
          "2024-01-31",
          "2024-01-31",
          "2024-01-31",
          "2024-02-29",
          "2024-02-29",
          "2024-02-29",
          "2024-02-29",
          "2024-02-29",
          "2024-02-29",
          "2024-02-29",
          "2024-02-29"
         ],
         "xaxis": "x",
         "y": [
          18117.33,
          21848.14,
          21848.14,
          53979.99,
          15736.32,
          10936,
          234800.6,
          52359.08,
          47479.69,
          31495.68,
          19432.8,
          29350.07,
          185883.81,
          15747.84,
          45293.33,
          96054,
          117400.3,
          24729.01,
          48740.4,
          15747.84,
          15736.32,
          29244.24,
          60559.76,
          47208.96,
          15736.32,
          92941.9,
          19566.72,
          19432.8,
          31495.68,
          195667.16,
          39133.43,
          19566.72,
          15826.56,
          68236.56,
          47243.52,
          15736.32,
          15736.32,
          15826.56,
          127183.66,
          36234.66,
          38865.59,
          67823.29,
          19378.08,
          48445.21,
          29067.13,
          67823.29,
          67823.29,
          19378.08,
          15674.88,
          31349.75,
          67823.29,
          77512.32999999999,
          48445.21,
          19378.08,
          184091.79,
          27213.33,
          21770.66,
          32655.99,
          38756.17,
          38756.17,
          58134.25,
          26914.01,
          25119.74,
          31349.75,
          31349.75,
          5878.08,
          58134.25,
          19378.08,
          29067.13,
          26914.01,
          96890.42,
          19378.08,
          31349.75,
          29067.13,
          19378.08,
          19378.08,
          38756.17,
          15674.88,
          9689.04,
          193780.84,
          23512.31,
          47024.63,
          11756.16,
          9689.04,
          19378.08,
          9928.6,
          9689.04,
          15674.88,
          15674.88,
          29067.13,
          19378.08,
          9689.04,
          135646.59,
          116268.5,
          6459.84,
          6459.84,
          58134.25,
          58134.25,
          48445.21,
          31132.04,
          41690.81,
          23512.31,
          16328,
          35885.34,
          17942.67,
          10885.33,
          134570.03,
          10885.33,
          44856.68,
          22428.34,
          27213.33,
          19378.08,
          77512.32999999999,
          19378.08,
          9689.04,
          9689.04,
          350,
          350,
          9689.04,
          116268.5,
          8164,
          9689.04,
          19378.08,
          106579.46,
          9689.04,
          59869.32,
          21770.66,
          16328,
          35885.34,
          35885.34,
          44856.68,
          98684.68999999999,
          58134.25,
          125957.54,
          20899.83,
          41799.67,
          38756.17,
          9689.04,
          38756.17,
          350,
          38756.17,
          350,
          44856.68,
          139235.12,
          58134.25,
          1750,
          19378.08,
          15674.88,
          47024.63,
          135646.59,
          9689.04,
          3500,
          19378.08,
          19378.08,
          10885.33,
          9689.04,
          31349.75,
          7000,
          7000,
          7000,
          13300,
          12216,
          14000,
          38756.17,
          12216,
          47024.63,
          9689.04,
          31349.75,
          48445.21,
          197369.37,
          96890.42,
          38756.17,
          19378.08,
          19378.08,
          31349.75,
          15674.88,
          89713.35,
          31349.75,
          77512.32999999999,
          31349.75,
          38756.17,
          35167.63,
          7000,
          31349.75,
          193780.84,
          19378.08,
          31349.75,
          96890.42,
          19378.08,
          38756.17,
          6580,
          6580,
          6580,
          12559.87,
          9689.04,
          31249.93,
          31249.93,
          28976.41,
          96588.02,
          38635.21,
          9658.8,
          28976.41,
          77270.40999999999,
          31249.93,
          144882,
          38635.21,
          77270.40999999999,
          8138,
          19317.6,
          46874.89,
          15624.96,
          31249.92
         ],
         "yaxis": "y"
        }
       ],
       "layout": {
        "legend": {
         "title": {
          "text": "variable"
         },
         "tracegroupgap": 0
        },
        "margin": {
         "t": 60
        },
        "template": {
         "data": {
          "candlestick": [
           {
            "decreasing": {
             "line": {
              "color": "#000033"
             }
            },
            "increasing": {
             "line": {
              "color": "#000032"
             }
            },
            "type": "candlestick"
           }
          ],
          "contour": [
           {
            "colorscale": [
             [
              0,
              "#000011"
             ],
             [
              0.1111111111111111,
              "#000012"
             ],
             [
              0.2222222222222222,
              "#000013"
             ],
             [
              0.3333333333333333,
              "#000014"
             ],
             [
              0.4444444444444444,
              "#000015"
             ],
             [
              0.5555555555555556,
              "#000016"
             ],
             [
              0.6666666666666666,
              "#000017"
             ],
             [
              0.7777777777777778,
              "#000018"
             ],
             [
              0.8888888888888888,
              "#000019"
             ],
             [
              1,
              "#000020"
             ]
            ],
            "type": "contour"
           }
          ],
          "contourcarpet": [
           {
            "colorscale": [
             [
              0,
              "#000011"
             ],
             [
              0.1111111111111111,
              "#000012"
             ],
             [
              0.2222222222222222,
              "#000013"
             ],
             [
              0.3333333333333333,
              "#000014"
             ],
             [
              0.4444444444444444,
              "#000015"
             ],
             [
              0.5555555555555556,
              "#000016"
             ],
             [
              0.6666666666666666,
              "#000017"
             ],
             [
              0.7777777777777778,
              "#000018"
             ],
             [
              0.8888888888888888,
              "#000019"
             ],
             [
              1,
              "#000020"
             ]
            ],
            "type": "contourcarpet"
           }
          ],
          "heatmap": [
           {
            "colorscale": [
             [
              0,
              "#000011"
             ],
             [
              0.1111111111111111,
              "#000012"
             ],
             [
              0.2222222222222222,
              "#000013"
             ],
             [
              0.3333333333333333,
              "#000014"
             ],
             [
              0.4444444444444444,
              "#000015"
             ],
             [
              0.5555555555555556,
              "#000016"
             ],
             [
              0.6666666666666666,
              "#000017"
             ],
             [
              0.7777777777777778,
              "#000018"
             ],
             [
              0.8888888888888888,
              "#000019"
             ],
             [
              1,
              "#000020"
             ]
            ],
            "type": "heatmap"
           }
          ],
          "histogram2d": [
           {
            "colorscale": [
             [
              0,
              "#000011"
             ],
             [
              0.1111111111111111,
              "#000012"
             ],
             [
              0.2222222222222222,
              "#000013"
             ],
             [
              0.3333333333333333,
              "#000014"
             ],
             [
              0.4444444444444444,
              "#000015"
             ],
             [
              0.5555555555555556,
              "#000016"
             ],
             [
              0.6666666666666666,
              "#000017"
             ],
             [
              0.7777777777777778,
              "#000018"
             ],
             [
              0.8888888888888888,
              "#000019"
             ],
             [
              1,
              "#000020"
             ]
            ],
            "type": "histogram2d"
           }
          ],
          "icicle": [
           {
            "textfont": {
             "color": "white"
            },
            "type": "icicle"
           }
          ],
          "sankey": [
           {
            "textfont": {
             "color": "#000036"
            },
            "type": "sankey"
           }
          ],
          "scatter": [
           {
            "marker": {
             "line": {
              "width": 0
             }
            },
            "type": "scatter"
           }
          ],
          "table": [
           {
            "cells": {
             "fill": {
              "color": "#000038"
             },
             "font": {
              "color": "#000037"
             },
             "line": {
              "color": "#000039"
             }
            },
            "header": {
             "fill": {
              "color": "#000040"
             },
             "font": {
              "color": "#000036"
             },
             "line": {
              "color": "#000039"
             }
            },
            "type": "table"
           }
          ],
          "waterfall": [
           {
            "connector": {
             "line": {
              "color": "#000036",
              "width": 2
             }
            },
            "decreasing": {
             "marker": {
              "color": "#000033"
             }
            },
            "increasing": {
             "marker": {
              "color": "#000032"
             }
            },
            "totals": {
             "marker": {
              "color": "#000034"
             }
            },
            "type": "waterfall"
           }
          ]
         },
         "layout": {
          "coloraxis": {
           "colorscale": [
            [
             0,
             "#000011"
            ],
            [
             0.1111111111111111,
             "#000012"
            ],
            [
             0.2222222222222222,
             "#000013"
            ],
            [
             0.3333333333333333,
             "#000014"
            ],
            [
             0.4444444444444444,
             "#000015"
            ],
            [
             0.5555555555555556,
             "#000016"
            ],
            [
             0.6666666666666666,
             "#000017"
            ],
            [
             0.7777777777777778,
             "#000018"
            ],
            [
             0.8888888888888888,
             "#000019"
            ],
            [
             1,
             "#000020"
            ]
           ]
          },
          "colorscale": {
           "diverging": [
            [
             0,
             "#000021"
            ],
            [
             0.1,
             "#000022"
            ],
            [
             0.2,
             "#000023"
            ],
            [
             0.3,
             "#000024"
            ],
            [
             0.4,
             "#000025"
            ],
            [
             0.5,
             "#000026"
            ],
            [
             0.6,
             "#000027"
            ],
            [
             0.7,
             "#000028"
            ],
            [
             0.8,
             "#000029"
            ],
            [
             0.9,
             "#000030"
            ],
            [
             1,
             "#000031"
            ]
           ],
           "sequential": [
            [
             0,
             "#000011"
            ],
            [
             0.1111111111111111,
             "#000012"
            ],
            [
             0.2222222222222222,
             "#000013"
            ],
            [
             0.3333333333333333,
             "#000014"
            ],
            [
             0.4444444444444444,
             "#000015"
            ],
            [
             0.5555555555555556,
             "#000016"
            ],
            [
             0.6666666666666666,
             "#000017"
            ],
            [
             0.7777777777777778,
             "#000018"
            ],
            [
             0.8888888888888888,
             "#000019"
            ],
            [
             1,
             "#000020"
            ]
           ],
           "sequentialminus": [
            [
             0,
             "#000011"
            ],
            [
             0.1111111111111111,
             "#000012"
            ],
            [
             0.2222222222222222,
             "#000013"
            ],
            [
             0.3333333333333333,
             "#000014"
            ],
            [
             0.4444444444444444,
             "#000015"
            ],
            [
             0.5555555555555556,
             "#000016"
            ],
            [
             0.6666666666666666,
             "#000017"
            ],
            [
             0.7777777777777778,
             "#000018"
            ],
            [
             0.8888888888888888,
             "#000019"
            ],
            [
             1,
             "#000020"
            ]
           ]
          },
          "colorway": [
           "#000001",
           "#000002",
           "#000003",
           "#000004",
           "#000005",
           "#000006",
           "#000007",
           "#000008",
           "#000009",
           "#000010"
          ]
         }
        },
        "xaxis": {
         "anchor": "y",
         "domain": [
          0,
          1
         ],
         "title": {
          "text": "completed_date"
         }
        },
        "yaxis": {
         "anchor": "x",
         "domain": [
          0,
          1
         ],
         "title": {
          "text": "value"
         }
        }
       }
      },
      "text/html": [
       "<div>                            <div id=\"ab05a064-e771-4b8e-8ef0-4a5b90f7942b\" class=\"plotly-graph-div\" style=\"height:525px; width:100%;\"></div>            <script type=\"text/javascript\">                require([\"plotly\"], function(Plotly) {                    window.PLOTLYENV=window.PLOTLYENV || {};                                    if (document.getElementById(\"ab05a064-e771-4b8e-8ef0-4a5b90f7942b\")) {                    Plotly.newPlot(                        \"ab05a064-e771-4b8e-8ef0-4a5b90f7942b\",                        [{\"hovertemplate\":\"variable=sub_total<br>completed_date=%{x}<br>value=%{y}<extra></extra>\",\"legendgroup\":\"sub_total\",\"marker\":{\"color\":\"#000001\",\"symbol\":\"circle\"},\"mode\":\"markers\",\"name\":\"sub_total\",\"orientation\":\"v\",\"showlegend\":true,\"x\":[\"2023-01-30\",\"2023-01-30\",\"2023-01-30\",\"2023-01-30\",\"2023-01-30\",\"2023-01-30\",\"2023-01-31\",\"2023-01-31\",\"2023-02-28\",\"2023-02-28\",\"2023-02-28\",\"2023-02-28\",\"2023-02-28\",\"2023-02-28\",\"2023-02-28\",\"2023-02-28\",\"2023-02-28\",\"2023-02-28\",\"2023-02-28\",\"2023-02-28\",\"2023-02-28\",\"2023-02-28\",\"2023-02-28\",\"2023-02-28\",\"2023-03-21\",\"2023-03-21\",\"2023-03-21\",\"2023-03-21\",\"2023-03-21\",\"2023-03-21\",\"2023-03-30\",\"2023-03-30\",\"2023-03-30\",\"2023-03-30\",\"2023-03-30\",\"2023-03-30\",\"2023-03-31\",\"2023-03-31\",\"2023-03-31\",\"2023-03-31\",\"2023-03-31\",\"2023-04-25\",\"2023-04-25\",\"2023-04-25\",\"2023-04-27\",\"2023-04-27\",\"2023-04-27\",\"2023-04-27\",\"2023-04-27\",\"2023-04-27\",\"2023-04-29\",\"2023-04-29\",\"2023-04-29\",\"2023-05-23\",\"2023-05-23\",\"2023-05-23\",\"2023-05-23\",\"2023-05-23\",\"2023-05-29\",\"2023-05-29\",\"2023-05-29\",\"2023-05-29\",\"2023-05-29\",\"2023-05-31\",\"2023-05-31\",\"2023-05-31\",\"2023-05-31\",\"2023-05-31\",\"2023-05-31\",\"2023-06-23\",\"2023-06-23\",\"2023-06-23\",\"2023-06-23\",\"2023-06-28\",\"2023-06-28\",\"2023-06-28\",\"2023-06-28\",\"2023-06-28\",\"2023-06-28\",\"2023-06-30\",\"2023-07-18\",\"2023-07-18\",\"2023-07-18\",\"2023-07-18\",\"2023-07-18\",\"2023-07-19\",\"2023-07-31\",\"2023-07-31\",\"2023-07-31\",\"2023-07-31\",\"2023-07-31\",\"2023-07-31\",\"2023-07-31\",\"2023-08-22\",\"2023-08-28\",\"2023-08-28\",\"2023-08-28\",\"2023-08-28\",\"2023-08-28\",\"2023-08-28\",\"2023-08-28\",\"2023-08-28\",\"2023-08-31\",\"2023-08-31\",\"2023-08-31\",\"2023-08-31\",\"2023-08-31\",\"2023-08-31\",\"2023-08-31\",\"2023-08-31\",\"2023-09-18\",\"2023-09-18\",\"2023-09-18\",\"2023-09-18\",\"2023-09-18\",\"2023-09-18\",\"2023-09-18\",\"2023-09-18\",\"2023-09-28\",\"2023-09-28\",\"2023-09-28\",\"2023-09-28\",\"2023-09-28\",\"2023-09-28\",\"2023-09-28\",\"2023-09-28\",\"2023-09-28\",\"2023-09-29\",\"2023-09-29\",\"2023-09-29\",\"2023-09-29\",\"2023-09-29\",\"2023-10-26\",\"2023-10-26\",\"2023-10-26\",\"2023-10-26\",\"2023-10-26\",\"2023-10-26\",\"2023-10-26\",\"2023-10-26\",\"2023-10-26\",\"2023-10-26\",\"2023-10-31\",\"2023-10-31\",\"2023-10-31\",\"2023-10-31\",\"2023-10-31\",\"2023-10-31\",\"2023-10-31\",\"2023-11-24\",\"2023-11-24\",\"2023-11-24\",\"2023-11-24\",\"2023-11-24\",\"2023-11-24\",\"2023-11-24\",\"2023-11-24\",\"2023-11-24\",\"2023-11-29\",\"2023-11-29\",\"2023-11-29\",\"2023-11-29\",\"2023-11-29\",\"2023-11-29\",\"2023-11-29\",\"2023-11-29\",\"2023-11-29\",\"2023-11-29\",\"2023-11-29\",\"2023-11-30\",\"2023-11-30\",\"2023-11-30\",\"2023-11-30\",\"2023-11-30\",\"2023-11-30\",\"2023-11-30\",\"2023-11-30\",\"2023-12-19\",\"2023-12-19\",\"2023-12-19\",\"2023-12-19\",\"2023-12-19\",\"2023-12-19\",\"2023-12-19\",\"2023-12-28\",\"2023-12-29\",\"2023-12-29\",\"2023-12-29\",\"2023-12-29\",\"2023-12-29\",\"2023-12-29\",\"2023-12-29\",\"2023-12-29\",\"2023-12-29\",\"2023-12-29\",\"2024-01-31\",\"2024-01-31\",\"2024-01-31\",\"2024-01-31\",\"2024-01-31\",\"2024-01-31\",\"2024-01-31\",\"2024-01-31\",\"2024-01-31\",\"2024-02-29\",\"2024-02-29\",\"2024-02-29\",\"2024-02-29\",\"2024-02-29\",\"2024-02-29\",\"2024-02-29\",\"2024-02-29\"],\"xaxis\":\"x\",\"y\":[18117.33,21848.14,21848.14,53979.99,15736.32,10936.0,234800.6,52359.08,47479.69,31495.68,19432.8,29350.07,185883.81,15747.84,45293.33,96054.0,117400.3,24729.01,48740.4,15747.84,15736.32,29244.24,60559.76,47208.96,15736.32,92941.9,19566.72,19432.8,31495.68,195667.16,39133.43,19566.72,15826.56,68236.56,47243.52,15736.32,15736.32,15826.56,127183.66,36234.66,38865.59,67823.29,19378.08,48445.21,29067.13,67823.29,67823.29,19378.08,15674.88,31349.75,67823.29,77512.32999999999,48445.21,19378.08,184091.79,27213.33,21770.66,32655.99,38756.17,38756.17,58134.25,26914.01,25119.74,31349.75,31349.75,5878.08,58134.25,19378.08,29067.13,26914.01,96890.42,19378.08,31349.75,29067.13,19378.08,19378.08,38756.17,15674.88,9689.04,193780.84,23512.31,47024.63,11756.16,9689.04,19378.08,9928.6,9689.04,15674.88,15674.88,29067.13,19378.08,9689.04,135646.59,116268.5,6459.84,6459.84,58134.25,58134.25,48445.21,31132.04,41690.81,23512.31,16328.0,35885.34,17942.67,10885.33,134570.03,10885.33,44856.68,22428.34,27213.33,19378.08,77512.32999999999,19378.08,9689.04,9689.04,350.0,350.0,9689.04,116268.5,8164.0,9689.04,19378.08,106579.46,9689.04,59869.32,21770.66,16328.0,35885.34,35885.34,44856.68,98684.68999999999,58134.25,125957.54,20899.83,41799.67,38756.17,9689.04,38756.17,350.0,38756.17,350.0,44856.68,139235.12,58134.25,1750.0,19378.08,15674.88,47024.63,135646.59,9689.04,3500.0,19378.08,19378.08,10885.33,9689.04,31349.75,7000.0,7000.0,7000.0,13300.0,12216.0,14000.0,38756.17,12216.0,47024.63,9689.04,31349.75,48445.21,197369.37,96890.42,38756.17,19378.08,19378.08,31349.75,15674.88,89713.35,31349.75,77512.32999999999,31349.75,38756.17,35167.63,7000.0,31349.75,193780.84,19378.08,31349.75,96890.42,19378.08,38756.17,6580.0,6580.0,6580.0,12559.87,9689.04,31249.93,31249.93,28976.41,96588.02,38635.21,9658.8,28976.41,77270.40999999999,31249.93,144882.0,38635.21,77270.40999999999,8138.0,19317.6,46874.89,15624.96,31249.92],\"yaxis\":\"y\",\"type\":\"scatter\"}],                        {\"template\":{\"data\":{\"candlestick\":[{\"decreasing\":{\"line\":{\"color\":\"#000033\"}},\"increasing\":{\"line\":{\"color\":\"#000032\"}},\"type\":\"candlestick\"}],\"contourcarpet\":[{\"colorscale\":[[0.0,\"#000011\"],[0.1111111111111111,\"#000012\"],[0.2222222222222222,\"#000013\"],[0.3333333333333333,\"#000014\"],[0.4444444444444444,\"#000015\"],[0.5555555555555556,\"#000016\"],[0.6666666666666666,\"#000017\"],[0.7777777777777778,\"#000018\"],[0.8888888888888888,\"#000019\"],[1.0,\"#000020\"]],\"type\":\"contourcarpet\"}],\"contour\":[{\"colorscale\":[[0.0,\"#000011\"],[0.1111111111111111,\"#000012\"],[0.2222222222222222,\"#000013\"],[0.3333333333333333,\"#000014\"],[0.4444444444444444,\"#000015\"],[0.5555555555555556,\"#000016\"],[0.6666666666666666,\"#000017\"],[0.7777777777777778,\"#000018\"],[0.8888888888888888,\"#000019\"],[1.0,\"#000020\"]],\"type\":\"contour\"}],\"heatmap\":[{\"colorscale\":[[0.0,\"#000011\"],[0.1111111111111111,\"#000012\"],[0.2222222222222222,\"#000013\"],[0.3333333333333333,\"#000014\"],[0.4444444444444444,\"#000015\"],[0.5555555555555556,\"#000016\"],[0.6666666666666666,\"#000017\"],[0.7777777777777778,\"#000018\"],[0.8888888888888888,\"#000019\"],[1.0,\"#000020\"]],\"type\":\"heatmap\"}],\"histogram2d\":[{\"colorscale\":[[0.0,\"#000011\"],[0.1111111111111111,\"#000012\"],[0.2222222222222222,\"#000013\"],[0.3333333333333333,\"#000014\"],[0.4444444444444444,\"#000015\"],[0.5555555555555556,\"#000016\"],[0.6666666666666666,\"#000017\"],[0.7777777777777778,\"#000018\"],[0.8888888888888888,\"#000019\"],[1.0,\"#000020\"]],\"type\":\"histogram2d\"}],\"icicle\":[{\"textfont\":{\"color\":\"white\"},\"type\":\"icicle\"}],\"sankey\":[{\"textfont\":{\"color\":\"#000036\"},\"type\":\"sankey\"}],\"scatter\":[{\"marker\":{\"line\":{\"width\":0}},\"type\":\"scatter\"}],\"table\":[{\"cells\":{\"fill\":{\"color\":\"#000038\"},\"font\":{\"color\":\"#000037\"},\"line\":{\"color\":\"#000039\"}},\"header\":{\"fill\":{\"color\":\"#000040\"},\"font\":{\"color\":\"#000036\"},\"line\":{\"color\":\"#000039\"}},\"type\":\"table\"}],\"waterfall\":[{\"connector\":{\"line\":{\"color\":\"#000036\",\"width\":2}},\"decreasing\":{\"marker\":{\"color\":\"#000033\"}},\"increasing\":{\"marker\":{\"color\":\"#000032\"}},\"totals\":{\"marker\":{\"color\":\"#000034\"}},\"type\":\"waterfall\"}]},\"layout\":{\"coloraxis\":{\"colorscale\":[[0.0,\"#000011\"],[0.1111111111111111,\"#000012\"],[0.2222222222222222,\"#000013\"],[0.3333333333333333,\"#000014\"],[0.4444444444444444,\"#000015\"],[0.5555555555555556,\"#000016\"],[0.6666666666666666,\"#000017\"],[0.7777777777777778,\"#000018\"],[0.8888888888888888,\"#000019\"],[1.0,\"#000020\"]]},\"colorscale\":{\"diverging\":[[0.0,\"#000021\"],[0.1,\"#000022\"],[0.2,\"#000023\"],[0.3,\"#000024\"],[0.4,\"#000025\"],[0.5,\"#000026\"],[0.6,\"#000027\"],[0.7,\"#000028\"],[0.8,\"#000029\"],[0.9,\"#000030\"],[1.0,\"#000031\"]],\"sequential\":[[0.0,\"#000011\"],[0.1111111111111111,\"#000012\"],[0.2222222222222222,\"#000013\"],[0.3333333333333333,\"#000014\"],[0.4444444444444444,\"#000015\"],[0.5555555555555556,\"#000016\"],[0.6666666666666666,\"#000017\"],[0.7777777777777778,\"#000018\"],[0.8888888888888888,\"#000019\"],[1.0,\"#000020\"]],\"sequentialminus\":[[0.0,\"#000011\"],[0.1111111111111111,\"#000012\"],[0.2222222222222222,\"#000013\"],[0.3333333333333333,\"#000014\"],[0.4444444444444444,\"#000015\"],[0.5555555555555556,\"#000016\"],[0.6666666666666666,\"#000017\"],[0.7777777777777778,\"#000018\"],[0.8888888888888888,\"#000019\"],[1.0,\"#000020\"]]},\"colorway\":[\"#000001\",\"#000002\",\"#000003\",\"#000004\",\"#000005\",\"#000006\",\"#000007\",\"#000008\",\"#000009\",\"#000010\"]}},\"xaxis\":{\"anchor\":\"y\",\"domain\":[0.0,1.0],\"title\":{\"text\":\"completed_date\"}},\"yaxis\":{\"anchor\":\"x\",\"domain\":[0.0,1.0],\"title\":{\"text\":\"value\"}},\"legend\":{\"title\":{\"text\":\"variable\"},\"tracegroupgap\":0},\"margin\":{\"t\":60}},                        {\"responsive\": true}                    ).then(function(){\n",
       "                            \n",
       "var gd = document.getElementById('ab05a064-e771-4b8e-8ef0-4a5b90f7942b');\n",
       "var x = new MutationObserver(function (mutations, observer) {{\n",
       "        var display = window.getComputedStyle(gd).display;\n",
       "        if (!display || display === 'none') {{\n",
       "            console.log([gd, 'removed!']);\n",
       "            Plotly.purge(gd);\n",
       "            observer.disconnect();\n",
       "        }}\n",
       "}});\n",
       "\n",
       "// Listen for the removal of the full notebook cells\n",
       "var notebookContainer = gd.closest('#notebook-container');\n",
       "if (notebookContainer) {{\n",
       "    x.observe(notebookContainer, {childList: true});\n",
       "}}\n",
       "\n",
       "// Listen for the clearing of the current output cell\n",
       "var outputEl = gd.closest('.output');\n",
       "if (outputEl) {{\n",
       "    x.observe(outputEl, {childList: true});\n",
       "}}\n",
       "\n",
       "                        })                };                });            </script>        </div>"
      ]
     },
     "metadata": {},
     "output_type": "display_data"
    }
   ],
   "source": [
    "l1 = pd.read_sql(\"SELECT * FROM unleashed_raw WHERE completed_date > '2022-12-31';\", con = engine)\n",
    "px.scatter(l1[l1.customer_name=='DOT Foods, Inc.'][['completed_date','sub_total']].set_index('completed_date').sort_index())"
   ]
  },
  {
   "cell_type": "code",
   "execution_count": 33,
   "metadata": {},
   "outputs": [
    {
     "data": {
      "application/vnd.plotly.v1+json": {
       "config": {
        "plotlyServerURL": "https://plot.ly"
       },
       "data": [
        {
         "alignmentgroup": "True",
         "hovertemplate": "variable=usd<br>parent_customer=%{x}<br>value=%{y}<extra></extra>",
         "legendgroup": "usd",
         "marker": {
          "color": "#000001",
          "pattern": {
           "shape": ""
          }
         },
         "name": "usd",
         "offsetgroup": "usd",
         "orientation": "v",
         "showlegend": true,
         "textposition": "auto",
         "type": "bar",
         "x": [
          "AAFES",
          "Agile Distributors",
          "Amazon",
          "American Wholesale",
          "BCM Direct",
          "BCS Int'l Royal Food",
          "Bulk Barn",
          "Burlington Merchandising",
          "Canadian Consolidation Centre",
          "Canteen of Canada",
          "Clayton & Kendrick",
          "Cloth & Paper",
          "Consumer",
          "Core-Mark Canada",
          "Cost Plus Mgmt",
          "Costco Canada",
          "Direct University",
          "Dollar Tree Canada",
          "Dot Foods Canada",
          "Eurocafe Imports",
          "Fahad Alzuabi",
          "Giant Eagle",
          "Giant Tiger",
          "Global Wholesale",
          "Go Java",
          "Home Goods",
          "Homesense",
          "Imperial",
          "Innovus Pharm",
          "Itwal",
          "KeHe",
          "Lamacar",
          "Legacy Distributors",
          "Loblaws",
          "Lolli & Pops",
          "Marshalls",
          "Meijer",
          "Metro 360",
          "Mindful Snacks",
          "Mood & Mind",
          "MunchPak",
          "NA Buffen",
          "NY Food Natural",
          "Nassau",
          "Nephron Pharmacy",
          "Open Marketplace",
          "Purity Life",
          "Redstone Foods",
          "RightSleeve",
          "Ross Stores",
          "S Abraham & Son",
          "Samples",
          "Shopify",
          "Shoppers Drug Mart",
          "Snack Sack",
          "SnackMagic",
          "Splendid",
          "Sweetie Candy",
          "TJ Maxx",
          "TPS United Way",
          "Test Order",
          "The Lift Box",
          "Tropical",
          "UNFI",
          "Ventrex Vending",
          "Vistar Retail",
          "World Pantry",
          "YP Naturals"
         ],
         "xaxis": "x",
         "y": [
          36017.744999999995,
          3467.5200000000004,
          3726275.1,
          12105.869999999999,
          706.47,
          94286.7675,
          335486.685,
          4883.1975,
          49301.76,
          6468,
          53837.0325,
          1843.7024999999999,
          453,
          320136.12,
          19845.2475,
          264994.14,
          58968.99,
          159161.76,
          67.47749999999999,
          4401.0375,
          1800,
          40355.0475,
          22755.09,
          7607.9475,
          325.5,
          29299.9425,
          6930,
          3895.1099999999997,
          11692.9575,
          116696.73,
          77633.1075,
          34937.775,
          36746.97,
          46752.7425,
          25688.775,
          4700.01,
          92025.7575,
          21668.04,
          11024.4525,
          308.6775,
          3087.315,
          21918.6,
          16791.75,
          452660.7525,
          2079.99,
          10728.6,
          97711.845,
          2070.315,
          2933.55,
          4304.6775,
          246475.5975,
          6753.3975,
          392827.785,
          670364.0925,
          0,
          567,
          43362,
          19323.5325,
          5299.995,
          362.25,
          1278.8475,
          1650,
          0,
          621147.165,
          1320,
          178323.66,
          1687327.6875,
          40146.3975
         ],
         "yaxis": "y"
        }
       ],
       "layout": {
        "barmode": "relative",
        "legend": {
         "title": {
          "text": "variable"
         },
         "tracegroupgap": 0
        },
        "margin": {
         "t": 60
        },
        "template": {
         "data": {
          "candlestick": [
           {
            "decreasing": {
             "line": {
              "color": "#000033"
             }
            },
            "increasing": {
             "line": {
              "color": "#000032"
             }
            },
            "type": "candlestick"
           }
          ],
          "contour": [
           {
            "colorscale": [
             [
              0,
              "#000011"
             ],
             [
              0.1111111111111111,
              "#000012"
             ],
             [
              0.2222222222222222,
              "#000013"
             ],
             [
              0.3333333333333333,
              "#000014"
             ],
             [
              0.4444444444444444,
              "#000015"
             ],
             [
              0.5555555555555556,
              "#000016"
             ],
             [
              0.6666666666666666,
              "#000017"
             ],
             [
              0.7777777777777778,
              "#000018"
             ],
             [
              0.8888888888888888,
              "#000019"
             ],
             [
              1,
              "#000020"
             ]
            ],
            "type": "contour"
           }
          ],
          "contourcarpet": [
           {
            "colorscale": [
             [
              0,
              "#000011"
             ],
             [
              0.1111111111111111,
              "#000012"
             ],
             [
              0.2222222222222222,
              "#000013"
             ],
             [
              0.3333333333333333,
              "#000014"
             ],
             [
              0.4444444444444444,
              "#000015"
             ],
             [
              0.5555555555555556,
              "#000016"
             ],
             [
              0.6666666666666666,
              "#000017"
             ],
             [
              0.7777777777777778,
              "#000018"
             ],
             [
              0.8888888888888888,
              "#000019"
             ],
             [
              1,
              "#000020"
             ]
            ],
            "type": "contourcarpet"
           }
          ],
          "heatmap": [
           {
            "colorscale": [
             [
              0,
              "#000011"
             ],
             [
              0.1111111111111111,
              "#000012"
             ],
             [
              0.2222222222222222,
              "#000013"
             ],
             [
              0.3333333333333333,
              "#000014"
             ],
             [
              0.4444444444444444,
              "#000015"
             ],
             [
              0.5555555555555556,
              "#000016"
             ],
             [
              0.6666666666666666,
              "#000017"
             ],
             [
              0.7777777777777778,
              "#000018"
             ],
             [
              0.8888888888888888,
              "#000019"
             ],
             [
              1,
              "#000020"
             ]
            ],
            "type": "heatmap"
           }
          ],
          "histogram2d": [
           {
            "colorscale": [
             [
              0,
              "#000011"
             ],
             [
              0.1111111111111111,
              "#000012"
             ],
             [
              0.2222222222222222,
              "#000013"
             ],
             [
              0.3333333333333333,
              "#000014"
             ],
             [
              0.4444444444444444,
              "#000015"
             ],
             [
              0.5555555555555556,
              "#000016"
             ],
             [
              0.6666666666666666,
              "#000017"
             ],
             [
              0.7777777777777778,
              "#000018"
             ],
             [
              0.8888888888888888,
              "#000019"
             ],
             [
              1,
              "#000020"
             ]
            ],
            "type": "histogram2d"
           }
          ],
          "icicle": [
           {
            "textfont": {
             "color": "white"
            },
            "type": "icicle"
           }
          ],
          "sankey": [
           {
            "textfont": {
             "color": "#000036"
            },
            "type": "sankey"
           }
          ],
          "scatter": [
           {
            "marker": {
             "line": {
              "width": 0
             }
            },
            "type": "scatter"
           }
          ],
          "table": [
           {
            "cells": {
             "fill": {
              "color": "#000038"
             },
             "font": {
              "color": "#000037"
             },
             "line": {
              "color": "#000039"
             }
            },
            "header": {
             "fill": {
              "color": "#000040"
             },
             "font": {
              "color": "#000036"
             },
             "line": {
              "color": "#000039"
             }
            },
            "type": "table"
           }
          ],
          "waterfall": [
           {
            "connector": {
             "line": {
              "color": "#000036",
              "width": 2
             }
            },
            "decreasing": {
             "marker": {
              "color": "#000033"
             }
            },
            "increasing": {
             "marker": {
              "color": "#000032"
             }
            },
            "totals": {
             "marker": {
              "color": "#000034"
             }
            },
            "type": "waterfall"
           }
          ]
         },
         "layout": {
          "coloraxis": {
           "colorscale": [
            [
             0,
             "#000011"
            ],
            [
             0.1111111111111111,
             "#000012"
            ],
            [
             0.2222222222222222,
             "#000013"
            ],
            [
             0.3333333333333333,
             "#000014"
            ],
            [
             0.4444444444444444,
             "#000015"
            ],
            [
             0.5555555555555556,
             "#000016"
            ],
            [
             0.6666666666666666,
             "#000017"
            ],
            [
             0.7777777777777778,
             "#000018"
            ],
            [
             0.8888888888888888,
             "#000019"
            ],
            [
             1,
             "#000020"
            ]
           ]
          },
          "colorscale": {
           "diverging": [
            [
             0,
             "#000021"
            ],
            [
             0.1,
             "#000022"
            ],
            [
             0.2,
             "#000023"
            ],
            [
             0.3,
             "#000024"
            ],
            [
             0.4,
             "#000025"
            ],
            [
             0.5,
             "#000026"
            ],
            [
             0.6,
             "#000027"
            ],
            [
             0.7,
             "#000028"
            ],
            [
             0.8,
             "#000029"
            ],
            [
             0.9,
             "#000030"
            ],
            [
             1,
             "#000031"
            ]
           ],
           "sequential": [
            [
             0,
             "#000011"
            ],
            [
             0.1111111111111111,
             "#000012"
            ],
            [
             0.2222222222222222,
             "#000013"
            ],
            [
             0.3333333333333333,
             "#000014"
            ],
            [
             0.4444444444444444,
             "#000015"
            ],
            [
             0.5555555555555556,
             "#000016"
            ],
            [
             0.6666666666666666,
             "#000017"
            ],
            [
             0.7777777777777778,
             "#000018"
            ],
            [
             0.8888888888888888,
             "#000019"
            ],
            [
             1,
             "#000020"
            ]
           ],
           "sequentialminus": [
            [
             0,
             "#000011"
            ],
            [
             0.1111111111111111,
             "#000012"
            ],
            [
             0.2222222222222222,
             "#000013"
            ],
            [
             0.3333333333333333,
             "#000014"
            ],
            [
             0.4444444444444444,
             "#000015"
            ],
            [
             0.5555555555555556,
             "#000016"
            ],
            [
             0.6666666666666666,
             "#000017"
            ],
            [
             0.7777777777777778,
             "#000018"
            ],
            [
             0.8888888888888888,
             "#000019"
            ],
            [
             1,
             "#000020"
            ]
           ]
          },
          "colorway": [
           "#000001",
           "#000002",
           "#000003",
           "#000004",
           "#000005",
           "#000006",
           "#000007",
           "#000008",
           "#000009",
           "#000010"
          ]
         }
        },
        "xaxis": {
         "anchor": "y",
         "domain": [
          0,
          1
         ],
         "title": {
          "text": "parent_customer"
         }
        },
        "yaxis": {
         "anchor": "x",
         "domain": [
          0,
          1
         ],
         "title": {
          "text": "value"
         }
        }
       }
      },
      "text/html": [
       "<div>                            <div id=\"8de65333-2ebe-4337-ac0f-e502e40dc6f5\" class=\"plotly-graph-div\" style=\"height:525px; width:100%;\"></div>            <script type=\"text/javascript\">                require([\"plotly\"], function(Plotly) {                    window.PLOTLYENV=window.PLOTLYENV || {};                                    if (document.getElementById(\"8de65333-2ebe-4337-ac0f-e502e40dc6f5\")) {                    Plotly.newPlot(                        \"8de65333-2ebe-4337-ac0f-e502e40dc6f5\",                        [{\"alignmentgroup\":\"True\",\"hovertemplate\":\"variable=usd<br>parent_customer=%{x}<br>value=%{y}<extra></extra>\",\"legendgroup\":\"usd\",\"marker\":{\"color\":\"#000001\",\"pattern\":{\"shape\":\"\"}},\"name\":\"usd\",\"offsetgroup\":\"usd\",\"orientation\":\"v\",\"showlegend\":true,\"textposition\":\"auto\",\"x\":[\"AAFES\",\"Agile Distributors\",\"Amazon\",\"American Wholesale\",\"BCM Direct\",\"BCS Int'l Royal Food\",\"Bulk Barn\",\"Burlington Merchandising\",\"Canadian Consolidation Centre\",\"Canteen of Canada\",\"Clayton & Kendrick\",\"Cloth & Paper\",\"Consumer\",\"Core-Mark Canada\",\"Cost Plus Mgmt\",\"Costco Canada\",\"Direct University\",\"Dollar Tree Canada\",\"Dot Foods Canada\",\"Eurocafe Imports\",\"Fahad Alzuabi\",\"Giant Eagle\",\"Giant Tiger\",\"Global Wholesale\",\"Go Java\",\"Home Goods\",\"Homesense\",\"Imperial\",\"Innovus Pharm\",\"Itwal\",\"KeHe\",\"Lamacar\",\"Legacy Distributors\",\"Loblaws\",\"Lolli & Pops\",\"Marshalls\",\"Meijer\",\"Metro 360\",\"Mindful Snacks\",\"Mood & Mind\",\"MunchPak\",\"NA Buffen\",\"NY Food Natural\",\"Nassau\",\"Nephron Pharmacy\",\"Open Marketplace\",\"Purity Life\",\"Redstone Foods\",\"RightSleeve\",\"Ross Stores\",\"S Abraham & Son\",\"Samples\",\"Shopify\",\"Shoppers Drug Mart\",\"Snack Sack\",\"SnackMagic\",\"Splendid\",\"Sweetie Candy\",\"TJ Maxx\",\"TPS United Way\",\"Test Order\",\"The Lift Box\",\"Tropical\",\"UNFI\",\"Ventrex Vending\",\"Vistar Retail\",\"World Pantry\",\"YP Naturals\"],\"xaxis\":\"x\",\"y\":[36017.744999999995,3467.5200000000004,3726275.1,12105.869999999999,706.47,94286.7675,335486.685,4883.1975,49301.76,6468.0,53837.0325,1843.7024999999999,453.0,320136.12,19845.2475,264994.14,58968.99,159161.76,67.47749999999999,4401.0375,1800.0,40355.0475,22755.09,7607.9475,325.5,29299.9425,6930.0,3895.1099999999997,11692.9575,116696.73,77633.1075,34937.775,36746.97,46752.7425,25688.775,4700.01,92025.7575,21668.04,11024.4525,308.6775,3087.315,21918.6,16791.75,452660.7525,2079.99,10728.6,97711.845,2070.315,2933.55,4304.6775,246475.5975,6753.3975,392827.785,670364.0925,0.0,567.0,43362.0,19323.5325,5299.995,362.25,1278.8475,1650.0,0.0,621147.165,1320.0,178323.66,1687327.6875,40146.3975],\"yaxis\":\"y\",\"type\":\"bar\"}],                        {\"template\":{\"data\":{\"candlestick\":[{\"decreasing\":{\"line\":{\"color\":\"#000033\"}},\"increasing\":{\"line\":{\"color\":\"#000032\"}},\"type\":\"candlestick\"}],\"contourcarpet\":[{\"colorscale\":[[0.0,\"#000011\"],[0.1111111111111111,\"#000012\"],[0.2222222222222222,\"#000013\"],[0.3333333333333333,\"#000014\"],[0.4444444444444444,\"#000015\"],[0.5555555555555556,\"#000016\"],[0.6666666666666666,\"#000017\"],[0.7777777777777778,\"#000018\"],[0.8888888888888888,\"#000019\"],[1.0,\"#000020\"]],\"type\":\"contourcarpet\"}],\"contour\":[{\"colorscale\":[[0.0,\"#000011\"],[0.1111111111111111,\"#000012\"],[0.2222222222222222,\"#000013\"],[0.3333333333333333,\"#000014\"],[0.4444444444444444,\"#000015\"],[0.5555555555555556,\"#000016\"],[0.6666666666666666,\"#000017\"],[0.7777777777777778,\"#000018\"],[0.8888888888888888,\"#000019\"],[1.0,\"#000020\"]],\"type\":\"contour\"}],\"heatmap\":[{\"colorscale\":[[0.0,\"#000011\"],[0.1111111111111111,\"#000012\"],[0.2222222222222222,\"#000013\"],[0.3333333333333333,\"#000014\"],[0.4444444444444444,\"#000015\"],[0.5555555555555556,\"#000016\"],[0.6666666666666666,\"#000017\"],[0.7777777777777778,\"#000018\"],[0.8888888888888888,\"#000019\"],[1.0,\"#000020\"]],\"type\":\"heatmap\"}],\"histogram2d\":[{\"colorscale\":[[0.0,\"#000011\"],[0.1111111111111111,\"#000012\"],[0.2222222222222222,\"#000013\"],[0.3333333333333333,\"#000014\"],[0.4444444444444444,\"#000015\"],[0.5555555555555556,\"#000016\"],[0.6666666666666666,\"#000017\"],[0.7777777777777778,\"#000018\"],[0.8888888888888888,\"#000019\"],[1.0,\"#000020\"]],\"type\":\"histogram2d\"}],\"icicle\":[{\"textfont\":{\"color\":\"white\"},\"type\":\"icicle\"}],\"sankey\":[{\"textfont\":{\"color\":\"#000036\"},\"type\":\"sankey\"}],\"scatter\":[{\"marker\":{\"line\":{\"width\":0}},\"type\":\"scatter\"}],\"table\":[{\"cells\":{\"fill\":{\"color\":\"#000038\"},\"font\":{\"color\":\"#000037\"},\"line\":{\"color\":\"#000039\"}},\"header\":{\"fill\":{\"color\":\"#000040\"},\"font\":{\"color\":\"#000036\"},\"line\":{\"color\":\"#000039\"}},\"type\":\"table\"}],\"waterfall\":[{\"connector\":{\"line\":{\"color\":\"#000036\",\"width\":2}},\"decreasing\":{\"marker\":{\"color\":\"#000033\"}},\"increasing\":{\"marker\":{\"color\":\"#000032\"}},\"totals\":{\"marker\":{\"color\":\"#000034\"}},\"type\":\"waterfall\"}]},\"layout\":{\"coloraxis\":{\"colorscale\":[[0.0,\"#000011\"],[0.1111111111111111,\"#000012\"],[0.2222222222222222,\"#000013\"],[0.3333333333333333,\"#000014\"],[0.4444444444444444,\"#000015\"],[0.5555555555555556,\"#000016\"],[0.6666666666666666,\"#000017\"],[0.7777777777777778,\"#000018\"],[0.8888888888888888,\"#000019\"],[1.0,\"#000020\"]]},\"colorscale\":{\"diverging\":[[0.0,\"#000021\"],[0.1,\"#000022\"],[0.2,\"#000023\"],[0.3,\"#000024\"],[0.4,\"#000025\"],[0.5,\"#000026\"],[0.6,\"#000027\"],[0.7,\"#000028\"],[0.8,\"#000029\"],[0.9,\"#000030\"],[1.0,\"#000031\"]],\"sequential\":[[0.0,\"#000011\"],[0.1111111111111111,\"#000012\"],[0.2222222222222222,\"#000013\"],[0.3333333333333333,\"#000014\"],[0.4444444444444444,\"#000015\"],[0.5555555555555556,\"#000016\"],[0.6666666666666666,\"#000017\"],[0.7777777777777778,\"#000018\"],[0.8888888888888888,\"#000019\"],[1.0,\"#000020\"]],\"sequentialminus\":[[0.0,\"#000011\"],[0.1111111111111111,\"#000012\"],[0.2222222222222222,\"#000013\"],[0.3333333333333333,\"#000014\"],[0.4444444444444444,\"#000015\"],[0.5555555555555556,\"#000016\"],[0.6666666666666666,\"#000017\"],[0.7777777777777778,\"#000018\"],[0.8888888888888888,\"#000019\"],[1.0,\"#000020\"]]},\"colorway\":[\"#000001\",\"#000002\",\"#000003\",\"#000004\",\"#000005\",\"#000006\",\"#000007\",\"#000008\",\"#000009\",\"#000010\"]}},\"xaxis\":{\"anchor\":\"y\",\"domain\":[0.0,1.0],\"title\":{\"text\":\"parent_customer\"}},\"yaxis\":{\"anchor\":\"x\",\"domain\":[0.0,1.0],\"title\":{\"text\":\"value\"}},\"legend\":{\"title\":{\"text\":\"variable\"},\"tracegroupgap\":0},\"margin\":{\"t\":60},\"barmode\":\"relative\"},                        {\"responsive\": true}                    ).then(function(){\n",
       "                            \n",
       "var gd = document.getElementById('8de65333-2ebe-4337-ac0f-e502e40dc6f5');\n",
       "var x = new MutationObserver(function (mutations, observer) {{\n",
       "        var display = window.getComputedStyle(gd).display;\n",
       "        if (!display || display === 'none') {{\n",
       "            console.log([gd, 'removed!']);\n",
       "            Plotly.purge(gd);\n",
       "            observer.disconnect();\n",
       "        }}\n",
       "}});\n",
       "\n",
       "// Listen for the removal of the full notebook cells\n",
       "var notebookContainer = gd.closest('#notebook-container');\n",
       "if (notebookContainer) {{\n",
       "    x.observe(notebookContainer, {childList: true});\n",
       "}}\n",
       "\n",
       "// Listen for the clearing of the current output cell\n",
       "var outputEl = gd.closest('.output');\n",
       "if (outputEl) {{\n",
       "    x.observe(outputEl, {childList: true});\n",
       "}}\n",
       "\n",
       "                        })                };                });            </script>        </div>"
      ]
     },
     "metadata": {},
     "output_type": "display_data"
    }
   ],
   "source": [
    "px.bar(pd.DataFrame(level_1.groupby('parent_customer')['usd'].sum()))"
   ]
  },
  {
   "cell_type": "code",
   "execution_count": 34,
   "metadata": {},
   "outputs": [
    {
     "data": {
      "application/vnd.plotly.v1+json": {
       "config": {
        "plotlyServerURL": "https://plot.ly"
       },
       "data": [
        {
         "alignmentgroup": "True",
         "hovertemplate": "$%{y:.2s}<br>%{x:%Y-%m-%d}<br>",
         "legendgroup": "",
         "marker": {
          "color": "rgb(239, 83, 80)",
          "pattern": {
           "shape": ""
          }
         },
         "name": "",
         "offsetgroup": "",
         "orientation": "v",
         "showlegend": false,
         "textposition": "auto",
         "texttemplate": "%{y:,.2s}",
         "type": "bar",
         "x": [
          "2024-02-01T00:00:00",
          "2024-02-02T00:00:00",
          "2024-02-05T00:00:00",
          "2024-02-06T00:00:00",
          "2024-02-07T00:00:00",
          "2024-02-08T00:00:00",
          "2024-02-09T00:00:00",
          "2024-02-12T00:00:00",
          "2024-02-13T00:00:00",
          "2024-02-14T00:00:00",
          "2024-02-15T00:00:00",
          "2024-02-16T00:00:00",
          "2024-02-19T00:00:00",
          "2024-02-20T00:00:00",
          "2024-02-21T00:00:00",
          "2024-02-22T00:00:00",
          "2024-02-23T00:00:00",
          "2024-02-26T00:00:00",
          "2024-02-27T00:00:00",
          "2024-02-28T00:00:00",
          "2024-02-29T00:00:00",
          "2024-03-01T00:00:00",
          "2024-03-04T00:00:00",
          "2024-03-05T00:00:00",
          "2024-03-06T00:00:00",
          "2024-03-07T00:00:00",
          "2024-03-11T00:00:00",
          "2024-03-12T00:00:00",
          "2024-03-13T00:00:00",
          "2024-03-14T00:00:00",
          "2024-03-18T00:00:00",
          "2024-03-19T00:00:00",
          "2024-03-20T00:00:00"
         ],
         "xaxis": "x",
         "y": [
          231,
          806,
          282,
          516,
          16560,
          74,
          0,
          70,
          47765,
          12466,
          11100,
          77930,
          0,
          7170,
          2761,
          36172,
          0,
          201,
          35,
          8510,
          495423,
          0,
          1085,
          26465,
          665,
          350,
          7501,
          33635,
          8062,
          17869,
          186,
          2661,
          0
         ],
         "yaxis": "y"
        }
       ],
       "layout": {
        "barmode": "relative",
        "coloraxis": {
         "showscale": false
        },
        "height": 325,
        "hoverlabel": {
         "font": {
          "family": "Rockwell",
          "size": 18
         }
        },
        "legend": {
         "tracegroupgap": 0
        },
        "margin": {
         "t": 60
        },
        "template": {
         "data": {
          "bar": [
           {
            "error_x": {
             "color": "#2a3f5f"
            },
            "error_y": {
             "color": "#2a3f5f"
            },
            "marker": {
             "line": {
              "color": "white",
              "width": 0.5
             },
             "pattern": {
              "fillmode": "overlay",
              "size": 10,
              "solidity": 0.2
             }
            },
            "type": "bar"
           }
          ],
          "barpolar": [
           {
            "marker": {
             "line": {
              "color": "white",
              "width": 0.5
             },
             "pattern": {
              "fillmode": "overlay",
              "size": 10,
              "solidity": 0.2
             }
            },
            "type": "barpolar"
           }
          ],
          "carpet": [
           {
            "aaxis": {
             "endlinecolor": "#2a3f5f",
             "gridcolor": "#C8D4E3",
             "linecolor": "#C8D4E3",
             "minorgridcolor": "#C8D4E3",
             "startlinecolor": "#2a3f5f"
            },
            "baxis": {
             "endlinecolor": "#2a3f5f",
             "gridcolor": "#C8D4E3",
             "linecolor": "#C8D4E3",
             "minorgridcolor": "#C8D4E3",
             "startlinecolor": "#2a3f5f"
            },
            "type": "carpet"
           }
          ],
          "choropleth": [
           {
            "colorbar": {
             "outlinewidth": 0,
             "ticks": ""
            },
            "type": "choropleth"
           }
          ],
          "contour": [
           {
            "colorbar": {
             "outlinewidth": 0,
             "ticks": ""
            },
            "colorscale": [
             [
              0,
              "#0d0887"
             ],
             [
              0.1111111111111111,
              "#46039f"
             ],
             [
              0.2222222222222222,
              "#7201a8"
             ],
             [
              0.3333333333333333,
              "#9c179e"
             ],
             [
              0.4444444444444444,
              "#bd3786"
             ],
             [
              0.5555555555555556,
              "#d8576b"
             ],
             [
              0.6666666666666666,
              "#ed7953"
             ],
             [
              0.7777777777777778,
              "#fb9f3a"
             ],
             [
              0.8888888888888888,
              "#fdca26"
             ],
             [
              1,
              "#f0f921"
             ]
            ],
            "type": "contour"
           }
          ],
          "contourcarpet": [
           {
            "colorbar": {
             "outlinewidth": 0,
             "ticks": ""
            },
            "type": "contourcarpet"
           }
          ],
          "heatmap": [
           {
            "colorbar": {
             "outlinewidth": 0,
             "ticks": ""
            },
            "colorscale": [
             [
              0,
              "#0d0887"
             ],
             [
              0.1111111111111111,
              "#46039f"
             ],
             [
              0.2222222222222222,
              "#7201a8"
             ],
             [
              0.3333333333333333,
              "#9c179e"
             ],
             [
              0.4444444444444444,
              "#bd3786"
             ],
             [
              0.5555555555555556,
              "#d8576b"
             ],
             [
              0.6666666666666666,
              "#ed7953"
             ],
             [
              0.7777777777777778,
              "#fb9f3a"
             ],
             [
              0.8888888888888888,
              "#fdca26"
             ],
             [
              1,
              "#f0f921"
             ]
            ],
            "type": "heatmap"
           }
          ],
          "heatmapgl": [
           {
            "colorbar": {
             "outlinewidth": 0,
             "ticks": ""
            },
            "colorscale": [
             [
              0,
              "#0d0887"
             ],
             [
              0.1111111111111111,
              "#46039f"
             ],
             [
              0.2222222222222222,
              "#7201a8"
             ],
             [
              0.3333333333333333,
              "#9c179e"
             ],
             [
              0.4444444444444444,
              "#bd3786"
             ],
             [
              0.5555555555555556,
              "#d8576b"
             ],
             [
              0.6666666666666666,
              "#ed7953"
             ],
             [
              0.7777777777777778,
              "#fb9f3a"
             ],
             [
              0.8888888888888888,
              "#fdca26"
             ],
             [
              1,
              "#f0f921"
             ]
            ],
            "type": "heatmapgl"
           }
          ],
          "histogram": [
           {
            "marker": {
             "pattern": {
              "fillmode": "overlay",
              "size": 10,
              "solidity": 0.2
             }
            },
            "type": "histogram"
           }
          ],
          "histogram2d": [
           {
            "colorbar": {
             "outlinewidth": 0,
             "ticks": ""
            },
            "colorscale": [
             [
              0,
              "#0d0887"
             ],
             [
              0.1111111111111111,
              "#46039f"
             ],
             [
              0.2222222222222222,
              "#7201a8"
             ],
             [
              0.3333333333333333,
              "#9c179e"
             ],
             [
              0.4444444444444444,
              "#bd3786"
             ],
             [
              0.5555555555555556,
              "#d8576b"
             ],
             [
              0.6666666666666666,
              "#ed7953"
             ],
             [
              0.7777777777777778,
              "#fb9f3a"
             ],
             [
              0.8888888888888888,
              "#fdca26"
             ],
             [
              1,
              "#f0f921"
             ]
            ],
            "type": "histogram2d"
           }
          ],
          "histogram2dcontour": [
           {
            "colorbar": {
             "outlinewidth": 0,
             "ticks": ""
            },
            "colorscale": [
             [
              0,
              "#0d0887"
             ],
             [
              0.1111111111111111,
              "#46039f"
             ],
             [
              0.2222222222222222,
              "#7201a8"
             ],
             [
              0.3333333333333333,
              "#9c179e"
             ],
             [
              0.4444444444444444,
              "#bd3786"
             ],
             [
              0.5555555555555556,
              "#d8576b"
             ],
             [
              0.6666666666666666,
              "#ed7953"
             ],
             [
              0.7777777777777778,
              "#fb9f3a"
             ],
             [
              0.8888888888888888,
              "#fdca26"
             ],
             [
              1,
              "#f0f921"
             ]
            ],
            "type": "histogram2dcontour"
           }
          ],
          "mesh3d": [
           {
            "colorbar": {
             "outlinewidth": 0,
             "ticks": ""
            },
            "type": "mesh3d"
           }
          ],
          "parcoords": [
           {
            "line": {
             "colorbar": {
              "outlinewidth": 0,
              "ticks": ""
             }
            },
            "type": "parcoords"
           }
          ],
          "pie": [
           {
            "automargin": true,
            "type": "pie"
           }
          ],
          "scatter": [
           {
            "fillpattern": {
             "fillmode": "overlay",
             "size": 10,
             "solidity": 0.2
            },
            "type": "scatter"
           }
          ],
          "scatter3d": [
           {
            "line": {
             "colorbar": {
              "outlinewidth": 0,
              "ticks": ""
             }
            },
            "marker": {
             "colorbar": {
              "outlinewidth": 0,
              "ticks": ""
             }
            },
            "type": "scatter3d"
           }
          ],
          "scattercarpet": [
           {
            "marker": {
             "colorbar": {
              "outlinewidth": 0,
              "ticks": ""
             }
            },
            "type": "scattercarpet"
           }
          ],
          "scattergeo": [
           {
            "marker": {
             "colorbar": {
              "outlinewidth": 0,
              "ticks": ""
             }
            },
            "type": "scattergeo"
           }
          ],
          "scattergl": [
           {
            "marker": {
             "colorbar": {
              "outlinewidth": 0,
              "ticks": ""
             }
            },
            "type": "scattergl"
           }
          ],
          "scattermapbox": [
           {
            "marker": {
             "colorbar": {
              "outlinewidth": 0,
              "ticks": ""
             }
            },
            "type": "scattermapbox"
           }
          ],
          "scatterpolar": [
           {
            "marker": {
             "colorbar": {
              "outlinewidth": 0,
              "ticks": ""
             }
            },
            "type": "scatterpolar"
           }
          ],
          "scatterpolargl": [
           {
            "marker": {
             "colorbar": {
              "outlinewidth": 0,
              "ticks": ""
             }
            },
            "type": "scatterpolargl"
           }
          ],
          "scatterternary": [
           {
            "marker": {
             "colorbar": {
              "outlinewidth": 0,
              "ticks": ""
             }
            },
            "type": "scatterternary"
           }
          ],
          "surface": [
           {
            "colorbar": {
             "outlinewidth": 0,
             "ticks": ""
            },
            "colorscale": [
             [
              0,
              "#0d0887"
             ],
             [
              0.1111111111111111,
              "#46039f"
             ],
             [
              0.2222222222222222,
              "#7201a8"
             ],
             [
              0.3333333333333333,
              "#9c179e"
             ],
             [
              0.4444444444444444,
              "#bd3786"
             ],
             [
              0.5555555555555556,
              "#d8576b"
             ],
             [
              0.6666666666666666,
              "#ed7953"
             ],
             [
              0.7777777777777778,
              "#fb9f3a"
             ],
             [
              0.8888888888888888,
              "#fdca26"
             ],
             [
              1,
              "#f0f921"
             ]
            ],
            "type": "surface"
           }
          ],
          "table": [
           {
            "cells": {
             "fill": {
              "color": "#EBF0F8"
             },
             "line": {
              "color": "white"
             }
            },
            "header": {
             "fill": {
              "color": "#C8D4E3"
             },
             "line": {
              "color": "white"
             }
            },
            "type": "table"
           }
          ]
         },
         "layout": {
          "annotationdefaults": {
           "arrowcolor": "#2a3f5f",
           "arrowhead": 0,
           "arrowwidth": 1
          },
          "autotypenumbers": "strict",
          "coloraxis": {
           "colorbar": {
            "outlinewidth": 0,
            "ticks": ""
           }
          },
          "colorscale": {
           "diverging": [
            [
             0,
             "#8e0152"
            ],
            [
             0.1,
             "#c51b7d"
            ],
            [
             0.2,
             "#de77ae"
            ],
            [
             0.3,
             "#f1b6da"
            ],
            [
             0.4,
             "#fde0ef"
            ],
            [
             0.5,
             "#f7f7f7"
            ],
            [
             0.6,
             "#e6f5d0"
            ],
            [
             0.7,
             "#b8e186"
            ],
            [
             0.8,
             "#7fbc41"
            ],
            [
             0.9,
             "#4d9221"
            ],
            [
             1,
             "#276419"
            ]
           ],
           "sequential": [
            [
             0,
             "#0d0887"
            ],
            [
             0.1111111111111111,
             "#46039f"
            ],
            [
             0.2222222222222222,
             "#7201a8"
            ],
            [
             0.3333333333333333,
             "#9c179e"
            ],
            [
             0.4444444444444444,
             "#bd3786"
            ],
            [
             0.5555555555555556,
             "#d8576b"
            ],
            [
             0.6666666666666666,
             "#ed7953"
            ],
            [
             0.7777777777777778,
             "#fb9f3a"
            ],
            [
             0.8888888888888888,
             "#fdca26"
            ],
            [
             1,
             "#f0f921"
            ]
           ],
           "sequentialminus": [
            [
             0,
             "#0d0887"
            ],
            [
             0.1111111111111111,
             "#46039f"
            ],
            [
             0.2222222222222222,
             "#7201a8"
            ],
            [
             0.3333333333333333,
             "#9c179e"
            ],
            [
             0.4444444444444444,
             "#bd3786"
            ],
            [
             0.5555555555555556,
             "#d8576b"
            ],
            [
             0.6666666666666666,
             "#ed7953"
            ],
            [
             0.7777777777777778,
             "#fb9f3a"
            ],
            [
             0.8888888888888888,
             "#fdca26"
            ],
            [
             1,
             "#f0f921"
            ]
           ]
          },
          "colorway": [
           "#636efa",
           "#EF553B",
           "#00cc96",
           "#ab63fa",
           "#FFA15A",
           "#19d3f3",
           "#FF6692",
           "#B6E880",
           "#FF97FF",
           "#FECB52"
          ],
          "font": {
           "color": "#2a3f5f"
          },
          "geo": {
           "bgcolor": "white",
           "lakecolor": "white",
           "landcolor": "white",
           "showlakes": true,
           "showland": true,
           "subunitcolor": "#C8D4E3"
          },
          "hoverlabel": {
           "align": "left"
          },
          "hovermode": "closest",
          "mapbox": {
           "style": "light"
          },
          "paper_bgcolor": "white",
          "plot_bgcolor": "white",
          "polar": {
           "angularaxis": {
            "gridcolor": "#EBF0F8",
            "linecolor": "#EBF0F8",
            "ticks": ""
           },
           "bgcolor": "white",
           "radialaxis": {
            "gridcolor": "#EBF0F8",
            "linecolor": "#EBF0F8",
            "ticks": ""
           }
          },
          "scene": {
           "xaxis": {
            "backgroundcolor": "white",
            "gridcolor": "#DFE8F3",
            "gridwidth": 2,
            "linecolor": "#EBF0F8",
            "showbackground": true,
            "ticks": "",
            "zerolinecolor": "#EBF0F8"
           },
           "yaxis": {
            "backgroundcolor": "white",
            "gridcolor": "#DFE8F3",
            "gridwidth": 2,
            "linecolor": "#EBF0F8",
            "showbackground": true,
            "ticks": "",
            "zerolinecolor": "#EBF0F8"
           },
           "zaxis": {
            "backgroundcolor": "white",
            "gridcolor": "#DFE8F3",
            "gridwidth": 2,
            "linecolor": "#EBF0F8",
            "showbackground": true,
            "ticks": "",
            "zerolinecolor": "#EBF0F8"
           }
          },
          "shapedefaults": {
           "line": {
            "color": "#2a3f5f"
           }
          },
          "ternary": {
           "aaxis": {
            "gridcolor": "#DFE8F3",
            "linecolor": "#A2B1C6",
            "ticks": ""
           },
           "baxis": {
            "gridcolor": "#DFE8F3",
            "linecolor": "#A2B1C6",
            "ticks": ""
           },
           "bgcolor": "white",
           "caxis": {
            "gridcolor": "#DFE8F3",
            "linecolor": "#A2B1C6",
            "ticks": ""
           }
          },
          "title": {
           "x": 0.05
          },
          "xaxis": {
           "automargin": true,
           "gridcolor": "#EBF0F8",
           "linecolor": "#EBF0F8",
           "ticks": "",
           "title": {
            "standoff": 15
           },
           "zerolinecolor": "#EBF0F8",
           "zerolinewidth": 2
          },
          "yaxis": {
           "automargin": true,
           "gridcolor": "#EBF0F8",
           "linecolor": "#EBF0F8",
           "ticks": "",
           "title": {
            "standoff": 15
           },
           "zerolinecolor": "#EBF0F8",
           "zerolinewidth": 2
          }
         }
        },
        "xaxis": {
         "anchor": "y",
         "domain": [
          0,
          1
         ],
         "gridcolor": "gray",
         "showgrid": false,
         "tickfont": {
          "color": "#5A5856",
          "size": 13
         },
         "tickmode": "array",
         "ticktext": [
          "<b>Thu<br>01</b>",
          "<b>Fri<br>02</b>",
          "<b>Mon<br>05</b>",
          "<b>Tue<br>06</b>",
          "<b>Wed<br>07</b>",
          "<b>Thu<br>08</b>",
          "<b>Fri<br>09</b>",
          "<b>Mon<br>12</b>",
          "<b>Tue<br>13</b>",
          "<b>Wed<br>14</b>",
          "<b>Thu<br>15</b>",
          "<b>Fri<br>16</b>",
          "<b>Mon<br>19</b>",
          "<b>Tue<br>20</b>",
          "<b>Wed<br>21</b>",
          "<b>Thu<br>22</b>",
          "<b>Fri<br>23</b>",
          "<b>Mon<br>26</b>",
          "<b>Tue<br>27</b>",
          "<b>Wed<br>28</b>",
          "<b>Thu<br>29</b>",
          "<b>Fri<br>01</b>",
          "<b>Mon<br>04</b>",
          "<b>Tue<br>05</b>",
          "<b>Wed<br>06</b>",
          "<b>Thu<br>07</b>",
          "<b>Mon<br>11</b>",
          "<b>Tue<br>12</b>",
          "<b>Wed<br>13</b>",
          "<b>Thu<br>14</b>",
          "<b>Mon<br>18</b>",
          "<b>Tue<br>19</b>",
          "<b>Wed<br>20</b>"
         ],
         "tickvals": [
          "2024-02-01T00:00:00",
          "2024-02-02T00:00:00",
          "2024-02-05T00:00:00",
          "2024-02-06T00:00:00",
          "2024-02-07T00:00:00",
          "2024-02-08T00:00:00",
          "2024-02-09T00:00:00",
          "2024-02-12T00:00:00",
          "2024-02-13T00:00:00",
          "2024-02-14T00:00:00",
          "2024-02-15T00:00:00",
          "2024-02-16T00:00:00",
          "2024-02-19T00:00:00",
          "2024-02-20T00:00:00",
          "2024-02-21T00:00:00",
          "2024-02-22T00:00:00",
          "2024-02-23T00:00:00",
          "2024-02-26T00:00:00",
          "2024-02-27T00:00:00",
          "2024-02-28T00:00:00",
          "2024-02-29T00:00:00",
          "2024-03-01T00:00:00",
          "2024-03-04T00:00:00",
          "2024-03-05T00:00:00",
          "2024-03-06T00:00:00",
          "2024-03-07T00:00:00",
          "2024-03-11T00:00:00",
          "2024-03-12T00:00:00",
          "2024-03-13T00:00:00",
          "2024-03-14T00:00:00",
          "2024-03-18T00:00:00",
          "2024-03-19T00:00:00",
          "2024-03-20T00:00:00"
         ],
         "title": {
          "font": {
           "color": "#5A5856",
           "size": 15
          },
          "text": ""
         }
        },
        "yaxis": {
         "anchor": "x",
         "domain": [
          0,
          1
         ],
         "gridcolor": "#B1A999",
         "showgrid": true,
         "showticklabels": false,
         "tickfont": {
          "color": "#5A5856",
          "size": 14
         },
         "tickprefix": "$",
         "tickvals": [
          0,
          25000,
          50000,
          75000,
          100000
         ],
         "title": {
          "text": ""
         }
        }
       }
      },
      "text/html": [
       "<div>                            <div id=\"b1ab1816-5310-4493-b937-80eb4e4cedd9\" class=\"plotly-graph-div\" style=\"height:325px; width:100%;\"></div>            <script type=\"text/javascript\">                require([\"plotly\"], function(Plotly) {                    window.PLOTLYENV=window.PLOTLYENV || {};                                    if (document.getElementById(\"b1ab1816-5310-4493-b937-80eb4e4cedd9\")) {                    Plotly.newPlot(                        \"b1ab1816-5310-4493-b937-80eb4e4cedd9\",                        [{\"alignmentgroup\":\"True\",\"hovertemplate\":\"$%{y:.2s}<br>%{x:%Y-%m-%d}<br>\",\"legendgroup\":\"\",\"marker\":{\"color\":\"rgb(239, 83, 80)\",\"pattern\":{\"shape\":\"\"}},\"name\":\"\",\"offsetgroup\":\"\",\"orientation\":\"v\",\"showlegend\":false,\"textposition\":\"auto\",\"texttemplate\":\"%{y:,.2s}\",\"x\":[\"2024-02-01T00:00:00\",\"2024-02-02T00:00:00\",\"2024-02-05T00:00:00\",\"2024-02-06T00:00:00\",\"2024-02-07T00:00:00\",\"2024-02-08T00:00:00\",\"2024-02-09T00:00:00\",\"2024-02-12T00:00:00\",\"2024-02-13T00:00:00\",\"2024-02-14T00:00:00\",\"2024-02-15T00:00:00\",\"2024-02-16T00:00:00\",\"2024-02-19T00:00:00\",\"2024-02-20T00:00:00\",\"2024-02-21T00:00:00\",\"2024-02-22T00:00:00\",\"2024-02-23T00:00:00\",\"2024-02-26T00:00:00\",\"2024-02-27T00:00:00\",\"2024-02-28T00:00:00\",\"2024-02-29T00:00:00\",\"2024-03-01T00:00:00\",\"2024-03-04T00:00:00\",\"2024-03-05T00:00:00\",\"2024-03-06T00:00:00\",\"2024-03-07T00:00:00\",\"2024-03-11T00:00:00\",\"2024-03-12T00:00:00\",\"2024-03-13T00:00:00\",\"2024-03-14T00:00:00\",\"2024-03-18T00:00:00\",\"2024-03-19T00:00:00\",\"2024-03-20T00:00:00\"],\"xaxis\":\"x\",\"y\":[231.0,806.0,282.0,516.0,16560.0,74.0,0.0,70.0,47765.0,12466.0,11100.0,77930.0,0.0,7170.0,2761.0,36172.0,0.0,201.0,35.0,8510.0,495423.0,0.0,1085.0,26465.0,665.0,350.0,7501.0,33635.0,8062.0,17869.0,186.0,2661.0,0.0],\"yaxis\":\"y\",\"type\":\"bar\"}],                        {\"template\":{\"data\":{\"barpolar\":[{\"marker\":{\"line\":{\"color\":\"white\",\"width\":0.5},\"pattern\":{\"fillmode\":\"overlay\",\"size\":10,\"solidity\":0.2}},\"type\":\"barpolar\"}],\"bar\":[{\"error_x\":{\"color\":\"#2a3f5f\"},\"error_y\":{\"color\":\"#2a3f5f\"},\"marker\":{\"line\":{\"color\":\"white\",\"width\":0.5},\"pattern\":{\"fillmode\":\"overlay\",\"size\":10,\"solidity\":0.2}},\"type\":\"bar\"}],\"carpet\":[{\"aaxis\":{\"endlinecolor\":\"#2a3f5f\",\"gridcolor\":\"#C8D4E3\",\"linecolor\":\"#C8D4E3\",\"minorgridcolor\":\"#C8D4E3\",\"startlinecolor\":\"#2a3f5f\"},\"baxis\":{\"endlinecolor\":\"#2a3f5f\",\"gridcolor\":\"#C8D4E3\",\"linecolor\":\"#C8D4E3\",\"minorgridcolor\":\"#C8D4E3\",\"startlinecolor\":\"#2a3f5f\"},\"type\":\"carpet\"}],\"choropleth\":[{\"colorbar\":{\"outlinewidth\":0,\"ticks\":\"\"},\"type\":\"choropleth\"}],\"contourcarpet\":[{\"colorbar\":{\"outlinewidth\":0,\"ticks\":\"\"},\"type\":\"contourcarpet\"}],\"contour\":[{\"colorbar\":{\"outlinewidth\":0,\"ticks\":\"\"},\"colorscale\":[[0.0,\"#0d0887\"],[0.1111111111111111,\"#46039f\"],[0.2222222222222222,\"#7201a8\"],[0.3333333333333333,\"#9c179e\"],[0.4444444444444444,\"#bd3786\"],[0.5555555555555556,\"#d8576b\"],[0.6666666666666666,\"#ed7953\"],[0.7777777777777778,\"#fb9f3a\"],[0.8888888888888888,\"#fdca26\"],[1.0,\"#f0f921\"]],\"type\":\"contour\"}],\"heatmapgl\":[{\"colorbar\":{\"outlinewidth\":0,\"ticks\":\"\"},\"colorscale\":[[0.0,\"#0d0887\"],[0.1111111111111111,\"#46039f\"],[0.2222222222222222,\"#7201a8\"],[0.3333333333333333,\"#9c179e\"],[0.4444444444444444,\"#bd3786\"],[0.5555555555555556,\"#d8576b\"],[0.6666666666666666,\"#ed7953\"],[0.7777777777777778,\"#fb9f3a\"],[0.8888888888888888,\"#fdca26\"],[1.0,\"#f0f921\"]],\"type\":\"heatmapgl\"}],\"heatmap\":[{\"colorbar\":{\"outlinewidth\":0,\"ticks\":\"\"},\"colorscale\":[[0.0,\"#0d0887\"],[0.1111111111111111,\"#46039f\"],[0.2222222222222222,\"#7201a8\"],[0.3333333333333333,\"#9c179e\"],[0.4444444444444444,\"#bd3786\"],[0.5555555555555556,\"#d8576b\"],[0.6666666666666666,\"#ed7953\"],[0.7777777777777778,\"#fb9f3a\"],[0.8888888888888888,\"#fdca26\"],[1.0,\"#f0f921\"]],\"type\":\"heatmap\"}],\"histogram2dcontour\":[{\"colorbar\":{\"outlinewidth\":0,\"ticks\":\"\"},\"colorscale\":[[0.0,\"#0d0887\"],[0.1111111111111111,\"#46039f\"],[0.2222222222222222,\"#7201a8\"],[0.3333333333333333,\"#9c179e\"],[0.4444444444444444,\"#bd3786\"],[0.5555555555555556,\"#d8576b\"],[0.6666666666666666,\"#ed7953\"],[0.7777777777777778,\"#fb9f3a\"],[0.8888888888888888,\"#fdca26\"],[1.0,\"#f0f921\"]],\"type\":\"histogram2dcontour\"}],\"histogram2d\":[{\"colorbar\":{\"outlinewidth\":0,\"ticks\":\"\"},\"colorscale\":[[0.0,\"#0d0887\"],[0.1111111111111111,\"#46039f\"],[0.2222222222222222,\"#7201a8\"],[0.3333333333333333,\"#9c179e\"],[0.4444444444444444,\"#bd3786\"],[0.5555555555555556,\"#d8576b\"],[0.6666666666666666,\"#ed7953\"],[0.7777777777777778,\"#fb9f3a\"],[0.8888888888888888,\"#fdca26\"],[1.0,\"#f0f921\"]],\"type\":\"histogram2d\"}],\"histogram\":[{\"marker\":{\"pattern\":{\"fillmode\":\"overlay\",\"size\":10,\"solidity\":0.2}},\"type\":\"histogram\"}],\"mesh3d\":[{\"colorbar\":{\"outlinewidth\":0,\"ticks\":\"\"},\"type\":\"mesh3d\"}],\"parcoords\":[{\"line\":{\"colorbar\":{\"outlinewidth\":0,\"ticks\":\"\"}},\"type\":\"parcoords\"}],\"pie\":[{\"automargin\":true,\"type\":\"pie\"}],\"scatter3d\":[{\"line\":{\"colorbar\":{\"outlinewidth\":0,\"ticks\":\"\"}},\"marker\":{\"colorbar\":{\"outlinewidth\":0,\"ticks\":\"\"}},\"type\":\"scatter3d\"}],\"scattercarpet\":[{\"marker\":{\"colorbar\":{\"outlinewidth\":0,\"ticks\":\"\"}},\"type\":\"scattercarpet\"}],\"scattergeo\":[{\"marker\":{\"colorbar\":{\"outlinewidth\":0,\"ticks\":\"\"}},\"type\":\"scattergeo\"}],\"scattergl\":[{\"marker\":{\"colorbar\":{\"outlinewidth\":0,\"ticks\":\"\"}},\"type\":\"scattergl\"}],\"scattermapbox\":[{\"marker\":{\"colorbar\":{\"outlinewidth\":0,\"ticks\":\"\"}},\"type\":\"scattermapbox\"}],\"scatterpolargl\":[{\"marker\":{\"colorbar\":{\"outlinewidth\":0,\"ticks\":\"\"}},\"type\":\"scatterpolargl\"}],\"scatterpolar\":[{\"marker\":{\"colorbar\":{\"outlinewidth\":0,\"ticks\":\"\"}},\"type\":\"scatterpolar\"}],\"scatter\":[{\"fillpattern\":{\"fillmode\":\"overlay\",\"size\":10,\"solidity\":0.2},\"type\":\"scatter\"}],\"scatterternary\":[{\"marker\":{\"colorbar\":{\"outlinewidth\":0,\"ticks\":\"\"}},\"type\":\"scatterternary\"}],\"surface\":[{\"colorbar\":{\"outlinewidth\":0,\"ticks\":\"\"},\"colorscale\":[[0.0,\"#0d0887\"],[0.1111111111111111,\"#46039f\"],[0.2222222222222222,\"#7201a8\"],[0.3333333333333333,\"#9c179e\"],[0.4444444444444444,\"#bd3786\"],[0.5555555555555556,\"#d8576b\"],[0.6666666666666666,\"#ed7953\"],[0.7777777777777778,\"#fb9f3a\"],[0.8888888888888888,\"#fdca26\"],[1.0,\"#f0f921\"]],\"type\":\"surface\"}],\"table\":[{\"cells\":{\"fill\":{\"color\":\"#EBF0F8\"},\"line\":{\"color\":\"white\"}},\"header\":{\"fill\":{\"color\":\"#C8D4E3\"},\"line\":{\"color\":\"white\"}},\"type\":\"table\"}]},\"layout\":{\"annotationdefaults\":{\"arrowcolor\":\"#2a3f5f\",\"arrowhead\":0,\"arrowwidth\":1},\"autotypenumbers\":\"strict\",\"coloraxis\":{\"colorbar\":{\"outlinewidth\":0,\"ticks\":\"\"}},\"colorscale\":{\"diverging\":[[0,\"#8e0152\"],[0.1,\"#c51b7d\"],[0.2,\"#de77ae\"],[0.3,\"#f1b6da\"],[0.4,\"#fde0ef\"],[0.5,\"#f7f7f7\"],[0.6,\"#e6f5d0\"],[0.7,\"#b8e186\"],[0.8,\"#7fbc41\"],[0.9,\"#4d9221\"],[1,\"#276419\"]],\"sequential\":[[0.0,\"#0d0887\"],[0.1111111111111111,\"#46039f\"],[0.2222222222222222,\"#7201a8\"],[0.3333333333333333,\"#9c179e\"],[0.4444444444444444,\"#bd3786\"],[0.5555555555555556,\"#d8576b\"],[0.6666666666666666,\"#ed7953\"],[0.7777777777777778,\"#fb9f3a\"],[0.8888888888888888,\"#fdca26\"],[1.0,\"#f0f921\"]],\"sequentialminus\":[[0.0,\"#0d0887\"],[0.1111111111111111,\"#46039f\"],[0.2222222222222222,\"#7201a8\"],[0.3333333333333333,\"#9c179e\"],[0.4444444444444444,\"#bd3786\"],[0.5555555555555556,\"#d8576b\"],[0.6666666666666666,\"#ed7953\"],[0.7777777777777778,\"#fb9f3a\"],[0.8888888888888888,\"#fdca26\"],[1.0,\"#f0f921\"]]},\"colorway\":[\"#636efa\",\"#EF553B\",\"#00cc96\",\"#ab63fa\",\"#FFA15A\",\"#19d3f3\",\"#FF6692\",\"#B6E880\",\"#FF97FF\",\"#FECB52\"],\"font\":{\"color\":\"#2a3f5f\"},\"geo\":{\"bgcolor\":\"white\",\"lakecolor\":\"white\",\"landcolor\":\"white\",\"showlakes\":true,\"showland\":true,\"subunitcolor\":\"#C8D4E3\"},\"hoverlabel\":{\"align\":\"left\"},\"hovermode\":\"closest\",\"mapbox\":{\"style\":\"light\"},\"paper_bgcolor\":\"white\",\"plot_bgcolor\":\"white\",\"polar\":{\"angularaxis\":{\"gridcolor\":\"#EBF0F8\",\"linecolor\":\"#EBF0F8\",\"ticks\":\"\"},\"bgcolor\":\"white\",\"radialaxis\":{\"gridcolor\":\"#EBF0F8\",\"linecolor\":\"#EBF0F8\",\"ticks\":\"\"}},\"scene\":{\"xaxis\":{\"backgroundcolor\":\"white\",\"gridcolor\":\"#DFE8F3\",\"gridwidth\":2,\"linecolor\":\"#EBF0F8\",\"showbackground\":true,\"ticks\":\"\",\"zerolinecolor\":\"#EBF0F8\"},\"yaxis\":{\"backgroundcolor\":\"white\",\"gridcolor\":\"#DFE8F3\",\"gridwidth\":2,\"linecolor\":\"#EBF0F8\",\"showbackground\":true,\"ticks\":\"\",\"zerolinecolor\":\"#EBF0F8\"},\"zaxis\":{\"backgroundcolor\":\"white\",\"gridcolor\":\"#DFE8F3\",\"gridwidth\":2,\"linecolor\":\"#EBF0F8\",\"showbackground\":true,\"ticks\":\"\",\"zerolinecolor\":\"#EBF0F8\"}},\"shapedefaults\":{\"line\":{\"color\":\"#2a3f5f\"}},\"ternary\":{\"aaxis\":{\"gridcolor\":\"#DFE8F3\",\"linecolor\":\"#A2B1C6\",\"ticks\":\"\"},\"baxis\":{\"gridcolor\":\"#DFE8F3\",\"linecolor\":\"#A2B1C6\",\"ticks\":\"\"},\"bgcolor\":\"white\",\"caxis\":{\"gridcolor\":\"#DFE8F3\",\"linecolor\":\"#A2B1C6\",\"ticks\":\"\"}},\"title\":{\"x\":0.05},\"xaxis\":{\"automargin\":true,\"gridcolor\":\"#EBF0F8\",\"linecolor\":\"#EBF0F8\",\"ticks\":\"\",\"title\":{\"standoff\":15},\"zerolinecolor\":\"#EBF0F8\",\"zerolinewidth\":2},\"yaxis\":{\"automargin\":true,\"gridcolor\":\"#EBF0F8\",\"linecolor\":\"#EBF0F8\",\"ticks\":\"\",\"title\":{\"standoff\":15},\"zerolinecolor\":\"#EBF0F8\",\"zerolinewidth\":2}}},\"xaxis\":{\"anchor\":\"y\",\"domain\":[0.0,1.0],\"title\":{\"text\":\"\",\"font\":{\"color\":\"#5A5856\",\"size\":15}},\"tickfont\":{\"color\":\"#5A5856\",\"size\":13},\"showgrid\":false,\"gridcolor\":\"gray\",\"tickmode\":\"array\",\"tickvals\":[\"2024-02-01T00:00:00\",\"2024-02-02T00:00:00\",\"2024-02-05T00:00:00\",\"2024-02-06T00:00:00\",\"2024-02-07T00:00:00\",\"2024-02-08T00:00:00\",\"2024-02-09T00:00:00\",\"2024-02-12T00:00:00\",\"2024-02-13T00:00:00\",\"2024-02-14T00:00:00\",\"2024-02-15T00:00:00\",\"2024-02-16T00:00:00\",\"2024-02-19T00:00:00\",\"2024-02-20T00:00:00\",\"2024-02-21T00:00:00\",\"2024-02-22T00:00:00\",\"2024-02-23T00:00:00\",\"2024-02-26T00:00:00\",\"2024-02-27T00:00:00\",\"2024-02-28T00:00:00\",\"2024-02-29T00:00:00\",\"2024-03-01T00:00:00\",\"2024-03-04T00:00:00\",\"2024-03-05T00:00:00\",\"2024-03-06T00:00:00\",\"2024-03-07T00:00:00\",\"2024-03-11T00:00:00\",\"2024-03-12T00:00:00\",\"2024-03-13T00:00:00\",\"2024-03-14T00:00:00\",\"2024-03-18T00:00:00\",\"2024-03-19T00:00:00\",\"2024-03-20T00:00:00\"],\"ticktext\":[\"<b>Thu<br>01</b>\",\"<b>Fri<br>02</b>\",\"<b>Mon<br>05</b>\",\"<b>Tue<br>06</b>\",\"<b>Wed<br>07</b>\",\"<b>Thu<br>08</b>\",\"<b>Fri<br>09</b>\",\"<b>Mon<br>12</b>\",\"<b>Tue<br>13</b>\",\"<b>Wed<br>14</b>\",\"<b>Thu<br>15</b>\",\"<b>Fri<br>16</b>\",\"<b>Mon<br>19</b>\",\"<b>Tue<br>20</b>\",\"<b>Wed<br>21</b>\",\"<b>Thu<br>22</b>\",\"<b>Fri<br>23</b>\",\"<b>Mon<br>26</b>\",\"<b>Tue<br>27</b>\",\"<b>Wed<br>28</b>\",\"<b>Thu<br>29</b>\",\"<b>Fri<br>01</b>\",\"<b>Mon<br>04</b>\",\"<b>Tue<br>05</b>\",\"<b>Wed<br>06</b>\",\"<b>Thu<br>07</b>\",\"<b>Mon<br>11</b>\",\"<b>Tue<br>12</b>\",\"<b>Wed<br>13</b>\",\"<b>Thu<br>14</b>\",\"<b>Mon<br>18</b>\",\"<b>Tue<br>19</b>\",\"<b>Wed<br>20</b>\"]},\"yaxis\":{\"anchor\":\"x\",\"domain\":[0.0,1.0],\"title\":{\"text\":\"\"},\"tickfont\":{\"color\":\"#5A5856\",\"size\":14},\"showticklabels\":false,\"showgrid\":true,\"tickprefix\":\"$\",\"gridcolor\":\"#B1A999\",\"tickvals\":[0,25000,50000,75000,100000]},\"legend\":{\"tracegroupgap\":0},\"margin\":{\"t\":60},\"barmode\":\"relative\",\"height\":325,\"coloraxis\":{\"showscale\":false},\"hoverlabel\":{\"font\":{\"size\":18,\"family\":\"Rockwell\"}}},                        {\"responsive\": true}                    ).then(function(){\n",
       "                            \n",
       "var gd = document.getElementById('b1ab1816-5310-4493-b937-80eb4e4cedd9');\n",
       "var x = new MutationObserver(function (mutations, observer) {{\n",
       "        var display = window.getComputedStyle(gd).display;\n",
       "        if (!display || display === 'none') {{\n",
       "            console.log([gd, 'removed!']);\n",
       "            Plotly.purge(gd);\n",
       "            observer.disconnect();\n",
       "        }}\n",
       "}});\n",
       "\n",
       "// Listen for the removal of the full notebook cells\n",
       "var notebookContainer = gd.closest('#notebook-container');\n",
       "if (notebookContainer) {{\n",
       "    x.observe(notebookContainer, {childList: true});\n",
       "}}\n",
       "\n",
       "// Listen for the clearing of the current output cell\n",
       "var outputEl = gd.closest('.output');\n",
       "if (outputEl) {{\n",
       "    x.observe(outputEl, {childList: true});\n",
       "}}\n",
       "\n",
       "                        })                };                });            </script>        </div>"
      ]
     },
     "metadata": {},
     "output_type": "display_data"
    }
   ],
   "source": [
    "### bar graph should populate if all is well\n",
    "\n",
    "l1.completed_date = pd.to_datetime(l1.completed_date)\n",
    "l1['usd'] = l1['sub_total']*.75\n",
    "\n",
    "l1_bar_df = l1.groupby('completed_date')['usd'].sum().reset_index().set_index('completed_date')\n",
    "l1_bar_df =round(l1_bar_df[l1_bar_df.index>'2024-01-31']).sort_index()\n",
    "\n",
    "level_1_bar = px.bar(l1_bar_df,\n",
    "                     y='usd',\n",
    "                     template='plotly_white',\n",
    "                     labels={'usd':'',\n",
    "                             'completed_date':''},\n",
    "                     height=325,\n",
    "                     text_auto=\",.2s\")\n",
    "\n",
    "level_1_bar.update_traces(hovertemplate = '$%{y:.2s}'+'<br>%{x:%Y-%m-%d}<br>')\n",
    "level_1_bar.update_traces(marker_color='rgb(239, 83, 80)')\n",
    "level_1_bar.update_coloraxes(showscale=False)\n",
    "level_1_bar.update_yaxes(showticklabels=False,showgrid=True,tickprefix='$',gridcolor=\"#B1A999\",tickvals=[0,25000,50000,75000,100000],tickfont=dict(color='#5A5856', size=14))\n",
    "level_1_bar.update_xaxes(showgrid=False,gridcolor='gray',tickfont=dict(color='#5A5856', size=13),title_font=dict(color='#5A5856',size=15))\n",
    "level_1_bar.update_xaxes(tickmode='array',tickvals = l1_bar_df.index, ticktext=l1_bar_df.index.strftime('<b>%a<br>%d</b>'))\n",
    "level_1_bar.update_layout(hoverlabel=dict(font_size=18,font_family=\"Rockwell\"))"
   ]
  },
  {
   "cell_type": "code",
   "execution_count": 35,
   "metadata": {},
   "outputs": [
    {
     "data": {
      "text/html": [
       "<div>\n",
       "<style scoped>\n",
       "    .dataframe tbody tr th:only-of-type {\n",
       "        vertical-align: middle;\n",
       "    }\n",
       "\n",
       "    .dataframe tbody tr th {\n",
       "        vertical-align: top;\n",
       "    }\n",
       "\n",
       "    .dataframe thead th {\n",
       "        text-align: right;\n",
       "    }\n",
       "</style>\n",
       "<table border=\"1\" class=\"dataframe\">\n",
       "  <thead>\n",
       "    <tr style=\"text-align: right;\">\n",
       "      <th></th>\n",
       "      <th>sub_total</th>\n",
       "    </tr>\n",
       "    <tr>\n",
       "      <th>completed_date</th>\n",
       "      <th></th>\n",
       "    </tr>\n",
       "  </thead>\n",
       "  <tbody>\n",
       "    <tr>\n",
       "      <th>2023-01-03</th>\n",
       "      <td>182.61</td>\n",
       "    </tr>\n",
       "    <tr>\n",
       "      <th>2023-01-05</th>\n",
       "      <td>197.28</td>\n",
       "    </tr>\n",
       "    <tr>\n",
       "      <th>2023-01-10</th>\n",
       "      <td>1158.38</td>\n",
       "    </tr>\n",
       "    <tr>\n",
       "      <th>2023-01-11</th>\n",
       "      <td>785.14</td>\n",
       "    </tr>\n",
       "    <tr>\n",
       "      <th>2023-01-12</th>\n",
       "      <td>3009.91</td>\n",
       "    </tr>\n",
       "    <tr>\n",
       "      <th>...</th>\n",
       "      <td>...</td>\n",
       "    </tr>\n",
       "    <tr>\n",
       "      <th>2024-03-13</th>\n",
       "      <td>10749.41</td>\n",
       "    </tr>\n",
       "    <tr>\n",
       "      <th>2024-03-14</th>\n",
       "      <td>23825.43</td>\n",
       "    </tr>\n",
       "    <tr>\n",
       "      <th>2024-03-18</th>\n",
       "      <td>248.63</td>\n",
       "    </tr>\n",
       "    <tr>\n",
       "      <th>2024-03-19</th>\n",
       "      <td>3547.41</td>\n",
       "    </tr>\n",
       "    <tr>\n",
       "      <th>2024-03-20</th>\n",
       "      <td>0.00</td>\n",
       "    </tr>\n",
       "  </tbody>\n",
       "</table>\n",
       "<p>306 rows × 1 columns</p>\n",
       "</div>"
      ],
      "text/plain": [
       "                sub_total\n",
       "completed_date           \n",
       "2023-01-03         182.61\n",
       "2023-01-05         197.28\n",
       "2023-01-10        1158.38\n",
       "2023-01-11         785.14\n",
       "2023-01-12        3009.91\n",
       "...                   ...\n",
       "2024-03-13       10749.41\n",
       "2024-03-14       23825.43\n",
       "2024-03-18         248.63\n",
       "2024-03-19        3547.41\n",
       "2024-03-20           0.00\n",
       "\n",
       "[306 rows x 1 columns]"
      ]
     },
     "execution_count": 35,
     "metadata": {},
     "output_type": "execute_result"
    }
   ],
   "source": [
    "l1.groupby(l1.completed_date).sub_total.sum().reset_index().set_index('completed_date')"
   ]
  },
  {
   "cell_type": "code",
   "execution_count": 79,
   "metadata": {
    "scrolled": false
   },
   "outputs": [
    {
     "data": {
      "application/vnd.plotly.v1+json": {
       "config": {
        "plotlyServerURL": "https://plot.ly"
       },
       "data": [
        {
         "hovertemplate": "date=%{x}<br>usd=%{y}<extra></extra>",
         "legendgroup": "",
         "marker": {
          "color": "#000001",
          "symbol": "circle"
         },
         "mode": "markers",
         "name": "",
         "orientation": "v",
         "showlegend": false,
         "type": "scatter",
         "x": [
          "2024-03-20",
          "2024-03-20",
          "2024-03-20",
          "2024-03-20",
          "2024-03-20",
          "2024-03-20",
          "2024-03-20",
          "2024-03-20",
          "2024-03-14",
          "2024-02-28",
          "2024-01-31",
          "2024-01-12",
          "2023-11-14",
          "2023-11-14",
          "2023-11-13",
          "2023-10-27",
          "2023-08-25",
          "2023-08-25",
          "2023-08-25",
          "2023-08-25",
          "2023-08-25",
          "2023-08-25",
          "2023-08-25",
          "2023-05-11",
          "2023-03-17",
          "2023-02-14",
          "2023-02-13",
          "2022-12-09",
          "2022-12-05",
          "2022-11-01",
          "2022-08-31",
          "2022-08-31",
          "2022-08-31",
          "2022-08-31",
          "2022-08-31",
          "2022-08-31",
          "2022-08-31",
          "2022-07-22",
          "2022-07-06",
          "2022-06-10",
          "2022-05-26",
          "2022-05-26",
          "2022-05-26",
          "2022-05-23",
          "2021-12-22",
          "2021-11-23",
          "2021-11-17",
          "2021-11-15",
          "2021-05-31",
          "2021-03-17",
          "2021-03-08",
          "2021-03-03",
          "2021-03-03"
         ],
         "xaxis": "x",
         "y": [
          -1579.2,
          -273.84,
          -2030.4,
          -1804.8,
          -1353.6,
          -902.4,
          -273.84,
          -410.76,
          -112.8,
          -0.75,
          -1.5,
          -564,
          -37.6,
          -37.6,
          -338.4,
          -112.8,
          -273.84,
          -3384,
          -410.76,
          -1804.8,
          -2030.4,
          -3835.2,
          -273.84,
          -225.6,
          -112.8,
          -4060.8,
          -4060.8,
          -2481.6,
          -75.2,
          -229.68,
          -1004.48,
          -5232,
          -1883.52,
          -627.84,
          -376.68,
          -1883.52,
          -2302.08,
          -34.88,
          -209.28,
          -104.64,
          -209.28,
          -1.4,
          -0.7,
          -209.28,
          -94.2,
          -125.56,
          -251.12,
          -125.56,
          -32,
          -32,
          -0.64,
          -41.85,
          -16
         ],
         "yaxis": "y"
        }
       ],
       "layout": {
        "legend": {
         "tracegroupgap": 0
        },
        "margin": {
         "t": 60
        },
        "template": {
         "data": {
          "candlestick": [
           {
            "decreasing": {
             "line": {
              "color": "#000033"
             }
            },
            "increasing": {
             "line": {
              "color": "#000032"
             }
            },
            "type": "candlestick"
           }
          ],
          "contour": [
           {
            "colorscale": [
             [
              0,
              "#000011"
             ],
             [
              0.1111111111111111,
              "#000012"
             ],
             [
              0.2222222222222222,
              "#000013"
             ],
             [
              0.3333333333333333,
              "#000014"
             ],
             [
              0.4444444444444444,
              "#000015"
             ],
             [
              0.5555555555555556,
              "#000016"
             ],
             [
              0.6666666666666666,
              "#000017"
             ],
             [
              0.7777777777777778,
              "#000018"
             ],
             [
              0.8888888888888888,
              "#000019"
             ],
             [
              1,
              "#000020"
             ]
            ],
            "type": "contour"
           }
          ],
          "contourcarpet": [
           {
            "colorscale": [
             [
              0,
              "#000011"
             ],
             [
              0.1111111111111111,
              "#000012"
             ],
             [
              0.2222222222222222,
              "#000013"
             ],
             [
              0.3333333333333333,
              "#000014"
             ],
             [
              0.4444444444444444,
              "#000015"
             ],
             [
              0.5555555555555556,
              "#000016"
             ],
             [
              0.6666666666666666,
              "#000017"
             ],
             [
              0.7777777777777778,
              "#000018"
             ],
             [
              0.8888888888888888,
              "#000019"
             ],
             [
              1,
              "#000020"
             ]
            ],
            "type": "contourcarpet"
           }
          ],
          "heatmap": [
           {
            "colorscale": [
             [
              0,
              "#000011"
             ],
             [
              0.1111111111111111,
              "#000012"
             ],
             [
              0.2222222222222222,
              "#000013"
             ],
             [
              0.3333333333333333,
              "#000014"
             ],
             [
              0.4444444444444444,
              "#000015"
             ],
             [
              0.5555555555555556,
              "#000016"
             ],
             [
              0.6666666666666666,
              "#000017"
             ],
             [
              0.7777777777777778,
              "#000018"
             ],
             [
              0.8888888888888888,
              "#000019"
             ],
             [
              1,
              "#000020"
             ]
            ],
            "type": "heatmap"
           }
          ],
          "histogram2d": [
           {
            "colorscale": [
             [
              0,
              "#000011"
             ],
             [
              0.1111111111111111,
              "#000012"
             ],
             [
              0.2222222222222222,
              "#000013"
             ],
             [
              0.3333333333333333,
              "#000014"
             ],
             [
              0.4444444444444444,
              "#000015"
             ],
             [
              0.5555555555555556,
              "#000016"
             ],
             [
              0.6666666666666666,
              "#000017"
             ],
             [
              0.7777777777777778,
              "#000018"
             ],
             [
              0.8888888888888888,
              "#000019"
             ],
             [
              1,
              "#000020"
             ]
            ],
            "type": "histogram2d"
           }
          ],
          "icicle": [
           {
            "textfont": {
             "color": "white"
            },
            "type": "icicle"
           }
          ],
          "sankey": [
           {
            "textfont": {
             "color": "#000036"
            },
            "type": "sankey"
           }
          ],
          "scatter": [
           {
            "marker": {
             "line": {
              "width": 0
             }
            },
            "type": "scatter"
           }
          ],
          "table": [
           {
            "cells": {
             "fill": {
              "color": "#000038"
             },
             "font": {
              "color": "#000037"
             },
             "line": {
              "color": "#000039"
             }
            },
            "header": {
             "fill": {
              "color": "#000040"
             },
             "font": {
              "color": "#000036"
             },
             "line": {
              "color": "#000039"
             }
            },
            "type": "table"
           }
          ],
          "waterfall": [
           {
            "connector": {
             "line": {
              "color": "#000036",
              "width": 2
             }
            },
            "decreasing": {
             "marker": {
              "color": "#000033"
             }
            },
            "increasing": {
             "marker": {
              "color": "#000032"
             }
            },
            "totals": {
             "marker": {
              "color": "#000034"
             }
            },
            "type": "waterfall"
           }
          ]
         },
         "layout": {
          "coloraxis": {
           "colorscale": [
            [
             0,
             "#000011"
            ],
            [
             0.1111111111111111,
             "#000012"
            ],
            [
             0.2222222222222222,
             "#000013"
            ],
            [
             0.3333333333333333,
             "#000014"
            ],
            [
             0.4444444444444444,
             "#000015"
            ],
            [
             0.5555555555555556,
             "#000016"
            ],
            [
             0.6666666666666666,
             "#000017"
            ],
            [
             0.7777777777777778,
             "#000018"
            ],
            [
             0.8888888888888888,
             "#000019"
            ],
            [
             1,
             "#000020"
            ]
           ]
          },
          "colorscale": {
           "diverging": [
            [
             0,
             "#000021"
            ],
            [
             0.1,
             "#000022"
            ],
            [
             0.2,
             "#000023"
            ],
            [
             0.3,
             "#000024"
            ],
            [
             0.4,
             "#000025"
            ],
            [
             0.5,
             "#000026"
            ],
            [
             0.6,
             "#000027"
            ],
            [
             0.7,
             "#000028"
            ],
            [
             0.8,
             "#000029"
            ],
            [
             0.9,
             "#000030"
            ],
            [
             1,
             "#000031"
            ]
           ],
           "sequential": [
            [
             0,
             "#000011"
            ],
            [
             0.1111111111111111,
             "#000012"
            ],
            [
             0.2222222222222222,
             "#000013"
            ],
            [
             0.3333333333333333,
             "#000014"
            ],
            [
             0.4444444444444444,
             "#000015"
            ],
            [
             0.5555555555555556,
             "#000016"
            ],
            [
             0.6666666666666666,
             "#000017"
            ],
            [
             0.7777777777777778,
             "#000018"
            ],
            [
             0.8888888888888888,
             "#000019"
            ],
            [
             1,
             "#000020"
            ]
           ],
           "sequentialminus": [
            [
             0,
             "#000011"
            ],
            [
             0.1111111111111111,
             "#000012"
            ],
            [
             0.2222222222222222,
             "#000013"
            ],
            [
             0.3333333333333333,
             "#000014"
            ],
            [
             0.4444444444444444,
             "#000015"
            ],
            [
             0.5555555555555556,
             "#000016"
            ],
            [
             0.6666666666666666,
             "#000017"
            ],
            [
             0.7777777777777778,
             "#000018"
            ],
            [
             0.8888888888888888,
             "#000019"
            ],
            [
             1,
             "#000020"
            ]
           ]
          },
          "colorway": [
           "#000001",
           "#000002",
           "#000003",
           "#000004",
           "#000005",
           "#000006",
           "#000007",
           "#000008",
           "#000009",
           "#000010"
          ]
         }
        },
        "xaxis": {
         "anchor": "y",
         "domain": [
          0,
          1
         ],
         "title": {
          "text": "date"
         }
        },
        "yaxis": {
         "anchor": "x",
         "domain": [
          0,
          1
         ],
         "title": {
          "text": "usd"
         }
        }
       }
      },
      "text/html": [
       "<div>                            <div id=\"089131cd-9254-471f-a5ed-0345a2bc0fdb\" class=\"plotly-graph-div\" style=\"height:525px; width:100%;\"></div>            <script type=\"text/javascript\">                require([\"plotly\"], function(Plotly) {                    window.PLOTLYENV=window.PLOTLYENV || {};                                    if (document.getElementById(\"089131cd-9254-471f-a5ed-0345a2bc0fdb\")) {                    Plotly.newPlot(                        \"089131cd-9254-471f-a5ed-0345a2bc0fdb\",                        [{\"hovertemplate\":\"date=%{x}<br>usd=%{y}<extra></extra>\",\"legendgroup\":\"\",\"marker\":{\"color\":\"#000001\",\"symbol\":\"circle\"},\"mode\":\"markers\",\"name\":\"\",\"orientation\":\"v\",\"showlegend\":false,\"x\":[\"2024-03-20\",\"2024-03-20\",\"2024-03-20\",\"2024-03-20\",\"2024-03-20\",\"2024-03-20\",\"2024-03-20\",\"2024-03-20\",\"2024-03-14\",\"2024-02-28\",\"2024-01-31\",\"2024-01-12\",\"2023-11-14\",\"2023-11-14\",\"2023-11-13\",\"2023-10-27\",\"2023-08-25\",\"2023-08-25\",\"2023-08-25\",\"2023-08-25\",\"2023-08-25\",\"2023-08-25\",\"2023-08-25\",\"2023-05-11\",\"2023-03-17\",\"2023-02-14\",\"2023-02-13\",\"2022-12-09\",\"2022-12-05\",\"2022-11-01\",\"2022-08-31\",\"2022-08-31\",\"2022-08-31\",\"2022-08-31\",\"2022-08-31\",\"2022-08-31\",\"2022-08-31\",\"2022-07-22\",\"2022-07-06\",\"2022-06-10\",\"2022-05-26\",\"2022-05-26\",\"2022-05-26\",\"2022-05-23\",\"2021-12-22\",\"2021-11-23\",\"2021-11-17\",\"2021-11-15\",\"2021-05-31\",\"2021-03-17\",\"2021-03-08\",\"2021-03-03\",\"2021-03-03\"],\"xaxis\":\"x\",\"y\":[-1579.2,-273.84,-2030.4,-1804.8,-1353.6,-902.4,-273.84,-410.76,-112.8,-0.75,-1.5,-564.0,-37.6,-37.6,-338.4,-112.8,-273.84,-3384.0,-410.76,-1804.8,-2030.4,-3835.2,-273.84,-225.6,-112.8,-4060.8,-4060.8,-2481.6,-75.2,-229.68,-1004.48,-5232.0,-1883.52,-627.84,-376.68,-1883.52,-2302.08,-34.88,-209.28,-104.64,-209.28,-1.4,-0.7,-209.28,-94.2,-125.56,-251.12,-125.56,-32.0,-32.0,-0.64,-41.85,-16.0],\"yaxis\":\"y\",\"type\":\"scatter\"}],                        {\"template\":{\"data\":{\"candlestick\":[{\"decreasing\":{\"line\":{\"color\":\"#000033\"}},\"increasing\":{\"line\":{\"color\":\"#000032\"}},\"type\":\"candlestick\"}],\"contourcarpet\":[{\"colorscale\":[[0.0,\"#000011\"],[0.1111111111111111,\"#000012\"],[0.2222222222222222,\"#000013\"],[0.3333333333333333,\"#000014\"],[0.4444444444444444,\"#000015\"],[0.5555555555555556,\"#000016\"],[0.6666666666666666,\"#000017\"],[0.7777777777777778,\"#000018\"],[0.8888888888888888,\"#000019\"],[1.0,\"#000020\"]],\"type\":\"contourcarpet\"}],\"contour\":[{\"colorscale\":[[0.0,\"#000011\"],[0.1111111111111111,\"#000012\"],[0.2222222222222222,\"#000013\"],[0.3333333333333333,\"#000014\"],[0.4444444444444444,\"#000015\"],[0.5555555555555556,\"#000016\"],[0.6666666666666666,\"#000017\"],[0.7777777777777778,\"#000018\"],[0.8888888888888888,\"#000019\"],[1.0,\"#000020\"]],\"type\":\"contour\"}],\"heatmap\":[{\"colorscale\":[[0.0,\"#000011\"],[0.1111111111111111,\"#000012\"],[0.2222222222222222,\"#000013\"],[0.3333333333333333,\"#000014\"],[0.4444444444444444,\"#000015\"],[0.5555555555555556,\"#000016\"],[0.6666666666666666,\"#000017\"],[0.7777777777777778,\"#000018\"],[0.8888888888888888,\"#000019\"],[1.0,\"#000020\"]],\"type\":\"heatmap\"}],\"histogram2d\":[{\"colorscale\":[[0.0,\"#000011\"],[0.1111111111111111,\"#000012\"],[0.2222222222222222,\"#000013\"],[0.3333333333333333,\"#000014\"],[0.4444444444444444,\"#000015\"],[0.5555555555555556,\"#000016\"],[0.6666666666666666,\"#000017\"],[0.7777777777777778,\"#000018\"],[0.8888888888888888,\"#000019\"],[1.0,\"#000020\"]],\"type\":\"histogram2d\"}],\"icicle\":[{\"textfont\":{\"color\":\"white\"},\"type\":\"icicle\"}],\"sankey\":[{\"textfont\":{\"color\":\"#000036\"},\"type\":\"sankey\"}],\"scatter\":[{\"marker\":{\"line\":{\"width\":0}},\"type\":\"scatter\"}],\"table\":[{\"cells\":{\"fill\":{\"color\":\"#000038\"},\"font\":{\"color\":\"#000037\"},\"line\":{\"color\":\"#000039\"}},\"header\":{\"fill\":{\"color\":\"#000040\"},\"font\":{\"color\":\"#000036\"},\"line\":{\"color\":\"#000039\"}},\"type\":\"table\"}],\"waterfall\":[{\"connector\":{\"line\":{\"color\":\"#000036\",\"width\":2}},\"decreasing\":{\"marker\":{\"color\":\"#000033\"}},\"increasing\":{\"marker\":{\"color\":\"#000032\"}},\"totals\":{\"marker\":{\"color\":\"#000034\"}},\"type\":\"waterfall\"}]},\"layout\":{\"coloraxis\":{\"colorscale\":[[0.0,\"#000011\"],[0.1111111111111111,\"#000012\"],[0.2222222222222222,\"#000013\"],[0.3333333333333333,\"#000014\"],[0.4444444444444444,\"#000015\"],[0.5555555555555556,\"#000016\"],[0.6666666666666666,\"#000017\"],[0.7777777777777778,\"#000018\"],[0.8888888888888888,\"#000019\"],[1.0,\"#000020\"]]},\"colorscale\":{\"diverging\":[[0.0,\"#000021\"],[0.1,\"#000022\"],[0.2,\"#000023\"],[0.3,\"#000024\"],[0.4,\"#000025\"],[0.5,\"#000026\"],[0.6,\"#000027\"],[0.7,\"#000028\"],[0.8,\"#000029\"],[0.9,\"#000030\"],[1.0,\"#000031\"]],\"sequential\":[[0.0,\"#000011\"],[0.1111111111111111,\"#000012\"],[0.2222222222222222,\"#000013\"],[0.3333333333333333,\"#000014\"],[0.4444444444444444,\"#000015\"],[0.5555555555555556,\"#000016\"],[0.6666666666666666,\"#000017\"],[0.7777777777777778,\"#000018\"],[0.8888888888888888,\"#000019\"],[1.0,\"#000020\"]],\"sequentialminus\":[[0.0,\"#000011\"],[0.1111111111111111,\"#000012\"],[0.2222222222222222,\"#000013\"],[0.3333333333333333,\"#000014\"],[0.4444444444444444,\"#000015\"],[0.5555555555555556,\"#000016\"],[0.6666666666666666,\"#000017\"],[0.7777777777777778,\"#000018\"],[0.8888888888888888,\"#000019\"],[1.0,\"#000020\"]]},\"colorway\":[\"#000001\",\"#000002\",\"#000003\",\"#000004\",\"#000005\",\"#000006\",\"#000007\",\"#000008\",\"#000009\",\"#000010\"]}},\"xaxis\":{\"anchor\":\"y\",\"domain\":[0.0,1.0],\"title\":{\"text\":\"date\"}},\"yaxis\":{\"anchor\":\"x\",\"domain\":[0.0,1.0],\"title\":{\"text\":\"usd\"}},\"legend\":{\"tracegroupgap\":0},\"margin\":{\"t\":60}},                        {\"responsive\": true}                    ).then(function(){\n",
       "                            \n",
       "var gd = document.getElementById('089131cd-9254-471f-a5ed-0345a2bc0fdb');\n",
       "var x = new MutationObserver(function (mutations, observer) {{\n",
       "        var display = window.getComputedStyle(gd).display;\n",
       "        if (!display || display === 'none') {{\n",
       "            console.log([gd, 'removed!']);\n",
       "            Plotly.purge(gd);\n",
       "            observer.disconnect();\n",
       "        }}\n",
       "}});\n",
       "\n",
       "// Listen for the removal of the full notebook cells\n",
       "var notebookContainer = gd.closest('#notebook-container');\n",
       "if (notebookContainer) {{\n",
       "    x.observe(notebookContainer, {childList: true});\n",
       "}}\n",
       "\n",
       "// Listen for the clearing of the current output cell\n",
       "var outputEl = gd.closest('.output');\n",
       "if (outputEl) {{\n",
       "    x.observe(outputEl, {childList: true});\n",
       "}}\n",
       "\n",
       "                        })                };                });            </script>        </div>"
      ]
     },
     "metadata": {},
     "output_type": "display_data"
    }
   ],
   "source": [
    "kellis = level_2[(level_2.parent_customer==\"Kelli's Gift Shop Supplies\") & (level_2.usd < 0)]\n",
    "px.scatter(kellis.sort_values('date',ascending=False)[['date','usd']],\n",
    "      x='date',\n",
    "      y='usd')"
   ]
  },
  {
   "cell_type": "code",
   "execution_count": 88,
   "metadata": {},
   "outputs": [
    {
     "data": {
      "application/vnd.plotly.v1+json": {
       "config": {
        "plotlyServerURL": "https://plot.ly"
       },
       "data": [
        {
         "alignmentgroup": "True",
         "hovertemplate": "variable=usd<br>date=%{x}<br>value=%{y}<extra></extra>",
         "legendgroup": "usd",
         "marker": {
          "color": "#000001",
          "pattern": {
           "shape": ""
          }
         },
         "name": "usd",
         "offsetgroup": "usd",
         "orientation": "v",
         "showlegend": true,
         "textposition": "auto",
         "type": "bar",
         "x": [
          "2021-01-17T00:00:00",
          "2021-01-24T00:00:00",
          "2021-01-31T00:00:00",
          "2021-02-07T00:00:00",
          "2021-02-14T00:00:00",
          "2021-02-21T00:00:00",
          "2021-02-28T00:00:00",
          "2021-03-07T00:00:00",
          "2021-03-14T00:00:00",
          "2021-03-21T00:00:00",
          "2021-03-28T00:00:00",
          "2021-04-04T00:00:00",
          "2021-04-11T00:00:00",
          "2021-04-18T00:00:00",
          "2021-04-25T00:00:00",
          "2021-05-02T00:00:00",
          "2021-05-09T00:00:00",
          "2021-05-16T00:00:00",
          "2021-05-23T00:00:00",
          "2021-05-30T00:00:00",
          "2021-06-06T00:00:00",
          "2021-06-13T00:00:00",
          "2021-06-20T00:00:00",
          "2021-06-27T00:00:00",
          "2021-07-04T00:00:00",
          "2021-07-11T00:00:00",
          "2021-07-18T00:00:00",
          "2021-07-25T00:00:00",
          "2021-08-01T00:00:00",
          "2021-08-08T00:00:00",
          "2021-08-15T00:00:00",
          "2021-08-22T00:00:00",
          "2021-08-29T00:00:00",
          "2021-09-05T00:00:00",
          "2021-09-12T00:00:00",
          "2021-09-19T00:00:00",
          "2021-09-26T00:00:00",
          "2021-10-03T00:00:00",
          "2021-10-10T00:00:00",
          "2021-10-17T00:00:00",
          "2021-10-24T00:00:00",
          "2021-10-31T00:00:00",
          "2021-11-07T00:00:00",
          "2021-11-14T00:00:00",
          "2021-11-21T00:00:00",
          "2021-11-28T00:00:00",
          "2021-12-05T00:00:00",
          "2021-12-12T00:00:00",
          "2021-12-19T00:00:00",
          "2021-12-26T00:00:00",
          "2022-01-02T00:00:00",
          "2022-01-09T00:00:00",
          "2022-01-16T00:00:00",
          "2022-01-23T00:00:00",
          "2022-01-30T00:00:00",
          "2022-02-06T00:00:00",
          "2022-02-13T00:00:00",
          "2022-02-20T00:00:00",
          "2022-02-27T00:00:00",
          "2022-03-06T00:00:00",
          "2022-03-13T00:00:00",
          "2022-03-20T00:00:00",
          "2022-03-27T00:00:00",
          "2022-04-03T00:00:00",
          "2022-04-10T00:00:00",
          "2022-04-17T00:00:00",
          "2022-04-24T00:00:00",
          "2022-05-01T00:00:00",
          "2022-05-08T00:00:00",
          "2022-05-15T00:00:00",
          "2022-05-22T00:00:00",
          "2022-05-29T00:00:00",
          "2022-06-05T00:00:00",
          "2022-06-12T00:00:00",
          "2022-06-19T00:00:00",
          "2022-06-26T00:00:00",
          "2022-07-03T00:00:00",
          "2022-07-10T00:00:00",
          "2022-07-17T00:00:00",
          "2022-07-24T00:00:00",
          "2022-07-31T00:00:00",
          "2022-08-07T00:00:00",
          "2022-08-14T00:00:00",
          "2022-08-21T00:00:00",
          "2022-08-28T00:00:00",
          "2022-09-04T00:00:00",
          "2022-09-11T00:00:00",
          "2022-09-18T00:00:00",
          "2022-09-25T00:00:00",
          "2022-10-02T00:00:00",
          "2022-10-09T00:00:00",
          "2022-10-16T00:00:00",
          "2022-10-23T00:00:00",
          "2022-10-30T00:00:00",
          "2022-11-06T00:00:00",
          "2022-11-13T00:00:00",
          "2022-11-20T00:00:00",
          "2022-11-27T00:00:00",
          "2022-12-04T00:00:00",
          "2022-12-11T00:00:00",
          "2022-12-18T00:00:00",
          "2022-12-25T00:00:00",
          "2023-01-01T00:00:00",
          "2023-01-08T00:00:00",
          "2023-01-15T00:00:00",
          "2023-01-22T00:00:00",
          "2023-01-29T00:00:00",
          "2023-02-05T00:00:00",
          "2023-02-12T00:00:00",
          "2023-02-19T00:00:00",
          "2023-02-26T00:00:00",
          "2023-03-05T00:00:00",
          "2023-03-12T00:00:00",
          "2023-03-19T00:00:00",
          "2023-03-26T00:00:00",
          "2023-04-02T00:00:00",
          "2023-04-09T00:00:00",
          "2023-04-16T00:00:00",
          "2023-04-23T00:00:00",
          "2023-04-30T00:00:00",
          "2023-05-07T00:00:00",
          "2023-05-14T00:00:00",
          "2023-05-21T00:00:00",
          "2023-05-28T00:00:00",
          "2023-06-04T00:00:00",
          "2023-06-11T00:00:00",
          "2023-06-18T00:00:00",
          "2023-06-25T00:00:00",
          "2023-07-02T00:00:00",
          "2023-07-09T00:00:00",
          "2023-07-16T00:00:00",
          "2023-07-23T00:00:00",
          "2023-07-30T00:00:00",
          "2023-08-06T00:00:00",
          "2023-08-13T00:00:00",
          "2023-08-20T00:00:00",
          "2023-08-27T00:00:00",
          "2023-09-03T00:00:00",
          "2023-09-10T00:00:00",
          "2023-09-17T00:00:00",
          "2023-09-24T00:00:00",
          "2023-10-01T00:00:00",
          "2023-10-08T00:00:00",
          "2023-10-15T00:00:00",
          "2023-10-22T00:00:00",
          "2023-10-29T00:00:00",
          "2023-11-05T00:00:00",
          "2023-11-12T00:00:00",
          "2023-11-19T00:00:00",
          "2023-11-26T00:00:00",
          "2023-12-03T00:00:00",
          "2023-12-10T00:00:00",
          "2023-12-17T00:00:00",
          "2023-12-24T00:00:00",
          "2023-12-31T00:00:00",
          "2024-01-07T00:00:00",
          "2024-01-14T00:00:00",
          "2024-01-21T00:00:00",
          "2024-01-28T00:00:00",
          "2024-02-04T00:00:00",
          "2024-02-11T00:00:00",
          "2024-02-18T00:00:00",
          "2024-02-25T00:00:00",
          "2024-03-03T00:00:00",
          "2024-03-10T00:00:00",
          "2024-03-17T00:00:00",
          "2024-03-24T00:00:00"
         ],
         "xaxis": "x",
         "y": [
          4352.4,
          0,
          0,
          5468.34,
          0,
          0,
          10933.02,
          -57.85,
          -0.64,
          6293.02,
          0,
          0,
          0,
          6214.38,
          0,
          5963.26,
          0,
          0,
          5047.46,
          0,
          -32,
          5760,
          0,
          0,
          8448,
          0,
          0,
          0,
          0,
          0,
          0,
          0,
          0,
          2720.6000000000004,
          0,
          0,
          3379.86,
          0,
          0,
          1443.94,
          0,
          0,
          7366.28,
          0,
          -376.68,
          16365.42,
          0,
          0,
          9208.32,
          -94.2,
          0,
          4520.4400000000005,
          0,
          0,
          5252.860000000001,
          0,
          0,
          9632.08,
          0,
          0,
          2589.84,
          0,
          0,
          12242.86,
          0,
          0,
          10275.54,
          0,
          0,
          12363.2,
          0,
          -420.65999999999997,
          0,
          11949.84,
          0,
          9961.720000000001,
          0,
          -209.28,
          5064.5599999999995,
          -34.88,
          0,
          8789.72,
          0,
          0,
          14356.52,
          1.0231815394945443e-12,
          0,
          13331.08,
          0,
          0,
          7224.12,
          114.84,
          0,
          10713.96,
          -229.68,
          0,
          20279.16,
          0,
          0,
          4573.719999999999,
          0,
          0,
          6590.64,
          112.8,
          0,
          6816.24,
          0,
          0,
          8443.68,
          -8121.6,
          0,
          9120.48,
          0,
          3948,
          15622.439999999999,
          0,
          0,
          19594.56,
          0,
          0,
          6413.28,
          -225.6,
          0,
          9257.4,
          0,
          0,
          14631.359999999999,
          0,
          0,
          6106.8,
          0,
          0,
          9434.76,
          0,
          0,
          12012.84,
          -12012.84,
          14720.039999999999,
          6824.04,
          0,
          0,
          8282.64,
          0,
          0,
          10030.68,
          -112.8,
          0,
          13019.52,
          -413.59999999999997,
          0,
          7079.4400000000005,
          0,
          0,
          9257.4,
          0,
          0,
          5986.2,
          0,
          0,
          7177.26,
          0,
          0,
          9708.6,
          -0.75,
          0,
          -112.8,
          -8628.84
         ],
         "yaxis": "y"
        }
       ],
       "layout": {
        "barmode": "relative",
        "legend": {
         "title": {
          "text": "variable"
         },
         "tracegroupgap": 0
        },
        "margin": {
         "t": 60
        },
        "template": {
         "data": {
          "candlestick": [
           {
            "decreasing": {
             "line": {
              "color": "#000033"
             }
            },
            "increasing": {
             "line": {
              "color": "#000032"
             }
            },
            "type": "candlestick"
           }
          ],
          "contour": [
           {
            "colorscale": [
             [
              0,
              "#000011"
             ],
             [
              0.1111111111111111,
              "#000012"
             ],
             [
              0.2222222222222222,
              "#000013"
             ],
             [
              0.3333333333333333,
              "#000014"
             ],
             [
              0.4444444444444444,
              "#000015"
             ],
             [
              0.5555555555555556,
              "#000016"
             ],
             [
              0.6666666666666666,
              "#000017"
             ],
             [
              0.7777777777777778,
              "#000018"
             ],
             [
              0.8888888888888888,
              "#000019"
             ],
             [
              1,
              "#000020"
             ]
            ],
            "type": "contour"
           }
          ],
          "contourcarpet": [
           {
            "colorscale": [
             [
              0,
              "#000011"
             ],
             [
              0.1111111111111111,
              "#000012"
             ],
             [
              0.2222222222222222,
              "#000013"
             ],
             [
              0.3333333333333333,
              "#000014"
             ],
             [
              0.4444444444444444,
              "#000015"
             ],
             [
              0.5555555555555556,
              "#000016"
             ],
             [
              0.6666666666666666,
              "#000017"
             ],
             [
              0.7777777777777778,
              "#000018"
             ],
             [
              0.8888888888888888,
              "#000019"
             ],
             [
              1,
              "#000020"
             ]
            ],
            "type": "contourcarpet"
           }
          ],
          "heatmap": [
           {
            "colorscale": [
             [
              0,
              "#000011"
             ],
             [
              0.1111111111111111,
              "#000012"
             ],
             [
              0.2222222222222222,
              "#000013"
             ],
             [
              0.3333333333333333,
              "#000014"
             ],
             [
              0.4444444444444444,
              "#000015"
             ],
             [
              0.5555555555555556,
              "#000016"
             ],
             [
              0.6666666666666666,
              "#000017"
             ],
             [
              0.7777777777777778,
              "#000018"
             ],
             [
              0.8888888888888888,
              "#000019"
             ],
             [
              1,
              "#000020"
             ]
            ],
            "type": "heatmap"
           }
          ],
          "histogram2d": [
           {
            "colorscale": [
             [
              0,
              "#000011"
             ],
             [
              0.1111111111111111,
              "#000012"
             ],
             [
              0.2222222222222222,
              "#000013"
             ],
             [
              0.3333333333333333,
              "#000014"
             ],
             [
              0.4444444444444444,
              "#000015"
             ],
             [
              0.5555555555555556,
              "#000016"
             ],
             [
              0.6666666666666666,
              "#000017"
             ],
             [
              0.7777777777777778,
              "#000018"
             ],
             [
              0.8888888888888888,
              "#000019"
             ],
             [
              1,
              "#000020"
             ]
            ],
            "type": "histogram2d"
           }
          ],
          "icicle": [
           {
            "textfont": {
             "color": "white"
            },
            "type": "icicle"
           }
          ],
          "sankey": [
           {
            "textfont": {
             "color": "#000036"
            },
            "type": "sankey"
           }
          ],
          "scatter": [
           {
            "marker": {
             "line": {
              "width": 0
             }
            },
            "type": "scatter"
           }
          ],
          "table": [
           {
            "cells": {
             "fill": {
              "color": "#000038"
             },
             "font": {
              "color": "#000037"
             },
             "line": {
              "color": "#000039"
             }
            },
            "header": {
             "fill": {
              "color": "#000040"
             },
             "font": {
              "color": "#000036"
             },
             "line": {
              "color": "#000039"
             }
            },
            "type": "table"
           }
          ],
          "waterfall": [
           {
            "connector": {
             "line": {
              "color": "#000036",
              "width": 2
             }
            },
            "decreasing": {
             "marker": {
              "color": "#000033"
             }
            },
            "increasing": {
             "marker": {
              "color": "#000032"
             }
            },
            "totals": {
             "marker": {
              "color": "#000034"
             }
            },
            "type": "waterfall"
           }
          ]
         },
         "layout": {
          "coloraxis": {
           "colorscale": [
            [
             0,
             "#000011"
            ],
            [
             0.1111111111111111,
             "#000012"
            ],
            [
             0.2222222222222222,
             "#000013"
            ],
            [
             0.3333333333333333,
             "#000014"
            ],
            [
             0.4444444444444444,
             "#000015"
            ],
            [
             0.5555555555555556,
             "#000016"
            ],
            [
             0.6666666666666666,
             "#000017"
            ],
            [
             0.7777777777777778,
             "#000018"
            ],
            [
             0.8888888888888888,
             "#000019"
            ],
            [
             1,
             "#000020"
            ]
           ]
          },
          "colorscale": {
           "diverging": [
            [
             0,
             "#000021"
            ],
            [
             0.1,
             "#000022"
            ],
            [
             0.2,
             "#000023"
            ],
            [
             0.3,
             "#000024"
            ],
            [
             0.4,
             "#000025"
            ],
            [
             0.5,
             "#000026"
            ],
            [
             0.6,
             "#000027"
            ],
            [
             0.7,
             "#000028"
            ],
            [
             0.8,
             "#000029"
            ],
            [
             0.9,
             "#000030"
            ],
            [
             1,
             "#000031"
            ]
           ],
           "sequential": [
            [
             0,
             "#000011"
            ],
            [
             0.1111111111111111,
             "#000012"
            ],
            [
             0.2222222222222222,
             "#000013"
            ],
            [
             0.3333333333333333,
             "#000014"
            ],
            [
             0.4444444444444444,
             "#000015"
            ],
            [
             0.5555555555555556,
             "#000016"
            ],
            [
             0.6666666666666666,
             "#000017"
            ],
            [
             0.7777777777777778,
             "#000018"
            ],
            [
             0.8888888888888888,
             "#000019"
            ],
            [
             1,
             "#000020"
            ]
           ],
           "sequentialminus": [
            [
             0,
             "#000011"
            ],
            [
             0.1111111111111111,
             "#000012"
            ],
            [
             0.2222222222222222,
             "#000013"
            ],
            [
             0.3333333333333333,
             "#000014"
            ],
            [
             0.4444444444444444,
             "#000015"
            ],
            [
             0.5555555555555556,
             "#000016"
            ],
            [
             0.6666666666666666,
             "#000017"
            ],
            [
             0.7777777777777778,
             "#000018"
            ],
            [
             0.8888888888888888,
             "#000019"
            ],
            [
             1,
             "#000020"
            ]
           ]
          },
          "colorway": [
           "#000001",
           "#000002",
           "#000003",
           "#000004",
           "#000005",
           "#000006",
           "#000007",
           "#000008",
           "#000009",
           "#000010"
          ]
         }
        },
        "xaxis": {
         "anchor": "y",
         "domain": [
          0,
          1
         ],
         "title": {
          "text": "date"
         }
        },
        "yaxis": {
         "anchor": "x",
         "domain": [
          0,
          1
         ],
         "title": {
          "text": "value"
         }
        }
       }
      },
      "text/html": [
       "<div>                            <div id=\"ec1b9375-ae97-4e27-9820-482ae0989589\" class=\"plotly-graph-div\" style=\"height:525px; width:100%;\"></div>            <script type=\"text/javascript\">                require([\"plotly\"], function(Plotly) {                    window.PLOTLYENV=window.PLOTLYENV || {};                                    if (document.getElementById(\"ec1b9375-ae97-4e27-9820-482ae0989589\")) {                    Plotly.newPlot(                        \"ec1b9375-ae97-4e27-9820-482ae0989589\",                        [{\"alignmentgroup\":\"True\",\"hovertemplate\":\"variable=usd<br>date=%{x}<br>value=%{y}<extra></extra>\",\"legendgroup\":\"usd\",\"marker\":{\"color\":\"#000001\",\"pattern\":{\"shape\":\"\"}},\"name\":\"usd\",\"offsetgroup\":\"usd\",\"orientation\":\"v\",\"showlegend\":true,\"textposition\":\"auto\",\"x\":[\"2021-01-17T00:00:00\",\"2021-01-24T00:00:00\",\"2021-01-31T00:00:00\",\"2021-02-07T00:00:00\",\"2021-02-14T00:00:00\",\"2021-02-21T00:00:00\",\"2021-02-28T00:00:00\",\"2021-03-07T00:00:00\",\"2021-03-14T00:00:00\",\"2021-03-21T00:00:00\",\"2021-03-28T00:00:00\",\"2021-04-04T00:00:00\",\"2021-04-11T00:00:00\",\"2021-04-18T00:00:00\",\"2021-04-25T00:00:00\",\"2021-05-02T00:00:00\",\"2021-05-09T00:00:00\",\"2021-05-16T00:00:00\",\"2021-05-23T00:00:00\",\"2021-05-30T00:00:00\",\"2021-06-06T00:00:00\",\"2021-06-13T00:00:00\",\"2021-06-20T00:00:00\",\"2021-06-27T00:00:00\",\"2021-07-04T00:00:00\",\"2021-07-11T00:00:00\",\"2021-07-18T00:00:00\",\"2021-07-25T00:00:00\",\"2021-08-01T00:00:00\",\"2021-08-08T00:00:00\",\"2021-08-15T00:00:00\",\"2021-08-22T00:00:00\",\"2021-08-29T00:00:00\",\"2021-09-05T00:00:00\",\"2021-09-12T00:00:00\",\"2021-09-19T00:00:00\",\"2021-09-26T00:00:00\",\"2021-10-03T00:00:00\",\"2021-10-10T00:00:00\",\"2021-10-17T00:00:00\",\"2021-10-24T00:00:00\",\"2021-10-31T00:00:00\",\"2021-11-07T00:00:00\",\"2021-11-14T00:00:00\",\"2021-11-21T00:00:00\",\"2021-11-28T00:00:00\",\"2021-12-05T00:00:00\",\"2021-12-12T00:00:00\",\"2021-12-19T00:00:00\",\"2021-12-26T00:00:00\",\"2022-01-02T00:00:00\",\"2022-01-09T00:00:00\",\"2022-01-16T00:00:00\",\"2022-01-23T00:00:00\",\"2022-01-30T00:00:00\",\"2022-02-06T00:00:00\",\"2022-02-13T00:00:00\",\"2022-02-20T00:00:00\",\"2022-02-27T00:00:00\",\"2022-03-06T00:00:00\",\"2022-03-13T00:00:00\",\"2022-03-20T00:00:00\",\"2022-03-27T00:00:00\",\"2022-04-03T00:00:00\",\"2022-04-10T00:00:00\",\"2022-04-17T00:00:00\",\"2022-04-24T00:00:00\",\"2022-05-01T00:00:00\",\"2022-05-08T00:00:00\",\"2022-05-15T00:00:00\",\"2022-05-22T00:00:00\",\"2022-05-29T00:00:00\",\"2022-06-05T00:00:00\",\"2022-06-12T00:00:00\",\"2022-06-19T00:00:00\",\"2022-06-26T00:00:00\",\"2022-07-03T00:00:00\",\"2022-07-10T00:00:00\",\"2022-07-17T00:00:00\",\"2022-07-24T00:00:00\",\"2022-07-31T00:00:00\",\"2022-08-07T00:00:00\",\"2022-08-14T00:00:00\",\"2022-08-21T00:00:00\",\"2022-08-28T00:00:00\",\"2022-09-04T00:00:00\",\"2022-09-11T00:00:00\",\"2022-09-18T00:00:00\",\"2022-09-25T00:00:00\",\"2022-10-02T00:00:00\",\"2022-10-09T00:00:00\",\"2022-10-16T00:00:00\",\"2022-10-23T00:00:00\",\"2022-10-30T00:00:00\",\"2022-11-06T00:00:00\",\"2022-11-13T00:00:00\",\"2022-11-20T00:00:00\",\"2022-11-27T00:00:00\",\"2022-12-04T00:00:00\",\"2022-12-11T00:00:00\",\"2022-12-18T00:00:00\",\"2022-12-25T00:00:00\",\"2023-01-01T00:00:00\",\"2023-01-08T00:00:00\",\"2023-01-15T00:00:00\",\"2023-01-22T00:00:00\",\"2023-01-29T00:00:00\",\"2023-02-05T00:00:00\",\"2023-02-12T00:00:00\",\"2023-02-19T00:00:00\",\"2023-02-26T00:00:00\",\"2023-03-05T00:00:00\",\"2023-03-12T00:00:00\",\"2023-03-19T00:00:00\",\"2023-03-26T00:00:00\",\"2023-04-02T00:00:00\",\"2023-04-09T00:00:00\",\"2023-04-16T00:00:00\",\"2023-04-23T00:00:00\",\"2023-04-30T00:00:00\",\"2023-05-07T00:00:00\",\"2023-05-14T00:00:00\",\"2023-05-21T00:00:00\",\"2023-05-28T00:00:00\",\"2023-06-04T00:00:00\",\"2023-06-11T00:00:00\",\"2023-06-18T00:00:00\",\"2023-06-25T00:00:00\",\"2023-07-02T00:00:00\",\"2023-07-09T00:00:00\",\"2023-07-16T00:00:00\",\"2023-07-23T00:00:00\",\"2023-07-30T00:00:00\",\"2023-08-06T00:00:00\",\"2023-08-13T00:00:00\",\"2023-08-20T00:00:00\",\"2023-08-27T00:00:00\",\"2023-09-03T00:00:00\",\"2023-09-10T00:00:00\",\"2023-09-17T00:00:00\",\"2023-09-24T00:00:00\",\"2023-10-01T00:00:00\",\"2023-10-08T00:00:00\",\"2023-10-15T00:00:00\",\"2023-10-22T00:00:00\",\"2023-10-29T00:00:00\",\"2023-11-05T00:00:00\",\"2023-11-12T00:00:00\",\"2023-11-19T00:00:00\",\"2023-11-26T00:00:00\",\"2023-12-03T00:00:00\",\"2023-12-10T00:00:00\",\"2023-12-17T00:00:00\",\"2023-12-24T00:00:00\",\"2023-12-31T00:00:00\",\"2024-01-07T00:00:00\",\"2024-01-14T00:00:00\",\"2024-01-21T00:00:00\",\"2024-01-28T00:00:00\",\"2024-02-04T00:00:00\",\"2024-02-11T00:00:00\",\"2024-02-18T00:00:00\",\"2024-02-25T00:00:00\",\"2024-03-03T00:00:00\",\"2024-03-10T00:00:00\",\"2024-03-17T00:00:00\",\"2024-03-24T00:00:00\"],\"xaxis\":\"x\",\"y\":[4352.4,0.0,0.0,5468.34,0.0,0.0,10933.02,-57.85,-0.64,6293.02,0.0,0.0,0.0,6214.38,0.0,5963.26,0.0,0.0,5047.46,0.0,-32.0,5760.0,0.0,0.0,8448.0,0.0,0.0,0.0,0.0,0.0,0.0,0.0,0.0,2720.6000000000004,0.0,0.0,3379.86,0.0,0.0,1443.94,0.0,0.0,7366.28,0.0,-376.68,16365.42,0.0,0.0,9208.32,-94.2,0.0,4520.4400000000005,0.0,0.0,5252.860000000001,0.0,0.0,9632.08,0.0,0.0,2589.84,0.0,0.0,12242.86,0.0,0.0,10275.54,0.0,0.0,12363.2,0.0,-420.65999999999997,0.0,11949.84,0.0,9961.720000000001,0.0,-209.28,5064.5599999999995,-34.88,0.0,8789.72,0.0,0.0,14356.52,1.0231815394945443e-12,0.0,13331.08,0.0,0.0,7224.12,114.84,0.0,10713.96,-229.68,0.0,20279.16,0.0,0.0,4573.719999999999,0.0,0.0,6590.64,112.8,0.0,6816.24,0.0,0.0,8443.68,-8121.6,0.0,9120.48,0.0,3948.0,15622.439999999999,0.0,0.0,19594.56,0.0,0.0,6413.28,-225.6,0.0,9257.4,0.0,0.0,14631.359999999999,0.0,0.0,6106.8,0.0,0.0,9434.76,0.0,0.0,12012.84,-12012.84,14720.039999999999,6824.04,0.0,0.0,8282.64,0.0,0.0,10030.68,-112.8,0.0,13019.52,-413.59999999999997,0.0,7079.4400000000005,0.0,0.0,9257.4,0.0,0.0,5986.2,0.0,0.0,7177.26,0.0,0.0,9708.6,-0.75,0.0,-112.8,-8628.84],\"yaxis\":\"y\",\"type\":\"bar\"}],                        {\"template\":{\"data\":{\"candlestick\":[{\"decreasing\":{\"line\":{\"color\":\"#000033\"}},\"increasing\":{\"line\":{\"color\":\"#000032\"}},\"type\":\"candlestick\"}],\"contourcarpet\":[{\"colorscale\":[[0.0,\"#000011\"],[0.1111111111111111,\"#000012\"],[0.2222222222222222,\"#000013\"],[0.3333333333333333,\"#000014\"],[0.4444444444444444,\"#000015\"],[0.5555555555555556,\"#000016\"],[0.6666666666666666,\"#000017\"],[0.7777777777777778,\"#000018\"],[0.8888888888888888,\"#000019\"],[1.0,\"#000020\"]],\"type\":\"contourcarpet\"}],\"contour\":[{\"colorscale\":[[0.0,\"#000011\"],[0.1111111111111111,\"#000012\"],[0.2222222222222222,\"#000013\"],[0.3333333333333333,\"#000014\"],[0.4444444444444444,\"#000015\"],[0.5555555555555556,\"#000016\"],[0.6666666666666666,\"#000017\"],[0.7777777777777778,\"#000018\"],[0.8888888888888888,\"#000019\"],[1.0,\"#000020\"]],\"type\":\"contour\"}],\"heatmap\":[{\"colorscale\":[[0.0,\"#000011\"],[0.1111111111111111,\"#000012\"],[0.2222222222222222,\"#000013\"],[0.3333333333333333,\"#000014\"],[0.4444444444444444,\"#000015\"],[0.5555555555555556,\"#000016\"],[0.6666666666666666,\"#000017\"],[0.7777777777777778,\"#000018\"],[0.8888888888888888,\"#000019\"],[1.0,\"#000020\"]],\"type\":\"heatmap\"}],\"histogram2d\":[{\"colorscale\":[[0.0,\"#000011\"],[0.1111111111111111,\"#000012\"],[0.2222222222222222,\"#000013\"],[0.3333333333333333,\"#000014\"],[0.4444444444444444,\"#000015\"],[0.5555555555555556,\"#000016\"],[0.6666666666666666,\"#000017\"],[0.7777777777777778,\"#000018\"],[0.8888888888888888,\"#000019\"],[1.0,\"#000020\"]],\"type\":\"histogram2d\"}],\"icicle\":[{\"textfont\":{\"color\":\"white\"},\"type\":\"icicle\"}],\"sankey\":[{\"textfont\":{\"color\":\"#000036\"},\"type\":\"sankey\"}],\"scatter\":[{\"marker\":{\"line\":{\"width\":0}},\"type\":\"scatter\"}],\"table\":[{\"cells\":{\"fill\":{\"color\":\"#000038\"},\"font\":{\"color\":\"#000037\"},\"line\":{\"color\":\"#000039\"}},\"header\":{\"fill\":{\"color\":\"#000040\"},\"font\":{\"color\":\"#000036\"},\"line\":{\"color\":\"#000039\"}},\"type\":\"table\"}],\"waterfall\":[{\"connector\":{\"line\":{\"color\":\"#000036\",\"width\":2}},\"decreasing\":{\"marker\":{\"color\":\"#000033\"}},\"increasing\":{\"marker\":{\"color\":\"#000032\"}},\"totals\":{\"marker\":{\"color\":\"#000034\"}},\"type\":\"waterfall\"}]},\"layout\":{\"coloraxis\":{\"colorscale\":[[0.0,\"#000011\"],[0.1111111111111111,\"#000012\"],[0.2222222222222222,\"#000013\"],[0.3333333333333333,\"#000014\"],[0.4444444444444444,\"#000015\"],[0.5555555555555556,\"#000016\"],[0.6666666666666666,\"#000017\"],[0.7777777777777778,\"#000018\"],[0.8888888888888888,\"#000019\"],[1.0,\"#000020\"]]},\"colorscale\":{\"diverging\":[[0.0,\"#000021\"],[0.1,\"#000022\"],[0.2,\"#000023\"],[0.3,\"#000024\"],[0.4,\"#000025\"],[0.5,\"#000026\"],[0.6,\"#000027\"],[0.7,\"#000028\"],[0.8,\"#000029\"],[0.9,\"#000030\"],[1.0,\"#000031\"]],\"sequential\":[[0.0,\"#000011\"],[0.1111111111111111,\"#000012\"],[0.2222222222222222,\"#000013\"],[0.3333333333333333,\"#000014\"],[0.4444444444444444,\"#000015\"],[0.5555555555555556,\"#000016\"],[0.6666666666666666,\"#000017\"],[0.7777777777777778,\"#000018\"],[0.8888888888888888,\"#000019\"],[1.0,\"#000020\"]],\"sequentialminus\":[[0.0,\"#000011\"],[0.1111111111111111,\"#000012\"],[0.2222222222222222,\"#000013\"],[0.3333333333333333,\"#000014\"],[0.4444444444444444,\"#000015\"],[0.5555555555555556,\"#000016\"],[0.6666666666666666,\"#000017\"],[0.7777777777777778,\"#000018\"],[0.8888888888888888,\"#000019\"],[1.0,\"#000020\"]]},\"colorway\":[\"#000001\",\"#000002\",\"#000003\",\"#000004\",\"#000005\",\"#000006\",\"#000007\",\"#000008\",\"#000009\",\"#000010\"]}},\"xaxis\":{\"anchor\":\"y\",\"domain\":[0.0,1.0],\"title\":{\"text\":\"date\"}},\"yaxis\":{\"anchor\":\"x\",\"domain\":[0.0,1.0],\"title\":{\"text\":\"value\"}},\"legend\":{\"title\":{\"text\":\"variable\"},\"tracegroupgap\":0},\"margin\":{\"t\":60},\"barmode\":\"relative\"},                        {\"responsive\": true}                    ).then(function(){\n",
       "                            \n",
       "var gd = document.getElementById('ec1b9375-ae97-4e27-9820-482ae0989589');\n",
       "var x = new MutationObserver(function (mutations, observer) {{\n",
       "        var display = window.getComputedStyle(gd).display;\n",
       "        if (!display || display === 'none') {{\n",
       "            console.log([gd, 'removed!']);\n",
       "            Plotly.purge(gd);\n",
       "            observer.disconnect();\n",
       "        }}\n",
       "}});\n",
       "\n",
       "// Listen for the removal of the full notebook cells\n",
       "var notebookContainer = gd.closest('#notebook-container');\n",
       "if (notebookContainer) {{\n",
       "    x.observe(notebookContainer, {childList: true});\n",
       "}}\n",
       "\n",
       "// Listen for the clearing of the current output cell\n",
       "var outputEl = gd.closest('.output');\n",
       "if (outputEl) {{\n",
       "    x.observe(outputEl, {childList: true});\n",
       "}}\n",
       "\n",
       "                        })                };                });            </script>        </div>"
      ]
     },
     "metadata": {},
     "output_type": "display_data"
    }
   ],
   "source": [
    "level_2.date = pd.to_datetime(level_2.date)\n",
    "\n",
    "px.bar(level_2[level_2.parent_customer==\"Kelli's Gift Shop Supplies\"].set_index('date').groupby(pd.Grouper(freq='W'))['usd'].sum())"
   ]
  },
  {
   "cell_type": "code",
   "execution_count": null,
   "metadata": {},
   "outputs": [],
   "source": []
  },
  {
   "cell_type": "code",
   "execution_count": null,
   "metadata": {},
   "outputs": [],
   "source": []
  }
 ],
 "metadata": {
  "kernelspec": {
   "display_name": "Python 3 (ipykernel)",
   "language": "python",
   "name": "python3"
  },
  "language_info": {
   "codemirror_mode": {
    "name": "ipython",
    "version": 3
   },
   "file_extension": ".py",
   "mimetype": "text/x-python",
   "name": "python",
   "nbconvert_exporter": "python",
   "pygments_lexer": "ipython3",
   "version": "3.11.5"
  }
 },
 "nbformat": 4,
 "nbformat_minor": 2
}
