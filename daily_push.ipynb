{
 "cells": [
  {
   "cell_type": "code",
   "execution_count": 1,
   "metadata": {},
   "outputs": [],
   "source": [
    "import numpy as np\n",
    "import pandas as pd\n",
    "import datetime\n",
    "from sqlalchemy import create_engine\n",
    "import plotly.express as px\n",
    "from database_utils import add_new_unl, add_new_dot, clean_unleashed, clean_dot, get_level_2"
   ]
  },
  {
   "cell_type": "code",
   "execution_count": 2,
   "metadata": {},
   "outputs": [],
   "source": [
    "# database connection\n",
    "\n",
    "db_password = \"UnitCircle42!\"\n",
    "db_user = \"postgres\"\n",
    "db_name = \"dot\"\n",
    "endpoint = \"awakedb.cre3f7yk1unp.us-west-1.rds.amazonaws.com\"\n",
    "\n",
    "connection_string = f\"postgresql://{db_user}:{db_password}@{endpoint}:5432/{db_name}\"\n",
    "engine = create_engine(connection_string)"
   ]
  },
  {
   "cell_type": "code",
   "execution_count": 3,
   "metadata": {},
   "outputs": [],
   "source": [
    "## PASTE 2 FILES BELOW AND UPDATE ALL TABLES\n",
    "\n",
    "unl_download = r\"C:\\Users\\mikej\\Downloads\\SalesEnquiryList - 2024-01-27T094953.271.xlsx\"  ### file download from unleashed\n",
    "dot_download = r\"C:\\Users\\mikej\\Downloads\\SHOP Supplier Reporting - Invoice Details Excel - 2024-01-27T094939.310.xlsx\"  ### file download from dot\n",
    "\n",
    "add_new_unl(unl_download)  ## add rows to unleashed raw\n",
    "add_new_dot(dot_download)  ## add rows to dot raw\n",
    "\n",
    "clean_unleashed()    ### clean entire unleashed database\n",
    "clean_dot()          ### clean entire dot database\n",
    "get_level_2()        ### update complete level_2 db"
   ]
  },
  {
   "cell_type": "code",
   "execution_count": null,
   "metadata": {},
   "outputs": [],
   "source": [
    "### updating all_sales_data.csv in \"data\" directory\n",
    "\n",
    "level_2 = pd.read_sql(\"SELECT * FROM level_2 WHERE date > '2020-12-31';\", con = engine)\n",
    "# level_2 = level_2[level_2.market_segment != 'Samples']\n",
    "level_2.to_csv(r\"C:/Users/mikej/Desktop/cpg-sales/data/all_sales_data.csv\", index=False)"
   ]
  },
  {
   "cell_type": "code",
   "execution_count": 4,
   "metadata": {},
   "outputs": [
    {
     "data": {
      "application/vnd.plotly.v1+json": {
       "config": {
        "plotlyServerURL": "https://plot.ly"
       },
       "data": [
        {
         "alignmentgroup": "True",
         "hovertemplate": "=%{x}<br>$USD=%{marker.color}<extra></extra>",
         "legendgroup": "",
         "marker": {
          "color": [
           818197.7645,
           729544,
           1057277.9456,
           1115855.8176,
           980183.5221000001,
           934782.79,
           934604.0365,
           822950.7869,
           1735614.6664,
           1372415.0176,
           1629209.9596,
           1921323.0121,
           1778327.4805,
           1390772.9156,
           1447919.0721,
           2566213.9547,
           1681494.9863,
           635548.798,
           1045098.8075,
           1111753.1525,
           1258323.1125,
           1012903.4249,
           1108512.1437,
           1760175.2125,
           1470505.4075,
           1918012.8508000001,
           1975587.4475,
           2103590.958,
           2360647.8825,
           2215678.85,
           2459916.7475,
           2578497.1475,
           483407.52999999997
          ],
          "coloraxis": "coloraxis",
          "pattern": {
           "shape": ""
          }
         },
         "name": "",
         "offsetgroup": "",
         "orientation": "v",
         "showlegend": false,
         "textposition": "auto",
         "type": "bar",
         "x": [
          "2016-03-31T00:00:00",
          "2016-06-30T00:00:00",
          "2016-09-30T00:00:00",
          "2016-12-31T00:00:00",
          "2017-03-31T00:00:00",
          "2017-06-30T00:00:00",
          "2017-09-30T00:00:00",
          "2017-12-31T00:00:00",
          "2018-03-31T00:00:00",
          "2018-06-30T00:00:00",
          "2018-09-30T00:00:00",
          "2018-12-31T00:00:00",
          "2019-03-31T00:00:00",
          "2019-06-30T00:00:00",
          "2019-09-30T00:00:00",
          "2019-12-31T00:00:00",
          "2020-03-31T00:00:00",
          "2020-06-30T00:00:00",
          "2020-09-30T00:00:00",
          "2020-12-31T00:00:00",
          "2021-03-31T00:00:00",
          "2021-06-30T00:00:00",
          "2021-09-30T00:00:00",
          "2021-12-31T00:00:00",
          "2022-03-31T00:00:00",
          "2022-06-30T00:00:00",
          "2022-09-30T00:00:00",
          "2022-12-31T00:00:00",
          "2023-03-31T00:00:00",
          "2023-06-30T00:00:00",
          "2023-09-30T00:00:00",
          "2023-12-31T00:00:00",
          "2024-03-31T00:00:00"
         ],
         "xaxis": "x",
         "y": [
          818197.7645,
          729544,
          1057277.9456,
          1115855.8176,
          980183.5221000001,
          934782.79,
          934604.0365,
          822950.7869,
          1735614.6664,
          1372415.0176,
          1629209.9596,
          1921323.0121,
          1778327.4805,
          1390772.9156,
          1447919.0721,
          2566213.9547,
          1681494.9863,
          635548.798,
          1045098.8075,
          1111753.1525,
          1258323.1125,
          1012903.4249,
          1108512.1437,
          1760175.2125,
          1470505.4075,
          1918012.8508000001,
          1975587.4475,
          2103590.958,
          2360647.8825,
          2215678.85,
          2459916.7475,
          2578497.1475,
          483407.52999999997
         ],
         "yaxis": "y"
        }
       ],
       "layout": {
        "barmode": "relative",
        "coloraxis": {
         "colorbar": {
          "title": {
           "text": "$USD"
          }
         },
         "colorscale": [
          [
           0,
           "#440154"
          ],
          [
           0.1111111111111111,
           "#482878"
          ],
          [
           0.2222222222222222,
           "#3e4989"
          ],
          [
           0.3333333333333333,
           "#31688e"
          ],
          [
           0.4444444444444444,
           "#26828e"
          ],
          [
           0.5555555555555556,
           "#1f9e89"
          ],
          [
           0.6666666666666666,
           "#35b779"
          ],
          [
           0.7777777777777778,
           "#6ece58"
          ],
          [
           0.8888888888888888,
           "#b5de2b"
          ],
          [
           1,
           "#fde725"
          ]
         ]
        },
        "height": 400,
        "legend": {
         "tracegroupgap": 0
        },
        "margin": {
         "t": 60
        },
        "template": {
         "data": {
          "pie": [
           {
            "automargin": true,
            "type": "pie"
           }
          ],
          "scatter": [
           {
            "line": {
             "width": 3
            },
            "marker": {
             "size": 9
            },
            "type": "scatter"
           }
          ],
          "scatter3d": [
           {
            "line": {
             "width": 3
            },
            "marker": {
             "size": 9
            },
            "type": "scatter3d"
           }
          ],
          "scattergeo": [
           {
            "line": {
             "width": 3
            },
            "marker": {
             "size": 9
            },
            "type": "scattergeo"
           }
          ],
          "scattergl": [
           {
            "line": {
             "width": 3
            },
            "marker": {
             "size": 9
            },
            "type": "scattergl"
           }
          ],
          "scatterpolar": [
           {
            "line": {
             "width": 3
            },
            "marker": {
             "size": 9
            },
            "type": "scatterpolar"
           }
          ],
          "scatterpolargl": [
           {
            "line": {
             "width": 3
            },
            "marker": {
             "size": 9
            },
            "type": "scatterpolargl"
           }
          ],
          "scatterternary": [
           {
            "line": {
             "width": 3
            },
            "marker": {
             "size": 9
            },
            "type": "scatterternary"
           }
          ],
          "table": [
           {
            "cells": {
             "height": 30
            },
            "header": {
             "height": 36
            },
            "type": "table"
           }
          ]
         },
         "layout": {
          "font": {
           "size": 18
          },
          "xaxis": {
           "title": {
            "standoff": 15
           }
          },
          "yaxis": {
           "title": {
            "standoff": 15
           }
          }
         }
        },
        "width": 900,
        "xaxis": {
         "anchor": "y",
         "domain": [
          0,
          1
         ],
         "title": {
          "text": ""
         }
        },
        "yaxis": {
         "anchor": "x",
         "domain": [
          0,
          1
         ],
         "title": {
          "text": "$USD"
         }
        }
       }
      }
     },
     "metadata": {},
     "output_type": "display_data"
    }
   ],
   "source": [
    "### bar graph should populate if all is well\n",
    "\n",
    "level_2 = pd.read_sql('SELECT * FROM level_2;', con = engine)\n",
    "level_2.date = pd.to_datetime(level_2.date)\n",
    "\n",
    "px.bar(level_2.set_index('date').groupby(pd.Grouper(freq='Q'))['usd'].sum(),\n",
    "        y='usd',\n",
    "        template='presentation',\n",
    "        labels={'usd':'$USD',\n",
    "                'date':''},\n",
    "        color='usd',\n",
    "        width=900,\n",
    "        height=400)"
   ]
  },
  {
   "cell_type": "code",
   "execution_count": null,
   "metadata": {},
   "outputs": [],
   "source": []
  }
 ],
 "metadata": {
  "kernelspec": {
   "display_name": "Python 3 (ipykernel)",
   "language": "python",
   "name": "python3"
  },
  "language_info": {
   "codemirror_mode": {
    "name": "ipython",
    "version": 3
   },
   "file_extension": ".py",
   "mimetype": "text/x-python",
   "name": "python",
   "nbconvert_exporter": "python",
   "pygments_lexer": "ipython3",
   "version": "3.11.5"
  }
 },
 "nbformat": 4,
 "nbformat_minor": 2
}
