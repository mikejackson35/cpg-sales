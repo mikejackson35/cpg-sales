{
 "cells": [
  {
   "cell_type": "code",
   "execution_count": 1,
   "id": "ce8fc417",
   "metadata": {},
   "outputs": [],
   "source": [
    "# dependencies\n",
    "\n",
    "import warnings\n",
    "warnings.filterwarnings('ignore')\n",
    "\n",
    "import numpy as np\n",
    "import pandas as pd\n",
    "import datetime\n",
    "import plotly.express as px\n",
    "import psycopg2\n",
    "\n",
    "from sqlalchemy import create_engine\n",
    "\n",
    "pd.set_option('display.max_columns', None)"
   ]
  },
  {
   "cell_type": "code",
   "execution_count": 2,
   "id": "e8be2a6e",
   "metadata": {},
   "outputs": [],
   "source": [
    "# database connection\n",
    "\n",
    "db_password = \"UnitCircle42!\"\n",
    "db_user = \"postgres\"\n",
    "db_name = \"dot\"\n",
    "endpoint = \"awakedb.cre3f7yk1unp.us-west-1.rds.amazonaws.com\"\n",
    "\n",
    "connection_string = f\"postgresql://{db_user}:{db_password}@{endpoint}:5432/{db_name}\"\n",
    "engine = create_engine(connection_string)"
   ]
  },
  {
   "cell_type": "code",
   "execution_count": 4,
   "id": "39f7ff46",
   "metadata": {},
   "outputs": [
    {
     "name": "stdout",
     "output_type": "stream",
     "text": [
      "35 new rows\n",
      "Dates: 2024-01-19 thru 2024-01-19\n",
      " \n",
      "<class 'pandas.core.frame.DataFrame'>\n",
      "RangeIndex: 35 entries, 0 to 34\n",
      "Data columns (total 12 columns):\n",
      " #   Column          Non-Null Count  Dtype         \n",
      "---  ------          --------------  -----         \n",
      " 0   order_num       35 non-null     object        \n",
      " 1   order_date      35 non-null     datetime64[ns]\n",
      " 2   req_date        35 non-null     datetime64[ns]\n",
      " 3   completed_date  35 non-null     datetime64[ns]\n",
      " 4   warehouse       35 non-null     object        \n",
      " 5   customer_name   35 non-null     object        \n",
      " 6   customer_type   35 non-null     object        \n",
      " 7   product         35 non-null     object        \n",
      " 8   product_group   35 non-null     object        \n",
      " 9   status          35 non-null     object        \n",
      " 10  quantity        35 non-null     float64       \n",
      " 11  sub_total       35 non-null     float64       \n",
      "dtypes: datetime64[ns](3), float64(2), object(7)\n",
      "memory usage: 3.4+ KB\n"
     ]
    }
   ],
   "source": [
    "# READ NEW DATA, FIX HEADERS/FOOTERS, DATATYPES, TAKE A LOOK\n",
    "\n",
    "file_path = r\"C:\\Users\\mikej\\Downloads\\SalesEnquiryList - 2024-01-21T100559.981.xlsx\"\n",
    "new_unl_raw = pd.read_excel(file_path,header=2)\n",
    "\n",
    "new_unl_raw = new_unl_raw.loc[:, ~new_unl_raw.columns.str.match('Unnamed')]     #remove 'Unnamed' column\n",
    "new_unl_raw.drop(new_unl_raw.tail(1).index,inplace=True)                        #remove final row where vendor totals the Sub Total column\n",
    "\n",
    "new_unl_raw.columns = ['order_num','order_date','req_date','completed_date',     #rename columns\n",
    "                       'warehouse','customer_name','customer_type','product',\n",
    "                       'product_group','status','quantity','sub_total']\n",
    "\n",
    "new_unl_raw['quantity'] = new_unl_raw['quantity'].astype('float')\n",
    "new_unl_raw['sub_total'] = new_unl_raw['sub_total'].astype('float')\n",
    "\n",
    "print(f\"{len(new_unl_raw)} new rows\")\n",
    "print(f\"Dates: {new_unl_raw['completed_date'].dt.date.min()} thru {new_unl_raw['completed_date'].dt.date.max()}\")\n",
    "print(\" \")\n",
    "\n",
    "new_unl_raw.info()"
   ]
  },
  {
   "cell_type": "code",
   "execution_count": 5,
   "id": "cbf168cd",
   "metadata": {},
   "outputs": [
    {
     "data": {
      "text/plain": [
       "35"
      ]
     },
     "execution_count": 5,
     "metadata": {},
     "output_type": "execute_result"
    }
   ],
   "source": [
    "## LIKE WHAT YOU SEE? PUSH TO CLEAN DATABASE\n",
    "\n",
    "new_unl_raw.to_sql('unleashed_raw', engine, if_exists='append', index=False)       #send to database"
   ]
  },
  {
   "cell_type": "code",
   "execution_count": 3,
   "id": "935b8efd",
   "metadata": {},
   "outputs": [
    {
     "name": "stdout",
     "output_type": "stream",
     "text": [
      "  \n",
      "2018-01-05\n",
      "thru\n",
      "2024-01-19\n",
      "  \n",
      "Rows: 197332\n",
      "<class 'pandas.core.frame.DataFrame'>\n",
      "RangeIndex: 197332 entries, 0 to 197331\n",
      "Data columns (total 11 columns):\n",
      " #   Column           Non-Null Count   Dtype  \n",
      "---  ------           --------------   -----  \n",
      " 0   month            197332 non-null  object \n",
      " 1   year             197332 non-null  int32  \n",
      " 2   customer_name    197332 non-null  object \n",
      " 3   completed_date   197332 non-null  object \n",
      " 4   product          197332 non-null  object \n",
      " 5   quantity         197332 non-null  float64\n",
      " 6   sub_total        197332 non-null  float64\n",
      " 7   usd              197332 non-null  float64\n",
      " 8   sale_origin      197332 non-null  object \n",
      " 9   market_segment   195781 non-null  object \n",
      " 10  parent_customer  195781 non-null  object \n",
      "dtypes: float64(3), int32(1), object(7)\n",
      "memory usage: 15.8+ MB\n"
     ]
    }
   ],
   "source": [
    "# READ RAW DATA FROM POSTGRES, ADD COLUMNS \n",
    "\n",
    "unleashed_raw = pd.read_sql(\"\"\"\n",
    "                            SELECT completed_date, customer_name, product, quantity, sub_total \n",
    "                            FROM unleashed_raw\n",
    "                            ;\"\"\", \n",
    "                            con = engine)\n",
    "\n",
    "## add $ USD columns converted from CAD\n",
    "unleashed_raw['usd'] = unleashed_raw['sub_total']*.75\n",
    "## add origin of sale (dot or unleashed)\n",
    "unleashed_raw['sale_origin'] = 'unl'\n",
    "\n",
    "# assign market segments to each parent customer\n",
    "segment_table = pd.read_csv(r\"C:\\Users\\mikej\\Desktop\\cpg-sales\\data\\customer_table.csv\",usecols=('customer','market_segment')).set_index('customer')\n",
    "unleashed_raw.set_index('customer_name',inplace=True)\n",
    "unleashed_raw = unleashed_raw.merge(segment_table, how='left',left_index=True,right_index=True)\n",
    "\n",
    "# assign parent customers to customers\n",
    "cus_table = pd.read_csv(r\"C:\\Users\\mikej\\Desktop\\cpg-sales\\data\\customer_table.csv\",usecols=('customer','parent_customer')).set_index('customer')\n",
    "unleashed_raw = unleashed_raw.merge(cus_table, how='left',left_index=True,right_index=True).reset_index()\n",
    "\n",
    "# add year/month columns\n",
    "unleashed_raw['completed_date'] = pd.to_datetime(unleashed_raw['completed_date'])\n",
    "year_col = unleashed_raw.set_index(['completed_date']).index.year\n",
    "month_col = unleashed_raw.set_index(['completed_date']).index.month_name()\n",
    "\n",
    "# month & year columns\n",
    "unleashed_raw.insert(0,\"month\", month_col)\n",
    "unleashed_raw.insert(1,\"year\", year_col)\n",
    "\n",
    "unleashed_raw['completed_date'] = unleashed_raw['completed_date'].dt.date\n",
    "\n",
    "print(\"  \")\n",
    "print(unleashed_raw.completed_date.min())\n",
    "print(\"thru\")\n",
    "print(unleashed_raw.completed_date.max())\n",
    "print(\"  \")\n",
    "print(f\"Rows: {len(unleashed_raw)}\")\n",
    "unleashed_raw.info()\n",
    "# unleashed_raw.head(3)"
   ]
  },
  {
   "cell_type": "code",
   "execution_count": 4,
   "id": "5b6bd9d8",
   "metadata": {},
   "outputs": [
    {
     "data": {
      "text/plain": [
       "332"
      ]
     },
     "execution_count": 4,
     "metadata": {},
     "output_type": "execute_result"
    }
   ],
   "source": [
    "##  -- SEND TO UNLEASHED CLEAN DATABASE\n",
    "\n",
    "unleashed_raw.to_sql('unleashed_clean', engine, if_exists='replace', index=False)"
   ]
  },
  {
   "cell_type": "code",
   "execution_count": 5,
   "id": "9adb6c6a",
   "metadata": {
    "scrolled": false
   },
   "outputs": [
    {
     "name": "stdout",
     "output_type": "stream",
     "text": [
      "2018-01-05\n",
      "2024-01-19\n",
      "Rows: 197332\n"
     ]
    },
    {
     "data": {
      "text/html": [
       "<div>\n",
       "<style scoped>\n",
       "    .dataframe tbody tr th:only-of-type {\n",
       "        vertical-align: middle;\n",
       "    }\n",
       "\n",
       "    .dataframe tbody tr th {\n",
       "        vertical-align: top;\n",
       "    }\n",
       "\n",
       "    .dataframe thead th {\n",
       "        text-align: right;\n",
       "    }\n",
       "</style>\n",
       "<table border=\"1\" class=\"dataframe\">\n",
       "  <thead>\n",
       "    <tr style=\"text-align: right;\">\n",
       "      <th></th>\n",
       "      <th>month</th>\n",
       "      <th>year</th>\n",
       "      <th>customer_name</th>\n",
       "      <th>completed_date</th>\n",
       "      <th>product</th>\n",
       "      <th>quantity</th>\n",
       "      <th>sub_total</th>\n",
       "      <th>usd</th>\n",
       "      <th>sale_origin</th>\n",
       "      <th>market_segment</th>\n",
       "      <th>parent_customer</th>\n",
       "    </tr>\n",
       "  </thead>\n",
       "  <tbody>\n",
       "    <tr>\n",
       "      <th>0</th>\n",
       "      <td>January</td>\n",
       "      <td>2018</td>\n",
       "      <td>1999</td>\n",
       "      <td>2018-01-19</td>\n",
       "      <td>Shopify Shipping cost</td>\n",
       "      <td>1.0</td>\n",
       "      <td>6.39</td>\n",
       "      <td>4.7925</td>\n",
       "      <td>unl</td>\n",
       "      <td>Other</td>\n",
       "      <td>1999</td>\n",
       "    </tr>\n",
       "    <tr>\n",
       "      <th>1</th>\n",
       "      <td>January</td>\n",
       "      <td>2018</td>\n",
       "      <td>1999</td>\n",
       "      <td>2018-01-19</td>\n",
       "      <td>Cinnamon Bun Granola Bars 16 Pack</td>\n",
       "      <td>1.0</td>\n",
       "      <td>28.74</td>\n",
       "      <td>21.5550</td>\n",
       "      <td>unl</td>\n",
       "      <td>Other</td>\n",
       "      <td>1999</td>\n",
       "    </tr>\n",
       "    <tr>\n",
       "      <th>2</th>\n",
       "      <td>January</td>\n",
       "      <td>2018</td>\n",
       "      <td>ACME</td>\n",
       "      <td>2018-01-12</td>\n",
       "      <td>Shopify Shipping cost</td>\n",
       "      <td>1.0</td>\n",
       "      <td>6.39</td>\n",
       "      <td>4.7925</td>\n",
       "      <td>unl</td>\n",
       "      <td>Other</td>\n",
       "      <td>ACME</td>\n",
       "    </tr>\n",
       "  </tbody>\n",
       "</table>\n",
       "</div>"
      ],
      "text/plain": [
       "     month  year customer_name completed_date  \\\n",
       "0  January  2018          1999     2018-01-19   \n",
       "1  January  2018          1999     2018-01-19   \n",
       "2  January  2018          ACME     2018-01-12   \n",
       "\n",
       "                             product  quantity  sub_total      usd  \\\n",
       "0              Shopify Shipping cost       1.0       6.39   4.7925   \n",
       "1  Cinnamon Bun Granola Bars 16 Pack       1.0      28.74  21.5550   \n",
       "2              Shopify Shipping cost       1.0       6.39   4.7925   \n",
       "\n",
       "  sale_origin market_segment parent_customer  \n",
       "0         unl          Other            1999  \n",
       "1         unl          Other            1999  \n",
       "2         unl          Other            ACME  "
      ]
     },
     "execution_count": 5,
     "metadata": {},
     "output_type": "execute_result"
    }
   ],
   "source": [
    "## read in unleashed_clean\n",
    "\n",
    "unleashed_clean = pd.read_sql('SELECT * FROM unleashed_clean;', con = engine)\n",
    "\n",
    "print(unleashed_clean.completed_date.min())\n",
    "print(unleashed_clean.completed_date.max())\n",
    "print(f\"Rows: {len(unleashed_clean)}\")\n",
    "unleashed_clean.head(3)"
   ]
  },
  {
   "cell_type": "code",
   "execution_count": 7,
   "id": "4b7cc80c",
   "metadata": {},
   "outputs": [
    {
     "data": {
      "text/plain": [
       "array(['Other', 'Online', 'Vending', 'Canada', 'Grocery', 'Convenience',\n",
       "       'Samples', None, 'Alternate Retail'], dtype=object)"
      ]
     },
     "execution_count": 7,
     "metadata": {},
     "output_type": "execute_result"
    }
   ],
   "source": [
    "unleashed_clean.market_segment.unique()"
   ]
  },
  {
   "cell_type": "code",
   "execution_count": 10,
   "id": "727f4be2",
   "metadata": {},
   "outputs": [
    {
     "name": "stdout",
     "output_type": "stream",
     "text": [
      "<class 'pandas.core.frame.DataFrame'>\n",
      "RangeIndex: 197332 entries, 0 to 197331\n",
      "Data columns (total 11 columns):\n",
      " #   Column           Non-Null Count   Dtype  \n",
      "---  ------           --------------   -----  \n",
      " 0   month            197332 non-null  string \n",
      " 1   year             197332 non-null  Int64  \n",
      " 2   customer_name    197332 non-null  string \n",
      " 3   completed_date   197332 non-null  object \n",
      " 4   product          197332 non-null  string \n",
      " 5   quantity         197332 non-null  Float64\n",
      " 6   sub_total        197332 non-null  Float64\n",
      " 7   usd              197332 non-null  Float64\n",
      " 8   sale_origin      197332 non-null  string \n",
      " 9   market_segment   195781 non-null  string \n",
      " 10  parent_customer  195781 non-null  string \n",
      "dtypes: Float64(3), Int64(1), object(1), string(6)\n",
      "memory usage: 17.3+ MB\n"
     ]
    }
   ],
   "source": [
    "unleashed_clean.convert_dtypes().info()"
   ]
  },
  {
   "cell_type": "code",
   "execution_count": null,
   "id": "4bdaf9fb",
   "metadata": {},
   "outputs": [],
   "source": []
  },
  {
   "cell_type": "code",
   "execution_count": null,
   "id": "246c227f",
   "metadata": {},
   "outputs": [],
   "source": []
  },
  {
   "cell_type": "code",
   "execution_count": null,
   "id": "318f7e1c",
   "metadata": {},
   "outputs": [],
   "source": []
  }
 ],
 "metadata": {
  "kernelspec": {
   "display_name": "Python 3 (ipykernel)",
   "language": "python",
   "name": "python3"
  },
  "language_info": {
   "codemirror_mode": {
    "name": "ipython",
    "version": 3
   },
   "file_extension": ".py",
   "mimetype": "text/x-python",
   "name": "python",
   "nbconvert_exporter": "python",
   "pygments_lexer": "ipython3",
   "version": "3.11.5"
  }
 },
 "nbformat": 4,
 "nbformat_minor": 5
}
