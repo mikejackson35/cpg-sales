{
 "cells": [
  {
   "cell_type": "code",
   "execution_count": 1,
   "id": "ce8fc417",
   "metadata": {},
   "outputs": [],
   "source": [
    "# dependencies\n",
    "\n",
    "import warnings\n",
    "warnings.filterwarnings('ignore')\n",
    "\n",
    "import numpy as np\n",
    "import pandas as pd\n",
    "import plotly.express as px\n",
    "import datetime\n",
    "\n",
    "from sqlalchemy import create_engine\n",
    "\n",
    "pd.set_option('display.max_columns', None)"
   ]
  },
  {
   "cell_type": "code",
   "execution_count": 2,
   "id": "ad0b314c",
   "metadata": {},
   "outputs": [
    {
     "name": "stdout",
     "output_type": "stream",
     "text": [
      "Oldest Date to Add\n",
      "2024-01-09 00:00:00\n",
      " \n",
      "Most Recent Date to Add\n",
      "2024-01-10 00:00:00\n"
     ]
    },
    {
     "data": {
      "text/plain": [
       "Index(['Supplier Name', 'Product Line Number', 'Product Line Description',\n",
       "       'Buying Group Number', 'Buying Group Name', 'Customer #',\n",
       "       'Customer Name', 'Customer Shipping City', 'Customer Shipping State',\n",
       "       'Customer Shipping Zip Code', 'Customer Invoice Number', 'Invoice Date',\n",
       "       'Customer PO Number', 'Customer Order Number', 'Dot #', 'MFG #',\n",
       "       'Item UPC', 'Item Full Description', 'Qty Ordered', 'Qty Received',\n",
       "       'Dollars', 'Customer Extended Gross Weight',\n",
       "       'Customer Extended Net Weight', 'Channel Number', 'Channel Description',\n",
       "       'Segment Code', 'Segment Description', 'Tier Number',\n",
       "       'Tier Description', 'Product Line Sub-Category', 'Dot DC'],\n",
       "      dtype='object')"
      ]
     },
     "execution_count": 2,
     "metadata": {},
     "output_type": "execute_result"
    }
   ],
   "source": [
    "# Excel export of 'Invoice Detail' report\n",
    "\n",
    "FILE_PATH = r\"C:\\Users\\mikej\\Downloads\\SHOP Supplier Reporting - Invoice Details Excel - 2024-01-11T082933.128.xlsx\"\n",
    "\n",
    "# new_dot_data = FILE_PATH\n",
    "# new_dot_data = r\"C:\\Users\\mikej\\Downloads\\SHOP Supplier Reporting - Invoice Details Excel - 2024-01-08T145315.837.xlsx\"\n",
    "\n",
    "new_dot_data = pd.read_excel(FILE_PATH, header=2)\n",
    "print(f\"Oldest Date to Add\")\n",
    "print(f\"{new_dot_data['Invoice Date'].min()}\")\n",
    "print(\" \")\n",
    "print(f\"Most Recent Date to Add\")\n",
    "print(f\"{new_dot_data['Invoice Date'].max()}\")\n",
    "new_dot_data.columns"
   ]
  },
  {
   "cell_type": "code",
   "execution_count": 3,
   "id": "737f2568",
   "metadata": {},
   "outputs": [],
   "source": [
    "# replace obove columns with...\n",
    "\n",
    "new_dot_data.columns = ['supplier_name', 'product_line_number', 'product_line_desc',\n",
    "       'buying_group_number', 'buying_group_name', 'customer_num',\n",
    "       'customer_name', 'customer_shipping_city', 'customer_shipping_state',\n",
    "       'customer_shipping_zip', 'customer_invoice_number', 'invoice_date',\n",
    "       'customer_po_number', 'customer_order_number', 'prod_dot_number',\n",
    "       'prod_mfg_number', 'item_upc', 'item_full_desc', 'qty_ordered',\n",
    "       'qty_received', 'dollars', 'cust_ext_gross_weight',\n",
    "       'cust_ext_net_weight', 'channel_num', 'channel_desc', 'segment_code',\n",
    "       'segment_desc', 'tier_num', 'tier_desc', 'prod_line_sub_cat', 'dot_dc']"
   ]
  },
  {
   "cell_type": "code",
   "execution_count": 4,
   "id": "1ac2463d",
   "metadata": {},
   "outputs": [],
   "source": [
    "# database connection\n",
    "\n",
    "db_password = \"UnitCircle42!\"\n",
    "db_user = \"postgres\"\n",
    "db_name = \"dot\"\n",
    "endpoint = \"awakedb.cre3f7yk1unp.us-west-1.rds.amazonaws.com\"\n",
    "\n",
    "connection_string = f\"postgresql://{db_user}:{db_password}@{endpoint}:5432/{db_name}\"\n",
    "engine = create_engine(connection_string)"
   ]
  },
  {
   "cell_type": "code",
   "execution_count": 36,
   "id": "e61ff6ce",
   "metadata": {},
   "outputs": [
    {
     "name": "stdout",
     "output_type": "stream",
     "text": [
      "40 new records from dates: \n",
      "1/9 thru 1/10\n"
     ]
    }
   ],
   "source": [
    "print(f\"{len(new_dot_data)} new records from dates: \\n\"\n",
    "        f\"{new_dot_data.invoice_date.unique().month.min()}/{new_dot_data.invoice_date.unique().day.min()} thru {new_dot_data.invoice_date.unique().month.max()}/{new_dot_data.invoice_date.unique().day.max()}\")"
   ]
  },
  {
   "cell_type": "code",
   "execution_count": 37,
   "id": "b86b4de5",
   "metadata": {},
   "outputs": [
    {
     "name": "stdout",
     "output_type": "stream",
     "text": [
      "Records sent to db should match above\n"
     ]
    },
    {
     "data": {
      "text/plain": [
       "40"
      ]
     },
     "execution_count": 37,
     "metadata": {},
     "output_type": "execute_result"
    }
   ],
   "source": [
    "##  -- send new rows to invoice_detail database\n",
    "\n",
    "print(\"Records sent to db should match above\")\n",
    "new_dot_data.to_sql('invoice_detail', engine, if_exists='append', index=False)"
   ]
  },
  {
   "cell_type": "code",
   "execution_count": null,
   "id": "9adb6c6a",
   "metadata": {
    "scrolled": false
   },
   "outputs": [],
   "source": [
    "## read in invoice_detail for cleaning\n",
    "\n",
    "dot = pd.read_sql('SELECT * FROM invoice_detail;', con = engine)\n",
    "print(f\"{len(dot)} rows\")\n",
    "dot.invoice_date.max()"
   ]
  },
  {
   "cell_type": "code",
   "execution_count": null,
   "id": "67ec4d76",
   "metadata": {},
   "outputs": [],
   "source": [
    "dot.columns"
   ]
  },
  {
   "cell_type": "code",
   "execution_count": null,
   "id": "3f95e921",
   "metadata": {},
   "outputs": [],
   "source": [
    "dot.customer_name.nunique()"
   ]
  },
  {
   "cell_type": "code",
   "execution_count": null,
   "id": "4e84436d",
   "metadata": {},
   "outputs": [],
   "source": [
    "# remove uneeded columns\n",
    "\n",
    "dot.drop(columns=['supplier_name','product_line_number','product_line_desc', 'buying_group_name','buying_group_number','customer_num', 'customer_shipping_city', 'customer_shipping_state', 'customer_shipping_zip', 'prod_mfg_number', 'customer_invoice_number','customer_po_number','customer_order_number','prod_dot_number','item_upc','qty_ordered','cust_ext_gross_weight','cust_ext_net_weight', 'channel_desc', 'channel_num','segment_code','tier_num','tier_desc','prod_line_sub_cat','dot_dc'],inplace=True)\n",
    "\n",
    "## add canadian dollars column\n",
    "dot['cad'] = dot.dollars*1.33\n",
    "\n",
    "## add column to denote the dot table\n",
    "dot['sale_origin'] = 'dot'\n",
    "\n",
    "# add parent distributor column\n",
    "parent_child_table = pd.read_excel(r'C:\\Users\\mikej\\Master Data\\cpg-sales\\data\\parent_child.xlsx')\n",
    "\n",
    "temp_dot = dot.set_index('customer_name')\n",
    "parent_child_table = parent_child_table.set_index('customer_name')\n",
    "dot = pd.merge(temp_dot,parent_child_table, how='left',left_index=True,right_index=True).reset_index()\n",
    "\n",
    "dot.parent_customer.fillna(dot['customer_name'], inplace=True)\n",
    "\n",
    "## CREATE CLEAN 'MARKET SEGMENT' COLUMN\n",
    "tropicals = ['TROPICAL FOODS--DC', 'TROPICAL FOODS--FL', 'TROPICAL FOODS--GA',\n",
    "       'TROPICAL FOODS--NV', 'TROPICAL FOODS--TN', 'TROPICAL FOODS--TX',\n",
    "       'TROPICAL NUT & FRUIT']\n",
    "\n",
    "other_segments = ['FOOD PROCESSORS','JAN/SAN/PAPER','ONLINE DISTRIBUTORS', 'E&S DEALERS','SYSTEMS']\n",
    "\n",
    "def define_seg(row):    \n",
    "    \"\"\"duplicate segment description column changing\n",
    "        tropical to alternative retail\n",
    "    \"\"\"\n",
    "    if any(x in row['customer_name'] for x in tropicals): \n",
    "        return 'ALTERNATIVE RETAIL'\n",
    "    elif any(x in row['customer_name'] for x in other_segments): \n",
    "        return 'OTHER' \n",
    "    else:\n",
    "        return row['segment_desc']\n",
    "\n",
    "dot['market_segment'] = dot.apply(define_seg, axis=1)\n",
    "\n",
    "\n",
    "# add year/month columns\n",
    "dot['invoice_date'] = pd.to_datetime(dot['invoice_date'])\n",
    "year_col = dot.set_index(['invoice_date']).index.year#.astype('category')\n",
    "month_col = dot.set_index(['invoice_date']).index.month_name()#.astype('category')\n",
    "\n",
    "# month & year columns\n",
    "dot.insert(0,\"month\", month_col)\n",
    "dot.insert(1,\"year\", year_col)\n",
    "\n",
    "# final fix dtypes\n",
    "dot = dot.convert_dtypes()\n",
    "dot['qty_received'] = dot['qty_received'].astype('float')\n",
    "\n",
    "dot.drop(columns='segment_desc',inplace=True)\n",
    "\n",
    "invoice_clean = dot.copy()"
   ]
  },
  {
   "cell_type": "code",
   "execution_count": null,
   "id": "f0fda486",
   "metadata": {},
   "outputs": [],
   "source": [
    "# See what ya got\n",
    "\n",
    "print(f\"Earliest Date: {invoice_clean.invoice_date.min()}\")\n",
    "print(f\"Latest Date:   {invoice_clean.invoice_date.max()}\")\n",
    "print(f\"Rows: {len(invoice_clean)}\")\n",
    "print(\" \")\n",
    "invoice_clean.info()"
   ]
  },
  {
   "cell_type": "code",
   "execution_count": null,
   "id": "dadc80fc",
   "metadata": {},
   "outputs": [],
   "source": [
    "## PUSH TO CLEAN DOT DATABASE\n",
    "\n",
    "invoice_clean.to_sql('invoice_clean', engine, if_exists='replace', index=False)"
   ]
  },
  {
   "cell_type": "code",
   "execution_count": null,
   "id": "609496f5",
   "metadata": {},
   "outputs": [],
   "source": [
    "# graph_df = pd.read_sql('SELECT * FROM invoice_clean;', con = engine)\n",
    "# graph_df.invoice_date = pd.to_datetime(graph_df.invoice_date)\n",
    "\n",
    "px.bar(invoice_clean.set_index('invoice_date').groupby(pd.Grouper(freq='Q'))['dollars'].sum(),\n",
    "        y='dollars',\n",
    "        template='presentation',\n",
    "        labels={'dollars':'$USD',\n",
    "                'invoice_date':''},\n",
    "        color='dollars',\n",
    "        width=900,\n",
    "        height=400)"
   ]
  },
  {
   "cell_type": "code",
   "execution_count": null,
   "id": "8a730356",
   "metadata": {},
   "outputs": [],
   "source": []
  },
  {
   "cell_type": "code",
   "execution_count": null,
   "id": "0ddd9471",
   "metadata": {},
   "outputs": [],
   "source": []
  },
  {
   "cell_type": "code",
   "execution_count": null,
   "id": "be7be138",
   "metadata": {},
   "outputs": [],
   "source": []
  },
  {
   "cell_type": "code",
   "execution_count": null,
   "id": "a66dce21",
   "metadata": {},
   "outputs": [],
   "source": []
  },
  {
   "cell_type": "code",
   "execution_count": null,
   "id": "a95138cf",
   "metadata": {},
   "outputs": [],
   "source": []
  },
  {
   "cell_type": "code",
   "execution_count": null,
   "id": "b7f049f6",
   "metadata": {},
   "outputs": [],
   "source": [
    "## Read in Unleashed table from postgres\n",
    "\n",
    "unl = pd.read_sql('SELECT * FROM unl;', con = engine)\n",
    "unl['USD'] = unl['sub_total']*.75\n",
    "\n",
    "unl['completed_date'] = pd.to_datetime(unl['completed_date'])\n",
    "\n",
    "print(unl.completed_date.min())\n",
    "print(unl.completed_date.max())\n",
    "print(f\"Rows: {len(unl[unl['completed_date'] > '2022'])}\")"
   ]
  },
  {
   "cell_type": "code",
   "execution_count": null,
   "id": "a746871f",
   "metadata": {},
   "outputs": [],
   "source": [
    "unl.columns"
   ]
  },
  {
   "cell_type": "code",
   "execution_count": null,
   "id": "16326a41",
   "metadata": {},
   "outputs": [],
   "source": [
    "# Dot Outbounds\n",
    "\n",
    "df = (\n",
    "    dot\n",
    "    .groupby('invoice_date',as_index=False)\n",
    "    ['dollars'].sum()\n",
    ")\n",
    "\n",
    "df.index = pd.to_datetime(df['invoice_date'],format='%m/%d/%y %I:%M%p')\n",
    "df = pd.DataFrame(df.groupby(by=[df.index.year, df.index.month],as_index=False)['dollars'].sum())\n",
    "\n",
    "px.scatter(y=df.dollars,\n",
    "        trendline=\"rolling\", trendline_options=dict(function=\"median\", window=5), trendline_scope=\"overall\",\n",
    "        title='Dot Outbounds',\n",
    "        template='presentation',\n",
    "        opacity=.2,\n",
    "        labels={'y':'$USD',\n",
    "                'x':'Date'\n",
    "               }\n",
    "       )"
   ]
  },
  {
   "cell_type": "code",
   "execution_count": null,
   "id": "69e7b58a",
   "metadata": {},
   "outputs": [],
   "source": [
    "px.scatter(dot.groupby('invoice_date',as_index=False)['dollars'].sum(),\n",
    "       x='invoice_date',\n",
    "       y='dollars',\n",
    "#        trendline='lowess',\n",
    "       trendline=\"rolling\", trendline_options=dict(function=\"median\", window=20), trendline_scope=\"overall\",    \n",
    "       trendline_color_override=\"red\",\n",
    "#        template='presentation',\n",
    "       color='dollars',\n",
    "        opacity=.2)"
   ]
  },
  {
   "cell_type": "code",
   "execution_count": null,
   "id": "246c227f",
   "metadata": {},
   "outputs": [],
   "source": []
  },
  {
   "cell_type": "code",
   "execution_count": null,
   "id": "9d6e45d4",
   "metadata": {},
   "outputs": [],
   "source": [
    "## turns dot to raw_dot_outbounds (TABLEAU READY)\n",
    "\n",
    "# Update columns headers to match original raw data (for tableau)\n",
    "\n",
    "labels = ['Supplier Name','Product Line Number', 'Product Line Description','Buying Group Number', 'Buying Group Name', 'Customer #',\n",
    "            'Customer Name','Customer Shipping City','Customer Shipping State','Customer Shipping Zip Code',\n",
    "            'Customer Invoice Number','Invoice Date','Customer PO Number','Customer Order Number','Dot #',\n",
    "             'MFG #','Item UPC','Item Full Description','Qty Ordered','Qty Received','Dollars','Customer Extended Gross Weight',\n",
    "             'Customer Extended Net Weight','Channel Number','Channel Description','Segment Code','Segment Description',\n",
    "            'Tier Number','Tier Description','Product Line Sub-Category','Dot DC','Table','Segment Description 2','Parent Customer']\n",
    "\n",
    "raw_dot_outbounds = dot.copy()\n",
    "raw_dot_outbounds.columns = labels\n",
    "\n",
    "# raw_dot_outbounds.head(2)"
   ]
  },
  {
   "cell_type": "code",
   "execution_count": null,
   "id": "318f7e1c",
   "metadata": {},
   "outputs": [],
   "source": []
  }
 ],
 "metadata": {
  "kernelspec": {
   "display_name": "Python 3 (ipykernel)",
   "language": "python",
   "name": "python3"
  },
  "language_info": {
   "codemirror_mode": {
    "name": "ipython",
    "version": 3
   },
   "file_extension": ".py",
   "mimetype": "text/x-python",
   "name": "python",
   "nbconvert_exporter": "python",
   "pygments_lexer": "ipython3",
   "version": "3.11.5"
  }
 },
 "nbformat": 4,
 "nbformat_minor": 5
}
