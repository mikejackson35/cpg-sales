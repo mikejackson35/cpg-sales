{
 "cells": [
  {
   "cell_type": "code",
   "execution_count": 1,
   "id": "615641c8",
   "metadata": {},
   "outputs": [],
   "source": [
    "# dependencies\n",
    "\n",
    "import warnings\n",
    "warnings.filterwarnings('ignore')\n",
    "\n",
    "import numpy as np\n",
    "import pandas as pd\n",
    "import datetime\n",
    "import plotly.express as px\n",
    "\n",
    "from sqlalchemy import create_engine\n",
    "\n",
    "pd.set_option('display.max_columns', None)"
   ]
  },
  {
   "cell_type": "code",
   "execution_count": 2,
   "id": "4ea02ce5",
   "metadata": {},
   "outputs": [],
   "source": [
    "# database connection\n",
    "\n",
    "db_password = \"UnitCircle42!\"\n",
    "db_user = \"postgres\"\n",
    "db_name = \"dot\"\n",
    "endpoint = \"awakedb.cre3f7yk1unp.us-west-1.rds.amazonaws.com\"\n",
    "\n",
    "connection_string = f\"postgresql://{db_user}:{db_password}@{endpoint}:5432/{db_name}\"\n",
    "engine = create_engine(connection_string)"
   ]
  },
  {
   "cell_type": "code",
   "execution_count": 3,
   "id": "3b408b3d",
   "metadata": {},
   "outputs": [],
   "source": [
    "dot = pd.read_sql('SELECT * FROM invoice_clean;', con = engine)\n",
    "unl = pd.read_sql('SELECT * FROM unleashed_clean;', con = engine)\n",
    "\n",
    "unl.columns = ['month','year','customer','date','item','qty','cad','usd','sale_origin','market_segment','parent_customer']\n",
    "dot.columns = ['month','year','customer','date','item','qty','usd','cad','sale_origin','parent_customer','market_segment']"
   ]
  },
  {
   "cell_type": "code",
   "execution_count": null,
   "id": "c3950677",
   "metadata": {},
   "outputs": [],
   "source": [
    "unl.convert_dtypes().info()"
   ]
  },
  {
   "cell_type": "code",
   "execution_count": null,
   "id": "c6cf5c36",
   "metadata": {},
   "outputs": [],
   "source": [
    "dot.convert_dtypes().info()"
   ]
  },
  {
   "cell_type": "code",
   "execution_count": null,
   "id": "448e388b",
   "metadata": {},
   "outputs": [],
   "source": [
    "# # fix columns in dot table to match unl table\n",
    "\n",
    "# new_order = ['month', 'year', 'date', 'customer', 'item',\n",
    "#        'qty', 'cad', 'usd', 'sale_origin', 'market_segment',\n",
    "#        'parent_customer']\n",
    "\n",
    "# for column in new_order:\n",
    "#     dot[column] = dot.pop(column)"
   ]
  },
  {
   "cell_type": "code",
   "execution_count": 4,
   "id": "6f39b8a6",
   "metadata": {},
   "outputs": [
    {
     "data": {
      "text/html": [
       "<div>\n",
       "<style scoped>\n",
       "    .dataframe tbody tr th:only-of-type {\n",
       "        vertical-align: middle;\n",
       "    }\n",
       "\n",
       "    .dataframe tbody tr th {\n",
       "        vertical-align: top;\n",
       "    }\n",
       "\n",
       "    .dataframe thead th {\n",
       "        text-align: right;\n",
       "    }\n",
       "</style>\n",
       "<table border=\"1\" class=\"dataframe\">\n",
       "  <thead>\n",
       "    <tr style=\"text-align: right;\">\n",
       "      <th></th>\n",
       "      <th>month</th>\n",
       "      <th>year</th>\n",
       "      <th>customer</th>\n",
       "      <th>date</th>\n",
       "      <th>item</th>\n",
       "      <th>qty</th>\n",
       "      <th>usd</th>\n",
       "      <th>cad</th>\n",
       "      <th>sale_origin</th>\n",
       "      <th>parent_customer</th>\n",
       "      <th>market_segment</th>\n",
       "    </tr>\n",
       "  </thead>\n",
       "  <tbody>\n",
       "    <tr>\n",
       "      <th>245556</th>\n",
       "      <td>February</td>\n",
       "      <td>2018</td>\n",
       "      <td>Diane Gosman Marsella</td>\n",
       "      <td>2018-02-07</td>\n",
       "      <td>Shopify Shipping cost</td>\n",
       "      <td>1.0</td>\n",
       "      <td>3.9975</td>\n",
       "      <td>5.33</td>\n",
       "      <td>unl</td>\n",
       "      <td>Consumer</td>\n",
       "      <td>Online Direct</td>\n",
       "    </tr>\n",
       "    <tr>\n",
       "      <th>203374</th>\n",
       "      <td>October</td>\n",
       "      <td>2019</td>\n",
       "      <td>Amazon FBM</td>\n",
       "      <td>2019-10-20</td>\n",
       "      <td>Milk Chocolate Bars 12 Pack</td>\n",
       "      <td>1.0</td>\n",
       "      <td>11.6325</td>\n",
       "      <td>15.51</td>\n",
       "      <td>unl</td>\n",
       "      <td>Amazon</td>\n",
       "      <td>Online Distributor</td>\n",
       "    </tr>\n",
       "    <tr>\n",
       "      <th>246889</th>\n",
       "      <td>January</td>\n",
       "      <td>2018</td>\n",
       "      <td>Loblaws Inc</td>\n",
       "      <td>2018-01-19</td>\n",
       "      <td>6 x 12 Pack - AWAKE Caffeinated Chocolate Bars...</td>\n",
       "      <td>2.0</td>\n",
       "      <td>88.56</td>\n",
       "      <td>118.08</td>\n",
       "      <td>unl</td>\n",
       "      <td>Consumer</td>\n",
       "      <td>Online Direct</td>\n",
       "    </tr>\n",
       "  </tbody>\n",
       "</table>\n",
       "</div>"
      ],
      "text/plain": [
       "           month  year               customer        date  \\\n",
       "245556  February  2018  Diane Gosman Marsella  2018-02-07   \n",
       "203374   October  2019             Amazon FBM  2019-10-20   \n",
       "246889   January  2018            Loblaws Inc  2018-01-19   \n",
       "\n",
       "                                                     item  qty      usd  \\\n",
       "245556                              Shopify Shipping cost  1.0   3.9975   \n",
       "203374                        Milk Chocolate Bars 12 Pack  1.0  11.6325   \n",
       "246889  6 x 12 Pack - AWAKE Caffeinated Chocolate Bars...  2.0    88.56   \n",
       "\n",
       "           cad sale_origin parent_customer      market_segment  \n",
       "245556    5.33         unl        Consumer       Online Direct  \n",
       "203374   15.51         unl          Amazon  Online Distributor  \n",
       "246889  118.08         unl        Consumer       Online Direct  "
      ]
     },
     "execution_count": 4,
     "metadata": {},
     "output_type": "execute_result"
    }
   ],
   "source": [
    "## concat datasets\n",
    "\n",
    "lvl2 = pd.concat([dot,unl]).sort_values(by='date',ascending=False).reset_index(drop=True)\n",
    "lvl2 = lvl2[lvl2.customer != 'DOT Foods, Inc.']\n",
    "lvl2 = lvl2.convert_dtypes()\n",
    "lvl2.sample(3)"
   ]
  },
  {
   "cell_type": "code",
   "execution_count": 5,
   "id": "dda07d15",
   "metadata": {},
   "outputs": [
    {
     "data": {
      "text/html": [
       "<div>\n",
       "<style scoped>\n",
       "    .dataframe tbody tr th:only-of-type {\n",
       "        vertical-align: middle;\n",
       "    }\n",
       "\n",
       "    .dataframe tbody tr th {\n",
       "        vertical-align: top;\n",
       "    }\n",
       "\n",
       "    .dataframe thead th {\n",
       "        text-align: right;\n",
       "    }\n",
       "</style>\n",
       "<table border=\"1\" class=\"dataframe\">\n",
       "  <thead>\n",
       "    <tr style=\"text-align: right;\">\n",
       "      <th></th>\n",
       "      <th>date</th>\n",
       "      <th>sale_origin</th>\n",
       "      <th>market_segment</th>\n",
       "      <th>parent_customer</th>\n",
       "      <th>customer</th>\n",
       "      <th>item</th>\n",
       "      <th>qty</th>\n",
       "      <th>usd</th>\n",
       "      <th>cad</th>\n",
       "      <th>month</th>\n",
       "      <th>year</th>\n",
       "    </tr>\n",
       "  </thead>\n",
       "  <tbody>\n",
       "    <tr>\n",
       "      <th>0</th>\n",
       "      <td>2024-01-19</td>\n",
       "      <td>unl</td>\n",
       "      <td>Online Distributor</td>\n",
       "      <td>Amazon</td>\n",
       "      <td>Amazon SC</td>\n",
       "      <td>50ct Pouch - Caramel Milk Choc Bites</td>\n",
       "      <td>1.0</td>\n",
       "      <td>34.9875</td>\n",
       "      <td>46.65</td>\n",
       "      <td>January</td>\n",
       "      <td>2024</td>\n",
       "    </tr>\n",
       "    <tr>\n",
       "      <th>1</th>\n",
       "      <td>2024-01-19</td>\n",
       "      <td>unl</td>\n",
       "      <td>Online Distributor</td>\n",
       "      <td>Amazon</td>\n",
       "      <td>Amazon SC</td>\n",
       "      <td>50ct Pouch - Caramel Milk Choc Bites</td>\n",
       "      <td>1.0</td>\n",
       "      <td>34.9875</td>\n",
       "      <td>46.65</td>\n",
       "      <td>January</td>\n",
       "      <td>2024</td>\n",
       "    </tr>\n",
       "  </tbody>\n",
       "</table>\n",
       "</div>"
      ],
      "text/plain": [
       "         date sale_origin      market_segment parent_customer   customer  \\\n",
       "0  2024-01-19         unl  Online Distributor          Amazon  Amazon SC   \n",
       "1  2024-01-19         unl  Online Distributor          Amazon  Amazon SC   \n",
       "\n",
       "                                   item  qty      usd    cad    month  year  \n",
       "0  50ct Pouch - Caramel Milk Choc Bites  1.0  34.9875  46.65  January  2024  \n",
       "1  50ct Pouch - Caramel Milk Choc Bites  1.0  34.9875  46.65  January  2024  "
      ]
     },
     "execution_count": 5,
     "metadata": {},
     "output_type": "execute_result"
    }
   ],
   "source": [
    "# ORDER COLUMNS TO MATCH POSTGRES DATABASE\n",
    "\n",
    "new_order = ['date', 'sale_origin', 'market_segment', 'parent_customer', 'customer', 'item', 'qty', 'usd', 'cad','month','year']\n",
    "\n",
    "for i,col in enumerate(new_order):\n",
    "    tmp = lvl2[col]\n",
    "    lvl2.drop(labels=[col],axis=1,inplace=True)\n",
    "    lvl2.insert(i,col,tmp) \n",
    "\n",
    "lvl2.head(2)"
   ]
  },
  {
   "cell_type": "code",
   "execution_count": 6,
   "id": "092677dd",
   "metadata": {},
   "outputs": [
    {
     "data": {
      "text/plain": [
       "319"
      ]
     },
     "execution_count": 6,
     "metadata": {},
     "output_type": "execute_result"
    }
   ],
   "source": [
    "##### CAREFUL!!!! REPLACES ENTIRE CLEAN LEVEL_2 DATABASE\n",
    "\n",
    "lvl2.to_sql('level_2', engine, if_exists='replace', index=False)"
   ]
  },
  {
   "cell_type": "code",
   "execution_count": null,
   "id": "01f53ad8",
   "metadata": {},
   "outputs": [],
   "source": []
  },
  {
   "cell_type": "code",
   "execution_count": null,
   "id": "cb915c4a",
   "metadata": {},
   "outputs": [],
   "source": []
  },
  {
   "cell_type": "code",
   "execution_count": 8,
   "id": "af8302c1",
   "metadata": {},
   "outputs": [],
   "source": [
    "##  ------ READ ALL DATA INTO APPLICATION\n",
    "\n",
    "def get_data_from_csv():\n",
    "    df = pd.read_sql(\"\"\"\n",
    "            SELECT * \n",
    "            FROM level_2\n",
    "            WHERE year > '2020'\n",
    "            \"\"\"\n",
    "            ,con = engine)\n",
    "    return df\n",
    "df = get_data_from_csv()\n",
    "\n",
    "### MASTER DATA ###\n",
    "all_sales = df.copy()"
   ]
  },
  {
   "cell_type": "code",
   "execution_count": 9,
   "id": "4e21322d",
   "metadata": {},
   "outputs": [
    {
     "name": "stdout",
     "output_type": "stream",
     "text": [
      "<class 'pandas.core.frame.DataFrame'>\n",
      "RangeIndex: 144513 entries, 0 to 144512\n",
      "Data columns (total 11 columns):\n",
      " #   Column           Non-Null Count   Dtype  \n",
      "---  ------           --------------   -----  \n",
      " 0   date             144513 non-null  object \n",
      " 1   sale_origin      144513 non-null  object \n",
      " 2   market_segment   144513 non-null  object \n",
      " 3   parent_customer  144513 non-null  object \n",
      " 4   customer         144513 non-null  object \n",
      " 5   item             144513 non-null  object \n",
      " 6   qty              144513 non-null  float64\n",
      " 7   usd              144513 non-null  float64\n",
      " 8   cad              144513 non-null  float64\n",
      " 9   month            144513 non-null  object \n",
      " 10  year             144513 non-null  int64  \n",
      "dtypes: float64(3), int64(1), object(7)\n",
      "memory usage: 12.1+ MB\n"
     ]
    }
   ],
   "source": [
    "# all_sales = all_sales.convert_dtypes()\n",
    "\n",
    "# # invoice date cleanup\n",
    "# all_sales['date'] = pd.to_datetime(all_sales['date'])\n",
    "# all_sales['date'] = all_sales['date'].dt.normalize()\n",
    "# all_sales['date'] = all_sales['date'].dt.floor('D')\n",
    "# all_sales.sort_values(by='usd',ascending=False,inplace=True)\n",
    "all_sales.info()"
   ]
  },
  {
   "cell_type": "code",
   "execution_count": 13,
   "id": "a0a9b164",
   "metadata": {},
   "outputs": [
    {
     "name": "stdout",
     "output_type": "stream",
     "text": [
      "<class 'pandas.core.frame.DataFrame'>\n",
      "RangeIndex: 144437 entries, 0 to 144436\n",
      "Data columns (total 11 columns):\n",
      " #   Column           Non-Null Count   Dtype  \n",
      "---  ------           --------------   -----  \n",
      " 0   date             144437 non-null  object \n",
      " 1   sale_origin      144437 non-null  object \n",
      " 2   market_segment   144437 non-null  object \n",
      " 3   parent_customer  144437 non-null  object \n",
      " 4   customer         144437 non-null  object \n",
      " 5   item             144437 non-null  object \n",
      " 6   qty              144437 non-null  float64\n",
      " 7   usd              144437 non-null  float64\n",
      " 8   cad              144437 non-null  float64\n",
      " 9   month            144437 non-null  object \n",
      " 10  year             144437 non-null  int64  \n",
      "dtypes: float64(3), int64(1), object(7)\n",
      "memory usage: 12.1+ MB\n"
     ]
    }
   ],
   "source": [
    "year = sorted(list(all_sales['year'].unique()))\n",
    "segment = all_sales['market_segment'].unique()\n",
    "\n",
    "df = all_sales[(all_sales['year'].isin(year)) & (all_sales['market_segment'].isin(segment))]\n",
    "               \n",
    "df.info()"
   ]
  },
  {
   "cell_type": "code",
   "execution_count": 23,
   "id": "8fdb7c19",
   "metadata": {},
   "outputs": [
    {
     "name": "stdout",
     "output_type": "stream",
     "text": [
      "<class 'pandas.core.frame.DataFrame'>\n",
      "RangeIndex: 144437 entries, 0 to 144436\n",
      "Data columns (total 12 columns):\n",
      " #   Column           Non-Null Count   Dtype         \n",
      "---  ------           --------------   -----         \n",
      " 0   date             144437 non-null  datetime64[ns]\n",
      " 1   sale_origin      144437 non-null  object        \n",
      " 2   market_segment   144437 non-null  object        \n",
      " 3   parent_customer  144437 non-null  object        \n",
      " 4   customer         144437 non-null  object        \n",
      " 5   item             144437 non-null  object        \n",
      " 6   qty              144437 non-null  float64       \n",
      " 7   usd              144437 non-null  float64       \n",
      " 8   cad              144437 non-null  float64       \n",
      " 9   month            144437 non-null  object        \n",
      " 10  year             144437 non-null  int64         \n",
      " 11  date_month       144437 non-null  object        \n",
      "dtypes: datetime64[ns](1), float64(3), int64(1), object(7)\n",
      "memory usage: 13.2+ MB\n"
     ]
    }
   ],
   "source": [
    "df['date'] = df.date.astype('datetime64[ns]')\n",
    "df['date_month'] = df.date.dt.month_name()\n",
    "df.info()"
   ]
  },
  {
   "cell_type": "code",
   "execution_count": null,
   "id": "2c19d837",
   "metadata": {},
   "outputs": [],
   "source": [
    "fig_mth_bar = px.bar(df,\n",
    "        template='plotly_white',\n",
    "        x= df.index,\n",
    "        y='usd',\n",
    "        color='usd',\n",
    "        color_continuous_scale=px.colors.sequential.Oranges,\n",
    "        labels = {'date':' ','usd':'<b>$USD</b>'},\n",
    "        text='usd',\n",
    "        opacity=.8,\n",
    "        hover_data=['usd'],\n",
    "        title=' ',\n",
    "        height=400\n",
    "        ).update_coloraxes(showscale=False)\n",
    "fig_mth_bar.update_traces(texttemplate='<b>%{text:$,}</b>',hovertext=['Jan','Feb','Mar','Apr','May','Jun','Jul','Aug','Sep','Oct','Nov','Dec'])\n",
    "fig_mth_bar.update_layout(title_x=0.5,hovermode=\"x\")\n",
    "# fig_mth_bar.update_xaxes(tickmode='array',tickvals = df.index, ticktext=df.index.month_name())\n",
    "fig_mth_bar.update_yaxes(tick0=0,dtick=250000)#,showticklabels=False)"
   ]
  },
  {
   "cell_type": "code",
   "execution_count": null,
   "id": "11fe0593",
   "metadata": {},
   "outputs": [],
   "source": [
    "fig_mth_bar.show()"
   ]
  },
  {
   "cell_type": "code",
   "execution_count": null,
   "id": "320f4375",
   "metadata": {},
   "outputs": [],
   "source": [
    "import plotly.express as px"
   ]
  },
  {
   "cell_type": "code",
   "execution_count": null,
   "id": "e99655d3",
   "metadata": {},
   "outputs": [],
   "source": [
    "# df['month'] = pd.to_datetime(df['month'])\n",
    "# df['year'] = pd.to_datetime(df['year'])\n",
    "\n",
    "df['date'] = pd.to_datetime(df['date'])\n",
    "df['monthy'] = df['date'].dt.month\n",
    "df['yeary'] = df['date'].dt.year\n",
    "df = df.sort_values(by=['yeary','monthy'])\n",
    "# df.groupby(pd.Grouper(freq='M'))['usd'].sum()\n",
    "\n",
    "\n",
    "# px.bar(df,\n",
    "#        # x = 'date',\n",
    "#        y = 'usd')"
   ]
  },
  {
   "cell_type": "code",
   "execution_count": null,
   "id": "ea8cbd92",
   "metadata": {},
   "outputs": [],
   "source": [
    "bar_df = df.set_index('date').groupby(pd.Grouper(freq='M'))['usd'].sum()\n",
    "px.bar(bar_df,\n",
    "        template='plotly_white',\n",
    "        y='usd',\n",
    "        color='usd',\n",
    "        color_continuous_scale=px.colors.sequential.Oranges,\n",
    "        labels = {'date':' ','usd':'<b>$USD</b>'},\n",
    "        text='usd',\n",
    "        opacity=.8,\n",
    "        hover_data=['usd'],\n",
    "        title=' ',\n",
    "        height=400\n",
    "        )"
   ]
  },
  {
   "cell_type": "code",
   "execution_count": null,
   "id": "87de9dc3",
   "metadata": {},
   "outputs": [],
   "source": [
    "# df = pd.DataFrame(bar_df).reset_index()\n",
    "# df.date = df.date.astype('category')\n",
    "\n",
    "px.bar(bar_df.reset_index(),\n",
    "       x = 'date',\n",
    "       y = 'usd',\n",
    "       color=df.date)"
   ]
  },
  {
   "cell_type": "code",
   "execution_count": null,
   "id": "0a852b60",
   "metadata": {},
   "outputs": [],
   "source": []
  }
 ],
 "metadata": {
  "kernelspec": {
   "display_name": "Python 3 (ipykernel)",
   "language": "python",
   "name": "python3"
  },
  "language_info": {
   "codemirror_mode": {
    "name": "ipython",
    "version": 3
   },
   "file_extension": ".py",
   "mimetype": "text/x-python",
   "name": "python",
   "nbconvert_exporter": "python",
   "pygments_lexer": "ipython3",
   "version": "3.11.5"
  }
 },
 "nbformat": 4,
 "nbformat_minor": 5
}
