{
 "cells": [
  {
   "cell_type": "code",
   "execution_count": 1,
   "id": "615641c8",
   "metadata": {},
   "outputs": [],
   "source": [
    "# dependencies\n",
    "\n",
    "import warnings\n",
    "warnings.filterwarnings('ignore')\n",
    "\n",
    "import numpy as np\n",
    "import pandas as pd\n",
    "import datetime\n",
    "import plotly.express as px\n",
    "\n",
    "from sqlalchemy import create_engine\n",
    "\n",
    "pd.set_option('display.max_columns', None)"
   ]
  },
  {
   "cell_type": "code",
   "execution_count": 8,
   "id": "4ea02ce5",
   "metadata": {},
   "outputs": [],
   "source": [
    "# database connection\n",
    "\n",
    "db_password = \"UnitCircle42!\"\n",
    "db_user = \"postgres\"\n",
    "db_name = \"dot\"\n",
    "endpoint = \"awakedb.cre3f7yk1unp.us-west-1.rds.amazonaws.com\"\n",
    "\n",
    "connection_string = f\"postgresql://{db_user}:{db_password}@{endpoint}:5432/{db_name}\"\n",
    "engine = create_engine(connection_string)"
   ]
  },
  {
   "cell_type": "code",
   "execution_count": 9,
   "id": "3b408b3d",
   "metadata": {},
   "outputs": [],
   "source": [
    "dot = pd.read_sql('SELECT * FROM invoice_clean;', con = engine)\n",
    "unl = pd.read_sql('SELECT * FROM unleashed_clean;', con = engine)\n",
    "\n",
    "unl.columns = ['month','year','customer','date','item','qty','cad','usd','sale_origin','market_segment','parent_customer']\n",
    "dot.columns = ['month','year','customer','date','item','qty','usd','cad','sale_origin','parent_customer','market_segment']"
   ]
  },
  {
   "cell_type": "code",
   "execution_count": 14,
   "id": "6f39b8a6",
   "metadata": {},
   "outputs": [
    {
     "data": {
      "text/html": [
       "<div>\n",
       "<style scoped>\n",
       "    .dataframe tbody tr th:only-of-type {\n",
       "        vertical-align: middle;\n",
       "    }\n",
       "\n",
       "    .dataframe tbody tr th {\n",
       "        vertical-align: top;\n",
       "    }\n",
       "\n",
       "    .dataframe thead th {\n",
       "        text-align: right;\n",
       "    }\n",
       "</style>\n",
       "<table border=\"1\" class=\"dataframe\">\n",
       "  <thead>\n",
       "    <tr style=\"text-align: right;\">\n",
       "      <th></th>\n",
       "      <th>month</th>\n",
       "      <th>year</th>\n",
       "      <th>customer</th>\n",
       "      <th>date</th>\n",
       "      <th>item</th>\n",
       "      <th>qty</th>\n",
       "      <th>usd</th>\n",
       "      <th>cad</th>\n",
       "      <th>sale_origin</th>\n",
       "      <th>parent_customer</th>\n",
       "      <th>market_segment</th>\n",
       "    </tr>\n",
       "  </thead>\n",
       "  <tbody>\n",
       "    <tr>\n",
       "      <th>123324</th>\n",
       "      <td>May</td>\n",
       "      <td>2021</td>\n",
       "      <td>Amazon SC</td>\n",
       "      <td>2021-05-24</td>\n",
       "      <td>50ct Change Maker - AWAKE Chocolate Bites USA ...</td>\n",
       "      <td>1.0</td>\n",
       "      <td>30.1725</td>\n",
       "      <td>40.23</td>\n",
       "      <td>unl</td>\n",
       "      <td>Amazon</td>\n",
       "      <td>Online</td>\n",
       "    </tr>\n",
       "    <tr>\n",
       "      <th>99559</th>\n",
       "      <td>November</td>\n",
       "      <td>2021</td>\n",
       "      <td>Amazon SC FBA</td>\n",
       "      <td>2021-11-30</td>\n",
       "      <td>50ct Change Maker - AWAKE Chocolate Bites USA ...</td>\n",
       "      <td>1.0</td>\n",
       "      <td>30.93</td>\n",
       "      <td>41.24</td>\n",
       "      <td>unl</td>\n",
       "      <td>Amazon</td>\n",
       "      <td>Online</td>\n",
       "    </tr>\n",
       "    <tr>\n",
       "      <th>249815</th>\n",
       "      <td>October</td>\n",
       "      <td>2017</td>\n",
       "      <td>SYSCO/BOSTON</td>\n",
       "      <td>2017-10-02</td>\n",
       "      <td>AWAKE CHOCOLATE AWAKE CAFF DARK CHOC- 4X12PK M...</td>\n",
       "      <td>1.0</td>\n",
       "      <td>52.32</td>\n",
       "      <td>69.59</td>\n",
       "      <td>dot</td>\n",
       "      <td>Sysco</td>\n",
       "      <td>Broadline Distributor</td>\n",
       "    </tr>\n",
       "  </tbody>\n",
       "</table>\n",
       "</div>"
      ],
      "text/plain": [
       "           month  year       customer        date  \\\n",
       "123324       May  2021      Amazon SC  2021-05-24   \n",
       "99559   November  2021  Amazon SC FBA  2021-11-30   \n",
       "249815   October  2017   SYSCO/BOSTON  2017-10-02   \n",
       "\n",
       "                                                     item  qty      usd  \\\n",
       "123324  50ct Change Maker - AWAKE Chocolate Bites USA ...  1.0  30.1725   \n",
       "99559   50ct Change Maker - AWAKE Chocolate Bites USA ...  1.0    30.93   \n",
       "249815  AWAKE CHOCOLATE AWAKE CAFF DARK CHOC- 4X12PK M...  1.0    52.32   \n",
       "\n",
       "          cad sale_origin parent_customer         market_segment  \n",
       "123324  40.23         unl          Amazon                 Online  \n",
       "99559   41.24         unl          Amazon                 Online  \n",
       "249815  69.59         dot           Sysco  Broadline Distributor  "
      ]
     },
     "execution_count": 14,
     "metadata": {},
     "output_type": "execute_result"
    }
   ],
   "source": [
    "## concat datasets\n",
    "\n",
    "lvl2 = pd.concat([dot,unl]).sort_values(by='date',ascending=False).reset_index(drop=True)\n",
    "lvl2 = lvl2[lvl2.customer != 'DOT Foods, Inc.']\n",
    "lvl2 = lvl2.convert_dtypes()\n",
    "lvl2.sample(3)"
   ]
  },
  {
   "cell_type": "code",
   "execution_count": 15,
   "id": "dda07d15",
   "metadata": {},
   "outputs": [
    {
     "data": {
      "text/html": [
       "<div>\n",
       "<style scoped>\n",
       "    .dataframe tbody tr th:only-of-type {\n",
       "        vertical-align: middle;\n",
       "    }\n",
       "\n",
       "    .dataframe tbody tr th {\n",
       "        vertical-align: top;\n",
       "    }\n",
       "\n",
       "    .dataframe thead th {\n",
       "        text-align: right;\n",
       "    }\n",
       "</style>\n",
       "<table border=\"1\" class=\"dataframe\">\n",
       "  <thead>\n",
       "    <tr style=\"text-align: right;\">\n",
       "      <th></th>\n",
       "      <th>date</th>\n",
       "      <th>sale_origin</th>\n",
       "      <th>market_segment</th>\n",
       "      <th>parent_customer</th>\n",
       "      <th>customer</th>\n",
       "      <th>item</th>\n",
       "      <th>qty</th>\n",
       "      <th>usd</th>\n",
       "      <th>cad</th>\n",
       "      <th>month</th>\n",
       "      <th>year</th>\n",
       "    </tr>\n",
       "  </thead>\n",
       "  <tbody>\n",
       "    <tr>\n",
       "      <th>0</th>\n",
       "      <td>2024-01-19</td>\n",
       "      <td>dot</td>\n",
       "      <td>Alternate Retail</td>\n",
       "      <td>Vistar Retail</td>\n",
       "      <td>VISTAR-RETAIL WEST</td>\n",
       "      <td>AWAKE CHOCOLATE AWAKE CAFF DARK CHOC- 6X12PK M...</td>\n",
       "      <td>1.0</td>\n",
       "      <td>85.54</td>\n",
       "      <td>113.77</td>\n",
       "      <td>January</td>\n",
       "      <td>2024</td>\n",
       "    </tr>\n",
       "    <tr>\n",
       "      <th>1</th>\n",
       "      <td>2024-01-19</td>\n",
       "      <td>dot</td>\n",
       "      <td>Alternate Retail</td>\n",
       "      <td>Tropical</td>\n",
       "      <td>TROPICAL FOODS--GA</td>\n",
       "      <td>AWAKE CHOCOLATE AWAKE CHOC CARAMEL- 6X12PK MASTER</td>\n",
       "      <td>1.0</td>\n",
       "      <td>85.54</td>\n",
       "      <td>113.77</td>\n",
       "      <td>January</td>\n",
       "      <td>2024</td>\n",
       "    </tr>\n",
       "  </tbody>\n",
       "</table>\n",
       "</div>"
      ],
      "text/plain": [
       "         date sale_origin    market_segment parent_customer  \\\n",
       "0  2024-01-19         dot  Alternate Retail   Vistar Retail   \n",
       "1  2024-01-19         dot  Alternate Retail        Tropical   \n",
       "\n",
       "             customer                                               item  qty  \\\n",
       "0  VISTAR-RETAIL WEST  AWAKE CHOCOLATE AWAKE CAFF DARK CHOC- 6X12PK M...  1.0   \n",
       "1  TROPICAL FOODS--GA  AWAKE CHOCOLATE AWAKE CHOC CARAMEL- 6X12PK MASTER  1.0   \n",
       "\n",
       "     usd     cad    month  year  \n",
       "0  85.54  113.77  January  2024  \n",
       "1  85.54  113.77  January  2024  "
      ]
     },
     "execution_count": 15,
     "metadata": {},
     "output_type": "execute_result"
    }
   ],
   "source": [
    "# ORDER COLUMNS TO MATCH POSTGRES DATABASE\n",
    "\n",
    "new_order = ['date', 'sale_origin', 'market_segment', 'parent_customer', 'customer', 'item', 'qty', 'usd', 'cad','month','year']\n",
    "\n",
    "for i,col in enumerate(new_order):\n",
    "    tmp = lvl2[col]\n",
    "    lvl2.drop(labels=[col],axis=1,inplace=True)\n",
    "    lvl2.insert(i,col,tmp) \n",
    "\n",
    "lvl2.head(2)"
   ]
  },
  {
   "cell_type": "code",
   "execution_count": 16,
   "id": "092677dd",
   "metadata": {},
   "outputs": [
    {
     "data": {
      "text/plain": [
       "319"
      ]
     },
     "execution_count": 16,
     "metadata": {},
     "output_type": "execute_result"
    }
   ],
   "source": [
    "##### CAREFUL!!!! REPLACES ENTIRE CLEAN LEVEL_2 DATABASE\n",
    "\n",
    "lvl2.to_sql('level_2', engine, if_exists='replace', index=False)"
   ]
  },
  {
   "cell_type": "code",
   "execution_count": null,
   "id": "01f53ad8",
   "metadata": {},
   "outputs": [],
   "source": []
  },
  {
   "cell_type": "code",
   "execution_count": null,
   "id": "cb915c4a",
   "metadata": {},
   "outputs": [],
   "source": []
  },
  {
   "cell_type": "code",
   "execution_count": 2,
   "id": "af8302c1",
   "metadata": {},
   "outputs": [],
   "source": [
    "##  ------ READ ALL DATA INTO APPLICATION\n",
    "\n",
    "def get_data_from_csv():\n",
    "    # df = pd.read_sql(\"\"\"\n",
    "    #         SELECT * \n",
    "    #         FROM level_2\n",
    "    #         WHERE date > '2019-12-31'\n",
    "    #         \"\"\"\n",
    "    #         ,con = engine)\n",
    "    df = pd.read_csv(r\"C:\\Users\\mikej\\Desktop\\cpg-sales\\data\\all_sales_data.csv\")\n",
    "    return df\n",
    "df = get_data_from_csv()\n",
    "\n",
    "### MASTER DATA ###\n",
    "all_sales = df.copy()"
   ]
  },
  {
   "cell_type": "code",
   "execution_count": 47,
   "id": "4e21322d",
   "metadata": {},
   "outputs": [
    {
     "name": "stdout",
     "output_type": "stream",
     "text": [
      "<class 'pandas.core.frame.DataFrame'>\n",
      "Index: 196662 entries, 141999 to 48742\n",
      "Data columns (total 11 columns):\n",
      " #   Column           Non-Null Count   Dtype         \n",
      "---  ------           --------------   -----         \n",
      " 0   date             196662 non-null  datetime64[ns]\n",
      " 1   sale_origin      196662 non-null  string        \n",
      " 2   market_segment   196662 non-null  string        \n",
      " 3   parent_customer  196662 non-null  string        \n",
      " 4   customer         196662 non-null  string        \n",
      " 5   item             196662 non-null  string        \n",
      " 6   qty              196662 non-null  Float64       \n",
      " 7   usd              196662 non-null  Float64       \n",
      " 8   cad              196662 non-null  Float64       \n",
      " 9   month            196662 non-null  string        \n",
      " 10  year             196662 non-null  Int64         \n",
      "dtypes: Float64(3), Int64(1), datetime64[ns](1), string(6)\n",
      "memory usage: 18.8 MB\n"
     ]
    }
   ],
   "source": [
    "all_sales = all_sales.convert_dtypes()\n",
    "\n",
    "# # invoice date cleanup\n",
    "all_sales['date'] = pd.to_datetime(all_sales['date'])\n",
    "all_sales['date'] = all_sales['date'].dt.normalize()\n",
    "all_sales['date'] = all_sales['date'].dt.floor('D')\n",
    "all_sales.sort_values(by='usd',ascending=False,inplace=True)\n",
    "all_sales.info()"
   ]
  },
  {
   "cell_type": "code",
   "execution_count": 61,
   "id": "a0a9b164",
   "metadata": {},
   "outputs": [
    {
     "name": "stdout",
     "output_type": "stream",
     "text": [
      "<class 'pandas.core.frame.DataFrame'>\n",
      "Index: 196662 entries, 141999 to 48742\n",
      "Data columns (total 11 columns):\n",
      " #   Column           Non-Null Count   Dtype         \n",
      "---  ------           --------------   -----         \n",
      " 0   date             196662 non-null  datetime64[ns]\n",
      " 1   sale_origin      196662 non-null  string        \n",
      " 2   market_segment   196662 non-null  string        \n",
      " 3   parent_customer  196662 non-null  string        \n",
      " 4   customer         196662 non-null  string        \n",
      " 5   item             196662 non-null  string        \n",
      " 6   qty              196662 non-null  Float64       \n",
      " 7   usd              196662 non-null  Float64       \n",
      " 8   cad              196662 non-null  Float64       \n",
      " 9   month            196662 non-null  string        \n",
      " 10  year             196662 non-null  Int64         \n",
      "dtypes: Float64(3), Int64(1), datetime64[ns](1), string(6)\n",
      "memory usage: 18.8 MB\n"
     ]
    }
   ],
   "source": [
    "# user query\n",
    "\n",
    "year = sorted(list(all_sales['year'].unique()))\n",
    "segment = np.array(all_sales['market_segment'].unique())\n",
    "\n",
    "df = all_sales[(all_sales['year'].isin(year)) & (all_sales['market_segment'].isin(segment))]\n",
    "               \n",
    "df.info()"
   ]
  },
  {
   "cell_type": "code",
   "execution_count": 62,
   "id": "1ac46a0f",
   "metadata": {},
   "outputs": [
    {
     "data": {
      "text/plain": [
       "<StringArray>\n",
       "[              'Vending',               'Grocery',      'Alternate Retail',\n",
       "                'Canada',                'Online',                 'Other',\n",
       "           'Convenience', 'Broadline Distributor',               'Samples']\n",
       "Length: 9, dtype: string"
      ]
     },
     "execution_count": 62,
     "metadata": {},
     "output_type": "execute_result"
    }
   ],
   "source": [
    "df.market_segment.unique()"
   ]
  },
  {
   "cell_type": "code",
   "execution_count": null,
   "id": "2c19d837",
   "metadata": {},
   "outputs": [],
   "source": [
    "fig_mth_bar = px.bar(df,\n",
    "        template='plotly_white',\n",
    "        x= df.index,\n",
    "        y='usd',\n",
    "        color='usd',\n",
    "        color_continuous_scale=px.colors.sequential.Oranges,\n",
    "        labels = {'date':' ','usd':'<b>$USD</b>'},\n",
    "        text='usd',\n",
    "        opacity=.8,\n",
    "        hover_data=['usd'],\n",
    "        title=' ',\n",
    "        height=400\n",
    "        ).update_coloraxes(showscale=False)\n",
    "fig_mth_bar.update_traces(texttemplate='<b>%{text:$,}</b>',hovertext=['Jan','Feb','Mar','Apr','May','Jun','Jul','Aug','Sep','Oct','Nov','Dec'])\n",
    "fig_mth_bar.update_layout(title_x=0.5,hovermode=\"x\")\n",
    "# fig_mth_bar.update_xaxes(tickmode='array',tickvals = df.index, ticktext=df.index.month_name())\n",
    "fig_mth_bar.update_yaxes(tick0=0,dtick=250000)#,showticklabels=False)"
   ]
  },
  {
   "cell_type": "code",
   "execution_count": null,
   "id": "11fe0593",
   "metadata": {},
   "outputs": [],
   "source": [
    "fig_mth_bar.show()"
   ]
  },
  {
   "cell_type": "code",
   "execution_count": null,
   "id": "320f4375",
   "metadata": {},
   "outputs": [],
   "source": [
    "import plotly.express as px"
   ]
  },
  {
   "cell_type": "code",
   "execution_count": null,
   "id": "e99655d3",
   "metadata": {},
   "outputs": [],
   "source": [
    "# df['month'] = pd.to_datetime(df['month'])\n",
    "# df['year'] = pd.to_datetime(df['year'])\n",
    "\n",
    "df['date'] = pd.to_datetime(df['date'])\n",
    "df['monthy'] = df['date'].dt.month\n",
    "df['yeary'] = df['date'].dt.year\n",
    "df = df.sort_values(by=['yeary','monthy'])\n",
    "# df.groupby(pd.Grouper(freq='M'))['usd'].sum()\n",
    "\n",
    "\n",
    "# px.bar(df,\n",
    "#        # x = 'date',\n",
    "#        y = 'usd')"
   ]
  },
  {
   "cell_type": "code",
   "execution_count": null,
   "id": "ea8cbd92",
   "metadata": {},
   "outputs": [],
   "source": [
    "bar_df = df.set_index('date').groupby(pd.Grouper(freq='M'))['usd'].sum()\n",
    "px.bar(bar_df,\n",
    "        template='plotly_white',\n",
    "        y='usd',\n",
    "        color='usd',\n",
    "        color_continuous_scale=px.colors.sequential.Oranges,\n",
    "        labels = {'date':' ','usd':'<b>$USD</b>'},\n",
    "        text='usd',\n",
    "        opacity=.8,\n",
    "        hover_data=['usd'],\n",
    "        title=' ',\n",
    "        height=400\n",
    "        )"
   ]
  },
  {
   "cell_type": "code",
   "execution_count": null,
   "id": "87de9dc3",
   "metadata": {},
   "outputs": [],
   "source": [
    "# df = pd.DataFrame(bar_df).reset_index()\n",
    "# df.date = df.date.astype('category')\n",
    "\n",
    "px.bar(bar_df.reset_index(),\n",
    "       x = 'date',\n",
    "       y = 'usd',\n",
    "       color=df.date)"
   ]
  },
  {
   "cell_type": "code",
   "execution_count": null,
   "id": "0a852b60",
   "metadata": {},
   "outputs": [],
   "source": []
  }
 ],
 "metadata": {
  "kernelspec": {
   "display_name": "Python 3 (ipykernel)",
   "language": "python",
   "name": "python3"
  },
  "language_info": {
   "codemirror_mode": {
    "name": "ipython",
    "version": 3
   },
   "file_extension": ".py",
   "mimetype": "text/x-python",
   "name": "python",
   "nbconvert_exporter": "python",
   "pygments_lexer": "ipython3",
   "version": "3.11.5"
  }
 },
 "nbformat": 4,
 "nbformat_minor": 5
}
