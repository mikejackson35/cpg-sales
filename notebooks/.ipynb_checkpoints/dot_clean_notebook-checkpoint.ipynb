{
 "cells": [
  {
   "cell_type": "code",
   "execution_count": 2,
   "id": "ce8fc417",
   "metadata": {},
   "outputs": [],
   "source": [
    "# dependencies\n",
    "\n",
    "import warnings\n",
    "warnings.filterwarnings('ignore')\n",
    "\n",
    "import numpy as np\n",
    "import pandas as pd\n",
    "import plotly.express as px\n",
    "import datetime\n",
    "import psycopg2\n",
    "\n",
    "from sqlalchemy import create_engine\n",
    "\n",
    "pd.set_option('display.max_columns', None)"
   ]
  },
  {
   "cell_type": "code",
   "execution_count": 3,
   "id": "ad0b314c",
   "metadata": {},
   "outputs": [
    {
     "name": "stdout",
     "output_type": "stream",
     "text": [
      "Oldest Date to Add\n",
      "2024-01-22 00:00:00\n",
      " \n",
      "Most Recent Date to Add\n",
      "2024-01-22 00:00:00\n"
     ]
    },
    {
     "data": {
      "text/plain": [
       "Index(['Supplier Name', 'Product Line Number', 'Product Line Description',\n",
       "       'Buying Group Number', 'Buying Group Name', 'Customer #',\n",
       "       'Customer Name', 'Customer Shipping City', 'Customer Shipping State',\n",
       "       'Customer Shipping Zip Code', 'Customer Invoice Number', 'Invoice Date',\n",
       "       'Customer PO Number', 'Customer Order Number', 'Dot #', 'MFG #',\n",
       "       'Item UPC', 'Item Full Description', 'Qty Ordered', 'Qty Received',\n",
       "       'Dollars', 'Customer Extended Gross Weight',\n",
       "       'Customer Extended Net Weight', 'Channel Number', 'Channel Description',\n",
       "       'Segment Code', 'Segment Description', 'Tier Number',\n",
       "       'Tier Description', 'Product Line Sub-Category', 'Dot DC'],\n",
       "      dtype='object')"
      ]
     },
     "execution_count": 3,
     "metadata": {},
     "output_type": "execute_result"
    }
   ],
   "source": [
    "# Excel export of 'Invoice Detail' report\n",
    "\n",
    "FILE_PATH = r\"C:\\Users\\mikej\\Downloads\\SHOP Supplier Reporting - Invoice Details Excel - 2024-01-23T153131.747.xlsx\"\n",
    "\n",
    "new_dot_data = pd.read_excel(FILE_PATH, header=2)\n",
    "print(f\"Oldest Date to Add\")\n",
    "print(f\"{new_dot_data['Invoice Date'].min()}\")\n",
    "print(\" \")\n",
    "print(f\"Most Recent Date to Add\")\n",
    "print(f\"{new_dot_data['Invoice Date'].max()}\")\n",
    "new_dot_data.columns"
   ]
  },
  {
   "cell_type": "code",
   "execution_count": 4,
   "id": "737f2568",
   "metadata": {},
   "outputs": [],
   "source": [
    "# replace obove columns with...\n",
    "\n",
    "new_dot_data.columns = ['supplier_name', 'product_line_number', 'product_line_desc',\n",
    "       'buying_group_number', 'buying_group_name', 'customer_num',\n",
    "       'customer_name', 'customer_shipping_city', 'customer_shipping_state',\n",
    "       'customer_shipping_zip', 'customer_invoice_number', 'invoice_date',\n",
    "       'customer_po_number', 'customer_order_number', 'prod_dot_number',\n",
    "       'prod_mfg_number', 'item_upc', 'item_full_desc', 'qty_ordered',\n",
    "       'qty_received', 'dollars', 'cust_ext_gross_weight',\n",
    "       'cust_ext_net_weight', 'channel_num', 'channel_desc', 'segment_code',\n",
    "       'segment_desc', 'tier_num', 'tier_desc', 'prod_line_sub_cat', 'dot_dc']"
   ]
  },
  {
   "cell_type": "code",
   "execution_count": 5,
   "id": "1ac2463d",
   "metadata": {},
   "outputs": [],
   "source": [
    "# database connection\n",
    "\n",
    "db_password = \"UnitCircle42!\"\n",
    "db_user = \"postgres\"\n",
    "db_name = \"dot\"\n",
    "endpoint = \"awakedb.cre3f7yk1unp.us-west-1.rds.amazonaws.com\"\n",
    "\n",
    "connection_string = f\"postgresql://{db_user}:{db_password}@{endpoint}:5432/{db_name}\"\n",
    "engine = create_engine(connection_string)"
   ]
  },
  {
   "cell_type": "code",
   "execution_count": 6,
   "id": "e61ff6ce",
   "metadata": {},
   "outputs": [
    {
     "name": "stdout",
     "output_type": "stream",
     "text": [
      "23 new records from dates: \n",
      "1/22 thru 1/22\n"
     ]
    }
   ],
   "source": [
    "print(f\"{len(new_dot_data)} new records from dates: \\n\"\n",
    "        f\"{new_dot_data.invoice_date.unique().month.min()}/{new_dot_data.invoice_date.unique().day.min()} thru {new_dot_data.invoice_date.unique().month.max()}/{new_dot_data.invoice_date.unique().day.max()}\")"
   ]
  },
  {
   "cell_type": "code",
   "execution_count": 7,
   "id": "b86b4de5",
   "metadata": {},
   "outputs": [
    {
     "name": "stdout",
     "output_type": "stream",
     "text": [
      "Records sent to db should match above\n"
     ]
    },
    {
     "data": {
      "text/plain": [
       "23"
      ]
     },
     "execution_count": 7,
     "metadata": {},
     "output_type": "execute_result"
    }
   ],
   "source": [
    "##  -- send new rows to invoice_detail database\n",
    "\n",
    "print(\"Records sent to db should match above\")\n",
    "new_dot_data.to_sql('invoice_detail', engine, if_exists='append', index=False)"
   ]
  },
  {
   "cell_type": "code",
   "execution_count": 8,
   "id": "9adb6c6a",
   "metadata": {
    "scrolled": false
   },
   "outputs": [
    {
     "name": "stdout",
     "output_type": "stream",
     "text": [
      "67561 rows\n"
     ]
    },
    {
     "data": {
      "text/plain": [
       "datetime.date(2024, 1, 22)"
      ]
     },
     "execution_count": 8,
     "metadata": {},
     "output_type": "execute_result"
    }
   ],
   "source": [
    "## read in invoice_detail for cleaning\n",
    "\n",
    "dot = pd.read_sql('SELECT * FROM invoice_detail;', con = engine)\n",
    "print(f\"{len(dot)} rows\")\n",
    "dot.invoice_date.max()"
   ]
  },
  {
   "cell_type": "code",
   "execution_count": 9,
   "id": "4e84436d",
   "metadata": {},
   "outputs": [],
   "source": [
    "# remove uneeded columns\n",
    "\n",
    "dot.drop(columns=['supplier_name','product_line_number','product_line_desc', 'buying_group_name','buying_group_number','customer_num', 'customer_shipping_city', 'customer_shipping_state', 'customer_shipping_zip', 'prod_mfg_number', 'customer_invoice_number','customer_po_number','customer_order_number','prod_dot_number','item_upc','qty_ordered','cust_ext_gross_weight','cust_ext_net_weight', 'channel_desc', 'channel_num','segment_code','tier_num','tier_desc','prod_line_sub_cat','dot_dc'],inplace=True)\n",
    "\n",
    "## add canadian dollars column\n",
    "dot['cad'] = round(dot.dollars*1.33,2)\n",
    "\n",
    "## add column to denote the dot table\n",
    "dot['sale_origin'] = 'dot'\n",
    "\n",
    "# assign parent customers to customers\n",
    "cus_table = pd.read_csv(r\"C:\\Users\\mikej\\Desktop\\cpg-sales\\data\\customer_table.csv\",usecols=('customer','parent_customer')).set_index('customer')\n",
    "dot.set_index('customer_name',inplace=True)\n",
    "dot = dot.merge(cus_table, how='left',left_index=True,right_index=True)\n",
    "\n",
    "# assign market segments to each parent customer\n",
    "segment_table = pd.read_csv(r\"C:\\Users\\mikej\\Desktop\\cpg-sales\\data\\customer_table.csv\",usecols=('customer','market_segment')).set_index('customer')\n",
    "dot = dot.merge(segment_table, how='left',left_index=True,right_index=True).reset_index()\n",
    "\n",
    "# add year/month columns\n",
    "dot['invoice_date'] = pd.to_datetime(dot['invoice_date'])\n",
    "year_col = dot.set_index(['invoice_date']).index.year\n",
    "month_col = dot.set_index(['invoice_date']).index.month_name()\n",
    "\n",
    "# # month & year columns\n",
    "dot.insert(0,\"month\", month_col)\n",
    "dot.insert(1,\"year\", year_col)\n",
    "\n",
    "# # final fix dtypes\n",
    "dot = dot.convert_dtypes()\n",
    "dot['qty_received'] = dot['qty_received'].astype('float')\n",
    "dot['invoice_date'] = dot['invoice_date'].dt.date\n",
    "\n",
    "dot.drop(columns='segment_desc',inplace=True)\n",
    "\n",
    "invoice_clean = dot.copy()"
   ]
  },
  {
   "cell_type": "code",
   "execution_count": 10,
   "id": "f0fda486",
   "metadata": {},
   "outputs": [
    {
     "name": "stdout",
     "output_type": "stream",
     "text": [
      "Earliest Date: 2016-01-04\n",
      "Latest Date:   2024-01-22\n",
      "Rows: 67561\n",
      " \n",
      "<class 'pandas.core.frame.DataFrame'>\n",
      "RangeIndex: 67561 entries, 0 to 67560\n",
      "Data columns (total 11 columns):\n",
      " #   Column           Non-Null Count  Dtype  \n",
      "---  ------           --------------  -----  \n",
      " 0   month            67561 non-null  string \n",
      " 1   year             67561 non-null  Int32  \n",
      " 2   customer_name    67561 non-null  string \n",
      " 3   invoice_date     67561 non-null  object \n",
      " 4   item_full_desc   67561 non-null  string \n",
      " 5   qty_received     67561 non-null  float64\n",
      " 6   dollars          67561 non-null  Float64\n",
      " 7   cad              67561 non-null  Float64\n",
      " 8   sale_origin      67561 non-null  string \n",
      " 9   parent_customer  67561 non-null  string \n",
      " 10  market_segment   67561 non-null  string \n",
      "dtypes: Float64(2), Int32(1), float64(1), object(1), string(6)\n",
      "memory usage: 5.6+ MB\n"
     ]
    }
   ],
   "source": [
    "# See what ya got\n",
    "\n",
    "print(f\"Earliest Date: {invoice_clean.invoice_date.min()}\")\n",
    "print(f\"Latest Date:   {invoice_clean.invoice_date.max()}\")\n",
    "print(f\"Rows: {len(invoice_clean)}\")\n",
    "print(\" \")\n",
    "invoice_clean.info()"
   ]
  },
  {
   "cell_type": "code",
   "execution_count": 11,
   "id": "dadc80fc",
   "metadata": {},
   "outputs": [
    {
     "data": {
      "text/plain": [
       "561"
      ]
     },
     "execution_count": 11,
     "metadata": {},
     "output_type": "execute_result"
    }
   ],
   "source": [
    "## PUSH TO CLEAN DOT DATABASE\n",
    "\n",
    "invoice_clean.to_sql('invoice_clean', engine, if_exists='replace', index=False)"
   ]
  },
  {
   "cell_type": "code",
   "execution_count": 8,
   "id": "609496f5",
   "metadata": {},
   "outputs": [
    {
     "data": {
      "application/vnd.plotly.v1+json": {
       "config": {
        "plotlyServerURL": "https://plot.ly"
       },
       "data": [
        {
         "alignmentgroup": "True",
         "hovertemplate": "=%{x}<br>$USD=%{marker.color}<extra></extra>",
         "legendgroup": "",
         "marker": {
          "color": [
           818197.7645,
           729544,
           1057277.9456,
           1115855.8176,
           980183.5221000001,
           934782.79,
           934604.0365,
           822950.7869000001,
           906794.3089000001,
           952890.8401,
           1019047.4596000001,
           1230202.3621,
           1115029.2505,
           958908.6206,
           989000.5221000001,
           1450423.9997,
           1061325.2438,
           280331.293,
           545690.24,
           495670.16,
           717186.09,
           581208.8774,
           542038.2912,
           1151129.29,
           821931.095,
           1164654.2458,
           1207694.855,
           1153483.143,
           1480926.6975,
           1286103.3800000001,
           1370953.7225,
           1488128.555,
           259586.23
          ],
          "coloraxis": "coloraxis",
          "pattern": {
           "shape": ""
          }
         },
         "name": "",
         "offsetgroup": "",
         "orientation": "v",
         "showlegend": false,
         "textposition": "auto",
         "type": "bar",
         "x": [
          "2016-03-31T00:00:00",
          "2016-06-30T00:00:00",
          "2016-09-30T00:00:00",
          "2016-12-31T00:00:00",
          "2017-03-31T00:00:00",
          "2017-06-30T00:00:00",
          "2017-09-30T00:00:00",
          "2017-12-31T00:00:00",
          "2018-03-31T00:00:00",
          "2018-06-30T00:00:00",
          "2018-09-30T00:00:00",
          "2018-12-31T00:00:00",
          "2019-03-31T00:00:00",
          "2019-06-30T00:00:00",
          "2019-09-30T00:00:00",
          "2019-12-31T00:00:00",
          "2020-03-31T00:00:00",
          "2020-06-30T00:00:00",
          "2020-09-30T00:00:00",
          "2020-12-31T00:00:00",
          "2021-03-31T00:00:00",
          "2021-06-30T00:00:00",
          "2021-09-30T00:00:00",
          "2021-12-31T00:00:00",
          "2022-03-31T00:00:00",
          "2022-06-30T00:00:00",
          "2022-09-30T00:00:00",
          "2022-12-31T00:00:00",
          "2023-03-31T00:00:00",
          "2023-06-30T00:00:00",
          "2023-09-30T00:00:00",
          "2023-12-31T00:00:00",
          "2024-03-31T00:00:00"
         ],
         "xaxis": "x",
         "y": [
          818197.7645,
          729544,
          1057277.9456,
          1115855.8176,
          980183.5221000001,
          934782.79,
          934604.0365,
          822950.7869000001,
          906794.3089000001,
          952890.8401,
          1019047.4596000001,
          1230202.3621,
          1115029.2505,
          958908.6206,
          989000.5221000001,
          1450423.9997,
          1061325.2438,
          280331.293,
          545690.24,
          495670.16,
          717186.09,
          581208.8774,
          542038.2912,
          1151129.29,
          821931.095,
          1164654.2458,
          1207694.855,
          1153483.143,
          1480926.6975,
          1286103.3800000001,
          1370953.7225,
          1488128.555,
          259586.23
         ],
         "yaxis": "y"
        }
       ],
       "layout": {
        "barmode": "relative",
        "coloraxis": {
         "colorbar": {
          "title": {
           "text": "$USD"
          }
         },
         "colorscale": [
          [
           0,
           "#440154"
          ],
          [
           0.1111111111111111,
           "#482878"
          ],
          [
           0.2222222222222222,
           "#3e4989"
          ],
          [
           0.3333333333333333,
           "#31688e"
          ],
          [
           0.4444444444444444,
           "#26828e"
          ],
          [
           0.5555555555555556,
           "#1f9e89"
          ],
          [
           0.6666666666666666,
           "#35b779"
          ],
          [
           0.7777777777777778,
           "#6ece58"
          ],
          [
           0.8888888888888888,
           "#b5de2b"
          ],
          [
           1,
           "#fde725"
          ]
         ]
        },
        "height": 400,
        "legend": {
         "tracegroupgap": 0
        },
        "margin": {
         "t": 60
        },
        "template": {
         "data": {
          "pie": [
           {
            "automargin": true,
            "type": "pie"
           }
          ],
          "scatter": [
           {
            "line": {
             "width": 3
            },
            "marker": {
             "size": 9
            },
            "type": "scatter"
           }
          ],
          "scatter3d": [
           {
            "line": {
             "width": 3
            },
            "marker": {
             "size": 9
            },
            "type": "scatter3d"
           }
          ],
          "scattergeo": [
           {
            "line": {
             "width": 3
            },
            "marker": {
             "size": 9
            },
            "type": "scattergeo"
           }
          ],
          "scattergl": [
           {
            "line": {
             "width": 3
            },
            "marker": {
             "size": 9
            },
            "type": "scattergl"
           }
          ],
          "scatterpolar": [
           {
            "line": {
             "width": 3
            },
            "marker": {
             "size": 9
            },
            "type": "scatterpolar"
           }
          ],
          "scatterpolargl": [
           {
            "line": {
             "width": 3
            },
            "marker": {
             "size": 9
            },
            "type": "scatterpolargl"
           }
          ],
          "scatterternary": [
           {
            "line": {
             "width": 3
            },
            "marker": {
             "size": 9
            },
            "type": "scatterternary"
           }
          ],
          "table": [
           {
            "cells": {
             "height": 30
            },
            "header": {
             "height": 36
            },
            "type": "table"
           }
          ]
         },
         "layout": {
          "font": {
           "size": 18
          },
          "xaxis": {
           "title": {
            "standoff": 15
           }
          },
          "yaxis": {
           "title": {
            "standoff": 15
           }
          }
         }
        },
        "width": 900,
        "xaxis": {
         "anchor": "y",
         "domain": [
          0,
          1
         ],
         "title": {
          "text": ""
         }
        },
        "yaxis": {
         "anchor": "x",
         "domain": [
          0,
          1
         ],
         "title": {
          "text": "$USD"
         }
        }
       }
      }
     },
     "metadata": {},
     "output_type": "display_data"
    }
   ],
   "source": [
    "invoice_clean = pd.read_sql('SELECT * FROM invoice_clean;', con = engine)\n",
    "invoice_clean.invoice_date = pd.to_datetime(invoice_clean.invoice_date)\n",
    "\n",
    "px.bar(invoice_clean.set_index('invoice_date').groupby(pd.Grouper(freq='Q'))['dollars'].sum(),\n",
    "        y='dollars',\n",
    "        template='presentation',\n",
    "        labels={'dollars':'$USD',\n",
    "                'invoice_date':''},\n",
    "        color='dollars',\n",
    "        width=900,\n",
    "        height=400)"
   ]
  },
  {
   "cell_type": "code",
   "execution_count": 9,
   "id": "be7be138",
   "metadata": {},
   "outputs": [
    {
     "name": "stdout",
     "output_type": "stream",
     "text": [
      "<class 'pandas.core.frame.DataFrame'>\n",
      "RangeIndex: 67497 entries, 0 to 67496\n",
      "Data columns (total 11 columns):\n",
      " #   Column           Non-Null Count  Dtype         \n",
      "---  ------           --------------  -----         \n",
      " 0   month            67497 non-null  object        \n",
      " 1   year             67497 non-null  int64         \n",
      " 2   customer_name    67497 non-null  object        \n",
      " 3   invoice_date     67497 non-null  datetime64[ns]\n",
      " 4   item_full_desc   67497 non-null  object        \n",
      " 5   qty_received     67497 non-null  float64       \n",
      " 6   dollars          67497 non-null  float64       \n",
      " 7   cad              67497 non-null  float64       \n",
      " 8   sale_origin      67497 non-null  object        \n",
      " 9   parent_customer  67497 non-null  object        \n",
      " 10  market_segment   67497 non-null  object        \n",
      "dtypes: datetime64[ns](1), float64(3), int64(1), object(6)\n",
      "memory usage: 5.7+ MB\n"
     ]
    }
   ],
   "source": [
    "invoice_clean.convert_dtypes().info()"
   ]
  },
  {
   "cell_type": "code",
   "execution_count": 10,
   "id": "a66dce21",
   "metadata": {},
   "outputs": [
    {
     "name": "stdout",
     "output_type": "stream",
     "text": [
      "<class 'pandas.core.frame.DataFrame'>\n",
      "RangeIndex: 67497 entries, 0 to 67496\n",
      "Data columns (total 11 columns):\n",
      " #   Column           Non-Null Count  Dtype         \n",
      "---  ------           --------------  -----         \n",
      " 0   month            67497 non-null  string        \n",
      " 1   year             67497 non-null  Int64         \n",
      " 2   customer_name    67497 non-null  string        \n",
      " 3   invoice_date     67497 non-null  datetime64[ns]\n",
      " 4   item_full_desc   67497 non-null  string        \n",
      " 5   qty_received     67497 non-null  Int64         \n",
      " 6   dollars          67497 non-null  Float64       \n",
      " 7   cad              67497 non-null  Float64       \n",
      " 8   sale_origin      67497 non-null  string        \n",
      " 9   parent_customer  67497 non-null  string        \n",
      " 10  market_segment   67497 non-null  string        \n",
      "dtypes: Float64(2), Int64(2), datetime64[ns](1), string(6)\n",
      "memory usage: 5.9 MB\n"
     ]
    }
   ],
   "source": [
    "invoice_clean.convert_dtypes().info()"
   ]
  },
  {
   "cell_type": "code",
   "execution_count": null,
   "id": "a95138cf",
   "metadata": {},
   "outputs": [],
   "source": []
  },
  {
   "cell_type": "code",
   "execution_count": null,
   "id": "b7f049f6",
   "metadata": {},
   "outputs": [],
   "source": [
    "## Read in Unleashed table from postgres\n",
    "\n",
    "unl = pd.read_sql('SELECT * FROM unl;', con = engine)\n",
    "unl['USD'] = unl['sub_total']*.75\n",
    "\n",
    "unl['completed_date'] = pd.to_datetime(unl['completed_date'])\n",
    "\n",
    "print(unl.completed_date.min())\n",
    "print(unl.completed_date.max())\n",
    "print(f\"Rows: {len(unl[unl['completed_date'] > '2022'])}\")"
   ]
  },
  {
   "cell_type": "code",
   "execution_count": null,
   "id": "a746871f",
   "metadata": {},
   "outputs": [],
   "source": [
    "unl.columns"
   ]
  },
  {
   "cell_type": "code",
   "execution_count": null,
   "id": "16326a41",
   "metadata": {},
   "outputs": [],
   "source": [
    "# Dot Outbounds\n",
    "\n",
    "df = (\n",
    "    dot\n",
    "    .groupby('invoice_date',as_index=False)\n",
    "    ['dollars'].sum()\n",
    ")\n",
    "\n",
    "df.index = pd.to_datetime(df['invoice_date'],format='%m/%d/%y %I:%M%p')\n",
    "df = pd.DataFrame(df.groupby(by=[df.index.year, df.index.month],as_index=False)['dollars'].sum())\n",
    "\n",
    "px.scatter(y=df.dollars,\n",
    "        trendline=\"rolling\", trendline_options=dict(function=\"median\", window=5), trendline_scope=\"overall\",\n",
    "        title='Dot Outbounds',\n",
    "        template='presentation',\n",
    "        opacity=.2,\n",
    "        labels={'y':'$USD',\n",
    "                'x':'Date'\n",
    "               }\n",
    "       )"
   ]
  },
  {
   "cell_type": "code",
   "execution_count": null,
   "id": "69e7b58a",
   "metadata": {},
   "outputs": [],
   "source": [
    "px.scatter(dot.groupby('invoice_date',as_index=False)['dollars'].sum(),\n",
    "       x='invoice_date',\n",
    "       y='dollars',\n",
    "#        trendline='lowess',\n",
    "       trendline=\"rolling\", trendline_options=dict(function=\"median\", window=20), trendline_scope=\"overall\",    \n",
    "       trendline_color_override=\"red\",\n",
    "#        template='presentation',\n",
    "       color='dollars',\n",
    "        opacity=.2)"
   ]
  },
  {
   "cell_type": "code",
   "execution_count": null,
   "id": "246c227f",
   "metadata": {},
   "outputs": [],
   "source": []
  },
  {
   "cell_type": "code",
   "execution_count": null,
   "id": "9d6e45d4",
   "metadata": {},
   "outputs": [],
   "source": [
    "## turns dot to raw_dot_outbounds (TABLEAU READY)\n",
    "\n",
    "# Update columns headers to match original raw data (for tableau)\n",
    "\n",
    "labels = ['Supplier Name','Product Line Number', 'Product Line Description','Buying Group Number', 'Buying Group Name', 'Customer #',\n",
    "            'Customer Name','Customer Shipping City','Customer Shipping State','Customer Shipping Zip Code',\n",
    "            'Customer Invoice Number','Invoice Date','Customer PO Number','Customer Order Number','Dot #',\n",
    "             'MFG #','Item UPC','Item Full Description','Qty Ordered','Qty Received','Dollars','Customer Extended Gross Weight',\n",
    "             'Customer Extended Net Weight','Channel Number','Channel Description','Segment Code','Segment Description',\n",
    "            'Tier Number','Tier Description','Product Line Sub-Category','Dot DC','Table','Segment Description 2','Parent Customer']\n",
    "\n",
    "raw_dot_outbounds = dot.copy()\n",
    "raw_dot_outbounds.columns = labels\n",
    "\n",
    "# raw_dot_outbounds.head(2)"
   ]
  },
  {
   "cell_type": "code",
   "execution_count": null,
   "id": "318f7e1c",
   "metadata": {},
   "outputs": [],
   "source": []
  }
 ],
 "metadata": {
  "kernelspec": {
   "display_name": "Python 3 (ipykernel)",
   "language": "python",
   "name": "python3"
  },
  "language_info": {
   "codemirror_mode": {
    "name": "ipython",
    "version": 3
   },
   "file_extension": ".py",
   "mimetype": "text/x-python",
   "name": "python",
   "nbconvert_exporter": "python",
   "pygments_lexer": "ipython3",
   "version": "3.11.5"
  }
 },
 "nbformat": 4,
 "nbformat_minor": 5
}
