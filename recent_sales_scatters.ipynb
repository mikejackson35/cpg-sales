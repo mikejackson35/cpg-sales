{
 "cells": [
  {
   "cell_type": "code",
   "execution_count": 1,
   "id": "4e8d358a",
   "metadata": {},
   "outputs": [],
   "source": [
    "\n",
    "import pandas as pd\n",
    "import plotly.express as px\n",
    "import altair as alt\n",
    "# from sqlalchemy import create_engine\n",
    "# import secrets\n",
    "import numpy as np\n",
    "from datetime import datetime"
   ]
  },
  {
   "cell_type": "code",
   "execution_count": 2,
   "id": "72ca0f11",
   "metadata": {},
   "outputs": [
    {
     "data": {
      "text/html": [
       "<div>\n",
       "<style scoped>\n",
       "    .dataframe tbody tr th:only-of-type {\n",
       "        vertical-align: middle;\n",
       "    }\n",
       "\n",
       "    .dataframe tbody tr th {\n",
       "        vertical-align: top;\n",
       "    }\n",
       "\n",
       "    .dataframe thead th {\n",
       "        text-align: right;\n",
       "    }\n",
       "</style>\n",
       "<table border=\"1\" class=\"dataframe\">\n",
       "  <thead>\n",
       "    <tr style=\"text-align: right;\">\n",
       "      <th></th>\n",
       "      <th>date</th>\n",
       "      <th>sale_origin</th>\n",
       "      <th>market_segment</th>\n",
       "      <th>parent_customer</th>\n",
       "      <th>customer</th>\n",
       "      <th>item</th>\n",
       "      <th>qty</th>\n",
       "      <th>usd</th>\n",
       "      <th>cad</th>\n",
       "      <th>month</th>\n",
       "      <th>year</th>\n",
       "    </tr>\n",
       "  </thead>\n",
       "  <tbody>\n",
       "    <tr>\n",
       "      <th>0</th>\n",
       "      <td>2024-02-12</td>\n",
       "      <td>dot</td>\n",
       "      <td>Broadline Distributor</td>\n",
       "      <td>US Foods</td>\n",
       "      <td>USF/TAMPA-USF DIRECT</td>\n",
       "      <td>AWAKE CHOCOLATE AWAKE CHOC CARAMEL- 6X12PK MASTER</td>\n",
       "      <td>1.0</td>\n",
       "      <td>85.5400</td>\n",
       "      <td>113.77</td>\n",
       "      <td>February</td>\n",
       "      <td>2024</td>\n",
       "    </tr>\n",
       "    <tr>\n",
       "      <th>1</th>\n",
       "      <td>2024-02-12</td>\n",
       "      <td>dot</td>\n",
       "      <td>Vending</td>\n",
       "      <td>Vistar</td>\n",
       "      <td>VISTAR-TENNESSEE</td>\n",
       "      <td>CAFFEINATED CHOCOLATE BITES SINGLES CARAMEL</td>\n",
       "      <td>9.0</td>\n",
       "      <td>1269.0000</td>\n",
       "      <td>1687.77</td>\n",
       "      <td>February</td>\n",
       "      <td>2024</td>\n",
       "    </tr>\n",
       "    <tr>\n",
       "      <th>2</th>\n",
       "      <td>2024-02-12</td>\n",
       "      <td>dot</td>\n",
       "      <td>Vending</td>\n",
       "      <td>Vistar</td>\n",
       "      <td>VISTAR-NORTH TEXAS</td>\n",
       "      <td>AWAKE CHOCOLATE AWAKE CAFF DARK CHOC- 6X12PK M...</td>\n",
       "      <td>2.0</td>\n",
       "      <td>171.0800</td>\n",
       "      <td>227.54</td>\n",
       "      <td>February</td>\n",
       "      <td>2024</td>\n",
       "    </tr>\n",
       "    <tr>\n",
       "      <th>3</th>\n",
       "      <td>2024-02-12</td>\n",
       "      <td>dot</td>\n",
       "      <td>Vending</td>\n",
       "      <td>Vistar</td>\n",
       "      <td>VISTAR-NORTH TEXAS</td>\n",
       "      <td>AWAKE CHOCOLATE AWAKE CAFF MILK CHOC- 6X12PK M...</td>\n",
       "      <td>1.0</td>\n",
       "      <td>85.5400</td>\n",
       "      <td>113.77</td>\n",
       "      <td>February</td>\n",
       "      <td>2024</td>\n",
       "    </tr>\n",
       "    <tr>\n",
       "      <th>4</th>\n",
       "      <td>2024-02-12</td>\n",
       "      <td>dot</td>\n",
       "      <td>Vending</td>\n",
       "      <td>Proformance Vend</td>\n",
       "      <td>PROFORMANCE VEND USA</td>\n",
       "      <td>CAFFEINATED CHOCOLATE BITES SINGLES CARAMEL</td>\n",
       "      <td>1.0</td>\n",
       "      <td>141.0000</td>\n",
       "      <td>187.53</td>\n",
       "      <td>February</td>\n",
       "      <td>2024</td>\n",
       "    </tr>\n",
       "    <tr>\n",
       "      <th>...</th>\n",
       "      <td>...</td>\n",
       "      <td>...</td>\n",
       "      <td>...</td>\n",
       "      <td>...</td>\n",
       "      <td>...</td>\n",
       "      <td>...</td>\n",
       "      <td>...</td>\n",
       "      <td>...</td>\n",
       "      <td>...</td>\n",
       "      <td>...</td>\n",
       "      <td>...</td>\n",
       "    </tr>\n",
       "    <tr>\n",
       "      <th>149689</th>\n",
       "      <td>2021-01-04</td>\n",
       "      <td>unl</td>\n",
       "      <td>Online</td>\n",
       "      <td>Shopify</td>\n",
       "      <td>Shopify Customer - AWAKE Energy USA</td>\n",
       "      <td>4 Free Bites</td>\n",
       "      <td>1.0</td>\n",
       "      <td>0.0000</td>\n",
       "      <td>0.00</td>\n",
       "      <td>January</td>\n",
       "      <td>2021</td>\n",
       "    </tr>\n",
       "    <tr>\n",
       "      <th>149690</th>\n",
       "      <td>2021-01-04</td>\n",
       "      <td>dot</td>\n",
       "      <td>Convenience</td>\n",
       "      <td>CD Hartnett</td>\n",
       "      <td>C.D. HARTNETT/WEATHERFORD</td>\n",
       "      <td>CAFFEINATED CHOCOLATE BITES SINGLES</td>\n",
       "      <td>1.0</td>\n",
       "      <td>120.0000</td>\n",
       "      <td>159.60</td>\n",
       "      <td>January</td>\n",
       "      <td>2021</td>\n",
       "    </tr>\n",
       "    <tr>\n",
       "      <th>149691</th>\n",
       "      <td>2021-01-04</td>\n",
       "      <td>unl</td>\n",
       "      <td>Online</td>\n",
       "      <td>Shopify</td>\n",
       "      <td>Shopify Customer - AWAKE Energy USA</td>\n",
       "      <td>Shopify Shipping cost</td>\n",
       "      <td>1.0</td>\n",
       "      <td>3.9825</td>\n",
       "      <td>5.31</td>\n",
       "      <td>January</td>\n",
       "      <td>2021</td>\n",
       "    </tr>\n",
       "    <tr>\n",
       "      <th>149692</th>\n",
       "      <td>2021-01-04</td>\n",
       "      <td>unl</td>\n",
       "      <td>Online</td>\n",
       "      <td>Shopify</td>\n",
       "      <td>Shopify Customer - AWAKE Energy USA</td>\n",
       "      <td>Shopify Shipping cost</td>\n",
       "      <td>1.0</td>\n",
       "      <td>3.9825</td>\n",
       "      <td>5.31</td>\n",
       "      <td>January</td>\n",
       "      <td>2021</td>\n",
       "    </tr>\n",
       "    <tr>\n",
       "      <th>149693</th>\n",
       "      <td>2021-01-01</td>\n",
       "      <td>dot</td>\n",
       "      <td>Convenience</td>\n",
       "      <td>Core-Mark</td>\n",
       "      <td>CORE-MARK/CAROLINA</td>\n",
       "      <td>AWAKE CHOCOLATE AWAKE CAFF DARK CHOC- 6X12PK M...</td>\n",
       "      <td>1.0</td>\n",
       "      <td>78.4800</td>\n",
       "      <td>104.38</td>\n",
       "      <td>January</td>\n",
       "      <td>2021</td>\n",
       "    </tr>\n",
       "  </tbody>\n",
       "</table>\n",
       "<p>142063 rows × 11 columns</p>\n",
       "</div>"
      ],
      "text/plain": [
       "             date sale_origin         market_segment   parent_customer  \\\n",
       "0      2024-02-12         dot  Broadline Distributor          US Foods   \n",
       "1      2024-02-12         dot                Vending            Vistar   \n",
       "2      2024-02-12         dot                Vending            Vistar   \n",
       "3      2024-02-12         dot                Vending            Vistar   \n",
       "4      2024-02-12         dot                Vending  Proformance Vend   \n",
       "...           ...         ...                    ...               ...   \n",
       "149689 2021-01-04         unl                 Online           Shopify   \n",
       "149690 2021-01-04         dot            Convenience       CD Hartnett   \n",
       "149691 2021-01-04         unl                 Online           Shopify   \n",
       "149692 2021-01-04         unl                 Online           Shopify   \n",
       "149693 2021-01-01         dot            Convenience         Core-Mark   \n",
       "\n",
       "                                   customer  \\\n",
       "0                      USF/TAMPA-USF DIRECT   \n",
       "1                          VISTAR-TENNESSEE   \n",
       "2                        VISTAR-NORTH TEXAS   \n",
       "3                        VISTAR-NORTH TEXAS   \n",
       "4                      PROFORMANCE VEND USA   \n",
       "...                                     ...   \n",
       "149689  Shopify Customer - AWAKE Energy USA   \n",
       "149690            C.D. HARTNETT/WEATHERFORD   \n",
       "149691  Shopify Customer - AWAKE Energy USA   \n",
       "149692  Shopify Customer - AWAKE Energy USA   \n",
       "149693                   CORE-MARK/CAROLINA   \n",
       "\n",
       "                                                     item  qty        usd  \\\n",
       "0       AWAKE CHOCOLATE AWAKE CHOC CARAMEL- 6X12PK MASTER  1.0    85.5400   \n",
       "1             CAFFEINATED CHOCOLATE BITES SINGLES CARAMEL  9.0  1269.0000   \n",
       "2       AWAKE CHOCOLATE AWAKE CAFF DARK CHOC- 6X12PK M...  2.0   171.0800   \n",
       "3       AWAKE CHOCOLATE AWAKE CAFF MILK CHOC- 6X12PK M...  1.0    85.5400   \n",
       "4             CAFFEINATED CHOCOLATE BITES SINGLES CARAMEL  1.0   141.0000   \n",
       "...                                                   ...  ...        ...   \n",
       "149689                                       4 Free Bites  1.0     0.0000   \n",
       "149690                CAFFEINATED CHOCOLATE BITES SINGLES  1.0   120.0000   \n",
       "149691                              Shopify Shipping cost  1.0     3.9825   \n",
       "149692                              Shopify Shipping cost  1.0     3.9825   \n",
       "149693  AWAKE CHOCOLATE AWAKE CAFF DARK CHOC- 6X12PK M...  1.0    78.4800   \n",
       "\n",
       "            cad     month  year  \n",
       "0        113.77  February  2024  \n",
       "1       1687.77  February  2024  \n",
       "2        227.54  February  2024  \n",
       "3        113.77  February  2024  \n",
       "4        187.53  February  2024  \n",
       "...         ...       ...   ...  \n",
       "149689     0.00   January  2021  \n",
       "149690   159.60   January  2021  \n",
       "149691     5.31   January  2021  \n",
       "149692     5.31   January  2021  \n",
       "149693   104.38   January  2021  \n",
       "\n",
       "[142063 rows x 11 columns]"
      ]
     },
     "execution_count": 2,
     "metadata": {},
     "output_type": "execute_result"
    }
   ],
   "source": [
    "df = pd.read_csv(r\"data/all_sales_data.csv\")\n",
    "# ### MASTER DATA ###\n",
    "all_sales = df.copy()\n",
    "\n",
    "all_sales = all_sales[all_sales.market_segment != 'Samples']\n",
    "\n",
    "# invoice date cleanup\n",
    "all_sales['date'] = pd.to_datetime(all_sales['date'])\n",
    "all_sales['date'] = all_sales['date'].dt.normalize()\n",
    "all_sales['date'] = all_sales['date'].dt.floor('D')\n",
    "\n",
    "df_selection = all_sales.copy()\n",
    "df_selection"
   ]
  },
  {
   "cell_type": "code",
   "execution_count": 23,
   "id": "f2ab71ab",
   "metadata": {},
   "outputs": [],
   "source": [
    "############ MARKET SEGMENT COLOR DICTIONARY\n",
    "\n",
    "market_segment_dict = {\n",
    "    'Vending': 'rgb(56,149,73)',\n",
    "    'Grocery': 'rgb(248,184,230)',\n",
    "    'Alternate Retail': 'rgb(46,70,166)',\n",
    "    'Canada': 'rgb(204,208,221)',\n",
    "    'Online': 'rgb(106,87,63)',\n",
    "    'Other': 'rgb(200,237,233)',\n",
    "    'Convenience': 'rgb(233,81,46)',\n",
    "    'Broadline Distributor': 'rgb(233,152,19)',\n",
    "    'Samples': 'rgb(141,62,92)'}\n",
    "\n",
    "sale_origin_dict = {\n",
    "    'dot': 'rgb(25, 118, 210)',\n",
    "    'unl': 'rgb(239, 83, 80)'\n",
    "}"
   ]
  },
  {
   "cell_type": "code",
   "execution_count": null,
   "id": "a8b774d8",
   "metadata": {},
   "outputs": [],
   "source": [
    "# DAILY SALES HORIZONTAL SCATTER (XAXIS = CATEGORY)\n",
    "\n",
    "df = df_selection.groupby([df_selection.date,'market_segment','parent_customer']).usd.sum().reset_index()\n",
    "\n",
    "#all sales weekly scatter\n",
    "fig_scatter_all = px.scatter(\n",
    "    round(df[df.date>'2024-01-31'].sort_index()),\n",
    "    x='date',\n",
    "    y='usd',\n",
    "    template = 'simple_white',\n",
    "    labels={'date':'',\n",
    "            'usd':'<b>$USD</b>'},\n",
    "    height=500,\n",
    "    color='market_segment',\n",
    "    color_discrete_map=market_segment_color,\n",
    "    title='Daily Sales by Market Segment',\n",
    "    log_y=True\n",
    ")\n",
    "\n",
    "# fig_scatter_all.update_traces(name=\"\",hovertemplate=\"<b>%{x}<br>%{y:$,.0f}\")\n",
    "fig_scatter_all.update_traces(marker=dict(size=18,opacity=.7,line=dict(width=1,color='grey')),selector=dict(mode='markers'))\n",
    "\n",
    "fig_scatter_all.update_coloraxes(showscale=False)\n",
    "fig_scatter_all.update_yaxes(gridcolor='lightgray', tickvals=[100,1000,10000,100000])\n",
    "\n",
    "fig_scatter_all.update_layout(hoverlabel=dict(font_size=15,font_family=\"Rockwell\"))"
   ]
  },
  {
   "cell_type": "code",
   "execution_count": null,
   "id": "1b3857d8",
   "metadata": {},
   "outputs": [],
   "source": [
    "# WEEKLY SALES HORIZONTAL SCATTER (XAXIS = CATEGORY)\n",
    "\n",
    "df_selection.index = pd.to_datetime(df_selection['date'],format = '%y/%m')\n",
    "sales_per_week = df_selection.groupby([pd.Grouper(freq='W'),'market_segment'])['usd'].sum().reset_index()\n",
    "df = sales_per_week.copy()\n",
    "\n",
    "#all sales weekly scatter\n",
    "fig_scatter_all = px.scatter(\n",
    "    round(df[df.date>'2023-12-31'].sort_index()),\n",
    "    x='date',\n",
    "    y='usd',\n",
    "    template = 'simple_white',\n",
    "    labels={'date':'',\n",
    "            'usd':'<b>$USD</b>'},\n",
    "    height=500, color='market_segment',\n",
    "    color_discrete_map=market_segment_color,\n",
    "    title='Weekly Sales by Market Segment',\n",
    "    log_y=True\n",
    ")\n",
    "\n",
    "fig_scatter_all.update_traces(name=\"\",hovertemplate=\"<b>%{x}<br>%{y:$,.0f}\")\n",
    "fig_scatter_all.update_traces(marker=dict(size=15,line=dict(width=1,color='grey')),selector=dict(mode='markers'))\n",
    "\n",
    "fig_scatter_all.update_coloraxes(showscale=False)\n",
    "fig_scatter_all.update_yaxes(gridcolor='lightgray', tickvals=[100,1000,10000,100000,1000000])\n",
    "\n",
    "fig_scatter_all.update_layout(hoverlabel=dict(font_size=15,font_family=\"Rockwell\"))"
   ]
  },
  {
   "cell_type": "code",
   "execution_count": null,
   "id": "255cb61e",
   "metadata": {},
   "outputs": [],
   "source": [
    "# MONTHLY SALES HORIZONTAL SCATTER (XAXIS = CATEGORY)\n",
    "\n",
    "df_selection.index = pd.to_datetime(df_selection['date'],format = '%y/%m')\n",
    "sales_per_month = df_selection.groupby([pd.Grouper(freq='M'),'market_segment'])['usd'].sum().reset_index()\n",
    "# df = sales_per_month.copy()\n",
    "\n",
    "#all sales weekly scatter\n",
    "fig_scatter_all = px.scatter(\n",
    "    round(sales_per_month),\n",
    "    x='date',\n",
    "    y='usd',\n",
    "    template = 'simple_white',\n",
    "    labels={'date':'',\n",
    "            'usd':'<b>$USD</b>'},\n",
    "    height=500,\n",
    "#     size='usd',\n",
    "#     size_max=15,\n",
    "    color='market_segment',\n",
    "    color_discrete_map=market_segment_color,\n",
    "    title='Monthly Sales by Market Segment',\n",
    "    trendline=\"lowess\", trendline_options=dict(frac=0.5)\n",
    ").update_traces(name=\"\",hovertemplate=\"<b>%{y:$,.0f}\")\n",
    "\n",
    "fig_scatter_all.update_coloraxes(showscale=False)\n",
    "fig_scatter_all.update_yaxes(gridcolor='lightgray')\n",
    "\n",
    "fig_scatter_all.update_layout(hoverlabel=dict(font_size=15,font_family=\"Rockwell\"))"
   ]
  },
  {
   "cell_type": "code",
   "execution_count": null,
   "id": "ca098465",
   "metadata": {},
   "outputs": [],
   "source": [
    "# WEEKLY SALES HORIZONTAL SCATTER (XAXIS = DATETIME)\n",
    "\n",
    "df_selection.index = pd.to_datetime(df_selection['date'],format = '%y/%m/%d')\n",
    "sales_per_week = df_selection.groupby(pd.Grouper(freq='W'))['usd'].sum()\n",
    "sales_per_week = df_selection.copy()\n",
    "\n",
    "#all sales weekly scatter\n",
    "fig_scatter_all = px.scatter(\n",
    "    round(sales_per_week),\n",
    "    x=sales_per_week.index,\n",
    "    y='usd',\n",
    "    template = 'presentation',\n",
    "    labels={'date':'',\n",
    "            'usd':'<b>$USD</b>'},\n",
    "    height=500,\n",
    "#     size='usd',\n",
    "    size_max=15,\n",
    "    color='usd',\n",
    "    color_continuous_scale=px.colors.sequential.Oranges,\n",
    "    trendline=\"rolling\", trendline_options=dict(function=\"mean\", window=10), trendline_scope=\"overall\", trendline_color_override=\"grey\"\n",
    ").update_traces(name=\"\",hovertemplate=\"Sales: <b>%{y:$,.0f}\")\n",
    "fig_scatter_all.update_coloraxes(showscale=False)\n",
    "fig_scatter_all.update_yaxes(gridcolor='lightgray')\n",
    "fig_scatter_all.update_layout(\n",
    "    hovermode='x unified',\n",
    "    legend=dict(y=0.99, x=0.1,title='10-Wk Moving Avg'))\n",
    "fig_scatter_all.update_layout(hoverlabel=dict(font_size=15,font_family=\"Rockwell\"))#,xaxis=dict(type = 'category'))\n",
    "# fig_scatter_all.update_xaxes(tickmode='array',tickvals = sales_per_week.index, ticktext=sales_per_week.index.month_name())"
   ]
  },
  {
   "cell_type": "code",
   "execution_count": null,
   "id": "5ccb82e6",
   "metadata": {},
   "outputs": [],
   "source": [
    "# segment pie chart\n",
    "\n",
    "seg_sales = round(df_selection.groupby('market_segment',as_index=False)['usd'].sum()).sort_values(by='market_segment',ascending=False)\n",
    "\n",
    "fig_seg_sales = px.pie(\n",
    "    seg_sales, \n",
    "    values='usd', \n",
    "    names='market_segment',\n",
    "    template = 'simple_white',\n",
    "    title=' ',\n",
    "    opacity = .8,\n",
    "    hole=.33,\n",
    "    color='market_segment',\n",
    "    color_discrete_map=market_segment_color).update_layout(autosize=False,width=450,height=450,showlegend=False)\n",
    "fig_seg_sales.update_traces(textposition='inside', textinfo='percent+label', texttemplate='%{label}<br>%{percent:.0%}')\n",
    "# fig_seg_sales.update_traces(hovertemplate='%{names}<br>%{values:.0%}')\n",
    "fig_seg_sales.show()"
   ]
  },
  {
   "cell_type": "code",
   "execution_count": null,
   "id": "cd5953ab",
   "metadata": {},
   "outputs": [],
   "source": [
    "## FUNCTION TAKES IN DF_SELECTION AND OUTPUTS DAILY SALES DATAFRAME\n",
    "\n",
    "def make_daily_bar_df(df_selection):\n",
    "    return (\n",
    "        df_selection.dropna()\n",
    "        .assign(new_date=pd.to_datetime(df_selection['date'])).reset_index(drop=True)\n",
    "        .drop(columns=['cad','month','year','date'])\n",
    "        .rename(columns={'new_date':'date'})\n",
    "        .groupby(['market_segment','date','sale_origin','parent_customer'],as_index=False)\n",
    "        .sum()\n",
    "        .set_index('date')\n",
    "        .sort_index()\n",
    "    )\n",
    "\n",
    "daily_bar_df = make_daily_bar_df(df_selection)\n",
    "daily_bar_df"
   ]
  },
  {
   "cell_type": "code",
   "execution_count": null,
   "id": "9bc7643f",
   "metadata": {},
   "outputs": [],
   "source": [
    "## DAILY SALES DATAFRAME (SAME AS FUNC ABOVE)\n",
    "\n",
    "df_selection.groupby([df_selection.date,'sale_origin','market_segment','parent_customer']).usd.sum().reset_index().set_index('date')"
   ]
  },
  {
   "cell_type": "code",
   "execution_count": null,
   "id": "cf2d5722",
   "metadata": {},
   "outputs": [],
   "source": [
    "###  DAILY SALES VERTICAL SCATTER (3 WAYS)\n",
    "\n",
    "# for 'sales_origin':\n",
    "#   color_by: sale_origin\n",
    "#   color_discrete_map =  {'unl':\"#E62F29\",'dot':\"#3A4DA1\"}\n",
    "#   marker size: 20\n",
    "\n",
    "# for 'market_segment':\n",
    "#   color_by: market_segment\n",
    "#   color discrete_map = market_segment_color dictionary\n",
    "#   marker size: 15\n",
    "\n",
    "# for 'parent_customer':\n",
    "#   color_by: market_segment\n",
    "#   color discrete_map = market_segment_color dictionary\n",
    "#   marker size: 12\n",
    "\n",
    "\n",
    "\n",
    "week_ago = datetime.today().date() - pd.offsets.Day(10)\n",
    "df_selection = df_selection[df_selection.date>week_ago]\n",
    "df = df_selection.groupby([df_selection.date,'sale_origin']).usd.sum().reset_index().set_index('date')\n",
    "fig = px.scatter(df,\n",
    "           x='usd',\n",
    "           color='sale_origin',\n",
    "           color_discrete_map={'unl':\"#E62F29\",'dot':\"#3A4DA1\"},\n",
    "           opacity=.8,\n",
    "           labels={'date':\"\", 'usd':''},\n",
    "           height=750,\n",
    "           width=400,\n",
    "           template='plotly_white',\n",
    "           title='Sales Last 10 Days',\n",
    "           hover_name='sale_origin',\n",
    "          )\n",
    "fig.update_traces(marker=dict(size=20,line=dict(width=1,color='grey')),selector=dict(mode='markers'))\n",
    "fig.update_xaxes(showgrid=True,tickprefix='$',gridcolor=\"#B1A999\",tickfont=dict(color='#5A5856', size=12),showticklabels=True)\n",
    "fig.update_yaxes(showgrid=False,gridcolor='gray',tickfont=dict(color='#5A5856', size=14))\n",
    "fig.update_layout(xaxis={'side':'top'}, title_x=0.33,legend=dict(title=''))\n",
    "fig.update_layout(yaxis=dict(type = 'category'))\n",
    "fig.update_yaxes(tickmode='array',tickvals = df.index, ticktext=df.index.strftime('%m-%d'))\n",
    "fig.show()"
   ]
  },
  {
   "cell_type": "code",
   "execution_count": null,
   "id": "d33c96fb",
   "metadata": {},
   "outputs": [],
   "source": [
    "week_ago = datetime.today().date() - pd.offsets.Day(10)\n",
    "df_selection = df_selection[df_selection.date>week_ago]\n",
    "\n",
    "fig = px.scatter(df_selection.groupby([df_selection.date,'market_segment']).usd.sum().fillna(0).reset_index().set_index('date'),\n",
    "           x='usd',\n",
    "           color='market_segment',\n",
    "           color_discrete_map=market_segment_color,                   # if color_by: market_segment\n",
    "           opacity=.8,\n",
    "           labels={'date':\"\", 'usd':''},\n",
    "           height=800,\n",
    "           width=400,\n",
    "           template='plotly_white',\n",
    "           title='Sales Last 10 Days',\n",
    "           hover_name='market_segment',\n",
    "           log_x=True,\n",
    "          ).update_layout(showlegend=False)\n",
    "fig.update_traces(marker=dict(size=15,line=dict(width=1,color='grey')),selector=dict(mode='markers'))\n",
    "fig.update_xaxes(showgrid=True,tickprefix='$',gridcolor=\"#B1A999\",tickfont=dict(color='#5A5856', size=12), tickvals=[100,1000,10000,100000],showticklabels=True)\n",
    "fig.update_yaxes(showgrid=False,gridcolor='gray',tickfont=dict(color='#5A5856', size=14))\n",
    "fig.update_layout(xaxis={'side':'top'},title_x=0.33)#,legend=dict(title=''))    # if you add legend turn this on\n",
    "fig.update_yaxes(tickmode='array',tickvals = df.index, ticktext=df.index.strftime('%m-%d'))\n",
    "\n",
    "\n",
    "fig.show()"
   ]
  },
  {
   "cell_type": "code",
   "execution_count": null,
   "id": "aa55ddae",
   "metadata": {},
   "outputs": [],
   "source": [
    "week_ago = datetime.today().date() - pd.offsets.Day(10)\n",
    "df_selection = df_selection[df_selection.date>week_ago]\n",
    "\n",
    "fig = px.scatter(df_selection.groupby([df_selection.date,'parent_customer','market_segment']).usd.sum().reset_index().set_index('date'),\n",
    "           x='usd',\n",
    "           color='market_segment',\n",
    "           color_discrete_map=market_segment_color,\n",
    "           opacity=.8,\n",
    "           labels={'date':\"\", 'usd':''},\n",
    "           height=800,\n",
    "           width=400,\n",
    "           template='plotly_white',\n",
    "           title='Sales Last 10 Days',\n",
    "           hover_name='parent_customer',\n",
    "           log_x = True\n",
    "          ).update_layout(showlegend=False)\n",
    "fig.update_traces(marker=dict(size=12,line=dict(width=1,color='grey')),selector=dict(mode='markers'))\n",
    "fig.update_xaxes(showgrid=True,tickprefix='$',gridcolor=\"#B1A999\",tickfont=dict(color='#5A5856', size=12),showticklabels=True)\n",
    "fig.update_yaxes(showgrid=False,gridcolor='gray',tickfont=dict(color='#5A5856', size=14))\n",
    "fig.update_layout(xaxis={'side':'top'}, title_x=0.33,legend=dict(title=''))\n",
    "fig.update_yaxes(tickmode='array',tickvals = df.index, ticktext=df.index.strftime('%m-%d'))\n",
    "\n",
    "fig.show()"
   ]
  },
  {
   "cell_type": "code",
   "execution_count": null,
   "id": "404f2090",
   "metadata": {},
   "outputs": [],
   "source": [
    "df = df_selection.groupby([df_selection.date,'market_segment']).usd.sum().reset_index().set_index('date')\n",
    "df = df[df.index>'2023-12-31'].pivot(columns='market_segment', values='usd')\n",
    "\n",
    "fig = px.area(df,\n",
    "              color='market_segment',\n",
    "              color_discrete_map=market_segment_color, \n",
    "              facet_col=\"market_segment\",facet_col_wrap=2, \n",
    "              height=1000,\n",
    "              template = 'plotly_white',\n",
    "              title='YTD Sales by Segment'\n",
    "             )\n",
    "fig.update_traces(fill='tonexty')\n",
    "fig.show()"
   ]
  },
  {
   "cell_type": "code",
   "execution_count": null,
   "id": "42cfd09d",
   "metadata": {},
   "outputs": [],
   "source": [
    "df = df_selection[df_selection.market_segment=='Vending']['usd'].reset_index().set_index('date')\n",
    "df = df[df.index>'2023-12-31']\n",
    "\n",
    "fig = px.area(df,\n",
    "              template = 'plotly_white',\n",
    "              title='YTD Sales by Segment'\n",
    "             )\n",
    "fig.show()"
   ]
  },
  {
   "cell_type": "code",
   "execution_count": null,
   "id": "bd9e5a7c",
   "metadata": {},
   "outputs": [],
   "source": [
    "df_selection.groupby([df_selection.date,'market_segment']).usd.sum().reset_index().set_index('date')"
   ]
  },
  {
   "cell_type": "code",
   "execution_count": null,
   "id": "f3900710",
   "metadata": {},
   "outputs": [],
   "source": []
  },
  {
   "cell_type": "code",
   "execution_count": 127,
   "id": "d20a78d1",
   "metadata": {},
   "outputs": [
    {
     "data": {
      "application/vnd.plotly.v1+json": {
       "config": {
        "plotlyServerURL": "https://plot.ly"
       },
       "data": [
        {
         "customdata": [
          [
           "Online"
          ],
          [
           "Online"
          ],
          [
           "Online"
          ],
          [
           "Online"
          ],
          [
           "Online"
          ],
          [
           "Online"
          ],
          [
           "Online"
          ],
          [
           "Online"
          ],
          [
           "Online"
          ],
          [
           "Online"
          ]
         ],
         "hovertemplate": "<b>%{hovertext}</b><br><br>usd=%{y:.2s}<extra></extra>",
         "hovertext": [
          "Amazon",
          "Amazon",
          "Shopify",
          "Amazon",
          "Amazon",
          "Green Rabbit",
          "Shopify",
          "Amazon",
          "Amazon",
          "Amazon"
         ],
         "legendgroup": "Online",
         "marker": {
          "color": "rgb(106,87,63)",
          "line": {
           "color": "white",
           "width": 1
          },
          "size": 8,
          "symbol": "circle"
         },
         "mode": "markers",
         "name": "Online",
         "orientation": "v",
         "showlegend": true,
         "type": "scatter",
         "x": [
          "2024-02-01T00:00:00",
          "2024-02-02T00:00:00",
          "2024-02-02T00:00:00",
          "2024-02-05T00:00:00",
          "2024-02-06T00:00:00",
          "2024-02-06T00:00:00",
          "2024-02-06T00:00:00",
          "2024-02-07T00:00:00",
          "2024-02-08T00:00:00",
          "2024-02-12T00:00:00"
         ],
         "xaxis": "x",
         "y": [
          111,
          70,
          736,
          282,
          140,
          284,
          376,
          142,
          74,
          70
         ],
         "yaxis": "y"
        },
        {
         "customdata": [
          [
           "Convenience"
          ],
          [
           "Convenience"
          ],
          [
           "Convenience"
          ],
          [
           "Convenience"
          ],
          [
           "Convenience"
          ],
          [
           "Convenience"
          ],
          [
           "Convenience"
          ],
          [
           "Convenience"
          ],
          [
           "Convenience"
          ],
          [
           "Convenience"
          ],
          [
           "Convenience"
          ],
          [
           "Convenience"
          ],
          [
           "Convenience"
          ],
          [
           "Convenience"
          ],
          [
           "Convenience"
          ],
          [
           "Convenience"
          ],
          [
           "Convenience"
          ],
          [
           "Convenience"
          ],
          [
           "Convenience"
          ],
          [
           "Convenience"
          ],
          [
           "Convenience"
          ]
         ],
         "hovertemplate": "<b>%{hovertext}</b><br><br>usd=%{y:.2s}<extra></extra>",
         "hovertext": [
          "Core-Mark",
          "J Polep",
          "Texas Wholesale",
          "Tribeka Nik",
          "Amcon",
          "Topicz",
          "RC Taylor",
          "Core-Mark",
          "Core-Mark",
          "Farner Bocken",
          "HT Hackney",
          "Amcon",
          "Core-Mark",
          "J Mills",
          "J Polep",
          "Core-Mark",
          "F. McConnell & Sons",
          "Hibbert & McGee",
          "St Joe Distributing",
          "Century Distributors",
          "Core-Mark"
         ],
         "legendgroup": "Convenience",
         "marker": {
          "color": "rgb(233,81,46)",
          "line": {
           "color": "white",
           "width": 1
          },
          "size": 8,
          "symbol": "circle"
         },
         "mode": "markers",
         "name": "Convenience",
         "orientation": "v",
         "showlegend": true,
         "type": "scatter",
         "x": [
          "2024-02-01T00:00:00",
          "2024-02-01T00:00:00",
          "2024-02-01T00:00:00",
          "2024-02-01T00:00:00",
          "2024-02-02T00:00:00",
          "2024-02-02T00:00:00",
          "2024-02-05T00:00:00",
          "2024-02-06T00:00:00",
          "2024-02-07T00:00:00",
          "2024-02-07T00:00:00",
          "2024-02-07T00:00:00",
          "2024-02-08T00:00:00",
          "2024-02-08T00:00:00",
          "2024-02-08T00:00:00",
          "2024-02-08T00:00:00",
          "2024-02-09T00:00:00",
          "2024-02-09T00:00:00",
          "2024-02-09T00:00:00",
          "2024-02-09T00:00:00",
          "2024-02-12T00:00:00",
          "2024-02-12T00:00:00"
         ],
         "xaxis": "x",
         "y": [
          654,
          2291,
          86,
          165,
          141,
          0,
          171,
          453,
          171,
          710,
          171,
          171,
          141,
          86,
          1364,
          257,
          86,
          141,
          257,
          282,
          86
         ],
         "yaxis": "y"
        },
        {
         "customdata": [
          [
           "Alternate Retail"
          ],
          [
           "Alternate Retail"
          ],
          [
           "Alternate Retail"
          ],
          [
           "Alternate Retail"
          ],
          [
           "Alternate Retail"
          ],
          [
           "Alternate Retail"
          ],
          [
           "Alternate Retail"
          ],
          [
           "Alternate Retail"
          ],
          [
           "Alternate Retail"
          ],
          [
           "Alternate Retail"
          ],
          [
           "Alternate Retail"
          ],
          [
           "Alternate Retail"
          ],
          [
           "Alternate Retail"
          ]
         ],
         "hovertemplate": "<b>%{hovertext}</b><br><br>usd=%{y:.2s}<extra></extra>",
         "hovertext": [
          "Kelli's Gift Shop Supplies",
          "Tropical",
          "Vistar Retail",
          "Tropical",
          "Vistar Retail",
          "Tropical",
          "Vistar Retail",
          "Tropical",
          "Tropical",
          "Vistar Retail",
          "Tropical",
          "Vistar Retail",
          "Vistar Retail"
         ],
         "legendgroup": "Alternate Retail",
         "marker": {
          "color": "rgb(46,70,166)",
          "line": {
           "color": "white",
           "width": 1
          },
          "size": 8,
          "symbol": "circle"
         },
         "mode": "markers",
         "name": "Alternate Retail",
         "orientation": "v",
         "showlegend": true,
         "type": "scatter",
         "x": [
          "2024-02-01T00:00:00",
          "2024-02-01T00:00:00",
          "2024-02-01T00:00:00",
          "2024-02-02T00:00:00",
          "2024-02-02T00:00:00",
          "2024-02-05T00:00:00",
          "2024-02-05T00:00:00",
          "2024-02-07T00:00:00",
          "2024-02-08T00:00:00",
          "2024-02-08T00:00:00",
          "2024-02-09T00:00:00",
          "2024-02-09T00:00:00",
          "2024-02-12T00:00:00"
         ],
         "xaxis": "x",
         "y": [
          7179,
          9133,
          6405,
          4390,
          15852,
          3796,
          17772,
          2342,
          11685,
          2256,
          1974,
          2256,
          6204
         ],
         "yaxis": "y"
        },
        {
         "customdata": [
          [
           "Vending"
          ],
          [
           "Vending"
          ],
          [
           "Vending"
          ],
          [
           "Vending"
          ],
          [
           "Vending"
          ],
          [
           "Vending"
          ],
          [
           "Vending"
          ],
          [
           "Vending"
          ],
          [
           "Vending"
          ],
          [
           "Vending"
          ],
          [
           "Vending"
          ],
          [
           "Vending"
          ]
         ],
         "hovertemplate": "<b>%{hovertext}</b><br><br>usd=%{y:.2s}<extra></extra>",
         "hovertext": [
          "Sarnow",
          "Vistar",
          "Vistar",
          "Proformance Vend",
          "Vistar",
          "Vistar",
          "Vistar",
          "Vistar",
          "Total Foods",
          "Vistar",
          "Proformance Vend",
          "Vistar"
         ],
         "legendgroup": "Vending",
         "marker": {
          "color": "rgb(56,149,73)",
          "line": {
           "color": "white",
           "width": 1
          },
          "size": 8,
          "symbol": "circle"
         },
         "mode": "markers",
         "name": "Vending",
         "orientation": "v",
         "showlegend": true,
         "type": "scatter",
         "x": [
          "2024-02-01T00:00:00",
          "2024-02-01T00:00:00",
          "2024-02-02T00:00:00",
          "2024-02-05T00:00:00",
          "2024-02-05T00:00:00",
          "2024-02-06T00:00:00",
          "2024-02-07T00:00:00",
          "2024-02-08T00:00:00",
          "2024-02-09T00:00:00",
          "2024-02-09T00:00:00",
          "2024-02-12T00:00:00",
          "2024-02-12T00:00:00"
         ],
         "xaxis": "x",
         "y": [
          1269,
          8659,
          7730,
          846,
          29664,
          6384,
          171,
          6953,
          564,
          10890,
          141,
          6045
         ],
         "yaxis": "y"
        },
        {
         "customdata": [
          [
           "Grocery"
          ],
          [
           "Grocery"
          ],
          [
           "Grocery"
          ]
         ],
         "hovertemplate": "<b>%{hovertext}</b><br><br>usd=%{y:.2s}<extra></extra>",
         "hovertext": [
          "UNFI",
          "KeHe",
          "UNFI"
         ],
         "legendgroup": "Grocery",
         "marker": {
          "color": "rgb(248,184,230)",
          "line": {
           "color": "white",
           "width": 1
          },
          "size": 8,
          "symbol": "circle"
         },
         "mode": "markers",
         "name": "Grocery",
         "orientation": "v",
         "showlegend": true,
         "type": "scatter",
         "x": [
          "2024-02-01T00:00:00",
          "2024-02-07T00:00:00",
          "2024-02-07T00:00:00"
         ],
         "xaxis": "x",
         "y": [
          120,
          3431,
          12986
         ],
         "yaxis": "y"
        },
        {
         "customdata": [
          [
           "Broadline Distributor"
          ],
          [
           "Broadline Distributor"
          ],
          [
           "Broadline Distributor"
          ],
          [
           "Broadline Distributor"
          ],
          [
           "Broadline Distributor"
          ],
          [
           "Broadline Distributor"
          ],
          [
           "Broadline Distributor"
          ],
          [
           "Broadline Distributor"
          ],
          [
           "Broadline Distributor"
          ]
         ],
         "hovertemplate": "<b>%{hovertext}</b><br><br>usd=%{y:.2s}<extra></extra>",
         "hovertext": [
          "US Foods",
          "US Foods",
          "US Foods",
          "Gordon",
          "US Foods",
          "US Foods",
          "US Foods",
          "US Foods",
          "US Foods"
         ],
         "legendgroup": "Broadline Distributor",
         "marker": {
          "color": "rgb(233,152,19)",
          "line": {
           "color": "white",
           "width": 1
          },
          "size": 8,
          "symbol": "circle"
         },
         "mode": "markers",
         "name": "Broadline Distributor",
         "orientation": "v",
         "showlegend": true,
         "type": "scatter",
         "x": [
          "2024-02-01T00:00:00",
          "2024-02-02T00:00:00",
          "2024-02-05T00:00:00",
          "2024-02-06T00:00:00",
          "2024-02-06T00:00:00",
          "2024-02-07T00:00:00",
          "2024-02-08T00:00:00",
          "2024-02-09T00:00:00",
          "2024-02-12T00:00:00"
         ],
         "xaxis": "x",
         "y": [
          1377,
          282,
          171,
          141,
          1299,
          282,
          282,
          227,
          539
         ],
         "yaxis": "y"
        }
       ],
       "layout": {
        "coloraxis": {
         "showscale": false
        },
        "height": 325,
        "hoverlabel": {
         "font": {
          "family": "Rockwell",
          "size": 18
         }
        },
        "legend": {
         "orientation": "h",
         "title": {
          "text": ""
         },
         "tracegroupgap": 0,
         "x": 0.9,
         "xanchor": "right",
         "y": 1.5,
         "yanchor": "bottom"
        },
        "margin": {
         "t": 60
        },
        "showlegend": true,
        "template": {
         "data": {
          "bar": [
           {
            "error_x": {
             "color": "#2a3f5f"
            },
            "error_y": {
             "color": "#2a3f5f"
            },
            "marker": {
             "line": {
              "color": "white",
              "width": 0.5
             },
             "pattern": {
              "fillmode": "overlay",
              "size": 10,
              "solidity": 0.2
             }
            },
            "type": "bar"
           }
          ],
          "barpolar": [
           {
            "marker": {
             "line": {
              "color": "white",
              "width": 0.5
             },
             "pattern": {
              "fillmode": "overlay",
              "size": 10,
              "solidity": 0.2
             }
            },
            "type": "barpolar"
           }
          ],
          "carpet": [
           {
            "aaxis": {
             "endlinecolor": "#2a3f5f",
             "gridcolor": "#C8D4E3",
             "linecolor": "#C8D4E3",
             "minorgridcolor": "#C8D4E3",
             "startlinecolor": "#2a3f5f"
            },
            "baxis": {
             "endlinecolor": "#2a3f5f",
             "gridcolor": "#C8D4E3",
             "linecolor": "#C8D4E3",
             "minorgridcolor": "#C8D4E3",
             "startlinecolor": "#2a3f5f"
            },
            "type": "carpet"
           }
          ],
          "choropleth": [
           {
            "colorbar": {
             "outlinewidth": 0,
             "ticks": ""
            },
            "type": "choropleth"
           }
          ],
          "contour": [
           {
            "colorbar": {
             "outlinewidth": 0,
             "ticks": ""
            },
            "colorscale": [
             [
              0,
              "#0d0887"
             ],
             [
              0.1111111111111111,
              "#46039f"
             ],
             [
              0.2222222222222222,
              "#7201a8"
             ],
             [
              0.3333333333333333,
              "#9c179e"
             ],
             [
              0.4444444444444444,
              "#bd3786"
             ],
             [
              0.5555555555555556,
              "#d8576b"
             ],
             [
              0.6666666666666666,
              "#ed7953"
             ],
             [
              0.7777777777777778,
              "#fb9f3a"
             ],
             [
              0.8888888888888888,
              "#fdca26"
             ],
             [
              1,
              "#f0f921"
             ]
            ],
            "type": "contour"
           }
          ],
          "contourcarpet": [
           {
            "colorbar": {
             "outlinewidth": 0,
             "ticks": ""
            },
            "type": "contourcarpet"
           }
          ],
          "heatmap": [
           {
            "colorbar": {
             "outlinewidth": 0,
             "ticks": ""
            },
            "colorscale": [
             [
              0,
              "#0d0887"
             ],
             [
              0.1111111111111111,
              "#46039f"
             ],
             [
              0.2222222222222222,
              "#7201a8"
             ],
             [
              0.3333333333333333,
              "#9c179e"
             ],
             [
              0.4444444444444444,
              "#bd3786"
             ],
             [
              0.5555555555555556,
              "#d8576b"
             ],
             [
              0.6666666666666666,
              "#ed7953"
             ],
             [
              0.7777777777777778,
              "#fb9f3a"
             ],
             [
              0.8888888888888888,
              "#fdca26"
             ],
             [
              1,
              "#f0f921"
             ]
            ],
            "type": "heatmap"
           }
          ],
          "heatmapgl": [
           {
            "colorbar": {
             "outlinewidth": 0,
             "ticks": ""
            },
            "colorscale": [
             [
              0,
              "#0d0887"
             ],
             [
              0.1111111111111111,
              "#46039f"
             ],
             [
              0.2222222222222222,
              "#7201a8"
             ],
             [
              0.3333333333333333,
              "#9c179e"
             ],
             [
              0.4444444444444444,
              "#bd3786"
             ],
             [
              0.5555555555555556,
              "#d8576b"
             ],
             [
              0.6666666666666666,
              "#ed7953"
             ],
             [
              0.7777777777777778,
              "#fb9f3a"
             ],
             [
              0.8888888888888888,
              "#fdca26"
             ],
             [
              1,
              "#f0f921"
             ]
            ],
            "type": "heatmapgl"
           }
          ],
          "histogram": [
           {
            "marker": {
             "pattern": {
              "fillmode": "overlay",
              "size": 10,
              "solidity": 0.2
             }
            },
            "type": "histogram"
           }
          ],
          "histogram2d": [
           {
            "colorbar": {
             "outlinewidth": 0,
             "ticks": ""
            },
            "colorscale": [
             [
              0,
              "#0d0887"
             ],
             [
              0.1111111111111111,
              "#46039f"
             ],
             [
              0.2222222222222222,
              "#7201a8"
             ],
             [
              0.3333333333333333,
              "#9c179e"
             ],
             [
              0.4444444444444444,
              "#bd3786"
             ],
             [
              0.5555555555555556,
              "#d8576b"
             ],
             [
              0.6666666666666666,
              "#ed7953"
             ],
             [
              0.7777777777777778,
              "#fb9f3a"
             ],
             [
              0.8888888888888888,
              "#fdca26"
             ],
             [
              1,
              "#f0f921"
             ]
            ],
            "type": "histogram2d"
           }
          ],
          "histogram2dcontour": [
           {
            "colorbar": {
             "outlinewidth": 0,
             "ticks": ""
            },
            "colorscale": [
             [
              0,
              "#0d0887"
             ],
             [
              0.1111111111111111,
              "#46039f"
             ],
             [
              0.2222222222222222,
              "#7201a8"
             ],
             [
              0.3333333333333333,
              "#9c179e"
             ],
             [
              0.4444444444444444,
              "#bd3786"
             ],
             [
              0.5555555555555556,
              "#d8576b"
             ],
             [
              0.6666666666666666,
              "#ed7953"
             ],
             [
              0.7777777777777778,
              "#fb9f3a"
             ],
             [
              0.8888888888888888,
              "#fdca26"
             ],
             [
              1,
              "#f0f921"
             ]
            ],
            "type": "histogram2dcontour"
           }
          ],
          "mesh3d": [
           {
            "colorbar": {
             "outlinewidth": 0,
             "ticks": ""
            },
            "type": "mesh3d"
           }
          ],
          "parcoords": [
           {
            "line": {
             "colorbar": {
              "outlinewidth": 0,
              "ticks": ""
             }
            },
            "type": "parcoords"
           }
          ],
          "pie": [
           {
            "automargin": true,
            "type": "pie"
           }
          ],
          "scatter": [
           {
            "fillpattern": {
             "fillmode": "overlay",
             "size": 10,
             "solidity": 0.2
            },
            "type": "scatter"
           }
          ],
          "scatter3d": [
           {
            "line": {
             "colorbar": {
              "outlinewidth": 0,
              "ticks": ""
             }
            },
            "marker": {
             "colorbar": {
              "outlinewidth": 0,
              "ticks": ""
             }
            },
            "type": "scatter3d"
           }
          ],
          "scattercarpet": [
           {
            "marker": {
             "colorbar": {
              "outlinewidth": 0,
              "ticks": ""
             }
            },
            "type": "scattercarpet"
           }
          ],
          "scattergeo": [
           {
            "marker": {
             "colorbar": {
              "outlinewidth": 0,
              "ticks": ""
             }
            },
            "type": "scattergeo"
           }
          ],
          "scattergl": [
           {
            "marker": {
             "colorbar": {
              "outlinewidth": 0,
              "ticks": ""
             }
            },
            "type": "scattergl"
           }
          ],
          "scattermapbox": [
           {
            "marker": {
             "colorbar": {
              "outlinewidth": 0,
              "ticks": ""
             }
            },
            "type": "scattermapbox"
           }
          ],
          "scatterpolar": [
           {
            "marker": {
             "colorbar": {
              "outlinewidth": 0,
              "ticks": ""
             }
            },
            "type": "scatterpolar"
           }
          ],
          "scatterpolargl": [
           {
            "marker": {
             "colorbar": {
              "outlinewidth": 0,
              "ticks": ""
             }
            },
            "type": "scatterpolargl"
           }
          ],
          "scatterternary": [
           {
            "marker": {
             "colorbar": {
              "outlinewidth": 0,
              "ticks": ""
             }
            },
            "type": "scatterternary"
           }
          ],
          "surface": [
           {
            "colorbar": {
             "outlinewidth": 0,
             "ticks": ""
            },
            "colorscale": [
             [
              0,
              "#0d0887"
             ],
             [
              0.1111111111111111,
              "#46039f"
             ],
             [
              0.2222222222222222,
              "#7201a8"
             ],
             [
              0.3333333333333333,
              "#9c179e"
             ],
             [
              0.4444444444444444,
              "#bd3786"
             ],
             [
              0.5555555555555556,
              "#d8576b"
             ],
             [
              0.6666666666666666,
              "#ed7953"
             ],
             [
              0.7777777777777778,
              "#fb9f3a"
             ],
             [
              0.8888888888888888,
              "#fdca26"
             ],
             [
              1,
              "#f0f921"
             ]
            ],
            "type": "surface"
           }
          ],
          "table": [
           {
            "cells": {
             "fill": {
              "color": "#EBF0F8"
             },
             "line": {
              "color": "white"
             }
            },
            "header": {
             "fill": {
              "color": "#C8D4E3"
             },
             "line": {
              "color": "white"
             }
            },
            "type": "table"
           }
          ]
         },
         "layout": {
          "annotationdefaults": {
           "arrowcolor": "#2a3f5f",
           "arrowhead": 0,
           "arrowwidth": 1
          },
          "autotypenumbers": "strict",
          "coloraxis": {
           "colorbar": {
            "outlinewidth": 0,
            "ticks": ""
           }
          },
          "colorscale": {
           "diverging": [
            [
             0,
             "#8e0152"
            ],
            [
             0.1,
             "#c51b7d"
            ],
            [
             0.2,
             "#de77ae"
            ],
            [
             0.3,
             "#f1b6da"
            ],
            [
             0.4,
             "#fde0ef"
            ],
            [
             0.5,
             "#f7f7f7"
            ],
            [
             0.6,
             "#e6f5d0"
            ],
            [
             0.7,
             "#b8e186"
            ],
            [
             0.8,
             "#7fbc41"
            ],
            [
             0.9,
             "#4d9221"
            ],
            [
             1,
             "#276419"
            ]
           ],
           "sequential": [
            [
             0,
             "#0d0887"
            ],
            [
             0.1111111111111111,
             "#46039f"
            ],
            [
             0.2222222222222222,
             "#7201a8"
            ],
            [
             0.3333333333333333,
             "#9c179e"
            ],
            [
             0.4444444444444444,
             "#bd3786"
            ],
            [
             0.5555555555555556,
             "#d8576b"
            ],
            [
             0.6666666666666666,
             "#ed7953"
            ],
            [
             0.7777777777777778,
             "#fb9f3a"
            ],
            [
             0.8888888888888888,
             "#fdca26"
            ],
            [
             1,
             "#f0f921"
            ]
           ],
           "sequentialminus": [
            [
             0,
             "#0d0887"
            ],
            [
             0.1111111111111111,
             "#46039f"
            ],
            [
             0.2222222222222222,
             "#7201a8"
            ],
            [
             0.3333333333333333,
             "#9c179e"
            ],
            [
             0.4444444444444444,
             "#bd3786"
            ],
            [
             0.5555555555555556,
             "#d8576b"
            ],
            [
             0.6666666666666666,
             "#ed7953"
            ],
            [
             0.7777777777777778,
             "#fb9f3a"
            ],
            [
             0.8888888888888888,
             "#fdca26"
            ],
            [
             1,
             "#f0f921"
            ]
           ]
          },
          "colorway": [
           "#636efa",
           "#EF553B",
           "#00cc96",
           "#ab63fa",
           "#FFA15A",
           "#19d3f3",
           "#FF6692",
           "#B6E880",
           "#FF97FF",
           "#FECB52"
          ],
          "font": {
           "color": "#2a3f5f"
          },
          "geo": {
           "bgcolor": "white",
           "lakecolor": "white",
           "landcolor": "white",
           "showlakes": true,
           "showland": true,
           "subunitcolor": "#C8D4E3"
          },
          "hoverlabel": {
           "align": "left"
          },
          "hovermode": "closest",
          "mapbox": {
           "style": "light"
          },
          "paper_bgcolor": "white",
          "plot_bgcolor": "white",
          "polar": {
           "angularaxis": {
            "gridcolor": "#EBF0F8",
            "linecolor": "#EBF0F8",
            "ticks": ""
           },
           "bgcolor": "white",
           "radialaxis": {
            "gridcolor": "#EBF0F8",
            "linecolor": "#EBF0F8",
            "ticks": ""
           }
          },
          "scene": {
           "xaxis": {
            "backgroundcolor": "white",
            "gridcolor": "#DFE8F3",
            "gridwidth": 2,
            "linecolor": "#EBF0F8",
            "showbackground": true,
            "ticks": "",
            "zerolinecolor": "#EBF0F8"
           },
           "yaxis": {
            "backgroundcolor": "white",
            "gridcolor": "#DFE8F3",
            "gridwidth": 2,
            "linecolor": "#EBF0F8",
            "showbackground": true,
            "ticks": "",
            "zerolinecolor": "#EBF0F8"
           },
           "zaxis": {
            "backgroundcolor": "white",
            "gridcolor": "#DFE8F3",
            "gridwidth": 2,
            "linecolor": "#EBF0F8",
            "showbackground": true,
            "ticks": "",
            "zerolinecolor": "#EBF0F8"
           }
          },
          "shapedefaults": {
           "line": {
            "color": "#2a3f5f"
           }
          },
          "ternary": {
           "aaxis": {
            "gridcolor": "#DFE8F3",
            "linecolor": "#A2B1C6",
            "ticks": ""
           },
           "baxis": {
            "gridcolor": "#DFE8F3",
            "linecolor": "#A2B1C6",
            "ticks": ""
           },
           "bgcolor": "white",
           "caxis": {
            "gridcolor": "#DFE8F3",
            "linecolor": "#A2B1C6",
            "ticks": ""
           }
          },
          "title": {
           "x": 0.05
          },
          "xaxis": {
           "automargin": true,
           "gridcolor": "#EBF0F8",
           "linecolor": "#EBF0F8",
           "ticks": "",
           "title": {
            "standoff": 15
           },
           "zerolinecolor": "#EBF0F8",
           "zerolinewidth": 2
          },
          "yaxis": {
           "automargin": true,
           "gridcolor": "#EBF0F8",
           "linecolor": "#EBF0F8",
           "ticks": "",
           "title": {
            "standoff": 15
           },
           "zerolinecolor": "#EBF0F8",
           "zerolinewidth": 2
          }
         }
        },
        "xaxis": {
         "anchor": "y",
         "domain": [
          0,
          1
         ],
         "gridcolor": "gray",
         "showgrid": false,
         "tickfont": {
          "color": "#5A5856",
          "size": 13
         },
         "tickmode": "array",
         "ticktext": [
          "<b>Thu<br>01</b>",
          "<b>Thu<br>01</b>",
          "<b>Thu<br>01</b>",
          "<b>Thu<br>01</b>",
          "<b>Thu<br>01</b>",
          "<b>Thu<br>01</b>",
          "<b>Thu<br>01</b>",
          "<b>Thu<br>01</b>",
          "<b>Thu<br>01</b>",
          "<b>Thu<br>01</b>",
          "<b>Thu<br>01</b>",
          "<b>Thu<br>01</b>",
          "<b>Fri<br>02</b>",
          "<b>Fri<br>02</b>",
          "<b>Fri<br>02</b>",
          "<b>Fri<br>02</b>",
          "<b>Fri<br>02</b>",
          "<b>Fri<br>02</b>",
          "<b>Fri<br>02</b>",
          "<b>Fri<br>02</b>",
          "<b>Mon<br>05</b>",
          "<b>Mon<br>05</b>",
          "<b>Mon<br>05</b>",
          "<b>Mon<br>05</b>",
          "<b>Mon<br>05</b>",
          "<b>Mon<br>05</b>",
          "<b>Mon<br>05</b>",
          "<b>Tue<br>06</b>",
          "<b>Tue<br>06</b>",
          "<b>Tue<br>06</b>",
          "<b>Tue<br>06</b>",
          "<b>Tue<br>06</b>",
          "<b>Tue<br>06</b>",
          "<b>Tue<br>06</b>",
          "<b>Wed<br>07</b>",
          "<b>Wed<br>07</b>",
          "<b>Wed<br>07</b>",
          "<b>Wed<br>07</b>",
          "<b>Wed<br>07</b>",
          "<b>Wed<br>07</b>",
          "<b>Wed<br>07</b>",
          "<b>Wed<br>07</b>",
          "<b>Wed<br>07</b>",
          "<b>Thu<br>08</b>",
          "<b>Thu<br>08</b>",
          "<b>Thu<br>08</b>",
          "<b>Thu<br>08</b>",
          "<b>Thu<br>08</b>",
          "<b>Thu<br>08</b>",
          "<b>Thu<br>08</b>",
          "<b>Thu<br>08</b>",
          "<b>Thu<br>08</b>",
          "<b>Fri<br>09</b>",
          "<b>Fri<br>09</b>",
          "<b>Fri<br>09</b>",
          "<b>Fri<br>09</b>",
          "<b>Fri<br>09</b>",
          "<b>Fri<br>09</b>",
          "<b>Fri<br>09</b>",
          "<b>Fri<br>09</b>",
          "<b>Fri<br>09</b>",
          "<b>Mon<br>12</b>",
          "<b>Mon<br>12</b>",
          "<b>Mon<br>12</b>",
          "<b>Mon<br>12</b>",
          "<b>Mon<br>12</b>",
          "<b>Mon<br>12</b>",
          "<b>Mon<br>12</b>"
         ],
         "tickvals": [
          "2024-02-01T00:00:00",
          "2024-02-01T00:00:00",
          "2024-02-01T00:00:00",
          "2024-02-01T00:00:00",
          "2024-02-01T00:00:00",
          "2024-02-01T00:00:00",
          "2024-02-01T00:00:00",
          "2024-02-01T00:00:00",
          "2024-02-01T00:00:00",
          "2024-02-01T00:00:00",
          "2024-02-01T00:00:00",
          "2024-02-01T00:00:00",
          "2024-02-02T00:00:00",
          "2024-02-02T00:00:00",
          "2024-02-02T00:00:00",
          "2024-02-02T00:00:00",
          "2024-02-02T00:00:00",
          "2024-02-02T00:00:00",
          "2024-02-02T00:00:00",
          "2024-02-02T00:00:00",
          "2024-02-05T00:00:00",
          "2024-02-05T00:00:00",
          "2024-02-05T00:00:00",
          "2024-02-05T00:00:00",
          "2024-02-05T00:00:00",
          "2024-02-05T00:00:00",
          "2024-02-05T00:00:00",
          "2024-02-06T00:00:00",
          "2024-02-06T00:00:00",
          "2024-02-06T00:00:00",
          "2024-02-06T00:00:00",
          "2024-02-06T00:00:00",
          "2024-02-06T00:00:00",
          "2024-02-06T00:00:00",
          "2024-02-07T00:00:00",
          "2024-02-07T00:00:00",
          "2024-02-07T00:00:00",
          "2024-02-07T00:00:00",
          "2024-02-07T00:00:00",
          "2024-02-07T00:00:00",
          "2024-02-07T00:00:00",
          "2024-02-07T00:00:00",
          "2024-02-07T00:00:00",
          "2024-02-08T00:00:00",
          "2024-02-08T00:00:00",
          "2024-02-08T00:00:00",
          "2024-02-08T00:00:00",
          "2024-02-08T00:00:00",
          "2024-02-08T00:00:00",
          "2024-02-08T00:00:00",
          "2024-02-08T00:00:00",
          "2024-02-08T00:00:00",
          "2024-02-09T00:00:00",
          "2024-02-09T00:00:00",
          "2024-02-09T00:00:00",
          "2024-02-09T00:00:00",
          "2024-02-09T00:00:00",
          "2024-02-09T00:00:00",
          "2024-02-09T00:00:00",
          "2024-02-09T00:00:00",
          "2024-02-09T00:00:00",
          "2024-02-12T00:00:00",
          "2024-02-12T00:00:00",
          "2024-02-12T00:00:00",
          "2024-02-12T00:00:00",
          "2024-02-12T00:00:00",
          "2024-02-12T00:00:00",
          "2024-02-12T00:00:00"
         ],
         "title": {
          "font": {
           "color": "#5A5856",
           "size": 25
          },
          "text": "FEBRUARY"
         }
        },
        "yaxis": {
         "anchor": "x",
         "domain": [
          0,
          1
         ],
         "gridcolor": "#B1A999",
         "showgrid": true,
         "showticklabels": true,
         "tickfont": {
          "color": "#5A5856",
          "size": 17
         },
         "tickprefix": "$",
         "tickvals": [
          100,
          1000,
          10000,
          100000,
          1000000
         ],
         "title": {
          "text": "usd"
         },
         "type": "log"
        }
       }
      },
      "text/html": [
       "<div>                            <div id=\"f6ed170c-7215-4074-8969-7d40cd4e9c15\" class=\"plotly-graph-div\" style=\"height:325px; width:100%;\"></div>            <script type=\"text/javascript\">                require([\"plotly\"], function(Plotly) {                    window.PLOTLYENV=window.PLOTLYENV || {};                                    if (document.getElementById(\"f6ed170c-7215-4074-8969-7d40cd4e9c15\")) {                    Plotly.newPlot(                        \"f6ed170c-7215-4074-8969-7d40cd4e9c15\",                        [{\"customdata\":[[\"Online\"],[\"Online\"],[\"Online\"],[\"Online\"],[\"Online\"],[\"Online\"],[\"Online\"],[\"Online\"],[\"Online\"],[\"Online\"]],\"hovertemplate\":\"<b>%{hovertext}</b><br><br>usd=%{y:.2s}<extra></extra>\",\"hovertext\":[\"Amazon\",\"Amazon\",\"Shopify\",\"Amazon\",\"Amazon\",\"Green Rabbit\",\"Shopify\",\"Amazon\",\"Amazon\",\"Amazon\"],\"legendgroup\":\"Online\",\"marker\":{\"color\":\"rgb(106,87,63)\",\"symbol\":\"circle\",\"line\":{\"color\":\"white\",\"width\":1},\"size\":8},\"mode\":\"markers\",\"name\":\"Online\",\"orientation\":\"v\",\"showlegend\":true,\"x\":[\"2024-02-01T00:00:00\",\"2024-02-02T00:00:00\",\"2024-02-02T00:00:00\",\"2024-02-05T00:00:00\",\"2024-02-06T00:00:00\",\"2024-02-06T00:00:00\",\"2024-02-06T00:00:00\",\"2024-02-07T00:00:00\",\"2024-02-08T00:00:00\",\"2024-02-12T00:00:00\"],\"xaxis\":\"x\",\"y\":[111.0,70.0,736.0,282.0,140.0,284.0,376.0,142.0,74.0,70.0],\"yaxis\":\"y\",\"type\":\"scatter\"},{\"customdata\":[[\"Convenience\"],[\"Convenience\"],[\"Convenience\"],[\"Convenience\"],[\"Convenience\"],[\"Convenience\"],[\"Convenience\"],[\"Convenience\"],[\"Convenience\"],[\"Convenience\"],[\"Convenience\"],[\"Convenience\"],[\"Convenience\"],[\"Convenience\"],[\"Convenience\"],[\"Convenience\"],[\"Convenience\"],[\"Convenience\"],[\"Convenience\"],[\"Convenience\"],[\"Convenience\"]],\"hovertemplate\":\"<b>%{hovertext}</b><br><br>usd=%{y:.2s}<extra></extra>\",\"hovertext\":[\"Core-Mark\",\"J Polep\",\"Texas Wholesale\",\"Tribeka Nik\",\"Amcon\",\"Topicz\",\"RC Taylor\",\"Core-Mark\",\"Core-Mark\",\"Farner Bocken\",\"HT Hackney\",\"Amcon\",\"Core-Mark\",\"J Mills\",\"J Polep\",\"Core-Mark\",\"F. McConnell & Sons\",\"Hibbert & McGee\",\"St Joe Distributing\",\"Century Distributors\",\"Core-Mark\"],\"legendgroup\":\"Convenience\",\"marker\":{\"color\":\"rgb(233,81,46)\",\"symbol\":\"circle\",\"line\":{\"color\":\"white\",\"width\":1},\"size\":8},\"mode\":\"markers\",\"name\":\"Convenience\",\"orientation\":\"v\",\"showlegend\":true,\"x\":[\"2024-02-01T00:00:00\",\"2024-02-01T00:00:00\",\"2024-02-01T00:00:00\",\"2024-02-01T00:00:00\",\"2024-02-02T00:00:00\",\"2024-02-02T00:00:00\",\"2024-02-05T00:00:00\",\"2024-02-06T00:00:00\",\"2024-02-07T00:00:00\",\"2024-02-07T00:00:00\",\"2024-02-07T00:00:00\",\"2024-02-08T00:00:00\",\"2024-02-08T00:00:00\",\"2024-02-08T00:00:00\",\"2024-02-08T00:00:00\",\"2024-02-09T00:00:00\",\"2024-02-09T00:00:00\",\"2024-02-09T00:00:00\",\"2024-02-09T00:00:00\",\"2024-02-12T00:00:00\",\"2024-02-12T00:00:00\"],\"xaxis\":\"x\",\"y\":[654.0,2291.0,86.0,165.0,141.0,0.0,171.0,453.0,171.0,710.0,171.0,171.0,141.0,86.0,1364.0,257.0,86.0,141.0,257.0,282.0,86.0],\"yaxis\":\"y\",\"type\":\"scatter\"},{\"customdata\":[[\"Alternate Retail\"],[\"Alternate Retail\"],[\"Alternate Retail\"],[\"Alternate Retail\"],[\"Alternate Retail\"],[\"Alternate Retail\"],[\"Alternate Retail\"],[\"Alternate Retail\"],[\"Alternate Retail\"],[\"Alternate Retail\"],[\"Alternate Retail\"],[\"Alternate Retail\"],[\"Alternate Retail\"]],\"hovertemplate\":\"<b>%{hovertext}</b><br><br>usd=%{y:.2s}<extra></extra>\",\"hovertext\":[\"Kelli's Gift Shop Supplies\",\"Tropical\",\"Vistar Retail\",\"Tropical\",\"Vistar Retail\",\"Tropical\",\"Vistar Retail\",\"Tropical\",\"Tropical\",\"Vistar Retail\",\"Tropical\",\"Vistar Retail\",\"Vistar Retail\"],\"legendgroup\":\"Alternate Retail\",\"marker\":{\"color\":\"rgb(46,70,166)\",\"symbol\":\"circle\",\"line\":{\"color\":\"white\",\"width\":1},\"size\":8},\"mode\":\"markers\",\"name\":\"Alternate Retail\",\"orientation\":\"v\",\"showlegend\":true,\"x\":[\"2024-02-01T00:00:00\",\"2024-02-01T00:00:00\",\"2024-02-01T00:00:00\",\"2024-02-02T00:00:00\",\"2024-02-02T00:00:00\",\"2024-02-05T00:00:00\",\"2024-02-05T00:00:00\",\"2024-02-07T00:00:00\",\"2024-02-08T00:00:00\",\"2024-02-08T00:00:00\",\"2024-02-09T00:00:00\",\"2024-02-09T00:00:00\",\"2024-02-12T00:00:00\"],\"xaxis\":\"x\",\"y\":[7179.0,9133.0,6405.0,4390.0,15852.0,3796.0,17772.0,2342.0,11685.0,2256.0,1974.0,2256.0,6204.0],\"yaxis\":\"y\",\"type\":\"scatter\"},{\"customdata\":[[\"Vending\"],[\"Vending\"],[\"Vending\"],[\"Vending\"],[\"Vending\"],[\"Vending\"],[\"Vending\"],[\"Vending\"],[\"Vending\"],[\"Vending\"],[\"Vending\"],[\"Vending\"]],\"hovertemplate\":\"<b>%{hovertext}</b><br><br>usd=%{y:.2s}<extra></extra>\",\"hovertext\":[\"Sarnow\",\"Vistar\",\"Vistar\",\"Proformance Vend\",\"Vistar\",\"Vistar\",\"Vistar\",\"Vistar\",\"Total Foods\",\"Vistar\",\"Proformance Vend\",\"Vistar\"],\"legendgroup\":\"Vending\",\"marker\":{\"color\":\"rgb(56,149,73)\",\"symbol\":\"circle\",\"line\":{\"color\":\"white\",\"width\":1},\"size\":8},\"mode\":\"markers\",\"name\":\"Vending\",\"orientation\":\"v\",\"showlegend\":true,\"x\":[\"2024-02-01T00:00:00\",\"2024-02-01T00:00:00\",\"2024-02-02T00:00:00\",\"2024-02-05T00:00:00\",\"2024-02-05T00:00:00\",\"2024-02-06T00:00:00\",\"2024-02-07T00:00:00\",\"2024-02-08T00:00:00\",\"2024-02-09T00:00:00\",\"2024-02-09T00:00:00\",\"2024-02-12T00:00:00\",\"2024-02-12T00:00:00\"],\"xaxis\":\"x\",\"y\":[1269.0,8659.0,7730.0,846.0,29664.0,6384.0,171.0,6953.0,564.0,10890.0,141.0,6045.0],\"yaxis\":\"y\",\"type\":\"scatter\"},{\"customdata\":[[\"Grocery\"],[\"Grocery\"],[\"Grocery\"]],\"hovertemplate\":\"<b>%{hovertext}</b><br><br>usd=%{y:.2s}<extra></extra>\",\"hovertext\":[\"UNFI\",\"KeHe\",\"UNFI\"],\"legendgroup\":\"Grocery\",\"marker\":{\"color\":\"rgb(248,184,230)\",\"symbol\":\"circle\",\"line\":{\"color\":\"white\",\"width\":1},\"size\":8},\"mode\":\"markers\",\"name\":\"Grocery\",\"orientation\":\"v\",\"showlegend\":true,\"x\":[\"2024-02-01T00:00:00\",\"2024-02-07T00:00:00\",\"2024-02-07T00:00:00\"],\"xaxis\":\"x\",\"y\":[120.0,3431.0,12986.0],\"yaxis\":\"y\",\"type\":\"scatter\"},{\"customdata\":[[\"Broadline Distributor\"],[\"Broadline Distributor\"],[\"Broadline Distributor\"],[\"Broadline Distributor\"],[\"Broadline Distributor\"],[\"Broadline Distributor\"],[\"Broadline Distributor\"],[\"Broadline Distributor\"],[\"Broadline Distributor\"]],\"hovertemplate\":\"<b>%{hovertext}</b><br><br>usd=%{y:.2s}<extra></extra>\",\"hovertext\":[\"US Foods\",\"US Foods\",\"US Foods\",\"Gordon\",\"US Foods\",\"US Foods\",\"US Foods\",\"US Foods\",\"US Foods\"],\"legendgroup\":\"Broadline Distributor\",\"marker\":{\"color\":\"rgb(233,152,19)\",\"symbol\":\"circle\",\"line\":{\"color\":\"white\",\"width\":1},\"size\":8},\"mode\":\"markers\",\"name\":\"Broadline Distributor\",\"orientation\":\"v\",\"showlegend\":true,\"x\":[\"2024-02-01T00:00:00\",\"2024-02-02T00:00:00\",\"2024-02-05T00:00:00\",\"2024-02-06T00:00:00\",\"2024-02-06T00:00:00\",\"2024-02-07T00:00:00\",\"2024-02-08T00:00:00\",\"2024-02-09T00:00:00\",\"2024-02-12T00:00:00\"],\"xaxis\":\"x\",\"y\":[1377.0,282.0,171.0,141.0,1299.0,282.0,282.0,227.0,539.0],\"yaxis\":\"y\",\"type\":\"scatter\"}],                        {\"template\":{\"data\":{\"barpolar\":[{\"marker\":{\"line\":{\"color\":\"white\",\"width\":0.5},\"pattern\":{\"fillmode\":\"overlay\",\"size\":10,\"solidity\":0.2}},\"type\":\"barpolar\"}],\"bar\":[{\"error_x\":{\"color\":\"#2a3f5f\"},\"error_y\":{\"color\":\"#2a3f5f\"},\"marker\":{\"line\":{\"color\":\"white\",\"width\":0.5},\"pattern\":{\"fillmode\":\"overlay\",\"size\":10,\"solidity\":0.2}},\"type\":\"bar\"}],\"carpet\":[{\"aaxis\":{\"endlinecolor\":\"#2a3f5f\",\"gridcolor\":\"#C8D4E3\",\"linecolor\":\"#C8D4E3\",\"minorgridcolor\":\"#C8D4E3\",\"startlinecolor\":\"#2a3f5f\"},\"baxis\":{\"endlinecolor\":\"#2a3f5f\",\"gridcolor\":\"#C8D4E3\",\"linecolor\":\"#C8D4E3\",\"minorgridcolor\":\"#C8D4E3\",\"startlinecolor\":\"#2a3f5f\"},\"type\":\"carpet\"}],\"choropleth\":[{\"colorbar\":{\"outlinewidth\":0,\"ticks\":\"\"},\"type\":\"choropleth\"}],\"contourcarpet\":[{\"colorbar\":{\"outlinewidth\":0,\"ticks\":\"\"},\"type\":\"contourcarpet\"}],\"contour\":[{\"colorbar\":{\"outlinewidth\":0,\"ticks\":\"\"},\"colorscale\":[[0.0,\"#0d0887\"],[0.1111111111111111,\"#46039f\"],[0.2222222222222222,\"#7201a8\"],[0.3333333333333333,\"#9c179e\"],[0.4444444444444444,\"#bd3786\"],[0.5555555555555556,\"#d8576b\"],[0.6666666666666666,\"#ed7953\"],[0.7777777777777778,\"#fb9f3a\"],[0.8888888888888888,\"#fdca26\"],[1.0,\"#f0f921\"]],\"type\":\"contour\"}],\"heatmapgl\":[{\"colorbar\":{\"outlinewidth\":0,\"ticks\":\"\"},\"colorscale\":[[0.0,\"#0d0887\"],[0.1111111111111111,\"#46039f\"],[0.2222222222222222,\"#7201a8\"],[0.3333333333333333,\"#9c179e\"],[0.4444444444444444,\"#bd3786\"],[0.5555555555555556,\"#d8576b\"],[0.6666666666666666,\"#ed7953\"],[0.7777777777777778,\"#fb9f3a\"],[0.8888888888888888,\"#fdca26\"],[1.0,\"#f0f921\"]],\"type\":\"heatmapgl\"}],\"heatmap\":[{\"colorbar\":{\"outlinewidth\":0,\"ticks\":\"\"},\"colorscale\":[[0.0,\"#0d0887\"],[0.1111111111111111,\"#46039f\"],[0.2222222222222222,\"#7201a8\"],[0.3333333333333333,\"#9c179e\"],[0.4444444444444444,\"#bd3786\"],[0.5555555555555556,\"#d8576b\"],[0.6666666666666666,\"#ed7953\"],[0.7777777777777778,\"#fb9f3a\"],[0.8888888888888888,\"#fdca26\"],[1.0,\"#f0f921\"]],\"type\":\"heatmap\"}],\"histogram2dcontour\":[{\"colorbar\":{\"outlinewidth\":0,\"ticks\":\"\"},\"colorscale\":[[0.0,\"#0d0887\"],[0.1111111111111111,\"#46039f\"],[0.2222222222222222,\"#7201a8\"],[0.3333333333333333,\"#9c179e\"],[0.4444444444444444,\"#bd3786\"],[0.5555555555555556,\"#d8576b\"],[0.6666666666666666,\"#ed7953\"],[0.7777777777777778,\"#fb9f3a\"],[0.8888888888888888,\"#fdca26\"],[1.0,\"#f0f921\"]],\"type\":\"histogram2dcontour\"}],\"histogram2d\":[{\"colorbar\":{\"outlinewidth\":0,\"ticks\":\"\"},\"colorscale\":[[0.0,\"#0d0887\"],[0.1111111111111111,\"#46039f\"],[0.2222222222222222,\"#7201a8\"],[0.3333333333333333,\"#9c179e\"],[0.4444444444444444,\"#bd3786\"],[0.5555555555555556,\"#d8576b\"],[0.6666666666666666,\"#ed7953\"],[0.7777777777777778,\"#fb9f3a\"],[0.8888888888888888,\"#fdca26\"],[1.0,\"#f0f921\"]],\"type\":\"histogram2d\"}],\"histogram\":[{\"marker\":{\"pattern\":{\"fillmode\":\"overlay\",\"size\":10,\"solidity\":0.2}},\"type\":\"histogram\"}],\"mesh3d\":[{\"colorbar\":{\"outlinewidth\":0,\"ticks\":\"\"},\"type\":\"mesh3d\"}],\"parcoords\":[{\"line\":{\"colorbar\":{\"outlinewidth\":0,\"ticks\":\"\"}},\"type\":\"parcoords\"}],\"pie\":[{\"automargin\":true,\"type\":\"pie\"}],\"scatter3d\":[{\"line\":{\"colorbar\":{\"outlinewidth\":0,\"ticks\":\"\"}},\"marker\":{\"colorbar\":{\"outlinewidth\":0,\"ticks\":\"\"}},\"type\":\"scatter3d\"}],\"scattercarpet\":[{\"marker\":{\"colorbar\":{\"outlinewidth\":0,\"ticks\":\"\"}},\"type\":\"scattercarpet\"}],\"scattergeo\":[{\"marker\":{\"colorbar\":{\"outlinewidth\":0,\"ticks\":\"\"}},\"type\":\"scattergeo\"}],\"scattergl\":[{\"marker\":{\"colorbar\":{\"outlinewidth\":0,\"ticks\":\"\"}},\"type\":\"scattergl\"}],\"scattermapbox\":[{\"marker\":{\"colorbar\":{\"outlinewidth\":0,\"ticks\":\"\"}},\"type\":\"scattermapbox\"}],\"scatterpolargl\":[{\"marker\":{\"colorbar\":{\"outlinewidth\":0,\"ticks\":\"\"}},\"type\":\"scatterpolargl\"}],\"scatterpolar\":[{\"marker\":{\"colorbar\":{\"outlinewidth\":0,\"ticks\":\"\"}},\"type\":\"scatterpolar\"}],\"scatter\":[{\"fillpattern\":{\"fillmode\":\"overlay\",\"size\":10,\"solidity\":0.2},\"type\":\"scatter\"}],\"scatterternary\":[{\"marker\":{\"colorbar\":{\"outlinewidth\":0,\"ticks\":\"\"}},\"type\":\"scatterternary\"}],\"surface\":[{\"colorbar\":{\"outlinewidth\":0,\"ticks\":\"\"},\"colorscale\":[[0.0,\"#0d0887\"],[0.1111111111111111,\"#46039f\"],[0.2222222222222222,\"#7201a8\"],[0.3333333333333333,\"#9c179e\"],[0.4444444444444444,\"#bd3786\"],[0.5555555555555556,\"#d8576b\"],[0.6666666666666666,\"#ed7953\"],[0.7777777777777778,\"#fb9f3a\"],[0.8888888888888888,\"#fdca26\"],[1.0,\"#f0f921\"]],\"type\":\"surface\"}],\"table\":[{\"cells\":{\"fill\":{\"color\":\"#EBF0F8\"},\"line\":{\"color\":\"white\"}},\"header\":{\"fill\":{\"color\":\"#C8D4E3\"},\"line\":{\"color\":\"white\"}},\"type\":\"table\"}]},\"layout\":{\"annotationdefaults\":{\"arrowcolor\":\"#2a3f5f\",\"arrowhead\":0,\"arrowwidth\":1},\"autotypenumbers\":\"strict\",\"coloraxis\":{\"colorbar\":{\"outlinewidth\":0,\"ticks\":\"\"}},\"colorscale\":{\"diverging\":[[0,\"#8e0152\"],[0.1,\"#c51b7d\"],[0.2,\"#de77ae\"],[0.3,\"#f1b6da\"],[0.4,\"#fde0ef\"],[0.5,\"#f7f7f7\"],[0.6,\"#e6f5d0\"],[0.7,\"#b8e186\"],[0.8,\"#7fbc41\"],[0.9,\"#4d9221\"],[1,\"#276419\"]],\"sequential\":[[0.0,\"#0d0887\"],[0.1111111111111111,\"#46039f\"],[0.2222222222222222,\"#7201a8\"],[0.3333333333333333,\"#9c179e\"],[0.4444444444444444,\"#bd3786\"],[0.5555555555555556,\"#d8576b\"],[0.6666666666666666,\"#ed7953\"],[0.7777777777777778,\"#fb9f3a\"],[0.8888888888888888,\"#fdca26\"],[1.0,\"#f0f921\"]],\"sequentialminus\":[[0.0,\"#0d0887\"],[0.1111111111111111,\"#46039f\"],[0.2222222222222222,\"#7201a8\"],[0.3333333333333333,\"#9c179e\"],[0.4444444444444444,\"#bd3786\"],[0.5555555555555556,\"#d8576b\"],[0.6666666666666666,\"#ed7953\"],[0.7777777777777778,\"#fb9f3a\"],[0.8888888888888888,\"#fdca26\"],[1.0,\"#f0f921\"]]},\"colorway\":[\"#636efa\",\"#EF553B\",\"#00cc96\",\"#ab63fa\",\"#FFA15A\",\"#19d3f3\",\"#FF6692\",\"#B6E880\",\"#FF97FF\",\"#FECB52\"],\"font\":{\"color\":\"#2a3f5f\"},\"geo\":{\"bgcolor\":\"white\",\"lakecolor\":\"white\",\"landcolor\":\"white\",\"showlakes\":true,\"showland\":true,\"subunitcolor\":\"#C8D4E3\"},\"hoverlabel\":{\"align\":\"left\"},\"hovermode\":\"closest\",\"mapbox\":{\"style\":\"light\"},\"paper_bgcolor\":\"white\",\"plot_bgcolor\":\"white\",\"polar\":{\"angularaxis\":{\"gridcolor\":\"#EBF0F8\",\"linecolor\":\"#EBF0F8\",\"ticks\":\"\"},\"bgcolor\":\"white\",\"radialaxis\":{\"gridcolor\":\"#EBF0F8\",\"linecolor\":\"#EBF0F8\",\"ticks\":\"\"}},\"scene\":{\"xaxis\":{\"backgroundcolor\":\"white\",\"gridcolor\":\"#DFE8F3\",\"gridwidth\":2,\"linecolor\":\"#EBF0F8\",\"showbackground\":true,\"ticks\":\"\",\"zerolinecolor\":\"#EBF0F8\"},\"yaxis\":{\"backgroundcolor\":\"white\",\"gridcolor\":\"#DFE8F3\",\"gridwidth\":2,\"linecolor\":\"#EBF0F8\",\"showbackground\":true,\"ticks\":\"\",\"zerolinecolor\":\"#EBF0F8\"},\"zaxis\":{\"backgroundcolor\":\"white\",\"gridcolor\":\"#DFE8F3\",\"gridwidth\":2,\"linecolor\":\"#EBF0F8\",\"showbackground\":true,\"ticks\":\"\",\"zerolinecolor\":\"#EBF0F8\"}},\"shapedefaults\":{\"line\":{\"color\":\"#2a3f5f\"}},\"ternary\":{\"aaxis\":{\"gridcolor\":\"#DFE8F3\",\"linecolor\":\"#A2B1C6\",\"ticks\":\"\"},\"baxis\":{\"gridcolor\":\"#DFE8F3\",\"linecolor\":\"#A2B1C6\",\"ticks\":\"\"},\"bgcolor\":\"white\",\"caxis\":{\"gridcolor\":\"#DFE8F3\",\"linecolor\":\"#A2B1C6\",\"ticks\":\"\"}},\"title\":{\"x\":0.05},\"xaxis\":{\"automargin\":true,\"gridcolor\":\"#EBF0F8\",\"linecolor\":\"#EBF0F8\",\"ticks\":\"\",\"title\":{\"standoff\":15},\"zerolinecolor\":\"#EBF0F8\",\"zerolinewidth\":2},\"yaxis\":{\"automargin\":true,\"gridcolor\":\"#EBF0F8\",\"linecolor\":\"#EBF0F8\",\"ticks\":\"\",\"title\":{\"standoff\":15},\"zerolinecolor\":\"#EBF0F8\",\"zerolinewidth\":2}}},\"xaxis\":{\"anchor\":\"y\",\"domain\":[0.0,1.0],\"title\":{\"text\":\"FEBRUARY\",\"font\":{\"color\":\"#5A5856\",\"size\":25}},\"tickfont\":{\"color\":\"#5A5856\",\"size\":13},\"showgrid\":false,\"gridcolor\":\"gray\",\"tickmode\":\"array\",\"tickvals\":[\"2024-02-01T00:00:00\",\"2024-02-01T00:00:00\",\"2024-02-01T00:00:00\",\"2024-02-01T00:00:00\",\"2024-02-01T00:00:00\",\"2024-02-01T00:00:00\",\"2024-02-01T00:00:00\",\"2024-02-01T00:00:00\",\"2024-02-01T00:00:00\",\"2024-02-01T00:00:00\",\"2024-02-01T00:00:00\",\"2024-02-01T00:00:00\",\"2024-02-02T00:00:00\",\"2024-02-02T00:00:00\",\"2024-02-02T00:00:00\",\"2024-02-02T00:00:00\",\"2024-02-02T00:00:00\",\"2024-02-02T00:00:00\",\"2024-02-02T00:00:00\",\"2024-02-02T00:00:00\",\"2024-02-05T00:00:00\",\"2024-02-05T00:00:00\",\"2024-02-05T00:00:00\",\"2024-02-05T00:00:00\",\"2024-02-05T00:00:00\",\"2024-02-05T00:00:00\",\"2024-02-05T00:00:00\",\"2024-02-06T00:00:00\",\"2024-02-06T00:00:00\",\"2024-02-06T00:00:00\",\"2024-02-06T00:00:00\",\"2024-02-06T00:00:00\",\"2024-02-06T00:00:00\",\"2024-02-06T00:00:00\",\"2024-02-07T00:00:00\",\"2024-02-07T00:00:00\",\"2024-02-07T00:00:00\",\"2024-02-07T00:00:00\",\"2024-02-07T00:00:00\",\"2024-02-07T00:00:00\",\"2024-02-07T00:00:00\",\"2024-02-07T00:00:00\",\"2024-02-07T00:00:00\",\"2024-02-08T00:00:00\",\"2024-02-08T00:00:00\",\"2024-02-08T00:00:00\",\"2024-02-08T00:00:00\",\"2024-02-08T00:00:00\",\"2024-02-08T00:00:00\",\"2024-02-08T00:00:00\",\"2024-02-08T00:00:00\",\"2024-02-08T00:00:00\",\"2024-02-09T00:00:00\",\"2024-02-09T00:00:00\",\"2024-02-09T00:00:00\",\"2024-02-09T00:00:00\",\"2024-02-09T00:00:00\",\"2024-02-09T00:00:00\",\"2024-02-09T00:00:00\",\"2024-02-09T00:00:00\",\"2024-02-09T00:00:00\",\"2024-02-12T00:00:00\",\"2024-02-12T00:00:00\",\"2024-02-12T00:00:00\",\"2024-02-12T00:00:00\",\"2024-02-12T00:00:00\",\"2024-02-12T00:00:00\",\"2024-02-12T00:00:00\"],\"ticktext\":[\"<b>Thu<br>01</b>\",\"<b>Thu<br>01</b>\",\"<b>Thu<br>01</b>\",\"<b>Thu<br>01</b>\",\"<b>Thu<br>01</b>\",\"<b>Thu<br>01</b>\",\"<b>Thu<br>01</b>\",\"<b>Thu<br>01</b>\",\"<b>Thu<br>01</b>\",\"<b>Thu<br>01</b>\",\"<b>Thu<br>01</b>\",\"<b>Thu<br>01</b>\",\"<b>Fri<br>02</b>\",\"<b>Fri<br>02</b>\",\"<b>Fri<br>02</b>\",\"<b>Fri<br>02</b>\",\"<b>Fri<br>02</b>\",\"<b>Fri<br>02</b>\",\"<b>Fri<br>02</b>\",\"<b>Fri<br>02</b>\",\"<b>Mon<br>05</b>\",\"<b>Mon<br>05</b>\",\"<b>Mon<br>05</b>\",\"<b>Mon<br>05</b>\",\"<b>Mon<br>05</b>\",\"<b>Mon<br>05</b>\",\"<b>Mon<br>05</b>\",\"<b>Tue<br>06</b>\",\"<b>Tue<br>06</b>\",\"<b>Tue<br>06</b>\",\"<b>Tue<br>06</b>\",\"<b>Tue<br>06</b>\",\"<b>Tue<br>06</b>\",\"<b>Tue<br>06</b>\",\"<b>Wed<br>07</b>\",\"<b>Wed<br>07</b>\",\"<b>Wed<br>07</b>\",\"<b>Wed<br>07</b>\",\"<b>Wed<br>07</b>\",\"<b>Wed<br>07</b>\",\"<b>Wed<br>07</b>\",\"<b>Wed<br>07</b>\",\"<b>Wed<br>07</b>\",\"<b>Thu<br>08</b>\",\"<b>Thu<br>08</b>\",\"<b>Thu<br>08</b>\",\"<b>Thu<br>08</b>\",\"<b>Thu<br>08</b>\",\"<b>Thu<br>08</b>\",\"<b>Thu<br>08</b>\",\"<b>Thu<br>08</b>\",\"<b>Thu<br>08</b>\",\"<b>Fri<br>09</b>\",\"<b>Fri<br>09</b>\",\"<b>Fri<br>09</b>\",\"<b>Fri<br>09</b>\",\"<b>Fri<br>09</b>\",\"<b>Fri<br>09</b>\",\"<b>Fri<br>09</b>\",\"<b>Fri<br>09</b>\",\"<b>Fri<br>09</b>\",\"<b>Mon<br>12</b>\",\"<b>Mon<br>12</b>\",\"<b>Mon<br>12</b>\",\"<b>Mon<br>12</b>\",\"<b>Mon<br>12</b>\",\"<b>Mon<br>12</b>\",\"<b>Mon<br>12</b>\"]},\"yaxis\":{\"anchor\":\"x\",\"domain\":[0.0,1.0],\"title\":{\"text\":\"usd\"},\"type\":\"log\",\"tickfont\":{\"color\":\"#5A5856\",\"size\":17},\"showgrid\":true,\"tickprefix\":\"$\",\"gridcolor\":\"#B1A999\",\"tickvals\":[100,1000,10000,100000,1000000],\"showticklabels\":true},\"legend\":{\"title\":{\"text\":\"\"},\"tracegroupgap\":0,\"orientation\":\"h\",\"yanchor\":\"bottom\",\"y\":1.5,\"xanchor\":\"right\",\"x\":0.9},\"margin\":{\"t\":60},\"height\":325,\"coloraxis\":{\"showscale\":false},\"hoverlabel\":{\"font\":{\"size\":18,\"family\":\"Rockwell\"}},\"showlegend\":true},                        {\"responsive\": true}                    ).then(function(){\n",
       "                            \n",
       "var gd = document.getElementById('f6ed170c-7215-4074-8969-7d40cd4e9c15');\n",
       "var x = new MutationObserver(function (mutations, observer) {{\n",
       "        var display = window.getComputedStyle(gd).display;\n",
       "        if (!display || display === 'none') {{\n",
       "            console.log([gd, 'removed!']);\n",
       "            Plotly.purge(gd);\n",
       "            observer.disconnect();\n",
       "        }}\n",
       "}});\n",
       "\n",
       "// Listen for the removal of the full notebook cells\n",
       "var notebookContainer = gd.closest('#notebook-container');\n",
       "if (notebookContainer) {{\n",
       "    x.observe(notebookContainer, {childList: true});\n",
       "}}\n",
       "\n",
       "// Listen for the clearing of the current output cell\n",
       "var outputEl = gd.closest('.output');\n",
       "if (outputEl) {{\n",
       "    x.observe(outputEl, {childList: true});\n",
       "}}\n",
       "\n",
       "                        })                };                });            </script>        </div>"
      ]
     },
     "metadata": {},
     "output_type": "display_data"
    }
   ],
   "source": [
    "# DAILY BY SALE CUSTOMER\n",
    "\n",
    "df = all_sales.groupby([all_sales.date,'parent_customer','market_segment']).usd.sum().reset_index().set_index('date')\n",
    "df = round(df[df.index>'2024-01-31'].sort_index())\n",
    "\n",
    "fig_scatter_all = px.scatter(\n",
    "    df.reset_index(),\n",
    "    x='date',\n",
    "    y='usd',\n",
    "    template = 'plotly_white',\n",
    "    labels={'date':'FEBRUARY'},\n",
    "    height=325,\n",
    "    color='market_segment',\n",
    "    color_discrete_map=market_segment_dict,\n",
    "    # title='February',\n",
    "    log_y=True,\n",
    "    hover_name='parent_customer',\n",
    "    hover_data = {'market_segment':False,\n",
    "                  'usd':':.2s',\n",
    "                  'date':False\n",
    "                  }\n",
    ")\n",
    "\n",
    "# fig_scatter_all.update_traces(hovertemplate =\n",
    "#     '$%{y:.2s}'+\n",
    "#     '<br>%{x:%Y-%m-%d}<br>')\n",
    "\n",
    "fig_scatter_all.update_traces(marker=dict(size=8,line=dict(width=1,color='white')),selector=dict(mode='markers'))\n",
    "\n",
    "fig_scatter_all.update_coloraxes(showscale=False)\n",
    "fig_scatter_all.update_yaxes(showgrid=True,tickprefix='$',gridcolor=\"#B1A999\",tickvals=[100,1000,10000,100000,1000000],tickfont=dict(color='#5A5856', size=17),showticklabels=True)\n",
    "fig_scatter_all.update_xaxes(showgrid=False,gridcolor='gray',tickfont=dict(color='#5A5856', size=13),title_font=dict(color='#5A5856',size=25))\n",
    "fig_scatter_all.update_xaxes(tickmode='array',tickvals = df.index, ticktext=df.index.strftime('<b>%a<br>%d</b>'))\n",
    "fig_scatter_all.update_layout(hoverlabel=dict(font_size=18,font_family=\"Rockwell\"),\n",
    "                            #   title=dict(font=dict(size=22)),\n",
    "                              showlegend=True,\n",
    "                            #   title_x=.02,\n",
    "                            #   title_y=.99,\n",
    "                              legend=dict(orientation='h',\n",
    "                                          yanchor=\"bottom\",\n",
    "                                          y=1.5,\n",
    "                                          xanchor=\"right\",\n",
    "                                          x=.9,\n",
    "                                          title=''))"
   ]
  },
  {
   "cell_type": "code",
   "execution_count": 30,
   "id": "5e1f4419",
   "metadata": {},
   "outputs": [
    {
     "data": {
      "application/vnd.plotly.v1+json": {
       "config": {
        "plotlyServerURL": "https://plot.ly"
       },
       "data": [
        {
         "hovertemplate": "$%{y:.2s}<br>%{x:%Y-%m-%d}<br>",
         "legendgroup": "Alternate Retail",
         "marker": {
          "color": "rgb(46,70,166)",
          "line": {
           "color": "grey",
           "width": 1
          },
          "opacity": 0.7,
          "size": 14,
          "symbol": "circle"
         },
         "mode": "markers",
         "name": "Alternate Retail",
         "orientation": "v",
         "showlegend": true,
         "type": "scatter",
         "x": [
          "2024-02-01T00:00:00",
          "2024-02-02T00:00:00",
          "2024-02-05T00:00:00",
          "2024-02-07T00:00:00",
          "2024-02-08T00:00:00",
          "2024-02-09T00:00:00",
          "2024-02-12T00:00:00"
         ],
         "xaxis": "x",
         "y": [
          22717,
          20242,
          21567,
          2342,
          13941,
          4230,
          6204
         ],
         "yaxis": "y"
        },
        {
         "hovertemplate": "$%{y:.2s}<br>%{x:%Y-%m-%d}<br>",
         "legendgroup": "Broadline Distributor",
         "marker": {
          "color": "rgb(233,152,19)",
          "line": {
           "color": "grey",
           "width": 1
          },
          "opacity": 0.7,
          "size": 14,
          "symbol": "circle"
         },
         "mode": "markers",
         "name": "Broadline Distributor",
         "orientation": "v",
         "showlegend": true,
         "type": "scatter",
         "x": [
          "2024-02-01T00:00:00",
          "2024-02-02T00:00:00",
          "2024-02-05T00:00:00",
          "2024-02-06T00:00:00",
          "2024-02-07T00:00:00",
          "2024-02-08T00:00:00",
          "2024-02-09T00:00:00",
          "2024-02-12T00:00:00"
         ],
         "xaxis": "x",
         "y": [
          1377,
          282,
          171,
          1440,
          282,
          282,
          227,
          539
         ],
         "yaxis": "y"
        },
        {
         "hovertemplate": "$%{y:.2s}<br>%{x:%Y-%m-%d}<br>",
         "legendgroup": "Convenience",
         "marker": {
          "color": "rgb(233,81,46)",
          "line": {
           "color": "grey",
           "width": 1
          },
          "opacity": 0.7,
          "size": 14,
          "symbol": "circle"
         },
         "mode": "markers",
         "name": "Convenience",
         "orientation": "v",
         "showlegend": true,
         "type": "scatter",
         "x": [
          "2024-02-01T00:00:00",
          "2024-02-02T00:00:00",
          "2024-02-05T00:00:00",
          "2024-02-06T00:00:00",
          "2024-02-07T00:00:00",
          "2024-02-08T00:00:00",
          "2024-02-09T00:00:00",
          "2024-02-12T00:00:00"
         ],
         "xaxis": "x",
         "y": [
          3196,
          141,
          171,
          453,
          1052,
          1762,
          740,
          368
         ],
         "yaxis": "y"
        },
        {
         "hovertemplate": "$%{y:.2s}<br>%{x:%Y-%m-%d}<br>",
         "legendgroup": "Grocery",
         "marker": {
          "color": "rgb(248,184,230)",
          "line": {
           "color": "grey",
           "width": 1
          },
          "opacity": 0.7,
          "size": 14,
          "symbol": "circle"
         },
         "mode": "markers",
         "name": "Grocery",
         "orientation": "v",
         "showlegend": true,
         "type": "scatter",
         "x": [
          "2024-02-01T00:00:00",
          "2024-02-07T00:00:00"
         ],
         "xaxis": "x",
         "y": [
          120,
          16418
         ],
         "yaxis": "y"
        },
        {
         "hovertemplate": "$%{y:.2s}<br>%{x:%Y-%m-%d}<br>",
         "legendgroup": "Online",
         "marker": {
          "color": "rgb(106,87,63)",
          "line": {
           "color": "grey",
           "width": 1
          },
          "opacity": 0.7,
          "size": 14,
          "symbol": "circle"
         },
         "mode": "markers",
         "name": "Online",
         "orientation": "v",
         "showlegend": true,
         "type": "scatter",
         "x": [
          "2024-02-01T00:00:00",
          "2024-02-02T00:00:00",
          "2024-02-05T00:00:00",
          "2024-02-06T00:00:00",
          "2024-02-07T00:00:00",
          "2024-02-08T00:00:00",
          "2024-02-12T00:00:00"
         ],
         "xaxis": "x",
         "y": [
          111,
          806,
          282,
          800,
          142,
          74,
          70
         ],
         "yaxis": "y"
        },
        {
         "hovertemplate": "$%{y:.2s}<br>%{x:%Y-%m-%d}<br>",
         "legendgroup": "Vending",
         "marker": {
          "color": "rgb(56,149,73)",
          "line": {
           "color": "grey",
           "width": 1
          },
          "opacity": 0.7,
          "size": 14,
          "symbol": "circle"
         },
         "mode": "markers",
         "name": "Vending",
         "orientation": "v",
         "showlegend": true,
         "type": "scatter",
         "x": [
          "2024-02-01T00:00:00",
          "2024-02-02T00:00:00",
          "2024-02-05T00:00:00",
          "2024-02-06T00:00:00",
          "2024-02-07T00:00:00",
          "2024-02-08T00:00:00",
          "2024-02-09T00:00:00",
          "2024-02-12T00:00:00"
         ],
         "xaxis": "x",
         "y": [
          9928,
          7730,
          30510,
          6384,
          171,
          6953,
          11454,
          6186
         ],
         "yaxis": "y"
        }
       ],
       "layout": {
        "coloraxis": {
         "showscale": false
        },
        "height": 325,
        "hoverlabel": {
         "font": {
          "family": "Rockwell",
          "size": 18
         }
        },
        "legend": {
         "orientation": "h",
         "title": {
          "text": ""
         },
         "tracegroupgap": 0,
         "x": 0.9,
         "xanchor": "right",
         "y": 1.5,
         "yanchor": "bottom"
        },
        "margin": {
         "t": 60
        },
        "showlegend": true,
        "template": {
         "data": {
          "bar": [
           {
            "error_x": {
             "color": "#2a3f5f"
            },
            "error_y": {
             "color": "#2a3f5f"
            },
            "marker": {
             "line": {
              "color": "white",
              "width": 0.5
             },
             "pattern": {
              "fillmode": "overlay",
              "size": 10,
              "solidity": 0.2
             }
            },
            "type": "bar"
           }
          ],
          "barpolar": [
           {
            "marker": {
             "line": {
              "color": "white",
              "width": 0.5
             },
             "pattern": {
              "fillmode": "overlay",
              "size": 10,
              "solidity": 0.2
             }
            },
            "type": "barpolar"
           }
          ],
          "carpet": [
           {
            "aaxis": {
             "endlinecolor": "#2a3f5f",
             "gridcolor": "#C8D4E3",
             "linecolor": "#C8D4E3",
             "minorgridcolor": "#C8D4E3",
             "startlinecolor": "#2a3f5f"
            },
            "baxis": {
             "endlinecolor": "#2a3f5f",
             "gridcolor": "#C8D4E3",
             "linecolor": "#C8D4E3",
             "minorgridcolor": "#C8D4E3",
             "startlinecolor": "#2a3f5f"
            },
            "type": "carpet"
           }
          ],
          "choropleth": [
           {
            "colorbar": {
             "outlinewidth": 0,
             "ticks": ""
            },
            "type": "choropleth"
           }
          ],
          "contour": [
           {
            "colorbar": {
             "outlinewidth": 0,
             "ticks": ""
            },
            "colorscale": [
             [
              0,
              "#0d0887"
             ],
             [
              0.1111111111111111,
              "#46039f"
             ],
             [
              0.2222222222222222,
              "#7201a8"
             ],
             [
              0.3333333333333333,
              "#9c179e"
             ],
             [
              0.4444444444444444,
              "#bd3786"
             ],
             [
              0.5555555555555556,
              "#d8576b"
             ],
             [
              0.6666666666666666,
              "#ed7953"
             ],
             [
              0.7777777777777778,
              "#fb9f3a"
             ],
             [
              0.8888888888888888,
              "#fdca26"
             ],
             [
              1,
              "#f0f921"
             ]
            ],
            "type": "contour"
           }
          ],
          "contourcarpet": [
           {
            "colorbar": {
             "outlinewidth": 0,
             "ticks": ""
            },
            "type": "contourcarpet"
           }
          ],
          "heatmap": [
           {
            "colorbar": {
             "outlinewidth": 0,
             "ticks": ""
            },
            "colorscale": [
             [
              0,
              "#0d0887"
             ],
             [
              0.1111111111111111,
              "#46039f"
             ],
             [
              0.2222222222222222,
              "#7201a8"
             ],
             [
              0.3333333333333333,
              "#9c179e"
             ],
             [
              0.4444444444444444,
              "#bd3786"
             ],
             [
              0.5555555555555556,
              "#d8576b"
             ],
             [
              0.6666666666666666,
              "#ed7953"
             ],
             [
              0.7777777777777778,
              "#fb9f3a"
             ],
             [
              0.8888888888888888,
              "#fdca26"
             ],
             [
              1,
              "#f0f921"
             ]
            ],
            "type": "heatmap"
           }
          ],
          "heatmapgl": [
           {
            "colorbar": {
             "outlinewidth": 0,
             "ticks": ""
            },
            "colorscale": [
             [
              0,
              "#0d0887"
             ],
             [
              0.1111111111111111,
              "#46039f"
             ],
             [
              0.2222222222222222,
              "#7201a8"
             ],
             [
              0.3333333333333333,
              "#9c179e"
             ],
             [
              0.4444444444444444,
              "#bd3786"
             ],
             [
              0.5555555555555556,
              "#d8576b"
             ],
             [
              0.6666666666666666,
              "#ed7953"
             ],
             [
              0.7777777777777778,
              "#fb9f3a"
             ],
             [
              0.8888888888888888,
              "#fdca26"
             ],
             [
              1,
              "#f0f921"
             ]
            ],
            "type": "heatmapgl"
           }
          ],
          "histogram": [
           {
            "marker": {
             "pattern": {
              "fillmode": "overlay",
              "size": 10,
              "solidity": 0.2
             }
            },
            "type": "histogram"
           }
          ],
          "histogram2d": [
           {
            "colorbar": {
             "outlinewidth": 0,
             "ticks": ""
            },
            "colorscale": [
             [
              0,
              "#0d0887"
             ],
             [
              0.1111111111111111,
              "#46039f"
             ],
             [
              0.2222222222222222,
              "#7201a8"
             ],
             [
              0.3333333333333333,
              "#9c179e"
             ],
             [
              0.4444444444444444,
              "#bd3786"
             ],
             [
              0.5555555555555556,
              "#d8576b"
             ],
             [
              0.6666666666666666,
              "#ed7953"
             ],
             [
              0.7777777777777778,
              "#fb9f3a"
             ],
             [
              0.8888888888888888,
              "#fdca26"
             ],
             [
              1,
              "#f0f921"
             ]
            ],
            "type": "histogram2d"
           }
          ],
          "histogram2dcontour": [
           {
            "colorbar": {
             "outlinewidth": 0,
             "ticks": ""
            },
            "colorscale": [
             [
              0,
              "#0d0887"
             ],
             [
              0.1111111111111111,
              "#46039f"
             ],
             [
              0.2222222222222222,
              "#7201a8"
             ],
             [
              0.3333333333333333,
              "#9c179e"
             ],
             [
              0.4444444444444444,
              "#bd3786"
             ],
             [
              0.5555555555555556,
              "#d8576b"
             ],
             [
              0.6666666666666666,
              "#ed7953"
             ],
             [
              0.7777777777777778,
              "#fb9f3a"
             ],
             [
              0.8888888888888888,
              "#fdca26"
             ],
             [
              1,
              "#f0f921"
             ]
            ],
            "type": "histogram2dcontour"
           }
          ],
          "mesh3d": [
           {
            "colorbar": {
             "outlinewidth": 0,
             "ticks": ""
            },
            "type": "mesh3d"
           }
          ],
          "parcoords": [
           {
            "line": {
             "colorbar": {
              "outlinewidth": 0,
              "ticks": ""
             }
            },
            "type": "parcoords"
           }
          ],
          "pie": [
           {
            "automargin": true,
            "type": "pie"
           }
          ],
          "scatter": [
           {
            "fillpattern": {
             "fillmode": "overlay",
             "size": 10,
             "solidity": 0.2
            },
            "type": "scatter"
           }
          ],
          "scatter3d": [
           {
            "line": {
             "colorbar": {
              "outlinewidth": 0,
              "ticks": ""
             }
            },
            "marker": {
             "colorbar": {
              "outlinewidth": 0,
              "ticks": ""
             }
            },
            "type": "scatter3d"
           }
          ],
          "scattercarpet": [
           {
            "marker": {
             "colorbar": {
              "outlinewidth": 0,
              "ticks": ""
             }
            },
            "type": "scattercarpet"
           }
          ],
          "scattergeo": [
           {
            "marker": {
             "colorbar": {
              "outlinewidth": 0,
              "ticks": ""
             }
            },
            "type": "scattergeo"
           }
          ],
          "scattergl": [
           {
            "marker": {
             "colorbar": {
              "outlinewidth": 0,
              "ticks": ""
             }
            },
            "type": "scattergl"
           }
          ],
          "scattermapbox": [
           {
            "marker": {
             "colorbar": {
              "outlinewidth": 0,
              "ticks": ""
             }
            },
            "type": "scattermapbox"
           }
          ],
          "scatterpolar": [
           {
            "marker": {
             "colorbar": {
              "outlinewidth": 0,
              "ticks": ""
             }
            },
            "type": "scatterpolar"
           }
          ],
          "scatterpolargl": [
           {
            "marker": {
             "colorbar": {
              "outlinewidth": 0,
              "ticks": ""
             }
            },
            "type": "scatterpolargl"
           }
          ],
          "scatterternary": [
           {
            "marker": {
             "colorbar": {
              "outlinewidth": 0,
              "ticks": ""
             }
            },
            "type": "scatterternary"
           }
          ],
          "surface": [
           {
            "colorbar": {
             "outlinewidth": 0,
             "ticks": ""
            },
            "colorscale": [
             [
              0,
              "#0d0887"
             ],
             [
              0.1111111111111111,
              "#46039f"
             ],
             [
              0.2222222222222222,
              "#7201a8"
             ],
             [
              0.3333333333333333,
              "#9c179e"
             ],
             [
              0.4444444444444444,
              "#bd3786"
             ],
             [
              0.5555555555555556,
              "#d8576b"
             ],
             [
              0.6666666666666666,
              "#ed7953"
             ],
             [
              0.7777777777777778,
              "#fb9f3a"
             ],
             [
              0.8888888888888888,
              "#fdca26"
             ],
             [
              1,
              "#f0f921"
             ]
            ],
            "type": "surface"
           }
          ],
          "table": [
           {
            "cells": {
             "fill": {
              "color": "#EBF0F8"
             },
             "line": {
              "color": "white"
             }
            },
            "header": {
             "fill": {
              "color": "#C8D4E3"
             },
             "line": {
              "color": "white"
             }
            },
            "type": "table"
           }
          ]
         },
         "layout": {
          "annotationdefaults": {
           "arrowcolor": "#2a3f5f",
           "arrowhead": 0,
           "arrowwidth": 1
          },
          "autotypenumbers": "strict",
          "coloraxis": {
           "colorbar": {
            "outlinewidth": 0,
            "ticks": ""
           }
          },
          "colorscale": {
           "diverging": [
            [
             0,
             "#8e0152"
            ],
            [
             0.1,
             "#c51b7d"
            ],
            [
             0.2,
             "#de77ae"
            ],
            [
             0.3,
             "#f1b6da"
            ],
            [
             0.4,
             "#fde0ef"
            ],
            [
             0.5,
             "#f7f7f7"
            ],
            [
             0.6,
             "#e6f5d0"
            ],
            [
             0.7,
             "#b8e186"
            ],
            [
             0.8,
             "#7fbc41"
            ],
            [
             0.9,
             "#4d9221"
            ],
            [
             1,
             "#276419"
            ]
           ],
           "sequential": [
            [
             0,
             "#0d0887"
            ],
            [
             0.1111111111111111,
             "#46039f"
            ],
            [
             0.2222222222222222,
             "#7201a8"
            ],
            [
             0.3333333333333333,
             "#9c179e"
            ],
            [
             0.4444444444444444,
             "#bd3786"
            ],
            [
             0.5555555555555556,
             "#d8576b"
            ],
            [
             0.6666666666666666,
             "#ed7953"
            ],
            [
             0.7777777777777778,
             "#fb9f3a"
            ],
            [
             0.8888888888888888,
             "#fdca26"
            ],
            [
             1,
             "#f0f921"
            ]
           ],
           "sequentialminus": [
            [
             0,
             "#0d0887"
            ],
            [
             0.1111111111111111,
             "#46039f"
            ],
            [
             0.2222222222222222,
             "#7201a8"
            ],
            [
             0.3333333333333333,
             "#9c179e"
            ],
            [
             0.4444444444444444,
             "#bd3786"
            ],
            [
             0.5555555555555556,
             "#d8576b"
            ],
            [
             0.6666666666666666,
             "#ed7953"
            ],
            [
             0.7777777777777778,
             "#fb9f3a"
            ],
            [
             0.8888888888888888,
             "#fdca26"
            ],
            [
             1,
             "#f0f921"
            ]
           ]
          },
          "colorway": [
           "#636efa",
           "#EF553B",
           "#00cc96",
           "#ab63fa",
           "#FFA15A",
           "#19d3f3",
           "#FF6692",
           "#B6E880",
           "#FF97FF",
           "#FECB52"
          ],
          "font": {
           "color": "#2a3f5f"
          },
          "geo": {
           "bgcolor": "white",
           "lakecolor": "white",
           "landcolor": "white",
           "showlakes": true,
           "showland": true,
           "subunitcolor": "#C8D4E3"
          },
          "hoverlabel": {
           "align": "left"
          },
          "hovermode": "closest",
          "mapbox": {
           "style": "light"
          },
          "paper_bgcolor": "white",
          "plot_bgcolor": "white",
          "polar": {
           "angularaxis": {
            "gridcolor": "#EBF0F8",
            "linecolor": "#EBF0F8",
            "ticks": ""
           },
           "bgcolor": "white",
           "radialaxis": {
            "gridcolor": "#EBF0F8",
            "linecolor": "#EBF0F8",
            "ticks": ""
           }
          },
          "scene": {
           "xaxis": {
            "backgroundcolor": "white",
            "gridcolor": "#DFE8F3",
            "gridwidth": 2,
            "linecolor": "#EBF0F8",
            "showbackground": true,
            "ticks": "",
            "zerolinecolor": "#EBF0F8"
           },
           "yaxis": {
            "backgroundcolor": "white",
            "gridcolor": "#DFE8F3",
            "gridwidth": 2,
            "linecolor": "#EBF0F8",
            "showbackground": true,
            "ticks": "",
            "zerolinecolor": "#EBF0F8"
           },
           "zaxis": {
            "backgroundcolor": "white",
            "gridcolor": "#DFE8F3",
            "gridwidth": 2,
            "linecolor": "#EBF0F8",
            "showbackground": true,
            "ticks": "",
            "zerolinecolor": "#EBF0F8"
           }
          },
          "shapedefaults": {
           "line": {
            "color": "#2a3f5f"
           }
          },
          "ternary": {
           "aaxis": {
            "gridcolor": "#DFE8F3",
            "linecolor": "#A2B1C6",
            "ticks": ""
           },
           "baxis": {
            "gridcolor": "#DFE8F3",
            "linecolor": "#A2B1C6",
            "ticks": ""
           },
           "bgcolor": "white",
           "caxis": {
            "gridcolor": "#DFE8F3",
            "linecolor": "#A2B1C6",
            "ticks": ""
           }
          },
          "title": {
           "x": 0.05
          },
          "xaxis": {
           "automargin": true,
           "gridcolor": "#EBF0F8",
           "linecolor": "#EBF0F8",
           "ticks": "",
           "title": {
            "standoff": 15
           },
           "zerolinecolor": "#EBF0F8",
           "zerolinewidth": 2
          },
          "yaxis": {
           "automargin": true,
           "gridcolor": "#EBF0F8",
           "linecolor": "#EBF0F8",
           "ticks": "",
           "title": {
            "standoff": 15
           },
           "zerolinecolor": "#EBF0F8",
           "zerolinewidth": 2
          }
         }
        },
        "xaxis": {
         "anchor": "y",
         "domain": [
          0,
          1
         ],
         "gridcolor": "gray",
         "showgrid": false,
         "tickfont": {
          "color": "#5A5856",
          "size": 13
         },
         "tickmode": "array",
         "ticktext": [
          "<b>Thu<br>01</b>",
          "<b>Thu<br>01</b>",
          "<b>Thu<br>01</b>",
          "<b>Thu<br>01</b>",
          "<b>Thu<br>01</b>",
          "<b>Thu<br>01</b>",
          "<b>Fri<br>02</b>",
          "<b>Fri<br>02</b>",
          "<b>Fri<br>02</b>",
          "<b>Fri<br>02</b>",
          "<b>Fri<br>02</b>",
          "<b>Mon<br>05</b>",
          "<b>Mon<br>05</b>",
          "<b>Mon<br>05</b>",
          "<b>Mon<br>05</b>",
          "<b>Mon<br>05</b>",
          "<b>Tue<br>06</b>",
          "<b>Tue<br>06</b>",
          "<b>Tue<br>06</b>",
          "<b>Tue<br>06</b>",
          "<b>Wed<br>07</b>",
          "<b>Wed<br>07</b>",
          "<b>Wed<br>07</b>",
          "<b>Wed<br>07</b>",
          "<b>Wed<br>07</b>",
          "<b>Wed<br>07</b>",
          "<b>Thu<br>08</b>",
          "<b>Thu<br>08</b>",
          "<b>Thu<br>08</b>",
          "<b>Thu<br>08</b>",
          "<b>Thu<br>08</b>",
          "<b>Fri<br>09</b>",
          "<b>Fri<br>09</b>",
          "<b>Fri<br>09</b>",
          "<b>Fri<br>09</b>",
          "<b>Mon<br>12</b>",
          "<b>Mon<br>12</b>",
          "<b>Mon<br>12</b>",
          "<b>Mon<br>12</b>",
          "<b>Mon<br>12</b>"
         ],
         "tickvals": [
          "2024-02-01T00:00:00",
          "2024-02-01T00:00:00",
          "2024-02-01T00:00:00",
          "2024-02-01T00:00:00",
          "2024-02-01T00:00:00",
          "2024-02-01T00:00:00",
          "2024-02-02T00:00:00",
          "2024-02-02T00:00:00",
          "2024-02-02T00:00:00",
          "2024-02-02T00:00:00",
          "2024-02-02T00:00:00",
          "2024-02-05T00:00:00",
          "2024-02-05T00:00:00",
          "2024-02-05T00:00:00",
          "2024-02-05T00:00:00",
          "2024-02-05T00:00:00",
          "2024-02-06T00:00:00",
          "2024-02-06T00:00:00",
          "2024-02-06T00:00:00",
          "2024-02-06T00:00:00",
          "2024-02-07T00:00:00",
          "2024-02-07T00:00:00",
          "2024-02-07T00:00:00",
          "2024-02-07T00:00:00",
          "2024-02-07T00:00:00",
          "2024-02-07T00:00:00",
          "2024-02-08T00:00:00",
          "2024-02-08T00:00:00",
          "2024-02-08T00:00:00",
          "2024-02-08T00:00:00",
          "2024-02-08T00:00:00",
          "2024-02-09T00:00:00",
          "2024-02-09T00:00:00",
          "2024-02-09T00:00:00",
          "2024-02-09T00:00:00",
          "2024-02-12T00:00:00",
          "2024-02-12T00:00:00",
          "2024-02-12T00:00:00",
          "2024-02-12T00:00:00",
          "2024-02-12T00:00:00"
         ],
         "title": {
          "font": {
           "color": "#5A5856",
           "size": 25
          },
          "text": "FEBRUARY"
         }
        },
        "yaxis": {
         "anchor": "x",
         "domain": [
          0,
          1
         ],
         "gridcolor": "#B1A999",
         "showgrid": true,
         "showticklabels": true,
         "tickfont": {
          "color": "#5A5856",
          "size": 17
         },
         "tickprefix": "$",
         "tickvals": [
          100,
          1000,
          10000,
          100000,
          1000000
         ],
         "title": {
          "text": ""
         },
         "type": "log"
        }
       }
      },
      "text/html": [
       "<div>                            <div id=\"7a2b9b26-84b3-4fa3-bd0f-89bbb5f5059e\" class=\"plotly-graph-div\" style=\"height:325px; width:100%;\"></div>            <script type=\"text/javascript\">                require([\"plotly\"], function(Plotly) {                    window.PLOTLYENV=window.PLOTLYENV || {};                                    if (document.getElementById(\"7a2b9b26-84b3-4fa3-bd0f-89bbb5f5059e\")) {                    Plotly.newPlot(                        \"7a2b9b26-84b3-4fa3-bd0f-89bbb5f5059e\",                        [{\"hovertemplate\":\"$%{y:.2s}<br>%{x:%Y-%m-%d}<br>\",\"legendgroup\":\"Alternate Retail\",\"marker\":{\"color\":\"rgb(46,70,166)\",\"symbol\":\"circle\",\"line\":{\"color\":\"grey\",\"width\":1},\"opacity\":0.7,\"size\":14},\"mode\":\"markers\",\"name\":\"Alternate Retail\",\"orientation\":\"v\",\"showlegend\":true,\"x\":[\"2024-02-01T00:00:00\",\"2024-02-02T00:00:00\",\"2024-02-05T00:00:00\",\"2024-02-07T00:00:00\",\"2024-02-08T00:00:00\",\"2024-02-09T00:00:00\",\"2024-02-12T00:00:00\"],\"xaxis\":\"x\",\"y\":[22717.0,20242.0,21567.0,2342.0,13941.0,4230.0,6204.0],\"yaxis\":\"y\",\"type\":\"scatter\"},{\"hovertemplate\":\"$%{y:.2s}<br>%{x:%Y-%m-%d}<br>\",\"legendgroup\":\"Broadline Distributor\",\"marker\":{\"color\":\"rgb(233,152,19)\",\"symbol\":\"circle\",\"line\":{\"color\":\"grey\",\"width\":1},\"opacity\":0.7,\"size\":14},\"mode\":\"markers\",\"name\":\"Broadline Distributor\",\"orientation\":\"v\",\"showlegend\":true,\"x\":[\"2024-02-01T00:00:00\",\"2024-02-02T00:00:00\",\"2024-02-05T00:00:00\",\"2024-02-06T00:00:00\",\"2024-02-07T00:00:00\",\"2024-02-08T00:00:00\",\"2024-02-09T00:00:00\",\"2024-02-12T00:00:00\"],\"xaxis\":\"x\",\"y\":[1377.0,282.0,171.0,1440.0,282.0,282.0,227.0,539.0],\"yaxis\":\"y\",\"type\":\"scatter\"},{\"hovertemplate\":\"$%{y:.2s}<br>%{x:%Y-%m-%d}<br>\",\"legendgroup\":\"Convenience\",\"marker\":{\"color\":\"rgb(233,81,46)\",\"symbol\":\"circle\",\"line\":{\"color\":\"grey\",\"width\":1},\"opacity\":0.7,\"size\":14},\"mode\":\"markers\",\"name\":\"Convenience\",\"orientation\":\"v\",\"showlegend\":true,\"x\":[\"2024-02-01T00:00:00\",\"2024-02-02T00:00:00\",\"2024-02-05T00:00:00\",\"2024-02-06T00:00:00\",\"2024-02-07T00:00:00\",\"2024-02-08T00:00:00\",\"2024-02-09T00:00:00\",\"2024-02-12T00:00:00\"],\"xaxis\":\"x\",\"y\":[3196.0,141.0,171.0,453.0,1052.0,1762.0,740.0,368.0],\"yaxis\":\"y\",\"type\":\"scatter\"},{\"hovertemplate\":\"$%{y:.2s}<br>%{x:%Y-%m-%d}<br>\",\"legendgroup\":\"Grocery\",\"marker\":{\"color\":\"rgb(248,184,230)\",\"symbol\":\"circle\",\"line\":{\"color\":\"grey\",\"width\":1},\"opacity\":0.7,\"size\":14},\"mode\":\"markers\",\"name\":\"Grocery\",\"orientation\":\"v\",\"showlegend\":true,\"x\":[\"2024-02-01T00:00:00\",\"2024-02-07T00:00:00\"],\"xaxis\":\"x\",\"y\":[120.0,16418.0],\"yaxis\":\"y\",\"type\":\"scatter\"},{\"hovertemplate\":\"$%{y:.2s}<br>%{x:%Y-%m-%d}<br>\",\"legendgroup\":\"Online\",\"marker\":{\"color\":\"rgb(106,87,63)\",\"symbol\":\"circle\",\"line\":{\"color\":\"grey\",\"width\":1},\"opacity\":0.7,\"size\":14},\"mode\":\"markers\",\"name\":\"Online\",\"orientation\":\"v\",\"showlegend\":true,\"x\":[\"2024-02-01T00:00:00\",\"2024-02-02T00:00:00\",\"2024-02-05T00:00:00\",\"2024-02-06T00:00:00\",\"2024-02-07T00:00:00\",\"2024-02-08T00:00:00\",\"2024-02-12T00:00:00\"],\"xaxis\":\"x\",\"y\":[111.0,806.0,282.0,800.0,142.0,74.0,70.0],\"yaxis\":\"y\",\"type\":\"scatter\"},{\"hovertemplate\":\"$%{y:.2s}<br>%{x:%Y-%m-%d}<br>\",\"legendgroup\":\"Vending\",\"marker\":{\"color\":\"rgb(56,149,73)\",\"symbol\":\"circle\",\"line\":{\"color\":\"grey\",\"width\":1},\"opacity\":0.7,\"size\":14},\"mode\":\"markers\",\"name\":\"Vending\",\"orientation\":\"v\",\"showlegend\":true,\"x\":[\"2024-02-01T00:00:00\",\"2024-02-02T00:00:00\",\"2024-02-05T00:00:00\",\"2024-02-06T00:00:00\",\"2024-02-07T00:00:00\",\"2024-02-08T00:00:00\",\"2024-02-09T00:00:00\",\"2024-02-12T00:00:00\"],\"xaxis\":\"x\",\"y\":[9928.0,7730.0,30510.0,6384.0,171.0,6953.0,11454.0,6186.0],\"yaxis\":\"y\",\"type\":\"scatter\"}],                        {\"template\":{\"data\":{\"barpolar\":[{\"marker\":{\"line\":{\"color\":\"white\",\"width\":0.5},\"pattern\":{\"fillmode\":\"overlay\",\"size\":10,\"solidity\":0.2}},\"type\":\"barpolar\"}],\"bar\":[{\"error_x\":{\"color\":\"#2a3f5f\"},\"error_y\":{\"color\":\"#2a3f5f\"},\"marker\":{\"line\":{\"color\":\"white\",\"width\":0.5},\"pattern\":{\"fillmode\":\"overlay\",\"size\":10,\"solidity\":0.2}},\"type\":\"bar\"}],\"carpet\":[{\"aaxis\":{\"endlinecolor\":\"#2a3f5f\",\"gridcolor\":\"#C8D4E3\",\"linecolor\":\"#C8D4E3\",\"minorgridcolor\":\"#C8D4E3\",\"startlinecolor\":\"#2a3f5f\"},\"baxis\":{\"endlinecolor\":\"#2a3f5f\",\"gridcolor\":\"#C8D4E3\",\"linecolor\":\"#C8D4E3\",\"minorgridcolor\":\"#C8D4E3\",\"startlinecolor\":\"#2a3f5f\"},\"type\":\"carpet\"}],\"choropleth\":[{\"colorbar\":{\"outlinewidth\":0,\"ticks\":\"\"},\"type\":\"choropleth\"}],\"contourcarpet\":[{\"colorbar\":{\"outlinewidth\":0,\"ticks\":\"\"},\"type\":\"contourcarpet\"}],\"contour\":[{\"colorbar\":{\"outlinewidth\":0,\"ticks\":\"\"},\"colorscale\":[[0.0,\"#0d0887\"],[0.1111111111111111,\"#46039f\"],[0.2222222222222222,\"#7201a8\"],[0.3333333333333333,\"#9c179e\"],[0.4444444444444444,\"#bd3786\"],[0.5555555555555556,\"#d8576b\"],[0.6666666666666666,\"#ed7953\"],[0.7777777777777778,\"#fb9f3a\"],[0.8888888888888888,\"#fdca26\"],[1.0,\"#f0f921\"]],\"type\":\"contour\"}],\"heatmapgl\":[{\"colorbar\":{\"outlinewidth\":0,\"ticks\":\"\"},\"colorscale\":[[0.0,\"#0d0887\"],[0.1111111111111111,\"#46039f\"],[0.2222222222222222,\"#7201a8\"],[0.3333333333333333,\"#9c179e\"],[0.4444444444444444,\"#bd3786\"],[0.5555555555555556,\"#d8576b\"],[0.6666666666666666,\"#ed7953\"],[0.7777777777777778,\"#fb9f3a\"],[0.8888888888888888,\"#fdca26\"],[1.0,\"#f0f921\"]],\"type\":\"heatmapgl\"}],\"heatmap\":[{\"colorbar\":{\"outlinewidth\":0,\"ticks\":\"\"},\"colorscale\":[[0.0,\"#0d0887\"],[0.1111111111111111,\"#46039f\"],[0.2222222222222222,\"#7201a8\"],[0.3333333333333333,\"#9c179e\"],[0.4444444444444444,\"#bd3786\"],[0.5555555555555556,\"#d8576b\"],[0.6666666666666666,\"#ed7953\"],[0.7777777777777778,\"#fb9f3a\"],[0.8888888888888888,\"#fdca26\"],[1.0,\"#f0f921\"]],\"type\":\"heatmap\"}],\"histogram2dcontour\":[{\"colorbar\":{\"outlinewidth\":0,\"ticks\":\"\"},\"colorscale\":[[0.0,\"#0d0887\"],[0.1111111111111111,\"#46039f\"],[0.2222222222222222,\"#7201a8\"],[0.3333333333333333,\"#9c179e\"],[0.4444444444444444,\"#bd3786\"],[0.5555555555555556,\"#d8576b\"],[0.6666666666666666,\"#ed7953\"],[0.7777777777777778,\"#fb9f3a\"],[0.8888888888888888,\"#fdca26\"],[1.0,\"#f0f921\"]],\"type\":\"histogram2dcontour\"}],\"histogram2d\":[{\"colorbar\":{\"outlinewidth\":0,\"ticks\":\"\"},\"colorscale\":[[0.0,\"#0d0887\"],[0.1111111111111111,\"#46039f\"],[0.2222222222222222,\"#7201a8\"],[0.3333333333333333,\"#9c179e\"],[0.4444444444444444,\"#bd3786\"],[0.5555555555555556,\"#d8576b\"],[0.6666666666666666,\"#ed7953\"],[0.7777777777777778,\"#fb9f3a\"],[0.8888888888888888,\"#fdca26\"],[1.0,\"#f0f921\"]],\"type\":\"histogram2d\"}],\"histogram\":[{\"marker\":{\"pattern\":{\"fillmode\":\"overlay\",\"size\":10,\"solidity\":0.2}},\"type\":\"histogram\"}],\"mesh3d\":[{\"colorbar\":{\"outlinewidth\":0,\"ticks\":\"\"},\"type\":\"mesh3d\"}],\"parcoords\":[{\"line\":{\"colorbar\":{\"outlinewidth\":0,\"ticks\":\"\"}},\"type\":\"parcoords\"}],\"pie\":[{\"automargin\":true,\"type\":\"pie\"}],\"scatter3d\":[{\"line\":{\"colorbar\":{\"outlinewidth\":0,\"ticks\":\"\"}},\"marker\":{\"colorbar\":{\"outlinewidth\":0,\"ticks\":\"\"}},\"type\":\"scatter3d\"}],\"scattercarpet\":[{\"marker\":{\"colorbar\":{\"outlinewidth\":0,\"ticks\":\"\"}},\"type\":\"scattercarpet\"}],\"scattergeo\":[{\"marker\":{\"colorbar\":{\"outlinewidth\":0,\"ticks\":\"\"}},\"type\":\"scattergeo\"}],\"scattergl\":[{\"marker\":{\"colorbar\":{\"outlinewidth\":0,\"ticks\":\"\"}},\"type\":\"scattergl\"}],\"scattermapbox\":[{\"marker\":{\"colorbar\":{\"outlinewidth\":0,\"ticks\":\"\"}},\"type\":\"scattermapbox\"}],\"scatterpolargl\":[{\"marker\":{\"colorbar\":{\"outlinewidth\":0,\"ticks\":\"\"}},\"type\":\"scatterpolargl\"}],\"scatterpolar\":[{\"marker\":{\"colorbar\":{\"outlinewidth\":0,\"ticks\":\"\"}},\"type\":\"scatterpolar\"}],\"scatter\":[{\"fillpattern\":{\"fillmode\":\"overlay\",\"size\":10,\"solidity\":0.2},\"type\":\"scatter\"}],\"scatterternary\":[{\"marker\":{\"colorbar\":{\"outlinewidth\":0,\"ticks\":\"\"}},\"type\":\"scatterternary\"}],\"surface\":[{\"colorbar\":{\"outlinewidth\":0,\"ticks\":\"\"},\"colorscale\":[[0.0,\"#0d0887\"],[0.1111111111111111,\"#46039f\"],[0.2222222222222222,\"#7201a8\"],[0.3333333333333333,\"#9c179e\"],[0.4444444444444444,\"#bd3786\"],[0.5555555555555556,\"#d8576b\"],[0.6666666666666666,\"#ed7953\"],[0.7777777777777778,\"#fb9f3a\"],[0.8888888888888888,\"#fdca26\"],[1.0,\"#f0f921\"]],\"type\":\"surface\"}],\"table\":[{\"cells\":{\"fill\":{\"color\":\"#EBF0F8\"},\"line\":{\"color\":\"white\"}},\"header\":{\"fill\":{\"color\":\"#C8D4E3\"},\"line\":{\"color\":\"white\"}},\"type\":\"table\"}]},\"layout\":{\"annotationdefaults\":{\"arrowcolor\":\"#2a3f5f\",\"arrowhead\":0,\"arrowwidth\":1},\"autotypenumbers\":\"strict\",\"coloraxis\":{\"colorbar\":{\"outlinewidth\":0,\"ticks\":\"\"}},\"colorscale\":{\"diverging\":[[0,\"#8e0152\"],[0.1,\"#c51b7d\"],[0.2,\"#de77ae\"],[0.3,\"#f1b6da\"],[0.4,\"#fde0ef\"],[0.5,\"#f7f7f7\"],[0.6,\"#e6f5d0\"],[0.7,\"#b8e186\"],[0.8,\"#7fbc41\"],[0.9,\"#4d9221\"],[1,\"#276419\"]],\"sequential\":[[0.0,\"#0d0887\"],[0.1111111111111111,\"#46039f\"],[0.2222222222222222,\"#7201a8\"],[0.3333333333333333,\"#9c179e\"],[0.4444444444444444,\"#bd3786\"],[0.5555555555555556,\"#d8576b\"],[0.6666666666666666,\"#ed7953\"],[0.7777777777777778,\"#fb9f3a\"],[0.8888888888888888,\"#fdca26\"],[1.0,\"#f0f921\"]],\"sequentialminus\":[[0.0,\"#0d0887\"],[0.1111111111111111,\"#46039f\"],[0.2222222222222222,\"#7201a8\"],[0.3333333333333333,\"#9c179e\"],[0.4444444444444444,\"#bd3786\"],[0.5555555555555556,\"#d8576b\"],[0.6666666666666666,\"#ed7953\"],[0.7777777777777778,\"#fb9f3a\"],[0.8888888888888888,\"#fdca26\"],[1.0,\"#f0f921\"]]},\"colorway\":[\"#636efa\",\"#EF553B\",\"#00cc96\",\"#ab63fa\",\"#FFA15A\",\"#19d3f3\",\"#FF6692\",\"#B6E880\",\"#FF97FF\",\"#FECB52\"],\"font\":{\"color\":\"#2a3f5f\"},\"geo\":{\"bgcolor\":\"white\",\"lakecolor\":\"white\",\"landcolor\":\"white\",\"showlakes\":true,\"showland\":true,\"subunitcolor\":\"#C8D4E3\"},\"hoverlabel\":{\"align\":\"left\"},\"hovermode\":\"closest\",\"mapbox\":{\"style\":\"light\"},\"paper_bgcolor\":\"white\",\"plot_bgcolor\":\"white\",\"polar\":{\"angularaxis\":{\"gridcolor\":\"#EBF0F8\",\"linecolor\":\"#EBF0F8\",\"ticks\":\"\"},\"bgcolor\":\"white\",\"radialaxis\":{\"gridcolor\":\"#EBF0F8\",\"linecolor\":\"#EBF0F8\",\"ticks\":\"\"}},\"scene\":{\"xaxis\":{\"backgroundcolor\":\"white\",\"gridcolor\":\"#DFE8F3\",\"gridwidth\":2,\"linecolor\":\"#EBF0F8\",\"showbackground\":true,\"ticks\":\"\",\"zerolinecolor\":\"#EBF0F8\"},\"yaxis\":{\"backgroundcolor\":\"white\",\"gridcolor\":\"#DFE8F3\",\"gridwidth\":2,\"linecolor\":\"#EBF0F8\",\"showbackground\":true,\"ticks\":\"\",\"zerolinecolor\":\"#EBF0F8\"},\"zaxis\":{\"backgroundcolor\":\"white\",\"gridcolor\":\"#DFE8F3\",\"gridwidth\":2,\"linecolor\":\"#EBF0F8\",\"showbackground\":true,\"ticks\":\"\",\"zerolinecolor\":\"#EBF0F8\"}},\"shapedefaults\":{\"line\":{\"color\":\"#2a3f5f\"}},\"ternary\":{\"aaxis\":{\"gridcolor\":\"#DFE8F3\",\"linecolor\":\"#A2B1C6\",\"ticks\":\"\"},\"baxis\":{\"gridcolor\":\"#DFE8F3\",\"linecolor\":\"#A2B1C6\",\"ticks\":\"\"},\"bgcolor\":\"white\",\"caxis\":{\"gridcolor\":\"#DFE8F3\",\"linecolor\":\"#A2B1C6\",\"ticks\":\"\"}},\"title\":{\"x\":0.05},\"xaxis\":{\"automargin\":true,\"gridcolor\":\"#EBF0F8\",\"linecolor\":\"#EBF0F8\",\"ticks\":\"\",\"title\":{\"standoff\":15},\"zerolinecolor\":\"#EBF0F8\",\"zerolinewidth\":2},\"yaxis\":{\"automargin\":true,\"gridcolor\":\"#EBF0F8\",\"linecolor\":\"#EBF0F8\",\"ticks\":\"\",\"title\":{\"standoff\":15},\"zerolinecolor\":\"#EBF0F8\",\"zerolinewidth\":2}}},\"xaxis\":{\"anchor\":\"y\",\"domain\":[0.0,1.0],\"title\":{\"text\":\"FEBRUARY\",\"font\":{\"color\":\"#5A5856\",\"size\":25}},\"tickfont\":{\"color\":\"#5A5856\",\"size\":13},\"showgrid\":false,\"gridcolor\":\"gray\",\"tickmode\":\"array\",\"tickvals\":[\"2024-02-01T00:00:00\",\"2024-02-01T00:00:00\",\"2024-02-01T00:00:00\",\"2024-02-01T00:00:00\",\"2024-02-01T00:00:00\",\"2024-02-01T00:00:00\",\"2024-02-02T00:00:00\",\"2024-02-02T00:00:00\",\"2024-02-02T00:00:00\",\"2024-02-02T00:00:00\",\"2024-02-02T00:00:00\",\"2024-02-05T00:00:00\",\"2024-02-05T00:00:00\",\"2024-02-05T00:00:00\",\"2024-02-05T00:00:00\",\"2024-02-05T00:00:00\",\"2024-02-06T00:00:00\",\"2024-02-06T00:00:00\",\"2024-02-06T00:00:00\",\"2024-02-06T00:00:00\",\"2024-02-07T00:00:00\",\"2024-02-07T00:00:00\",\"2024-02-07T00:00:00\",\"2024-02-07T00:00:00\",\"2024-02-07T00:00:00\",\"2024-02-07T00:00:00\",\"2024-02-08T00:00:00\",\"2024-02-08T00:00:00\",\"2024-02-08T00:00:00\",\"2024-02-08T00:00:00\",\"2024-02-08T00:00:00\",\"2024-02-09T00:00:00\",\"2024-02-09T00:00:00\",\"2024-02-09T00:00:00\",\"2024-02-09T00:00:00\",\"2024-02-12T00:00:00\",\"2024-02-12T00:00:00\",\"2024-02-12T00:00:00\",\"2024-02-12T00:00:00\",\"2024-02-12T00:00:00\"],\"ticktext\":[\"<b>Thu<br>01</b>\",\"<b>Thu<br>01</b>\",\"<b>Thu<br>01</b>\",\"<b>Thu<br>01</b>\",\"<b>Thu<br>01</b>\",\"<b>Thu<br>01</b>\",\"<b>Fri<br>02</b>\",\"<b>Fri<br>02</b>\",\"<b>Fri<br>02</b>\",\"<b>Fri<br>02</b>\",\"<b>Fri<br>02</b>\",\"<b>Mon<br>05</b>\",\"<b>Mon<br>05</b>\",\"<b>Mon<br>05</b>\",\"<b>Mon<br>05</b>\",\"<b>Mon<br>05</b>\",\"<b>Tue<br>06</b>\",\"<b>Tue<br>06</b>\",\"<b>Tue<br>06</b>\",\"<b>Tue<br>06</b>\",\"<b>Wed<br>07</b>\",\"<b>Wed<br>07</b>\",\"<b>Wed<br>07</b>\",\"<b>Wed<br>07</b>\",\"<b>Wed<br>07</b>\",\"<b>Wed<br>07</b>\",\"<b>Thu<br>08</b>\",\"<b>Thu<br>08</b>\",\"<b>Thu<br>08</b>\",\"<b>Thu<br>08</b>\",\"<b>Thu<br>08</b>\",\"<b>Fri<br>09</b>\",\"<b>Fri<br>09</b>\",\"<b>Fri<br>09</b>\",\"<b>Fri<br>09</b>\",\"<b>Mon<br>12</b>\",\"<b>Mon<br>12</b>\",\"<b>Mon<br>12</b>\",\"<b>Mon<br>12</b>\",\"<b>Mon<br>12</b>\"]},\"yaxis\":{\"anchor\":\"x\",\"domain\":[0.0,1.0],\"title\":{\"text\":\"\"},\"type\":\"log\",\"tickfont\":{\"color\":\"#5A5856\",\"size\":17},\"showgrid\":true,\"tickprefix\":\"$\",\"gridcolor\":\"#B1A999\",\"tickvals\":[100,1000,10000,100000,1000000],\"showticklabels\":true},\"legend\":{\"title\":{\"text\":\"\"},\"tracegroupgap\":0,\"orientation\":\"h\",\"yanchor\":\"bottom\",\"y\":1.5,\"xanchor\":\"right\",\"x\":0.9},\"margin\":{\"t\":60},\"height\":325,\"coloraxis\":{\"showscale\":false},\"hoverlabel\":{\"font\":{\"size\":18,\"family\":\"Rockwell\"}},\"showlegend\":true},                        {\"responsive\": true}                    ).then(function(){\n",
       "                            \n",
       "var gd = document.getElementById('7a2b9b26-84b3-4fa3-bd0f-89bbb5f5059e');\n",
       "var x = new MutationObserver(function (mutations, observer) {{\n",
       "        var display = window.getComputedStyle(gd).display;\n",
       "        if (!display || display === 'none') {{\n",
       "            console.log([gd, 'removed!']);\n",
       "            Plotly.purge(gd);\n",
       "            observer.disconnect();\n",
       "        }}\n",
       "}});\n",
       "\n",
       "// Listen for the removal of the full notebook cells\n",
       "var notebookContainer = gd.closest('#notebook-container');\n",
       "if (notebookContainer) {{\n",
       "    x.observe(notebookContainer, {childList: true});\n",
       "}}\n",
       "\n",
       "// Listen for the clearing of the current output cell\n",
       "var outputEl = gd.closest('.output');\n",
       "if (outputEl) {{\n",
       "    x.observe(outputEl, {childList: true});\n",
       "}}\n",
       "\n",
       "                        })                };                });            </script>        </div>"
      ]
     },
     "metadata": {},
     "output_type": "display_data"
    }
   ],
   "source": [
    "# DAILY BY MARKET SEGMENT\n",
    "\n",
    "df = all_sales.groupby([all_sales.date,'market_segment']).usd.sum().reset_index().set_index('date')\n",
    "df = round(df[df.index>'2024-01-31'].sort_index())\n",
    "\n",
    "fig_scatter_all = px.scatter(\n",
    "    df,\n",
    "    y='usd',\n",
    "    template = 'plotly_white',\n",
    "    labels={'date':'FEBRUARY',\n",
    "            'usd':''},\n",
    "    height=325,\n",
    "    color='market_segment',\n",
    "    color_discrete_map=market_segment_dict,\n",
    "    # title='February',\n",
    "    log_y=True\n",
    ")\n",
    "\n",
    "fig_scatter_all.update_traces(hovertemplate = \n",
    "    '$%{y:.2s}'+\n",
    "    '<br>%{x:%Y-%m-%d}<br>')\n",
    "\n",
    "fig_scatter_all.update_traces(marker=dict(size=14,opacity=.7,line=dict(width=1,color='grey')),selector=dict(mode='markers'))\n",
    "\n",
    "fig_scatter_all.update_coloraxes(showscale=False)\n",
    "fig_scatter_all.update_yaxes(showgrid=True,tickprefix='$',gridcolor=\"#B1A999\",tickvals=[100,1000,10000,100000,1000000],tickfont=dict(color='#5A5856', size=17),showticklabels=True)\n",
    "fig_scatter_all.update_xaxes(showgrid=False,gridcolor='gray',tickfont=dict(color='#5A5856', size=13),title_font=dict(color='#5A5856',size=25))\n",
    "fig_scatter_all.update_xaxes(tickmode='array',tickvals = df.index, ticktext=df.index.strftime('<b>%a<br>%d</b>'))\n",
    "fig_scatter_all.update_layout(hoverlabel=dict(font_size=18,font_family=\"Rockwell\"),\n",
    "                            #   title=dict(font=dict(size=22)),\n",
    "                              showlegend=True,\n",
    "                            #   title_x=.02,\n",
    "                            #   title_y=.99,\n",
    "                              legend=dict(orientation='h',\n",
    "                                          yanchor=\"bottom\",\n",
    "                                          y=1.5,\n",
    "                                          xanchor=\"right\",\n",
    "                                          x=.9,\n",
    "                                          title=''))"
   ]
  },
  {
   "cell_type": "code",
   "execution_count": 28,
   "id": "ededf945",
   "metadata": {},
   "outputs": [
    {
     "data": {
      "application/vnd.plotly.v1+json": {
       "config": {
        "plotlyServerURL": "https://plot.ly"
       },
       "data": [
        {
         "hovertemplate": "$%{y:.2s}<br>%{x:%Y-%m-%d}<br>",
         "legendgroup": "dot",
         "marker": {
          "color": "rgb(25, 118, 210)",
          "line": {
           "color": "white",
           "width": 1
          },
          "opacity": 0.7,
          "size": 25,
          "symbol": "circle"
         },
         "mode": "markers",
         "name": "dot",
         "orientation": "v",
         "showlegend": true,
         "type": "scatter",
         "x": [
          "2024-02-01T00:00:00",
          "2024-02-02T00:00:00",
          "2024-02-05T00:00:00",
          "2024-02-06T00:00:00",
          "2024-02-07T00:00:00",
          "2024-02-08T00:00:00",
          "2024-02-09T00:00:00",
          "2024-02-12T00:00:00"
         ],
         "xaxis": "x",
         "y": [
          37218,
          28395,
          52419,
          8562,
          3846,
          22938,
          16650,
          13296
         ],
         "yaxis": "y"
        },
        {
         "hovertemplate": "$%{y:.2s}<br>%{x:%Y-%m-%d}<br>",
         "legendgroup": "unl",
         "marker": {
          "color": "rgb(239, 83, 80)",
          "line": {
           "color": "white",
           "width": 1
          },
          "opacity": 0.7,
          "size": 25,
          "symbol": "circle"
         },
         "mode": "markers",
         "name": "unl",
         "orientation": "v",
         "showlegend": true,
         "type": "scatter",
         "x": [
          "2024-02-01T00:00:00",
          "2024-02-02T00:00:00",
          "2024-02-05T00:00:00",
          "2024-02-06T00:00:00",
          "2024-02-07T00:00:00",
          "2024-02-08T00:00:00",
          "2024-02-12T00:00:00"
         ],
         "xaxis": "x",
         "y": [
          231,
          806,
          282,
          516,
          16560,
          74,
          70
         ],
         "yaxis": "y"
        }
       ],
       "layout": {
        "coloraxis": {
         "showscale": false
        },
        "height": 325,
        "hoverlabel": {
         "font": {
          "family": "Rockwell",
          "size": 18
         }
        },
        "legend": {
         "orientation": "h",
         "title": {
          "text": ""
         },
         "tracegroupgap": 0,
         "x": 0.5,
         "xanchor": "right",
         "y": 1.5,
         "yanchor": "bottom"
        },
        "margin": {
         "t": 60
        },
        "showlegend": true,
        "template": {
         "data": {
          "bar": [
           {
            "error_x": {
             "color": "#2a3f5f"
            },
            "error_y": {
             "color": "#2a3f5f"
            },
            "marker": {
             "line": {
              "color": "white",
              "width": 0.5
             },
             "pattern": {
              "fillmode": "overlay",
              "size": 10,
              "solidity": 0.2
             }
            },
            "type": "bar"
           }
          ],
          "barpolar": [
           {
            "marker": {
             "line": {
              "color": "white",
              "width": 0.5
             },
             "pattern": {
              "fillmode": "overlay",
              "size": 10,
              "solidity": 0.2
             }
            },
            "type": "barpolar"
           }
          ],
          "carpet": [
           {
            "aaxis": {
             "endlinecolor": "#2a3f5f",
             "gridcolor": "#C8D4E3",
             "linecolor": "#C8D4E3",
             "minorgridcolor": "#C8D4E3",
             "startlinecolor": "#2a3f5f"
            },
            "baxis": {
             "endlinecolor": "#2a3f5f",
             "gridcolor": "#C8D4E3",
             "linecolor": "#C8D4E3",
             "minorgridcolor": "#C8D4E3",
             "startlinecolor": "#2a3f5f"
            },
            "type": "carpet"
           }
          ],
          "choropleth": [
           {
            "colorbar": {
             "outlinewidth": 0,
             "ticks": ""
            },
            "type": "choropleth"
           }
          ],
          "contour": [
           {
            "colorbar": {
             "outlinewidth": 0,
             "ticks": ""
            },
            "colorscale": [
             [
              0,
              "#0d0887"
             ],
             [
              0.1111111111111111,
              "#46039f"
             ],
             [
              0.2222222222222222,
              "#7201a8"
             ],
             [
              0.3333333333333333,
              "#9c179e"
             ],
             [
              0.4444444444444444,
              "#bd3786"
             ],
             [
              0.5555555555555556,
              "#d8576b"
             ],
             [
              0.6666666666666666,
              "#ed7953"
             ],
             [
              0.7777777777777778,
              "#fb9f3a"
             ],
             [
              0.8888888888888888,
              "#fdca26"
             ],
             [
              1,
              "#f0f921"
             ]
            ],
            "type": "contour"
           }
          ],
          "contourcarpet": [
           {
            "colorbar": {
             "outlinewidth": 0,
             "ticks": ""
            },
            "type": "contourcarpet"
           }
          ],
          "heatmap": [
           {
            "colorbar": {
             "outlinewidth": 0,
             "ticks": ""
            },
            "colorscale": [
             [
              0,
              "#0d0887"
             ],
             [
              0.1111111111111111,
              "#46039f"
             ],
             [
              0.2222222222222222,
              "#7201a8"
             ],
             [
              0.3333333333333333,
              "#9c179e"
             ],
             [
              0.4444444444444444,
              "#bd3786"
             ],
             [
              0.5555555555555556,
              "#d8576b"
             ],
             [
              0.6666666666666666,
              "#ed7953"
             ],
             [
              0.7777777777777778,
              "#fb9f3a"
             ],
             [
              0.8888888888888888,
              "#fdca26"
             ],
             [
              1,
              "#f0f921"
             ]
            ],
            "type": "heatmap"
           }
          ],
          "heatmapgl": [
           {
            "colorbar": {
             "outlinewidth": 0,
             "ticks": ""
            },
            "colorscale": [
             [
              0,
              "#0d0887"
             ],
             [
              0.1111111111111111,
              "#46039f"
             ],
             [
              0.2222222222222222,
              "#7201a8"
             ],
             [
              0.3333333333333333,
              "#9c179e"
             ],
             [
              0.4444444444444444,
              "#bd3786"
             ],
             [
              0.5555555555555556,
              "#d8576b"
             ],
             [
              0.6666666666666666,
              "#ed7953"
             ],
             [
              0.7777777777777778,
              "#fb9f3a"
             ],
             [
              0.8888888888888888,
              "#fdca26"
             ],
             [
              1,
              "#f0f921"
             ]
            ],
            "type": "heatmapgl"
           }
          ],
          "histogram": [
           {
            "marker": {
             "pattern": {
              "fillmode": "overlay",
              "size": 10,
              "solidity": 0.2
             }
            },
            "type": "histogram"
           }
          ],
          "histogram2d": [
           {
            "colorbar": {
             "outlinewidth": 0,
             "ticks": ""
            },
            "colorscale": [
             [
              0,
              "#0d0887"
             ],
             [
              0.1111111111111111,
              "#46039f"
             ],
             [
              0.2222222222222222,
              "#7201a8"
             ],
             [
              0.3333333333333333,
              "#9c179e"
             ],
             [
              0.4444444444444444,
              "#bd3786"
             ],
             [
              0.5555555555555556,
              "#d8576b"
             ],
             [
              0.6666666666666666,
              "#ed7953"
             ],
             [
              0.7777777777777778,
              "#fb9f3a"
             ],
             [
              0.8888888888888888,
              "#fdca26"
             ],
             [
              1,
              "#f0f921"
             ]
            ],
            "type": "histogram2d"
           }
          ],
          "histogram2dcontour": [
           {
            "colorbar": {
             "outlinewidth": 0,
             "ticks": ""
            },
            "colorscale": [
             [
              0,
              "#0d0887"
             ],
             [
              0.1111111111111111,
              "#46039f"
             ],
             [
              0.2222222222222222,
              "#7201a8"
             ],
             [
              0.3333333333333333,
              "#9c179e"
             ],
             [
              0.4444444444444444,
              "#bd3786"
             ],
             [
              0.5555555555555556,
              "#d8576b"
             ],
             [
              0.6666666666666666,
              "#ed7953"
             ],
             [
              0.7777777777777778,
              "#fb9f3a"
             ],
             [
              0.8888888888888888,
              "#fdca26"
             ],
             [
              1,
              "#f0f921"
             ]
            ],
            "type": "histogram2dcontour"
           }
          ],
          "mesh3d": [
           {
            "colorbar": {
             "outlinewidth": 0,
             "ticks": ""
            },
            "type": "mesh3d"
           }
          ],
          "parcoords": [
           {
            "line": {
             "colorbar": {
              "outlinewidth": 0,
              "ticks": ""
             }
            },
            "type": "parcoords"
           }
          ],
          "pie": [
           {
            "automargin": true,
            "type": "pie"
           }
          ],
          "scatter": [
           {
            "fillpattern": {
             "fillmode": "overlay",
             "size": 10,
             "solidity": 0.2
            },
            "type": "scatter"
           }
          ],
          "scatter3d": [
           {
            "line": {
             "colorbar": {
              "outlinewidth": 0,
              "ticks": ""
             }
            },
            "marker": {
             "colorbar": {
              "outlinewidth": 0,
              "ticks": ""
             }
            },
            "type": "scatter3d"
           }
          ],
          "scattercarpet": [
           {
            "marker": {
             "colorbar": {
              "outlinewidth": 0,
              "ticks": ""
             }
            },
            "type": "scattercarpet"
           }
          ],
          "scattergeo": [
           {
            "marker": {
             "colorbar": {
              "outlinewidth": 0,
              "ticks": ""
             }
            },
            "type": "scattergeo"
           }
          ],
          "scattergl": [
           {
            "marker": {
             "colorbar": {
              "outlinewidth": 0,
              "ticks": ""
             }
            },
            "type": "scattergl"
           }
          ],
          "scattermapbox": [
           {
            "marker": {
             "colorbar": {
              "outlinewidth": 0,
              "ticks": ""
             }
            },
            "type": "scattermapbox"
           }
          ],
          "scatterpolar": [
           {
            "marker": {
             "colorbar": {
              "outlinewidth": 0,
              "ticks": ""
             }
            },
            "type": "scatterpolar"
           }
          ],
          "scatterpolargl": [
           {
            "marker": {
             "colorbar": {
              "outlinewidth": 0,
              "ticks": ""
             }
            },
            "type": "scatterpolargl"
           }
          ],
          "scatterternary": [
           {
            "marker": {
             "colorbar": {
              "outlinewidth": 0,
              "ticks": ""
             }
            },
            "type": "scatterternary"
           }
          ],
          "surface": [
           {
            "colorbar": {
             "outlinewidth": 0,
             "ticks": ""
            },
            "colorscale": [
             [
              0,
              "#0d0887"
             ],
             [
              0.1111111111111111,
              "#46039f"
             ],
             [
              0.2222222222222222,
              "#7201a8"
             ],
             [
              0.3333333333333333,
              "#9c179e"
             ],
             [
              0.4444444444444444,
              "#bd3786"
             ],
             [
              0.5555555555555556,
              "#d8576b"
             ],
             [
              0.6666666666666666,
              "#ed7953"
             ],
             [
              0.7777777777777778,
              "#fb9f3a"
             ],
             [
              0.8888888888888888,
              "#fdca26"
             ],
             [
              1,
              "#f0f921"
             ]
            ],
            "type": "surface"
           }
          ],
          "table": [
           {
            "cells": {
             "fill": {
              "color": "#EBF0F8"
             },
             "line": {
              "color": "white"
             }
            },
            "header": {
             "fill": {
              "color": "#C8D4E3"
             },
             "line": {
              "color": "white"
             }
            },
            "type": "table"
           }
          ]
         },
         "layout": {
          "annotationdefaults": {
           "arrowcolor": "#2a3f5f",
           "arrowhead": 0,
           "arrowwidth": 1
          },
          "autotypenumbers": "strict",
          "coloraxis": {
           "colorbar": {
            "outlinewidth": 0,
            "ticks": ""
           }
          },
          "colorscale": {
           "diverging": [
            [
             0,
             "#8e0152"
            ],
            [
             0.1,
             "#c51b7d"
            ],
            [
             0.2,
             "#de77ae"
            ],
            [
             0.3,
             "#f1b6da"
            ],
            [
             0.4,
             "#fde0ef"
            ],
            [
             0.5,
             "#f7f7f7"
            ],
            [
             0.6,
             "#e6f5d0"
            ],
            [
             0.7,
             "#b8e186"
            ],
            [
             0.8,
             "#7fbc41"
            ],
            [
             0.9,
             "#4d9221"
            ],
            [
             1,
             "#276419"
            ]
           ],
           "sequential": [
            [
             0,
             "#0d0887"
            ],
            [
             0.1111111111111111,
             "#46039f"
            ],
            [
             0.2222222222222222,
             "#7201a8"
            ],
            [
             0.3333333333333333,
             "#9c179e"
            ],
            [
             0.4444444444444444,
             "#bd3786"
            ],
            [
             0.5555555555555556,
             "#d8576b"
            ],
            [
             0.6666666666666666,
             "#ed7953"
            ],
            [
             0.7777777777777778,
             "#fb9f3a"
            ],
            [
             0.8888888888888888,
             "#fdca26"
            ],
            [
             1,
             "#f0f921"
            ]
           ],
           "sequentialminus": [
            [
             0,
             "#0d0887"
            ],
            [
             0.1111111111111111,
             "#46039f"
            ],
            [
             0.2222222222222222,
             "#7201a8"
            ],
            [
             0.3333333333333333,
             "#9c179e"
            ],
            [
             0.4444444444444444,
             "#bd3786"
            ],
            [
             0.5555555555555556,
             "#d8576b"
            ],
            [
             0.6666666666666666,
             "#ed7953"
            ],
            [
             0.7777777777777778,
             "#fb9f3a"
            ],
            [
             0.8888888888888888,
             "#fdca26"
            ],
            [
             1,
             "#f0f921"
            ]
           ]
          },
          "colorway": [
           "#636efa",
           "#EF553B",
           "#00cc96",
           "#ab63fa",
           "#FFA15A",
           "#19d3f3",
           "#FF6692",
           "#B6E880",
           "#FF97FF",
           "#FECB52"
          ],
          "font": {
           "color": "#2a3f5f"
          },
          "geo": {
           "bgcolor": "white",
           "lakecolor": "white",
           "landcolor": "white",
           "showlakes": true,
           "showland": true,
           "subunitcolor": "#C8D4E3"
          },
          "hoverlabel": {
           "align": "left"
          },
          "hovermode": "closest",
          "mapbox": {
           "style": "light"
          },
          "paper_bgcolor": "white",
          "plot_bgcolor": "white",
          "polar": {
           "angularaxis": {
            "gridcolor": "#EBF0F8",
            "linecolor": "#EBF0F8",
            "ticks": ""
           },
           "bgcolor": "white",
           "radialaxis": {
            "gridcolor": "#EBF0F8",
            "linecolor": "#EBF0F8",
            "ticks": ""
           }
          },
          "scene": {
           "xaxis": {
            "backgroundcolor": "white",
            "gridcolor": "#DFE8F3",
            "gridwidth": 2,
            "linecolor": "#EBF0F8",
            "showbackground": true,
            "ticks": "",
            "zerolinecolor": "#EBF0F8"
           },
           "yaxis": {
            "backgroundcolor": "white",
            "gridcolor": "#DFE8F3",
            "gridwidth": 2,
            "linecolor": "#EBF0F8",
            "showbackground": true,
            "ticks": "",
            "zerolinecolor": "#EBF0F8"
           },
           "zaxis": {
            "backgroundcolor": "white",
            "gridcolor": "#DFE8F3",
            "gridwidth": 2,
            "linecolor": "#EBF0F8",
            "showbackground": true,
            "ticks": "",
            "zerolinecolor": "#EBF0F8"
           }
          },
          "shapedefaults": {
           "line": {
            "color": "#2a3f5f"
           }
          },
          "ternary": {
           "aaxis": {
            "gridcolor": "#DFE8F3",
            "linecolor": "#A2B1C6",
            "ticks": ""
           },
           "baxis": {
            "gridcolor": "#DFE8F3",
            "linecolor": "#A2B1C6",
            "ticks": ""
           },
           "bgcolor": "white",
           "caxis": {
            "gridcolor": "#DFE8F3",
            "linecolor": "#A2B1C6",
            "ticks": ""
           }
          },
          "title": {
           "x": 0.05
          },
          "xaxis": {
           "automargin": true,
           "gridcolor": "#EBF0F8",
           "linecolor": "#EBF0F8",
           "ticks": "",
           "title": {
            "standoff": 15
           },
           "zerolinecolor": "#EBF0F8",
           "zerolinewidth": 2
          },
          "yaxis": {
           "automargin": true,
           "gridcolor": "#EBF0F8",
           "linecolor": "#EBF0F8",
           "ticks": "",
           "title": {
            "standoff": 15
           },
           "zerolinecolor": "#EBF0F8",
           "zerolinewidth": 2
          }
         }
        },
        "xaxis": {
         "anchor": "y",
         "domain": [
          0,
          1
         ],
         "gridcolor": "gray",
         "showgrid": false,
         "tickfont": {
          "color": "#5A5856",
          "size": 13
         },
         "tickmode": "array",
         "ticktext": [
          "<b>Thu<br>01</b>",
          "<b>Thu<br>01</b>",
          "<b>Fri<br>02</b>",
          "<b>Fri<br>02</b>",
          "<b>Mon<br>05</b>",
          "<b>Mon<br>05</b>",
          "<b>Tue<br>06</b>",
          "<b>Tue<br>06</b>",
          "<b>Wed<br>07</b>",
          "<b>Wed<br>07</b>",
          "<b>Thu<br>08</b>",
          "<b>Thu<br>08</b>",
          "<b>Fri<br>09</b>",
          "<b>Mon<br>12</b>",
          "<b>Mon<br>12</b>"
         ],
         "tickvals": [
          "2024-02-01T00:00:00",
          "2024-02-01T00:00:00",
          "2024-02-02T00:00:00",
          "2024-02-02T00:00:00",
          "2024-02-05T00:00:00",
          "2024-02-05T00:00:00",
          "2024-02-06T00:00:00",
          "2024-02-06T00:00:00",
          "2024-02-07T00:00:00",
          "2024-02-07T00:00:00",
          "2024-02-08T00:00:00",
          "2024-02-08T00:00:00",
          "2024-02-09T00:00:00",
          "2024-02-12T00:00:00",
          "2024-02-12T00:00:00"
         ],
         "title": {
          "font": {
           "color": "#5A5856",
           "size": 25
          },
          "text": "FEBRUARY"
         }
        },
        "yaxis": {
         "anchor": "x",
         "domain": [
          0,
          1
         ],
         "gridcolor": "#B1A999",
         "showgrid": true,
         "showticklabels": true,
         "tickfont": {
          "color": "#5A5856",
          "size": 17
         },
         "tickprefix": "$",
         "tickvals": [
          100,
          1000,
          10000,
          100000,
          1000000
         ],
         "title": {
          "text": ""
         },
         "type": "log"
        }
       }
      },
      "text/html": [
       "<div>                            <div id=\"d8e435f6-d4a2-4724-8908-505559af384e\" class=\"plotly-graph-div\" style=\"height:325px; width:100%;\"></div>            <script type=\"text/javascript\">                require([\"plotly\"], function(Plotly) {                    window.PLOTLYENV=window.PLOTLYENV || {};                                    if (document.getElementById(\"d8e435f6-d4a2-4724-8908-505559af384e\")) {                    Plotly.newPlot(                        \"d8e435f6-d4a2-4724-8908-505559af384e\",                        [{\"hovertemplate\":\"$%{y:.2s}<br>%{x:%Y-%m-%d}<br>\",\"legendgroup\":\"dot\",\"marker\":{\"color\":\"rgb(25, 118, 210)\",\"symbol\":\"circle\",\"line\":{\"color\":\"white\",\"width\":1},\"opacity\":0.7,\"size\":25},\"mode\":\"markers\",\"name\":\"dot\",\"orientation\":\"v\",\"showlegend\":true,\"x\":[\"2024-02-01T00:00:00\",\"2024-02-02T00:00:00\",\"2024-02-05T00:00:00\",\"2024-02-06T00:00:00\",\"2024-02-07T00:00:00\",\"2024-02-08T00:00:00\",\"2024-02-09T00:00:00\",\"2024-02-12T00:00:00\"],\"xaxis\":\"x\",\"y\":[37218.0,28395.0,52419.0,8562.0,3846.0,22938.0,16650.0,13296.0],\"yaxis\":\"y\",\"type\":\"scatter\"},{\"hovertemplate\":\"$%{y:.2s}<br>%{x:%Y-%m-%d}<br>\",\"legendgroup\":\"unl\",\"marker\":{\"color\":\"rgb(239, 83, 80)\",\"symbol\":\"circle\",\"line\":{\"color\":\"white\",\"width\":1},\"opacity\":0.7,\"size\":25},\"mode\":\"markers\",\"name\":\"unl\",\"orientation\":\"v\",\"showlegend\":true,\"x\":[\"2024-02-01T00:00:00\",\"2024-02-02T00:00:00\",\"2024-02-05T00:00:00\",\"2024-02-06T00:00:00\",\"2024-02-07T00:00:00\",\"2024-02-08T00:00:00\",\"2024-02-12T00:00:00\"],\"xaxis\":\"x\",\"y\":[231.0,806.0,282.0,516.0,16560.0,74.0,70.0],\"yaxis\":\"y\",\"type\":\"scatter\"}],                        {\"template\":{\"data\":{\"barpolar\":[{\"marker\":{\"line\":{\"color\":\"white\",\"width\":0.5},\"pattern\":{\"fillmode\":\"overlay\",\"size\":10,\"solidity\":0.2}},\"type\":\"barpolar\"}],\"bar\":[{\"error_x\":{\"color\":\"#2a3f5f\"},\"error_y\":{\"color\":\"#2a3f5f\"},\"marker\":{\"line\":{\"color\":\"white\",\"width\":0.5},\"pattern\":{\"fillmode\":\"overlay\",\"size\":10,\"solidity\":0.2}},\"type\":\"bar\"}],\"carpet\":[{\"aaxis\":{\"endlinecolor\":\"#2a3f5f\",\"gridcolor\":\"#C8D4E3\",\"linecolor\":\"#C8D4E3\",\"minorgridcolor\":\"#C8D4E3\",\"startlinecolor\":\"#2a3f5f\"},\"baxis\":{\"endlinecolor\":\"#2a3f5f\",\"gridcolor\":\"#C8D4E3\",\"linecolor\":\"#C8D4E3\",\"minorgridcolor\":\"#C8D4E3\",\"startlinecolor\":\"#2a3f5f\"},\"type\":\"carpet\"}],\"choropleth\":[{\"colorbar\":{\"outlinewidth\":0,\"ticks\":\"\"},\"type\":\"choropleth\"}],\"contourcarpet\":[{\"colorbar\":{\"outlinewidth\":0,\"ticks\":\"\"},\"type\":\"contourcarpet\"}],\"contour\":[{\"colorbar\":{\"outlinewidth\":0,\"ticks\":\"\"},\"colorscale\":[[0.0,\"#0d0887\"],[0.1111111111111111,\"#46039f\"],[0.2222222222222222,\"#7201a8\"],[0.3333333333333333,\"#9c179e\"],[0.4444444444444444,\"#bd3786\"],[0.5555555555555556,\"#d8576b\"],[0.6666666666666666,\"#ed7953\"],[0.7777777777777778,\"#fb9f3a\"],[0.8888888888888888,\"#fdca26\"],[1.0,\"#f0f921\"]],\"type\":\"contour\"}],\"heatmapgl\":[{\"colorbar\":{\"outlinewidth\":0,\"ticks\":\"\"},\"colorscale\":[[0.0,\"#0d0887\"],[0.1111111111111111,\"#46039f\"],[0.2222222222222222,\"#7201a8\"],[0.3333333333333333,\"#9c179e\"],[0.4444444444444444,\"#bd3786\"],[0.5555555555555556,\"#d8576b\"],[0.6666666666666666,\"#ed7953\"],[0.7777777777777778,\"#fb9f3a\"],[0.8888888888888888,\"#fdca26\"],[1.0,\"#f0f921\"]],\"type\":\"heatmapgl\"}],\"heatmap\":[{\"colorbar\":{\"outlinewidth\":0,\"ticks\":\"\"},\"colorscale\":[[0.0,\"#0d0887\"],[0.1111111111111111,\"#46039f\"],[0.2222222222222222,\"#7201a8\"],[0.3333333333333333,\"#9c179e\"],[0.4444444444444444,\"#bd3786\"],[0.5555555555555556,\"#d8576b\"],[0.6666666666666666,\"#ed7953\"],[0.7777777777777778,\"#fb9f3a\"],[0.8888888888888888,\"#fdca26\"],[1.0,\"#f0f921\"]],\"type\":\"heatmap\"}],\"histogram2dcontour\":[{\"colorbar\":{\"outlinewidth\":0,\"ticks\":\"\"},\"colorscale\":[[0.0,\"#0d0887\"],[0.1111111111111111,\"#46039f\"],[0.2222222222222222,\"#7201a8\"],[0.3333333333333333,\"#9c179e\"],[0.4444444444444444,\"#bd3786\"],[0.5555555555555556,\"#d8576b\"],[0.6666666666666666,\"#ed7953\"],[0.7777777777777778,\"#fb9f3a\"],[0.8888888888888888,\"#fdca26\"],[1.0,\"#f0f921\"]],\"type\":\"histogram2dcontour\"}],\"histogram2d\":[{\"colorbar\":{\"outlinewidth\":0,\"ticks\":\"\"},\"colorscale\":[[0.0,\"#0d0887\"],[0.1111111111111111,\"#46039f\"],[0.2222222222222222,\"#7201a8\"],[0.3333333333333333,\"#9c179e\"],[0.4444444444444444,\"#bd3786\"],[0.5555555555555556,\"#d8576b\"],[0.6666666666666666,\"#ed7953\"],[0.7777777777777778,\"#fb9f3a\"],[0.8888888888888888,\"#fdca26\"],[1.0,\"#f0f921\"]],\"type\":\"histogram2d\"}],\"histogram\":[{\"marker\":{\"pattern\":{\"fillmode\":\"overlay\",\"size\":10,\"solidity\":0.2}},\"type\":\"histogram\"}],\"mesh3d\":[{\"colorbar\":{\"outlinewidth\":0,\"ticks\":\"\"},\"type\":\"mesh3d\"}],\"parcoords\":[{\"line\":{\"colorbar\":{\"outlinewidth\":0,\"ticks\":\"\"}},\"type\":\"parcoords\"}],\"pie\":[{\"automargin\":true,\"type\":\"pie\"}],\"scatter3d\":[{\"line\":{\"colorbar\":{\"outlinewidth\":0,\"ticks\":\"\"}},\"marker\":{\"colorbar\":{\"outlinewidth\":0,\"ticks\":\"\"}},\"type\":\"scatter3d\"}],\"scattercarpet\":[{\"marker\":{\"colorbar\":{\"outlinewidth\":0,\"ticks\":\"\"}},\"type\":\"scattercarpet\"}],\"scattergeo\":[{\"marker\":{\"colorbar\":{\"outlinewidth\":0,\"ticks\":\"\"}},\"type\":\"scattergeo\"}],\"scattergl\":[{\"marker\":{\"colorbar\":{\"outlinewidth\":0,\"ticks\":\"\"}},\"type\":\"scattergl\"}],\"scattermapbox\":[{\"marker\":{\"colorbar\":{\"outlinewidth\":0,\"ticks\":\"\"}},\"type\":\"scattermapbox\"}],\"scatterpolargl\":[{\"marker\":{\"colorbar\":{\"outlinewidth\":0,\"ticks\":\"\"}},\"type\":\"scatterpolargl\"}],\"scatterpolar\":[{\"marker\":{\"colorbar\":{\"outlinewidth\":0,\"ticks\":\"\"}},\"type\":\"scatterpolar\"}],\"scatter\":[{\"fillpattern\":{\"fillmode\":\"overlay\",\"size\":10,\"solidity\":0.2},\"type\":\"scatter\"}],\"scatterternary\":[{\"marker\":{\"colorbar\":{\"outlinewidth\":0,\"ticks\":\"\"}},\"type\":\"scatterternary\"}],\"surface\":[{\"colorbar\":{\"outlinewidth\":0,\"ticks\":\"\"},\"colorscale\":[[0.0,\"#0d0887\"],[0.1111111111111111,\"#46039f\"],[0.2222222222222222,\"#7201a8\"],[0.3333333333333333,\"#9c179e\"],[0.4444444444444444,\"#bd3786\"],[0.5555555555555556,\"#d8576b\"],[0.6666666666666666,\"#ed7953\"],[0.7777777777777778,\"#fb9f3a\"],[0.8888888888888888,\"#fdca26\"],[1.0,\"#f0f921\"]],\"type\":\"surface\"}],\"table\":[{\"cells\":{\"fill\":{\"color\":\"#EBF0F8\"},\"line\":{\"color\":\"white\"}},\"header\":{\"fill\":{\"color\":\"#C8D4E3\"},\"line\":{\"color\":\"white\"}},\"type\":\"table\"}]},\"layout\":{\"annotationdefaults\":{\"arrowcolor\":\"#2a3f5f\",\"arrowhead\":0,\"arrowwidth\":1},\"autotypenumbers\":\"strict\",\"coloraxis\":{\"colorbar\":{\"outlinewidth\":0,\"ticks\":\"\"}},\"colorscale\":{\"diverging\":[[0,\"#8e0152\"],[0.1,\"#c51b7d\"],[0.2,\"#de77ae\"],[0.3,\"#f1b6da\"],[0.4,\"#fde0ef\"],[0.5,\"#f7f7f7\"],[0.6,\"#e6f5d0\"],[0.7,\"#b8e186\"],[0.8,\"#7fbc41\"],[0.9,\"#4d9221\"],[1,\"#276419\"]],\"sequential\":[[0.0,\"#0d0887\"],[0.1111111111111111,\"#46039f\"],[0.2222222222222222,\"#7201a8\"],[0.3333333333333333,\"#9c179e\"],[0.4444444444444444,\"#bd3786\"],[0.5555555555555556,\"#d8576b\"],[0.6666666666666666,\"#ed7953\"],[0.7777777777777778,\"#fb9f3a\"],[0.8888888888888888,\"#fdca26\"],[1.0,\"#f0f921\"]],\"sequentialminus\":[[0.0,\"#0d0887\"],[0.1111111111111111,\"#46039f\"],[0.2222222222222222,\"#7201a8\"],[0.3333333333333333,\"#9c179e\"],[0.4444444444444444,\"#bd3786\"],[0.5555555555555556,\"#d8576b\"],[0.6666666666666666,\"#ed7953\"],[0.7777777777777778,\"#fb9f3a\"],[0.8888888888888888,\"#fdca26\"],[1.0,\"#f0f921\"]]},\"colorway\":[\"#636efa\",\"#EF553B\",\"#00cc96\",\"#ab63fa\",\"#FFA15A\",\"#19d3f3\",\"#FF6692\",\"#B6E880\",\"#FF97FF\",\"#FECB52\"],\"font\":{\"color\":\"#2a3f5f\"},\"geo\":{\"bgcolor\":\"white\",\"lakecolor\":\"white\",\"landcolor\":\"white\",\"showlakes\":true,\"showland\":true,\"subunitcolor\":\"#C8D4E3\"},\"hoverlabel\":{\"align\":\"left\"},\"hovermode\":\"closest\",\"mapbox\":{\"style\":\"light\"},\"paper_bgcolor\":\"white\",\"plot_bgcolor\":\"white\",\"polar\":{\"angularaxis\":{\"gridcolor\":\"#EBF0F8\",\"linecolor\":\"#EBF0F8\",\"ticks\":\"\"},\"bgcolor\":\"white\",\"radialaxis\":{\"gridcolor\":\"#EBF0F8\",\"linecolor\":\"#EBF0F8\",\"ticks\":\"\"}},\"scene\":{\"xaxis\":{\"backgroundcolor\":\"white\",\"gridcolor\":\"#DFE8F3\",\"gridwidth\":2,\"linecolor\":\"#EBF0F8\",\"showbackground\":true,\"ticks\":\"\",\"zerolinecolor\":\"#EBF0F8\"},\"yaxis\":{\"backgroundcolor\":\"white\",\"gridcolor\":\"#DFE8F3\",\"gridwidth\":2,\"linecolor\":\"#EBF0F8\",\"showbackground\":true,\"ticks\":\"\",\"zerolinecolor\":\"#EBF0F8\"},\"zaxis\":{\"backgroundcolor\":\"white\",\"gridcolor\":\"#DFE8F3\",\"gridwidth\":2,\"linecolor\":\"#EBF0F8\",\"showbackground\":true,\"ticks\":\"\",\"zerolinecolor\":\"#EBF0F8\"}},\"shapedefaults\":{\"line\":{\"color\":\"#2a3f5f\"}},\"ternary\":{\"aaxis\":{\"gridcolor\":\"#DFE8F3\",\"linecolor\":\"#A2B1C6\",\"ticks\":\"\"},\"baxis\":{\"gridcolor\":\"#DFE8F3\",\"linecolor\":\"#A2B1C6\",\"ticks\":\"\"},\"bgcolor\":\"white\",\"caxis\":{\"gridcolor\":\"#DFE8F3\",\"linecolor\":\"#A2B1C6\",\"ticks\":\"\"}},\"title\":{\"x\":0.05},\"xaxis\":{\"automargin\":true,\"gridcolor\":\"#EBF0F8\",\"linecolor\":\"#EBF0F8\",\"ticks\":\"\",\"title\":{\"standoff\":15},\"zerolinecolor\":\"#EBF0F8\",\"zerolinewidth\":2},\"yaxis\":{\"automargin\":true,\"gridcolor\":\"#EBF0F8\",\"linecolor\":\"#EBF0F8\",\"ticks\":\"\",\"title\":{\"standoff\":15},\"zerolinecolor\":\"#EBF0F8\",\"zerolinewidth\":2}}},\"xaxis\":{\"anchor\":\"y\",\"domain\":[0.0,1.0],\"title\":{\"text\":\"FEBRUARY\",\"font\":{\"color\":\"#5A5856\",\"size\":25}},\"tickfont\":{\"color\":\"#5A5856\",\"size\":13},\"showgrid\":false,\"gridcolor\":\"gray\",\"tickmode\":\"array\",\"tickvals\":[\"2024-02-01T00:00:00\",\"2024-02-01T00:00:00\",\"2024-02-02T00:00:00\",\"2024-02-02T00:00:00\",\"2024-02-05T00:00:00\",\"2024-02-05T00:00:00\",\"2024-02-06T00:00:00\",\"2024-02-06T00:00:00\",\"2024-02-07T00:00:00\",\"2024-02-07T00:00:00\",\"2024-02-08T00:00:00\",\"2024-02-08T00:00:00\",\"2024-02-09T00:00:00\",\"2024-02-12T00:00:00\",\"2024-02-12T00:00:00\"],\"ticktext\":[\"<b>Thu<br>01</b>\",\"<b>Thu<br>01</b>\",\"<b>Fri<br>02</b>\",\"<b>Fri<br>02</b>\",\"<b>Mon<br>05</b>\",\"<b>Mon<br>05</b>\",\"<b>Tue<br>06</b>\",\"<b>Tue<br>06</b>\",\"<b>Wed<br>07</b>\",\"<b>Wed<br>07</b>\",\"<b>Thu<br>08</b>\",\"<b>Thu<br>08</b>\",\"<b>Fri<br>09</b>\",\"<b>Mon<br>12</b>\",\"<b>Mon<br>12</b>\"]},\"yaxis\":{\"anchor\":\"x\",\"domain\":[0.0,1.0],\"title\":{\"text\":\"\"},\"type\":\"log\",\"tickfont\":{\"color\":\"#5A5856\",\"size\":17},\"showgrid\":true,\"tickprefix\":\"$\",\"gridcolor\":\"#B1A999\",\"tickvals\":[100,1000,10000,100000,1000000],\"showticklabels\":true},\"legend\":{\"title\":{\"text\":\"\"},\"tracegroupgap\":0,\"orientation\":\"h\",\"yanchor\":\"bottom\",\"y\":1.5,\"xanchor\":\"right\",\"x\":0.5},\"margin\":{\"t\":60},\"height\":325,\"coloraxis\":{\"showscale\":false},\"hoverlabel\":{\"font\":{\"size\":18,\"family\":\"Rockwell\"}},\"showlegend\":true},                        {\"responsive\": true}                    ).then(function(){\n",
       "                            \n",
       "var gd = document.getElementById('d8e435f6-d4a2-4724-8908-505559af384e');\n",
       "var x = new MutationObserver(function (mutations, observer) {{\n",
       "        var display = window.getComputedStyle(gd).display;\n",
       "        if (!display || display === 'none') {{\n",
       "            console.log([gd, 'removed!']);\n",
       "            Plotly.purge(gd);\n",
       "            observer.disconnect();\n",
       "        }}\n",
       "}});\n",
       "\n",
       "// Listen for the removal of the full notebook cells\n",
       "var notebookContainer = gd.closest('#notebook-container');\n",
       "if (notebookContainer) {{\n",
       "    x.observe(notebookContainer, {childList: true});\n",
       "}}\n",
       "\n",
       "// Listen for the clearing of the current output cell\n",
       "var outputEl = gd.closest('.output');\n",
       "if (outputEl) {{\n",
       "    x.observe(outputEl, {childList: true});\n",
       "}}\n",
       "\n",
       "                        })                };                });            </script>        </div>"
      ]
     },
     "metadata": {},
     "output_type": "display_data"
    }
   ],
   "source": [
    "# DAILY BY SALE ORIGIN\n",
    "\n",
    "\n",
    "df = all_sales.groupby([all_sales.date,'sale_origin']).usd.sum().reset_index().set_index('date')\n",
    "df = round(df[df.index>'2024-01-31'].sort_index())\n",
    "\n",
    "fig_scatter_all = px.scatter(\n",
    "        df,\n",
    "        y='usd',\n",
    "        template = 'plotly_white',\n",
    "        labels={'date':'FEBRUARY',\n",
    "                'usd':''},\n",
    "        height=325,\n",
    "        color='sale_origin',\n",
    "        color_discrete_map=sale_origin_dict,\n",
    "#         title='February',\n",
    "        log_y=True\n",
    "    )\n",
    "\n",
    "fig_scatter_all.update_traces(hovertemplate = \n",
    "    '$%{y:.2s}'+\n",
    "    '<br>%{x:%Y-%m-%d}<br>')\n",
    "\n",
    "fig_scatter_all.update_traces(marker=dict(size=25,opacity=.7,line=dict(width=1,color='white')),selector=dict(mode='markers'))\n",
    "\n",
    "fig_scatter_all.update_coloraxes(showscale=False)\n",
    "fig_scatter_all.update_yaxes(showgrid=True,tickprefix='$',gridcolor=\"#B1A999\",tickvals=[100,1000,10000,100000,1000000],tickfont=dict(color='#5A5856', size=17),showticklabels=True)\n",
    "fig_scatter_all.update_xaxes(showgrid=False,gridcolor='gray',tickfont=dict(color='#5A5856', size=13),title_font=dict(color='#5A5856',size=25))\n",
    "fig_scatter_all.update_xaxes(tickmode='array',tickvals = df.index, ticktext=df.index.strftime('<b>%a<br>%d</b>'))\n",
    "fig_scatter_all.update_layout(hoverlabel=dict(font_size=18,font_family=\"Rockwell\"),showlegend=True,\n",
    "                              legend=dict(orientation='h',\n",
    "                                          yanchor=\"bottom\",\n",
    "                                          y=1.5,\n",
    "                                          xanchor=\"right\",\n",
    "                                          x=.5,\n",
    "                                          title=''))"
   ]
  },
  {
   "cell_type": "code",
   "execution_count": 115,
   "id": "4630a9e5",
   "metadata": {},
   "outputs": [
    {
     "data": {
      "application/vnd.plotly.v1+json": {
       "config": {
        "plotlyServerURL": "https://plot.ly"
       },
       "data": [
        {
         "alignmentgroup": "True",
         "hovertemplate": "$%{y:.2s}<br>%{x:%Y-%m-%d}<br>",
         "legendgroup": "",
         "marker": {
          "color": "#E09641",
          "pattern": {
           "shape": ""
          }
         },
         "name": "",
         "offsetgroup": "",
         "orientation": "v",
         "showlegend": false,
         "textposition": "auto",
         "texttemplate": "%{y:.2s}",
         "type": "bar",
         "x": [
          "2024-02-01T00:00:00",
          "2024-02-02T00:00:00",
          "2024-02-05T00:00:00",
          "2024-02-06T00:00:00",
          "2024-02-07T00:00:00",
          "2024-02-08T00:00:00",
          "2024-02-09T00:00:00",
          "2024-02-12T00:00:00"
         ],
         "xaxis": "x",
         "y": [
          37449,
          29201,
          52701,
          9078,
          20406,
          23012,
          16650,
          13366
         ],
         "yaxis": "y"
        }
       ],
       "layout": {
        "barmode": "relative",
        "coloraxis": {
         "showscale": false
        },
        "height": 325,
        "hoverlabel": {
         "font": {
          "family": "Rockwell",
          "size": 18
         }
        },
        "legend": {
         "orientation": "h",
         "title": {
          "text": ""
         },
         "tracegroupgap": 0,
         "x": 0.5,
         "xanchor": "right",
         "y": 1.5,
         "yanchor": "bottom"
        },
        "margin": {
         "t": 60
        },
        "showlegend": true,
        "template": {
         "data": {
          "bar": [
           {
            "error_x": {
             "color": "#2a3f5f"
            },
            "error_y": {
             "color": "#2a3f5f"
            },
            "marker": {
             "line": {
              "color": "white",
              "width": 0.5
             },
             "pattern": {
              "fillmode": "overlay",
              "size": 10,
              "solidity": 0.2
             }
            },
            "type": "bar"
           }
          ],
          "barpolar": [
           {
            "marker": {
             "line": {
              "color": "white",
              "width": 0.5
             },
             "pattern": {
              "fillmode": "overlay",
              "size": 10,
              "solidity": 0.2
             }
            },
            "type": "barpolar"
           }
          ],
          "carpet": [
           {
            "aaxis": {
             "endlinecolor": "#2a3f5f",
             "gridcolor": "#C8D4E3",
             "linecolor": "#C8D4E3",
             "minorgridcolor": "#C8D4E3",
             "startlinecolor": "#2a3f5f"
            },
            "baxis": {
             "endlinecolor": "#2a3f5f",
             "gridcolor": "#C8D4E3",
             "linecolor": "#C8D4E3",
             "minorgridcolor": "#C8D4E3",
             "startlinecolor": "#2a3f5f"
            },
            "type": "carpet"
           }
          ],
          "choropleth": [
           {
            "colorbar": {
             "outlinewidth": 0,
             "ticks": ""
            },
            "type": "choropleth"
           }
          ],
          "contour": [
           {
            "colorbar": {
             "outlinewidth": 0,
             "ticks": ""
            },
            "colorscale": [
             [
              0,
              "#0d0887"
             ],
             [
              0.1111111111111111,
              "#46039f"
             ],
             [
              0.2222222222222222,
              "#7201a8"
             ],
             [
              0.3333333333333333,
              "#9c179e"
             ],
             [
              0.4444444444444444,
              "#bd3786"
             ],
             [
              0.5555555555555556,
              "#d8576b"
             ],
             [
              0.6666666666666666,
              "#ed7953"
             ],
             [
              0.7777777777777778,
              "#fb9f3a"
             ],
             [
              0.8888888888888888,
              "#fdca26"
             ],
             [
              1,
              "#f0f921"
             ]
            ],
            "type": "contour"
           }
          ],
          "contourcarpet": [
           {
            "colorbar": {
             "outlinewidth": 0,
             "ticks": ""
            },
            "type": "contourcarpet"
           }
          ],
          "heatmap": [
           {
            "colorbar": {
             "outlinewidth": 0,
             "ticks": ""
            },
            "colorscale": [
             [
              0,
              "#0d0887"
             ],
             [
              0.1111111111111111,
              "#46039f"
             ],
             [
              0.2222222222222222,
              "#7201a8"
             ],
             [
              0.3333333333333333,
              "#9c179e"
             ],
             [
              0.4444444444444444,
              "#bd3786"
             ],
             [
              0.5555555555555556,
              "#d8576b"
             ],
             [
              0.6666666666666666,
              "#ed7953"
             ],
             [
              0.7777777777777778,
              "#fb9f3a"
             ],
             [
              0.8888888888888888,
              "#fdca26"
             ],
             [
              1,
              "#f0f921"
             ]
            ],
            "type": "heatmap"
           }
          ],
          "heatmapgl": [
           {
            "colorbar": {
             "outlinewidth": 0,
             "ticks": ""
            },
            "colorscale": [
             [
              0,
              "#0d0887"
             ],
             [
              0.1111111111111111,
              "#46039f"
             ],
             [
              0.2222222222222222,
              "#7201a8"
             ],
             [
              0.3333333333333333,
              "#9c179e"
             ],
             [
              0.4444444444444444,
              "#bd3786"
             ],
             [
              0.5555555555555556,
              "#d8576b"
             ],
             [
              0.6666666666666666,
              "#ed7953"
             ],
             [
              0.7777777777777778,
              "#fb9f3a"
             ],
             [
              0.8888888888888888,
              "#fdca26"
             ],
             [
              1,
              "#f0f921"
             ]
            ],
            "type": "heatmapgl"
           }
          ],
          "histogram": [
           {
            "marker": {
             "pattern": {
              "fillmode": "overlay",
              "size": 10,
              "solidity": 0.2
             }
            },
            "type": "histogram"
           }
          ],
          "histogram2d": [
           {
            "colorbar": {
             "outlinewidth": 0,
             "ticks": ""
            },
            "colorscale": [
             [
              0,
              "#0d0887"
             ],
             [
              0.1111111111111111,
              "#46039f"
             ],
             [
              0.2222222222222222,
              "#7201a8"
             ],
             [
              0.3333333333333333,
              "#9c179e"
             ],
             [
              0.4444444444444444,
              "#bd3786"
             ],
             [
              0.5555555555555556,
              "#d8576b"
             ],
             [
              0.6666666666666666,
              "#ed7953"
             ],
             [
              0.7777777777777778,
              "#fb9f3a"
             ],
             [
              0.8888888888888888,
              "#fdca26"
             ],
             [
              1,
              "#f0f921"
             ]
            ],
            "type": "histogram2d"
           }
          ],
          "histogram2dcontour": [
           {
            "colorbar": {
             "outlinewidth": 0,
             "ticks": ""
            },
            "colorscale": [
             [
              0,
              "#0d0887"
             ],
             [
              0.1111111111111111,
              "#46039f"
             ],
             [
              0.2222222222222222,
              "#7201a8"
             ],
             [
              0.3333333333333333,
              "#9c179e"
             ],
             [
              0.4444444444444444,
              "#bd3786"
             ],
             [
              0.5555555555555556,
              "#d8576b"
             ],
             [
              0.6666666666666666,
              "#ed7953"
             ],
             [
              0.7777777777777778,
              "#fb9f3a"
             ],
             [
              0.8888888888888888,
              "#fdca26"
             ],
             [
              1,
              "#f0f921"
             ]
            ],
            "type": "histogram2dcontour"
           }
          ],
          "mesh3d": [
           {
            "colorbar": {
             "outlinewidth": 0,
             "ticks": ""
            },
            "type": "mesh3d"
           }
          ],
          "parcoords": [
           {
            "line": {
             "colorbar": {
              "outlinewidth": 0,
              "ticks": ""
             }
            },
            "type": "parcoords"
           }
          ],
          "pie": [
           {
            "automargin": true,
            "type": "pie"
           }
          ],
          "scatter": [
           {
            "fillpattern": {
             "fillmode": "overlay",
             "size": 10,
             "solidity": 0.2
            },
            "type": "scatter"
           }
          ],
          "scatter3d": [
           {
            "line": {
             "colorbar": {
              "outlinewidth": 0,
              "ticks": ""
             }
            },
            "marker": {
             "colorbar": {
              "outlinewidth": 0,
              "ticks": ""
             }
            },
            "type": "scatter3d"
           }
          ],
          "scattercarpet": [
           {
            "marker": {
             "colorbar": {
              "outlinewidth": 0,
              "ticks": ""
             }
            },
            "type": "scattercarpet"
           }
          ],
          "scattergeo": [
           {
            "marker": {
             "colorbar": {
              "outlinewidth": 0,
              "ticks": ""
             }
            },
            "type": "scattergeo"
           }
          ],
          "scattergl": [
           {
            "marker": {
             "colorbar": {
              "outlinewidth": 0,
              "ticks": ""
             }
            },
            "type": "scattergl"
           }
          ],
          "scattermapbox": [
           {
            "marker": {
             "colorbar": {
              "outlinewidth": 0,
              "ticks": ""
             }
            },
            "type": "scattermapbox"
           }
          ],
          "scatterpolar": [
           {
            "marker": {
             "colorbar": {
              "outlinewidth": 0,
              "ticks": ""
             }
            },
            "type": "scatterpolar"
           }
          ],
          "scatterpolargl": [
           {
            "marker": {
             "colorbar": {
              "outlinewidth": 0,
              "ticks": ""
             }
            },
            "type": "scatterpolargl"
           }
          ],
          "scatterternary": [
           {
            "marker": {
             "colorbar": {
              "outlinewidth": 0,
              "ticks": ""
             }
            },
            "type": "scatterternary"
           }
          ],
          "surface": [
           {
            "colorbar": {
             "outlinewidth": 0,
             "ticks": ""
            },
            "colorscale": [
             [
              0,
              "#0d0887"
             ],
             [
              0.1111111111111111,
              "#46039f"
             ],
             [
              0.2222222222222222,
              "#7201a8"
             ],
             [
              0.3333333333333333,
              "#9c179e"
             ],
             [
              0.4444444444444444,
              "#bd3786"
             ],
             [
              0.5555555555555556,
              "#d8576b"
             ],
             [
              0.6666666666666666,
              "#ed7953"
             ],
             [
              0.7777777777777778,
              "#fb9f3a"
             ],
             [
              0.8888888888888888,
              "#fdca26"
             ],
             [
              1,
              "#f0f921"
             ]
            ],
            "type": "surface"
           }
          ],
          "table": [
           {
            "cells": {
             "fill": {
              "color": "#EBF0F8"
             },
             "line": {
              "color": "white"
             }
            },
            "header": {
             "fill": {
              "color": "#C8D4E3"
             },
             "line": {
              "color": "white"
             }
            },
            "type": "table"
           }
          ]
         },
         "layout": {
          "annotationdefaults": {
           "arrowcolor": "#2a3f5f",
           "arrowhead": 0,
           "arrowwidth": 1
          },
          "autotypenumbers": "strict",
          "coloraxis": {
           "colorbar": {
            "outlinewidth": 0,
            "ticks": ""
           }
          },
          "colorscale": {
           "diverging": [
            [
             0,
             "#8e0152"
            ],
            [
             0.1,
             "#c51b7d"
            ],
            [
             0.2,
             "#de77ae"
            ],
            [
             0.3,
             "#f1b6da"
            ],
            [
             0.4,
             "#fde0ef"
            ],
            [
             0.5,
             "#f7f7f7"
            ],
            [
             0.6,
             "#e6f5d0"
            ],
            [
             0.7,
             "#b8e186"
            ],
            [
             0.8,
             "#7fbc41"
            ],
            [
             0.9,
             "#4d9221"
            ],
            [
             1,
             "#276419"
            ]
           ],
           "sequential": [
            [
             0,
             "#0d0887"
            ],
            [
             0.1111111111111111,
             "#46039f"
            ],
            [
             0.2222222222222222,
             "#7201a8"
            ],
            [
             0.3333333333333333,
             "#9c179e"
            ],
            [
             0.4444444444444444,
             "#bd3786"
            ],
            [
             0.5555555555555556,
             "#d8576b"
            ],
            [
             0.6666666666666666,
             "#ed7953"
            ],
            [
             0.7777777777777778,
             "#fb9f3a"
            ],
            [
             0.8888888888888888,
             "#fdca26"
            ],
            [
             1,
             "#f0f921"
            ]
           ],
           "sequentialminus": [
            [
             0,
             "#0d0887"
            ],
            [
             0.1111111111111111,
             "#46039f"
            ],
            [
             0.2222222222222222,
             "#7201a8"
            ],
            [
             0.3333333333333333,
             "#9c179e"
            ],
            [
             0.4444444444444444,
             "#bd3786"
            ],
            [
             0.5555555555555556,
             "#d8576b"
            ],
            [
             0.6666666666666666,
             "#ed7953"
            ],
            [
             0.7777777777777778,
             "#fb9f3a"
            ],
            [
             0.8888888888888888,
             "#fdca26"
            ],
            [
             1,
             "#f0f921"
            ]
           ]
          },
          "colorway": [
           "#636efa",
           "#EF553B",
           "#00cc96",
           "#ab63fa",
           "#FFA15A",
           "#19d3f3",
           "#FF6692",
           "#B6E880",
           "#FF97FF",
           "#FECB52"
          ],
          "font": {
           "color": "#2a3f5f"
          },
          "geo": {
           "bgcolor": "white",
           "lakecolor": "white",
           "landcolor": "white",
           "showlakes": true,
           "showland": true,
           "subunitcolor": "#C8D4E3"
          },
          "hoverlabel": {
           "align": "left"
          },
          "hovermode": "closest",
          "mapbox": {
           "style": "light"
          },
          "paper_bgcolor": "white",
          "plot_bgcolor": "white",
          "polar": {
           "angularaxis": {
            "gridcolor": "#EBF0F8",
            "linecolor": "#EBF0F8",
            "ticks": ""
           },
           "bgcolor": "white",
           "radialaxis": {
            "gridcolor": "#EBF0F8",
            "linecolor": "#EBF0F8",
            "ticks": ""
           }
          },
          "scene": {
           "xaxis": {
            "backgroundcolor": "white",
            "gridcolor": "#DFE8F3",
            "gridwidth": 2,
            "linecolor": "#EBF0F8",
            "showbackground": true,
            "ticks": "",
            "zerolinecolor": "#EBF0F8"
           },
           "yaxis": {
            "backgroundcolor": "white",
            "gridcolor": "#DFE8F3",
            "gridwidth": 2,
            "linecolor": "#EBF0F8",
            "showbackground": true,
            "ticks": "",
            "zerolinecolor": "#EBF0F8"
           },
           "zaxis": {
            "backgroundcolor": "white",
            "gridcolor": "#DFE8F3",
            "gridwidth": 2,
            "linecolor": "#EBF0F8",
            "showbackground": true,
            "ticks": "",
            "zerolinecolor": "#EBF0F8"
           }
          },
          "shapedefaults": {
           "line": {
            "color": "#2a3f5f"
           }
          },
          "ternary": {
           "aaxis": {
            "gridcolor": "#DFE8F3",
            "linecolor": "#A2B1C6",
            "ticks": ""
           },
           "baxis": {
            "gridcolor": "#DFE8F3",
            "linecolor": "#A2B1C6",
            "ticks": ""
           },
           "bgcolor": "white",
           "caxis": {
            "gridcolor": "#DFE8F3",
            "linecolor": "#A2B1C6",
            "ticks": ""
           }
          },
          "title": {
           "x": 0.05
          },
          "xaxis": {
           "automargin": true,
           "gridcolor": "#EBF0F8",
           "linecolor": "#EBF0F8",
           "ticks": "",
           "title": {
            "standoff": 15
           },
           "zerolinecolor": "#EBF0F8",
           "zerolinewidth": 2
          },
          "yaxis": {
           "automargin": true,
           "gridcolor": "#EBF0F8",
           "linecolor": "#EBF0F8",
           "ticks": "",
           "title": {
            "standoff": 15
           },
           "zerolinecolor": "#EBF0F8",
           "zerolinewidth": 2
          }
         }
        },
        "xaxis": {
         "anchor": "y",
         "domain": [
          0,
          1
         ],
         "gridcolor": "gray",
         "showgrid": false,
         "tickfont": {
          "color": "#5A5856",
          "size": 13
         },
         "tickmode": "array",
         "ticktext": [
          "<b>Thu<br>01</b>",
          "<b>Fri<br>02</b>",
          "<b>Mon<br>05</b>",
          "<b>Tue<br>06</b>",
          "<b>Wed<br>07</b>",
          "<b>Thu<br>08</b>",
          "<b>Fri<br>09</b>",
          "<b>Mon<br>12</b>"
         ],
         "tickvals": [
          "2024-02-01T00:00:00",
          "2024-02-02T00:00:00",
          "2024-02-05T00:00:00",
          "2024-02-06T00:00:00",
          "2024-02-07T00:00:00",
          "2024-02-08T00:00:00",
          "2024-02-09T00:00:00",
          "2024-02-12T00:00:00"
         ],
         "title": {
          "font": {
           "color": "#5A5856",
           "size": 25
          },
          "text": "FEBRUARY"
         }
        },
        "yaxis": {
         "anchor": "x",
         "domain": [
          0,
          1
         ],
         "gridcolor": "#B1A999",
         "showgrid": true,
         "showticklabels": true,
         "tickfont": {
          "color": "#5A5856",
          "size": 17
         },
         "tickprefix": "$",
         "tickvals": [
          -25000,
          0,
          25000,
          50000,
          75000,
          100000
         ],
         "title": {
          "text": ""
         }
        }
       }
      },
      "text/html": [
       "<div>                            <div id=\"1ddae1ed-2d8b-4969-861d-d791a9ad2d09\" class=\"plotly-graph-div\" style=\"height:325px; width:100%;\"></div>            <script type=\"text/javascript\">                require([\"plotly\"], function(Plotly) {                    window.PLOTLYENV=window.PLOTLYENV || {};                                    if (document.getElementById(\"1ddae1ed-2d8b-4969-861d-d791a9ad2d09\")) {                    Plotly.newPlot(                        \"1ddae1ed-2d8b-4969-861d-d791a9ad2d09\",                        [{\"alignmentgroup\":\"True\",\"hovertemplate\":\"$%{y:.2s}<br>%{x:%Y-%m-%d}<br>\",\"legendgroup\":\"\",\"marker\":{\"color\":\"#E09641\",\"pattern\":{\"shape\":\"\"}},\"name\":\"\",\"offsetgroup\":\"\",\"orientation\":\"v\",\"showlegend\":false,\"textposition\":\"auto\",\"texttemplate\":\"%{y:.2s}\",\"x\":[\"2024-02-01T00:00:00\",\"2024-02-02T00:00:00\",\"2024-02-05T00:00:00\",\"2024-02-06T00:00:00\",\"2024-02-07T00:00:00\",\"2024-02-08T00:00:00\",\"2024-02-09T00:00:00\",\"2024-02-12T00:00:00\"],\"xaxis\":\"x\",\"y\":[37449.0,29201.0,52701.0,9078.0,20406.0,23012.0,16650.0,13366.0],\"yaxis\":\"y\",\"type\":\"bar\"}],                        {\"template\":{\"data\":{\"barpolar\":[{\"marker\":{\"line\":{\"color\":\"white\",\"width\":0.5},\"pattern\":{\"fillmode\":\"overlay\",\"size\":10,\"solidity\":0.2}},\"type\":\"barpolar\"}],\"bar\":[{\"error_x\":{\"color\":\"#2a3f5f\"},\"error_y\":{\"color\":\"#2a3f5f\"},\"marker\":{\"line\":{\"color\":\"white\",\"width\":0.5},\"pattern\":{\"fillmode\":\"overlay\",\"size\":10,\"solidity\":0.2}},\"type\":\"bar\"}],\"carpet\":[{\"aaxis\":{\"endlinecolor\":\"#2a3f5f\",\"gridcolor\":\"#C8D4E3\",\"linecolor\":\"#C8D4E3\",\"minorgridcolor\":\"#C8D4E3\",\"startlinecolor\":\"#2a3f5f\"},\"baxis\":{\"endlinecolor\":\"#2a3f5f\",\"gridcolor\":\"#C8D4E3\",\"linecolor\":\"#C8D4E3\",\"minorgridcolor\":\"#C8D4E3\",\"startlinecolor\":\"#2a3f5f\"},\"type\":\"carpet\"}],\"choropleth\":[{\"colorbar\":{\"outlinewidth\":0,\"ticks\":\"\"},\"type\":\"choropleth\"}],\"contourcarpet\":[{\"colorbar\":{\"outlinewidth\":0,\"ticks\":\"\"},\"type\":\"contourcarpet\"}],\"contour\":[{\"colorbar\":{\"outlinewidth\":0,\"ticks\":\"\"},\"colorscale\":[[0.0,\"#0d0887\"],[0.1111111111111111,\"#46039f\"],[0.2222222222222222,\"#7201a8\"],[0.3333333333333333,\"#9c179e\"],[0.4444444444444444,\"#bd3786\"],[0.5555555555555556,\"#d8576b\"],[0.6666666666666666,\"#ed7953\"],[0.7777777777777778,\"#fb9f3a\"],[0.8888888888888888,\"#fdca26\"],[1.0,\"#f0f921\"]],\"type\":\"contour\"}],\"heatmapgl\":[{\"colorbar\":{\"outlinewidth\":0,\"ticks\":\"\"},\"colorscale\":[[0.0,\"#0d0887\"],[0.1111111111111111,\"#46039f\"],[0.2222222222222222,\"#7201a8\"],[0.3333333333333333,\"#9c179e\"],[0.4444444444444444,\"#bd3786\"],[0.5555555555555556,\"#d8576b\"],[0.6666666666666666,\"#ed7953\"],[0.7777777777777778,\"#fb9f3a\"],[0.8888888888888888,\"#fdca26\"],[1.0,\"#f0f921\"]],\"type\":\"heatmapgl\"}],\"heatmap\":[{\"colorbar\":{\"outlinewidth\":0,\"ticks\":\"\"},\"colorscale\":[[0.0,\"#0d0887\"],[0.1111111111111111,\"#46039f\"],[0.2222222222222222,\"#7201a8\"],[0.3333333333333333,\"#9c179e\"],[0.4444444444444444,\"#bd3786\"],[0.5555555555555556,\"#d8576b\"],[0.6666666666666666,\"#ed7953\"],[0.7777777777777778,\"#fb9f3a\"],[0.8888888888888888,\"#fdca26\"],[1.0,\"#f0f921\"]],\"type\":\"heatmap\"}],\"histogram2dcontour\":[{\"colorbar\":{\"outlinewidth\":0,\"ticks\":\"\"},\"colorscale\":[[0.0,\"#0d0887\"],[0.1111111111111111,\"#46039f\"],[0.2222222222222222,\"#7201a8\"],[0.3333333333333333,\"#9c179e\"],[0.4444444444444444,\"#bd3786\"],[0.5555555555555556,\"#d8576b\"],[0.6666666666666666,\"#ed7953\"],[0.7777777777777778,\"#fb9f3a\"],[0.8888888888888888,\"#fdca26\"],[1.0,\"#f0f921\"]],\"type\":\"histogram2dcontour\"}],\"histogram2d\":[{\"colorbar\":{\"outlinewidth\":0,\"ticks\":\"\"},\"colorscale\":[[0.0,\"#0d0887\"],[0.1111111111111111,\"#46039f\"],[0.2222222222222222,\"#7201a8\"],[0.3333333333333333,\"#9c179e\"],[0.4444444444444444,\"#bd3786\"],[0.5555555555555556,\"#d8576b\"],[0.6666666666666666,\"#ed7953\"],[0.7777777777777778,\"#fb9f3a\"],[0.8888888888888888,\"#fdca26\"],[1.0,\"#f0f921\"]],\"type\":\"histogram2d\"}],\"histogram\":[{\"marker\":{\"pattern\":{\"fillmode\":\"overlay\",\"size\":10,\"solidity\":0.2}},\"type\":\"histogram\"}],\"mesh3d\":[{\"colorbar\":{\"outlinewidth\":0,\"ticks\":\"\"},\"type\":\"mesh3d\"}],\"parcoords\":[{\"line\":{\"colorbar\":{\"outlinewidth\":0,\"ticks\":\"\"}},\"type\":\"parcoords\"}],\"pie\":[{\"automargin\":true,\"type\":\"pie\"}],\"scatter3d\":[{\"line\":{\"colorbar\":{\"outlinewidth\":0,\"ticks\":\"\"}},\"marker\":{\"colorbar\":{\"outlinewidth\":0,\"ticks\":\"\"}},\"type\":\"scatter3d\"}],\"scattercarpet\":[{\"marker\":{\"colorbar\":{\"outlinewidth\":0,\"ticks\":\"\"}},\"type\":\"scattercarpet\"}],\"scattergeo\":[{\"marker\":{\"colorbar\":{\"outlinewidth\":0,\"ticks\":\"\"}},\"type\":\"scattergeo\"}],\"scattergl\":[{\"marker\":{\"colorbar\":{\"outlinewidth\":0,\"ticks\":\"\"}},\"type\":\"scattergl\"}],\"scattermapbox\":[{\"marker\":{\"colorbar\":{\"outlinewidth\":0,\"ticks\":\"\"}},\"type\":\"scattermapbox\"}],\"scatterpolargl\":[{\"marker\":{\"colorbar\":{\"outlinewidth\":0,\"ticks\":\"\"}},\"type\":\"scatterpolargl\"}],\"scatterpolar\":[{\"marker\":{\"colorbar\":{\"outlinewidth\":0,\"ticks\":\"\"}},\"type\":\"scatterpolar\"}],\"scatter\":[{\"fillpattern\":{\"fillmode\":\"overlay\",\"size\":10,\"solidity\":0.2},\"type\":\"scatter\"}],\"scatterternary\":[{\"marker\":{\"colorbar\":{\"outlinewidth\":0,\"ticks\":\"\"}},\"type\":\"scatterternary\"}],\"surface\":[{\"colorbar\":{\"outlinewidth\":0,\"ticks\":\"\"},\"colorscale\":[[0.0,\"#0d0887\"],[0.1111111111111111,\"#46039f\"],[0.2222222222222222,\"#7201a8\"],[0.3333333333333333,\"#9c179e\"],[0.4444444444444444,\"#bd3786\"],[0.5555555555555556,\"#d8576b\"],[0.6666666666666666,\"#ed7953\"],[0.7777777777777778,\"#fb9f3a\"],[0.8888888888888888,\"#fdca26\"],[1.0,\"#f0f921\"]],\"type\":\"surface\"}],\"table\":[{\"cells\":{\"fill\":{\"color\":\"#EBF0F8\"},\"line\":{\"color\":\"white\"}},\"header\":{\"fill\":{\"color\":\"#C8D4E3\"},\"line\":{\"color\":\"white\"}},\"type\":\"table\"}]},\"layout\":{\"annotationdefaults\":{\"arrowcolor\":\"#2a3f5f\",\"arrowhead\":0,\"arrowwidth\":1},\"autotypenumbers\":\"strict\",\"coloraxis\":{\"colorbar\":{\"outlinewidth\":0,\"ticks\":\"\"}},\"colorscale\":{\"diverging\":[[0,\"#8e0152\"],[0.1,\"#c51b7d\"],[0.2,\"#de77ae\"],[0.3,\"#f1b6da\"],[0.4,\"#fde0ef\"],[0.5,\"#f7f7f7\"],[0.6,\"#e6f5d0\"],[0.7,\"#b8e186\"],[0.8,\"#7fbc41\"],[0.9,\"#4d9221\"],[1,\"#276419\"]],\"sequential\":[[0.0,\"#0d0887\"],[0.1111111111111111,\"#46039f\"],[0.2222222222222222,\"#7201a8\"],[0.3333333333333333,\"#9c179e\"],[0.4444444444444444,\"#bd3786\"],[0.5555555555555556,\"#d8576b\"],[0.6666666666666666,\"#ed7953\"],[0.7777777777777778,\"#fb9f3a\"],[0.8888888888888888,\"#fdca26\"],[1.0,\"#f0f921\"]],\"sequentialminus\":[[0.0,\"#0d0887\"],[0.1111111111111111,\"#46039f\"],[0.2222222222222222,\"#7201a8\"],[0.3333333333333333,\"#9c179e\"],[0.4444444444444444,\"#bd3786\"],[0.5555555555555556,\"#d8576b\"],[0.6666666666666666,\"#ed7953\"],[0.7777777777777778,\"#fb9f3a\"],[0.8888888888888888,\"#fdca26\"],[1.0,\"#f0f921\"]]},\"colorway\":[\"#636efa\",\"#EF553B\",\"#00cc96\",\"#ab63fa\",\"#FFA15A\",\"#19d3f3\",\"#FF6692\",\"#B6E880\",\"#FF97FF\",\"#FECB52\"],\"font\":{\"color\":\"#2a3f5f\"},\"geo\":{\"bgcolor\":\"white\",\"lakecolor\":\"white\",\"landcolor\":\"white\",\"showlakes\":true,\"showland\":true,\"subunitcolor\":\"#C8D4E3\"},\"hoverlabel\":{\"align\":\"left\"},\"hovermode\":\"closest\",\"mapbox\":{\"style\":\"light\"},\"paper_bgcolor\":\"white\",\"plot_bgcolor\":\"white\",\"polar\":{\"angularaxis\":{\"gridcolor\":\"#EBF0F8\",\"linecolor\":\"#EBF0F8\",\"ticks\":\"\"},\"bgcolor\":\"white\",\"radialaxis\":{\"gridcolor\":\"#EBF0F8\",\"linecolor\":\"#EBF0F8\",\"ticks\":\"\"}},\"scene\":{\"xaxis\":{\"backgroundcolor\":\"white\",\"gridcolor\":\"#DFE8F3\",\"gridwidth\":2,\"linecolor\":\"#EBF0F8\",\"showbackground\":true,\"ticks\":\"\",\"zerolinecolor\":\"#EBF0F8\"},\"yaxis\":{\"backgroundcolor\":\"white\",\"gridcolor\":\"#DFE8F3\",\"gridwidth\":2,\"linecolor\":\"#EBF0F8\",\"showbackground\":true,\"ticks\":\"\",\"zerolinecolor\":\"#EBF0F8\"},\"zaxis\":{\"backgroundcolor\":\"white\",\"gridcolor\":\"#DFE8F3\",\"gridwidth\":2,\"linecolor\":\"#EBF0F8\",\"showbackground\":true,\"ticks\":\"\",\"zerolinecolor\":\"#EBF0F8\"}},\"shapedefaults\":{\"line\":{\"color\":\"#2a3f5f\"}},\"ternary\":{\"aaxis\":{\"gridcolor\":\"#DFE8F3\",\"linecolor\":\"#A2B1C6\",\"ticks\":\"\"},\"baxis\":{\"gridcolor\":\"#DFE8F3\",\"linecolor\":\"#A2B1C6\",\"ticks\":\"\"},\"bgcolor\":\"white\",\"caxis\":{\"gridcolor\":\"#DFE8F3\",\"linecolor\":\"#A2B1C6\",\"ticks\":\"\"}},\"title\":{\"x\":0.05},\"xaxis\":{\"automargin\":true,\"gridcolor\":\"#EBF0F8\",\"linecolor\":\"#EBF0F8\",\"ticks\":\"\",\"title\":{\"standoff\":15},\"zerolinecolor\":\"#EBF0F8\",\"zerolinewidth\":2},\"yaxis\":{\"automargin\":true,\"gridcolor\":\"#EBF0F8\",\"linecolor\":\"#EBF0F8\",\"ticks\":\"\",\"title\":{\"standoff\":15},\"zerolinecolor\":\"#EBF0F8\",\"zerolinewidth\":2}}},\"xaxis\":{\"anchor\":\"y\",\"domain\":[0.0,1.0],\"title\":{\"text\":\"FEBRUARY\",\"font\":{\"color\":\"#5A5856\",\"size\":25}},\"tickfont\":{\"color\":\"#5A5856\",\"size\":13},\"showgrid\":false,\"gridcolor\":\"gray\",\"tickmode\":\"array\",\"tickvals\":[\"2024-02-01T00:00:00\",\"2024-02-02T00:00:00\",\"2024-02-05T00:00:00\",\"2024-02-06T00:00:00\",\"2024-02-07T00:00:00\",\"2024-02-08T00:00:00\",\"2024-02-09T00:00:00\",\"2024-02-12T00:00:00\"],\"ticktext\":[\"<b>Thu<br>01</b>\",\"<b>Fri<br>02</b>\",\"<b>Mon<br>05</b>\",\"<b>Tue<br>06</b>\",\"<b>Wed<br>07</b>\",\"<b>Thu<br>08</b>\",\"<b>Fri<br>09</b>\",\"<b>Mon<br>12</b>\"]},\"yaxis\":{\"anchor\":\"x\",\"domain\":[0.0,1.0],\"title\":{\"text\":\"\"},\"tickfont\":{\"color\":\"#5A5856\",\"size\":17},\"showgrid\":true,\"tickprefix\":\"$\",\"gridcolor\":\"#B1A999\",\"tickvals\":[-25000,0,25000,50000,75000,100000],\"showticklabels\":true},\"legend\":{\"tracegroupgap\":0,\"orientation\":\"h\",\"yanchor\":\"bottom\",\"y\":1.5,\"xanchor\":\"right\",\"x\":0.5,\"title\":{\"text\":\"\"}},\"margin\":{\"t\":60},\"barmode\":\"relative\",\"height\":325,\"coloraxis\":{\"showscale\":false},\"hoverlabel\":{\"font\":{\"size\":18,\"family\":\"Rockwell\"}},\"showlegend\":true},                        {\"responsive\": true}                    ).then(function(){\n",
       "                            \n",
       "var gd = document.getElementById('1ddae1ed-2d8b-4969-861d-d791a9ad2d09');\n",
       "var x = new MutationObserver(function (mutations, observer) {{\n",
       "        var display = window.getComputedStyle(gd).display;\n",
       "        if (!display || display === 'none') {{\n",
       "            console.log([gd, 'removed!']);\n",
       "            Plotly.purge(gd);\n",
       "            observer.disconnect();\n",
       "        }}\n",
       "}});\n",
       "\n",
       "// Listen for the removal of the full notebook cells\n",
       "var notebookContainer = gd.closest('#notebook-container');\n",
       "if (notebookContainer) {{\n",
       "    x.observe(notebookContainer, {childList: true});\n",
       "}}\n",
       "\n",
       "// Listen for the clearing of the current output cell\n",
       "var outputEl = gd.closest('.output');\n",
       "if (outputEl) {{\n",
       "    x.observe(outputEl, {childList: true});\n",
       "}}\n",
       "\n",
       "                        })                };                });            </script>        </div>"
      ]
     },
     "metadata": {},
     "output_type": "display_data"
    }
   ],
   "source": [
    "# DAILY BY All (level 2)\n",
    "\n",
    "\n",
    "df = all_sales.groupby(all_sales.date).usd.sum().reset_index().set_index('date')\n",
    "df = round(df[df.index>'2024-01-31'].sort_index())\n",
    "\n",
    "fig_scatter_all = px.bar(\n",
    "        df,\n",
    "        y='usd',\n",
    "        template = 'plotly_white',\n",
    "        labels={'date':'FEBRUARY',\n",
    "                'usd':''},\n",
    "        height=325,\n",
    "        text_auto='.2s'\n",
    "    )\n",
    "\n",
    "fig_scatter_all.update_traces(hovertemplate = \n",
    "    '$%{y:.2s}'+\n",
    "    '<br>%{x:%Y-%m-%d}<br>')\n",
    "\n",
    "fig_scatter_all.update_traces(marker_color='#E09641')#=dict(size=25,color='#E09641',line=dict(width=1,color='white')),selector=dict(mode='markers'))\n",
    "\n",
    "fig_scatter_all.update_coloraxes(showscale=False)\n",
    "fig_scatter_all.update_yaxes(showgrid=True,tickprefix='$',gridcolor=\"#B1A999\",tickvals=[-25000,0,25000,50000,75000,100000],tickfont=dict(color='#5A5856', size=17),showticklabels=True)\n",
    "fig_scatter_all.update_xaxes(showgrid=False,gridcolor='gray',tickfont=dict(color='#5A5856', size=13),title_font=dict(color='#5A5856',size=25))\n",
    "fig_scatter_all.update_xaxes(tickmode='array',tickvals = df.index, ticktext=df.index.strftime('<b>%a<br>%d</b>'))\n",
    "fig_scatter_all.update_layout(hoverlabel=dict(font_size=18,font_family=\"Rockwell\"),showlegend=True,\n",
    "                              legend=dict(orientation='h',\n",
    "                                          yanchor=\"bottom\",\n",
    "                                          y=1.5,\n",
    "                                          xanchor=\"right\",\n",
    "                                          x=.5,\n",
    "                                          title=''))"
   ]
  },
  {
   "cell_type": "code",
   "execution_count": null,
   "id": "1b955ba7",
   "metadata": {},
   "outputs": [],
   "source": []
  }
 ],
 "metadata": {
  "kernelspec": {
   "display_name": "Python 3 (ipykernel)",
   "language": "python",
   "name": "python3"
  },
  "language_info": {
   "codemirror_mode": {
    "name": "ipython",
    "version": 3
   },
   "file_extension": ".py",
   "mimetype": "text/x-python",
   "name": "python",
   "nbconvert_exporter": "python",
   "pygments_lexer": "ipython3",
   "version": "3.11.5"
  }
 },
 "nbformat": 4,
 "nbformat_minor": 5
}
