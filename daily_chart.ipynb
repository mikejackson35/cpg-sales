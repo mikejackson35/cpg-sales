{
 "cells": [
  {
   "cell_type": "code",
   "execution_count": 58,
   "id": "4e8d358a",
   "metadata": {},
   "outputs": [],
   "source": [
    "\n",
    "import pandas as pd\n",
    "import plotly.express as px\n",
    "import altair as alt\n",
    "# from sqlalchemy import create_engine\n",
    "# import secrets\n",
    "import numpy as np\n",
    "from datetime import datetime\n",
    "\n",
    "import plotly.graph_objects as go"
   ]
  },
  {
   "cell_type": "code",
   "execution_count": 59,
   "id": "72ca0f11",
   "metadata": {},
   "outputs": [
    {
     "data": {
      "text/html": [
       "<div>\n",
       "<style scoped>\n",
       "    .dataframe tbody tr th:only-of-type {\n",
       "        vertical-align: middle;\n",
       "    }\n",
       "\n",
       "    .dataframe tbody tr th {\n",
       "        vertical-align: top;\n",
       "    }\n",
       "\n",
       "    .dataframe thead th {\n",
       "        text-align: right;\n",
       "    }\n",
       "</style>\n",
       "<table border=\"1\" class=\"dataframe\">\n",
       "  <thead>\n",
       "    <tr style=\"text-align: right;\">\n",
       "      <th></th>\n",
       "      <th>date</th>\n",
       "      <th>sale_origin</th>\n",
       "      <th>market_segment</th>\n",
       "      <th>parent_customer</th>\n",
       "      <th>customer</th>\n",
       "      <th>usd</th>\n",
       "    </tr>\n",
       "  </thead>\n",
       "  <tbody>\n",
       "    <tr>\n",
       "      <th>0</th>\n",
       "      <td>2024-02-21</td>\n",
       "      <td>dot</td>\n",
       "      <td>Vending</td>\n",
       "      <td>Vistar</td>\n",
       "      <td>VISTAR-FLORIDA</td>\n",
       "      <td>1128.0000</td>\n",
       "    </tr>\n",
       "    <tr>\n",
       "      <th>1</th>\n",
       "      <td>2024-02-21</td>\n",
       "      <td>unl</td>\n",
       "      <td>Convenience</td>\n",
       "      <td>Direct University</td>\n",
       "      <td>Colorado State University</td>\n",
       "      <td>0.0000</td>\n",
       "    </tr>\n",
       "    <tr>\n",
       "      <th>2</th>\n",
       "      <td>2024-02-21</td>\n",
       "      <td>unl</td>\n",
       "      <td>Convenience</td>\n",
       "      <td>Direct University</td>\n",
       "      <td>Colorado State University</td>\n",
       "      <td>846.0000</td>\n",
       "    </tr>\n",
       "    <tr>\n",
       "      <th>3</th>\n",
       "      <td>2024-02-21</td>\n",
       "      <td>unl</td>\n",
       "      <td>Convenience</td>\n",
       "      <td>Direct University</td>\n",
       "      <td>Colorado State University</td>\n",
       "      <td>846.0000</td>\n",
       "    </tr>\n",
       "    <tr>\n",
       "      <th>4</th>\n",
       "      <td>2024-02-21</td>\n",
       "      <td>unl</td>\n",
       "      <td>Convenience</td>\n",
       "      <td>Direct University</td>\n",
       "      <td>Colorado State University</td>\n",
       "      <td>846.0000</td>\n",
       "    </tr>\n",
       "    <tr>\n",
       "      <th>...</th>\n",
       "      <td>...</td>\n",
       "      <td>...</td>\n",
       "      <td>...</td>\n",
       "      <td>...</td>\n",
       "      <td>...</td>\n",
       "      <td>...</td>\n",
       "    </tr>\n",
       "    <tr>\n",
       "      <th>143926</th>\n",
       "      <td>2021-01-04</td>\n",
       "      <td>unl</td>\n",
       "      <td>Online</td>\n",
       "      <td>Shopify</td>\n",
       "      <td>Shopify Customer - AWAKE Energy USA</td>\n",
       "      <td>3.9825</td>\n",
       "    </tr>\n",
       "    <tr>\n",
       "      <th>143927</th>\n",
       "      <td>2021-01-04</td>\n",
       "      <td>unl</td>\n",
       "      <td>Online</td>\n",
       "      <td>Amazon</td>\n",
       "      <td>Amazon.com</td>\n",
       "      <td>99.5850</td>\n",
       "    </tr>\n",
       "    <tr>\n",
       "      <th>143928</th>\n",
       "      <td>2021-01-04</td>\n",
       "      <td>unl</td>\n",
       "      <td>Online</td>\n",
       "      <td>Shopify</td>\n",
       "      <td>Shopify Customer - AWAKE Energy USA</td>\n",
       "      <td>25.6425</td>\n",
       "    </tr>\n",
       "    <tr>\n",
       "      <th>143929</th>\n",
       "      <td>2021-01-04</td>\n",
       "      <td>unl</td>\n",
       "      <td>Online</td>\n",
       "      <td>Shopify</td>\n",
       "      <td>Shopify Customer - AWAKE Energy USA</td>\n",
       "      <td>0.0000</td>\n",
       "    </tr>\n",
       "    <tr>\n",
       "      <th>143930</th>\n",
       "      <td>2021-01-01</td>\n",
       "      <td>dot</td>\n",
       "      <td>Convenience</td>\n",
       "      <td>Core-Mark</td>\n",
       "      <td>CORE-MARK/CAROLINA</td>\n",
       "      <td>78.4800</td>\n",
       "    </tr>\n",
       "  </tbody>\n",
       "</table>\n",
       "<p>143931 rows × 6 columns</p>\n",
       "</div>"
      ],
      "text/plain": [
       "             date sale_origin market_segment    parent_customer  \\\n",
       "0      2024-02-21         dot        Vending             Vistar   \n",
       "1      2024-02-21         unl    Convenience  Direct University   \n",
       "2      2024-02-21         unl    Convenience  Direct University   \n",
       "3      2024-02-21         unl    Convenience  Direct University   \n",
       "4      2024-02-21         unl    Convenience  Direct University   \n",
       "...           ...         ...            ...                ...   \n",
       "143926 2021-01-04         unl         Online            Shopify   \n",
       "143927 2021-01-04         unl         Online             Amazon   \n",
       "143928 2021-01-04         unl         Online            Shopify   \n",
       "143929 2021-01-04         unl         Online            Shopify   \n",
       "143930 2021-01-01         dot    Convenience          Core-Mark   \n",
       "\n",
       "                                   customer        usd  \n",
       "0                            VISTAR-FLORIDA  1128.0000  \n",
       "1                 Colorado State University     0.0000  \n",
       "2                 Colorado State University   846.0000  \n",
       "3                 Colorado State University   846.0000  \n",
       "4                 Colorado State University   846.0000  \n",
       "...                                     ...        ...  \n",
       "143926  Shopify Customer - AWAKE Energy USA     3.9825  \n",
       "143927                           Amazon.com    99.5850  \n",
       "143928  Shopify Customer - AWAKE Energy USA    25.6425  \n",
       "143929  Shopify Customer - AWAKE Energy USA     0.0000  \n",
       "143930                   CORE-MARK/CAROLINA    78.4800  \n",
       "\n",
       "[143931 rows x 6 columns]"
      ]
     },
     "execution_count": 59,
     "metadata": {},
     "output_type": "execute_result"
    }
   ],
   "source": [
    "df = pd.read_csv(r\"data/all_sales_data.csv\")\n",
    "# ### MASTER DATA ###\n",
    "all_sales = df.copy()\n",
    "\n",
    "all_sales = all_sales[(all_sales.market_segment != 'Samples')]\n",
    "\n",
    "# invoice date cleanup\n",
    "all_sales['date'] = pd.to_datetime(all_sales['date'])\n",
    "all_sales['date'] = all_sales['date'].dt.normalize()\n",
    "all_sales['date'] = all_sales['date'].dt.floor('D')\n",
    "\n",
    "df_selection = all_sales.copy().drop(columns=['month','year','item','qty','cad'])\n",
    "df_selection"
   ]
  },
  {
   "cell_type": "code",
   "execution_count": 61,
   "id": "f2ab71ab",
   "metadata": {},
   "outputs": [],
   "source": [
    "############ MARKET SEGMENT COLOR DICTIONARY\n",
    "\n",
    "market_segment_color = {\n",
    "    'Vending': 'rgb(56,149,73)',\n",
    "    'Grocery': 'rgb(248,184,230)',\n",
    "    'Alternate Retail': 'rgb(46,70,166)',\n",
    "    'Canada': 'rgb(204,208,221)',\n",
    "    'Online': 'rgb(106,87,63)',\n",
    "    'Other': 'rgb(200,237,233)',\n",
    "    'Convenience': 'rgb(233,81,46)',\n",
    "    'Broadline Distributor': 'rgb(233,152,19)',\n",
    "    'Samples': 'rgb(141,62,92)'}\n",
    "\n",
    "sale_origin_dict = {\n",
    "    'Dot': 'rgb(81, 121, 198)',\n",
    "    'Unleashed': 'rgb(239, 83, 80)'\n",
    "}"
   ]
  },
  {
   "cell_type": "code",
   "execution_count": 60,
   "id": "23a30367",
   "metadata": {},
   "outputs": [
    {
     "data": {
      "application/vnd.plotly.v1+json": {
       "config": {
        "plotlyServerURL": "https://plot.ly"
       },
       "data": [
        {
         "hovertemplate": "%{y:.2s}",
         "marker": {
          "color": "orange",
          "line": {
           "color": "darkslategrey",
           "width": 1
          },
          "size": 8
         },
         "mode": "markers",
         "name": "Direct Goal",
         "texttemplate": "%{y:.2s}",
         "type": "scatter",
         "x": [
          "Jan",
          "Feb",
          "Mar",
          "Apr",
          "May",
          "Jun",
          "Jul",
          "Aug",
          "Sep",
          "Oct",
          "Nov",
          "Dec"
         ],
         "y": [
          803969.5050000001,
          1351672.1775,
          1496486.44125,
          1083278.3175,
          1116272.1824999999,
          1113300.09,
          959400,
          1232265.3525,
          1460281.7137499999,
          1526933.5425,
          1624129.32375,
          1172329.5375
         ]
        },
        {
         "hovertemplate": "%{y:.2s}",
         "marker": {
          "color": "#5a5856",
          "opacity": 0.5
         },
         "name": "2023",
         "texttemplate": "%{y:.2s}",
         "type": "bar",
         "x": [
          "Jan",
          "Feb",
          "Mar",
          "Apr",
          "May",
          "Jun",
          "Jul",
          "Aug",
          "Sep",
          "Oct",
          "Nov",
          "Dec"
         ],
         "y": [
          535979.67,
          901114.785,
          997657.6275,
          722185.5449999999,
          744181.455,
          742200.06,
          639600,
          821510.235,
          973521.1425,
          1017955.695,
          1082752.8825,
          781553.025
         ]
        },
        {
         "hovertemplate": "%{y:.2s}",
         "marker": {
          "color": "#E09641"
         },
         "name": "2024",
         "texttemplate": "%{y:.2s}",
         "type": "bar",
         "x": [
          "Jan",
          "Feb",
          "Mar",
          "Apr",
          "May",
          "Jun",
          "Jul",
          "Aug",
          "Sep",
          "Oct",
          "Nov",
          "Dec"
         ],
         "y": [
          769278.87,
          177641.205,
          0,
          0,
          0,
          0,
          0,
          0,
          0,
          0,
          0,
          0
         ]
        }
       ],
       "layout": {
        "bargap": 0.15,
        "bargroupgap": 0.1,
        "barmode": "group",
        "height": 350,
        "hoverlabel": {
         "font": {
          "family": "Rockwell",
          "size": 18
         }
        },
        "legend": {
         "orientation": "h",
         "x": 0.02,
         "y": 1.1
        },
        "template": {
         "data": {
          "bar": [
           {
            "error_x": {
             "color": "#2a3f5f"
            },
            "error_y": {
             "color": "#2a3f5f"
            },
            "marker": {
             "line": {
              "color": "white",
              "width": 0.5
             },
             "pattern": {
              "fillmode": "overlay",
              "size": 10,
              "solidity": 0.2
             }
            },
            "type": "bar"
           }
          ],
          "barpolar": [
           {
            "marker": {
             "line": {
              "color": "white",
              "width": 0.5
             },
             "pattern": {
              "fillmode": "overlay",
              "size": 10,
              "solidity": 0.2
             }
            },
            "type": "barpolar"
           }
          ],
          "carpet": [
           {
            "aaxis": {
             "endlinecolor": "#2a3f5f",
             "gridcolor": "#C8D4E3",
             "linecolor": "#C8D4E3",
             "minorgridcolor": "#C8D4E3",
             "startlinecolor": "#2a3f5f"
            },
            "baxis": {
             "endlinecolor": "#2a3f5f",
             "gridcolor": "#C8D4E3",
             "linecolor": "#C8D4E3",
             "minorgridcolor": "#C8D4E3",
             "startlinecolor": "#2a3f5f"
            },
            "type": "carpet"
           }
          ],
          "choropleth": [
           {
            "colorbar": {
             "outlinewidth": 0,
             "ticks": ""
            },
            "type": "choropleth"
           }
          ],
          "contour": [
           {
            "colorbar": {
             "outlinewidth": 0,
             "ticks": ""
            },
            "colorscale": [
             [
              0,
              "#0d0887"
             ],
             [
              0.1111111111111111,
              "#46039f"
             ],
             [
              0.2222222222222222,
              "#7201a8"
             ],
             [
              0.3333333333333333,
              "#9c179e"
             ],
             [
              0.4444444444444444,
              "#bd3786"
             ],
             [
              0.5555555555555556,
              "#d8576b"
             ],
             [
              0.6666666666666666,
              "#ed7953"
             ],
             [
              0.7777777777777778,
              "#fb9f3a"
             ],
             [
              0.8888888888888888,
              "#fdca26"
             ],
             [
              1,
              "#f0f921"
             ]
            ],
            "type": "contour"
           }
          ],
          "contourcarpet": [
           {
            "colorbar": {
             "outlinewidth": 0,
             "ticks": ""
            },
            "type": "contourcarpet"
           }
          ],
          "heatmap": [
           {
            "colorbar": {
             "outlinewidth": 0,
             "ticks": ""
            },
            "colorscale": [
             [
              0,
              "#0d0887"
             ],
             [
              0.1111111111111111,
              "#46039f"
             ],
             [
              0.2222222222222222,
              "#7201a8"
             ],
             [
              0.3333333333333333,
              "#9c179e"
             ],
             [
              0.4444444444444444,
              "#bd3786"
             ],
             [
              0.5555555555555556,
              "#d8576b"
             ],
             [
              0.6666666666666666,
              "#ed7953"
             ],
             [
              0.7777777777777778,
              "#fb9f3a"
             ],
             [
              0.8888888888888888,
              "#fdca26"
             ],
             [
              1,
              "#f0f921"
             ]
            ],
            "type": "heatmap"
           }
          ],
          "heatmapgl": [
           {
            "colorbar": {
             "outlinewidth": 0,
             "ticks": ""
            },
            "colorscale": [
             [
              0,
              "#0d0887"
             ],
             [
              0.1111111111111111,
              "#46039f"
             ],
             [
              0.2222222222222222,
              "#7201a8"
             ],
             [
              0.3333333333333333,
              "#9c179e"
             ],
             [
              0.4444444444444444,
              "#bd3786"
             ],
             [
              0.5555555555555556,
              "#d8576b"
             ],
             [
              0.6666666666666666,
              "#ed7953"
             ],
             [
              0.7777777777777778,
              "#fb9f3a"
             ],
             [
              0.8888888888888888,
              "#fdca26"
             ],
             [
              1,
              "#f0f921"
             ]
            ],
            "type": "heatmapgl"
           }
          ],
          "histogram": [
           {
            "marker": {
             "pattern": {
              "fillmode": "overlay",
              "size": 10,
              "solidity": 0.2
             }
            },
            "type": "histogram"
           }
          ],
          "histogram2d": [
           {
            "colorbar": {
             "outlinewidth": 0,
             "ticks": ""
            },
            "colorscale": [
             [
              0,
              "#0d0887"
             ],
             [
              0.1111111111111111,
              "#46039f"
             ],
             [
              0.2222222222222222,
              "#7201a8"
             ],
             [
              0.3333333333333333,
              "#9c179e"
             ],
             [
              0.4444444444444444,
              "#bd3786"
             ],
             [
              0.5555555555555556,
              "#d8576b"
             ],
             [
              0.6666666666666666,
              "#ed7953"
             ],
             [
              0.7777777777777778,
              "#fb9f3a"
             ],
             [
              0.8888888888888888,
              "#fdca26"
             ],
             [
              1,
              "#f0f921"
             ]
            ],
            "type": "histogram2d"
           }
          ],
          "histogram2dcontour": [
           {
            "colorbar": {
             "outlinewidth": 0,
             "ticks": ""
            },
            "colorscale": [
             [
              0,
              "#0d0887"
             ],
             [
              0.1111111111111111,
              "#46039f"
             ],
             [
              0.2222222222222222,
              "#7201a8"
             ],
             [
              0.3333333333333333,
              "#9c179e"
             ],
             [
              0.4444444444444444,
              "#bd3786"
             ],
             [
              0.5555555555555556,
              "#d8576b"
             ],
             [
              0.6666666666666666,
              "#ed7953"
             ],
             [
              0.7777777777777778,
              "#fb9f3a"
             ],
             [
              0.8888888888888888,
              "#fdca26"
             ],
             [
              1,
              "#f0f921"
             ]
            ],
            "type": "histogram2dcontour"
           }
          ],
          "mesh3d": [
           {
            "colorbar": {
             "outlinewidth": 0,
             "ticks": ""
            },
            "type": "mesh3d"
           }
          ],
          "parcoords": [
           {
            "line": {
             "colorbar": {
              "outlinewidth": 0,
              "ticks": ""
             }
            },
            "type": "parcoords"
           }
          ],
          "pie": [
           {
            "automargin": true,
            "type": "pie"
           }
          ],
          "scatter": [
           {
            "fillpattern": {
             "fillmode": "overlay",
             "size": 10,
             "solidity": 0.2
            },
            "type": "scatter"
           }
          ],
          "scatter3d": [
           {
            "line": {
             "colorbar": {
              "outlinewidth": 0,
              "ticks": ""
             }
            },
            "marker": {
             "colorbar": {
              "outlinewidth": 0,
              "ticks": ""
             }
            },
            "type": "scatter3d"
           }
          ],
          "scattercarpet": [
           {
            "marker": {
             "colorbar": {
              "outlinewidth": 0,
              "ticks": ""
             }
            },
            "type": "scattercarpet"
           }
          ],
          "scattergeo": [
           {
            "marker": {
             "colorbar": {
              "outlinewidth": 0,
              "ticks": ""
             }
            },
            "type": "scattergeo"
           }
          ],
          "scattergl": [
           {
            "marker": {
             "colorbar": {
              "outlinewidth": 0,
              "ticks": ""
             }
            },
            "type": "scattergl"
           }
          ],
          "scattermapbox": [
           {
            "marker": {
             "colorbar": {
              "outlinewidth": 0,
              "ticks": ""
             }
            },
            "type": "scattermapbox"
           }
          ],
          "scatterpolar": [
           {
            "marker": {
             "colorbar": {
              "outlinewidth": 0,
              "ticks": ""
             }
            },
            "type": "scatterpolar"
           }
          ],
          "scatterpolargl": [
           {
            "marker": {
             "colorbar": {
              "outlinewidth": 0,
              "ticks": ""
             }
            },
            "type": "scatterpolargl"
           }
          ],
          "scatterternary": [
           {
            "marker": {
             "colorbar": {
              "outlinewidth": 0,
              "ticks": ""
             }
            },
            "type": "scatterternary"
           }
          ],
          "surface": [
           {
            "colorbar": {
             "outlinewidth": 0,
             "ticks": ""
            },
            "colorscale": [
             [
              0,
              "#0d0887"
             ],
             [
              0.1111111111111111,
              "#46039f"
             ],
             [
              0.2222222222222222,
              "#7201a8"
             ],
             [
              0.3333333333333333,
              "#9c179e"
             ],
             [
              0.4444444444444444,
              "#bd3786"
             ],
             [
              0.5555555555555556,
              "#d8576b"
             ],
             [
              0.6666666666666666,
              "#ed7953"
             ],
             [
              0.7777777777777778,
              "#fb9f3a"
             ],
             [
              0.8888888888888888,
              "#fdca26"
             ],
             [
              1,
              "#f0f921"
             ]
            ],
            "type": "surface"
           }
          ],
          "table": [
           {
            "cells": {
             "fill": {
              "color": "#EBF0F8"
             },
             "line": {
              "color": "white"
             }
            },
            "header": {
             "fill": {
              "color": "#C8D4E3"
             },
             "line": {
              "color": "white"
             }
            },
            "type": "table"
           }
          ]
         },
         "layout": {
          "annotationdefaults": {
           "arrowcolor": "#2a3f5f",
           "arrowhead": 0,
           "arrowwidth": 1
          },
          "autotypenumbers": "strict",
          "coloraxis": {
           "colorbar": {
            "outlinewidth": 0,
            "ticks": ""
           }
          },
          "colorscale": {
           "diverging": [
            [
             0,
             "#8e0152"
            ],
            [
             0.1,
             "#c51b7d"
            ],
            [
             0.2,
             "#de77ae"
            ],
            [
             0.3,
             "#f1b6da"
            ],
            [
             0.4,
             "#fde0ef"
            ],
            [
             0.5,
             "#f7f7f7"
            ],
            [
             0.6,
             "#e6f5d0"
            ],
            [
             0.7,
             "#b8e186"
            ],
            [
             0.8,
             "#7fbc41"
            ],
            [
             0.9,
             "#4d9221"
            ],
            [
             1,
             "#276419"
            ]
           ],
           "sequential": [
            [
             0,
             "#0d0887"
            ],
            [
             0.1111111111111111,
             "#46039f"
            ],
            [
             0.2222222222222222,
             "#7201a8"
            ],
            [
             0.3333333333333333,
             "#9c179e"
            ],
            [
             0.4444444444444444,
             "#bd3786"
            ],
            [
             0.5555555555555556,
             "#d8576b"
            ],
            [
             0.6666666666666666,
             "#ed7953"
            ],
            [
             0.7777777777777778,
             "#fb9f3a"
            ],
            [
             0.8888888888888888,
             "#fdca26"
            ],
            [
             1,
             "#f0f921"
            ]
           ],
           "sequentialminus": [
            [
             0,
             "#0d0887"
            ],
            [
             0.1111111111111111,
             "#46039f"
            ],
            [
             0.2222222222222222,
             "#7201a8"
            ],
            [
             0.3333333333333333,
             "#9c179e"
            ],
            [
             0.4444444444444444,
             "#bd3786"
            ],
            [
             0.5555555555555556,
             "#d8576b"
            ],
            [
             0.6666666666666666,
             "#ed7953"
            ],
            [
             0.7777777777777778,
             "#fb9f3a"
            ],
            [
             0.8888888888888888,
             "#fdca26"
            ],
            [
             1,
             "#f0f921"
            ]
           ]
          },
          "colorway": [
           "#636efa",
           "#EF553B",
           "#00cc96",
           "#ab63fa",
           "#FFA15A",
           "#19d3f3",
           "#FF6692",
           "#B6E880",
           "#FF97FF",
           "#FECB52"
          ],
          "font": {
           "color": "#2a3f5f"
          },
          "geo": {
           "bgcolor": "white",
           "lakecolor": "white",
           "landcolor": "white",
           "showlakes": true,
           "showland": true,
           "subunitcolor": "#C8D4E3"
          },
          "hoverlabel": {
           "align": "left"
          },
          "hovermode": "closest",
          "mapbox": {
           "style": "light"
          },
          "paper_bgcolor": "white",
          "plot_bgcolor": "white",
          "polar": {
           "angularaxis": {
            "gridcolor": "#EBF0F8",
            "linecolor": "#EBF0F8",
            "ticks": ""
           },
           "bgcolor": "white",
           "radialaxis": {
            "gridcolor": "#EBF0F8",
            "linecolor": "#EBF0F8",
            "ticks": ""
           }
          },
          "scene": {
           "xaxis": {
            "backgroundcolor": "white",
            "gridcolor": "#DFE8F3",
            "gridwidth": 2,
            "linecolor": "#EBF0F8",
            "showbackground": true,
            "ticks": "",
            "zerolinecolor": "#EBF0F8"
           },
           "yaxis": {
            "backgroundcolor": "white",
            "gridcolor": "#DFE8F3",
            "gridwidth": 2,
            "linecolor": "#EBF0F8",
            "showbackground": true,
            "ticks": "",
            "zerolinecolor": "#EBF0F8"
           },
           "zaxis": {
            "backgroundcolor": "white",
            "gridcolor": "#DFE8F3",
            "gridwidth": 2,
            "linecolor": "#EBF0F8",
            "showbackground": true,
            "ticks": "",
            "zerolinecolor": "#EBF0F8"
           }
          },
          "shapedefaults": {
           "line": {
            "color": "#2a3f5f"
           }
          },
          "ternary": {
           "aaxis": {
            "gridcolor": "#DFE8F3",
            "linecolor": "#A2B1C6",
            "ticks": ""
           },
           "baxis": {
            "gridcolor": "#DFE8F3",
            "linecolor": "#A2B1C6",
            "ticks": ""
           },
           "bgcolor": "white",
           "caxis": {
            "gridcolor": "#DFE8F3",
            "linecolor": "#A2B1C6",
            "ticks": ""
           }
          },
          "title": {
           "x": 0.05
          },
          "xaxis": {
           "automargin": true,
           "gridcolor": "#EBF0F8",
           "linecolor": "#EBF0F8",
           "ticks": "",
           "title": {
            "standoff": 15
           },
           "zerolinecolor": "#EBF0F8",
           "zerolinewidth": 2
          },
          "yaxis": {
           "automargin": true,
           "gridcolor": "#EBF0F8",
           "linecolor": "#EBF0F8",
           "ticks": "",
           "title": {
            "standoff": 15
           },
           "zerolinecolor": "#EBF0F8",
           "zerolinewidth": 2
          }
         }
        },
        "xaxis": {
         "gridcolor": "#B1A999",
         "showgrid": false,
         "showticklabels": true,
         "tickfont": {
          "color": "#5A5856",
          "size": 14
         },
         "title": {
          "font": {
           "color": "#5A5856",
           "size": 15
          }
         }
        },
        "yaxis": {
         "gridcolor": "#B1A999",
         "showgrid": true,
         "showticklabels": false
        }
       }
      },
      "text/html": [
       "<div>                            <div id=\"676a399d-d94c-4127-9b48-f67dd881cb03\" class=\"plotly-graph-div\" style=\"height:350px; width:100%;\"></div>            <script type=\"text/javascript\">                require([\"plotly\"], function(Plotly) {                    window.PLOTLYENV=window.PLOTLYENV || {};                                    if (document.getElementById(\"676a399d-d94c-4127-9b48-f67dd881cb03\")) {                    Plotly.newPlot(                        \"676a399d-d94c-4127-9b48-f67dd881cb03\",                        [{\"hovertemplate\":\"%{y:.2s}\",\"marker\":{\"color\":\"orange\",\"line\":{\"color\":\"darkslategrey\",\"width\":1},\"size\":8},\"mode\":\"markers\",\"name\":\"Direct Goal\",\"x\":[\"Jan\",\"Feb\",\"Mar\",\"Apr\",\"May\",\"Jun\",\"Jul\",\"Aug\",\"Sep\",\"Oct\",\"Nov\",\"Dec\"],\"y\":[803969.5050000001,1351672.1775,1496486.44125,1083278.3175,1116272.1824999999,1113300.09,959400.0,1232265.3525,1460281.7137499999,1526933.5425,1624129.32375,1172329.5375],\"type\":\"scatter\",\"texttemplate\":\"%{y:.2s}\"},{\"hovertemplate\":\"%{y:.2s}\",\"marker\":{\"color\":\"#5a5856\",\"opacity\":0.5},\"name\":\"2023\",\"x\":[\"Jan\",\"Feb\",\"Mar\",\"Apr\",\"May\",\"Jun\",\"Jul\",\"Aug\",\"Sep\",\"Oct\",\"Nov\",\"Dec\"],\"y\":[535979.67,901114.785,997657.6275,722185.5449999999,744181.455,742200.06,639600.0,821510.235,973521.1425,1017955.695,1082752.8825,781553.025],\"type\":\"bar\",\"texttemplate\":\"%{y:.2s}\"},{\"hovertemplate\":\"%{y:.2s}\",\"marker\":{\"color\":\"#E09641\"},\"name\":\"2024\",\"x\":[\"Jan\",\"Feb\",\"Mar\",\"Apr\",\"May\",\"Jun\",\"Jul\",\"Aug\",\"Sep\",\"Oct\",\"Nov\",\"Dec\"],\"y\":[769278.87,177641.205,0.0,0.0,0.0,0.0,0.0,0.0,0.0,0.0,0.0,0.0],\"type\":\"bar\",\"texttemplate\":\"%{y:.2s}\"}],                        {\"bargap\":0.15,\"bargroupgap\":0.1,\"barmode\":\"group\",\"height\":350,\"hoverlabel\":{\"font\":{\"size\":18,\"family\":\"Rockwell\"}},\"legend\":{\"orientation\":\"h\",\"x\":0.02,\"y\":1.1},\"template\":{\"data\":{\"barpolar\":[{\"marker\":{\"line\":{\"color\":\"white\",\"width\":0.5},\"pattern\":{\"fillmode\":\"overlay\",\"size\":10,\"solidity\":0.2}},\"type\":\"barpolar\"}],\"bar\":[{\"error_x\":{\"color\":\"#2a3f5f\"},\"error_y\":{\"color\":\"#2a3f5f\"},\"marker\":{\"line\":{\"color\":\"white\",\"width\":0.5},\"pattern\":{\"fillmode\":\"overlay\",\"size\":10,\"solidity\":0.2}},\"type\":\"bar\"}],\"carpet\":[{\"aaxis\":{\"endlinecolor\":\"#2a3f5f\",\"gridcolor\":\"#C8D4E3\",\"linecolor\":\"#C8D4E3\",\"minorgridcolor\":\"#C8D4E3\",\"startlinecolor\":\"#2a3f5f\"},\"baxis\":{\"endlinecolor\":\"#2a3f5f\",\"gridcolor\":\"#C8D4E3\",\"linecolor\":\"#C8D4E3\",\"minorgridcolor\":\"#C8D4E3\",\"startlinecolor\":\"#2a3f5f\"},\"type\":\"carpet\"}],\"choropleth\":[{\"colorbar\":{\"outlinewidth\":0,\"ticks\":\"\"},\"type\":\"choropleth\"}],\"contourcarpet\":[{\"colorbar\":{\"outlinewidth\":0,\"ticks\":\"\"},\"type\":\"contourcarpet\"}],\"contour\":[{\"colorbar\":{\"outlinewidth\":0,\"ticks\":\"\"},\"colorscale\":[[0.0,\"#0d0887\"],[0.1111111111111111,\"#46039f\"],[0.2222222222222222,\"#7201a8\"],[0.3333333333333333,\"#9c179e\"],[0.4444444444444444,\"#bd3786\"],[0.5555555555555556,\"#d8576b\"],[0.6666666666666666,\"#ed7953\"],[0.7777777777777778,\"#fb9f3a\"],[0.8888888888888888,\"#fdca26\"],[1.0,\"#f0f921\"]],\"type\":\"contour\"}],\"heatmapgl\":[{\"colorbar\":{\"outlinewidth\":0,\"ticks\":\"\"},\"colorscale\":[[0.0,\"#0d0887\"],[0.1111111111111111,\"#46039f\"],[0.2222222222222222,\"#7201a8\"],[0.3333333333333333,\"#9c179e\"],[0.4444444444444444,\"#bd3786\"],[0.5555555555555556,\"#d8576b\"],[0.6666666666666666,\"#ed7953\"],[0.7777777777777778,\"#fb9f3a\"],[0.8888888888888888,\"#fdca26\"],[1.0,\"#f0f921\"]],\"type\":\"heatmapgl\"}],\"heatmap\":[{\"colorbar\":{\"outlinewidth\":0,\"ticks\":\"\"},\"colorscale\":[[0.0,\"#0d0887\"],[0.1111111111111111,\"#46039f\"],[0.2222222222222222,\"#7201a8\"],[0.3333333333333333,\"#9c179e\"],[0.4444444444444444,\"#bd3786\"],[0.5555555555555556,\"#d8576b\"],[0.6666666666666666,\"#ed7953\"],[0.7777777777777778,\"#fb9f3a\"],[0.8888888888888888,\"#fdca26\"],[1.0,\"#f0f921\"]],\"type\":\"heatmap\"}],\"histogram2dcontour\":[{\"colorbar\":{\"outlinewidth\":0,\"ticks\":\"\"},\"colorscale\":[[0.0,\"#0d0887\"],[0.1111111111111111,\"#46039f\"],[0.2222222222222222,\"#7201a8\"],[0.3333333333333333,\"#9c179e\"],[0.4444444444444444,\"#bd3786\"],[0.5555555555555556,\"#d8576b\"],[0.6666666666666666,\"#ed7953\"],[0.7777777777777778,\"#fb9f3a\"],[0.8888888888888888,\"#fdca26\"],[1.0,\"#f0f921\"]],\"type\":\"histogram2dcontour\"}],\"histogram2d\":[{\"colorbar\":{\"outlinewidth\":0,\"ticks\":\"\"},\"colorscale\":[[0.0,\"#0d0887\"],[0.1111111111111111,\"#46039f\"],[0.2222222222222222,\"#7201a8\"],[0.3333333333333333,\"#9c179e\"],[0.4444444444444444,\"#bd3786\"],[0.5555555555555556,\"#d8576b\"],[0.6666666666666666,\"#ed7953\"],[0.7777777777777778,\"#fb9f3a\"],[0.8888888888888888,\"#fdca26\"],[1.0,\"#f0f921\"]],\"type\":\"histogram2d\"}],\"histogram\":[{\"marker\":{\"pattern\":{\"fillmode\":\"overlay\",\"size\":10,\"solidity\":0.2}},\"type\":\"histogram\"}],\"mesh3d\":[{\"colorbar\":{\"outlinewidth\":0,\"ticks\":\"\"},\"type\":\"mesh3d\"}],\"parcoords\":[{\"line\":{\"colorbar\":{\"outlinewidth\":0,\"ticks\":\"\"}},\"type\":\"parcoords\"}],\"pie\":[{\"automargin\":true,\"type\":\"pie\"}],\"scatter3d\":[{\"line\":{\"colorbar\":{\"outlinewidth\":0,\"ticks\":\"\"}},\"marker\":{\"colorbar\":{\"outlinewidth\":0,\"ticks\":\"\"}},\"type\":\"scatter3d\"}],\"scattercarpet\":[{\"marker\":{\"colorbar\":{\"outlinewidth\":0,\"ticks\":\"\"}},\"type\":\"scattercarpet\"}],\"scattergeo\":[{\"marker\":{\"colorbar\":{\"outlinewidth\":0,\"ticks\":\"\"}},\"type\":\"scattergeo\"}],\"scattergl\":[{\"marker\":{\"colorbar\":{\"outlinewidth\":0,\"ticks\":\"\"}},\"type\":\"scattergl\"}],\"scattermapbox\":[{\"marker\":{\"colorbar\":{\"outlinewidth\":0,\"ticks\":\"\"}},\"type\":\"scattermapbox\"}],\"scatterpolargl\":[{\"marker\":{\"colorbar\":{\"outlinewidth\":0,\"ticks\":\"\"}},\"type\":\"scatterpolargl\"}],\"scatterpolar\":[{\"marker\":{\"colorbar\":{\"outlinewidth\":0,\"ticks\":\"\"}},\"type\":\"scatterpolar\"}],\"scatter\":[{\"fillpattern\":{\"fillmode\":\"overlay\",\"size\":10,\"solidity\":0.2},\"type\":\"scatter\"}],\"scatterternary\":[{\"marker\":{\"colorbar\":{\"outlinewidth\":0,\"ticks\":\"\"}},\"type\":\"scatterternary\"}],\"surface\":[{\"colorbar\":{\"outlinewidth\":0,\"ticks\":\"\"},\"colorscale\":[[0.0,\"#0d0887\"],[0.1111111111111111,\"#46039f\"],[0.2222222222222222,\"#7201a8\"],[0.3333333333333333,\"#9c179e\"],[0.4444444444444444,\"#bd3786\"],[0.5555555555555556,\"#d8576b\"],[0.6666666666666666,\"#ed7953\"],[0.7777777777777778,\"#fb9f3a\"],[0.8888888888888888,\"#fdca26\"],[1.0,\"#f0f921\"]],\"type\":\"surface\"}],\"table\":[{\"cells\":{\"fill\":{\"color\":\"#EBF0F8\"},\"line\":{\"color\":\"white\"}},\"header\":{\"fill\":{\"color\":\"#C8D4E3\"},\"line\":{\"color\":\"white\"}},\"type\":\"table\"}]},\"layout\":{\"annotationdefaults\":{\"arrowcolor\":\"#2a3f5f\",\"arrowhead\":0,\"arrowwidth\":1},\"autotypenumbers\":\"strict\",\"coloraxis\":{\"colorbar\":{\"outlinewidth\":0,\"ticks\":\"\"}},\"colorscale\":{\"diverging\":[[0,\"#8e0152\"],[0.1,\"#c51b7d\"],[0.2,\"#de77ae\"],[0.3,\"#f1b6da\"],[0.4,\"#fde0ef\"],[0.5,\"#f7f7f7\"],[0.6,\"#e6f5d0\"],[0.7,\"#b8e186\"],[0.8,\"#7fbc41\"],[0.9,\"#4d9221\"],[1,\"#276419\"]],\"sequential\":[[0.0,\"#0d0887\"],[0.1111111111111111,\"#46039f\"],[0.2222222222222222,\"#7201a8\"],[0.3333333333333333,\"#9c179e\"],[0.4444444444444444,\"#bd3786\"],[0.5555555555555556,\"#d8576b\"],[0.6666666666666666,\"#ed7953\"],[0.7777777777777778,\"#fb9f3a\"],[0.8888888888888888,\"#fdca26\"],[1.0,\"#f0f921\"]],\"sequentialminus\":[[0.0,\"#0d0887\"],[0.1111111111111111,\"#46039f\"],[0.2222222222222222,\"#7201a8\"],[0.3333333333333333,\"#9c179e\"],[0.4444444444444444,\"#bd3786\"],[0.5555555555555556,\"#d8576b\"],[0.6666666666666666,\"#ed7953\"],[0.7777777777777778,\"#fb9f3a\"],[0.8888888888888888,\"#fdca26\"],[1.0,\"#f0f921\"]]},\"colorway\":[\"#636efa\",\"#EF553B\",\"#00cc96\",\"#ab63fa\",\"#FFA15A\",\"#19d3f3\",\"#FF6692\",\"#B6E880\",\"#FF97FF\",\"#FECB52\"],\"font\":{\"color\":\"#2a3f5f\"},\"geo\":{\"bgcolor\":\"white\",\"lakecolor\":\"white\",\"landcolor\":\"white\",\"showlakes\":true,\"showland\":true,\"subunitcolor\":\"#C8D4E3\"},\"hoverlabel\":{\"align\":\"left\"},\"hovermode\":\"closest\",\"mapbox\":{\"style\":\"light\"},\"paper_bgcolor\":\"white\",\"plot_bgcolor\":\"white\",\"polar\":{\"angularaxis\":{\"gridcolor\":\"#EBF0F8\",\"linecolor\":\"#EBF0F8\",\"ticks\":\"\"},\"bgcolor\":\"white\",\"radialaxis\":{\"gridcolor\":\"#EBF0F8\",\"linecolor\":\"#EBF0F8\",\"ticks\":\"\"}},\"scene\":{\"xaxis\":{\"backgroundcolor\":\"white\",\"gridcolor\":\"#DFE8F3\",\"gridwidth\":2,\"linecolor\":\"#EBF0F8\",\"showbackground\":true,\"ticks\":\"\",\"zerolinecolor\":\"#EBF0F8\"},\"yaxis\":{\"backgroundcolor\":\"white\",\"gridcolor\":\"#DFE8F3\",\"gridwidth\":2,\"linecolor\":\"#EBF0F8\",\"showbackground\":true,\"ticks\":\"\",\"zerolinecolor\":\"#EBF0F8\"},\"zaxis\":{\"backgroundcolor\":\"white\",\"gridcolor\":\"#DFE8F3\",\"gridwidth\":2,\"linecolor\":\"#EBF0F8\",\"showbackground\":true,\"ticks\":\"\",\"zerolinecolor\":\"#EBF0F8\"}},\"shapedefaults\":{\"line\":{\"color\":\"#2a3f5f\"}},\"ternary\":{\"aaxis\":{\"gridcolor\":\"#DFE8F3\",\"linecolor\":\"#A2B1C6\",\"ticks\":\"\"},\"baxis\":{\"gridcolor\":\"#DFE8F3\",\"linecolor\":\"#A2B1C6\",\"ticks\":\"\"},\"bgcolor\":\"white\",\"caxis\":{\"gridcolor\":\"#DFE8F3\",\"linecolor\":\"#A2B1C6\",\"ticks\":\"\"}},\"title\":{\"x\":0.05},\"xaxis\":{\"automargin\":true,\"gridcolor\":\"#EBF0F8\",\"linecolor\":\"#EBF0F8\",\"ticks\":\"\",\"title\":{\"standoff\":15},\"zerolinecolor\":\"#EBF0F8\",\"zerolinewidth\":2},\"yaxis\":{\"automargin\":true,\"gridcolor\":\"#EBF0F8\",\"linecolor\":\"#EBF0F8\",\"ticks\":\"\",\"title\":{\"standoff\":15},\"zerolinecolor\":\"#EBF0F8\",\"zerolinewidth\":2}}},\"xaxis\":{\"tickfont\":{\"color\":\"#5A5856\",\"size\":14},\"title\":{\"font\":{\"color\":\"#5A5856\",\"size\":15}},\"showticklabels\":true,\"showgrid\":false,\"gridcolor\":\"#B1A999\"},\"yaxis\":{\"showticklabels\":false,\"showgrid\":true,\"gridcolor\":\"#B1A999\"}},                        {\"responsive\": true}                    ).then(function(){\n",
       "                            \n",
       "var gd = document.getElementById('676a399d-d94c-4127-9b48-f67dd881cb03');\n",
       "var x = new MutationObserver(function (mutations, observer) {{\n",
       "        var display = window.getComputedStyle(gd).display;\n",
       "        if (!display || display === 'none') {{\n",
       "            console.log([gd, 'removed!']);\n",
       "            Plotly.purge(gd);\n",
       "            observer.disconnect();\n",
       "        }}\n",
       "}});\n",
       "\n",
       "// Listen for the removal of the full notebook cells\n",
       "var notebookContainer = gd.closest('#notebook-container');\n",
       "if (notebookContainer) {{\n",
       "    x.observe(notebookContainer, {childList: true});\n",
       "}}\n",
       "\n",
       "// Listen for the clearing of the current output cell\n",
       "var outputEl = gd.closest('.output');\n",
       "if (outputEl) {{\n",
       "    x.observe(outputEl, {childList: true});\n",
       "}}\n",
       "\n",
       "                        })                };                });            </script>        </div>"
      ]
     },
     "metadata": {},
     "output_type": "display_data"
    }
   ],
   "source": [
    "l1 = pd.read_csv(r\"data/l1.csv\")\n",
    "\n",
    "# l1 cleanup for bar\n",
    "l1['usd'] = l1['sub_total']*.75\n",
    "l1 = l1[(l1.customer_type != 'Samples')][['completed_date','usd']].sort_values(by='completed_date',ascending=False)\n",
    "\n",
    "l1['completed_date'] = pd.to_datetime(l1['completed_date'])\n",
    "l1['year'] = l1['completed_date'].dt.year\n",
    "l1['YearMonth'] = l1['completed_date'].astype('string').apply(lambda x: x.split(\"-\")[0] + \"-\" + x.split(\"-\")[1])\n",
    "\n",
    "l1 = l1.groupby(['year','YearMonth'],as_index=False)['usd'].sum()\n",
    "\n",
    "l1.loc[len(l1)] = [2024, '2024-03', 0]  # zero sales for future months of year\n",
    "l1.loc[len(l1)] = [2024, '2024-04', 0]\n",
    "l1.loc[len(l1)] = [2024, '2024-05', 0]\n",
    "l1.loc[len(l1)] = [2024, '2024-06', 0]\n",
    "l1.loc[len(l1)] = [2024, '2024-07', 0]\n",
    "l1.loc[len(l1)] = [2024, '2024-08', 0]\n",
    "l1.loc[len(l1)] = [2024, '2024-09', 0]\n",
    "l1.loc[len(l1)] = [2024, '2024-10', 0]\n",
    "l1.loc[len(l1)] = [2024, '2024-11', 0]\n",
    "l1.loc[len(l1)] = [2024, '2024-12', 0]\n",
    "\n",
    "l1_23 = l1[l1.year==2023].usd\n",
    "l1_24 = l1[l1.year==2024].usd\n",
    "goal = l1_23 * 1.5\n",
    "\n",
    "months = ['Jan', 'Feb', 'Mar', 'Apr', 'May', 'Jun',\n",
    "          'Jul', 'Aug', 'Sep', 'Oct', 'Nov', 'Dec']\n",
    "\n",
    "color = l1.year.astype('category').unique()\n",
    "\n",
    "# L1 monthly\n",
    "fig = go.Figure(\n",
    "    data=[\n",
    "        go.Scatter(x=months, y=goal, name=\"Direct Goal\", mode='markers', marker_size=8, marker_line=dict(width=1,color='darkslategrey'),marker_color='orange',hovertemplate=\"<br>\".join([\"%{y:.2s}\"])),\n",
    "        go.Bar(x=months, y=l1_23, name=\"2023\", marker_color=\"#5a5856\", marker_opacity=.5,hovertemplate=\"<br>\".join([\"%{y:.2s}\"])),\n",
    "        go.Bar(x=months, y=l1_24, name=\"2024\", marker_color='#E09641',hovertemplate=\"<br>\".join([\"%{y:.2s}\"]))\n",
    "    ],\n",
    "    layout=dict(#title='2024', title_x=.45, \n",
    "                height=350, barmode='group', template='plotly_white', \n",
    "                hoverlabel=dict(font_size=18,font_family=\"Rockwell\"),\n",
    "                legend=dict(x=0.02, y=1.1, orientation='h'),\n",
    "                bargap=0.15,bargroupgap=0.1)\n",
    ")\n",
    "\n",
    "fig.update_traces(texttemplate='%{y:.2s}')\n",
    "fig.update_xaxes(showticklabels=True,showgrid=False,gridcolor=\"#B1A999\", tickfont=dict(color='#5A5856', size=14),title_font=dict(color='#5A5856',size=15))\n",
    "fig.update_yaxes(showticklabels=False,showgrid=True,gridcolor=\"#B1A999\")"
   ]
  },
  {
   "cell_type": "code",
   "execution_count": 63,
   "id": "f8efa34f",
   "metadata": {},
   "outputs": [
    {
     "data": {
      "application/vnd.plotly.v1+json": {
       "config": {
        "plotlyServerURL": "https://plot.ly"
       },
       "data": [
        {
         "hovertemplate": "%{y:.2s}",
         "marker": {
          "color": "orange",
          "line": {
           "color": "darkslategrey",
           "width": 1
          },
          "size": 8
         },
         "mode": "markers",
         "name": "Goal",
         "texttemplate": "%{y:.2s}",
         "type": "scatter",
         "x": [
          "Jan",
          "Feb",
          "Mar",
          "Apr",
          "May",
          "Jun",
          "Jul",
          "Aug",
          "Sep",
          "Oct",
          "Nov",
          "Dec"
         ],
         "y": [
          978016.5,
          1182981,
          1379731.5,
          1230436.5,
          974638.5,
          1115872.5,
          1121412,
          1207614,
          1360066.5,
          1687732.5,
          1288893,
          891121.5
         ]
        },
        {
         "hovertemplate": "%{y:.2s}",
         "marker": {
          "color": "#5a5856",
          "opacity": 0.5
         },
         "name": "2023",
         "texttemplate": "%{y:.2s}",
         "type": "bar",
         "x": [
          "Jan",
          "Feb",
          "Mar",
          "Apr",
          "May",
          "Jun",
          "Jul",
          "Aug",
          "Sep",
          "Oct",
          "Nov",
          "Dec"
         ],
         "y": [
          652011,
          788654,
          919821,
          820291,
          649759,
          743915,
          747608,
          805076,
          906711,
          1125155,
          859262,
          594081
         ]
        },
        {
         "hovertemplate": "%{y:.2s}",
         "marker": {
          "color": "#E09641"
         },
         "name": "2024",
         "texttemplate": "%{y:.2s}",
         "type": "bar",
         "x": [
          "Jan",
          "Feb",
          "Mar",
          "Apr",
          "May",
          "Jun",
          "Jul",
          "Aug",
          "Sep",
          "Oct",
          "Nov",
          "Dec"
         ],
         "y": [
          905664,
          492796,
          0,
          0,
          0,
          0,
          0,
          0,
          0,
          0,
          0,
          0
         ]
        }
       ],
       "layout": {
        "bargap": 0.15,
        "bargroupgap": 0.1,
        "barmode": "group",
        "height": 350,
        "hoverlabel": {
         "font": {
          "family": "Rockwell",
          "size": 18
         }
        },
        "legend": {
         "orientation": "h",
         "x": 0,
         "y": 1.1
        },
        "template": {
         "data": {
          "bar": [
           {
            "error_x": {
             "color": "#2a3f5f"
            },
            "error_y": {
             "color": "#2a3f5f"
            },
            "marker": {
             "line": {
              "color": "white",
              "width": 0.5
             },
             "pattern": {
              "fillmode": "overlay",
              "size": 10,
              "solidity": 0.2
             }
            },
            "type": "bar"
           }
          ],
          "barpolar": [
           {
            "marker": {
             "line": {
              "color": "white",
              "width": 0.5
             },
             "pattern": {
              "fillmode": "overlay",
              "size": 10,
              "solidity": 0.2
             }
            },
            "type": "barpolar"
           }
          ],
          "carpet": [
           {
            "aaxis": {
             "endlinecolor": "#2a3f5f",
             "gridcolor": "#C8D4E3",
             "linecolor": "#C8D4E3",
             "minorgridcolor": "#C8D4E3",
             "startlinecolor": "#2a3f5f"
            },
            "baxis": {
             "endlinecolor": "#2a3f5f",
             "gridcolor": "#C8D4E3",
             "linecolor": "#C8D4E3",
             "minorgridcolor": "#C8D4E3",
             "startlinecolor": "#2a3f5f"
            },
            "type": "carpet"
           }
          ],
          "choropleth": [
           {
            "colorbar": {
             "outlinewidth": 0,
             "ticks": ""
            },
            "type": "choropleth"
           }
          ],
          "contour": [
           {
            "colorbar": {
             "outlinewidth": 0,
             "ticks": ""
            },
            "colorscale": [
             [
              0,
              "#0d0887"
             ],
             [
              0.1111111111111111,
              "#46039f"
             ],
             [
              0.2222222222222222,
              "#7201a8"
             ],
             [
              0.3333333333333333,
              "#9c179e"
             ],
             [
              0.4444444444444444,
              "#bd3786"
             ],
             [
              0.5555555555555556,
              "#d8576b"
             ],
             [
              0.6666666666666666,
              "#ed7953"
             ],
             [
              0.7777777777777778,
              "#fb9f3a"
             ],
             [
              0.8888888888888888,
              "#fdca26"
             ],
             [
              1,
              "#f0f921"
             ]
            ],
            "type": "contour"
           }
          ],
          "contourcarpet": [
           {
            "colorbar": {
             "outlinewidth": 0,
             "ticks": ""
            },
            "type": "contourcarpet"
           }
          ],
          "heatmap": [
           {
            "colorbar": {
             "outlinewidth": 0,
             "ticks": ""
            },
            "colorscale": [
             [
              0,
              "#0d0887"
             ],
             [
              0.1111111111111111,
              "#46039f"
             ],
             [
              0.2222222222222222,
              "#7201a8"
             ],
             [
              0.3333333333333333,
              "#9c179e"
             ],
             [
              0.4444444444444444,
              "#bd3786"
             ],
             [
              0.5555555555555556,
              "#d8576b"
             ],
             [
              0.6666666666666666,
              "#ed7953"
             ],
             [
              0.7777777777777778,
              "#fb9f3a"
             ],
             [
              0.8888888888888888,
              "#fdca26"
             ],
             [
              1,
              "#f0f921"
             ]
            ],
            "type": "heatmap"
           }
          ],
          "heatmapgl": [
           {
            "colorbar": {
             "outlinewidth": 0,
             "ticks": ""
            },
            "colorscale": [
             [
              0,
              "#0d0887"
             ],
             [
              0.1111111111111111,
              "#46039f"
             ],
             [
              0.2222222222222222,
              "#7201a8"
             ],
             [
              0.3333333333333333,
              "#9c179e"
             ],
             [
              0.4444444444444444,
              "#bd3786"
             ],
             [
              0.5555555555555556,
              "#d8576b"
             ],
             [
              0.6666666666666666,
              "#ed7953"
             ],
             [
              0.7777777777777778,
              "#fb9f3a"
             ],
             [
              0.8888888888888888,
              "#fdca26"
             ],
             [
              1,
              "#f0f921"
             ]
            ],
            "type": "heatmapgl"
           }
          ],
          "histogram": [
           {
            "marker": {
             "pattern": {
              "fillmode": "overlay",
              "size": 10,
              "solidity": 0.2
             }
            },
            "type": "histogram"
           }
          ],
          "histogram2d": [
           {
            "colorbar": {
             "outlinewidth": 0,
             "ticks": ""
            },
            "colorscale": [
             [
              0,
              "#0d0887"
             ],
             [
              0.1111111111111111,
              "#46039f"
             ],
             [
              0.2222222222222222,
              "#7201a8"
             ],
             [
              0.3333333333333333,
              "#9c179e"
             ],
             [
              0.4444444444444444,
              "#bd3786"
             ],
             [
              0.5555555555555556,
              "#d8576b"
             ],
             [
              0.6666666666666666,
              "#ed7953"
             ],
             [
              0.7777777777777778,
              "#fb9f3a"
             ],
             [
              0.8888888888888888,
              "#fdca26"
             ],
             [
              1,
              "#f0f921"
             ]
            ],
            "type": "histogram2d"
           }
          ],
          "histogram2dcontour": [
           {
            "colorbar": {
             "outlinewidth": 0,
             "ticks": ""
            },
            "colorscale": [
             [
              0,
              "#0d0887"
             ],
             [
              0.1111111111111111,
              "#46039f"
             ],
             [
              0.2222222222222222,
              "#7201a8"
             ],
             [
              0.3333333333333333,
              "#9c179e"
             ],
             [
              0.4444444444444444,
              "#bd3786"
             ],
             [
              0.5555555555555556,
              "#d8576b"
             ],
             [
              0.6666666666666666,
              "#ed7953"
             ],
             [
              0.7777777777777778,
              "#fb9f3a"
             ],
             [
              0.8888888888888888,
              "#fdca26"
             ],
             [
              1,
              "#f0f921"
             ]
            ],
            "type": "histogram2dcontour"
           }
          ],
          "mesh3d": [
           {
            "colorbar": {
             "outlinewidth": 0,
             "ticks": ""
            },
            "type": "mesh3d"
           }
          ],
          "parcoords": [
           {
            "line": {
             "colorbar": {
              "outlinewidth": 0,
              "ticks": ""
             }
            },
            "type": "parcoords"
           }
          ],
          "pie": [
           {
            "automargin": true,
            "type": "pie"
           }
          ],
          "scatter": [
           {
            "fillpattern": {
             "fillmode": "overlay",
             "size": 10,
             "solidity": 0.2
            },
            "type": "scatter"
           }
          ],
          "scatter3d": [
           {
            "line": {
             "colorbar": {
              "outlinewidth": 0,
              "ticks": ""
             }
            },
            "marker": {
             "colorbar": {
              "outlinewidth": 0,
              "ticks": ""
             }
            },
            "type": "scatter3d"
           }
          ],
          "scattercarpet": [
           {
            "marker": {
             "colorbar": {
              "outlinewidth": 0,
              "ticks": ""
             }
            },
            "type": "scattercarpet"
           }
          ],
          "scattergeo": [
           {
            "marker": {
             "colorbar": {
              "outlinewidth": 0,
              "ticks": ""
             }
            },
            "type": "scattergeo"
           }
          ],
          "scattergl": [
           {
            "marker": {
             "colorbar": {
              "outlinewidth": 0,
              "ticks": ""
             }
            },
            "type": "scattergl"
           }
          ],
          "scattermapbox": [
           {
            "marker": {
             "colorbar": {
              "outlinewidth": 0,
              "ticks": ""
             }
            },
            "type": "scattermapbox"
           }
          ],
          "scatterpolar": [
           {
            "marker": {
             "colorbar": {
              "outlinewidth": 0,
              "ticks": ""
             }
            },
            "type": "scatterpolar"
           }
          ],
          "scatterpolargl": [
           {
            "marker": {
             "colorbar": {
              "outlinewidth": 0,
              "ticks": ""
             }
            },
            "type": "scatterpolargl"
           }
          ],
          "scatterternary": [
           {
            "marker": {
             "colorbar": {
              "outlinewidth": 0,
              "ticks": ""
             }
            },
            "type": "scatterternary"
           }
          ],
          "surface": [
           {
            "colorbar": {
             "outlinewidth": 0,
             "ticks": ""
            },
            "colorscale": [
             [
              0,
              "#0d0887"
             ],
             [
              0.1111111111111111,
              "#46039f"
             ],
             [
              0.2222222222222222,
              "#7201a8"
             ],
             [
              0.3333333333333333,
              "#9c179e"
             ],
             [
              0.4444444444444444,
              "#bd3786"
             ],
             [
              0.5555555555555556,
              "#d8576b"
             ],
             [
              0.6666666666666666,
              "#ed7953"
             ],
             [
              0.7777777777777778,
              "#fb9f3a"
             ],
             [
              0.8888888888888888,
              "#fdca26"
             ],
             [
              1,
              "#f0f921"
             ]
            ],
            "type": "surface"
           }
          ],
          "table": [
           {
            "cells": {
             "fill": {
              "color": "#EBF0F8"
             },
             "line": {
              "color": "white"
             }
            },
            "header": {
             "fill": {
              "color": "#C8D4E3"
             },
             "line": {
              "color": "white"
             }
            },
            "type": "table"
           }
          ]
         },
         "layout": {
          "annotationdefaults": {
           "arrowcolor": "#2a3f5f",
           "arrowhead": 0,
           "arrowwidth": 1
          },
          "autotypenumbers": "strict",
          "coloraxis": {
           "colorbar": {
            "outlinewidth": 0,
            "ticks": ""
           }
          },
          "colorscale": {
           "diverging": [
            [
             0,
             "#8e0152"
            ],
            [
             0.1,
             "#c51b7d"
            ],
            [
             0.2,
             "#de77ae"
            ],
            [
             0.3,
             "#f1b6da"
            ],
            [
             0.4,
             "#fde0ef"
            ],
            [
             0.5,
             "#f7f7f7"
            ],
            [
             0.6,
             "#e6f5d0"
            ],
            [
             0.7,
             "#b8e186"
            ],
            [
             0.8,
             "#7fbc41"
            ],
            [
             0.9,
             "#4d9221"
            ],
            [
             1,
             "#276419"
            ]
           ],
           "sequential": [
            [
             0,
             "#0d0887"
            ],
            [
             0.1111111111111111,
             "#46039f"
            ],
            [
             0.2222222222222222,
             "#7201a8"
            ],
            [
             0.3333333333333333,
             "#9c179e"
            ],
            [
             0.4444444444444444,
             "#bd3786"
            ],
            [
             0.5555555555555556,
             "#d8576b"
            ],
            [
             0.6666666666666666,
             "#ed7953"
            ],
            [
             0.7777777777777778,
             "#fb9f3a"
            ],
            [
             0.8888888888888888,
             "#fdca26"
            ],
            [
             1,
             "#f0f921"
            ]
           ],
           "sequentialminus": [
            [
             0,
             "#0d0887"
            ],
            [
             0.1111111111111111,
             "#46039f"
            ],
            [
             0.2222222222222222,
             "#7201a8"
            ],
            [
             0.3333333333333333,
             "#9c179e"
            ],
            [
             0.4444444444444444,
             "#bd3786"
            ],
            [
             0.5555555555555556,
             "#d8576b"
            ],
            [
             0.6666666666666666,
             "#ed7953"
            ],
            [
             0.7777777777777778,
             "#fb9f3a"
            ],
            [
             0.8888888888888888,
             "#fdca26"
            ],
            [
             1,
             "#f0f921"
            ]
           ]
          },
          "colorway": [
           "#636efa",
           "#EF553B",
           "#00cc96",
           "#ab63fa",
           "#FFA15A",
           "#19d3f3",
           "#FF6692",
           "#B6E880",
           "#FF97FF",
           "#FECB52"
          ],
          "font": {
           "color": "#2a3f5f"
          },
          "geo": {
           "bgcolor": "white",
           "lakecolor": "white",
           "landcolor": "white",
           "showlakes": true,
           "showland": true,
           "subunitcolor": "#C8D4E3"
          },
          "hoverlabel": {
           "align": "left"
          },
          "hovermode": "closest",
          "mapbox": {
           "style": "light"
          },
          "paper_bgcolor": "white",
          "plot_bgcolor": "white",
          "polar": {
           "angularaxis": {
            "gridcolor": "#EBF0F8",
            "linecolor": "#EBF0F8",
            "ticks": ""
           },
           "bgcolor": "white",
           "radialaxis": {
            "gridcolor": "#EBF0F8",
            "linecolor": "#EBF0F8",
            "ticks": ""
           }
          },
          "scene": {
           "xaxis": {
            "backgroundcolor": "white",
            "gridcolor": "#DFE8F3",
            "gridwidth": 2,
            "linecolor": "#EBF0F8",
            "showbackground": true,
            "ticks": "",
            "zerolinecolor": "#EBF0F8"
           },
           "yaxis": {
            "backgroundcolor": "white",
            "gridcolor": "#DFE8F3",
            "gridwidth": 2,
            "linecolor": "#EBF0F8",
            "showbackground": true,
            "ticks": "",
            "zerolinecolor": "#EBF0F8"
           },
           "zaxis": {
            "backgroundcolor": "white",
            "gridcolor": "#DFE8F3",
            "gridwidth": 2,
            "linecolor": "#EBF0F8",
            "showbackground": true,
            "ticks": "",
            "zerolinecolor": "#EBF0F8"
           }
          },
          "shapedefaults": {
           "line": {
            "color": "#2a3f5f"
           }
          },
          "ternary": {
           "aaxis": {
            "gridcolor": "#DFE8F3",
            "linecolor": "#A2B1C6",
            "ticks": ""
           },
           "baxis": {
            "gridcolor": "#DFE8F3",
            "linecolor": "#A2B1C6",
            "ticks": ""
           },
           "bgcolor": "white",
           "caxis": {
            "gridcolor": "#DFE8F3",
            "linecolor": "#A2B1C6",
            "ticks": ""
           }
          },
          "title": {
           "x": 0.05
          },
          "xaxis": {
           "automargin": true,
           "gridcolor": "#EBF0F8",
           "linecolor": "#EBF0F8",
           "ticks": "",
           "title": {
            "standoff": 15
           },
           "zerolinecolor": "#EBF0F8",
           "zerolinewidth": 2
          },
          "yaxis": {
           "automargin": true,
           "gridcolor": "#EBF0F8",
           "linecolor": "#EBF0F8",
           "ticks": "",
           "title": {
            "standoff": 15
           },
           "zerolinecolor": "#EBF0F8",
           "zerolinewidth": 2
          }
         }
        },
        "title": {
         "text": "TRUE Sales YoY",
         "x": 0.45
        },
        "xaxis": {
         "gridcolor": "#B1A999",
         "showgrid": false,
         "showticklabels": true,
         "tickfont": {
          "color": "#5A5856",
          "size": 14
         },
         "title": {
          "font": {
           "color": "#5A5856",
           "size": 15
          }
         }
        },
        "yaxis": {
         "gridcolor": "#B1A999",
         "showgrid": true,
         "showticklabels": false
        }
       }
      },
      "text/html": [
       "<div>                            <div id=\"6f05cfcc-1f07-4a09-ad99-402bc3bfcff5\" class=\"plotly-graph-div\" style=\"height:350px; width:100%;\"></div>            <script type=\"text/javascript\">                require([\"plotly\"], function(Plotly) {                    window.PLOTLYENV=window.PLOTLYENV || {};                                    if (document.getElementById(\"6f05cfcc-1f07-4a09-ad99-402bc3bfcff5\")) {                    Plotly.newPlot(                        \"6f05cfcc-1f07-4a09-ad99-402bc3bfcff5\",                        [{\"hovertemplate\":\"%{y:.2s}\",\"marker\":{\"color\":\"orange\",\"line\":{\"color\":\"darkslategrey\",\"width\":1},\"size\":8},\"mode\":\"markers\",\"name\":\"Goal\",\"x\":[\"Jan\",\"Feb\",\"Mar\",\"Apr\",\"May\",\"Jun\",\"Jul\",\"Aug\",\"Sep\",\"Oct\",\"Nov\",\"Dec\"],\"y\":[978016.5,1182981.0,1379731.5,1230436.5,974638.5,1115872.5,1121412.0,1207614.0,1360066.5,1687732.5,1288893.0,891121.5],\"type\":\"scatter\",\"texttemplate\":\"%{y:.2s}\"},{\"hovertemplate\":\"%{y:.2s}\",\"marker\":{\"color\":\"#5a5856\",\"opacity\":0.5},\"name\":\"2023\",\"x\":[\"Jan\",\"Feb\",\"Mar\",\"Apr\",\"May\",\"Jun\",\"Jul\",\"Aug\",\"Sep\",\"Oct\",\"Nov\",\"Dec\"],\"y\":[652011.0,788654.0,919821.0,820291.0,649759.0,743915.0,747608.0,805076.0,906711.0,1125155.0,859262.0,594081.0],\"type\":\"bar\",\"texttemplate\":\"%{y:.2s}\"},{\"hovertemplate\":\"%{y:.2s}\",\"marker\":{\"color\":\"#E09641\"},\"name\":\"2024\",\"x\":[\"Jan\",\"Feb\",\"Mar\",\"Apr\",\"May\",\"Jun\",\"Jul\",\"Aug\",\"Sep\",\"Oct\",\"Nov\",\"Dec\"],\"y\":[905664.0,492796.0,0.0,0.0,0.0,0.0,0.0,0.0,0.0,0.0,0.0,0.0],\"type\":\"bar\",\"texttemplate\":\"%{y:.2s}\"}],                        {\"bargap\":0.15,\"bargroupgap\":0.1,\"barmode\":\"group\",\"height\":350,\"hoverlabel\":{\"font\":{\"size\":18,\"family\":\"Rockwell\"}},\"legend\":{\"orientation\":\"h\",\"x\":0,\"y\":1.1},\"template\":{\"data\":{\"barpolar\":[{\"marker\":{\"line\":{\"color\":\"white\",\"width\":0.5},\"pattern\":{\"fillmode\":\"overlay\",\"size\":10,\"solidity\":0.2}},\"type\":\"barpolar\"}],\"bar\":[{\"error_x\":{\"color\":\"#2a3f5f\"},\"error_y\":{\"color\":\"#2a3f5f\"},\"marker\":{\"line\":{\"color\":\"white\",\"width\":0.5},\"pattern\":{\"fillmode\":\"overlay\",\"size\":10,\"solidity\":0.2}},\"type\":\"bar\"}],\"carpet\":[{\"aaxis\":{\"endlinecolor\":\"#2a3f5f\",\"gridcolor\":\"#C8D4E3\",\"linecolor\":\"#C8D4E3\",\"minorgridcolor\":\"#C8D4E3\",\"startlinecolor\":\"#2a3f5f\"},\"baxis\":{\"endlinecolor\":\"#2a3f5f\",\"gridcolor\":\"#C8D4E3\",\"linecolor\":\"#C8D4E3\",\"minorgridcolor\":\"#C8D4E3\",\"startlinecolor\":\"#2a3f5f\"},\"type\":\"carpet\"}],\"choropleth\":[{\"colorbar\":{\"outlinewidth\":0,\"ticks\":\"\"},\"type\":\"choropleth\"}],\"contourcarpet\":[{\"colorbar\":{\"outlinewidth\":0,\"ticks\":\"\"},\"type\":\"contourcarpet\"}],\"contour\":[{\"colorbar\":{\"outlinewidth\":0,\"ticks\":\"\"},\"colorscale\":[[0.0,\"#0d0887\"],[0.1111111111111111,\"#46039f\"],[0.2222222222222222,\"#7201a8\"],[0.3333333333333333,\"#9c179e\"],[0.4444444444444444,\"#bd3786\"],[0.5555555555555556,\"#d8576b\"],[0.6666666666666666,\"#ed7953\"],[0.7777777777777778,\"#fb9f3a\"],[0.8888888888888888,\"#fdca26\"],[1.0,\"#f0f921\"]],\"type\":\"contour\"}],\"heatmapgl\":[{\"colorbar\":{\"outlinewidth\":0,\"ticks\":\"\"},\"colorscale\":[[0.0,\"#0d0887\"],[0.1111111111111111,\"#46039f\"],[0.2222222222222222,\"#7201a8\"],[0.3333333333333333,\"#9c179e\"],[0.4444444444444444,\"#bd3786\"],[0.5555555555555556,\"#d8576b\"],[0.6666666666666666,\"#ed7953\"],[0.7777777777777778,\"#fb9f3a\"],[0.8888888888888888,\"#fdca26\"],[1.0,\"#f0f921\"]],\"type\":\"heatmapgl\"}],\"heatmap\":[{\"colorbar\":{\"outlinewidth\":0,\"ticks\":\"\"},\"colorscale\":[[0.0,\"#0d0887\"],[0.1111111111111111,\"#46039f\"],[0.2222222222222222,\"#7201a8\"],[0.3333333333333333,\"#9c179e\"],[0.4444444444444444,\"#bd3786\"],[0.5555555555555556,\"#d8576b\"],[0.6666666666666666,\"#ed7953\"],[0.7777777777777778,\"#fb9f3a\"],[0.8888888888888888,\"#fdca26\"],[1.0,\"#f0f921\"]],\"type\":\"heatmap\"}],\"histogram2dcontour\":[{\"colorbar\":{\"outlinewidth\":0,\"ticks\":\"\"},\"colorscale\":[[0.0,\"#0d0887\"],[0.1111111111111111,\"#46039f\"],[0.2222222222222222,\"#7201a8\"],[0.3333333333333333,\"#9c179e\"],[0.4444444444444444,\"#bd3786\"],[0.5555555555555556,\"#d8576b\"],[0.6666666666666666,\"#ed7953\"],[0.7777777777777778,\"#fb9f3a\"],[0.8888888888888888,\"#fdca26\"],[1.0,\"#f0f921\"]],\"type\":\"histogram2dcontour\"}],\"histogram2d\":[{\"colorbar\":{\"outlinewidth\":0,\"ticks\":\"\"},\"colorscale\":[[0.0,\"#0d0887\"],[0.1111111111111111,\"#46039f\"],[0.2222222222222222,\"#7201a8\"],[0.3333333333333333,\"#9c179e\"],[0.4444444444444444,\"#bd3786\"],[0.5555555555555556,\"#d8576b\"],[0.6666666666666666,\"#ed7953\"],[0.7777777777777778,\"#fb9f3a\"],[0.8888888888888888,\"#fdca26\"],[1.0,\"#f0f921\"]],\"type\":\"histogram2d\"}],\"histogram\":[{\"marker\":{\"pattern\":{\"fillmode\":\"overlay\",\"size\":10,\"solidity\":0.2}},\"type\":\"histogram\"}],\"mesh3d\":[{\"colorbar\":{\"outlinewidth\":0,\"ticks\":\"\"},\"type\":\"mesh3d\"}],\"parcoords\":[{\"line\":{\"colorbar\":{\"outlinewidth\":0,\"ticks\":\"\"}},\"type\":\"parcoords\"}],\"pie\":[{\"automargin\":true,\"type\":\"pie\"}],\"scatter3d\":[{\"line\":{\"colorbar\":{\"outlinewidth\":0,\"ticks\":\"\"}},\"marker\":{\"colorbar\":{\"outlinewidth\":0,\"ticks\":\"\"}},\"type\":\"scatter3d\"}],\"scattercarpet\":[{\"marker\":{\"colorbar\":{\"outlinewidth\":0,\"ticks\":\"\"}},\"type\":\"scattercarpet\"}],\"scattergeo\":[{\"marker\":{\"colorbar\":{\"outlinewidth\":0,\"ticks\":\"\"}},\"type\":\"scattergeo\"}],\"scattergl\":[{\"marker\":{\"colorbar\":{\"outlinewidth\":0,\"ticks\":\"\"}},\"type\":\"scattergl\"}],\"scattermapbox\":[{\"marker\":{\"colorbar\":{\"outlinewidth\":0,\"ticks\":\"\"}},\"type\":\"scattermapbox\"}],\"scatterpolargl\":[{\"marker\":{\"colorbar\":{\"outlinewidth\":0,\"ticks\":\"\"}},\"type\":\"scatterpolargl\"}],\"scatterpolar\":[{\"marker\":{\"colorbar\":{\"outlinewidth\":0,\"ticks\":\"\"}},\"type\":\"scatterpolar\"}],\"scatter\":[{\"fillpattern\":{\"fillmode\":\"overlay\",\"size\":10,\"solidity\":0.2},\"type\":\"scatter\"}],\"scatterternary\":[{\"marker\":{\"colorbar\":{\"outlinewidth\":0,\"ticks\":\"\"}},\"type\":\"scatterternary\"}],\"surface\":[{\"colorbar\":{\"outlinewidth\":0,\"ticks\":\"\"},\"colorscale\":[[0.0,\"#0d0887\"],[0.1111111111111111,\"#46039f\"],[0.2222222222222222,\"#7201a8\"],[0.3333333333333333,\"#9c179e\"],[0.4444444444444444,\"#bd3786\"],[0.5555555555555556,\"#d8576b\"],[0.6666666666666666,\"#ed7953\"],[0.7777777777777778,\"#fb9f3a\"],[0.8888888888888888,\"#fdca26\"],[1.0,\"#f0f921\"]],\"type\":\"surface\"}],\"table\":[{\"cells\":{\"fill\":{\"color\":\"#EBF0F8\"},\"line\":{\"color\":\"white\"}},\"header\":{\"fill\":{\"color\":\"#C8D4E3\"},\"line\":{\"color\":\"white\"}},\"type\":\"table\"}]},\"layout\":{\"annotationdefaults\":{\"arrowcolor\":\"#2a3f5f\",\"arrowhead\":0,\"arrowwidth\":1},\"autotypenumbers\":\"strict\",\"coloraxis\":{\"colorbar\":{\"outlinewidth\":0,\"ticks\":\"\"}},\"colorscale\":{\"diverging\":[[0,\"#8e0152\"],[0.1,\"#c51b7d\"],[0.2,\"#de77ae\"],[0.3,\"#f1b6da\"],[0.4,\"#fde0ef\"],[0.5,\"#f7f7f7\"],[0.6,\"#e6f5d0\"],[0.7,\"#b8e186\"],[0.8,\"#7fbc41\"],[0.9,\"#4d9221\"],[1,\"#276419\"]],\"sequential\":[[0.0,\"#0d0887\"],[0.1111111111111111,\"#46039f\"],[0.2222222222222222,\"#7201a8\"],[0.3333333333333333,\"#9c179e\"],[0.4444444444444444,\"#bd3786\"],[0.5555555555555556,\"#d8576b\"],[0.6666666666666666,\"#ed7953\"],[0.7777777777777778,\"#fb9f3a\"],[0.8888888888888888,\"#fdca26\"],[1.0,\"#f0f921\"]],\"sequentialminus\":[[0.0,\"#0d0887\"],[0.1111111111111111,\"#46039f\"],[0.2222222222222222,\"#7201a8\"],[0.3333333333333333,\"#9c179e\"],[0.4444444444444444,\"#bd3786\"],[0.5555555555555556,\"#d8576b\"],[0.6666666666666666,\"#ed7953\"],[0.7777777777777778,\"#fb9f3a\"],[0.8888888888888888,\"#fdca26\"],[1.0,\"#f0f921\"]]},\"colorway\":[\"#636efa\",\"#EF553B\",\"#00cc96\",\"#ab63fa\",\"#FFA15A\",\"#19d3f3\",\"#FF6692\",\"#B6E880\",\"#FF97FF\",\"#FECB52\"],\"font\":{\"color\":\"#2a3f5f\"},\"geo\":{\"bgcolor\":\"white\",\"lakecolor\":\"white\",\"landcolor\":\"white\",\"showlakes\":true,\"showland\":true,\"subunitcolor\":\"#C8D4E3\"},\"hoverlabel\":{\"align\":\"left\"},\"hovermode\":\"closest\",\"mapbox\":{\"style\":\"light\"},\"paper_bgcolor\":\"white\",\"plot_bgcolor\":\"white\",\"polar\":{\"angularaxis\":{\"gridcolor\":\"#EBF0F8\",\"linecolor\":\"#EBF0F8\",\"ticks\":\"\"},\"bgcolor\":\"white\",\"radialaxis\":{\"gridcolor\":\"#EBF0F8\",\"linecolor\":\"#EBF0F8\",\"ticks\":\"\"}},\"scene\":{\"xaxis\":{\"backgroundcolor\":\"white\",\"gridcolor\":\"#DFE8F3\",\"gridwidth\":2,\"linecolor\":\"#EBF0F8\",\"showbackground\":true,\"ticks\":\"\",\"zerolinecolor\":\"#EBF0F8\"},\"yaxis\":{\"backgroundcolor\":\"white\",\"gridcolor\":\"#DFE8F3\",\"gridwidth\":2,\"linecolor\":\"#EBF0F8\",\"showbackground\":true,\"ticks\":\"\",\"zerolinecolor\":\"#EBF0F8\"},\"zaxis\":{\"backgroundcolor\":\"white\",\"gridcolor\":\"#DFE8F3\",\"gridwidth\":2,\"linecolor\":\"#EBF0F8\",\"showbackground\":true,\"ticks\":\"\",\"zerolinecolor\":\"#EBF0F8\"}},\"shapedefaults\":{\"line\":{\"color\":\"#2a3f5f\"}},\"ternary\":{\"aaxis\":{\"gridcolor\":\"#DFE8F3\",\"linecolor\":\"#A2B1C6\",\"ticks\":\"\"},\"baxis\":{\"gridcolor\":\"#DFE8F3\",\"linecolor\":\"#A2B1C6\",\"ticks\":\"\"},\"bgcolor\":\"white\",\"caxis\":{\"gridcolor\":\"#DFE8F3\",\"linecolor\":\"#A2B1C6\",\"ticks\":\"\"}},\"title\":{\"x\":0.05},\"xaxis\":{\"automargin\":true,\"gridcolor\":\"#EBF0F8\",\"linecolor\":\"#EBF0F8\",\"ticks\":\"\",\"title\":{\"standoff\":15},\"zerolinecolor\":\"#EBF0F8\",\"zerolinewidth\":2},\"yaxis\":{\"automargin\":true,\"gridcolor\":\"#EBF0F8\",\"linecolor\":\"#EBF0F8\",\"ticks\":\"\",\"title\":{\"standoff\":15},\"zerolinecolor\":\"#EBF0F8\",\"zerolinewidth\":2}}},\"title\":{\"text\":\"TRUE Sales YoY\",\"x\":0.45},\"xaxis\":{\"tickfont\":{\"color\":\"#5A5856\",\"size\":14},\"title\":{\"font\":{\"color\":\"#5A5856\",\"size\":15}},\"showticklabels\":true,\"showgrid\":false,\"gridcolor\":\"#B1A999\"},\"yaxis\":{\"showticklabels\":false,\"showgrid\":true,\"gridcolor\":\"#B1A999\"}},                        {\"responsive\": true}                    ).then(function(){\n",
       "                            \n",
       "var gd = document.getElementById('6f05cfcc-1f07-4a09-ad99-402bc3bfcff5');\n",
       "var x = new MutationObserver(function (mutations, observer) {{\n",
       "        var display = window.getComputedStyle(gd).display;\n",
       "        if (!display || display === 'none') {{\n",
       "            console.log([gd, 'removed!']);\n",
       "            Plotly.purge(gd);\n",
       "            observer.disconnect();\n",
       "        }}\n",
       "}});\n",
       "\n",
       "// Listen for the removal of the full notebook cells\n",
       "var notebookContainer = gd.closest('#notebook-container');\n",
       "if (notebookContainer) {{\n",
       "    x.observe(notebookContainer, {childList: true});\n",
       "}}\n",
       "\n",
       "// Listen for the clearing of the current output cell\n",
       "var outputEl = gd.closest('.output');\n",
       "if (outputEl) {{\n",
       "    x.observe(outputEl, {childList: true});\n",
       "}}\n",
       "\n",
       "                        })                };                });            </script>        </div>"
      ]
     },
     "metadata": {},
     "output_type": "display_data"
    }
   ],
   "source": [
    "df = df_selection.copy()\n",
    "\n",
    "## add year/month column to help with charting\n",
    "\n",
    "def getYearMonth(s):\n",
    "  return (s.split(\"-\")[0] + \"-\" + s.split(\"-\")[1])\n",
    "\n",
    "df['year'] = df['date'].dt.year\n",
    "df['month'] = df['date'].dt.month_name()\n",
    "df['YearMonth'] = df['date'].astype('string').apply(lambda x: getYearMonth(x))\n",
    "\n",
    "# group by month year and add $0 sales to future months\n",
    "chart_df = round(df.groupby(['year','YearMonth'],as_index=False)['usd'].sum())\n",
    "\n",
    "chart_df.loc[len(chart_df)] = [2024, '2024-03', 0]\n",
    "chart_df.loc[len(chart_df)] = [2024, '2024-04', 0]\n",
    "chart_df.loc[len(chart_df)] = [2024, '2024-05', 0]\n",
    "chart_df.loc[len(chart_df)] = [2024, '2024-06', 0]\n",
    "chart_df.loc[len(chart_df)] = [2024, '2024-07', 0]\n",
    "chart_df.loc[len(chart_df)] = [2024, '2024-08', 0]\n",
    "chart_df.loc[len(chart_df)] = [2024, '2024-09', 0]\n",
    "chart_df.loc[len(chart_df)] = [2024, '2024-10', 0]\n",
    "chart_df.loc[len(chart_df)] = [2024, '2024-11', 0]\n",
    "chart_df.loc[len(chart_df)] = [2024, '2024-12', 0]\n",
    "\n",
    "chart = chart_df.copy()\n",
    "\n",
    "# variables for calcs, hovers, etc\n",
    "\n",
    "sales_22 = chart_df[chart_df.year==2022].usd\n",
    "sales_23 = chart_df[chart_df.year==2023].usd\n",
    "sales_24 = chart_df[chart_df.year==2024].usd\n",
    "\n",
    "goal = sales_23 * 1.5\n",
    "\n",
    "months = ['Jan', 'Feb', 'Mar', 'Apr', 'May', 'Jun',\n",
    "          'Jul', 'Aug', 'Sep', 'Oct', 'Nov', 'Dec']\n",
    "\n",
    "color = chart_df.year.astype('category').unique()\n",
    "\n",
    "\n",
    "# Bar and scatter monthly\n",
    "\n",
    "fig = go.Figure(\n",
    "    data=[\n",
    "        go.Scatter(x=months, y=goal, name=\"Goal\", mode='markers', marker_size=8, marker_line=dict(width=1,color='darkslategrey'),marker_color='orange',hovertemplate=\"<br>\".join([\"%{y:.2s}\"])),\n",
    "        go.Bar(x=months, y=sales_23, name=\"2023\", marker_color=\"#5a5856\", marker_opacity=.5,hovertemplate=\"<br>\".join([\"%{y:.2s}\"])),\n",
    "        go.Bar(x=months, y=sales_24, name=\"2024\", marker_color='#E09641',hovertemplate=\"<br>\".join([\"%{y:.2s}\"]))\n",
    "    ],\n",
    "    layout=dict(title='TRUE Sales YoY', title_x=.45, \n",
    "                height=350, barmode='group', template='plotly_white', \n",
    "                hoverlabel=dict(font_size=18,font_family=\"Rockwell\"),\n",
    "                legend=dict(x=0, y=1.1, orientation='h'),\n",
    "                bargap=0.15,bargroupgap=0.1)\n",
    ")\n",
    "\n",
    "fig.update_traces(texttemplate='%{y:.2s}')\n",
    "fig.update_xaxes(showticklabels=True,showgrid=False,gridcolor=\"#B1A999\", tickfont=dict(color='#5A5856', size=14),title_font=dict(color='#5A5856',size=15))\n",
    "fig.update_yaxes(showticklabels=False,showgrid=True,gridcolor=\"#B1A999\")\n",
    "\n",
    "fig.show()"
   ]
  },
  {
   "cell_type": "code",
   "execution_count": 70,
   "id": "97093cd1",
   "metadata": {},
   "outputs": [
    {
     "data": {
      "text/plain": [
       "9960212.1225"
      ]
     },
     "execution_count": 70,
     "metadata": {},
     "output_type": "execute_result"
    }
   ],
   "source": [
    "l1_23.sum()"
   ]
  },
  {
   "cell_type": "code",
   "execution_count": 65,
   "id": "15454b2c",
   "metadata": {},
   "outputs": [
    {
     "data": {
      "text/plain": [
       "9612344.0"
      ]
     },
     "execution_count": 65,
     "metadata": {},
     "output_type": "execute_result"
    }
   ],
   "source": [
    "sales_23.sum()"
   ]
  },
  {
   "cell_type": "code",
   "execution_count": null,
   "id": "a8b774d8",
   "metadata": {},
   "outputs": [],
   "source": [
    "# DAILY SALES HORIZONTAL SCATTER (XAXIS = CATEGORY)\n",
    "\n",
    "df = df_selection.groupby([df_selection.date,'market_segment','parent_customer']).usd.sum().reset_index()\n",
    "\n",
    "#all sales weekly scatter\n",
    "fig_scatter_all = px.scatter(\n",
    "    round(df[df.date>'2024-01-31'].sort_index()),\n",
    "    x='date',\n",
    "    y='usd',\n",
    "    template = 'simple_white',\n",
    "    labels={'date':'',\n",
    "            'usd':'<b>$USD</b>'},\n",
    "    height=500,\n",
    "    color='market_segment',\n",
    "    color_discrete_map=market_segment_color,\n",
    "    title='Daily Sales by Market Segment',\n",
    "    log_y=True\n",
    ")\n",
    "\n",
    "# fig_scatter_all.update_traces(name=\"\",hovertemplate=\"<b>%{x}<br>%{y:$,.0f}\")\n",
    "fig_scatter_all.update_traces(marker=dict(size=18,opacity=.7,line=dict(width=1,color='grey')),selector=dict(mode='markers'))\n",
    "\n",
    "fig_scatter_all.update_coloraxes(showscale=False)\n",
    "fig_scatter_all.update_yaxes(gridcolor='lightgray', tickvals=[100,1000,10000,100000])\n",
    "\n",
    "fig_scatter_all.update_layout(hoverlabel=dict(font_size=15,font_family=\"Rockwell\"))"
   ]
  },
  {
   "cell_type": "code",
   "execution_count": null,
   "id": "1b3857d8",
   "metadata": {},
   "outputs": [],
   "source": [
    "# WEEKLY SALES HORIZONTAL SCATTER (XAXIS = CATEGORY)\n",
    "\n",
    "df_selection.index = pd.to_datetime(df_selection['date'],format = '%y/%m')\n",
    "sales_per_week = df_selection.groupby([pd.Grouper(freq='W'),'market_segment'])['usd'].sum().reset_index()\n",
    "df = sales_per_week.copy()\n",
    "\n",
    "#all sales weekly scatter\n",
    "fig_scatter_all = px.scatter(\n",
    "    round(df[df.date>'2023-12-31'].sort_index()),\n",
    "    x='date',\n",
    "    y='usd',\n",
    "    template = 'simple_white',\n",
    "    labels={'date':'',\n",
    "            'usd':'<b>$USD</b>'},\n",
    "    height=500, color='market_segment',\n",
    "    color_discrete_map=market_segment_color,\n",
    "    title='Weekly Sales by Market Segment',\n",
    "    log_y=True\n",
    ")\n",
    "\n",
    "fig_scatter_all.update_traces(name=\"\",hovertemplate=\"<b>%{x}<br>%{y:$,.0f}\")\n",
    "fig_scatter_all.update_traces(marker=dict(size=15,line=dict(width=1,color='grey')),selector=dict(mode='markers'))\n",
    "\n",
    "fig_scatter_all.update_coloraxes(showscale=False)\n",
    "fig_scatter_all.update_yaxes(gridcolor='lightgray', tickvals=[100,1000,10000,100000,1000000])\n",
    "\n",
    "fig_scatter_all.update_layout(hoverlabel=dict(font_size=15,font_family=\"Rockwell\"))"
   ]
  },
  {
   "cell_type": "code",
   "execution_count": null,
   "id": "255cb61e",
   "metadata": {},
   "outputs": [],
   "source": [
    "# MONTHLY SALES HORIZONTAL SCATTER (XAXIS = CATEGORY)\n",
    "\n",
    "df_selection.index = pd.to_datetime(df_selection['date'],format = '%y/%m')\n",
    "sales_per_month = df_selection.groupby([pd.Grouper(freq='M'),'market_segment'])['usd'].sum().reset_index()\n",
    "# df = sales_per_month.copy()\n",
    "\n",
    "#all sales weekly scatter\n",
    "fig_scatter_all = px.scatter(\n",
    "    round(sales_per_month),\n",
    "    x='date',\n",
    "    y='usd',\n",
    "    template = 'simple_white',\n",
    "    labels={'date':'',\n",
    "            'usd':'<b>$USD</b>'},\n",
    "    height=500,\n",
    "#     size='usd',\n",
    "#     size_max=15,\n",
    "    color='market_segment',\n",
    "    color_discrete_map=market_segment_color,\n",
    "    title='Monthly Sales by Market Segment',\n",
    "    trendline=\"lowess\", trendline_options=dict(frac=0.5)\n",
    ").update_traces(name=\"\",hovertemplate=\"<b>%{y:$,.0f}\")\n",
    "\n",
    "fig_scatter_all.update_coloraxes(showscale=False)\n",
    "fig_scatter_all.update_yaxes(gridcolor='lightgray')\n",
    "\n",
    "fig_scatter_all.update_layout(hoverlabel=dict(font_size=15,font_family=\"Rockwell\"))"
   ]
  },
  {
   "cell_type": "code",
   "execution_count": null,
   "id": "ca098465",
   "metadata": {},
   "outputs": [],
   "source": [
    "# WEEKLY SALES HORIZONTAL SCATTER (XAXIS = DATETIME)\n",
    "\n",
    "df_selection.index = pd.to_datetime(df_selection['date'],format = '%y/%m/%d')\n",
    "sales_per_week = df_selection.groupby(pd.Grouper(freq='W'))['usd'].sum()\n",
    "sales_per_week = df_selection.copy()\n",
    "\n",
    "#all sales weekly scatter\n",
    "fig_scatter_all = px.scatter(\n",
    "    round(sales_per_week),\n",
    "    x=sales_per_week.index,\n",
    "    y='usd',\n",
    "    template = 'presentation',\n",
    "    labels={'date':'',\n",
    "            'usd':'<b>$USD</b>'},\n",
    "    height=500,\n",
    "#     size='usd',\n",
    "    size_max=15,\n",
    "    color='usd',\n",
    "    color_continuous_scale=px.colors.sequential.Oranges,\n",
    "    trendline=\"rolling\", trendline_options=dict(function=\"mean\", window=10), trendline_scope=\"overall\", trendline_color_override=\"grey\"\n",
    ").update_traces(name=\"\",hovertemplate=\"Sales: <b>%{y:$,.0f}\")\n",
    "fig_scatter_all.update_coloraxes(showscale=False)\n",
    "fig_scatter_all.update_yaxes(gridcolor='lightgray')\n",
    "fig_scatter_all.update_layout(\n",
    "    hovermode='x unified',\n",
    "    legend=dict(y=0.99, x=0.1,title='10-Wk Moving Avg'))\n",
    "fig_scatter_all.update_layout(hoverlabel=dict(font_size=15,font_family=\"Rockwell\"))#,xaxis=dict(type = 'category'))\n",
    "# fig_scatter_all.update_xaxes(tickmode='array',tickvals = sales_per_week.index, ticktext=sales_per_week.index.month_name())"
   ]
  },
  {
   "cell_type": "code",
   "execution_count": null,
   "id": "5ccb82e6",
   "metadata": {},
   "outputs": [],
   "source": [
    "# segment pie chart\n",
    "\n",
    "seg_sales = round(df_selection.groupby('market_segment',as_index=False)['usd'].sum()).sort_values(by='market_segment',ascending=False)\n",
    "\n",
    "fig_seg_sales = px.pie(\n",
    "    seg_sales, \n",
    "    values='usd', \n",
    "    names='market_segment',\n",
    "    template = 'simple_white',\n",
    "    title=' ',\n",
    "    opacity = .8,\n",
    "    hole=.33,\n",
    "    color='market_segment',\n",
    "    color_discrete_map=market_segment_color).update_layout(autosize=False,width=450,height=450,showlegend=False)\n",
    "fig_seg_sales.update_traces(textposition='inside', textinfo='percent+label', texttemplate='%{label}<br>%{percent:.0%}')\n",
    "# fig_seg_sales.update_traces(hovertemplate='%{names}<br>%{values:.0%}')\n",
    "fig_seg_sales.show()"
   ]
  },
  {
   "cell_type": "code",
   "execution_count": null,
   "id": "cd5953ab",
   "metadata": {},
   "outputs": [],
   "source": [
    "## FUNCTION TAKES IN DF_SELECTION AND OUTPUTS DAILY SALES DATAFRAME\n",
    "\n",
    "def make_daily_bar_df(df_selection):\n",
    "    return (\n",
    "        df_selection.dropna()\n",
    "        .assign(new_date=pd.to_datetime(df_selection['date'])).reset_index(drop=True)\n",
    "        .drop(columns=['cad','month','year','date'])\n",
    "        .rename(columns={'new_date':'date'})\n",
    "        .groupby(['market_segment','date','sale_origin','parent_customer'],as_index=False)\n",
    "        .sum()\n",
    "        .set_index('date')\n",
    "        .sort_index()\n",
    "    )\n",
    "\n",
    "daily_bar_df = make_daily_bar_df(df_selection)\n",
    "daily_bar_df"
   ]
  },
  {
   "cell_type": "code",
   "execution_count": null,
   "id": "9bc7643f",
   "metadata": {},
   "outputs": [],
   "source": [
    "## DAILY SALES DATAFRAME (SAME AS FUNC ABOVE)\n",
    "\n",
    "df_selection.groupby([df_selection.date,'sale_origin','market_segment','parent_customer']).usd.sum().reset_index().set_index('date')"
   ]
  },
  {
   "cell_type": "code",
   "execution_count": null,
   "id": "cf2d5722",
   "metadata": {},
   "outputs": [],
   "source": [
    "###  DAILY SALES VERTICAL SCATTER (3 WAYS)\n",
    "\n",
    "# for 'sales_origin':\n",
    "#   color_by: sale_origin\n",
    "#   color_discrete_map =  {'unl':\"#E62F29\",'dot':\"#3A4DA1\"}\n",
    "#   marker size: 20\n",
    "\n",
    "# for 'market_segment':\n",
    "#   color_by: market_segment\n",
    "#   color discrete_map = market_segment_color dictionary\n",
    "#   marker size: 15\n",
    "\n",
    "# for 'parent_customer':\n",
    "#   color_by: market_segment\n",
    "#   color discrete_map = market_segment_color dictionary\n",
    "#   marker size: 12\n",
    "\n",
    "\n",
    "\n",
    "week_ago = datetime.today().date() - pd.offsets.Day(10)\n",
    "df_selection = df_selection[df_selection.date>week_ago]\n",
    "df = df_selection.groupby([df_selection.date,'sale_origin']).usd.sum().reset_index().set_index('date')\n",
    "fig = px.scatter(df,\n",
    "           x='usd',\n",
    "           color='sale_origin',\n",
    "           color_discrete_map={'unl':\"#E62F29\",'dot':\"#3A4DA1\"},\n",
    "           opacity=.8,\n",
    "           labels={'date':\"\", 'usd':''},\n",
    "           height=750,\n",
    "           width=400,\n",
    "           template='plotly_white',\n",
    "           title='Sales Last 10 Days',\n",
    "           hover_name='sale_origin',\n",
    "          )\n",
    "fig.update_traces(marker=dict(size=20,line=dict(width=1,color='grey')),selector=dict(mode='markers'))\n",
    "fig.update_xaxes(showgrid=True,tickprefix='$',gridcolor=\"#B1A999\",tickfont=dict(color='#5A5856', size=12),showticklabels=True)\n",
    "fig.update_yaxes(showgrid=False,gridcolor='gray',tickfont=dict(color='#5A5856', size=14))\n",
    "fig.update_layout(xaxis={'side':'top'}, title_x=0.33,legend=dict(title=''))\n",
    "fig.update_layout(yaxis=dict(type = 'category'))\n",
    "fig.update_yaxes(tickmode='array',tickvals = df.index, ticktext=df.index.strftime('%m-%d'))\n",
    "fig.show()"
   ]
  },
  {
   "cell_type": "code",
   "execution_count": null,
   "id": "d33c96fb",
   "metadata": {},
   "outputs": [],
   "source": [
    "week_ago = datetime.today().date() - pd.offsets.Day(10)\n",
    "df_selection = df_selection[df_selection.date>week_ago]\n",
    "\n",
    "fig = px.scatter(df_selection.groupby([df_selection.date,'market_segment']).usd.sum().fillna(0).reset_index().set_index('date'),\n",
    "           x='usd',\n",
    "           color='market_segment',\n",
    "           color_discrete_map=market_segment_color,                   # if color_by: market_segment\n",
    "           opacity=.8,\n",
    "           labels={'date':\"\", 'usd':''},\n",
    "           height=800,\n",
    "           width=400,\n",
    "           template='plotly_white',\n",
    "           title='Sales Last 10 Days',\n",
    "           hover_name='market_segment',\n",
    "           log_x=True,\n",
    "          ).update_layout(showlegend=False)\n",
    "fig.update_traces(marker=dict(size=15,line=dict(width=1,color='grey')),selector=dict(mode='markers'))\n",
    "fig.update_xaxes(showgrid=True,tickprefix='$',gridcolor=\"#B1A999\",tickfont=dict(color='#5A5856', size=12), tickvals=[100,1000,10000,100000],showticklabels=True)\n",
    "fig.update_yaxes(showgrid=False,gridcolor='gray',tickfont=dict(color='#5A5856', size=14))\n",
    "fig.update_layout(xaxis={'side':'top'},title_x=0.33)#,legend=dict(title=''))    # if you add legend turn this on\n",
    "fig.update_yaxes(tickmode='array',tickvals = df.index, ticktext=df.index.strftime('%m-%d'))\n",
    "\n",
    "\n",
    "fig.show()"
   ]
  },
  {
   "cell_type": "code",
   "execution_count": null,
   "id": "aa55ddae",
   "metadata": {},
   "outputs": [],
   "source": [
    "week_ago = datetime.today().date() - pd.offsets.Day(10)\n",
    "df_selection = df_selection[df_selection.date>week_ago]\n",
    "\n",
    "fig = px.scatter(df_selection.groupby([df_selection.date,'parent_customer','market_segment']).usd.sum().reset_index().set_index('date'),\n",
    "           x='usd',\n",
    "           color='market_segment',\n",
    "           color_discrete_map=market_segment_color,\n",
    "           opacity=.8,\n",
    "           labels={'date':\"\", 'usd':''},\n",
    "           height=800,\n",
    "           width=400,\n",
    "           template='plotly_white',\n",
    "           title='Sales Last 10 Days',\n",
    "           hover_name='parent_customer',\n",
    "           log_x = True\n",
    "          ).update_layout(showlegend=False)\n",
    "fig.update_traces(marker=dict(size=12,line=dict(width=1,color='grey')),selector=dict(mode='markers'))\n",
    "fig.update_xaxes(showgrid=True,tickprefix='$',gridcolor=\"#B1A999\",tickfont=dict(color='#5A5856', size=12),showticklabels=True)\n",
    "fig.update_yaxes(showgrid=False,gridcolor='gray',tickfont=dict(color='#5A5856', size=14))\n",
    "fig.update_layout(xaxis={'side':'top'}, title_x=0.33,legend=dict(title=''))\n",
    "fig.update_yaxes(tickmode='array',tickvals = df.index, ticktext=df.index.strftime('%m-%d'))\n",
    "\n",
    "fig.show()"
   ]
  },
  {
   "cell_type": "code",
   "execution_count": null,
   "id": "404f2090",
   "metadata": {},
   "outputs": [],
   "source": [
    "df = all_sales.groupby([all_sales.date,'market_segment']).usd.sum().reset_index().set_index('date')\n",
    "df = df[df.index>'2023-12-31'].pivot(columns='market_segment', values='usd')\n",
    "\n",
    "fig = px.area(df,\n",
    "              color='market_segment',\n",
    "              color_discrete_map=market_segment_color, \n",
    "              facet_col=\"market_segment\",facet_col_wrap=2, \n",
    "              height=1000,\n",
    "              template = 'plotly_white',\n",
    "              title='YTD Sales by Segment'\n",
    "             )\n",
    "fig.update_traces(fill='tonexty')\n",
    "fig.show()"
   ]
  },
  {
   "cell_type": "code",
   "execution_count": null,
   "id": "42cfd09d",
   "metadata": {},
   "outputs": [],
   "source": [
    "df = df_selection[df_selection.market_segment=='Vending']['usd'].reset_index().set_index('date')\n",
    "df = df[df.index>'2023-12-31']\n",
    "\n",
    "fig = px.area(df,\n",
    "              template = 'plotly_white',\n",
    "              title='YTD Sales by Segment'\n",
    "             )\n",
    "fig.show()"
   ]
  },
  {
   "cell_type": "code",
   "execution_count": null,
   "id": "bd9e5a7c",
   "metadata": {},
   "outputs": [],
   "source": [
    "df_selection.groupby([df_selection.date,'market_segment']).usd.sum().reset_index().set_index('date')"
   ]
  },
  {
   "cell_type": "code",
   "execution_count": null,
   "id": "4c784115",
   "metadata": {},
   "outputs": [],
   "source": [
    "# DAILY SALES HORIZONTAL SCATTER\n",
    "df = all_sales.groupby([all_sales.date,'market_segment']).usd.sum().reset_index().set_index('date')\n",
    "df = round(df[df.index>'2024-01-31'].sort_index())\n",
    "\n",
    "fig_scatter_all = px.scatter(\n",
    "    df,\n",
    "    y='usd',\n",
    "    template = 'plotly_white',\n",
    "    labels={'date':'FEBRUARY',\n",
    "            'usd':''},\n",
    "    height=325,\n",
    "    color='market_segment',\n",
    "    color_discrete_map=market_segment_color,\n",
    "    # title='February',\n",
    "    log_y=True\n",
    ")\n",
    "fig_scatter_all.show()"
   ]
  },
  {
   "cell_type": "code",
   "execution_count": null,
   "id": "8d86f2f3",
   "metadata": {},
   "outputs": [],
   "source": []
  }
 ],
 "metadata": {
  "kernelspec": {
   "display_name": "Python 3 (ipykernel)",
   "language": "python",
   "name": "python3"
  },
  "language_info": {
   "codemirror_mode": {
    "name": "ipython",
    "version": 3
   },
   "file_extension": ".py",
   "mimetype": "text/x-python",
   "name": "python",
   "nbconvert_exporter": "python",
   "pygments_lexer": "ipython3",
   "version": "3.11.5"
  }
 },
 "nbformat": 4,
 "nbformat_minor": 5
}
