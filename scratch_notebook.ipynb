{
 "cells": [
  {
   "cell_type": "code",
   "execution_count": 18,
   "id": "4e8d358a",
   "metadata": {},
   "outputs": [],
   "source": [
    "\n",
    "import pandas as pd\n",
    "import plotly.express as px\n",
    "import altair as alt\n",
    "# from sqlalchemy import create_engine\n",
    "# import secrets\n",
    "import numpy as np\n",
    "import datetime"
   ]
  },
  {
   "cell_type": "code",
   "execution_count": 19,
   "id": "72ca0f11",
   "metadata": {},
   "outputs": [],
   "source": [
    "df = pd.read_csv(r\"data/all_sales_data.csv\")\n",
    "# ### MASTER DATA ###\n",
    "all_sales = df.copy()\n",
    "\n",
    "all_sales = all_sales[all_sales.market_segment != 'Samples']\n",
    "\n",
    "# invoice date cleanup\n",
    "all_sales['date'] = pd.to_datetime(all_sales['date'])\n",
    "all_sales['date'] = all_sales['date'].dt.normalize()\n",
    "all_sales['date'] = all_sales['date'].dt.floor('D')"
   ]
  },
  {
   "cell_type": "code",
   "execution_count": 23,
   "id": "7aa63709",
   "metadata": {},
   "outputs": [
    {
     "ename": "AttributeError",
     "evalue": "module 'datetime' has no attribute 'today'",
     "output_type": "error",
     "traceback": [
      "\u001b[1;31m---------------------------------------------------------------------------\u001b[0m",
      "\u001b[1;31mAttributeError\u001b[0m                            Traceback (most recent call last)",
      "Cell \u001b[1;32mIn[23], line 1\u001b[0m\n\u001b[1;32m----> 1\u001b[0m current_date \u001b[38;5;241m=\u001b[39m datetime\u001b[38;5;241m.\u001b[39mtoday\u001b[38;5;241m.\u001b[39mstrftime(\u001b[38;5;124m'\u001b[39m\u001b[38;5;124m%\u001b[39m\u001b[38;5;124mY-\u001b[39m\u001b[38;5;124m%\u001b[39m\u001b[38;5;124mm-\u001b[39m\u001b[38;5;132;01m%d\u001b[39;00m\u001b[38;5;124m'\u001b[39m)\n\u001b[0;32m      2\u001b[0m \u001b[38;5;66;03m# import datetime\u001b[39;00m\n\u001b[0;32m      3\u001b[0m year_ago_today \u001b[38;5;241m=\u001b[39m datetime\u001b[38;5;241m.\u001b[39mtoday \u001b[38;5;241m-\u001b[39m datetime\u001b[38;5;241m.\u001b[39mtimedelta(days\u001b[38;5;241m=\u001b[39m\u001b[38;5;241m365\u001b[39m)\n",
      "\u001b[1;31mAttributeError\u001b[0m: module 'datetime' has no attribute 'today'"
     ]
    }
   ],
   "source": [
    "current_date = datetime.today.strftime('%Y-%m-%d')\n",
    "# import datetime\n",
    "year_ago_today = datetime.today - datetime.timedelta(days=365)\n",
    "# year_ago_today.strftime('%Y-%m-%d')\n",
    "\n",
    "# ---- TOP KPI's Row ----\n",
    "sales_24 = int(all_sales[(all_sales['date'] > '2023-12-31') & (all_sales['date'] < current_date)].usd.sum())\n",
    "sales_23 = int(all_sales[(all_sales['date'] > '2022-12-31') & (all_sales['date'].dt.date < year_ago_today.date())].usd.sum())\n",
    "delta = sales_24 - sales_23\n",
    "\n",
    "df_selection = all_sales.copy()"
   ]
  },
  {
   "cell_type": "code",
   "execution_count": 14,
   "id": "e73bd287",
   "metadata": {},
   "outputs": [
    {
     "name": "stdout",
     "output_type": "stream",
     "text": [
      "353784\n",
      "448033\n",
      "2024-01-26\n",
      "2023-01-26 21:52:59.488306\n",
      "2024-01-26 21:55:26.633468\n"
     ]
    }
   ],
   "source": [
    "print(sales_23)\n",
    "print(sales_24)\n",
    "print(current_date)\n",
    "print(year_ago_today)\n",
    "print(datetime.datetime.today())"
   ]
  },
  {
   "cell_type": "code",
   "execution_count": 4,
   "id": "f2ab71ab",
   "metadata": {},
   "outputs": [],
   "source": [
    "############\n",
    "\n",
    "market_segment_color = {\n",
    "    'Vending': 'rgb(56,149,73)',\n",
    "    'Grocery': 'rgb(248,184,230)',\n",
    "    'Alternate Retail': 'rgb(46,70,166)',\n",
    "    'Canada': 'rgb(204,208,221)',\n",
    "    'Online': 'rgb(106,87,63)',\n",
    "    'Other': 'rgb(200,237,233)',\n",
    "    'Convenience': 'rgb(233,81,46)',\n",
    "    'Broadline Distributor': 'rgb(233,152,19)',\n",
    "    'Samples': 'rgb(141,62,92)'}"
   ]
  },
  {
   "cell_type": "code",
   "execution_count": null,
   "id": "630537f2",
   "metadata": {},
   "outputs": [],
   "source": [
    "df_selection.index = pd.to_datetime(df_selection['date'],format = '%m/%d/%y')\n",
    "mth_sales = round(df_selection.groupby(pd.Grouper(freq='M'))['usd'].sum())"
   ]
  },
  {
   "cell_type": "code",
   "execution_count": 16,
   "id": "5ccb82e6",
   "metadata": {},
   "outputs": [
    {
     "data": {
      "application/vnd.plotly.v1+json": {
       "config": {
        "plotlyServerURL": "https://plot.ly"
       },
       "data": [
        {
         "customdata": [
          [
           "Vending",
           "Vending"
          ],
          [
           "Other",
           "Other"
          ],
          [
           "Online",
           "Online"
          ],
          [
           "Grocery",
           "Grocery"
          ],
          [
           "Convenience",
           "Convenience"
          ],
          [
           "Canada",
           "Canada"
          ],
          [
           "Broadline Distributor",
           "Broadline Distributor"
          ],
          [
           "Alternate Retail",
           "Alternate Retail"
          ]
         ],
         "domain": {
          "x": [
           0,
           1
          ],
          "y": [
           0,
           1
          ]
         },
         "hole": 0.33,
         "hovertemplate": "market_segment=%{customdata[1]}<br>usd=%{value}<extra></extra>",
         "labels": [
          "Vending",
          "Other",
          "Online",
          "Grocery",
          "Convenience",
          "Canada",
          "Broadline Distributor",
          "Alternate Retail"
         ],
         "legendgroup": "",
         "marker": {
          "colors": [
           "rgb(56,149,73)",
           "rgb(200,237,233)",
           "rgb(106,87,63)",
           "rgb(248,184,230)",
           "rgb(233,81,46)",
           "rgb(204,208,221)",
           "rgb(233,152,19)",
           "rgb(46,70,166)"
          ]
         },
         "name": "",
         "opacity": 0.8,
         "showlegend": true,
         "textinfo": "percent+label",
         "textposition": "inside",
         "type": "pie",
         "values": [
          6047075,
          354933,
          5387854,
          776844,
          2924586,
          2047581,
          231731,
          4893114
         ]
        }
       ],
       "layout": {
        "autosize": false,
        "height": 450,
        "legend": {
         "tracegroupgap": 0
        },
        "showlegend": false,
        "template": {
         "data": {
          "bar": [
           {
            "error_x": {
             "color": "rgb(36,36,36)"
            },
            "error_y": {
             "color": "rgb(36,36,36)"
            },
            "marker": {
             "line": {
              "color": "white",
              "width": 0.5
             },
             "pattern": {
              "fillmode": "overlay",
              "size": 10,
              "solidity": 0.2
             }
            },
            "type": "bar"
           }
          ],
          "barpolar": [
           {
            "marker": {
             "line": {
              "color": "white",
              "width": 0.5
             },
             "pattern": {
              "fillmode": "overlay",
              "size": 10,
              "solidity": 0.2
             }
            },
            "type": "barpolar"
           }
          ],
          "carpet": [
           {
            "aaxis": {
             "endlinecolor": "rgb(36,36,36)",
             "gridcolor": "white",
             "linecolor": "white",
             "minorgridcolor": "white",
             "startlinecolor": "rgb(36,36,36)"
            },
            "baxis": {
             "endlinecolor": "rgb(36,36,36)",
             "gridcolor": "white",
             "linecolor": "white",
             "minorgridcolor": "white",
             "startlinecolor": "rgb(36,36,36)"
            },
            "type": "carpet"
           }
          ],
          "choropleth": [
           {
            "colorbar": {
             "outlinewidth": 1,
             "tickcolor": "rgb(36,36,36)",
             "ticks": "outside"
            },
            "type": "choropleth"
           }
          ],
          "contour": [
           {
            "colorbar": {
             "outlinewidth": 1,
             "tickcolor": "rgb(36,36,36)",
             "ticks": "outside"
            },
            "colorscale": [
             [
              0,
              "#440154"
             ],
             [
              0.1111111111111111,
              "#482878"
             ],
             [
              0.2222222222222222,
              "#3e4989"
             ],
             [
              0.3333333333333333,
              "#31688e"
             ],
             [
              0.4444444444444444,
              "#26828e"
             ],
             [
              0.5555555555555556,
              "#1f9e89"
             ],
             [
              0.6666666666666666,
              "#35b779"
             ],
             [
              0.7777777777777778,
              "#6ece58"
             ],
             [
              0.8888888888888888,
              "#b5de2b"
             ],
             [
              1,
              "#fde725"
             ]
            ],
            "type": "contour"
           }
          ],
          "contourcarpet": [
           {
            "colorbar": {
             "outlinewidth": 1,
             "tickcolor": "rgb(36,36,36)",
             "ticks": "outside"
            },
            "type": "contourcarpet"
           }
          ],
          "heatmap": [
           {
            "colorbar": {
             "outlinewidth": 1,
             "tickcolor": "rgb(36,36,36)",
             "ticks": "outside"
            },
            "colorscale": [
             [
              0,
              "#440154"
             ],
             [
              0.1111111111111111,
              "#482878"
             ],
             [
              0.2222222222222222,
              "#3e4989"
             ],
             [
              0.3333333333333333,
              "#31688e"
             ],
             [
              0.4444444444444444,
              "#26828e"
             ],
             [
              0.5555555555555556,
              "#1f9e89"
             ],
             [
              0.6666666666666666,
              "#35b779"
             ],
             [
              0.7777777777777778,
              "#6ece58"
             ],
             [
              0.8888888888888888,
              "#b5de2b"
             ],
             [
              1,
              "#fde725"
             ]
            ],
            "type": "heatmap"
           }
          ],
          "heatmapgl": [
           {
            "colorbar": {
             "outlinewidth": 1,
             "tickcolor": "rgb(36,36,36)",
             "ticks": "outside"
            },
            "colorscale": [
             [
              0,
              "#440154"
             ],
             [
              0.1111111111111111,
              "#482878"
             ],
             [
              0.2222222222222222,
              "#3e4989"
             ],
             [
              0.3333333333333333,
              "#31688e"
             ],
             [
              0.4444444444444444,
              "#26828e"
             ],
             [
              0.5555555555555556,
              "#1f9e89"
             ],
             [
              0.6666666666666666,
              "#35b779"
             ],
             [
              0.7777777777777778,
              "#6ece58"
             ],
             [
              0.8888888888888888,
              "#b5de2b"
             ],
             [
              1,
              "#fde725"
             ]
            ],
            "type": "heatmapgl"
           }
          ],
          "histogram": [
           {
            "marker": {
             "line": {
              "color": "white",
              "width": 0.6
             }
            },
            "type": "histogram"
           }
          ],
          "histogram2d": [
           {
            "colorbar": {
             "outlinewidth": 1,
             "tickcolor": "rgb(36,36,36)",
             "ticks": "outside"
            },
            "colorscale": [
             [
              0,
              "#440154"
             ],
             [
              0.1111111111111111,
              "#482878"
             ],
             [
              0.2222222222222222,
              "#3e4989"
             ],
             [
              0.3333333333333333,
              "#31688e"
             ],
             [
              0.4444444444444444,
              "#26828e"
             ],
             [
              0.5555555555555556,
              "#1f9e89"
             ],
             [
              0.6666666666666666,
              "#35b779"
             ],
             [
              0.7777777777777778,
              "#6ece58"
             ],
             [
              0.8888888888888888,
              "#b5de2b"
             ],
             [
              1,
              "#fde725"
             ]
            ],
            "type": "histogram2d"
           }
          ],
          "histogram2dcontour": [
           {
            "colorbar": {
             "outlinewidth": 1,
             "tickcolor": "rgb(36,36,36)",
             "ticks": "outside"
            },
            "colorscale": [
             [
              0,
              "#440154"
             ],
             [
              0.1111111111111111,
              "#482878"
             ],
             [
              0.2222222222222222,
              "#3e4989"
             ],
             [
              0.3333333333333333,
              "#31688e"
             ],
             [
              0.4444444444444444,
              "#26828e"
             ],
             [
              0.5555555555555556,
              "#1f9e89"
             ],
             [
              0.6666666666666666,
              "#35b779"
             ],
             [
              0.7777777777777778,
              "#6ece58"
             ],
             [
              0.8888888888888888,
              "#b5de2b"
             ],
             [
              1,
              "#fde725"
             ]
            ],
            "type": "histogram2dcontour"
           }
          ],
          "mesh3d": [
           {
            "colorbar": {
             "outlinewidth": 1,
             "tickcolor": "rgb(36,36,36)",
             "ticks": "outside"
            },
            "type": "mesh3d"
           }
          ],
          "parcoords": [
           {
            "line": {
             "colorbar": {
              "outlinewidth": 1,
              "tickcolor": "rgb(36,36,36)",
              "ticks": "outside"
             }
            },
            "type": "parcoords"
           }
          ],
          "pie": [
           {
            "automargin": true,
            "type": "pie"
           }
          ],
          "scatter": [
           {
            "fillpattern": {
             "fillmode": "overlay",
             "size": 10,
             "solidity": 0.2
            },
            "type": "scatter"
           }
          ],
          "scatter3d": [
           {
            "line": {
             "colorbar": {
              "outlinewidth": 1,
              "tickcolor": "rgb(36,36,36)",
              "ticks": "outside"
             }
            },
            "marker": {
             "colorbar": {
              "outlinewidth": 1,
              "tickcolor": "rgb(36,36,36)",
              "ticks": "outside"
             }
            },
            "type": "scatter3d"
           }
          ],
          "scattercarpet": [
           {
            "marker": {
             "colorbar": {
              "outlinewidth": 1,
              "tickcolor": "rgb(36,36,36)",
              "ticks": "outside"
             }
            },
            "type": "scattercarpet"
           }
          ],
          "scattergeo": [
           {
            "marker": {
             "colorbar": {
              "outlinewidth": 1,
              "tickcolor": "rgb(36,36,36)",
              "ticks": "outside"
             }
            },
            "type": "scattergeo"
           }
          ],
          "scattergl": [
           {
            "marker": {
             "colorbar": {
              "outlinewidth": 1,
              "tickcolor": "rgb(36,36,36)",
              "ticks": "outside"
             }
            },
            "type": "scattergl"
           }
          ],
          "scattermapbox": [
           {
            "marker": {
             "colorbar": {
              "outlinewidth": 1,
              "tickcolor": "rgb(36,36,36)",
              "ticks": "outside"
             }
            },
            "type": "scattermapbox"
           }
          ],
          "scatterpolar": [
           {
            "marker": {
             "colorbar": {
              "outlinewidth": 1,
              "tickcolor": "rgb(36,36,36)",
              "ticks": "outside"
             }
            },
            "type": "scatterpolar"
           }
          ],
          "scatterpolargl": [
           {
            "marker": {
             "colorbar": {
              "outlinewidth": 1,
              "tickcolor": "rgb(36,36,36)",
              "ticks": "outside"
             }
            },
            "type": "scatterpolargl"
           }
          ],
          "scatterternary": [
           {
            "marker": {
             "colorbar": {
              "outlinewidth": 1,
              "tickcolor": "rgb(36,36,36)",
              "ticks": "outside"
             }
            },
            "type": "scatterternary"
           }
          ],
          "surface": [
           {
            "colorbar": {
             "outlinewidth": 1,
             "tickcolor": "rgb(36,36,36)",
             "ticks": "outside"
            },
            "colorscale": [
             [
              0,
              "#440154"
             ],
             [
              0.1111111111111111,
              "#482878"
             ],
             [
              0.2222222222222222,
              "#3e4989"
             ],
             [
              0.3333333333333333,
              "#31688e"
             ],
             [
              0.4444444444444444,
              "#26828e"
             ],
             [
              0.5555555555555556,
              "#1f9e89"
             ],
             [
              0.6666666666666666,
              "#35b779"
             ],
             [
              0.7777777777777778,
              "#6ece58"
             ],
             [
              0.8888888888888888,
              "#b5de2b"
             ],
             [
              1,
              "#fde725"
             ]
            ],
            "type": "surface"
           }
          ],
          "table": [
           {
            "cells": {
             "fill": {
              "color": "rgb(237,237,237)"
             },
             "line": {
              "color": "white"
             }
            },
            "header": {
             "fill": {
              "color": "rgb(217,217,217)"
             },
             "line": {
              "color": "white"
             }
            },
            "type": "table"
           }
          ]
         },
         "layout": {
          "annotationdefaults": {
           "arrowhead": 0,
           "arrowwidth": 1
          },
          "autotypenumbers": "strict",
          "coloraxis": {
           "colorbar": {
            "outlinewidth": 1,
            "tickcolor": "rgb(36,36,36)",
            "ticks": "outside"
           }
          },
          "colorscale": {
           "diverging": [
            [
             0,
             "rgb(103,0,31)"
            ],
            [
             0.1,
             "rgb(178,24,43)"
            ],
            [
             0.2,
             "rgb(214,96,77)"
            ],
            [
             0.3,
             "rgb(244,165,130)"
            ],
            [
             0.4,
             "rgb(253,219,199)"
            ],
            [
             0.5,
             "rgb(247,247,247)"
            ],
            [
             0.6,
             "rgb(209,229,240)"
            ],
            [
             0.7,
             "rgb(146,197,222)"
            ],
            [
             0.8,
             "rgb(67,147,195)"
            ],
            [
             0.9,
             "rgb(33,102,172)"
            ],
            [
             1,
             "rgb(5,48,97)"
            ]
           ],
           "sequential": [
            [
             0,
             "#440154"
            ],
            [
             0.1111111111111111,
             "#482878"
            ],
            [
             0.2222222222222222,
             "#3e4989"
            ],
            [
             0.3333333333333333,
             "#31688e"
            ],
            [
             0.4444444444444444,
             "#26828e"
            ],
            [
             0.5555555555555556,
             "#1f9e89"
            ],
            [
             0.6666666666666666,
             "#35b779"
            ],
            [
             0.7777777777777778,
             "#6ece58"
            ],
            [
             0.8888888888888888,
             "#b5de2b"
            ],
            [
             1,
             "#fde725"
            ]
           ],
           "sequentialminus": [
            [
             0,
             "#440154"
            ],
            [
             0.1111111111111111,
             "#482878"
            ],
            [
             0.2222222222222222,
             "#3e4989"
            ],
            [
             0.3333333333333333,
             "#31688e"
            ],
            [
             0.4444444444444444,
             "#26828e"
            ],
            [
             0.5555555555555556,
             "#1f9e89"
            ],
            [
             0.6666666666666666,
             "#35b779"
            ],
            [
             0.7777777777777778,
             "#6ece58"
            ],
            [
             0.8888888888888888,
             "#b5de2b"
            ],
            [
             1,
             "#fde725"
            ]
           ]
          },
          "colorway": [
           "#1F77B4",
           "#FF7F0E",
           "#2CA02C",
           "#D62728",
           "#9467BD",
           "#8C564B",
           "#E377C2",
           "#7F7F7F",
           "#BCBD22",
           "#17BECF"
          ],
          "font": {
           "color": "rgb(36,36,36)"
          },
          "geo": {
           "bgcolor": "white",
           "lakecolor": "white",
           "landcolor": "white",
           "showlakes": true,
           "showland": true,
           "subunitcolor": "white"
          },
          "hoverlabel": {
           "align": "left"
          },
          "hovermode": "closest",
          "mapbox": {
           "style": "light"
          },
          "paper_bgcolor": "white",
          "plot_bgcolor": "white",
          "polar": {
           "angularaxis": {
            "gridcolor": "rgb(232,232,232)",
            "linecolor": "rgb(36,36,36)",
            "showgrid": false,
            "showline": true,
            "ticks": "outside"
           },
           "bgcolor": "white",
           "radialaxis": {
            "gridcolor": "rgb(232,232,232)",
            "linecolor": "rgb(36,36,36)",
            "showgrid": false,
            "showline": true,
            "ticks": "outside"
           }
          },
          "scene": {
           "xaxis": {
            "backgroundcolor": "white",
            "gridcolor": "rgb(232,232,232)",
            "gridwidth": 2,
            "linecolor": "rgb(36,36,36)",
            "showbackground": true,
            "showgrid": false,
            "showline": true,
            "ticks": "outside",
            "zeroline": false,
            "zerolinecolor": "rgb(36,36,36)"
           },
           "yaxis": {
            "backgroundcolor": "white",
            "gridcolor": "rgb(232,232,232)",
            "gridwidth": 2,
            "linecolor": "rgb(36,36,36)",
            "showbackground": true,
            "showgrid": false,
            "showline": true,
            "ticks": "outside",
            "zeroline": false,
            "zerolinecolor": "rgb(36,36,36)"
           },
           "zaxis": {
            "backgroundcolor": "white",
            "gridcolor": "rgb(232,232,232)",
            "gridwidth": 2,
            "linecolor": "rgb(36,36,36)",
            "showbackground": true,
            "showgrid": false,
            "showline": true,
            "ticks": "outside",
            "zeroline": false,
            "zerolinecolor": "rgb(36,36,36)"
           }
          },
          "shapedefaults": {
           "fillcolor": "black",
           "line": {
            "width": 0
           },
           "opacity": 0.3
          },
          "ternary": {
           "aaxis": {
            "gridcolor": "rgb(232,232,232)",
            "linecolor": "rgb(36,36,36)",
            "showgrid": false,
            "showline": true,
            "ticks": "outside"
           },
           "baxis": {
            "gridcolor": "rgb(232,232,232)",
            "linecolor": "rgb(36,36,36)",
            "showgrid": false,
            "showline": true,
            "ticks": "outside"
           },
           "bgcolor": "white",
           "caxis": {
            "gridcolor": "rgb(232,232,232)",
            "linecolor": "rgb(36,36,36)",
            "showgrid": false,
            "showline": true,
            "ticks": "outside"
           }
          },
          "title": {
           "x": 0.05
          },
          "xaxis": {
           "automargin": true,
           "gridcolor": "rgb(232,232,232)",
           "linecolor": "rgb(36,36,36)",
           "showgrid": false,
           "showline": true,
           "ticks": "outside",
           "title": {
            "standoff": 15
           },
           "zeroline": false,
           "zerolinecolor": "rgb(36,36,36)"
          },
          "yaxis": {
           "automargin": true,
           "gridcolor": "rgb(232,232,232)",
           "linecolor": "rgb(36,36,36)",
           "showgrid": false,
           "showline": true,
           "ticks": "outside",
           "title": {
            "standoff": 15
           },
           "zeroline": false,
           "zerolinecolor": "rgb(36,36,36)"
          }
         }
        },
        "title": {
         "text": " "
        },
        "width": 450
       }
      },
      "text/html": [
       "<div>                            <div id=\"361804c9-b521-40a6-8aa9-9e6215592f6d\" class=\"plotly-graph-div\" style=\"height:450px; width:450px;\"></div>            <script type=\"text/javascript\">                require([\"plotly\"], function(Plotly) {                    window.PLOTLYENV=window.PLOTLYENV || {};                                    if (document.getElementById(\"361804c9-b521-40a6-8aa9-9e6215592f6d\")) {                    Plotly.newPlot(                        \"361804c9-b521-40a6-8aa9-9e6215592f6d\",                        [{\"customdata\":[[\"Vending\",\"Vending\"],[\"Other\",\"Other\"],[\"Online\",\"Online\"],[\"Grocery\",\"Grocery\"],[\"Convenience\",\"Convenience\"],[\"Canada\",\"Canada\"],[\"Broadline Distributor\",\"Broadline Distributor\"],[\"Alternate Retail\",\"Alternate Retail\"]],\"domain\":{\"x\":[0.0,1.0],\"y\":[0.0,1.0]},\"hole\":0.33,\"hovertemplate\":\"market_segment=%{customdata[1]}<br>usd=%{value}<extra></extra>\",\"labels\":[\"Vending\",\"Other\",\"Online\",\"Grocery\",\"Convenience\",\"Canada\",\"Broadline Distributor\",\"Alternate Retail\"],\"legendgroup\":\"\",\"marker\":{\"colors\":[\"rgb(56,149,73)\",\"rgb(200,237,233)\",\"rgb(106,87,63)\",\"rgb(248,184,230)\",\"rgb(233,81,46)\",\"rgb(204,208,221)\",\"rgb(233,152,19)\",\"rgb(46,70,166)\"]},\"name\":\"\",\"opacity\":0.8,\"showlegend\":true,\"values\":[6047075.0,354933.0,5387854.0,776844.0,2924586.0,2047581.0,231731.0,4893114.0],\"type\":\"pie\",\"textinfo\":\"percent+label\",\"textposition\":\"inside\"}],                        {\"template\":{\"data\":{\"barpolar\":[{\"marker\":{\"line\":{\"color\":\"white\",\"width\":0.5},\"pattern\":{\"fillmode\":\"overlay\",\"size\":10,\"solidity\":0.2}},\"type\":\"barpolar\"}],\"bar\":[{\"error_x\":{\"color\":\"rgb(36,36,36)\"},\"error_y\":{\"color\":\"rgb(36,36,36)\"},\"marker\":{\"line\":{\"color\":\"white\",\"width\":0.5},\"pattern\":{\"fillmode\":\"overlay\",\"size\":10,\"solidity\":0.2}},\"type\":\"bar\"}],\"carpet\":[{\"aaxis\":{\"endlinecolor\":\"rgb(36,36,36)\",\"gridcolor\":\"white\",\"linecolor\":\"white\",\"minorgridcolor\":\"white\",\"startlinecolor\":\"rgb(36,36,36)\"},\"baxis\":{\"endlinecolor\":\"rgb(36,36,36)\",\"gridcolor\":\"white\",\"linecolor\":\"white\",\"minorgridcolor\":\"white\",\"startlinecolor\":\"rgb(36,36,36)\"},\"type\":\"carpet\"}],\"choropleth\":[{\"colorbar\":{\"outlinewidth\":1,\"tickcolor\":\"rgb(36,36,36)\",\"ticks\":\"outside\"},\"type\":\"choropleth\"}],\"contourcarpet\":[{\"colorbar\":{\"outlinewidth\":1,\"tickcolor\":\"rgb(36,36,36)\",\"ticks\":\"outside\"},\"type\":\"contourcarpet\"}],\"contour\":[{\"colorbar\":{\"outlinewidth\":1,\"tickcolor\":\"rgb(36,36,36)\",\"ticks\":\"outside\"},\"colorscale\":[[0.0,\"#440154\"],[0.1111111111111111,\"#482878\"],[0.2222222222222222,\"#3e4989\"],[0.3333333333333333,\"#31688e\"],[0.4444444444444444,\"#26828e\"],[0.5555555555555556,\"#1f9e89\"],[0.6666666666666666,\"#35b779\"],[0.7777777777777778,\"#6ece58\"],[0.8888888888888888,\"#b5de2b\"],[1.0,\"#fde725\"]],\"type\":\"contour\"}],\"heatmapgl\":[{\"colorbar\":{\"outlinewidth\":1,\"tickcolor\":\"rgb(36,36,36)\",\"ticks\":\"outside\"},\"colorscale\":[[0.0,\"#440154\"],[0.1111111111111111,\"#482878\"],[0.2222222222222222,\"#3e4989\"],[0.3333333333333333,\"#31688e\"],[0.4444444444444444,\"#26828e\"],[0.5555555555555556,\"#1f9e89\"],[0.6666666666666666,\"#35b779\"],[0.7777777777777778,\"#6ece58\"],[0.8888888888888888,\"#b5de2b\"],[1.0,\"#fde725\"]],\"type\":\"heatmapgl\"}],\"heatmap\":[{\"colorbar\":{\"outlinewidth\":1,\"tickcolor\":\"rgb(36,36,36)\",\"ticks\":\"outside\"},\"colorscale\":[[0.0,\"#440154\"],[0.1111111111111111,\"#482878\"],[0.2222222222222222,\"#3e4989\"],[0.3333333333333333,\"#31688e\"],[0.4444444444444444,\"#26828e\"],[0.5555555555555556,\"#1f9e89\"],[0.6666666666666666,\"#35b779\"],[0.7777777777777778,\"#6ece58\"],[0.8888888888888888,\"#b5de2b\"],[1.0,\"#fde725\"]],\"type\":\"heatmap\"}],\"histogram2dcontour\":[{\"colorbar\":{\"outlinewidth\":1,\"tickcolor\":\"rgb(36,36,36)\",\"ticks\":\"outside\"},\"colorscale\":[[0.0,\"#440154\"],[0.1111111111111111,\"#482878\"],[0.2222222222222222,\"#3e4989\"],[0.3333333333333333,\"#31688e\"],[0.4444444444444444,\"#26828e\"],[0.5555555555555556,\"#1f9e89\"],[0.6666666666666666,\"#35b779\"],[0.7777777777777778,\"#6ece58\"],[0.8888888888888888,\"#b5de2b\"],[1.0,\"#fde725\"]],\"type\":\"histogram2dcontour\"}],\"histogram2d\":[{\"colorbar\":{\"outlinewidth\":1,\"tickcolor\":\"rgb(36,36,36)\",\"ticks\":\"outside\"},\"colorscale\":[[0.0,\"#440154\"],[0.1111111111111111,\"#482878\"],[0.2222222222222222,\"#3e4989\"],[0.3333333333333333,\"#31688e\"],[0.4444444444444444,\"#26828e\"],[0.5555555555555556,\"#1f9e89\"],[0.6666666666666666,\"#35b779\"],[0.7777777777777778,\"#6ece58\"],[0.8888888888888888,\"#b5de2b\"],[1.0,\"#fde725\"]],\"type\":\"histogram2d\"}],\"histogram\":[{\"marker\":{\"line\":{\"color\":\"white\",\"width\":0.6}},\"type\":\"histogram\"}],\"mesh3d\":[{\"colorbar\":{\"outlinewidth\":1,\"tickcolor\":\"rgb(36,36,36)\",\"ticks\":\"outside\"},\"type\":\"mesh3d\"}],\"parcoords\":[{\"line\":{\"colorbar\":{\"outlinewidth\":1,\"tickcolor\":\"rgb(36,36,36)\",\"ticks\":\"outside\"}},\"type\":\"parcoords\"}],\"pie\":[{\"automargin\":true,\"type\":\"pie\"}],\"scatter3d\":[{\"line\":{\"colorbar\":{\"outlinewidth\":1,\"tickcolor\":\"rgb(36,36,36)\",\"ticks\":\"outside\"}},\"marker\":{\"colorbar\":{\"outlinewidth\":1,\"tickcolor\":\"rgb(36,36,36)\",\"ticks\":\"outside\"}},\"type\":\"scatter3d\"}],\"scattercarpet\":[{\"marker\":{\"colorbar\":{\"outlinewidth\":1,\"tickcolor\":\"rgb(36,36,36)\",\"ticks\":\"outside\"}},\"type\":\"scattercarpet\"}],\"scattergeo\":[{\"marker\":{\"colorbar\":{\"outlinewidth\":1,\"tickcolor\":\"rgb(36,36,36)\",\"ticks\":\"outside\"}},\"type\":\"scattergeo\"}],\"scattergl\":[{\"marker\":{\"colorbar\":{\"outlinewidth\":1,\"tickcolor\":\"rgb(36,36,36)\",\"ticks\":\"outside\"}},\"type\":\"scattergl\"}],\"scattermapbox\":[{\"marker\":{\"colorbar\":{\"outlinewidth\":1,\"tickcolor\":\"rgb(36,36,36)\",\"ticks\":\"outside\"}},\"type\":\"scattermapbox\"}],\"scatterpolargl\":[{\"marker\":{\"colorbar\":{\"outlinewidth\":1,\"tickcolor\":\"rgb(36,36,36)\",\"ticks\":\"outside\"}},\"type\":\"scatterpolargl\"}],\"scatterpolar\":[{\"marker\":{\"colorbar\":{\"outlinewidth\":1,\"tickcolor\":\"rgb(36,36,36)\",\"ticks\":\"outside\"}},\"type\":\"scatterpolar\"}],\"scatter\":[{\"fillpattern\":{\"fillmode\":\"overlay\",\"size\":10,\"solidity\":0.2},\"type\":\"scatter\"}],\"scatterternary\":[{\"marker\":{\"colorbar\":{\"outlinewidth\":1,\"tickcolor\":\"rgb(36,36,36)\",\"ticks\":\"outside\"}},\"type\":\"scatterternary\"}],\"surface\":[{\"colorbar\":{\"outlinewidth\":1,\"tickcolor\":\"rgb(36,36,36)\",\"ticks\":\"outside\"},\"colorscale\":[[0.0,\"#440154\"],[0.1111111111111111,\"#482878\"],[0.2222222222222222,\"#3e4989\"],[0.3333333333333333,\"#31688e\"],[0.4444444444444444,\"#26828e\"],[0.5555555555555556,\"#1f9e89\"],[0.6666666666666666,\"#35b779\"],[0.7777777777777778,\"#6ece58\"],[0.8888888888888888,\"#b5de2b\"],[1.0,\"#fde725\"]],\"type\":\"surface\"}],\"table\":[{\"cells\":{\"fill\":{\"color\":\"rgb(237,237,237)\"},\"line\":{\"color\":\"white\"}},\"header\":{\"fill\":{\"color\":\"rgb(217,217,217)\"},\"line\":{\"color\":\"white\"}},\"type\":\"table\"}]},\"layout\":{\"annotationdefaults\":{\"arrowhead\":0,\"arrowwidth\":1},\"autotypenumbers\":\"strict\",\"coloraxis\":{\"colorbar\":{\"outlinewidth\":1,\"tickcolor\":\"rgb(36,36,36)\",\"ticks\":\"outside\"}},\"colorscale\":{\"diverging\":[[0.0,\"rgb(103,0,31)\"],[0.1,\"rgb(178,24,43)\"],[0.2,\"rgb(214,96,77)\"],[0.3,\"rgb(244,165,130)\"],[0.4,\"rgb(253,219,199)\"],[0.5,\"rgb(247,247,247)\"],[0.6,\"rgb(209,229,240)\"],[0.7,\"rgb(146,197,222)\"],[0.8,\"rgb(67,147,195)\"],[0.9,\"rgb(33,102,172)\"],[1.0,\"rgb(5,48,97)\"]],\"sequential\":[[0.0,\"#440154\"],[0.1111111111111111,\"#482878\"],[0.2222222222222222,\"#3e4989\"],[0.3333333333333333,\"#31688e\"],[0.4444444444444444,\"#26828e\"],[0.5555555555555556,\"#1f9e89\"],[0.6666666666666666,\"#35b779\"],[0.7777777777777778,\"#6ece58\"],[0.8888888888888888,\"#b5de2b\"],[1.0,\"#fde725\"]],\"sequentialminus\":[[0.0,\"#440154\"],[0.1111111111111111,\"#482878\"],[0.2222222222222222,\"#3e4989\"],[0.3333333333333333,\"#31688e\"],[0.4444444444444444,\"#26828e\"],[0.5555555555555556,\"#1f9e89\"],[0.6666666666666666,\"#35b779\"],[0.7777777777777778,\"#6ece58\"],[0.8888888888888888,\"#b5de2b\"],[1.0,\"#fde725\"]]},\"colorway\":[\"#1F77B4\",\"#FF7F0E\",\"#2CA02C\",\"#D62728\",\"#9467BD\",\"#8C564B\",\"#E377C2\",\"#7F7F7F\",\"#BCBD22\",\"#17BECF\"],\"font\":{\"color\":\"rgb(36,36,36)\"},\"geo\":{\"bgcolor\":\"white\",\"lakecolor\":\"white\",\"landcolor\":\"white\",\"showlakes\":true,\"showland\":true,\"subunitcolor\":\"white\"},\"hoverlabel\":{\"align\":\"left\"},\"hovermode\":\"closest\",\"mapbox\":{\"style\":\"light\"},\"paper_bgcolor\":\"white\",\"plot_bgcolor\":\"white\",\"polar\":{\"angularaxis\":{\"gridcolor\":\"rgb(232,232,232)\",\"linecolor\":\"rgb(36,36,36)\",\"showgrid\":false,\"showline\":true,\"ticks\":\"outside\"},\"bgcolor\":\"white\",\"radialaxis\":{\"gridcolor\":\"rgb(232,232,232)\",\"linecolor\":\"rgb(36,36,36)\",\"showgrid\":false,\"showline\":true,\"ticks\":\"outside\"}},\"scene\":{\"xaxis\":{\"backgroundcolor\":\"white\",\"gridcolor\":\"rgb(232,232,232)\",\"gridwidth\":2,\"linecolor\":\"rgb(36,36,36)\",\"showbackground\":true,\"showgrid\":false,\"showline\":true,\"ticks\":\"outside\",\"zeroline\":false,\"zerolinecolor\":\"rgb(36,36,36)\"},\"yaxis\":{\"backgroundcolor\":\"white\",\"gridcolor\":\"rgb(232,232,232)\",\"gridwidth\":2,\"linecolor\":\"rgb(36,36,36)\",\"showbackground\":true,\"showgrid\":false,\"showline\":true,\"ticks\":\"outside\",\"zeroline\":false,\"zerolinecolor\":\"rgb(36,36,36)\"},\"zaxis\":{\"backgroundcolor\":\"white\",\"gridcolor\":\"rgb(232,232,232)\",\"gridwidth\":2,\"linecolor\":\"rgb(36,36,36)\",\"showbackground\":true,\"showgrid\":false,\"showline\":true,\"ticks\":\"outside\",\"zeroline\":false,\"zerolinecolor\":\"rgb(36,36,36)\"}},\"shapedefaults\":{\"fillcolor\":\"black\",\"line\":{\"width\":0},\"opacity\":0.3},\"ternary\":{\"aaxis\":{\"gridcolor\":\"rgb(232,232,232)\",\"linecolor\":\"rgb(36,36,36)\",\"showgrid\":false,\"showline\":true,\"ticks\":\"outside\"},\"baxis\":{\"gridcolor\":\"rgb(232,232,232)\",\"linecolor\":\"rgb(36,36,36)\",\"showgrid\":false,\"showline\":true,\"ticks\":\"outside\"},\"bgcolor\":\"white\",\"caxis\":{\"gridcolor\":\"rgb(232,232,232)\",\"linecolor\":\"rgb(36,36,36)\",\"showgrid\":false,\"showline\":true,\"ticks\":\"outside\"}},\"title\":{\"x\":0.05},\"xaxis\":{\"automargin\":true,\"gridcolor\":\"rgb(232,232,232)\",\"linecolor\":\"rgb(36,36,36)\",\"showgrid\":false,\"showline\":true,\"ticks\":\"outside\",\"title\":{\"standoff\":15},\"zeroline\":false,\"zerolinecolor\":\"rgb(36,36,36)\"},\"yaxis\":{\"automargin\":true,\"gridcolor\":\"rgb(232,232,232)\",\"linecolor\":\"rgb(36,36,36)\",\"showgrid\":false,\"showline\":true,\"ticks\":\"outside\",\"title\":{\"standoff\":15},\"zeroline\":false,\"zerolinecolor\":\"rgb(36,36,36)\"}}},\"legend\":{\"tracegroupgap\":0},\"title\":{\"text\":\" \"},\"autosize\":false,\"width\":450,\"height\":450,\"showlegend\":false},                        {\"responsive\": true}                    ).then(function(){\n",
       "                            \n",
       "var gd = document.getElementById('361804c9-b521-40a6-8aa9-9e6215592f6d');\n",
       "var x = new MutationObserver(function (mutations, observer) {{\n",
       "        var display = window.getComputedStyle(gd).display;\n",
       "        if (!display || display === 'none') {{\n",
       "            console.log([gd, 'removed!']);\n",
       "            Plotly.purge(gd);\n",
       "            observer.disconnect();\n",
       "        }}\n",
       "}});\n",
       "\n",
       "// Listen for the removal of the full notebook cells\n",
       "var notebookContainer = gd.closest('#notebook-container');\n",
       "if (notebookContainer) {{\n",
       "    x.observe(notebookContainer, {childList: true});\n",
       "}}\n",
       "\n",
       "// Listen for the clearing of the current output cell\n",
       "var outputEl = gd.closest('.output');\n",
       "if (outputEl) {{\n",
       "    x.observe(outputEl, {childList: true});\n",
       "}}\n",
       "\n",
       "                        })                };                });            </script>        </div>"
      ]
     },
     "metadata": {},
     "output_type": "display_data"
    }
   ],
   "source": [
    "\n",
    "\n",
    "seg_sales = round(df_selection.groupby('market_segment',as_index=False)['usd'].sum()).sort_values(by='market_segment',ascending=False)\n",
    "fig_seg_sales = px.pie(\n",
    "    seg_sales, \n",
    "    values='usd', \n",
    "    names='market_segment',\n",
    "    template = 'simple_white',\n",
    "    title=' ',\n",
    "    opacity = .8,\n",
    "    hole=.33,\n",
    "    hover_data = ['market_segment'],\n",
    "    color='market_segment',\n",
    "    color_discrete_map=market_segment_color).update_layout(autosize=False,width=450,height=450,showlegend=False)\n",
    "fig_seg_sales.update_traces(textposition='inside', textinfo='percent+label')#,texttemplate='%{percent:.0%}')\n",
    "fig_seg_sales.show()"
   ]
  },
  {
   "cell_type": "code",
   "execution_count": 26,
   "id": "77baf449",
   "metadata": {},
   "outputs": [],
   "source": [
    "df_selection.index = pd.to_datetime(df_selection['date'],format = '%y/%m/%d')\n",
    "\n",
    "sales_per_week = df_selection.groupby(pd.Grouper(freq='W'))['usd'].sum()"
   ]
  },
  {
   "cell_type": "code",
   "execution_count": 27,
   "id": "23ce4552",
   "metadata": {},
   "outputs": [
    {
     "data": {
      "text/plain": [
       "date\n",
       "2021-01-03        78.4800\n",
       "2021-01-10     34765.2375\n",
       "2021-01-17     68371.7175\n",
       "2021-01-24    170547.5400\n",
       "2021-01-31    145100.5875\n",
       "                 ...     \n",
       "2023-12-31    188384.2750\n",
       "2024-01-07    133904.8450\n",
       "2024-01-14     85863.3750\n",
       "2024-01-21    110610.7275\n",
       "2024-01-28    117654.1475\n",
       "Freq: W-SUN, Name: usd, Length: 161, dtype: float64"
      ]
     },
     "execution_count": 27,
     "metadata": {},
     "output_type": "execute_result"
    }
   ],
   "source": [
    "sales_per_week"
   ]
  },
  {
   "cell_type": "code",
   "execution_count": 46,
   "id": "7e4941a3",
   "metadata": {},
   "outputs": [
    {
     "data": {
      "application/vnd.plotly.v1+json": {
       "config": {
        "plotlyServerURL": "https://plot.ly"
       },
       "data": [
        {
         "hovertemplate": "Sales: <b>%{y:$,.0f}",
         "legendgroup": "",
         "marker": {
          "color": [
           78,
           34765,
           68372,
           170548,
           145101,
           52516,
           90304,
           78217,
           186072,
           77436,
           123174,
           100519,
           71647,
           82250,
           52477,
           92062,
           76357,
           94989,
           74451,
           81017,
           96443,
           87048,
           49892,
           48694,
           77379,
           57979,
           125172,
           55726,
           29237,
           52284,
           116671,
           112409,
           129336,
           56512,
           72792,
           74973,
           48136,
           63142,
           36299,
           244128,
           135949,
           174249,
           194157,
           140910,
           130152,
           247138,
           146448,
           106075,
           140410,
           123405,
           67033,
           65445,
           81749,
           104741,
           118598,
           53371,
           31749,
           181105,
           134029,
           108419,
           114598,
           97595,
           127755,
           104999,
           109261,
           214774,
           112548,
           153954,
           221395,
           227781,
           102529,
           212214,
           112101,
           74145,
           154248,
           95373,
           192293,
           133513,
           99741,
           78057,
           73446,
           175584,
           134231,
           142737,
           109996,
           135692,
           171143,
           208903,
           114051,
           160958,
           261227,
           201825,
           111794,
           172440,
           218752,
           124687,
           289432,
           133324,
           175125,
           176493,
           164071,
           84512,
           100245,
           156893,
           195172,
           62811,
           130537,
           124546,
           85440,
           331505,
           134288,
           149703,
           108488,
           439297,
           98840,
           194319,
           144811,
           355901,
           128368,
           207198,
           196099,
           288626,
           116357,
           126857,
           140027,
           113159,
           184419,
           96994,
           163842,
           150730,
           301290,
           109605,
           153855,
           153508,
           168634,
           304500,
           133149,
           126169,
           154914,
           278503,
           144216,
           194428,
           220085,
           317829,
           169353,
           241685,
           255857,
           156941,
           364098,
           136446,
           255323,
           164816,
           245944,
           98586,
           135821,
           165243,
           188384,
           133905,
           85863,
           110611,
           117654
          ],
          "coloraxis": "coloraxis",
          "size": [
           78,
           34765,
           68372,
           170548,
           145101,
           52516,
           90304,
           78217,
           186072,
           77436,
           123174,
           100519,
           71647,
           82250,
           52477,
           92062,
           76357,
           94989,
           74451,
           81017,
           96443,
           87048,
           49892,
           48694,
           77379,
           57979,
           125172,
           55726,
           29237,
           52284,
           116671,
           112409,
           129336,
           56512,
           72792,
           74973,
           48136,
           63142,
           36299,
           244128,
           135949,
           174249,
           194157,
           140910,
           130152,
           247138,
           146448,
           106075,
           140410,
           123405,
           67033,
           65445,
           81749,
           104741,
           118598,
           53371,
           31749,
           181105,
           134029,
           108419,
           114598,
           97595,
           127755,
           104999,
           109261,
           214774,
           112548,
           153954,
           221395,
           227781,
           102529,
           212214,
           112101,
           74145,
           154248,
           95373,
           192293,
           133513,
           99741,
           78057,
           73446,
           175584,
           134231,
           142737,
           109996,
           135692,
           171143,
           208903,
           114051,
           160958,
           261227,
           201825,
           111794,
           172440,
           218752,
           124687,
           289432,
           133324,
           175125,
           176493,
           164071,
           84512,
           100245,
           156893,
           195172,
           62811,
           130537,
           124546,
           85440,
           331505,
           134288,
           149703,
           108488,
           439297,
           98840,
           194319,
           144811,
           355901,
           128368,
           207198,
           196099,
           288626,
           116357,
           126857,
           140027,
           113159,
           184419,
           96994,
           163842,
           150730,
           301290,
           109605,
           153855,
           153508,
           168634,
           304500,
           133149,
           126169,
           154914,
           278503,
           144216,
           194428,
           220085,
           317829,
           169353,
           241685,
           255857,
           156941,
           364098,
           136446,
           255323,
           164816,
           245944,
           98586,
           135821,
           165243,
           188384,
           133905,
           85863,
           110611,
           117654
          ],
          "sizemode": "area",
          "sizeref": 1952.431111111111,
          "symbol": "circle"
         },
         "mode": "markers",
         "name": "",
         "orientation": "v",
         "showlegend": false,
         "type": "scatter",
         "x": [
          "2021-01-03T00:00:00",
          "2021-01-10T00:00:00",
          "2021-01-17T00:00:00",
          "2021-01-24T00:00:00",
          "2021-01-31T00:00:00",
          "2021-02-07T00:00:00",
          "2021-02-14T00:00:00",
          "2021-02-21T00:00:00",
          "2021-02-28T00:00:00",
          "2021-03-07T00:00:00",
          "2021-03-14T00:00:00",
          "2021-03-21T00:00:00",
          "2021-03-28T00:00:00",
          "2021-04-04T00:00:00",
          "2021-04-11T00:00:00",
          "2021-04-18T00:00:00",
          "2021-04-25T00:00:00",
          "2021-05-02T00:00:00",
          "2021-05-09T00:00:00",
          "2021-05-16T00:00:00",
          "2021-05-23T00:00:00",
          "2021-05-30T00:00:00",
          "2021-06-06T00:00:00",
          "2021-06-13T00:00:00",
          "2021-06-20T00:00:00",
          "2021-06-27T00:00:00",
          "2021-07-04T00:00:00",
          "2021-07-11T00:00:00",
          "2021-07-18T00:00:00",
          "2021-07-25T00:00:00",
          "2021-08-01T00:00:00",
          "2021-08-08T00:00:00",
          "2021-08-15T00:00:00",
          "2021-08-22T00:00:00",
          "2021-08-29T00:00:00",
          "2021-09-05T00:00:00",
          "2021-09-12T00:00:00",
          "2021-09-19T00:00:00",
          "2021-09-26T00:00:00",
          "2021-10-03T00:00:00",
          "2021-10-10T00:00:00",
          "2021-10-17T00:00:00",
          "2021-10-24T00:00:00",
          "2021-10-31T00:00:00",
          "2021-11-07T00:00:00",
          "2021-11-14T00:00:00",
          "2021-11-21T00:00:00",
          "2021-11-28T00:00:00",
          "2021-12-05T00:00:00",
          "2021-12-12T00:00:00",
          "2021-12-19T00:00:00",
          "2021-12-26T00:00:00",
          "2022-01-02T00:00:00",
          "2022-01-09T00:00:00",
          "2022-01-16T00:00:00",
          "2022-01-23T00:00:00",
          "2022-01-30T00:00:00",
          "2022-02-06T00:00:00",
          "2022-02-13T00:00:00",
          "2022-02-20T00:00:00",
          "2022-02-27T00:00:00",
          "2022-03-06T00:00:00",
          "2022-03-13T00:00:00",
          "2022-03-20T00:00:00",
          "2022-03-27T00:00:00",
          "2022-04-03T00:00:00",
          "2022-04-10T00:00:00",
          "2022-04-17T00:00:00",
          "2022-04-24T00:00:00",
          "2022-05-01T00:00:00",
          "2022-05-08T00:00:00",
          "2022-05-15T00:00:00",
          "2022-05-22T00:00:00",
          "2022-05-29T00:00:00",
          "2022-06-05T00:00:00",
          "2022-06-12T00:00:00",
          "2022-06-19T00:00:00",
          "2022-06-26T00:00:00",
          "2022-07-03T00:00:00",
          "2022-07-10T00:00:00",
          "2022-07-17T00:00:00",
          "2022-07-24T00:00:00",
          "2022-07-31T00:00:00",
          "2022-08-07T00:00:00",
          "2022-08-14T00:00:00",
          "2022-08-21T00:00:00",
          "2022-08-28T00:00:00",
          "2022-09-04T00:00:00",
          "2022-09-11T00:00:00",
          "2022-09-18T00:00:00",
          "2022-09-25T00:00:00",
          "2022-10-02T00:00:00",
          "2022-10-09T00:00:00",
          "2022-10-16T00:00:00",
          "2022-10-23T00:00:00",
          "2022-10-30T00:00:00",
          "2022-11-06T00:00:00",
          "2022-11-13T00:00:00",
          "2022-11-20T00:00:00",
          "2022-11-27T00:00:00",
          "2022-12-04T00:00:00",
          "2022-12-11T00:00:00",
          "2022-12-18T00:00:00",
          "2022-12-25T00:00:00",
          "2023-01-01T00:00:00",
          "2023-01-08T00:00:00",
          "2023-01-15T00:00:00",
          "2023-01-22T00:00:00",
          "2023-01-29T00:00:00",
          "2023-02-05T00:00:00",
          "2023-02-12T00:00:00",
          "2023-02-19T00:00:00",
          "2023-02-26T00:00:00",
          "2023-03-05T00:00:00",
          "2023-03-12T00:00:00",
          "2023-03-19T00:00:00",
          "2023-03-26T00:00:00",
          "2023-04-02T00:00:00",
          "2023-04-09T00:00:00",
          "2023-04-16T00:00:00",
          "2023-04-23T00:00:00",
          "2023-04-30T00:00:00",
          "2023-05-07T00:00:00",
          "2023-05-14T00:00:00",
          "2023-05-21T00:00:00",
          "2023-05-28T00:00:00",
          "2023-06-04T00:00:00",
          "2023-06-11T00:00:00",
          "2023-06-18T00:00:00",
          "2023-06-25T00:00:00",
          "2023-07-02T00:00:00",
          "2023-07-09T00:00:00",
          "2023-07-16T00:00:00",
          "2023-07-23T00:00:00",
          "2023-07-30T00:00:00",
          "2023-08-06T00:00:00",
          "2023-08-13T00:00:00",
          "2023-08-20T00:00:00",
          "2023-08-27T00:00:00",
          "2023-09-03T00:00:00",
          "2023-09-10T00:00:00",
          "2023-09-17T00:00:00",
          "2023-09-24T00:00:00",
          "2023-10-01T00:00:00",
          "2023-10-08T00:00:00",
          "2023-10-15T00:00:00",
          "2023-10-22T00:00:00",
          "2023-10-29T00:00:00",
          "2023-11-05T00:00:00",
          "2023-11-12T00:00:00",
          "2023-11-19T00:00:00",
          "2023-11-26T00:00:00",
          "2023-12-03T00:00:00",
          "2023-12-10T00:00:00",
          "2023-12-17T00:00:00",
          "2023-12-24T00:00:00",
          "2023-12-31T00:00:00",
          "2024-01-07T00:00:00",
          "2024-01-14T00:00:00",
          "2024-01-21T00:00:00",
          "2024-01-28T00:00:00"
         ],
         "xaxis": "x",
         "y": [
          78,
          34765,
          68372,
          170548,
          145101,
          52516,
          90304,
          78217,
          186072,
          77436,
          123174,
          100519,
          71647,
          82250,
          52477,
          92062,
          76357,
          94989,
          74451,
          81017,
          96443,
          87048,
          49892,
          48694,
          77379,
          57979,
          125172,
          55726,
          29237,
          52284,
          116671,
          112409,
          129336,
          56512,
          72792,
          74973,
          48136,
          63142,
          36299,
          244128,
          135949,
          174249,
          194157,
          140910,
          130152,
          247138,
          146448,
          106075,
          140410,
          123405,
          67033,
          65445,
          81749,
          104741,
          118598,
          53371,
          31749,
          181105,
          134029,
          108419,
          114598,
          97595,
          127755,
          104999,
          109261,
          214774,
          112548,
          153954,
          221395,
          227781,
          102529,
          212214,
          112101,
          74145,
          154248,
          95373,
          192293,
          133513,
          99741,
          78057,
          73446,
          175584,
          134231,
          142737,
          109996,
          135692,
          171143,
          208903,
          114051,
          160958,
          261227,
          201825,
          111794,
          172440,
          218752,
          124687,
          289432,
          133324,
          175125,
          176493,
          164071,
          84512,
          100245,
          156893,
          195172,
          62811,
          130537,
          124546,
          85440,
          331505,
          134288,
          149703,
          108488,
          439297,
          98840,
          194319,
          144811,
          355901,
          128368,
          207198,
          196099,
          288626,
          116357,
          126857,
          140027,
          113159,
          184419,
          96994,
          163842,
          150730,
          301290,
          109605,
          153855,
          153508,
          168634,
          304500,
          133149,
          126169,
          154914,
          278503,
          144216,
          194428,
          220085,
          317829,
          169353,
          241685,
          255857,
          156941,
          364098,
          136446,
          255323,
          164816,
          245944,
          98586,
          135821,
          165243,
          188384,
          133905,
          85863,
          110611,
          117654
         ],
         "yaxis": "y"
        },
        {
         "hovertemplate": "Sales: <b>%{y:$,.0f}",
         "legendgroup": "Overall Trendline",
         "line": {
          "color": "black"
         },
         "mode": "lines",
         "name": "Overall Trendline",
         "showlegend": true,
         "type": "scatter",
         "x": [
          "2021-01-03T00:00:00",
          "2021-01-10T00:00:00",
          "2021-01-17T00:00:00",
          "2021-01-24T00:00:00",
          "2021-01-31T00:00:00",
          "2021-02-07T00:00:00",
          "2021-02-14T00:00:00",
          "2021-02-21T00:00:00",
          "2021-02-28T00:00:00",
          "2021-03-07T00:00:00",
          "2021-03-14T00:00:00",
          "2021-03-21T00:00:00",
          "2021-03-28T00:00:00",
          "2021-04-04T00:00:00",
          "2021-04-11T00:00:00",
          "2021-04-18T00:00:00",
          "2021-04-25T00:00:00",
          "2021-05-02T00:00:00",
          "2021-05-09T00:00:00",
          "2021-05-16T00:00:00",
          "2021-05-23T00:00:00",
          "2021-05-30T00:00:00",
          "2021-06-06T00:00:00",
          "2021-06-13T00:00:00",
          "2021-06-20T00:00:00",
          "2021-06-27T00:00:00",
          "2021-07-04T00:00:00",
          "2021-07-11T00:00:00",
          "2021-07-18T00:00:00",
          "2021-07-25T00:00:00",
          "2021-08-01T00:00:00",
          "2021-08-08T00:00:00",
          "2021-08-15T00:00:00",
          "2021-08-22T00:00:00",
          "2021-08-29T00:00:00",
          "2021-09-05T00:00:00",
          "2021-09-12T00:00:00",
          "2021-09-19T00:00:00",
          "2021-09-26T00:00:00",
          "2021-10-03T00:00:00",
          "2021-10-10T00:00:00",
          "2021-10-17T00:00:00",
          "2021-10-24T00:00:00",
          "2021-10-31T00:00:00",
          "2021-11-07T00:00:00",
          "2021-11-14T00:00:00",
          "2021-11-21T00:00:00",
          "2021-11-28T00:00:00",
          "2021-12-05T00:00:00",
          "2021-12-12T00:00:00",
          "2021-12-19T00:00:00",
          "2021-12-26T00:00:00",
          "2022-01-02T00:00:00",
          "2022-01-09T00:00:00",
          "2022-01-16T00:00:00",
          "2022-01-23T00:00:00",
          "2022-01-30T00:00:00",
          "2022-02-06T00:00:00",
          "2022-02-13T00:00:00",
          "2022-02-20T00:00:00",
          "2022-02-27T00:00:00",
          "2022-03-06T00:00:00",
          "2022-03-13T00:00:00",
          "2022-03-20T00:00:00",
          "2022-03-27T00:00:00",
          "2022-04-03T00:00:00",
          "2022-04-10T00:00:00",
          "2022-04-17T00:00:00",
          "2022-04-24T00:00:00",
          "2022-05-01T00:00:00",
          "2022-05-08T00:00:00",
          "2022-05-15T00:00:00",
          "2022-05-22T00:00:00",
          "2022-05-29T00:00:00",
          "2022-06-05T00:00:00",
          "2022-06-12T00:00:00",
          "2022-06-19T00:00:00",
          "2022-06-26T00:00:00",
          "2022-07-03T00:00:00",
          "2022-07-10T00:00:00",
          "2022-07-17T00:00:00",
          "2022-07-24T00:00:00",
          "2022-07-31T00:00:00",
          "2022-08-07T00:00:00",
          "2022-08-14T00:00:00",
          "2022-08-21T00:00:00",
          "2022-08-28T00:00:00",
          "2022-09-04T00:00:00",
          "2022-09-11T00:00:00",
          "2022-09-18T00:00:00",
          "2022-09-25T00:00:00",
          "2022-10-02T00:00:00",
          "2022-10-09T00:00:00",
          "2022-10-16T00:00:00",
          "2022-10-23T00:00:00",
          "2022-10-30T00:00:00",
          "2022-11-06T00:00:00",
          "2022-11-13T00:00:00",
          "2022-11-20T00:00:00",
          "2022-11-27T00:00:00",
          "2022-12-04T00:00:00",
          "2022-12-11T00:00:00",
          "2022-12-18T00:00:00",
          "2022-12-25T00:00:00",
          "2023-01-01T00:00:00",
          "2023-01-08T00:00:00",
          "2023-01-15T00:00:00",
          "2023-01-22T00:00:00",
          "2023-01-29T00:00:00",
          "2023-02-05T00:00:00",
          "2023-02-12T00:00:00",
          "2023-02-19T00:00:00",
          "2023-02-26T00:00:00",
          "2023-03-05T00:00:00",
          "2023-03-12T00:00:00",
          "2023-03-19T00:00:00",
          "2023-03-26T00:00:00",
          "2023-04-02T00:00:00",
          "2023-04-09T00:00:00",
          "2023-04-16T00:00:00",
          "2023-04-23T00:00:00",
          "2023-04-30T00:00:00",
          "2023-05-07T00:00:00",
          "2023-05-14T00:00:00",
          "2023-05-21T00:00:00",
          "2023-05-28T00:00:00",
          "2023-06-04T00:00:00",
          "2023-06-11T00:00:00",
          "2023-06-18T00:00:00",
          "2023-06-25T00:00:00",
          "2023-07-02T00:00:00",
          "2023-07-09T00:00:00",
          "2023-07-16T00:00:00",
          "2023-07-23T00:00:00",
          "2023-07-30T00:00:00",
          "2023-08-06T00:00:00",
          "2023-08-13T00:00:00",
          "2023-08-20T00:00:00",
          "2023-08-27T00:00:00",
          "2023-09-03T00:00:00",
          "2023-09-10T00:00:00",
          "2023-09-17T00:00:00",
          "2023-09-24T00:00:00",
          "2023-10-01T00:00:00",
          "2023-10-08T00:00:00",
          "2023-10-15T00:00:00",
          "2023-10-22T00:00:00",
          "2023-10-29T00:00:00",
          "2023-11-05T00:00:00",
          "2023-11-12T00:00:00",
          "2023-11-19T00:00:00",
          "2023-11-26T00:00:00",
          "2023-12-03T00:00:00",
          "2023-12-10T00:00:00",
          "2023-12-17T00:00:00",
          "2023-12-24T00:00:00",
          "2023-12-31T00:00:00",
          "2024-01-07T00:00:00",
          "2024-01-14T00:00:00",
          "2024-01-21T00:00:00",
          "2024-01-28T00:00:00"
         ],
         "xaxis": "x",
         "y": [
          null,
          null,
          null,
          null,
          null,
          null,
          null,
          null,
          null,
          90340.9,
          102650.5,
          109225.9,
          109553.4,
          100723.6,
          91461.2,
          95415.8,
          94021.1,
          95698.3,
          84536.2,
          84894.3,
          82221.2,
          80874.1,
          78698.6,
          75343,
          77833.2,
          74424.9,
          79306.4,
          75380.1,
          70858.7,
          67985.4,
          70008.2,
          72544.3,
          80488.7,
          81270.5,
          80811.8,
          82511.2,
          74807.6,
          75549.2,
          76255.4,
          95439.8,
          97367.6,
          103551.6,
          110033.7,
          118473.5,
          124209.5,
          141426,
          151257.2,
          155550.5,
          165961.6,
          153889.3,
          146997.7,
          136117.3,
          124876.5,
          121259.6,
          120104.2,
          100727.5,
          89257.6,
          96760.6,
          96122.5,
          94623.9,
          99380.4,
          102595.4,
          107196,
          107221.8,
          106288.1,
          122428.4,
          130508.3,
          127793.2,
          136529.8,
          148466,
          147259.1,
          158721,
          157155.6,
          154070.2,
          158568.9,
          146628.8,
          154603.3,
          152559.2,
          140393.8,
          125421.4,
          122513.1,
          118850.1,
          121063.1,
          127922.3,
          123497.1,
          127529,
          125414,
          132953,
          134384,
          142674.1,
          161452.2,
          164076.3,
          161832.6,
          164802.9,
          175678.5,
          174578,
          186406.9,
          178849,
          184956.4,
          186509.9,
          176794.3,
          165063,
          163908.1,
          162353.4,
          159995.4,
          153807.8,
          137918.3,
          137040.5,
          128072,
          143573.2,
          140594.9,
          147114,
          147938.3,
          176178.7,
          166545.5,
          179696.3,
          181123.7,
          204259.2,
          208552,
          196121.3,
          202302.4,
          216194.7,
          216981.6,
          185737.6,
          189856.3,
          181740.3,
          185701.1,
          159810.4,
          163357.8,
          157711,
          168230.1,
          150328,
          154077.8,
          156742.9,
          159603.6,
          178737.7,
          173610.7,
          176528.2,
          175635.4,
          188412.7,
          172705.3,
          181187.6,
          187810.6,
          204242.7,
          204314.6,
          198033.1,
          210303.9,
          213381.1,
          234299.5,
          220093.8,
          231204.5,
          228243.3,
          230829.2,
          208904.9,
          205551.7,
          197907.5,
          191160.2,
          188856.6,
          161033.1,
          158449.6,
          144682.7
         ],
         "yaxis": "y"
        }
       ],
       "layout": {
        "coloraxis": {
         "colorbar": {
          "title": {
           "text": "<b>$USD</b>"
          }
         },
         "colorscale": [
          [
           0,
           "rgb(255,245,235)"
          ],
          [
           0.125,
           "rgb(254,230,206)"
          ],
          [
           0.25,
           "rgb(253,208,162)"
          ],
          [
           0.375,
           "rgb(253,174,107)"
          ],
          [
           0.5,
           "rgb(253,141,60)"
          ],
          [
           0.625,
           "rgb(241,105,19)"
          ],
          [
           0.75,
           "rgb(217,72,1)"
          ],
          [
           0.875,
           "rgb(166,54,3)"
          ],
          [
           1,
           "rgb(127,39,4)"
          ]
         ],
         "showscale": false
        },
        "height": 425,
        "hovermode": "x unified",
        "legend": {
         "itemsizing": "constant",
         "tracegroupgap": 0,
         "x": 0.01,
         "xanchor": "left",
         "y": 0.99,
         "yanchor": "top"
        },
        "template": {
         "data": {
          "pie": [
           {
            "automargin": true,
            "type": "pie"
           }
          ],
          "scatter": [
           {
            "line": {
             "width": 3
            },
            "marker": {
             "size": 9
            },
            "type": "scatter"
           }
          ],
          "scatter3d": [
           {
            "line": {
             "width": 3
            },
            "marker": {
             "size": 9
            },
            "type": "scatter3d"
           }
          ],
          "scattergeo": [
           {
            "line": {
             "width": 3
            },
            "marker": {
             "size": 9
            },
            "type": "scattergeo"
           }
          ],
          "scattergl": [
           {
            "line": {
             "width": 3
            },
            "marker": {
             "size": 9
            },
            "type": "scattergl"
           }
          ],
          "scatterpolar": [
           {
            "line": {
             "width": 3
            },
            "marker": {
             "size": 9
            },
            "type": "scatterpolar"
           }
          ],
          "scatterpolargl": [
           {
            "line": {
             "width": 3
            },
            "marker": {
             "size": 9
            },
            "type": "scatterpolargl"
           }
          ],
          "scatterternary": [
           {
            "line": {
             "width": 3
            },
            "marker": {
             "size": 9
            },
            "type": "scatterternary"
           }
          ],
          "table": [
           {
            "cells": {
             "height": 30
            },
            "header": {
             "height": 36
            },
            "type": "table"
           }
          ]
         },
         "layout": {
          "font": {
           "size": 18
          },
          "xaxis": {
           "title": {
            "standoff": 15
           }
          },
          "yaxis": {
           "title": {
            "standoff": 15
           }
          }
         }
        },
        "title": {
         "text": "<b>Weekly Sales</b>",
         "x": 0.4
        },
        "xaxis": {
         "anchor": "y",
         "domain": [
          0,
          1
         ],
         "title": {
          "text": ""
         }
        },
        "yaxis": {
         "anchor": "x",
         "domain": [
          0,
          1
         ],
         "gridcolor": "lightgray",
         "title": {
          "text": "<b>$USD</b>"
         }
        }
       }
      },
      "text/html": [
       "<div>                            <div id=\"6d2a8f00-6aeb-45ab-83c0-9f1539b4c668\" class=\"plotly-graph-div\" style=\"height:425px; width:100%;\"></div>            <script type=\"text/javascript\">                require([\"plotly\"], function(Plotly) {                    window.PLOTLYENV=window.PLOTLYENV || {};                                    if (document.getElementById(\"6d2a8f00-6aeb-45ab-83c0-9f1539b4c668\")) {                    Plotly.newPlot(                        \"6d2a8f00-6aeb-45ab-83c0-9f1539b4c668\",                        [{\"hovertemplate\":\"Sales: <b>%{y:$,.0f}\",\"legendgroup\":\"\",\"marker\":{\"color\":[78.0,34765.0,68372.0,170548.0,145101.0,52516.0,90304.0,78217.0,186072.0,77436.0,123174.0,100519.0,71647.0,82250.0,52477.0,92062.0,76357.0,94989.0,74451.0,81017.0,96443.0,87048.0,49892.0,48694.0,77379.0,57979.0,125172.0,55726.0,29237.0,52284.0,116671.0,112409.0,129336.0,56512.0,72792.0,74973.0,48136.0,63142.0,36299.0,244128.0,135949.0,174249.0,194157.0,140910.0,130152.0,247138.0,146448.0,106075.0,140410.0,123405.0,67033.0,65445.0,81749.0,104741.0,118598.0,53371.0,31749.0,181105.0,134029.0,108419.0,114598.0,97595.0,127755.0,104999.0,109261.0,214774.0,112548.0,153954.0,221395.0,227781.0,102529.0,212214.0,112101.0,74145.0,154248.0,95373.0,192293.0,133513.0,99741.0,78057.0,73446.0,175584.0,134231.0,142737.0,109996.0,135692.0,171143.0,208903.0,114051.0,160958.0,261227.0,201825.0,111794.0,172440.0,218752.0,124687.0,289432.0,133324.0,175125.0,176493.0,164071.0,84512.0,100245.0,156893.0,195172.0,62811.0,130537.0,124546.0,85440.0,331505.0,134288.0,149703.0,108488.0,439297.0,98840.0,194319.0,144811.0,355901.0,128368.0,207198.0,196099.0,288626.0,116357.0,126857.0,140027.0,113159.0,184419.0,96994.0,163842.0,150730.0,301290.0,109605.0,153855.0,153508.0,168634.0,304500.0,133149.0,126169.0,154914.0,278503.0,144216.0,194428.0,220085.0,317829.0,169353.0,241685.0,255857.0,156941.0,364098.0,136446.0,255323.0,164816.0,245944.0,98586.0,135821.0,165243.0,188384.0,133905.0,85863.0,110611.0,117654.0],\"coloraxis\":\"coloraxis\",\"size\":[78.0,34765.0,68372.0,170548.0,145101.0,52516.0,90304.0,78217.0,186072.0,77436.0,123174.0,100519.0,71647.0,82250.0,52477.0,92062.0,76357.0,94989.0,74451.0,81017.0,96443.0,87048.0,49892.0,48694.0,77379.0,57979.0,125172.0,55726.0,29237.0,52284.0,116671.0,112409.0,129336.0,56512.0,72792.0,74973.0,48136.0,63142.0,36299.0,244128.0,135949.0,174249.0,194157.0,140910.0,130152.0,247138.0,146448.0,106075.0,140410.0,123405.0,67033.0,65445.0,81749.0,104741.0,118598.0,53371.0,31749.0,181105.0,134029.0,108419.0,114598.0,97595.0,127755.0,104999.0,109261.0,214774.0,112548.0,153954.0,221395.0,227781.0,102529.0,212214.0,112101.0,74145.0,154248.0,95373.0,192293.0,133513.0,99741.0,78057.0,73446.0,175584.0,134231.0,142737.0,109996.0,135692.0,171143.0,208903.0,114051.0,160958.0,261227.0,201825.0,111794.0,172440.0,218752.0,124687.0,289432.0,133324.0,175125.0,176493.0,164071.0,84512.0,100245.0,156893.0,195172.0,62811.0,130537.0,124546.0,85440.0,331505.0,134288.0,149703.0,108488.0,439297.0,98840.0,194319.0,144811.0,355901.0,128368.0,207198.0,196099.0,288626.0,116357.0,126857.0,140027.0,113159.0,184419.0,96994.0,163842.0,150730.0,301290.0,109605.0,153855.0,153508.0,168634.0,304500.0,133149.0,126169.0,154914.0,278503.0,144216.0,194428.0,220085.0,317829.0,169353.0,241685.0,255857.0,156941.0,364098.0,136446.0,255323.0,164816.0,245944.0,98586.0,135821.0,165243.0,188384.0,133905.0,85863.0,110611.0,117654.0],\"sizemode\":\"area\",\"sizeref\":1952.431111111111,\"symbol\":\"circle\"},\"mode\":\"markers\",\"name\":\"\",\"orientation\":\"v\",\"showlegend\":false,\"x\":[\"2021-01-03T00:00:00\",\"2021-01-10T00:00:00\",\"2021-01-17T00:00:00\",\"2021-01-24T00:00:00\",\"2021-01-31T00:00:00\",\"2021-02-07T00:00:00\",\"2021-02-14T00:00:00\",\"2021-02-21T00:00:00\",\"2021-02-28T00:00:00\",\"2021-03-07T00:00:00\",\"2021-03-14T00:00:00\",\"2021-03-21T00:00:00\",\"2021-03-28T00:00:00\",\"2021-04-04T00:00:00\",\"2021-04-11T00:00:00\",\"2021-04-18T00:00:00\",\"2021-04-25T00:00:00\",\"2021-05-02T00:00:00\",\"2021-05-09T00:00:00\",\"2021-05-16T00:00:00\",\"2021-05-23T00:00:00\",\"2021-05-30T00:00:00\",\"2021-06-06T00:00:00\",\"2021-06-13T00:00:00\",\"2021-06-20T00:00:00\",\"2021-06-27T00:00:00\",\"2021-07-04T00:00:00\",\"2021-07-11T00:00:00\",\"2021-07-18T00:00:00\",\"2021-07-25T00:00:00\",\"2021-08-01T00:00:00\",\"2021-08-08T00:00:00\",\"2021-08-15T00:00:00\",\"2021-08-22T00:00:00\",\"2021-08-29T00:00:00\",\"2021-09-05T00:00:00\",\"2021-09-12T00:00:00\",\"2021-09-19T00:00:00\",\"2021-09-26T00:00:00\",\"2021-10-03T00:00:00\",\"2021-10-10T00:00:00\",\"2021-10-17T00:00:00\",\"2021-10-24T00:00:00\",\"2021-10-31T00:00:00\",\"2021-11-07T00:00:00\",\"2021-11-14T00:00:00\",\"2021-11-21T00:00:00\",\"2021-11-28T00:00:00\",\"2021-12-05T00:00:00\",\"2021-12-12T00:00:00\",\"2021-12-19T00:00:00\",\"2021-12-26T00:00:00\",\"2022-01-02T00:00:00\",\"2022-01-09T00:00:00\",\"2022-01-16T00:00:00\",\"2022-01-23T00:00:00\",\"2022-01-30T00:00:00\",\"2022-02-06T00:00:00\",\"2022-02-13T00:00:00\",\"2022-02-20T00:00:00\",\"2022-02-27T00:00:00\",\"2022-03-06T00:00:00\",\"2022-03-13T00:00:00\",\"2022-03-20T00:00:00\",\"2022-03-27T00:00:00\",\"2022-04-03T00:00:00\",\"2022-04-10T00:00:00\",\"2022-04-17T00:00:00\",\"2022-04-24T00:00:00\",\"2022-05-01T00:00:00\",\"2022-05-08T00:00:00\",\"2022-05-15T00:00:00\",\"2022-05-22T00:00:00\",\"2022-05-29T00:00:00\",\"2022-06-05T00:00:00\",\"2022-06-12T00:00:00\",\"2022-06-19T00:00:00\",\"2022-06-26T00:00:00\",\"2022-07-03T00:00:00\",\"2022-07-10T00:00:00\",\"2022-07-17T00:00:00\",\"2022-07-24T00:00:00\",\"2022-07-31T00:00:00\",\"2022-08-07T00:00:00\",\"2022-08-14T00:00:00\",\"2022-08-21T00:00:00\",\"2022-08-28T00:00:00\",\"2022-09-04T00:00:00\",\"2022-09-11T00:00:00\",\"2022-09-18T00:00:00\",\"2022-09-25T00:00:00\",\"2022-10-02T00:00:00\",\"2022-10-09T00:00:00\",\"2022-10-16T00:00:00\",\"2022-10-23T00:00:00\",\"2022-10-30T00:00:00\",\"2022-11-06T00:00:00\",\"2022-11-13T00:00:00\",\"2022-11-20T00:00:00\",\"2022-11-27T00:00:00\",\"2022-12-04T00:00:00\",\"2022-12-11T00:00:00\",\"2022-12-18T00:00:00\",\"2022-12-25T00:00:00\",\"2023-01-01T00:00:00\",\"2023-01-08T00:00:00\",\"2023-01-15T00:00:00\",\"2023-01-22T00:00:00\",\"2023-01-29T00:00:00\",\"2023-02-05T00:00:00\",\"2023-02-12T00:00:00\",\"2023-02-19T00:00:00\",\"2023-02-26T00:00:00\",\"2023-03-05T00:00:00\",\"2023-03-12T00:00:00\",\"2023-03-19T00:00:00\",\"2023-03-26T00:00:00\",\"2023-04-02T00:00:00\",\"2023-04-09T00:00:00\",\"2023-04-16T00:00:00\",\"2023-04-23T00:00:00\",\"2023-04-30T00:00:00\",\"2023-05-07T00:00:00\",\"2023-05-14T00:00:00\",\"2023-05-21T00:00:00\",\"2023-05-28T00:00:00\",\"2023-06-04T00:00:00\",\"2023-06-11T00:00:00\",\"2023-06-18T00:00:00\",\"2023-06-25T00:00:00\",\"2023-07-02T00:00:00\",\"2023-07-09T00:00:00\",\"2023-07-16T00:00:00\",\"2023-07-23T00:00:00\",\"2023-07-30T00:00:00\",\"2023-08-06T00:00:00\",\"2023-08-13T00:00:00\",\"2023-08-20T00:00:00\",\"2023-08-27T00:00:00\",\"2023-09-03T00:00:00\",\"2023-09-10T00:00:00\",\"2023-09-17T00:00:00\",\"2023-09-24T00:00:00\",\"2023-10-01T00:00:00\",\"2023-10-08T00:00:00\",\"2023-10-15T00:00:00\",\"2023-10-22T00:00:00\",\"2023-10-29T00:00:00\",\"2023-11-05T00:00:00\",\"2023-11-12T00:00:00\",\"2023-11-19T00:00:00\",\"2023-11-26T00:00:00\",\"2023-12-03T00:00:00\",\"2023-12-10T00:00:00\",\"2023-12-17T00:00:00\",\"2023-12-24T00:00:00\",\"2023-12-31T00:00:00\",\"2024-01-07T00:00:00\",\"2024-01-14T00:00:00\",\"2024-01-21T00:00:00\",\"2024-01-28T00:00:00\"],\"xaxis\":\"x\",\"y\":[78.0,34765.0,68372.0,170548.0,145101.0,52516.0,90304.0,78217.0,186072.0,77436.0,123174.0,100519.0,71647.0,82250.0,52477.0,92062.0,76357.0,94989.0,74451.0,81017.0,96443.0,87048.0,49892.0,48694.0,77379.0,57979.0,125172.0,55726.0,29237.0,52284.0,116671.0,112409.0,129336.0,56512.0,72792.0,74973.0,48136.0,63142.0,36299.0,244128.0,135949.0,174249.0,194157.0,140910.0,130152.0,247138.0,146448.0,106075.0,140410.0,123405.0,67033.0,65445.0,81749.0,104741.0,118598.0,53371.0,31749.0,181105.0,134029.0,108419.0,114598.0,97595.0,127755.0,104999.0,109261.0,214774.0,112548.0,153954.0,221395.0,227781.0,102529.0,212214.0,112101.0,74145.0,154248.0,95373.0,192293.0,133513.0,99741.0,78057.0,73446.0,175584.0,134231.0,142737.0,109996.0,135692.0,171143.0,208903.0,114051.0,160958.0,261227.0,201825.0,111794.0,172440.0,218752.0,124687.0,289432.0,133324.0,175125.0,176493.0,164071.0,84512.0,100245.0,156893.0,195172.0,62811.0,130537.0,124546.0,85440.0,331505.0,134288.0,149703.0,108488.0,439297.0,98840.0,194319.0,144811.0,355901.0,128368.0,207198.0,196099.0,288626.0,116357.0,126857.0,140027.0,113159.0,184419.0,96994.0,163842.0,150730.0,301290.0,109605.0,153855.0,153508.0,168634.0,304500.0,133149.0,126169.0,154914.0,278503.0,144216.0,194428.0,220085.0,317829.0,169353.0,241685.0,255857.0,156941.0,364098.0,136446.0,255323.0,164816.0,245944.0,98586.0,135821.0,165243.0,188384.0,133905.0,85863.0,110611.0,117654.0],\"yaxis\":\"y\",\"type\":\"scatter\"},{\"hovertemplate\":\"Sales: <b>%{y:$,.0f}\",\"legendgroup\":\"Overall Trendline\",\"line\":{\"color\":\"black\"},\"mode\":\"lines\",\"name\":\"Overall Trendline\",\"showlegend\":true,\"x\":[\"2021-01-03T00:00:00\",\"2021-01-10T00:00:00\",\"2021-01-17T00:00:00\",\"2021-01-24T00:00:00\",\"2021-01-31T00:00:00\",\"2021-02-07T00:00:00\",\"2021-02-14T00:00:00\",\"2021-02-21T00:00:00\",\"2021-02-28T00:00:00\",\"2021-03-07T00:00:00\",\"2021-03-14T00:00:00\",\"2021-03-21T00:00:00\",\"2021-03-28T00:00:00\",\"2021-04-04T00:00:00\",\"2021-04-11T00:00:00\",\"2021-04-18T00:00:00\",\"2021-04-25T00:00:00\",\"2021-05-02T00:00:00\",\"2021-05-09T00:00:00\",\"2021-05-16T00:00:00\",\"2021-05-23T00:00:00\",\"2021-05-30T00:00:00\",\"2021-06-06T00:00:00\",\"2021-06-13T00:00:00\",\"2021-06-20T00:00:00\",\"2021-06-27T00:00:00\",\"2021-07-04T00:00:00\",\"2021-07-11T00:00:00\",\"2021-07-18T00:00:00\",\"2021-07-25T00:00:00\",\"2021-08-01T00:00:00\",\"2021-08-08T00:00:00\",\"2021-08-15T00:00:00\",\"2021-08-22T00:00:00\",\"2021-08-29T00:00:00\",\"2021-09-05T00:00:00\",\"2021-09-12T00:00:00\",\"2021-09-19T00:00:00\",\"2021-09-26T00:00:00\",\"2021-10-03T00:00:00\",\"2021-10-10T00:00:00\",\"2021-10-17T00:00:00\",\"2021-10-24T00:00:00\",\"2021-10-31T00:00:00\",\"2021-11-07T00:00:00\",\"2021-11-14T00:00:00\",\"2021-11-21T00:00:00\",\"2021-11-28T00:00:00\",\"2021-12-05T00:00:00\",\"2021-12-12T00:00:00\",\"2021-12-19T00:00:00\",\"2021-12-26T00:00:00\",\"2022-01-02T00:00:00\",\"2022-01-09T00:00:00\",\"2022-01-16T00:00:00\",\"2022-01-23T00:00:00\",\"2022-01-30T00:00:00\",\"2022-02-06T00:00:00\",\"2022-02-13T00:00:00\",\"2022-02-20T00:00:00\",\"2022-02-27T00:00:00\",\"2022-03-06T00:00:00\",\"2022-03-13T00:00:00\",\"2022-03-20T00:00:00\",\"2022-03-27T00:00:00\",\"2022-04-03T00:00:00\",\"2022-04-10T00:00:00\",\"2022-04-17T00:00:00\",\"2022-04-24T00:00:00\",\"2022-05-01T00:00:00\",\"2022-05-08T00:00:00\",\"2022-05-15T00:00:00\",\"2022-05-22T00:00:00\",\"2022-05-29T00:00:00\",\"2022-06-05T00:00:00\",\"2022-06-12T00:00:00\",\"2022-06-19T00:00:00\",\"2022-06-26T00:00:00\",\"2022-07-03T00:00:00\",\"2022-07-10T00:00:00\",\"2022-07-17T00:00:00\",\"2022-07-24T00:00:00\",\"2022-07-31T00:00:00\",\"2022-08-07T00:00:00\",\"2022-08-14T00:00:00\",\"2022-08-21T00:00:00\",\"2022-08-28T00:00:00\",\"2022-09-04T00:00:00\",\"2022-09-11T00:00:00\",\"2022-09-18T00:00:00\",\"2022-09-25T00:00:00\",\"2022-10-02T00:00:00\",\"2022-10-09T00:00:00\",\"2022-10-16T00:00:00\",\"2022-10-23T00:00:00\",\"2022-10-30T00:00:00\",\"2022-11-06T00:00:00\",\"2022-11-13T00:00:00\",\"2022-11-20T00:00:00\",\"2022-11-27T00:00:00\",\"2022-12-04T00:00:00\",\"2022-12-11T00:00:00\",\"2022-12-18T00:00:00\",\"2022-12-25T00:00:00\",\"2023-01-01T00:00:00\",\"2023-01-08T00:00:00\",\"2023-01-15T00:00:00\",\"2023-01-22T00:00:00\",\"2023-01-29T00:00:00\",\"2023-02-05T00:00:00\",\"2023-02-12T00:00:00\",\"2023-02-19T00:00:00\",\"2023-02-26T00:00:00\",\"2023-03-05T00:00:00\",\"2023-03-12T00:00:00\",\"2023-03-19T00:00:00\",\"2023-03-26T00:00:00\",\"2023-04-02T00:00:00\",\"2023-04-09T00:00:00\",\"2023-04-16T00:00:00\",\"2023-04-23T00:00:00\",\"2023-04-30T00:00:00\",\"2023-05-07T00:00:00\",\"2023-05-14T00:00:00\",\"2023-05-21T00:00:00\",\"2023-05-28T00:00:00\",\"2023-06-04T00:00:00\",\"2023-06-11T00:00:00\",\"2023-06-18T00:00:00\",\"2023-06-25T00:00:00\",\"2023-07-02T00:00:00\",\"2023-07-09T00:00:00\",\"2023-07-16T00:00:00\",\"2023-07-23T00:00:00\",\"2023-07-30T00:00:00\",\"2023-08-06T00:00:00\",\"2023-08-13T00:00:00\",\"2023-08-20T00:00:00\",\"2023-08-27T00:00:00\",\"2023-09-03T00:00:00\",\"2023-09-10T00:00:00\",\"2023-09-17T00:00:00\",\"2023-09-24T00:00:00\",\"2023-10-01T00:00:00\",\"2023-10-08T00:00:00\",\"2023-10-15T00:00:00\",\"2023-10-22T00:00:00\",\"2023-10-29T00:00:00\",\"2023-11-05T00:00:00\",\"2023-11-12T00:00:00\",\"2023-11-19T00:00:00\",\"2023-11-26T00:00:00\",\"2023-12-03T00:00:00\",\"2023-12-10T00:00:00\",\"2023-12-17T00:00:00\",\"2023-12-24T00:00:00\",\"2023-12-31T00:00:00\",\"2024-01-07T00:00:00\",\"2024-01-14T00:00:00\",\"2024-01-21T00:00:00\",\"2024-01-28T00:00:00\"],\"y\":[null,null,null,null,null,null,null,null,null,90340.9,102650.5,109225.9,109553.4,100723.6,91461.2,95415.8,94021.1,95698.3,84536.2,84894.3,82221.2,80874.1,78698.6,75343.0,77833.2,74424.9,79306.4,75380.1,70858.7,67985.4,70008.2,72544.3,80488.7,81270.5,80811.8,82511.2,74807.6,75549.2,76255.4,95439.8,97367.6,103551.6,110033.7,118473.5,124209.5,141426.0,151257.2,155550.5,165961.6,153889.3,146997.7,136117.3,124876.5,121259.6,120104.2,100727.5,89257.6,96760.6,96122.5,94623.9,99380.4,102595.4,107196.0,107221.8,106288.1,122428.4,130508.3,127793.2,136529.8,148466.0,147259.1,158721.0,157155.6,154070.2,158568.9,146628.8,154603.3,152559.2,140393.8,125421.4,122513.1,118850.1,121063.1,127922.3,123497.1,127529.0,125414.0,132953.0,134384.0,142674.1,161452.2,164076.3,161832.6,164802.9,175678.5,174578.0,186406.9,178849.0,184956.4,186509.9,176794.3,165063.0,163908.1,162353.4,159995.4,153807.8,137918.3,137040.5,128072.0,143573.2,140594.9,147114.0,147938.3,176178.7,166545.5,179696.3,181123.7,204259.2,208552.0,196121.3,202302.4,216194.7,216981.6,185737.6,189856.3,181740.3,185701.1,159810.4,163357.8,157711.0,168230.1,150328.0,154077.8,156742.9,159603.6,178737.7,173610.7,176528.2,175635.4,188412.7,172705.3,181187.6,187810.6,204242.7,204314.6,198033.1,210303.9,213381.1,234299.5,220093.8,231204.5,228243.3,230829.2,208904.9,205551.7,197907.5,191160.2,188856.6,161033.1,158449.6,144682.7],\"type\":\"scatter\",\"xaxis\":\"x\",\"yaxis\":\"y\"}],                        {\"template\":{\"data\":{\"pie\":[{\"automargin\":true,\"type\":\"pie\"}],\"scatter3d\":[{\"line\":{\"width\":3},\"marker\":{\"size\":9},\"type\":\"scatter3d\"}],\"scattergeo\":[{\"line\":{\"width\":3},\"marker\":{\"size\":9},\"type\":\"scattergeo\"}],\"scattergl\":[{\"line\":{\"width\":3},\"marker\":{\"size\":9},\"type\":\"scattergl\"}],\"scatterpolargl\":[{\"line\":{\"width\":3},\"marker\":{\"size\":9},\"type\":\"scatterpolargl\"}],\"scatterpolar\":[{\"line\":{\"width\":3},\"marker\":{\"size\":9},\"type\":\"scatterpolar\"}],\"scatter\":[{\"line\":{\"width\":3},\"marker\":{\"size\":9},\"type\":\"scatter\"}],\"scatterternary\":[{\"line\":{\"width\":3},\"marker\":{\"size\":9},\"type\":\"scatterternary\"}],\"table\":[{\"cells\":{\"height\":30},\"header\":{\"height\":36},\"type\":\"table\"}]},\"layout\":{\"font\":{\"size\":18},\"xaxis\":{\"title\":{\"standoff\":15}},\"yaxis\":{\"title\":{\"standoff\":15}}}},\"xaxis\":{\"anchor\":\"y\",\"domain\":[0.0,1.0],\"title\":{\"text\":\"\"}},\"yaxis\":{\"anchor\":\"x\",\"domain\":[0.0,1.0],\"title\":{\"text\":\"<b>$USD</b>\"},\"gridcolor\":\"lightgray\"},\"coloraxis\":{\"colorbar\":{\"title\":{\"text\":\"<b>$USD</b>\"}},\"colorscale\":[[0.0,\"rgb(255,245,235)\"],[0.125,\"rgb(254,230,206)\"],[0.25,\"rgb(253,208,162)\"],[0.375,\"rgb(253,174,107)\"],[0.5,\"rgb(253,141,60)\"],[0.625,\"rgb(241,105,19)\"],[0.75,\"rgb(217,72,1)\"],[0.875,\"rgb(166,54,3)\"],[1.0,\"rgb(127,39,4)\"]],\"showscale\":false},\"legend\":{\"tracegroupgap\":0,\"itemsizing\":\"constant\",\"yanchor\":\"top\",\"y\":0.99,\"xanchor\":\"left\",\"x\":0.01},\"title\":{\"text\":\"<b>Weekly Sales</b>\",\"x\":0.4},\"height\":425,\"hovermode\":\"x unified\"},                        {\"responsive\": true}                    ).then(function(){\n",
       "                            \n",
       "var gd = document.getElementById('6d2a8f00-6aeb-45ab-83c0-9f1539b4c668');\n",
       "var x = new MutationObserver(function (mutations, observer) {{\n",
       "        var display = window.getComputedStyle(gd).display;\n",
       "        if (!display || display === 'none') {{\n",
       "            console.log([gd, 'removed!']);\n",
       "            Plotly.purge(gd);\n",
       "            observer.disconnect();\n",
       "        }}\n",
       "}});\n",
       "\n",
       "// Listen for the removal of the full notebook cells\n",
       "var notebookContainer = gd.closest('#notebook-container');\n",
       "if (notebookContainer) {{\n",
       "    x.observe(notebookContainer, {childList: true});\n",
       "}}\n",
       "\n",
       "// Listen for the clearing of the current output cell\n",
       "var outputEl = gd.closest('.output');\n",
       "if (outputEl) {{\n",
       "    x.observe(outputEl, {childList: true});\n",
       "}}\n",
       "\n",
       "                        })                };                });            </script>        </div>"
      ]
     },
     "metadata": {},
     "output_type": "display_data"
    }
   ],
   "source": [
    "#all sales weekly scatter\n",
    "fig_scatter_all = px.scatter(\n",
    "    round(sales_per_week),\n",
    "    x=sales_per_week.index,\n",
    "    y='usd',\n",
    "    title='<b>Weekly Sales</b>',\n",
    "    template = 'presentation',\n",
    "    labels={'date':'',\n",
    "            'usd':'<b>$USD</b>'},\n",
    "    height=425,\n",
    "    size='usd',\n",
    "    size_max=15,\n",
    "    color='usd',\n",
    "    color_continuous_scale=px.colors.sequential.Oranges,\n",
    "    trendline=\"rolling\", trendline_options=dict(function=\"mean\", window=10), trendline_scope=\"overall\", trendline_color_override=\"black\"\n",
    ")\n",
    "\n",
    "fig_scatter_all.update_coloraxes(showscale=False)\n",
    "fig_scatter_all.update_yaxes(gridcolor='lightgray')\n",
    "\n",
    "fig_scatter_all.update_layout(\n",
    "    title_x=0.4,\n",
    "    hovermode='x unified',\n",
    "    legend=dict(\n",
    "        yanchor=\"top\",\n",
    "        y=0.99,\n",
    "        xanchor=\"left\",\n",
    "        x=0.01,\n",
    "        # title = '10 Week Moving Average'\n",
    "    )\n",
    ")\n",
    "\n",
    "fig_scatter_all.update_traces(\n",
    "    hovertemplate=\n",
    "    \"Sales: <b>%{y:$,.0f}\")\n",
    "\n",
    "fig_scatter_all.show()"
   ]
  },
  {
   "cell_type": "code",
   "execution_count": null,
   "id": "9ddad2dd",
   "metadata": {},
   "outputs": [],
   "source": []
  }
 ],
 "metadata": {
  "kernelspec": {
   "display_name": "Python 3 (ipykernel)",
   "language": "python",
   "name": "python3"
  },
  "language_info": {
   "codemirror_mode": {
    "name": "ipython",
    "version": 3
   },
   "file_extension": ".py",
   "mimetype": "text/x-python",
   "name": "python",
   "nbconvert_exporter": "python",
   "pygments_lexer": "ipython3",
   "version": "3.11.5"
  }
 },
 "nbformat": 4,
 "nbformat_minor": 5
}
