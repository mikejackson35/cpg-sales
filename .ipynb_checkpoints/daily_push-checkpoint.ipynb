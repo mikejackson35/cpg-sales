{
 "cells": [
  {
   "cell_type": "code",
   "execution_count": 1,
   "metadata": {},
   "outputs": [],
   "source": [
    "import numpy as np\n",
    "import pandas as pd\n",
    "import datetime\n",
    "from sqlalchemy import create_engine\n",
    "import plotly.express as px\n",
    "from database_utils import add_new_unl, add_new_dot, clean_unleashed, clean_dot, get_level_2\n",
    "import streamlit as st"
   ]
  },
  {
   "cell_type": "code",
   "execution_count": 2,
   "metadata": {},
   "outputs": [],
   "source": [
    "# database connection\n",
    "\n",
    "db_password = \"UnitCircle42!\"\n",
    "db_user = \"postgres\"\n",
    "db_name = \"dot\"\n",
    "endpoint = \"awakedb.cre3f7yk1unp.us-west-1.rds.amazonaws.com\"\n",
    "\n",
    "connection_string = f\"postgresql://{db_user}:{db_password}@{endpoint}:5432/{db_name}\"\n",
    "engine = create_engine(connection_string)"
   ]
  },
  {
   "cell_type": "code",
   "execution_count": null,
   "metadata": {},
   "outputs": [],
   "source": [
    "# UPLOAD AND CLEAN DIRECT\n",
    "\n",
    "unl_download = r\"C:\\Users\\mikej\\Downloads\\SalesEnquiryList - 2024-03-30T063201.166.xlsx\" ### file download from unleashed\n",
    "add_new_unl(unl_download)  ## adds new direct purchases to raw database\n",
    "clean_unleashed()          ## clean raw direct purchases and add to clean directdb"
   ]
  },
  {
   "cell_type": "code",
   "execution_count": 8,
   "metadata": {
    "scrolled": false
   },
   "outputs": [],
   "source": [
    "# UPLOAD AND CLEAN DOT\n",
    "engine = create_engine(connection_string)\n",
    "dot_download = r\"C:\\Users\\mikej\\Downloads\\SHOP Supplier Reporting - Invoice Details Excel - 2024-04-16T175756.609.xlsx\"  ### file download from dot\n",
    "# add_new_dot(dot_download)  ## adds new indirect purchases to raw database\n",
    "# clean_dot()                ## clean raw indirect purchases and add to clean indirect db"
   ]
  },
  {
   "cell_type": "code",
   "execution_count": null,
   "metadata": {},
   "outputs": [],
   "source": [
    "# COMBINE clean_direct & clean_indirect POSTGRES TABLES TO GET NEW TABLE level_2 (or tRUE Sales)\n",
    "\n",
    "get_level_2()              ## combine clean direct/indirect and populate level_2 db  --  dot invisible"
   ]
  },
  {
   "cell_type": "code",
   "execution_count": null,
   "metadata": {},
   "outputs": [],
   "source": []
  },
  {
   "cell_type": "code",
   "execution_count": null,
   "metadata": {},
   "outputs": [],
   "source": []
  },
  {
   "cell_type": "code",
   "execution_count": null,
   "metadata": {},
   "outputs": [],
   "source": [
    "## copy postgres tables into CSV's for local use below"
   ]
  },
  {
   "cell_type": "code",
   "execution_count": null,
   "metadata": {},
   "outputs": [],
   "source": [
    "# create level_1.csv \n",
    "level_1 = pd.read_sql(\"SELECT * FROM unleashed_clean WHERE completed_date > '2022-12-31';\", con = engine)\n",
    "\n",
    "level_1.completed_date = pd.to_datetime(level_1.completed_date)\n",
    "level_1['usd'] = level_1['sub_total']*.75"
   ]
  },
  {
   "cell_type": "code",
   "execution_count": null,
   "metadata": {},
   "outputs": [],
   "source": [
    "### create level_2.csv\n",
    "level_2 = pd.read_sql(\"SELECT * FROM level_2 WHERE date > '2021-12-31';\", con = engine)\n",
    "\n",
    "level_2 = level_2[level_2.market_segment != 'Samples']\n",
    "level_2.date = pd.to_datetime(level_2.date)"
   ]
  },
  {
   "cell_type": "code",
   "execution_count": null,
   "metadata": {},
   "outputs": [],
   "source": [
    "print(\"Latest Dates\")\n",
    "print(f\"Direct: {level_1.completed_date.max()}\")\n",
    "print(f\"tRUE:   {level_2.date.max()}\")"
   ]
  },
  {
   "cell_type": "code",
   "execution_count": null,
   "metadata": {},
   "outputs": [],
   "source": [
    "# send csv's to data folder\n",
    "\n",
    "level_1.to_csv(r\"C:/Users/mikej/Desktop/cpg-sales/data/level_1.csv\", index=False)\n",
    "level_2.to_csv(r\"C:/Users/mikej/Desktop/cpg-sales/data/level_2.csv\", index=False)"
   ]
  },
  {
   "cell_type": "code",
   "execution_count": null,
   "metadata": {},
   "outputs": [],
   "source": [
    "# level_1_tableau\n",
    "\n",
    "l1_tableau = level_1.drop(columns=['month','year'])\n",
    "l1_tableau.columns = ['Customer Name', 'Invoice Date','Item Full Description', 'Quantity','Sub Total', 'Dollars', 'Table','Market Segment', 'Parent Customer']\n",
    "\n",
    "l1_tableau['Table'] = 'Unleashed'"
   ]
  },
  {
   "cell_type": "code",
   "execution_count": null,
   "metadata": {},
   "outputs": [],
   "source": [
    "# level_2_tableau\n",
    "\n",
    "# fix columns to mimic tableau download data output\n",
    "l2_tableau = level_2.drop(columns=['qty','cad','month','year'])\n",
    "l2_tableau.columns = ['Invoice Date', 'Sale Origin', 'Market Segment', 'Parent Customer', 'Customer', 'Item Full Description', 'Dollars', ]\n",
    "\n",
    "# add vistar retail y/n and Sales Goal columns\n",
    "l2_tableau['Vistar Retail'] = np.where(l2_tableau['Parent Customer'] == 'Vistar Retail', str('Yes'), str('No'))\n",
    "l2_tableau['Sales Goal'] = l2_tableau.Dollars*1.5"
   ]
  },
  {
   "cell_type": "code",
   "execution_count": null,
   "metadata": {},
   "outputs": [],
   "source": [
    "# send tableau-ready tables to data folder\n",
    "\n",
    "l2_tableau.to_csv(r\"C:\\Users\\mikej\\Desktop\\cpg-sales\\data\\level_2_tableau.csv\", index=False)\n",
    "l1_tableau.to_csv(r\"C:\\Users\\mikej\\Desktop\\cpg-sales\\data\\level_1_tableau.csv\", index=False)"
   ]
  },
  {
   "cell_type": "code",
   "execution_count": null,
   "metadata": {},
   "outputs": [],
   "source": []
  },
  {
   "cell_type": "code",
   "execution_count": null,
   "metadata": {},
   "outputs": [],
   "source": [
    "### check Direct Sales (level_1) daily\n",
    "\n",
    "l1_bar_df = level_1.groupby('completed_date')['usd'].sum().reset_index().set_index('completed_date')\n",
    "l1_bar_df =round(l1_bar_df[l1_bar_df.index>'2024-02-29']).sort_index()\n",
    "\n",
    "level_1_bar = px.bar(l1_bar_df,\n",
    "                     y='usd',\n",
    "                     labels={'usd':'',\n",
    "                             'completed_date':''},\n",
    "                     height=325,\n",
    "                     text_auto=\",.2s\").update_traces(textposition='outside')\n",
    "\n",
    "level_1_bar.show()"
   ]
  },
  {
   "cell_type": "code",
   "execution_count": null,
   "metadata": {},
   "outputs": [],
   "source": [
    "### check tRUE Sales (level_2) daily\n",
    "\n",
    "px.bar(level_2[level_2.date>'2024-02-29'].set_index('date').groupby(pd.Grouper(freq='d'))['usd'].sum(),\n",
    "        y='usd',\n",
    "        labels={'usd':'$USD','date':''},\n",
    "        text_auto=\",.2s\",\n",
    "        title='Daily tRUE Sales in USD',\n",
    "        height=400).update_traces(textposition='outside')"
   ]
  },
  {
   "cell_type": "code",
   "execution_count": null,
   "metadata": {},
   "outputs": [],
   "source": [
    "### check tRUE Sales (level_2) all years\n",
    "\n",
    "px.bar(level_2.set_index('date').groupby(pd.Grouper(freq='M'))['usd'].sum(),\n",
    "        y='usd',\n",
    "        labels={'usd':'$USD','date':''},\n",
    "        text_auto=\",.2s\",\n",
    "        title='Monthly tRUE Sales in USD',\n",
    "        height=400).update_traces(textposition='outside')"
   ]
  },
  {
   "cell_type": "code",
   "execution_count": null,
   "metadata": {},
   "outputs": [],
   "source": []
  }
 ],
 "metadata": {
  "kernelspec": {
   "display_name": "Python 3 (ipykernel)",
   "language": "python",
   "name": "python3"
  },
  "language_info": {
   "codemirror_mode": {
    "name": "ipython",
    "version": 3
   },
   "file_extension": ".py",
   "mimetype": "text/x-python",
   "name": "python",
   "nbconvert_exporter": "python",
   "pygments_lexer": "ipython3",
   "version": "3.11.5"
  }
 },
 "nbformat": 4,
 "nbformat_minor": 2
}
