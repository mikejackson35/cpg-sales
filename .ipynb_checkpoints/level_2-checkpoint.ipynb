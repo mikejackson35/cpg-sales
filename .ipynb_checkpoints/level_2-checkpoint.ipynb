{
 "cells": [
  {
   "cell_type": "code",
   "execution_count": 1,
   "metadata": {},
   "outputs": [],
   "source": [
    "# dependencies\n",
    "\n",
    "import warnings\n",
    "warnings.filterwarnings('ignore')\n",
    "\n",
    "import numpy as np\n",
    "import pandas as pd\n",
    "import datetime\n",
    "import plotly.express as px\n",
    "\n",
    "from sqlalchemy import create_engine\n",
    "\n",
    "pd.set_option('display.max_columns', None)"
   ]
  },
  {
   "cell_type": "code",
   "execution_count": 2,
   "metadata": {},
   "outputs": [],
   "source": [
    "# database connection\n",
    "\n",
    "db_password = \"UnitCircle42!\"\n",
    "db_user = \"postgres\"\n",
    "db_name = \"dot\"\n",
    "endpoint = \"awakedb.cre3f7yk1unp.us-west-1.rds.amazonaws.com\"\n",
    "\n",
    "connection_string = f\"postgresql://{db_user}:{db_password}@{endpoint}:5432/{db_name}\"\n",
    "engine = create_engine(connection_string)"
   ]
  },
  {
   "cell_type": "code",
   "execution_count": 128,
   "metadata": {},
   "outputs": [
    {
     "data": {
      "text/html": [
       "<div>\n",
       "<style scoped>\n",
       "    .dataframe tbody tr th:only-of-type {\n",
       "        vertical-align: middle;\n",
       "    }\n",
       "\n",
       "    .dataframe tbody tr th {\n",
       "        vertical-align: top;\n",
       "    }\n",
       "\n",
       "    .dataframe thead th {\n",
       "        text-align: right;\n",
       "    }\n",
       "</style>\n",
       "<table border=\"1\" class=\"dataframe\">\n",
       "  <thead>\n",
       "    <tr style=\"text-align: right;\">\n",
       "      <th></th>\n",
       "      <th>date</th>\n",
       "      <th>sale_origin</th>\n",
       "      <th>market_segment</th>\n",
       "      <th>parent_customer</th>\n",
       "      <th>customer</th>\n",
       "      <th>item</th>\n",
       "      <th>qty</th>\n",
       "      <th>usd</th>\n",
       "      <th>cad</th>\n",
       "      <th>month</th>\n",
       "      <th>year</th>\n",
       "    </tr>\n",
       "  </thead>\n",
       "  <tbody>\n",
       "    <tr>\n",
       "      <th>0</th>\n",
       "      <td>2024-01-17</td>\n",
       "      <td>unl</td>\n",
       "      <td>Online Distributor</td>\n",
       "      <td>Amazon</td>\n",
       "      <td>Amazon SC</td>\n",
       "      <td>50ct Pouch - Dark Choc Bites</td>\n",
       "      <td>1.0</td>\n",
       "      <td>34.9875</td>\n",
       "      <td>46.65</td>\n",
       "      <td>January</td>\n",
       "      <td>2024</td>\n",
       "    </tr>\n",
       "    <tr>\n",
       "      <th>1</th>\n",
       "      <td>2024-01-17</td>\n",
       "      <td>unl</td>\n",
       "      <td>Online Distributor</td>\n",
       "      <td>Amazon</td>\n",
       "      <td>Amazon SC</td>\n",
       "      <td>50ct Pouch - Mint Choc Bites</td>\n",
       "      <td>1.0</td>\n",
       "      <td>34.9875</td>\n",
       "      <td>46.65</td>\n",
       "      <td>January</td>\n",
       "      <td>2024</td>\n",
       "    </tr>\n",
       "    <tr>\n",
       "      <th>2</th>\n",
       "      <td>2024-01-17</td>\n",
       "      <td>unl</td>\n",
       "      <td>Online Distributor</td>\n",
       "      <td>Amazon</td>\n",
       "      <td>Amazon SC</td>\n",
       "      <td>50ct Pouch - Dark Choc Bites</td>\n",
       "      <td>1.0</td>\n",
       "      <td>34.9875</td>\n",
       "      <td>46.65</td>\n",
       "      <td>January</td>\n",
       "      <td>2024</td>\n",
       "    </tr>\n",
       "    <tr>\n",
       "      <th>3</th>\n",
       "      <td>2024-01-17</td>\n",
       "      <td>dot</td>\n",
       "      <td>Alternate Retail</td>\n",
       "      <td>Vistar Retail</td>\n",
       "      <td>VISTAR-RETAIL CENTRAL</td>\n",
       "      <td>AWAKE CHOCOLATE AWAKE CAFF MILK CHOC- 6X12PK M...</td>\n",
       "      <td>13.0</td>\n",
       "      <td>1112.02</td>\n",
       "      <td>1478.99</td>\n",
       "      <td>January</td>\n",
       "      <td>2024</td>\n",
       "    </tr>\n",
       "    <tr>\n",
       "      <th>4</th>\n",
       "      <td>2024-01-17</td>\n",
       "      <td>unl</td>\n",
       "      <td>Online Distributor</td>\n",
       "      <td>Amazon</td>\n",
       "      <td>Amazon SC</td>\n",
       "      <td>50ct Pouch - Dark Choc Bites</td>\n",
       "      <td>1.0</td>\n",
       "      <td>34.9875</td>\n",
       "      <td>46.65</td>\n",
       "      <td>January</td>\n",
       "      <td>2024</td>\n",
       "    </tr>\n",
       "  </tbody>\n",
       "</table>\n",
       "</div>"
      ],
      "text/plain": [
       "         date sale_origin      market_segment parent_customer  \\\n",
       "0  2024-01-17         unl  Online Distributor          Amazon   \n",
       "1  2024-01-17         unl  Online Distributor          Amazon   \n",
       "2  2024-01-17         unl  Online Distributor          Amazon   \n",
       "3  2024-01-17         dot    Alternate Retail   Vistar Retail   \n",
       "4  2024-01-17         unl  Online Distributor          Amazon   \n",
       "\n",
       "                customer                                               item  \\\n",
       "0              Amazon SC                       50ct Pouch - Dark Choc Bites   \n",
       "1              Amazon SC                       50ct Pouch - Mint Choc Bites   \n",
       "2              Amazon SC                       50ct Pouch - Dark Choc Bites   \n",
       "3  VISTAR-RETAIL CENTRAL  AWAKE CHOCOLATE AWAKE CAFF MILK CHOC- 6X12PK M...   \n",
       "4              Amazon SC                       50ct Pouch - Dark Choc Bites   \n",
       "\n",
       "    qty      usd      cad    month  year  \n",
       "0   1.0  34.9875    46.65  January  2024  \n",
       "1   1.0  34.9875    46.65  January  2024  \n",
       "2   1.0  34.9875    46.65  January  2024  \n",
       "3  13.0  1112.02  1478.99  January  2024  \n",
       "4   1.0  34.9875    46.65  January  2024  "
      ]
     },
     "execution_count": 128,
     "metadata": {},
     "output_type": "execute_result"
    }
   ],
   "source": [
    "def get_data_from_csv():\n",
    "    df = pd.read_sql(\"\"\"\n",
    "            SELECT * \n",
    "            FROM level_2\n",
    "            WHERE year > '2020';\n",
    "            \"\"\"\n",
    "            ,con = engine)\n",
    "    return df\n",
    "df = get_data_from_csv()\n",
    "\n",
    "### MASTER DATA ###\n",
    "all_sales = df.copy()\n",
    "all_sales = all_sales.convert_dtypes()\n",
    "\n",
    "all_sales.head()"
   ]
  },
  {
   "cell_type": "code",
   "execution_count": null,
   "metadata": {},
   "outputs": [],
   "source": [
    "segment = st.sidebar.multiselect(\n",
    "    label='Market Segment',\n",
    "    options=all_sales['market_segment'].unique().to_list(),\n",
    "    default=all_sales['market_segment'].unique().to_list(),\n",
    ")"
   ]
  },
  {
   "cell_type": "code",
   "execution_count": 132,
   "metadata": {},
   "outputs": [
    {
     "data": {
      "text/plain": [
       "Index(['date', 'sale_origin', 'market_segment', 'parent_customer', 'customer',\n",
       "       'item', 'qty', 'usd', 'cad', 'month', 'year'],\n",
       "      dtype='object')"
      ]
     },
     "execution_count": 132,
     "metadata": {},
     "output_type": "execute_result"
    }
   ],
   "source": [
    "all_sales.columns"
   ]
  },
  {
   "cell_type": "code",
   "execution_count": 130,
   "metadata": {},
   "outputs": [
    {
     "name": "stdout",
     "output_type": "stream",
     "text": [
      "<class 'pandas.core.frame.DataFrame'>\n",
      "RangeIndex: 144287 entries, 0 to 144286\n",
      "Data columns (total 11 columns):\n",
      " #   Column           Non-Null Count   Dtype         \n",
      "---  ------           --------------   -----         \n",
      " 0   date             144287 non-null  datetime64[ns]\n",
      " 1   sale_origin      144287 non-null  string        \n",
      " 2   market_segment   144287 non-null  string        \n",
      " 3   parent_customer  144287 non-null  string        \n",
      " 4   customer         144287 non-null  string        \n",
      " 5   item             144287 non-null  string        \n",
      " 6   qty              144287 non-null  Float64       \n",
      " 7   usd              144287 non-null  Float64       \n",
      " 8   cad              144287 non-null  Float64       \n",
      " 9   month            144287 non-null  string        \n",
      " 10  year             144287 non-null  Int64         \n",
      "dtypes: Float64(3), Int64(1), datetime64[ns](1), string(6)\n",
      "memory usage: 12.7 MB\n"
     ]
    }
   ],
   "source": [
    "all_sales['date'] = pd.to_datetime(all_sales['date'])\n",
    "all_sales['date'] = all_sales['date'].dt.normalize()\n",
    "all_sales['date'] = all_sales['date'].dt.floor('D')\n",
    "all_sales.info()"
   ]
  },
  {
   "cell_type": "code",
   "execution_count": 84,
   "metadata": {},
   "outputs": [],
   "source": [
    "samples_23 = int(all_sales[(all_sales.date.dt.year==2023) & (all_sales.market_segment=='Samples')]['qty'].sum())\n",
    "samples_22 = int(all_sales[(all_sales.date.dt.year==2022) & (all_sales.market_segment=='Samples')]['qty'].sum())\n",
    "yoy_samples = int(samples_23-samples_22)\n",
    "yoy_samples_perc = round(int(samples_23-samples_22)/samples_22,2)"
   ]
  },
  {
   "cell_type": "code",
   "execution_count": 90,
   "metadata": {},
   "outputs": [
    {
     "data": {
      "text/plain": [
       "-0.4"
      ]
     },
     "execution_count": 90,
     "metadata": {},
     "output_type": "execute_result"
    }
   ],
   "source": [
    "yoy_samples_perc"
   ]
  },
  {
   "cell_type": "code",
   "execution_count": 37,
   "metadata": {},
   "outputs": [],
   "source": [
    "online_23 = all_sales[(all_sales['year'] == 2023) & (all_sales['market_segment'] == 'Online Direct') | (all_sales['market_segment'] == 'Online Distributor')].usd.sum()\n",
    "# online_22 = all_sales[(all_sales['year'] == 2022) & (all_sales['market_segment'] == 'Online Direct') | (all_sales['market_segment'] == 'Online Distributor')].usd.sum()\n",
    "# yoy_online = int(online_23-online_22)\n",
    "# yoy_online_perc = round(int(online_23-online_22) / online_22,2)"
   ]
  },
  {
   "cell_type": "code",
   "execution_count": 74,
   "metadata": {},
   "outputs": [
    {
     "data": {
      "text/plain": [
       "2260971"
      ]
     },
     "execution_count": 74,
     "metadata": {},
     "output_type": "execute_result"
    }
   ],
   "source": [
    "online = all_sales[(all_sales.market_segment == 'Online Direct') | (all_sales.market_segment=='Online Distributor')]\n",
    "online_23 = int(online[online.date.dt.year==2023].usd.sum())"
   ]
  },
  {
   "cell_type": "code",
   "execution_count": 58,
   "metadata": {},
   "outputs": [
    {
     "data": {
      "text/html": [
       "<div>\n",
       "<style scoped>\n",
       "    .dataframe tbody tr th:only-of-type {\n",
       "        vertical-align: middle;\n",
       "    }\n",
       "\n",
       "    .dataframe tbody tr th {\n",
       "        vertical-align: top;\n",
       "    }\n",
       "\n",
       "    .dataframe thead th {\n",
       "        text-align: right;\n",
       "    }\n",
       "</style>\n",
       "<table border=\"1\" class=\"dataframe\">\n",
       "  <thead>\n",
       "    <tr style=\"text-align: right;\">\n",
       "      <th></th>\n",
       "      <th>market_segment</th>\n",
       "      <th>year</th>\n",
       "      <th>usd</th>\n",
       "    </tr>\n",
       "  </thead>\n",
       "  <tbody>\n",
       "    <tr>\n",
       "      <th>0</th>\n",
       "      <td>Online Direct</td>\n",
       "      <td>2018</td>\n",
       "      <td>265651.3425</td>\n",
       "    </tr>\n",
       "    <tr>\n",
       "      <th>1</th>\n",
       "      <td>Online Direct</td>\n",
       "      <td>2019</td>\n",
       "      <td>315065.67</td>\n",
       "    </tr>\n",
       "    <tr>\n",
       "      <th>2</th>\n",
       "      <td>Online Direct</td>\n",
       "      <td>2020</td>\n",
       "      <td>510627.6</td>\n",
       "    </tr>\n",
       "    <tr>\n",
       "      <th>3</th>\n",
       "      <td>Online Direct</td>\n",
       "      <td>2021</td>\n",
       "      <td>284134.4025</td>\n",
       "    </tr>\n",
       "    <tr>\n",
       "      <th>4</th>\n",
       "      <td>Online Direct</td>\n",
       "      <td>2022</td>\n",
       "      <td>67980.2175</td>\n",
       "    </tr>\n",
       "    <tr>\n",
       "      <th>5</th>\n",
       "      <td>Online Direct</td>\n",
       "      <td>2023</td>\n",
       "      <td>50653.665</td>\n",
       "    </tr>\n",
       "    <tr>\n",
       "      <th>6</th>\n",
       "      <td>Online Direct</td>\n",
       "      <td>2024</td>\n",
       "      <td>955.3725</td>\n",
       "    </tr>\n",
       "    <tr>\n",
       "      <th>7</th>\n",
       "      <td>Online Distributor</td>\n",
       "      <td>2018</td>\n",
       "      <td>489535.9951</td>\n",
       "    </tr>\n",
       "    <tr>\n",
       "      <th>8</th>\n",
       "      <td>Online Distributor</td>\n",
       "      <td>2019</td>\n",
       "      <td>654521.051</td>\n",
       "    </tr>\n",
       "    <tr>\n",
       "      <th>9</th>\n",
       "      <td>Online Distributor</td>\n",
       "      <td>2020</td>\n",
       "      <td>742274.48</td>\n",
       "    </tr>\n",
       "    <tr>\n",
       "      <th>10</th>\n",
       "      <td>Online Distributor</td>\n",
       "      <td>2021</td>\n",
       "      <td>930362.601</td>\n",
       "    </tr>\n",
       "    <tr>\n",
       "      <th>11</th>\n",
       "      <td>Online Distributor</td>\n",
       "      <td>2022</td>\n",
       "      <td>1770269.023</td>\n",
       "    </tr>\n",
       "    <tr>\n",
       "      <th>12</th>\n",
       "      <td>Online Distributor</td>\n",
       "      <td>2023</td>\n",
       "      <td>2210317.3875</td>\n",
       "    </tr>\n",
       "    <tr>\n",
       "      <th>13</th>\n",
       "      <td>Online Distributor</td>\n",
       "      <td>2024</td>\n",
       "      <td>10847.265</td>\n",
       "    </tr>\n",
       "  </tbody>\n",
       "</table>\n",
       "</div>"
      ],
      "text/plain": [
       "        market_segment  year           usd\n",
       "0        Online Direct  2018   265651.3425\n",
       "1        Online Direct  2019     315065.67\n",
       "2        Online Direct  2020      510627.6\n",
       "3        Online Direct  2021   284134.4025\n",
       "4        Online Direct  2022    67980.2175\n",
       "5        Online Direct  2023     50653.665\n",
       "6        Online Direct  2024      955.3725\n",
       "7   Online Distributor  2018   489535.9951\n",
       "8   Online Distributor  2019    654521.051\n",
       "9   Online Distributor  2020     742274.48\n",
       "10  Online Distributor  2021    930362.601\n",
       "11  Online Distributor  2022   1770269.023\n",
       "12  Online Distributor  2023  2210317.3875\n",
       "13  Online Distributor  2024     10847.265"
      ]
     },
     "execution_count": 58,
     "metadata": {},
     "output_type": "execute_result"
    }
   ],
   "source": [
    "all_sales[(all_sales['market_segment'] == 'Online Direct') | (all_sales['market_segment'] == 'Online Distributor')].groupby(['market_segment','year'],as_index=False)['usd'].sum()"
   ]
  },
  {
   "cell_type": "code",
   "execution_count": 37,
   "metadata": {},
   "outputs": [
    {
     "data": {
      "text/plain": [
       "9614740"
      ]
     },
     "execution_count": 37,
     "metadata": {},
     "output_type": "execute_result"
    }
   ],
   "source": [
    "\n",
    "\n",
    "# invoice date cleanup\n",
    "all_sales['date'] = pd.to_datetime(all_sales['date'])\n",
    "all_sales['date'] = all_sales['date'].dt.normalize()\n",
    "all_sales['date'] = all_sales['date'].dt.floor('D')\n",
    "all_sales.sort_values(by='usd',ascending=False,inplace=True)\n",
    "\n",
    "sales_23 = int(all_sales[all_sales['date'].dt.year == 2023].usd.sum())\n",
    "sales_23"
   ]
  },
  {
   "cell_type": "code",
   "execution_count": null,
   "metadata": {},
   "outputs": [],
   "source": []
  }
 ],
 "metadata": {
  "kernelspec": {
   "display_name": "Python 3 (ipykernel)",
   "language": "python",
   "name": "python3"
  },
  "language_info": {
   "codemirror_mode": {
    "name": "ipython",
    "version": 3
   },
   "file_extension": ".py",
   "mimetype": "text/x-python",
   "name": "python",
   "nbconvert_exporter": "python",
   "pygments_lexer": "ipython3",
   "version": "3.11.5"
  }
 },
 "nbformat": 4,
 "nbformat_minor": 2
}
