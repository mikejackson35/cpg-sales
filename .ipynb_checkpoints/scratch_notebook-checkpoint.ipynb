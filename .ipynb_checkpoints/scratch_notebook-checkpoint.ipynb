{
 "cells": [
  {
   "cell_type": "code",
   "execution_count": 41,
   "id": "4e8d358a",
   "metadata": {},
   "outputs": [],
   "source": [
    "\n",
    "import pandas as pd\n",
    "import plotly.express as px\n",
    "import altair as alt\n",
    "# from sqlalchemy import create_engine\n",
    "# import secrets\n",
    "import numpy as np\n",
    "from datetime import datetime"
   ]
  },
  {
   "cell_type": "code",
   "execution_count": 42,
   "id": "72ca0f11",
   "metadata": {},
   "outputs": [],
   "source": [
    "df = pd.read_csv(r\"data/all_sales_data.csv\")\n",
    "# ### MASTER DATA ###\n",
    "all_sales = df.copy()\n",
    "\n",
    "all_sales = all_sales[all_sales.market_segment != 'Samples']\n",
    "\n",
    "# invoice date cleanup\n",
    "all_sales['date'] = pd.to_datetime(all_sales['date'])\n",
    "all_sales['date'] = all_sales['date'].dt.normalize()\n",
    "all_sales['date'] = all_sales['date'].dt.floor('D')"
   ]
  },
  {
   "cell_type": "code",
   "execution_count": 43,
   "id": "7aa63709",
   "metadata": {},
   "outputs": [],
   "source": [
    "# current_date = datetime.today.strftime('%Y-%m-%d')\n",
    "# # import datetime\n",
    "# year_ago_today = datetime.today - datetime.timedelta(days=365)\n",
    "# # year_ago_today.strftime('%Y-%m-%d')\n",
    "\n",
    "# # ---- TOP KPI's Row ----\n",
    "# sales_24 = int(all_sales[(all_sales['date'] > '2023-12-31') & (all_sales['date'] < current_date)].usd.sum())\n",
    "# sales_23 = int(all_sales[(all_sales['date'] > '2022-12-31') & (all_sales['date'].dt.date < year_ago_today.date())].usd.sum())\n",
    "# delta = sales_24 - sales_23\n",
    "\n",
    "df_selection = all_sales.copy()"
   ]
  },
  {
   "cell_type": "code",
   "execution_count": null,
   "id": "e73bd287",
   "metadata": {},
   "outputs": [],
   "source": [
    "# print(sales_23)\n",
    "# print(sales_24)\n",
    "# print(current_date)\n",
    "# print(year_ago_today)\n",
    "# print(datetime.datetime.today())"
   ]
  },
  {
   "cell_type": "code",
   "execution_count": null,
   "id": "f2ab71ab",
   "metadata": {},
   "outputs": [],
   "source": [
    "############\n",
    "\n",
    "market_segment_color = {\n",
    "    'Vending': 'rgb(56,149,73)',\n",
    "    'Grocery': 'rgb(248,184,230)',\n",
    "    'Alternate Retail': 'rgb(46,70,166)',\n",
    "    'Canada': 'rgb(204,208,221)',\n",
    "    'Online': 'rgb(106,87,63)',\n",
    "    'Other': 'rgb(200,237,233)',\n",
    "    'Convenience': 'rgb(233,81,46)',\n",
    "    'Broadline Distributor': 'rgb(233,152,19)',\n",
    "    'Samples': 'rgb(141,62,92)'}"
   ]
  },
  {
   "cell_type": "code",
   "execution_count": null,
   "id": "5ccb82e6",
   "metadata": {},
   "outputs": [],
   "source": [
    "# segment pie chart\n",
    "\n",
    "seg_sales = round(df_selection.groupby('market_segment',as_index=False)['usd'].sum()).sort_values(by='market_segment',ascending=False)\n",
    "\n",
    "fig_seg_sales = px.pie(\n",
    "    seg_sales, \n",
    "    values='usd', \n",
    "    names='market_segment',\n",
    "    template = 'simple_white',\n",
    "    title=' ',\n",
    "    opacity = .8,\n",
    "    hole=.33,\n",
    "    hover_data = ['market_segment'],\n",
    "    color='market_segment',\n",
    "    color_discrete_map=market_segment_color).update_layout(autosize=False,width=450,height=450,showlegend=False)\n",
    "fig_seg_sales.update_traces(textposition='inside', textinfo='percent+label', texttemplate='%{label}<br>%{percent:.0%}')#'{percent:.0%}')\n",
    "fig_seg_sales.show()"
   ]
  },
  {
   "cell_type": "code",
   "execution_count": null,
   "id": "19ea2720",
   "metadata": {},
   "outputs": [],
   "source": [
    "# df_selection = df_selection.reset_index(drop=True)\n",
    "df_selection.head(3)"
   ]
  },
  {
   "cell_type": "code",
   "execution_count": null,
   "id": "92e85694",
   "metadata": {},
   "outputs": [],
   "source": [
    "# df_selection.index = pd.to_datetime(df_selection['date'],format = '%m/%d/%y')\n",
    "# mth_sales = round(df_selection.groupby(pd.Grouper(freq='M'))['usd'].sum())"
   ]
  },
  {
   "cell_type": "code",
   "execution_count": null,
   "id": "3ff6db79",
   "metadata": {},
   "outputs": [],
   "source": [
    "df = pd.DataFrame(df_selection.groupby(['date','parent_customer'])['usd'].sum()).sort_values('date',ascending=False).reset_index().set_index('date')\n",
    "df#.sort_values('date',ascending=False)#.reset_index(drop=True)"
   ]
  },
  {
   "cell_type": "code",
   "execution_count": null,
   "id": "77baf449",
   "metadata": {},
   "outputs": [],
   "source": [
    "df_selection.index = pd.to_datetime(df_selection['date'],format = '%y/%m/%d')\n",
    "\n",
    "sales_per_week = df_selection.groupby(pd.Grouper(freq='W'))['usd'].sum()"
   ]
  },
  {
   "cell_type": "code",
   "execution_count": null,
   "id": "23ce4552",
   "metadata": {},
   "outputs": [],
   "source": [
    "sales_per_week"
   ]
  },
  {
   "cell_type": "code",
   "execution_count": null,
   "id": "7e4941a3",
   "metadata": {},
   "outputs": [],
   "source": [
    "#all sales weekly scatter\n",
    "fig_scatter_all = px.scatter(\n",
    "    round(sales_per_week),\n",
    "    x=sales_per_week.index,\n",
    "    y='usd',\n",
    "    title='<b>Weekly Sales</b>',\n",
    "    template = 'presentation',\n",
    "    labels={'date':'',\n",
    "            'usd':'<b>$USD</b>'},\n",
    "    height=425,\n",
    "    size='usd',\n",
    "    size_max=15,\n",
    "    color='usd',\n",
    "    color_continuous_scale=px.colors.sequential.Oranges,\n",
    "    trendline=\"rolling\", trendline_options=dict(function=\"mean\", window=10), trendline_scope=\"overall\", trendline_color_override=\"black\"\n",
    ")\n",
    "\n",
    "fig_scatter_all.update_coloraxes(showscale=False)\n",
    "fig_scatter_all.update_yaxes(gridcolor='lightgray')\n",
    "\n",
    "fig_scatter_all.update_layout(\n",
    "    title_x=0.4,\n",
    "    hovermode='x unified',\n",
    "    legend=dict(\n",
    "        yanchor=\"top\",\n",
    "        y=0.99,\n",
    "        xanchor=\"left\",\n",
    "        x=0.01,\n",
    "        # title = '10 Week Moving Average'\n",
    "    )\n",
    ")\n",
    "\n",
    "fig_scatter_all.update_traces(\n",
    "    hovertemplate=\n",
    "    \"Sales: <b>%{y:$,.0f}\")\n",
    "\n",
    "fig_scatter_all.show()"
   ]
  },
  {
   "cell_type": "code",
   "execution_count": null,
   "id": "9ddad2dd",
   "metadata": {},
   "outputs": [],
   "source": [
    "df_selection.info()"
   ]
  },
  {
   "cell_type": "code",
   "execution_count": null,
   "id": "17c8481b",
   "metadata": {},
   "outputs": [],
   "source": [
    "# round(scatter_df\n",
    "#  .usd\n",
    "#  .loc['2021':]\n",
    "#  .resample('W')\n",
    "#  .mean()\n",
    "# )"
   ]
  },
  {
   "cell_type": "code",
   "execution_count": null,
   "id": "c2613456",
   "metadata": {},
   "outputs": [],
   "source": [
    "# scatter_df = scatter_df.reset_index().groupby(['market_segment','date'],as_index=False)['usd'].sum().set_index('date')\n",
    "# scatter_df.head(3)"
   ]
  },
  {
   "cell_type": "code",
   "execution_count": null,
   "id": "cd5953ab",
   "metadata": {},
   "outputs": [],
   "source": [
    "def make_daily_bar_df(df_selection):\n",
    "    return (\n",
    "        df_selection.dropna()\n",
    "        .assign(new_date=pd.to_datetime(df_selection['date']))\n",
    "        .drop(columns=['cad','month','year','date'])\n",
    "        .rename(columns={'new_date':'date'})\n",
    "        .groupby(['market_segment','date'],as_index=False)\n",
    "        .sum()\n",
    "        .set_index('date')\n",
    "        .sort_index()\n",
    "    )\n",
    "\n",
    "daily_bar_df = make_daily_bar_df(df_selection)"
   ]
  },
  {
   "cell_type": "code",
   "execution_count": null,
   "id": "d33c96fb",
   "metadata": {},
   "outputs": [],
   "source": [
    "def make_daily_bar_df(df_selection):\n",
    "    return (\n",
    "        df_selection.dropna()\n",
    "        .assign(new_date=pd.to_datetime(df_selection['date']))\n",
    "        .drop(columns=['cad','month','year','date'])\n",
    "        .rename(columns={'new_date':'date'})\n",
    "        .groupby(['market_segment','date'],as_index=False)\n",
    "        .sum()\n",
    "        .set_index('date')\n",
    "        .sort_index()\n",
    "    )\n",
    "\n",
    "daily_bar_df = make_daily_bar_df(df_selection)\n",
    "\n",
    "week_ago = datetime.today().date() - pd.offsets.Day(8)\n",
    "daily_bar_df = daily_bar_df[daily_bar_df.index > week_ago].sort_index()\n",
    "\n",
    "\n",
    "px.scatter(daily_bar_df,\n",
    "           x='usd',\n",
    "           color='market_segment',\n",
    "           color_discrete_map=market_segment_color,\n",
    "           labels={'date':\"\", 'usd':'Daily Sales'},\n",
    "           hover_name=daily_bar_df.loc['2024/1/23':].index.date,\n",
    "           height=800,\n",
    "           width=500\n",
    "          ).update_traces(marker_size=25)"
   ]
  },
  {
   "cell_type": "code",
   "execution_count": 15,
   "id": "f15fec92",
   "metadata": {},
   "outputs": [
    {
     "name": "stderr",
     "output_type": "stream",
     "text": [
      "C:\\Users\\mikej\\AppData\\Local\\Temp\\ipykernel_93268\\2768862726.py:8: FutureWarning: The default value of numeric_only in DataFrameGroupBy.sum is deprecated. In a future version, numeric_only will default to False. Either specify numeric_only or select only columns which should be valid for the function.\n",
      "  .sum()\n"
     ]
    }
   ],
   "source": [
    "def make_daily_bar_df(df_selection):\n",
    "    return (\n",
    "        df_selection.dropna()\n",
    "        .assign(new_date=pd.to_datetime(df_selection['date']))\n",
    "        .drop(columns=['cad','month','year','date'])\n",
    "        .rename(columns={'new_date':'date'})\n",
    "        .groupby(['market_segment','date'],as_index=False)\n",
    "        .sum()\n",
    "        .set_index('date')\n",
    "        .sort_index()\n",
    "    )\n",
    "\n",
    "daily_bar_df = make_daily_bar_df(df_selection)\n",
    "\n",
    "week_ago = datetime.today().date() - pd.offsets.Day(15)\n",
    "daily_bar_df = daily_bar_df[daily_bar_df.index > week_ago].sort_index()"
   ]
  },
  {
   "cell_type": "code",
   "execution_count": 39,
   "id": "2f498f12",
   "metadata": {},
   "outputs": [],
   "source": [
    "daily = pd.DataFrame(daily_bar_df.groupby('date')['usd'].sum()).sort_index(ascending=False)\n",
    "last10 = round(daily).usd.values#.sort_values('date',ascending=False)"
   ]
  },
  {
   "cell_type": "code",
   "execution_count": 40,
   "id": "4d014bf5",
   "metadata": {},
   "outputs": [
    {
     "data": {
      "text/plain": [
       "array([145711.,  67524.,  35374.,  32857.,  26417.,  30640.,  27740.,\n",
       "        24112.,  31079.,  20633.])"
      ]
     },
     "execution_count": 40,
     "metadata": {},
     "output_type": "execute_result"
    }
   ],
   "source": [
    "last10"
   ]
  },
  {
   "cell_type": "code",
   "execution_count": null,
   "id": "b6cd3047",
   "metadata": {},
   "outputs": [],
   "source": []
  }
 ],
 "metadata": {
  "kernelspec": {
   "display_name": "Python 3 (ipykernel)",
   "language": "python",
   "name": "python3"
  },
  "language_info": {
   "codemirror_mode": {
    "name": "ipython",
    "version": 3
   },
   "file_extension": ".py",
   "mimetype": "text/x-python",
   "name": "python",
   "nbconvert_exporter": "python",
   "pygments_lexer": "ipython3",
   "version": "3.11.5"
  }
 },
 "nbformat": 4,
 "nbformat_minor": 5
}
